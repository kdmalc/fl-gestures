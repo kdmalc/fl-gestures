{
 "cells": [
  {
   "cell_type": "code",
   "execution_count": 1,
   "id": "c1ef1e63-343c-4d55-ad97-cf3cabb3fc2e",
   "metadata": {},
   "outputs": [],
   "source": [
    "import torch\n",
    "import torch.nn as nn\n",
    "import torch.optim as optim\n",
    "from torch.utils.data import Dataset, DataLoader\n",
    "from sklearn.model_selection import ParameterGrid\n",
    "\n",
    "import pandas as pd\n",
    "import numpy as np\n",
    "import matplotlib.pyplot as plt\n",
    "\n",
    "from utils.ae_torch_classes import *"
   ]
  },
  {
   "cell_type": "markdown",
   "id": "347da32c-36cc-49e0-80cd-e5b456561a30",
   "metadata": {},
   "source": [
    "# Load in Data"
   ]
  },
  {
   "cell_type": "code",
   "execution_count": 2,
   "id": "647a91a5-4d27-485f-8ed0-db92218ccb45",
   "metadata": {},
   "outputs": [
    {
     "name": "stdout",
     "output_type": "stream",
     "text": [
      "Loading\n"
     ]
    }
   ],
   "source": [
    "# Kai's laptop\n",
    "#data_path = \n",
    "#metadata_cols_df = pd.read_pickle('C:\\\\Users\\\\kdmen\\\\Desktop\\\\Research\\\\Data\\\\$M\\\\metadata_cols_df.pkl')\n",
    "# BRC Desktop\n",
    "data_path = \"D:\\\\Kai_MetaGestureClustering_24\\\\saved_datasets\\\\filtered_datasets\\\\Both_PPD\\\\\"\n",
    "metadata_cols_df = pd.read_pickle('D:\\\\Kai_MetaGestureClustering_24\\\\saved_datasets\\\\metadata_cols_df.pkl')\n",
    "\n",
    "print(\"Loading\")\n",
    "\n",
    "metadata_cols = ['Participant', 'Gesture_ID', 'Gesture_Num']\n",
    "\n",
    "# Dropping the metadata when we read it in!\n",
    "training_u_df = pd.read_pickle(data_path+'training_users_df.pkl').drop(metadata_cols, axis=1)\n",
    "test_users_df = pd.read_pickle(data_path+'test_users_df.pkl').drop(metadata_cols, axis=1)"
   ]
  },
  {
   "cell_type": "code",
   "execution_count": 3,
   "id": "7c0430ab-dd10-48ee-b823-b5a91d36b3fa",
   "metadata": {},
   "outputs": [
    {
     "name": "stdout",
     "output_type": "stream",
     "text": [
      "(160000, 88)\n"
     ]
    },
    {
     "data": {
      "text/html": [
       "<div>\n",
       "<style scoped>\n",
       "    .dataframe tbody tr th:only-of-type {\n",
       "        vertical-align: middle;\n",
       "    }\n",
       "\n",
       "    .dataframe tbody tr th {\n",
       "        vertical-align: top;\n",
       "    }\n",
       "\n",
       "    .dataframe thead th {\n",
       "        text-align: right;\n",
       "    }\n",
       "</style>\n",
       "<table border=\"1\" class=\"dataframe\">\n",
       "  <thead>\n",
       "    <tr style=\"text-align: right;\">\n",
       "      <th></th>\n",
       "      <th>IMU1_ax</th>\n",
       "      <th>IMU1_ay</th>\n",
       "      <th>IMU1_az</th>\n",
       "      <th>IMU1_vx</th>\n",
       "      <th>IMU1_vy</th>\n",
       "      <th>IMU1_vz</th>\n",
       "      <th>IMU2_ax</th>\n",
       "      <th>IMU2_ay</th>\n",
       "      <th>IMU2_az</th>\n",
       "      <th>IMU2_vx</th>\n",
       "      <th>...</th>\n",
       "      <th>EMG7</th>\n",
       "      <th>EMG8</th>\n",
       "      <th>EMG9</th>\n",
       "      <th>EMG10</th>\n",
       "      <th>EMG11</th>\n",
       "      <th>EMG12</th>\n",
       "      <th>EMG13</th>\n",
       "      <th>EMG14</th>\n",
       "      <th>EMG15</th>\n",
       "      <th>EMG16</th>\n",
       "    </tr>\n",
       "  </thead>\n",
       "  <tbody>\n",
       "    <tr>\n",
       "      <th>0</th>\n",
       "      <td>-0.551109</td>\n",
       "      <td>-0.738972</td>\n",
       "      <td>-0.985439</td>\n",
       "      <td>0.181924</td>\n",
       "      <td>0.059616</td>\n",
       "      <td>0.087024</td>\n",
       "      <td>1.055804</td>\n",
       "      <td>-0.883268</td>\n",
       "      <td>-0.327978</td>\n",
       "      <td>-0.221822</td>\n",
       "      <td>...</td>\n",
       "      <td>-0.276292</td>\n",
       "      <td>-0.026736</td>\n",
       "      <td>-0.873870</td>\n",
       "      <td>-1.036152</td>\n",
       "      <td>-0.580930</td>\n",
       "      <td>-0.719494</td>\n",
       "      <td>-0.502255</td>\n",
       "      <td>-1.750091</td>\n",
       "      <td>-0.127847</td>\n",
       "      <td>-0.094192</td>\n",
       "    </tr>\n",
       "    <tr>\n",
       "      <th>1</th>\n",
       "      <td>-0.571115</td>\n",
       "      <td>-0.821726</td>\n",
       "      <td>-0.975036</td>\n",
       "      <td>0.242607</td>\n",
       "      <td>0.067375</td>\n",
       "      <td>-0.024900</td>\n",
       "      <td>1.007074</td>\n",
       "      <td>-0.944195</td>\n",
       "      <td>-0.363602</td>\n",
       "      <td>-0.149833</td>\n",
       "      <td>...</td>\n",
       "      <td>-0.125822</td>\n",
       "      <td>0.089679</td>\n",
       "      <td>-0.816215</td>\n",
       "      <td>-2.082635</td>\n",
       "      <td>-0.006283</td>\n",
       "      <td>-0.139439</td>\n",
       "      <td>-0.367764</td>\n",
       "      <td>-0.208084</td>\n",
       "      <td>-0.111811</td>\n",
       "      <td>-0.039009</td>\n",
       "    </tr>\n",
       "    <tr>\n",
       "      <th>2</th>\n",
       "      <td>-0.509305</td>\n",
       "      <td>-0.823575</td>\n",
       "      <td>-0.947221</td>\n",
       "      <td>0.550111</td>\n",
       "      <td>0.013848</td>\n",
       "      <td>-0.485765</td>\n",
       "      <td>0.993332</td>\n",
       "      <td>-0.944029</td>\n",
       "      <td>-0.357476</td>\n",
       "      <td>-0.164447</td>\n",
       "      <td>...</td>\n",
       "      <td>-0.068451</td>\n",
       "      <td>0.117076</td>\n",
       "      <td>-0.668221</td>\n",
       "      <td>-3.403064</td>\n",
       "      <td>-0.526030</td>\n",
       "      <td>-0.478294</td>\n",
       "      <td>-0.300443</td>\n",
       "      <td>0.203266</td>\n",
       "      <td>0.113300</td>\n",
       "      <td>0.004728</td>\n",
       "    </tr>\n",
       "    <tr>\n",
       "      <th>3</th>\n",
       "      <td>-0.511788</td>\n",
       "      <td>-0.775810</td>\n",
       "      <td>-0.947939</td>\n",
       "      <td>0.417919</td>\n",
       "      <td>0.087222</td>\n",
       "      <td>-0.229441</td>\n",
       "      <td>1.026003</td>\n",
       "      <td>-0.911993</td>\n",
       "      <td>-0.335594</td>\n",
       "      <td>-0.006214</td>\n",
       "      <td>...</td>\n",
       "      <td>-0.058907</td>\n",
       "      <td>0.080977</td>\n",
       "      <td>-0.424416</td>\n",
       "      <td>-3.709413</td>\n",
       "      <td>-0.570894</td>\n",
       "      <td>-0.775155</td>\n",
       "      <td>-0.144710</td>\n",
       "      <td>-0.619539</td>\n",
       "      <td>0.146499</td>\n",
       "      <td>0.199975</td>\n",
       "    </tr>\n",
       "    <tr>\n",
       "      <th>4</th>\n",
       "      <td>-0.441369</td>\n",
       "      <td>-0.921726</td>\n",
       "      <td>-0.882652</td>\n",
       "      <td>1.254970</td>\n",
       "      <td>0.108993</td>\n",
       "      <td>-0.933639</td>\n",
       "      <td>1.001748</td>\n",
       "      <td>-0.939228</td>\n",
       "      <td>-0.357917</td>\n",
       "      <td>0.009543</td>\n",
       "      <td>...</td>\n",
       "      <td>-0.003929</td>\n",
       "      <td>0.041526</td>\n",
       "      <td>-0.016530</td>\n",
       "      <td>-4.075150</td>\n",
       "      <td>-0.127710</td>\n",
       "      <td>2.682791</td>\n",
       "      <td>-0.141750</td>\n",
       "      <td>-0.208404</td>\n",
       "      <td>-0.035642</td>\n",
       "      <td>0.172662</td>\n",
       "    </tr>\n",
       "  </tbody>\n",
       "</table>\n",
       "<p>5 rows × 88 columns</p>\n",
       "</div>"
      ],
      "text/plain": [
       "    IMU1_ax   IMU1_ay   IMU1_az   IMU1_vx   IMU1_vy   IMU1_vz   IMU2_ax   \n",
       "0 -0.551109 -0.738972 -0.985439  0.181924  0.059616  0.087024  1.055804  \\\n",
       "1 -0.571115 -0.821726 -0.975036  0.242607  0.067375 -0.024900  1.007074   \n",
       "2 -0.509305 -0.823575 -0.947221  0.550111  0.013848 -0.485765  0.993332   \n",
       "3 -0.511788 -0.775810 -0.947939  0.417919  0.087222 -0.229441  1.026003   \n",
       "4 -0.441369 -0.921726 -0.882652  1.254970  0.108993 -0.933639  1.001748   \n",
       "\n",
       "    IMU2_ay   IMU2_az   IMU2_vx  ...      EMG7      EMG8      EMG9     EMG10   \n",
       "0 -0.883268 -0.327978 -0.221822  ... -0.276292 -0.026736 -0.873870 -1.036152  \\\n",
       "1 -0.944195 -0.363602 -0.149833  ... -0.125822  0.089679 -0.816215 -2.082635   \n",
       "2 -0.944029 -0.357476 -0.164447  ... -0.068451  0.117076 -0.668221 -3.403064   \n",
       "3 -0.911993 -0.335594 -0.006214  ... -0.058907  0.080977 -0.424416 -3.709413   \n",
       "4 -0.939228 -0.357917  0.009543  ... -0.003929  0.041526 -0.016530 -4.075150   \n",
       "\n",
       "      EMG11     EMG12     EMG13     EMG14     EMG15     EMG16  \n",
       "0 -0.580930 -0.719494 -0.502255 -1.750091 -0.127847 -0.094192  \n",
       "1 -0.006283 -0.139439 -0.367764 -0.208084 -0.111811 -0.039009  \n",
       "2 -0.526030 -0.478294 -0.300443  0.203266  0.113300  0.004728  \n",
       "3 -0.570894 -0.775155 -0.144710 -0.619539  0.146499  0.199975  \n",
       "4 -0.127710  2.682791 -0.141750 -0.208404 -0.035642  0.172662  \n",
       "\n",
       "[5 rows x 88 columns]"
      ]
     },
     "execution_count": 3,
     "metadata": {},
     "output_type": "execute_result"
    }
   ],
   "source": [
    "print(training_u_df.shape)\n",
    "training_u_df.head()"
   ]
  },
  {
   "cell_type": "code",
   "execution_count": 4,
   "id": "cfc04167-5ab8-4ac3-ae19-80b8e1988242",
   "metadata": {},
   "outputs": [],
   "source": [
    "# CREATE THE TRAINING SET\n",
    "num_rows_per_gesture = 64 # From the interp\n",
    "num_gestures = len(training_u_df) // num_rows_per_gesture\n",
    "num_features = training_u_df.shape[1]\n",
    "\n",
    "# Ensure the data can be evenly divided into gestures\n",
    "assert len(training_u_df) % num_rows_per_gesture == 0, \"The total number of rows is not a multiple of the number of rows per gesture.\"\n",
    "\n",
    "# Reshape into (batch_dim, time_step, n_features) AKA (n_gestures, n_rows_per_gesture, n_columns)\n",
    "X_3D_PCA40 = training_u_df.to_numpy().reshape(num_gestures, num_rows_per_gesture, num_features)\n",
    "#flattened_PCA = PCA_np.reshape(num_gestures, -1)\n",
    "\n",
    "# Convert to PyTorch tensor\n",
    "X_3DTensor_PCA40 = torch.tensor(X_3D_PCA40, dtype=torch.float32)\n",
    "\n",
    "# Dummy dataset\n",
    "#data = torch.randn(num_gestures, timesteps, num_features)\n",
    "#dataset = TensorDataset(data)\n",
    "#data_loader = DataLoader(dataset, batch_size=batch_size, shuffle=False)\n",
    "\n",
    "# Create the dataset\n",
    "u_training_dataset = GestureDatasetAE(X_3DTensor_PCA40)\n",
    "\n",
    "batch_size = 32  # Adjust batch size as needed\n",
    "train_loader = DataLoader(u_training_dataset, batch_size=batch_size, shuffle=True) # Should shuffle be False? \n",
    "## It's shuffling the gesture order I think so that should be fine...\n",
    "\n",
    "# CREATE THE TEST SET\n",
    "num_test_gestures = len(test_users_df) // num_rows_per_gesture\n",
    "# Ensure the data can be evenly divided into gestures\n",
    "assert len(test_users_df) % num_rows_per_gesture == 0, \"The total number of rows is not a multiple of the number of rows per gesture.\"\n",
    "\n",
    "# Reshape into (batch_dim, time_step, n_features) AKA (n_gestures, n_rows_per_gesture, n_columns) and convert to torch tensor\n",
    "## Theres probably an easier way to just create it as a torch tensor lol\n",
    "Xtest_3DTensor_PCA40 = torch.tensor(test_users_df.to_numpy().reshape(num_test_gestures, num_rows_per_gesture, num_features), dtype=torch.float32)\n",
    "\n",
    "# Create the dataset\n",
    "u_testing_dataset = GestureDatasetAE(Xtest_3DTensor_PCA40)\n",
    "test_loader = DataLoader(u_testing_dataset, batch_size=batch_size, shuffle=False)"
   ]
  },
  {
   "cell_type": "markdown",
   "id": "ace9b852-4054-443f-a4e9-bdb280c5cc84",
   "metadata": {},
   "source": [
    "# RNN Autoencoder"
   ]
  },
  {
   "cell_type": "code",
   "execution_count": 5,
   "id": "eb18329c",
   "metadata": {},
   "outputs": [],
   "source": [
    "# Example usage\n",
    "input_dim = 40\n",
    "#num_features = 40\n",
    "seq_len = 64\n",
    "#timesteps = 64\n",
    "criterion = nn.MSELoss()\n",
    "num_epochs = 10"
   ]
  },
  {
   "cell_type": "markdown",
   "id": "7cd1d6ba-19f6-44bc-9d4c-d39b716ec2bb",
   "metadata": {},
   "source": [
    "## Manual Grid Search"
   ]
  },
  {
   "cell_type": "code",
   "execution_count": 6,
   "id": "59a5c0e4-20dd-4ca0-943a-ab88d9361cb6",
   "metadata": {},
   "outputs": [
    {
     "name": "stdout",
     "output_type": "stream",
     "text": [
      "Started\n"
     ]
    },
    {
     "ename": "RuntimeError",
     "evalue": "input.size(-1) must be equal to input_size. Expected 40, got 88",
     "output_type": "error",
     "traceback": [
      "\u001b[1;31m---------------------------------------------------------------------------\u001b[0m",
      "\u001b[1;31mRuntimeError\u001b[0m                              Traceback (most recent call last)",
      "Cell \u001b[1;32mIn[6], line 9\u001b[0m\n\u001b[0;32m      6\u001b[0m hidden_dim \u001b[38;5;241m=\u001b[39m \u001b[38;5;241m56\u001b[39m\n\u001b[0;32m      8\u001b[0m \u001b[38;5;66;03m# With progressive halving\u001b[39;00m\n\u001b[1;32m----> 9\u001b[0m model_56_nl3_prog, train_loss_log, test_loss_log \u001b[38;5;241m=\u001b[39m \u001b[43mcreate_and_train_ae_model\u001b[49m\u001b[43m(\u001b[49m\u001b[43minput_dim\u001b[49m\u001b[43m,\u001b[49m\u001b[43m \u001b[49m\u001b[43mhidden_dim\u001b[49m\u001b[43m,\u001b[49m\u001b[43m \u001b[49m\u001b[43mnum_layers\u001b[49m\u001b[43m,\u001b[49m\u001b[43m \u001b[49m\u001b[43mtrain_loader\u001b[49m\u001b[43m,\u001b[49m\u001b[43m \u001b[49m\u001b[43mtest_loader\u001b[49m\u001b[43m,\u001b[49m\u001b[43m \u001b[49m\u001b[43mprogressive_bool\u001b[49m\u001b[38;5;241;43m=\u001b[39;49m\u001b[38;5;28;43;01mTrue\u001b[39;49;00m\u001b[43m,\u001b[49m\u001b[43m \u001b[49m\u001b[43mae_class_obj\u001b[49m\u001b[38;5;241;43m=\u001b[39;49m\u001b[43mRNNAutoencoder\u001b[49m\u001b[43m)\u001b[49m\n",
      "File \u001b[1;32m~\\Desktop\\Dev\\fl-gestures\\utils\\ae_torch_classes.py:145\u001b[0m, in \u001b[0;36mcreate_and_train_ae_model\u001b[1;34m(input_dim, hidden_dim_lst, num_layers, train_loader, val_loader, mirror_bool, progressive_bool, ae_class_obj, seq_len, num_epochs, verbose, plot_loss, learning_rate, fig_size)\u001b[0m\n\u001b[0;32m    143\u001b[0m \u001b[38;5;28;01mfor\u001b[39;00m batch \u001b[38;5;129;01min\u001b[39;00m train_loader:\n\u001b[0;32m    144\u001b[0m     optimizer\u001b[38;5;241m.\u001b[39mzero_grad()\n\u001b[1;32m--> 145\u001b[0m     output \u001b[38;5;241m=\u001b[39m \u001b[43mmodel\u001b[49m\u001b[43m(\u001b[49m\u001b[43mbatch\u001b[49m\u001b[43m)\u001b[49m\n\u001b[0;32m    146\u001b[0m     loss \u001b[38;5;241m=\u001b[39m criterion(output, batch)\n\u001b[0;32m    147\u001b[0m     train_loss \u001b[38;5;241m+\u001b[39m\u001b[38;5;241m=\u001b[39m loss\u001b[38;5;241m.\u001b[39mitem()\n",
      "File \u001b[1;32m~\\anaconda3\\envs\\fl_torch_sum24\\lib\\site-packages\\torch\\nn\\modules\\module.py:1130\u001b[0m, in \u001b[0;36mModule._call_impl\u001b[1;34m(self, *input, **kwargs)\u001b[0m\n\u001b[0;32m   1126\u001b[0m \u001b[38;5;66;03m# If we don't have any hooks, we want to skip the rest of the logic in\u001b[39;00m\n\u001b[0;32m   1127\u001b[0m \u001b[38;5;66;03m# this function, and just call forward.\u001b[39;00m\n\u001b[0;32m   1128\u001b[0m \u001b[38;5;28;01mif\u001b[39;00m \u001b[38;5;129;01mnot\u001b[39;00m (\u001b[38;5;28mself\u001b[39m\u001b[38;5;241m.\u001b[39m_backward_hooks \u001b[38;5;129;01mor\u001b[39;00m \u001b[38;5;28mself\u001b[39m\u001b[38;5;241m.\u001b[39m_forward_hooks \u001b[38;5;129;01mor\u001b[39;00m \u001b[38;5;28mself\u001b[39m\u001b[38;5;241m.\u001b[39m_forward_pre_hooks \u001b[38;5;129;01mor\u001b[39;00m _global_backward_hooks\n\u001b[0;32m   1129\u001b[0m         \u001b[38;5;129;01mor\u001b[39;00m _global_forward_hooks \u001b[38;5;129;01mor\u001b[39;00m _global_forward_pre_hooks):\n\u001b[1;32m-> 1130\u001b[0m     \u001b[38;5;28;01mreturn\u001b[39;00m forward_call(\u001b[38;5;241m*\u001b[39m\u001b[38;5;28minput\u001b[39m, \u001b[38;5;241m*\u001b[39m\u001b[38;5;241m*\u001b[39mkwargs)\n\u001b[0;32m   1131\u001b[0m \u001b[38;5;66;03m# Do not call functions when jit is used\u001b[39;00m\n\u001b[0;32m   1132\u001b[0m full_backward_hooks, non_full_backward_hooks \u001b[38;5;241m=\u001b[39m [], []\n",
      "File \u001b[1;32m~\\Desktop\\Dev\\fl-gestures\\utils\\ae_torch_classes.py:100\u001b[0m, in \u001b[0;36mRNNAutoencoder.forward\u001b[1;34m(self, x)\u001b[0m\n\u001b[0;32m     98\u001b[0m \u001b[38;5;66;03m# Encoding\u001b[39;00m\n\u001b[0;32m     99\u001b[0m \u001b[38;5;28;01mfor\u001b[39;00m idx, rnn \u001b[38;5;129;01min\u001b[39;00m \u001b[38;5;28menumerate\u001b[39m(\u001b[38;5;28mself\u001b[39m\u001b[38;5;241m.\u001b[39mencoder):\n\u001b[1;32m--> 100\u001b[0m     x, _ \u001b[38;5;241m=\u001b[39m \u001b[43mrnn\u001b[49m\u001b[43m(\u001b[49m\u001b[43mx\u001b[49m\u001b[43m)\u001b[49m\n\u001b[0;32m    101\u001b[0m     \u001b[38;5;28;01mif\u001b[39;00m \u001b[38;5;28mself\u001b[39m\u001b[38;5;241m.\u001b[39mverbose:\n\u001b[0;32m    102\u001b[0m         \u001b[38;5;28mprint\u001b[39m(\u001b[38;5;124mf\u001b[39m\u001b[38;5;124m'\u001b[39m\u001b[38;5;124mAfter encoder layer \u001b[39m\u001b[38;5;132;01m{\u001b[39;00midx\u001b[38;5;132;01m}\u001b[39;00m\u001b[38;5;124m, shape: \u001b[39m\u001b[38;5;132;01m{\u001b[39;00mx\u001b[38;5;241m.\u001b[39mshape\u001b[38;5;132;01m}\u001b[39;00m\u001b[38;5;124m'\u001b[39m)\n",
      "File \u001b[1;32m~\\anaconda3\\envs\\fl_torch_sum24\\lib\\site-packages\\torch\\nn\\modules\\module.py:1130\u001b[0m, in \u001b[0;36mModule._call_impl\u001b[1;34m(self, *input, **kwargs)\u001b[0m\n\u001b[0;32m   1126\u001b[0m \u001b[38;5;66;03m# If we don't have any hooks, we want to skip the rest of the logic in\u001b[39;00m\n\u001b[0;32m   1127\u001b[0m \u001b[38;5;66;03m# this function, and just call forward.\u001b[39;00m\n\u001b[0;32m   1128\u001b[0m \u001b[38;5;28;01mif\u001b[39;00m \u001b[38;5;129;01mnot\u001b[39;00m (\u001b[38;5;28mself\u001b[39m\u001b[38;5;241m.\u001b[39m_backward_hooks \u001b[38;5;129;01mor\u001b[39;00m \u001b[38;5;28mself\u001b[39m\u001b[38;5;241m.\u001b[39m_forward_hooks \u001b[38;5;129;01mor\u001b[39;00m \u001b[38;5;28mself\u001b[39m\u001b[38;5;241m.\u001b[39m_forward_pre_hooks \u001b[38;5;129;01mor\u001b[39;00m _global_backward_hooks\n\u001b[0;32m   1129\u001b[0m         \u001b[38;5;129;01mor\u001b[39;00m _global_forward_hooks \u001b[38;5;129;01mor\u001b[39;00m _global_forward_pre_hooks):\n\u001b[1;32m-> 1130\u001b[0m     \u001b[38;5;28;01mreturn\u001b[39;00m forward_call(\u001b[38;5;241m*\u001b[39m\u001b[38;5;28minput\u001b[39m, \u001b[38;5;241m*\u001b[39m\u001b[38;5;241m*\u001b[39mkwargs)\n\u001b[0;32m   1131\u001b[0m \u001b[38;5;66;03m# Do not call functions when jit is used\u001b[39;00m\n\u001b[0;32m   1132\u001b[0m full_backward_hooks, non_full_backward_hooks \u001b[38;5;241m=\u001b[39m [], []\n",
      "File \u001b[1;32m~\\anaconda3\\envs\\fl_torch_sum24\\lib\\site-packages\\torch\\nn\\modules\\rnn.py:467\u001b[0m, in \u001b[0;36mRNN.forward\u001b[1;34m(self, input, hx)\u001b[0m\n\u001b[0;32m    464\u001b[0m     hx \u001b[38;5;241m=\u001b[39m \u001b[38;5;28mself\u001b[39m\u001b[38;5;241m.\u001b[39mpermute_hidden(hx, sorted_indices)\n\u001b[0;32m    466\u001b[0m \u001b[38;5;28;01massert\u001b[39;00m hx \u001b[38;5;129;01mis\u001b[39;00m \u001b[38;5;129;01mnot\u001b[39;00m \u001b[38;5;28;01mNone\u001b[39;00m\n\u001b[1;32m--> 467\u001b[0m \u001b[38;5;28;43mself\u001b[39;49m\u001b[38;5;241;43m.\u001b[39;49m\u001b[43mcheck_forward_args\u001b[49m\u001b[43m(\u001b[49m\u001b[38;5;28;43minput\u001b[39;49m\u001b[43m,\u001b[49m\u001b[43m \u001b[49m\u001b[43mhx\u001b[49m\u001b[43m,\u001b[49m\u001b[43m \u001b[49m\u001b[43mbatch_sizes\u001b[49m\u001b[43m)\u001b[49m\n\u001b[0;32m    468\u001b[0m \u001b[38;5;28;01massert\u001b[39;00m \u001b[38;5;28mself\u001b[39m\u001b[38;5;241m.\u001b[39mmode \u001b[38;5;241m==\u001b[39m \u001b[38;5;124m'\u001b[39m\u001b[38;5;124mRNN_TANH\u001b[39m\u001b[38;5;124m'\u001b[39m \u001b[38;5;129;01mor\u001b[39;00m \u001b[38;5;28mself\u001b[39m\u001b[38;5;241m.\u001b[39mmode \u001b[38;5;241m==\u001b[39m \u001b[38;5;124m'\u001b[39m\u001b[38;5;124mRNN_RELU\u001b[39m\u001b[38;5;124m'\u001b[39m\n\u001b[0;32m    469\u001b[0m \u001b[38;5;28;01mif\u001b[39;00m batch_sizes \u001b[38;5;129;01mis\u001b[39;00m \u001b[38;5;28;01mNone\u001b[39;00m:\n",
      "File \u001b[1;32m~\\anaconda3\\envs\\fl_torch_sum24\\lib\\site-packages\\torch\\nn\\modules\\rnn.py:229\u001b[0m, in \u001b[0;36mRNNBase.check_forward_args\u001b[1;34m(self, input, hidden, batch_sizes)\u001b[0m\n\u001b[0;32m    228\u001b[0m \u001b[38;5;28;01mdef\u001b[39;00m \u001b[38;5;21mcheck_forward_args\u001b[39m(\u001b[38;5;28mself\u001b[39m, \u001b[38;5;28minput\u001b[39m: Tensor, hidden: Tensor, batch_sizes: Optional[Tensor]):\n\u001b[1;32m--> 229\u001b[0m     \u001b[38;5;28;43mself\u001b[39;49m\u001b[38;5;241;43m.\u001b[39;49m\u001b[43mcheck_input\u001b[49m\u001b[43m(\u001b[49m\u001b[38;5;28;43minput\u001b[39;49m\u001b[43m,\u001b[49m\u001b[43m \u001b[49m\u001b[43mbatch_sizes\u001b[49m\u001b[43m)\u001b[49m\n\u001b[0;32m    230\u001b[0m     expected_hidden_size \u001b[38;5;241m=\u001b[39m \u001b[38;5;28mself\u001b[39m\u001b[38;5;241m.\u001b[39mget_expected_hidden_size(\u001b[38;5;28minput\u001b[39m, batch_sizes)\n\u001b[0;32m    232\u001b[0m     \u001b[38;5;28mself\u001b[39m\u001b[38;5;241m.\u001b[39mcheck_hidden_size(hidden, expected_hidden_size)\n",
      "File \u001b[1;32m~\\anaconda3\\envs\\fl_torch_sum24\\lib\\site-packages\\torch\\nn\\modules\\rnn.py:205\u001b[0m, in \u001b[0;36mRNNBase.check_input\u001b[1;34m(self, input, batch_sizes)\u001b[0m\n\u001b[0;32m    201\u001b[0m     \u001b[38;5;28;01mraise\u001b[39;00m \u001b[38;5;167;01mRuntimeError\u001b[39;00m(\n\u001b[0;32m    202\u001b[0m         \u001b[38;5;124m'\u001b[39m\u001b[38;5;124minput must have \u001b[39m\u001b[38;5;132;01m{}\u001b[39;00m\u001b[38;5;124m dimensions, got \u001b[39m\u001b[38;5;132;01m{}\u001b[39;00m\u001b[38;5;124m'\u001b[39m\u001b[38;5;241m.\u001b[39mformat(\n\u001b[0;32m    203\u001b[0m             expected_input_dim, \u001b[38;5;28minput\u001b[39m\u001b[38;5;241m.\u001b[39mdim()))\n\u001b[0;32m    204\u001b[0m \u001b[38;5;28;01mif\u001b[39;00m \u001b[38;5;28mself\u001b[39m\u001b[38;5;241m.\u001b[39minput_size \u001b[38;5;241m!=\u001b[39m \u001b[38;5;28minput\u001b[39m\u001b[38;5;241m.\u001b[39msize(\u001b[38;5;241m-\u001b[39m\u001b[38;5;241m1\u001b[39m):\n\u001b[1;32m--> 205\u001b[0m     \u001b[38;5;28;01mraise\u001b[39;00m \u001b[38;5;167;01mRuntimeError\u001b[39;00m(\n\u001b[0;32m    206\u001b[0m         \u001b[38;5;124m'\u001b[39m\u001b[38;5;124minput.size(-1) must be equal to input_size. Expected \u001b[39m\u001b[38;5;132;01m{}\u001b[39;00m\u001b[38;5;124m, got \u001b[39m\u001b[38;5;132;01m{}\u001b[39;00m\u001b[38;5;124m'\u001b[39m\u001b[38;5;241m.\u001b[39mformat(\n\u001b[0;32m    207\u001b[0m             \u001b[38;5;28mself\u001b[39m\u001b[38;5;241m.\u001b[39minput_size, \u001b[38;5;28minput\u001b[39m\u001b[38;5;241m.\u001b[39msize(\u001b[38;5;241m-\u001b[39m\u001b[38;5;241m1\u001b[39m)))\n",
      "\u001b[1;31mRuntimeError\u001b[0m: input.size(-1) must be equal to input_size. Expected 40, got 88"
     ]
    }
   ],
   "source": [
    "print(\"Started\")\n",
    "\n",
    "# Hyperparameters and dataset setup\n",
    "num_layers = 3\n",
    "lr = 0.001\n",
    "hidden_dim = 56\n",
    "\n",
    "# With progressive halving\n",
    "model_56_nl3_prog, train_loss_log, test_loss_log = create_and_train_ae_model(input_dim, hidden_dim, num_layers, train_loader, test_loader, progressive_bool=True, ae_class_obj=RNNAutoencoder)"
   ]
  },
  {
   "cell_type": "code",
   "execution_count": null,
   "id": "023c0bee",
   "metadata": {},
   "outputs": [],
   "source": [
    "print(\"Started\")\n",
    "\n",
    "# Hyperparameters and dataset setup\n",
    "num_layers = None\n",
    "lr = 0.001\n",
    "hidden_dim_list = [56, 28, 14]\n",
    "\n",
    "# With mirroring\n",
    "model_56_28_14mir, train_loss_log, test_loss_log = create_and_train_ae_model(input_dim, hidden_dim_list, num_layers, train_loader, test_loader, mirror_bool=True, ae_class_obj=RNNAutoencoder)"
   ]
  },
  {
   "cell_type": "code",
   "execution_count": null,
   "id": "e79b0d00-a4b8-4158-a365-ea53b004d10d",
   "metadata": {},
   "outputs": [],
   "source": [
    "print(\"Started\")\n",
    "\n",
    "# Hyperparameters and dataset setup\n",
    "num_layers = None\n",
    "lr = 0.001 # Not passed in rn\n",
    "hidden_dim_list = [32, 16, 8, 3]\n",
    "model_32_16_8_3mir, train_loss_log, test_loss_log = create_and_train_ae_model(input_dim, hidden_dim_list, num_layers, train_loader, test_loader, mirror_bool=True, ae_class_obj=RNNAutoencoder)"
   ]
  },
  {
   "cell_type": "code",
   "execution_count": null,
   "id": "c72ed4b9-9696-4612-99b2-071409df69e0",
   "metadata": {},
   "outputs": [],
   "source": [
    "print(\"Started\")\n",
    "\n",
    "# Hyperparameters and dataset setup\n",
    "num_layers = None\n",
    "lr = 0.001 # Not passed in rn\n",
    "hidden_dim_list = [32, 16, 3]\n",
    "model_32_16_3mir, train_loss_log, test_loss_log = create_and_train_ae_model(input_dim, hidden_dim_list, num_layers, train_loader, test_loader, mirror_bool=True, ae_class_obj=RNNAutoencoder)"
   ]
  },
  {
   "cell_type": "code",
   "execution_count": null,
   "id": "49efe593-65c7-4a6e-a3bd-872984d527b1",
   "metadata": {},
   "outputs": [],
   "source": [
    "print(\"Started\")\n",
    "\n",
    "num_layers = None\n",
    "lr = 0.001 # Not passed in rn\n",
    "hidden_dim_list = [56, 28, 3]\n",
    "model_56_28_3mir, train_loss_log, test_loss_log = create_and_train_ae_model(input_dim, hidden_dim_list, num_layers, train_loader, test_loader, mirror_bool=True, ae_class_obj=RNNAutoencoder)"
   ]
  },
  {
   "cell_type": "code",
   "execution_count": null,
   "id": "5f46dbbb-6c61-49c0-941b-97c4a9409111",
   "metadata": {},
   "outputs": [],
   "source": [
    "print(\"Started\")\n",
    "\n",
    "num_layers = None\n",
    "lr = 0.001 # Not passed in rn\n",
    "hidden_dim_list = [32, 24, 16]\n",
    "model_32_24_16mir, train_loss_log, test_loss_log = create_and_train_ae_model(input_dim, hidden_dim_list, num_layers, train_loader, test_loader, mirror_bool=True, ae_class_obj=RNNAutoencoder)"
   ]
  },
  {
   "cell_type": "code",
   "execution_count": null,
   "id": "fdf43f70-b5e8-48be-9f3a-fac836219328",
   "metadata": {},
   "outputs": [],
   "source": [
    "print(\"Started\")\n",
    "\n",
    "num_layers = None\n",
    "lr = 0.001 # Not passed in rn\n",
    "hidden_dim_list = [64, 42, 26, 16, 10, 7, 5, 3]\n",
    "model_64_42_26_16_10_7_5_3, train_loss_log, test_loss_log = create_and_train_ae_model(input_dim, hidden_dim_list, num_layers, train_loader, test_loader, mirror_bool=True, ae_class_obj=RNNAutoencoder)"
   ]
  },
  {
   "cell_type": "code",
   "execution_count": null,
   "id": "a2f741f4-097e-458b-a345-030aaa095024",
   "metadata": {},
   "outputs": [],
   "source": [
    "print(\"Started\")\n",
    "\n",
    "num_layers = None\n",
    "lr = 0.001 # Not passed in rn\n",
    "hidden_dim_list = [56, 28]\n",
    "model_56_28mir, train_loss_log, test_loss_log = create_and_train_ae_model(input_dim, hidden_dim_list, num_layers, train_loader, test_loader, mirror_bool=True, ae_class_obj=RNNAutoencoder)"
   ]
  },
  {
   "cell_type": "code",
   "execution_count": null,
   "id": "86f7b767-d8bf-4df7-85f5-76c84d996938",
   "metadata": {},
   "outputs": [],
   "source": [
    "print(\"Started\")\n",
    "\n",
    "num_layers = None\n",
    "lr = 0.001 # Not passed in rn\n",
    "hidden_dim_list = [28]\n",
    "model_28mir, train_loss_log, test_loss_log = create_and_train_ae_model(input_dim, hidden_dim_list, num_layers, train_loader, test_loader, mirror_bool=True, ae_class_obj=RNNAutoencoder)"
   ]
  },
  {
   "cell_type": "code",
   "execution_count": null,
   "id": "377f2707-8b48-4817-afe9-753e06d74292",
   "metadata": {},
   "outputs": [],
   "source": [
    "print(\"Started\")\n",
    "\n",
    "num_layers = None\n",
    "lr = 0.001 # Not passed in rn\n",
    "hidden_dim_list = [36]\n",
    "model_, train_loss_log, test_loss_log = create_and_train_ae_model(input_dim, hidden_dim_list, num_layers, train_loader, test_loader, mirror_bool=True, ae_class_obj=RNNAutoencoder)"
   ]
  },
  {
   "cell_type": "code",
   "execution_count": null,
   "id": "32675cdb-4ca3-45c6-bc27-537bab757c85",
   "metadata": {},
   "outputs": [],
   "source": [
    "print(\"Started\")\n",
    "\n",
    "num_layers = None\n",
    "lr = 0.001 # Not passed in rn\n",
    "hidden_dim_list = [20]\n",
    "model_20mir, train_loss_log, test_loss_log = create_and_train_ae_model(input_dim, hidden_dim_list, num_layers, train_loader, test_loader, mirror_bool=True, ae_class_obj=RNNAutoencoder)"
   ]
  },
  {
   "cell_type": "code",
   "execution_count": null,
   "id": "481a30d7-c870-4510-af8d-8acdd79bb1b7",
   "metadata": {},
   "outputs": [],
   "source": [
    "print(\"Started\")\n",
    "\n",
    "num_layers = None\n",
    "lr = 0.001 # Not passed in rn\n",
    "hidden_dim_list = [36, 20]\n",
    "model_36_20mir, train_loss_log, test_loss_log = create_and_train_ae_model(input_dim, hidden_dim_list, num_layers, train_loader, test_loader, mirror_bool=True, ae_class_obj=RNNAutoencoder)"
   ]
  },
  {
   "cell_type": "code",
   "execution_count": null,
   "id": "0f45c71e-3ef8-4877-ab60-fc66691b89a7",
   "metadata": {},
   "outputs": [],
   "source": [
    "print(\"Started\")\n",
    "\n",
    "num_layers = None\n",
    "lr = 0.001 # Not passed in rn\n",
    "hidden_dim_list = [40]\n",
    "model_40mir, train_loss_log, test_loss_log = create_and_train_ae_model(input_dim, hidden_dim_list, num_layers, train_loader, test_loader, mirror_bool=True, ae_class_obj=RNNAutoencoder)"
   ]
  },
  {
   "cell_type": "code",
   "execution_count": null,
   "id": "59b602e0-a201-4998-9449-3d78bc943711",
   "metadata": {},
   "outputs": [],
   "source": [
    "print(\"Started\")\n",
    "\n",
    "num_layers = None\n",
    "lr = 0.001 # Not passed in rn\n",
    "hidden_dim_list = [36, 20, 12]\n",
    "model_36_20_12mir, train_loss_log, test_loss_log = create_and_train_ae_model(input_dim, hidden_dim_list, num_layers, train_loader, test_loader, mirror_bool=True, ae_class_obj=RNNAutoencoder)"
   ]
  },
  {
   "cell_type": "code",
   "execution_count": null,
   "id": "996dd0cf-f7e8-4db7-8cb5-23cddfd0d9b7",
   "metadata": {},
   "outputs": [],
   "source": [
    "print(\"Started\")\n",
    "\n",
    "num_layers = None\n",
    "lr = 0.001 # Not passed in rn\n",
    "hidden_dim_list = [20, 12]\n",
    "model_20_12mir, train_loss_log, test_loss_log = create_and_train_ae_model(input_dim, hidden_dim_list, num_layers, train_loader, test_loader, mirror_bool=True, ae_class_obj=RNNAutoencoder)"
   ]
  },
  {
   "cell_type": "code",
   "execution_count": null,
   "id": "173da7b7-e6f9-4757-ad77-242a07c121e3",
   "metadata": {},
   "outputs": [],
   "source": [
    "assert(False)"
   ]
  },
  {
   "cell_type": "markdown",
   "id": "6b04893d-86df-469b-a45b-827dc19899db",
   "metadata": {},
   "source": [
    "Save a few of the above models"
   ]
  },
  {
   "cell_type": "code",
   "execution_count": null,
   "id": "a0cfe5a8-8f95-4f0f-b2b1-afebca9924fd",
   "metadata": {},
   "outputs": [],
   "source": [
    "torch.save(model_56_28mir.state_dict(), 'C:\\\\Users\\\\YamagamiLab\\\\Desktop\\\\Dev\\\\fl-gestures\\\\models\\\\Embedding\\\\Autoencoders\\\\RNNAE_56_28mir_vallossp419_BothPCA40.pth')\n",
    "torch.save(model_56_28_3mir.state_dict(), 'C:\\\\Users\\\\YamagamiLab\\\\Desktop\\\\Dev\\\\fl-gestures\\\\models\\\\Embedding\\\\Autoencoders\\\\RNNAE_56_28_3mir_valloss1p33_BothPCA40.pth')\n",
    "torch.save(model_40mir.state_dict(), 'C:\\\\Users\\\\YamagamiLab\\\\Desktop\\\\Dev\\\\fl-gestures\\\\models\\\\Embedding\\\\Autoencoders\\\\RNNAE_40mir_vallossp29_BothPCA40.pth')"
   ]
  },
  {
   "cell_type": "code",
   "execution_count": null,
   "id": "769ba039-02a7-40bd-98dc-6e6e78b26368",
   "metadata": {},
   "outputs": [],
   "source": []
  }
 ],
 "metadata": {
  "kernelspec": {
   "display_name": "Python 3 (ipykernel)",
   "language": "python",
   "name": "python3"
  },
  "language_info": {
   "codemirror_mode": {
    "name": "ipython",
    "version": 3
   },
   "file_extension": ".py",
   "mimetype": "text/x-python",
   "name": "python",
   "nbconvert_exporter": "python",
   "pygments_lexer": "ipython3",
   "version": "3.10.12"
  }
 },
 "nbformat": 4,
 "nbformat_minor": 5
}
