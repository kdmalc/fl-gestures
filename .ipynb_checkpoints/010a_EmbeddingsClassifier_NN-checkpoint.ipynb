{
 "cells": [
  {
   "cell_type": "markdown",
   "id": "e5377f58-10aa-44d5-a460-21d83e669f35",
   "metadata": {},
   "source": [
    "> This NB has KNN and SVC"
   ]
  },
  {
   "cell_type": "code",
   "execution_count": 1,
   "id": "c1ef1e63-343c-4d55-ad97-cf3cabb3fc2e",
   "metadata": {},
   "outputs": [],
   "source": [
    "import torch\n",
    "import torch.nn as nn\n",
    "import torch.optim as optim\n",
    "from torch.utils.data import Dataset, DataLoader\n",
    "\n",
    "import pandas as pd\n",
    "import numpy as np\n",
    "import matplotlib.pyplot as plt\n",
    "import time\n",
    "\n",
    "from sklearn.manifold import TSNE\n",
    "from sklearn.decomposition import PCA\n",
    "\n",
    "from sklearn.preprocessing import OneHotEncoder\n",
    "from sklearn.neighbors import KNeighborsClassifier\n",
    "from sklearn.svm import SVC\n",
    "from sklearn.metrics import classification_report, accuracy_score\n",
    "\n",
    "from utils.subspace_clustering_helper_funcs import *\n",
    "from utils.ae_eval_and_vis import *\n",
    "from utils.ae_torch_classes import *\n",
    "from utils.ml_pipeline import *"
   ]
  },
  {
   "cell_type": "code",
   "execution_count": 2,
   "id": "47711c64-44f7-453c-9d0e-6a4f299633e8",
   "metadata": {},
   "outputs": [],
   "source": [
    "import warnings\n",
    "warnings.filterwarnings('ignore')\n",
    "# C:\\Users\\kdmen\\miniconda3\\envs\\fl_torch\\lib\\site-packages\\sklearn\\cluster\\_kmeans.py:870: FutureWarning: The default value of `n_init` will change from 10 to 'auto' in 1.4. Set the value of `n_init` explicitly to suppress the warning warnings.warn("
   ]
  },
  {
   "cell_type": "markdown",
   "id": "347da32c-36cc-49e0-80cd-e5b456561a30",
   "metadata": {},
   "source": [
    "# Load in Data"
   ]
  },
  {
   "cell_type": "code",
   "execution_count": 3,
   "id": "3abf0fa7-85d1-4473-b58c-a9e8c7f986e8",
   "metadata": {},
   "outputs": [
    {
     "name": "stdout",
     "output_type": "stream",
     "text": [
      "Loading\n"
     ]
    }
   ],
   "source": [
    "print(\"Loading\")\n",
    "\n",
    "# Kai's laptop\n",
    "#data_path = \"C:\\\\Users\\\\kdmen\\\\Desktop\\\\Research\\\\Data\\\\$M\\\\PCA_40D\\\\\"\n",
    "#model_dir_path = 'C:\\\\Users\\\\kdmen\\\\Desktop\\\\Research\\\\Repos\\\\fl-gestures\\\\models\\\\Embedding\\\\Autoencoders\\\\'\n",
    "# BRC Desktop\n",
    "data_path = \"D:\\\\Kai_MetaGestureClustering_24\\\\saved_datasets\\\\\"\n",
    "model_dir_path = 'C:\\\\Users\\\\YamagamiLab\\\\Desktop\\\\Dev\\\\fl-gestures\\\\models\\\\Embedding\\\\Autoencoders\\\\'\n",
    "\n",
    "emg_dir = \"filtered_datasets\\\\EMG_PPD\\\\\"\n",
    "both_dir = \"filtered_datasets\\\\Both_PPD\\\\\"\n",
    "both_pca40_dir = \"Both_PCA40\\\\\"\n",
    "\n",
    "metadata_cols = ['Participant', 'Gesture_ID', 'Gesture_Num']\n",
    "metadata_cols_df = pd.read_pickle('D:\\\\Kai_MetaGestureClustering_24\\\\saved_datasets\\\\metadata_cols_df.pkl')\n",
    "\n",
    "emg_training_users_df = pd.read_pickle(data_path+emg_dir+'training_users_df.pkl').drop(metadata_cols, axis=1)\n",
    "emg_test_users_df = pd.read_pickle(data_path+emg_dir+'test_users_df.pkl').drop(metadata_cols, axis=1)\n",
    "\n",
    "both_training_users_df = pd.read_pickle(data_path+both_dir+'training_users_df.pkl').drop(metadata_cols, axis=1)\n",
    "both_test_users_df = pd.read_pickle(data_path+both_dir+'test_users_df.pkl').drop(metadata_cols, axis=1)\n",
    "\n",
    "both_pca_training_users_df = pd.read_pickle(data_path+both_pca40_dir+'training_users_df.pkl').drop(metadata_cols, axis=1)\n",
    "both_pca_test_users_df = pd.read_pickle(data_path+both_pca40_dir+'test_users_df.pkl').drop(metadata_cols, axis=1)"
   ]
  },
  {
   "cell_type": "code",
   "execution_count": 4,
   "id": "983979ce-db1d-43b2-bd05-3defadd42f57",
   "metadata": {},
   "outputs": [],
   "source": [
    "num_rows_per_gesture = 64 # From the interp\n",
    "batch_size = 32"
   ]
  },
  {
   "cell_type": "code",
   "execution_count": 5,
   "id": "6e2190e4-f653-45cb-b0c9-93bf660cb134",
   "metadata": {},
   "outputs": [
    {
     "name": "stdout",
     "output_type": "stream",
     "text": [
      "(160000, 16)\n"
     ]
    },
    {
     "data": {
      "text/html": [
       "<div>\n",
       "<style scoped>\n",
       "    .dataframe tbody tr th:only-of-type {\n",
       "        vertical-align: middle;\n",
       "    }\n",
       "\n",
       "    .dataframe tbody tr th {\n",
       "        vertical-align: top;\n",
       "    }\n",
       "\n",
       "    .dataframe thead th {\n",
       "        text-align: right;\n",
       "    }\n",
       "</style>\n",
       "<table border=\"1\" class=\"dataframe\">\n",
       "  <thead>\n",
       "    <tr style=\"text-align: right;\">\n",
       "      <th></th>\n",
       "      <th>EMG1</th>\n",
       "      <th>EMG2</th>\n",
       "      <th>EMG3</th>\n",
       "      <th>EMG4</th>\n",
       "      <th>EMG5</th>\n",
       "      <th>EMG6</th>\n",
       "      <th>EMG7</th>\n",
       "      <th>EMG8</th>\n",
       "      <th>EMG9</th>\n",
       "      <th>EMG10</th>\n",
       "      <th>EMG11</th>\n",
       "      <th>EMG12</th>\n",
       "      <th>EMG13</th>\n",
       "      <th>EMG14</th>\n",
       "      <th>EMG15</th>\n",
       "      <th>EMG16</th>\n",
       "    </tr>\n",
       "  </thead>\n",
       "  <tbody>\n",
       "    <tr>\n",
       "      <th>0</th>\n",
       "      <td>-0.362743</td>\n",
       "      <td>-0.801651</td>\n",
       "      <td>-0.383077</td>\n",
       "      <td>-0.195299</td>\n",
       "      <td>-0.203047</td>\n",
       "      <td>-0.464472</td>\n",
       "      <td>-0.276292</td>\n",
       "      <td>-0.026736</td>\n",
       "      <td>-0.873870</td>\n",
       "      <td>-1.036152</td>\n",
       "      <td>-0.580930</td>\n",
       "      <td>-0.719494</td>\n",
       "      <td>-0.502255</td>\n",
       "      <td>-1.750091</td>\n",
       "      <td>-0.127847</td>\n",
       "      <td>-0.094192</td>\n",
       "    </tr>\n",
       "    <tr>\n",
       "      <th>1</th>\n",
       "      <td>-0.351553</td>\n",
       "      <td>-0.775334</td>\n",
       "      <td>-0.382545</td>\n",
       "      <td>-0.154773</td>\n",
       "      <td>-0.131977</td>\n",
       "      <td>-0.295204</td>\n",
       "      <td>-0.125822</td>\n",
       "      <td>0.089679</td>\n",
       "      <td>-0.816215</td>\n",
       "      <td>-2.082635</td>\n",
       "      <td>-0.006283</td>\n",
       "      <td>-0.139439</td>\n",
       "      <td>-0.367764</td>\n",
       "      <td>-0.208084</td>\n",
       "      <td>-0.111811</td>\n",
       "      <td>-0.039009</td>\n",
       "    </tr>\n",
       "    <tr>\n",
       "      <th>2</th>\n",
       "      <td>-0.380825</td>\n",
       "      <td>-0.762588</td>\n",
       "      <td>-0.398388</td>\n",
       "      <td>-0.085411</td>\n",
       "      <td>0.017528</td>\n",
       "      <td>-0.205675</td>\n",
       "      <td>-0.068451</td>\n",
       "      <td>0.117076</td>\n",
       "      <td>-0.668221</td>\n",
       "      <td>-3.403064</td>\n",
       "      <td>-0.526030</td>\n",
       "      <td>-0.478294</td>\n",
       "      <td>-0.300443</td>\n",
       "      <td>0.203266</td>\n",
       "      <td>0.113300</td>\n",
       "      <td>0.004728</td>\n",
       "    </tr>\n",
       "    <tr>\n",
       "      <th>3</th>\n",
       "      <td>-0.366795</td>\n",
       "      <td>-0.765464</td>\n",
       "      <td>-0.374423</td>\n",
       "      <td>-0.073225</td>\n",
       "      <td>0.183172</td>\n",
       "      <td>0.009277</td>\n",
       "      <td>-0.058907</td>\n",
       "      <td>0.080977</td>\n",
       "      <td>-0.424416</td>\n",
       "      <td>-3.709413</td>\n",
       "      <td>-0.570894</td>\n",
       "      <td>-0.775155</td>\n",
       "      <td>-0.144710</td>\n",
       "      <td>-0.619539</td>\n",
       "      <td>0.146499</td>\n",
       "      <td>0.199975</td>\n",
       "    </tr>\n",
       "    <tr>\n",
       "      <th>4</th>\n",
       "      <td>-0.245578</td>\n",
       "      <td>-0.761283</td>\n",
       "      <td>-0.303976</td>\n",
       "      <td>-0.081947</td>\n",
       "      <td>0.224996</td>\n",
       "      <td>0.103319</td>\n",
       "      <td>-0.003929</td>\n",
       "      <td>0.041526</td>\n",
       "      <td>-0.016530</td>\n",
       "      <td>-4.075150</td>\n",
       "      <td>-0.127710</td>\n",
       "      <td>2.682791</td>\n",
       "      <td>-0.141750</td>\n",
       "      <td>-0.208404</td>\n",
       "      <td>-0.035642</td>\n",
       "      <td>0.172662</td>\n",
       "    </tr>\n",
       "  </tbody>\n",
       "</table>\n",
       "</div>"
      ],
      "text/plain": [
       "       EMG1      EMG2      EMG3      EMG4      EMG5      EMG6      EMG7   \n",
       "0 -0.362743 -0.801651 -0.383077 -0.195299 -0.203047 -0.464472 -0.276292  \\\n",
       "1 -0.351553 -0.775334 -0.382545 -0.154773 -0.131977 -0.295204 -0.125822   \n",
       "2 -0.380825 -0.762588 -0.398388 -0.085411  0.017528 -0.205675 -0.068451   \n",
       "3 -0.366795 -0.765464 -0.374423 -0.073225  0.183172  0.009277 -0.058907   \n",
       "4 -0.245578 -0.761283 -0.303976 -0.081947  0.224996  0.103319 -0.003929   \n",
       "\n",
       "       EMG8      EMG9     EMG10     EMG11     EMG12     EMG13     EMG14   \n",
       "0 -0.026736 -0.873870 -1.036152 -0.580930 -0.719494 -0.502255 -1.750091  \\\n",
       "1  0.089679 -0.816215 -2.082635 -0.006283 -0.139439 -0.367764 -0.208084   \n",
       "2  0.117076 -0.668221 -3.403064 -0.526030 -0.478294 -0.300443  0.203266   \n",
       "3  0.080977 -0.424416 -3.709413 -0.570894 -0.775155 -0.144710 -0.619539   \n",
       "4  0.041526 -0.016530 -4.075150 -0.127710  2.682791 -0.141750 -0.208404   \n",
       "\n",
       "      EMG15     EMG16  \n",
       "0 -0.127847 -0.094192  \n",
       "1 -0.111811 -0.039009  \n",
       "2  0.113300  0.004728  \n",
       "3  0.146499  0.199975  \n",
       "4 -0.035642  0.172662  "
      ]
     },
     "execution_count": 5,
     "metadata": {},
     "output_type": "execute_result"
    }
   ],
   "source": [
    "print(emg_training_users_df.shape)\n",
    "emg_training_users_df.head()"
   ]
  },
  {
   "cell_type": "code",
   "execution_count": 6,
   "id": "6eda371b-db44-47f1-9ea4-09c7f473cf52",
   "metadata": {},
   "outputs": [
    {
     "name": "stdout",
     "output_type": "stream",
     "text": [
      "(160000, 88)\n"
     ]
    },
    {
     "data": {
      "text/html": [
       "<div>\n",
       "<style scoped>\n",
       "    .dataframe tbody tr th:only-of-type {\n",
       "        vertical-align: middle;\n",
       "    }\n",
       "\n",
       "    .dataframe tbody tr th {\n",
       "        vertical-align: top;\n",
       "    }\n",
       "\n",
       "    .dataframe thead th {\n",
       "        text-align: right;\n",
       "    }\n",
       "</style>\n",
       "<table border=\"1\" class=\"dataframe\">\n",
       "  <thead>\n",
       "    <tr style=\"text-align: right;\">\n",
       "      <th></th>\n",
       "      <th>IMU1_ax</th>\n",
       "      <th>IMU1_ay</th>\n",
       "      <th>IMU1_az</th>\n",
       "      <th>IMU1_vx</th>\n",
       "      <th>IMU1_vy</th>\n",
       "      <th>IMU1_vz</th>\n",
       "      <th>IMU2_ax</th>\n",
       "      <th>IMU2_ay</th>\n",
       "      <th>IMU2_az</th>\n",
       "      <th>IMU2_vx</th>\n",
       "      <th>...</th>\n",
       "      <th>EMG7</th>\n",
       "      <th>EMG8</th>\n",
       "      <th>EMG9</th>\n",
       "      <th>EMG10</th>\n",
       "      <th>EMG11</th>\n",
       "      <th>EMG12</th>\n",
       "      <th>EMG13</th>\n",
       "      <th>EMG14</th>\n",
       "      <th>EMG15</th>\n",
       "      <th>EMG16</th>\n",
       "    </tr>\n",
       "  </thead>\n",
       "  <tbody>\n",
       "    <tr>\n",
       "      <th>0</th>\n",
       "      <td>-0.551109</td>\n",
       "      <td>-0.738972</td>\n",
       "      <td>-0.985439</td>\n",
       "      <td>0.181924</td>\n",
       "      <td>0.059616</td>\n",
       "      <td>0.087024</td>\n",
       "      <td>1.055804</td>\n",
       "      <td>-0.883268</td>\n",
       "      <td>-0.327978</td>\n",
       "      <td>-0.221822</td>\n",
       "      <td>...</td>\n",
       "      <td>-0.276292</td>\n",
       "      <td>-0.026736</td>\n",
       "      <td>-0.873870</td>\n",
       "      <td>-1.036152</td>\n",
       "      <td>-0.580930</td>\n",
       "      <td>-0.719494</td>\n",
       "      <td>-0.502255</td>\n",
       "      <td>-1.750091</td>\n",
       "      <td>-0.127847</td>\n",
       "      <td>-0.094192</td>\n",
       "    </tr>\n",
       "    <tr>\n",
       "      <th>1</th>\n",
       "      <td>-0.571115</td>\n",
       "      <td>-0.821726</td>\n",
       "      <td>-0.975036</td>\n",
       "      <td>0.242607</td>\n",
       "      <td>0.067375</td>\n",
       "      <td>-0.024900</td>\n",
       "      <td>1.007074</td>\n",
       "      <td>-0.944195</td>\n",
       "      <td>-0.363602</td>\n",
       "      <td>-0.149833</td>\n",
       "      <td>...</td>\n",
       "      <td>-0.125822</td>\n",
       "      <td>0.089679</td>\n",
       "      <td>-0.816215</td>\n",
       "      <td>-2.082635</td>\n",
       "      <td>-0.006283</td>\n",
       "      <td>-0.139439</td>\n",
       "      <td>-0.367764</td>\n",
       "      <td>-0.208084</td>\n",
       "      <td>-0.111811</td>\n",
       "      <td>-0.039009</td>\n",
       "    </tr>\n",
       "    <tr>\n",
       "      <th>2</th>\n",
       "      <td>-0.509305</td>\n",
       "      <td>-0.823575</td>\n",
       "      <td>-0.947221</td>\n",
       "      <td>0.550111</td>\n",
       "      <td>0.013848</td>\n",
       "      <td>-0.485765</td>\n",
       "      <td>0.993332</td>\n",
       "      <td>-0.944029</td>\n",
       "      <td>-0.357476</td>\n",
       "      <td>-0.164447</td>\n",
       "      <td>...</td>\n",
       "      <td>-0.068451</td>\n",
       "      <td>0.117076</td>\n",
       "      <td>-0.668221</td>\n",
       "      <td>-3.403064</td>\n",
       "      <td>-0.526030</td>\n",
       "      <td>-0.478294</td>\n",
       "      <td>-0.300443</td>\n",
       "      <td>0.203266</td>\n",
       "      <td>0.113300</td>\n",
       "      <td>0.004728</td>\n",
       "    </tr>\n",
       "    <tr>\n",
       "      <th>3</th>\n",
       "      <td>-0.511788</td>\n",
       "      <td>-0.775810</td>\n",
       "      <td>-0.947939</td>\n",
       "      <td>0.417919</td>\n",
       "      <td>0.087222</td>\n",
       "      <td>-0.229441</td>\n",
       "      <td>1.026003</td>\n",
       "      <td>-0.911993</td>\n",
       "      <td>-0.335594</td>\n",
       "      <td>-0.006214</td>\n",
       "      <td>...</td>\n",
       "      <td>-0.058907</td>\n",
       "      <td>0.080977</td>\n",
       "      <td>-0.424416</td>\n",
       "      <td>-3.709413</td>\n",
       "      <td>-0.570894</td>\n",
       "      <td>-0.775155</td>\n",
       "      <td>-0.144710</td>\n",
       "      <td>-0.619539</td>\n",
       "      <td>0.146499</td>\n",
       "      <td>0.199975</td>\n",
       "    </tr>\n",
       "    <tr>\n",
       "      <th>4</th>\n",
       "      <td>-0.441369</td>\n",
       "      <td>-0.921726</td>\n",
       "      <td>-0.882652</td>\n",
       "      <td>1.254970</td>\n",
       "      <td>0.108993</td>\n",
       "      <td>-0.933639</td>\n",
       "      <td>1.001748</td>\n",
       "      <td>-0.939228</td>\n",
       "      <td>-0.357917</td>\n",
       "      <td>0.009543</td>\n",
       "      <td>...</td>\n",
       "      <td>-0.003929</td>\n",
       "      <td>0.041526</td>\n",
       "      <td>-0.016530</td>\n",
       "      <td>-4.075150</td>\n",
       "      <td>-0.127710</td>\n",
       "      <td>2.682791</td>\n",
       "      <td>-0.141750</td>\n",
       "      <td>-0.208404</td>\n",
       "      <td>-0.035642</td>\n",
       "      <td>0.172662</td>\n",
       "    </tr>\n",
       "  </tbody>\n",
       "</table>\n",
       "<p>5 rows × 88 columns</p>\n",
       "</div>"
      ],
      "text/plain": [
       "    IMU1_ax   IMU1_ay   IMU1_az   IMU1_vx   IMU1_vy   IMU1_vz   IMU2_ax   \n",
       "0 -0.551109 -0.738972 -0.985439  0.181924  0.059616  0.087024  1.055804  \\\n",
       "1 -0.571115 -0.821726 -0.975036  0.242607  0.067375 -0.024900  1.007074   \n",
       "2 -0.509305 -0.823575 -0.947221  0.550111  0.013848 -0.485765  0.993332   \n",
       "3 -0.511788 -0.775810 -0.947939  0.417919  0.087222 -0.229441  1.026003   \n",
       "4 -0.441369 -0.921726 -0.882652  1.254970  0.108993 -0.933639  1.001748   \n",
       "\n",
       "    IMU2_ay   IMU2_az   IMU2_vx  ...      EMG7      EMG8      EMG9     EMG10   \n",
       "0 -0.883268 -0.327978 -0.221822  ... -0.276292 -0.026736 -0.873870 -1.036152  \\\n",
       "1 -0.944195 -0.363602 -0.149833  ... -0.125822  0.089679 -0.816215 -2.082635   \n",
       "2 -0.944029 -0.357476 -0.164447  ... -0.068451  0.117076 -0.668221 -3.403064   \n",
       "3 -0.911993 -0.335594 -0.006214  ... -0.058907  0.080977 -0.424416 -3.709413   \n",
       "4 -0.939228 -0.357917  0.009543  ... -0.003929  0.041526 -0.016530 -4.075150   \n",
       "\n",
       "      EMG11     EMG12     EMG13     EMG14     EMG15     EMG16  \n",
       "0 -0.580930 -0.719494 -0.502255 -1.750091 -0.127847 -0.094192  \n",
       "1 -0.006283 -0.139439 -0.367764 -0.208084 -0.111811 -0.039009  \n",
       "2 -0.526030 -0.478294 -0.300443  0.203266  0.113300  0.004728  \n",
       "3 -0.570894 -0.775155 -0.144710 -0.619539  0.146499  0.199975  \n",
       "4 -0.127710  2.682791 -0.141750 -0.208404 -0.035642  0.172662  \n",
       "\n",
       "[5 rows x 88 columns]"
      ]
     },
     "execution_count": 6,
     "metadata": {},
     "output_type": "execute_result"
    }
   ],
   "source": [
    "print(both_training_users_df.shape)\n",
    "both_training_users_df.head()"
   ]
  },
  {
   "cell_type": "code",
   "execution_count": 7,
   "id": "42a80e48-dcf6-40ab-8223-3e7fcd5ba518",
   "metadata": {},
   "outputs": [
    {
     "name": "stdout",
     "output_type": "stream",
     "text": [
      "(160000, 40)\n"
     ]
    },
    {
     "data": {
      "text/html": [
       "<div>\n",
       "<style scoped>\n",
       "    .dataframe tbody tr th:only-of-type {\n",
       "        vertical-align: middle;\n",
       "    }\n",
       "\n",
       "    .dataframe tbody tr th {\n",
       "        vertical-align: top;\n",
       "    }\n",
       "\n",
       "    .dataframe thead th {\n",
       "        text-align: right;\n",
       "    }\n",
       "</style>\n",
       "<table border=\"1\" class=\"dataframe\">\n",
       "  <thead>\n",
       "    <tr style=\"text-align: right;\">\n",
       "      <th></th>\n",
       "      <th>0</th>\n",
       "      <th>1</th>\n",
       "      <th>2</th>\n",
       "      <th>3</th>\n",
       "      <th>4</th>\n",
       "      <th>5</th>\n",
       "      <th>6</th>\n",
       "      <th>7</th>\n",
       "      <th>8</th>\n",
       "      <th>9</th>\n",
       "      <th>...</th>\n",
       "      <th>30</th>\n",
       "      <th>31</th>\n",
       "      <th>32</th>\n",
       "      <th>33</th>\n",
       "      <th>34</th>\n",
       "      <th>35</th>\n",
       "      <th>36</th>\n",
       "      <th>37</th>\n",
       "      <th>38</th>\n",
       "      <th>39</th>\n",
       "    </tr>\n",
       "  </thead>\n",
       "  <tbody>\n",
       "    <tr>\n",
       "      <th>0</th>\n",
       "      <td>-0.030730</td>\n",
       "      <td>-0.052976</td>\n",
       "      <td>0.176556</td>\n",
       "      <td>-0.048078</td>\n",
       "      <td>-0.390790</td>\n",
       "      <td>-2.119829</td>\n",
       "      <td>0.875118</td>\n",
       "      <td>-0.187689</td>\n",
       "      <td>0.685004</td>\n",
       "      <td>0.870080</td>\n",
       "      <td>...</td>\n",
       "      <td>-0.253283</td>\n",
       "      <td>-0.248582</td>\n",
       "      <td>0.283079</td>\n",
       "      <td>-0.178321</td>\n",
       "      <td>-0.087101</td>\n",
       "      <td>-0.027081</td>\n",
       "      <td>0.000970</td>\n",
       "      <td>0.124380</td>\n",
       "      <td>-0.100580</td>\n",
       "      <td>-0.119294</td>\n",
       "    </tr>\n",
       "    <tr>\n",
       "      <th>1</th>\n",
       "      <td>0.077533</td>\n",
       "      <td>-0.108477</td>\n",
       "      <td>0.128970</td>\n",
       "      <td>-0.032167</td>\n",
       "      <td>-0.182756</td>\n",
       "      <td>-1.604412</td>\n",
       "      <td>0.701500</td>\n",
       "      <td>-0.068443</td>\n",
       "      <td>0.667338</td>\n",
       "      <td>1.098287</td>\n",
       "      <td>...</td>\n",
       "      <td>-0.423007</td>\n",
       "      <td>0.097453</td>\n",
       "      <td>0.184025</td>\n",
       "      <td>0.027788</td>\n",
       "      <td>0.112078</td>\n",
       "      <td>-0.414946</td>\n",
       "      <td>-0.210576</td>\n",
       "      <td>0.277156</td>\n",
       "      <td>0.051190</td>\n",
       "      <td>-0.039548</td>\n",
       "    </tr>\n",
       "    <tr>\n",
       "      <th>2</th>\n",
       "      <td>0.268279</td>\n",
       "      <td>-0.369027</td>\n",
       "      <td>0.268750</td>\n",
       "      <td>0.105239</td>\n",
       "      <td>-0.190292</td>\n",
       "      <td>-2.093812</td>\n",
       "      <td>1.012038</td>\n",
       "      <td>-0.080958</td>\n",
       "      <td>0.510502</td>\n",
       "      <td>0.758940</td>\n",
       "      <td>...</td>\n",
       "      <td>-0.311882</td>\n",
       "      <td>0.138655</td>\n",
       "      <td>-0.067485</td>\n",
       "      <td>0.201313</td>\n",
       "      <td>-0.051898</td>\n",
       "      <td>-0.479894</td>\n",
       "      <td>-0.079818</td>\n",
       "      <td>0.398142</td>\n",
       "      <td>0.058779</td>\n",
       "      <td>-0.095208</td>\n",
       "    </tr>\n",
       "    <tr>\n",
       "      <th>3</th>\n",
       "      <td>-0.106155</td>\n",
       "      <td>-0.291958</td>\n",
       "      <td>0.270681</td>\n",
       "      <td>0.035371</td>\n",
       "      <td>-0.204143</td>\n",
       "      <td>-2.314179</td>\n",
       "      <td>0.801514</td>\n",
       "      <td>-0.155267</td>\n",
       "      <td>0.519967</td>\n",
       "      <td>0.523683</td>\n",
       "      <td>...</td>\n",
       "      <td>-0.585487</td>\n",
       "      <td>-0.100021</td>\n",
       "      <td>0.082335</td>\n",
       "      <td>0.042349</td>\n",
       "      <td>-0.179251</td>\n",
       "      <td>-0.106235</td>\n",
       "      <td>-0.034940</td>\n",
       "      <td>0.386797</td>\n",
       "      <td>-0.034177</td>\n",
       "      <td>-0.132103</td>\n",
       "    </tr>\n",
       "    <tr>\n",
       "      <th>4</th>\n",
       "      <td>0.673338</td>\n",
       "      <td>-0.345606</td>\n",
       "      <td>0.246740</td>\n",
       "      <td>0.238184</td>\n",
       "      <td>0.948365</td>\n",
       "      <td>-0.041183</td>\n",
       "      <td>0.279347</td>\n",
       "      <td>0.034288</td>\n",
       "      <td>1.173712</td>\n",
       "      <td>2.115719</td>\n",
       "      <td>...</td>\n",
       "      <td>-0.262556</td>\n",
       "      <td>0.011353</td>\n",
       "      <td>-0.353489</td>\n",
       "      <td>0.209535</td>\n",
       "      <td>-0.402682</td>\n",
       "      <td>-0.353866</td>\n",
       "      <td>0.106203</td>\n",
       "      <td>0.366540</td>\n",
       "      <td>0.218785</td>\n",
       "      <td>-0.080414</td>\n",
       "    </tr>\n",
       "  </tbody>\n",
       "</table>\n",
       "<p>5 rows × 40 columns</p>\n",
       "</div>"
      ],
      "text/plain": [
       "         0         1         2         3         4         5         6    \n",
       "0 -0.030730 -0.052976  0.176556 -0.048078 -0.390790 -2.119829  0.875118  \\\n",
       "1  0.077533 -0.108477  0.128970 -0.032167 -0.182756 -1.604412  0.701500   \n",
       "2  0.268279 -0.369027  0.268750  0.105239 -0.190292 -2.093812  1.012038   \n",
       "3 -0.106155 -0.291958  0.270681  0.035371 -0.204143 -2.314179  0.801514   \n",
       "4  0.673338 -0.345606  0.246740  0.238184  0.948365 -0.041183  0.279347   \n",
       "\n",
       "         7         8         9   ...        30        31        32        33   \n",
       "0 -0.187689  0.685004  0.870080  ... -0.253283 -0.248582  0.283079 -0.178321  \\\n",
       "1 -0.068443  0.667338  1.098287  ... -0.423007  0.097453  0.184025  0.027788   \n",
       "2 -0.080958  0.510502  0.758940  ... -0.311882  0.138655 -0.067485  0.201313   \n",
       "3 -0.155267  0.519967  0.523683  ... -0.585487 -0.100021  0.082335  0.042349   \n",
       "4  0.034288  1.173712  2.115719  ... -0.262556  0.011353 -0.353489  0.209535   \n",
       "\n",
       "         34        35        36        37        38        39  \n",
       "0 -0.087101 -0.027081  0.000970  0.124380 -0.100580 -0.119294  \n",
       "1  0.112078 -0.414946 -0.210576  0.277156  0.051190 -0.039548  \n",
       "2 -0.051898 -0.479894 -0.079818  0.398142  0.058779 -0.095208  \n",
       "3 -0.179251 -0.106235 -0.034940  0.386797 -0.034177 -0.132103  \n",
       "4 -0.402682 -0.353866  0.106203  0.366540  0.218785 -0.080414  \n",
       "\n",
       "[5 rows x 40 columns]"
      ]
     },
     "execution_count": 7,
     "metadata": {},
     "output_type": "execute_result"
    }
   ],
   "source": [
    "print(both_pca_training_users_df.shape)\n",
    "both_pca_training_users_df.head()"
   ]
  },
  {
   "cell_type": "markdown",
   "id": "a4e20eaf-1040-4f62-bb46-524846cc5e5c",
   "metadata": {},
   "source": [
    "Make the dataloaders for the autoencoders"
   ]
  },
  {
   "cell_type": "code",
   "execution_count": 8,
   "id": "95be1122-3136-4c4a-8769-07eb8476660a",
   "metadata": {},
   "outputs": [],
   "source": [
    "# CREATE THE TRAINING SET\n",
    "num_gestures = len(emg_training_users_df) // num_rows_per_gesture\n",
    "num_full_emg_features = emg_training_users_df.shape[1]\n",
    "emg_train_loader = create_data_loader(emg_training_users_df, GestureDatasetAE, num_gestures, num_rows_per_gesture, num_full_emg_features, batch_size, shuffle=True)\n",
    "# CREATE THE TEST SET\n",
    "num_test_gestures = len(emg_test_users_df) // num_rows_per_gesture\n",
    "emg_test_loader = create_data_loader(emg_test_users_df, GestureDatasetAE, num_test_gestures, num_rows_per_gesture, num_full_emg_features, batch_size, shuffle=False)\n",
    "\n",
    "# CREATE THE TRAINING SET\n",
    "num_gestures = len(both_training_users_df) // num_rows_per_gesture\n",
    "num_full_both_features = both_training_users_df.shape[1]\n",
    "both_train_loader = create_data_loader(both_training_users_df, GestureDatasetAE, num_gestures, num_rows_per_gesture, num_full_both_features, batch_size, shuffle=True)\n",
    "# CREATE THE TEST SET\n",
    "num_test_gestures = len(both_test_users_df) // num_rows_per_gesture\n",
    "both_test_loader = create_data_loader(both_test_users_df, GestureDatasetAE, num_test_gestures, num_rows_per_gesture, num_full_both_features, batch_size, shuffle=False)\n",
    "\n",
    "# CREATE THE TRAINING SET\n",
    "num_gestures = len(both_pca_training_users_df) // num_rows_per_gesture\n",
    "num_both_pca_features = both_pca_training_users_df.shape[1]\n",
    "both_pca_train_loader = create_data_loader(both_pca_training_users_df, GestureDatasetAE, num_gestures, num_rows_per_gesture, num_both_pca_features, batch_size, shuffle=True)\n",
    "# CREATE THE TEST SET\n",
    "num_test_gestures = len(both_pca_test_users_df) // num_rows_per_gesture\n",
    "both_pca_test_loader = create_data_loader(both_pca_test_users_df, GestureDatasetAE, num_test_gestures, num_rows_per_gesture, num_both_pca_features, batch_size, shuffle=False)"
   ]
  },
  {
   "cell_type": "code",
   "execution_count": 9,
   "id": "a501fee0-3c85-4c02-aaa3-f785b9552412",
   "metadata": {},
   "outputs": [
    {
     "name": "stdout",
     "output_type": "stream",
     "text": [
      "Average testing loss across the entire test_loader: 0.26212913915514946\n"
     ]
    }
   ],
   "source": [
    "hidden_dim_lst = [64, 22]\n",
    "input_dim = 88\n",
    "RNNAE_64_22mir_BothFull = RNNAutoencoder(input_dim, hidden_dim_lst, num_layers=None, seq_len=num_rows_per_gesture, progressive=False, mirror=True)\n",
    "RNNAE_64_22mir_BothFull.load_state_dict(torch.load(model_dir_path+'RNNAE_64_22mir_vallossp262_BothFull.pth'))\n",
    "\n",
    "average_test_loss, sample_data_lst, reconstructions_lst, latent_representations_lst = eval_on_testset_and_return_original_and_reconstructed(RNNAE_64_22mir_BothFull, both_test_loader)\n",
    "\n",
    "latent_representations = np.concatenate(latent_representations_lst)\n",
    "latent_representations_reshaped = latent_representations.reshape(latent_representations.shape[0], -1)\n"
   ]
  },
  {
   "cell_type": "code",
   "execution_count": 10,
   "id": "5c5a11a5-6aa6-430e-97a7-96b21a9b9e20",
   "metadata": {},
   "outputs": [
    {
     "name": "stdout",
     "output_type": "stream",
     "text": [
      "Average testing loss across the entire test_loader: 0.41911541670560837\n"
     ]
    }
   ],
   "source": [
    "hidden_dim_lst = [56, 28]\n",
    "input_dim = 40\n",
    "RNNAE_56_28mir_BothPCA40 = RNNAutoencoder(input_dim, hidden_dim_lst, num_layers=None, seq_len=num_rows_per_gesture, progressive=False, mirror=True)\n",
    "RNNAE_56_28mir_BothPCA40.load_state_dict(torch.load(model_dir_path+'RNNAE_56_28mir_vallossp419_BothPCA40.pth'))\n",
    "\n",
    "average_test_loss, sample_data_lst, reconstructions_lst, latent_representations_lst = eval_on_testset_and_return_original_and_reconstructed(RNNAE_56_28mir_BothPCA40, both_pca_test_loader)\n",
    "\n",
    "latent_representations = np.concatenate(latent_representations_lst)\n",
    "latent_representations_reshaped = latent_representations.reshape(latent_representations.shape[0], -1)\n"
   ]
  },
  {
   "cell_type": "code",
   "execution_count": 11,
   "id": "604d770b-330f-4b15-99d3-5ffe0e5c044b",
   "metadata": {},
   "outputs": [
    {
     "name": "stdout",
     "output_type": "stream",
     "text": [
      "Average testing loss across the entire test_loader: 0.2774711867625063\n"
     ]
    }
   ],
   "source": [
    "hidden_dim_lst = [9]\n",
    "input_dim = 16\n",
    "RNNAE_9mir_EMGFull = RNNAutoencoder(input_dim, hidden_dim_lst, num_layers=None, seq_len=num_rows_per_gesture, progressive=False, mirror=True)\n",
    "RNNAE_9mir_EMGFull.load_state_dict(torch.load(model_dir_path+'RNNAE_9mir_vallossp277_EMGFull.pth'))\n",
    "\n",
    "average_test_loss, sample_data_lst, reconstructions_lst, latent_representations_lst = eval_on_testset_and_return_original_and_reconstructed(RNNAE_9mir_EMGFull, emg_test_loader)\n",
    "\n",
    "latent_representations = np.concatenate(latent_representations_lst)\n",
    "latent_representations_reshaped = latent_representations.reshape(latent_representations.shape[0], -1)\n"
   ]
  },
  {
   "cell_type": "code",
   "execution_count": null,
   "id": "1db0ed2c-2b43-419b-a8ec-82b8d508153f",
   "metadata": {},
   "outputs": [],
   "source": []
  },
  {
   "cell_type": "markdown",
   "id": "2a476737-b74b-4844-a73c-622a329c8cf8",
   "metadata": {},
   "source": [
    "One hot encode\n",
    "> All datasets have the same number of rows and thus the same label sets (they only differ in the number of columns!)"
   ]
  },
  {
   "cell_type": "code",
   "execution_count": 12,
   "id": "ad547a4f-4dc3-4b2d-ab81-fe69e2b53f77",
   "metadata": {},
   "outputs": [
    {
     "data": {
      "text/html": [
       "<div>\n",
       "<style scoped>\n",
       "    .dataframe tbody tr th:only-of-type {\n",
       "        vertical-align: middle;\n",
       "    }\n",
       "\n",
       "    .dataframe tbody tr th {\n",
       "        vertical-align: top;\n",
       "    }\n",
       "\n",
       "    .dataframe thead th {\n",
       "        text-align: right;\n",
       "    }\n",
       "</style>\n",
       "<table border=\"1\" class=\"dataframe\">\n",
       "  <thead>\n",
       "    <tr style=\"text-align: right;\">\n",
       "      <th></th>\n",
       "      <th>EMG1</th>\n",
       "      <th>EMG2</th>\n",
       "      <th>EMG3</th>\n",
       "      <th>EMG4</th>\n",
       "      <th>EMG5</th>\n",
       "      <th>EMG6</th>\n",
       "      <th>EMG7</th>\n",
       "      <th>EMG8</th>\n",
       "      <th>EMG9</th>\n",
       "      <th>EMG10</th>\n",
       "      <th>EMG11</th>\n",
       "      <th>EMG12</th>\n",
       "      <th>EMG13</th>\n",
       "      <th>EMG14</th>\n",
       "      <th>EMG15</th>\n",
       "      <th>EMG16</th>\n",
       "    </tr>\n",
       "  </thead>\n",
       "  <tbody>\n",
       "    <tr>\n",
       "      <th>6400</th>\n",
       "      <td>-0.590579</td>\n",
       "      <td>-0.287949</td>\n",
       "      <td>-0.306210</td>\n",
       "      <td>-0.286026</td>\n",
       "      <td>-0.067811</td>\n",
       "      <td>-0.022725</td>\n",
       "      <td>-0.030116</td>\n",
       "      <td>-0.301059</td>\n",
       "      <td>-5.375536</td>\n",
       "      <td>-0.672272</td>\n",
       "      <td>0.003550</td>\n",
       "      <td>-0.034412</td>\n",
       "      <td>-0.015434</td>\n",
       "      <td>-0.004368</td>\n",
       "      <td>-0.132297</td>\n",
       "      <td>-0.127927</td>\n",
       "    </tr>\n",
       "    <tr>\n",
       "      <th>6401</th>\n",
       "      <td>-0.538529</td>\n",
       "      <td>-0.316620</td>\n",
       "      <td>-0.312567</td>\n",
       "      <td>-0.225234</td>\n",
       "      <td>-0.040725</td>\n",
       "      <td>-0.002531</td>\n",
       "      <td>-0.050021</td>\n",
       "      <td>-0.234298</td>\n",
       "      <td>-5.365962</td>\n",
       "      <td>-0.618651</td>\n",
       "      <td>0.022224</td>\n",
       "      <td>-0.002252</td>\n",
       "      <td>-0.007844</td>\n",
       "      <td>-0.018952</td>\n",
       "      <td>0.016946</td>\n",
       "      <td>-0.093420</td>\n",
       "    </tr>\n",
       "    <tr>\n",
       "      <th>6402</th>\n",
       "      <td>-0.521673</td>\n",
       "      <td>-0.321927</td>\n",
       "      <td>-0.321917</td>\n",
       "      <td>-0.383057</td>\n",
       "      <td>-0.026380</td>\n",
       "      <td>0.003411</td>\n",
       "      <td>-0.021233</td>\n",
       "      <td>-0.146613</td>\n",
       "      <td>-5.357741</td>\n",
       "      <td>-0.599404</td>\n",
       "      <td>-0.006983</td>\n",
       "      <td>-0.036363</td>\n",
       "      <td>-0.015657</td>\n",
       "      <td>-0.009868</td>\n",
       "      <td>0.270363</td>\n",
       "      <td>0.301810</td>\n",
       "    </tr>\n",
       "    <tr>\n",
       "      <th>6403</th>\n",
       "      <td>-0.274550</td>\n",
       "      <td>-0.283360</td>\n",
       "      <td>-0.290955</td>\n",
       "      <td>-0.607226</td>\n",
       "      <td>-0.048867</td>\n",
       "      <td>-0.005800</td>\n",
       "      <td>0.011060</td>\n",
       "      <td>0.036846</td>\n",
       "      <td>-5.534573</td>\n",
       "      <td>-0.600492</td>\n",
       "      <td>-0.006797</td>\n",
       "      <td>0.041818</td>\n",
       "      <td>0.001948</td>\n",
       "      <td>0.004594</td>\n",
       "      <td>0.287805</td>\n",
       "      <td>0.519149</td>\n",
       "    </tr>\n",
       "    <tr>\n",
       "      <th>6404</th>\n",
       "      <td>-0.203965</td>\n",
       "      <td>-0.305826</td>\n",
       "      <td>-0.301109</td>\n",
       "      <td>-0.372556</td>\n",
       "      <td>-0.062966</td>\n",
       "      <td>0.004885</td>\n",
       "      <td>-0.009311</td>\n",
       "      <td>-0.093618</td>\n",
       "      <td>-5.317473</td>\n",
       "      <td>-0.602479</td>\n",
       "      <td>0.040034</td>\n",
       "      <td>0.045638</td>\n",
       "      <td>0.013134</td>\n",
       "      <td>0.015332</td>\n",
       "      <td>-0.016407</td>\n",
       "      <td>-0.127118</td>\n",
       "    </tr>\n",
       "  </tbody>\n",
       "</table>\n",
       "</div>"
      ],
      "text/plain": [
       "          EMG1      EMG2      EMG3      EMG4      EMG5      EMG6      EMG7   \n",
       "6400 -0.590579 -0.287949 -0.306210 -0.286026 -0.067811 -0.022725 -0.030116  \\\n",
       "6401 -0.538529 -0.316620 -0.312567 -0.225234 -0.040725 -0.002531 -0.050021   \n",
       "6402 -0.521673 -0.321927 -0.321917 -0.383057 -0.026380  0.003411 -0.021233   \n",
       "6403 -0.274550 -0.283360 -0.290955 -0.607226 -0.048867 -0.005800  0.011060   \n",
       "6404 -0.203965 -0.305826 -0.301109 -0.372556 -0.062966  0.004885 -0.009311   \n",
       "\n",
       "          EMG8      EMG9     EMG10     EMG11     EMG12     EMG13     EMG14   \n",
       "6400 -0.301059 -5.375536 -0.672272  0.003550 -0.034412 -0.015434 -0.004368  \\\n",
       "6401 -0.234298 -5.365962 -0.618651  0.022224 -0.002252 -0.007844 -0.018952   \n",
       "6402 -0.146613 -5.357741 -0.599404 -0.006983 -0.036363 -0.015657 -0.009868   \n",
       "6403  0.036846 -5.534573 -0.600492 -0.006797  0.041818  0.001948  0.004594   \n",
       "6404 -0.093618 -5.317473 -0.602479  0.040034  0.045638  0.013134  0.015332   \n",
       "\n",
       "         EMG15     EMG16  \n",
       "6400 -0.132297 -0.127927  \n",
       "6401  0.016946 -0.093420  \n",
       "6402  0.270363  0.301810  \n",
       "6403  0.287805  0.519149  \n",
       "6404 -0.016407 -0.127118  "
      ]
     },
     "execution_count": 12,
     "metadata": {},
     "output_type": "execute_result"
    }
   ],
   "source": [
    "emg_test_users_df.head()"
   ]
  },
  {
   "cell_type": "code",
   "execution_count": 13,
   "id": "a995b174-d079-4126-98bd-ac2fa7c61027",
   "metadata": {},
   "outputs": [],
   "source": [
    "emg_train_df = pd.read_pickle(data_path+emg_dir+'training_users_df.pkl')\n",
    "emg_test_df = pd.read_pickle(data_path+emg_dir+'test_users_df.pkl')\n",
    "emg_train_gesture_labels_df = emg_train_df['Gesture_ID']\n",
    "emg_test_gesture_labels_df = emg_test_df['Gesture_ID']\n",
    "\n",
    "both_train_df = pd.read_pickle(data_path+both_dir+'training_users_df.pkl')\n",
    "both_test_df = pd.read_pickle(data_path+both_dir+'test_users_df.pkl')\n",
    "both_train_gesture_labels_df = both_train_df['Gesture_ID']\n",
    "both_test_gesture_labels_df = both_test_df['Gesture_ID']\n",
    "\n",
    "both_pca_train_df = pd.read_pickle(data_path+both_pca40_dir+'training_users_df.pkl')\n",
    "both_pca_test_df = pd.read_pickle(data_path+both_pca40_dir+'test_users_df.pkl')\n",
    "both_pca_train_gesture_labels_df = both_pca_train_df['Gesture_ID']\n",
    "both_pca_test_gesture_labels_df = both_pca_test_df['Gesture_ID']\n"
   ]
  },
  {
   "cell_type": "code",
   "execution_count": 14,
   "id": "254dd927-e204-4116-8a83-b52efc20a7ae",
   "metadata": {},
   "outputs": [
    {
     "name": "stdout",
     "output_type": "stream",
     "text": [
      "(160000,)\n",
      "(44800,)\n",
      "(160000,)\n",
      "(44800,)\n",
      "(160000,)\n",
      "(44800,)\n"
     ]
    }
   ],
   "source": [
    "print(emg_train_gesture_labels_df.shape)\n",
    "print(emg_test_gesture_labels_df.shape)\n",
    "print(both_train_gesture_labels_df.shape)\n",
    "print(both_test_gesture_labels_df.shape)\n",
    "print(both_pca_train_gesture_labels_df.shape)\n",
    "print(both_pca_test_gesture_labels_df.shape)"
   ]
  },
  {
   "cell_type": "code",
   "execution_count": 15,
   "id": "31644c3e-6f88-42ba-82e1-b2834135427a",
   "metadata": {
    "scrolled": true
   },
   "outputs": [
    {
     "name": "stdout",
     "output_type": "stream",
     "text": [
      "10\n",
      "['pan' 'duplicate' 'zoom-out' 'zoom-in' 'move' 'rotate' 'select-single'\n",
      " 'delete' 'close' 'open']\n"
     ]
    }
   ],
   "source": [
    "all_train_test_gestures_df = pd.concat([emg_train_gesture_labels_df, emg_test_gesture_labels_df], axis=0)\n",
    "unique_gestures = all_train_test_gestures_df.unique()\n",
    "print(len(unique_gestures))\n",
    "print(unique_gestures)"
   ]
  },
  {
   "cell_type": "code",
   "execution_count": 16,
   "id": "51b77265-a26a-4996-8bb0-480fbc9d4556",
   "metadata": {},
   "outputs": [
    {
     "name": "stdout",
     "output_type": "stream",
     "text": [
      "10\n",
      "['pan' 'duplicate' 'zoom-out' 'zoom-in' 'move' 'rotate' 'select-single'\n",
      " 'delete' 'close' 'open']\n"
     ]
    }
   ],
   "source": [
    "all_train_test_gestures_df = pd.concat([both_train_gesture_labels_df, both_test_gesture_labels_df], axis=0)\n",
    "unique_gestures = all_train_test_gestures_df.unique()\n",
    "print(len(unique_gestures))\n",
    "print(unique_gestures)"
   ]
  },
  {
   "cell_type": "code",
   "execution_count": 17,
   "id": "305e4f60-f36b-4223-aa63-a0675080fa49",
   "metadata": {},
   "outputs": [
    {
     "name": "stdout",
     "output_type": "stream",
     "text": [
      "10\n",
      "['pan' 'duplicate' 'zoom-out' 'zoom-in' 'move' 'rotate' 'select-single'\n",
      " 'delete' 'close' 'open']\n"
     ]
    }
   ],
   "source": [
    "all_train_test_gestures_df = pd.concat([both_pca_train_gesture_labels_df, both_pca_test_gesture_labels_df], axis=0)\n",
    "unique_gestures = all_train_test_gestures_df.unique()\n",
    "print(len(unique_gestures))\n",
    "print(unique_gestures)"
   ]
  },
  {
   "cell_type": "markdown",
   "id": "aaf336e9-f9df-439a-a0e5-0909318311db",
   "metadata": {},
   "source": [
    "Create OneHotEncoder"
   ]
  },
  {
   "cell_type": "code",
   "execution_count": 18,
   "id": "66a0a0cf-1b40-478b-825c-76740919c3c7",
   "metadata": {},
   "outputs": [],
   "source": [
    "# Numpy array version (not used rn)\n",
    "\n",
    "## Create OneHotEncoder instance\n",
    "#gesture_encoder = OneHotEncoder(sparse=False)\n",
    "#gesture_labels_reshaped = unique_gestures.reshape(-1, 1)\n",
    "#gesture_encoded = gesture_encoder.fit_transform(gesture_labels_reshaped)\n",
    "#print(gesture_encoded)"
   ]
  },
  {
   "cell_type": "code",
   "execution_count": 19,
   "id": "f0c3557b-4868-4b6a-ab21-b627fffe2dbe",
   "metadata": {},
   "outputs": [
    {
     "name": "stdout",
     "output_type": "stream",
     "text": [
      "(2500,)\n"
     ]
    },
    {
     "data": {
      "text/plain": [
       "0      pan\n",
       "64     pan\n",
       "128    pan\n",
       "192    pan\n",
       "256    pan\n",
       "Name: Gesture_ID, dtype: object"
      ]
     },
     "execution_count": 19,
     "metadata": {},
     "output_type": "execute_result"
    }
   ],
   "source": [
    "label_per_gesture_df = both_pca_train_gesture_labels_df.iloc[::num_rows_per_gesture]\n",
    "print(label_per_gesture_df.shape)\n",
    "label_per_gesture_df.head()"
   ]
  },
  {
   "cell_type": "code",
   "execution_count": 20,
   "id": "4a3adb32-0871-4dd8-83da-eb5335923aa2",
   "metadata": {},
   "outputs": [
    {
     "name": "stdout",
     "output_type": "stream",
     "text": [
      "(2500, 10)\n"
     ]
    },
    {
     "data": {
      "text/html": [
       "<div>\n",
       "<style scoped>\n",
       "    .dataframe tbody tr th:only-of-type {\n",
       "        vertical-align: middle;\n",
       "    }\n",
       "\n",
       "    .dataframe tbody tr th {\n",
       "        vertical-align: top;\n",
       "    }\n",
       "\n",
       "    .dataframe thead th {\n",
       "        text-align: right;\n",
       "    }\n",
       "</style>\n",
       "<table border=\"1\" class=\"dataframe\">\n",
       "  <thead>\n",
       "    <tr style=\"text-align: right;\">\n",
       "      <th></th>\n",
       "      <th>close</th>\n",
       "      <th>delete</th>\n",
       "      <th>duplicate</th>\n",
       "      <th>move</th>\n",
       "      <th>open</th>\n",
       "      <th>pan</th>\n",
       "      <th>rotate</th>\n",
       "      <th>select-single</th>\n",
       "      <th>zoom-in</th>\n",
       "      <th>zoom-out</th>\n",
       "    </tr>\n",
       "  </thead>\n",
       "  <tbody>\n",
       "    <tr>\n",
       "      <th>0</th>\n",
       "      <td>0.0</td>\n",
       "      <td>0.0</td>\n",
       "      <td>0.0</td>\n",
       "      <td>0.0</td>\n",
       "      <td>0.0</td>\n",
       "      <td>1.0</td>\n",
       "      <td>0.0</td>\n",
       "      <td>0.0</td>\n",
       "      <td>0.0</td>\n",
       "      <td>0.0</td>\n",
       "    </tr>\n",
       "    <tr>\n",
       "      <th>1</th>\n",
       "      <td>0.0</td>\n",
       "      <td>0.0</td>\n",
       "      <td>0.0</td>\n",
       "      <td>0.0</td>\n",
       "      <td>0.0</td>\n",
       "      <td>1.0</td>\n",
       "      <td>0.0</td>\n",
       "      <td>0.0</td>\n",
       "      <td>0.0</td>\n",
       "      <td>0.0</td>\n",
       "    </tr>\n",
       "    <tr>\n",
       "      <th>2</th>\n",
       "      <td>0.0</td>\n",
       "      <td>0.0</td>\n",
       "      <td>0.0</td>\n",
       "      <td>0.0</td>\n",
       "      <td>0.0</td>\n",
       "      <td>1.0</td>\n",
       "      <td>0.0</td>\n",
       "      <td>0.0</td>\n",
       "      <td>0.0</td>\n",
       "      <td>0.0</td>\n",
       "    </tr>\n",
       "    <tr>\n",
       "      <th>3</th>\n",
       "      <td>0.0</td>\n",
       "      <td>0.0</td>\n",
       "      <td>0.0</td>\n",
       "      <td>0.0</td>\n",
       "      <td>0.0</td>\n",
       "      <td>1.0</td>\n",
       "      <td>0.0</td>\n",
       "      <td>0.0</td>\n",
       "      <td>0.0</td>\n",
       "      <td>0.0</td>\n",
       "    </tr>\n",
       "    <tr>\n",
       "      <th>4</th>\n",
       "      <td>0.0</td>\n",
       "      <td>0.0</td>\n",
       "      <td>0.0</td>\n",
       "      <td>0.0</td>\n",
       "      <td>0.0</td>\n",
       "      <td>1.0</td>\n",
       "      <td>0.0</td>\n",
       "      <td>0.0</td>\n",
       "      <td>0.0</td>\n",
       "      <td>0.0</td>\n",
       "    </tr>\n",
       "  </tbody>\n",
       "</table>\n",
       "</div>"
      ],
      "text/plain": [
       "   close  delete  duplicate  move  open  pan  rotate  select-single  zoom-in   \n",
       "0    0.0     0.0        0.0   0.0   0.0  1.0     0.0            0.0      0.0  \\\n",
       "1    0.0     0.0        0.0   0.0   0.0  1.0     0.0            0.0      0.0   \n",
       "2    0.0     0.0        0.0   0.0   0.0  1.0     0.0            0.0      0.0   \n",
       "3    0.0     0.0        0.0   0.0   0.0  1.0     0.0            0.0      0.0   \n",
       "4    0.0     0.0        0.0   0.0   0.0  1.0     0.0            0.0      0.0   \n",
       "\n",
       "   zoom-out  \n",
       "0       0.0  \n",
       "1       0.0  \n",
       "2       0.0  \n",
       "3       0.0  \n",
       "4       0.0  "
      ]
     },
     "execution_count": 20,
     "metadata": {},
     "output_type": "execute_result"
    }
   ],
   "source": [
    "# TRAIN LABELS (OHE)\n",
    "labels_array = label_per_gesture_df.to_numpy()\n",
    "gesture_encoder = OneHotEncoder(sparse=False)\n",
    "labels_reshaped = labels_array.reshape(-1, 1)\n",
    "labels_encoded = gesture_encoder.fit_transform(labels_reshaped)\n",
    "encoded_labels_df = pd.DataFrame(labels_encoded, columns=gesture_encoder.categories_[0])\n",
    "\n",
    "# TEST LABELS (OHE)\n",
    "label_per_test_gesture_df = both_pca_test_gesture_labels_df.iloc[::num_rows_per_gesture]\n",
    "gesture_encoder = OneHotEncoder(sparse=False)\n",
    "test_labels_encoded = gesture_encoder.fit_transform(label_per_test_gesture_df.to_numpy().reshape(-1, 1))\n",
    "encoded_test_labels_df = pd.DataFrame(test_labels_encoded, columns=gesture_encoder.categories_[0])\n",
    "\n",
    "print(encoded_labels_df.shape)\n",
    "encoded_labels_df.head()"
   ]
  },
  {
   "cell_type": "code",
   "execution_count": 21,
   "id": "cfc04167-5ab8-4ac3-ae19-80b8e1988242",
   "metadata": {},
   "outputs": [],
   "source": [
    "X_3DTensor_full_emg = torch.tensor(emg_training_users_df.to_numpy().reshape(num_gestures, num_rows_per_gesture, num_full_emg_features), dtype=torch.float32)\n",
    "Xtest_3DTensor_full_emg = torch.tensor(emg_test_users_df.to_numpy().reshape(num_test_gestures, num_rows_per_gesture, num_full_emg_features), dtype=torch.float32)\n",
    "\n",
    "X_3DTensor_full_both = torch.tensor(both_training_users_df.to_numpy().reshape(num_gestures, num_rows_per_gesture, num_full_both_features), dtype=torch.float32)\n",
    "Xtest_3DTensor_full_both = torch.tensor(both_test_users_df.to_numpy().reshape(num_test_gestures, num_rows_per_gesture, num_full_both_features), dtype=torch.float32)\n",
    "\n",
    "X_3DTensor_both_PCA40 = torch.tensor(both_pca_training_users_df.to_numpy().reshape(num_gestures, num_rows_per_gesture, num_both_pca_features), dtype=torch.float32)\n",
    "Xtest_3DTensor_both_PCA40 = torch.tensor(both_pca_test_users_df.to_numpy().reshape(num_test_gestures, num_rows_per_gesture, num_both_pca_features), dtype=torch.float32)"
   ]
  },
  {
   "cell_type": "markdown",
   "id": "9fa9714b-0f26-40f3-8964-c274a6cedb2f",
   "metadata": {},
   "source": [
    "## Latent Space Clustering"
   ]
  },
  {
   "cell_type": "code",
   "execution_count": 22,
   "id": "4db40548-2e2b-491d-bd56-bff2fa7e7303",
   "metadata": {},
   "outputs": [
    {
     "name": "stdout",
     "output_type": "stream",
     "text": [
      "X_full_emg_train_embeddings shape: (2500, 576)\n",
      "X_full_emg_test_embeddings shape: (700, 576)\n",
      "X_full_both_train_embeddings shape: (2500, 1408)\n",
      "X_full_both_test_embeddings shape: (700, 1408)\n",
      "X_both_PCA40_train_embeddings shape: (2500, 1792)\n",
      "X_both_PCA40_test_embeddings shape: (700, 1792)\n",
      "\n",
      "encoded_labels_df shape: (2500, 10)\n",
      "encoded_test_labels_df shape: (700, 10)\n"
     ]
    }
   ],
   "source": [
    "train_embedding = RNNAE_9mir_EMGFull.encode(X_3DTensor_full_emg)\n",
    "test_embedding = RNNAE_9mir_EMGFull.encode(Xtest_3DTensor_full_emg)\n",
    "X_full_emg_train_embeddings = train_embedding.reshape(train_embedding.shape[0], -1).detach().numpy()\n",
    "X_full_emg_test_embeddings = test_embedding.reshape(test_embedding.shape[0], -1).detach().numpy()\n",
    "\n",
    "train_embedding = RNNAE_64_22mir_BothFull.encode(X_3DTensor_full_both)\n",
    "test_embedding = RNNAE_64_22mir_BothFull.encode(Xtest_3DTensor_full_both)\n",
    "X_full_both_train_embeddings = train_embedding.reshape(train_embedding.shape[0], -1).detach().numpy()\n",
    "X_full_both_test_embeddings = test_embedding.reshape(test_embedding.shape[0], -1).detach().numpy()\n",
    "\n",
    "train_embedding = RNNAE_56_28mir_BothPCA40.encode(X_3DTensor_both_PCA40)\n",
    "test_embedding = RNNAE_56_28mir_BothPCA40.encode(Xtest_3DTensor_both_PCA40)\n",
    "X_both_PCA40_train_embeddings = train_embedding.reshape(train_embedding.shape[0], -1).detach().numpy()\n",
    "X_both_PCA40_test_embeddings = test_embedding.reshape(test_embedding.shape[0], -1).detach().numpy()\n",
    "\n",
    "print(f\"X_full_emg_train_embeddings shape: {X_full_emg_train_embeddings.shape}\")\n",
    "print(f\"X_full_emg_test_embeddings shape: {X_full_emg_test_embeddings.shape}\")\n",
    "print(f\"X_full_both_train_embeddings shape: {X_full_both_train_embeddings.shape}\")\n",
    "print(f\"X_full_both_test_embeddings shape: {X_full_both_test_embeddings.shape}\")\n",
    "print(f\"X_both_PCA40_train_embeddings shape: {X_both_PCA40_train_embeddings.shape}\")\n",
    "print(f\"X_both_PCA40_test_embeddings shape: {X_both_PCA40_test_embeddings.shape}\")\n",
    "print()\n",
    "print(f\"encoded_labels_df shape: {encoded_labels_df.shape}\")\n",
    "print(f\"encoded_test_labels_df shape: {encoded_test_labels_df.shape}\")"
   ]
  },
  {
   "cell_type": "markdown",
   "id": "d11e47ac-dee2-4dfc-bf9b-ce7e24f431f1",
   "metadata": {},
   "source": [
    "> __KNN__"
   ]
  },
  {
   "cell_type": "code",
   "execution_count": 23,
   "id": "b7534dc6-d9c6-430d-9467-b5dbe7727441",
   "metadata": {},
   "outputs": [],
   "source": [
    "def knn_accuracy_vs_num_neighbors(X_train, y_train, X_test, y_test, k_range=range(1, 21)):\n",
    "    accuracies = []\n",
    "\n",
    "    for k in k_range:\n",
    "        knn = KNeighborsClassifier(n_neighbors=k)\n",
    "        knn.fit(X_train, y_train)\n",
    "        \n",
    "        y_pred = knn.predict(X_test)\n",
    "        accuracy = accuracy_score(y_test, y_pred)\n",
    "        \n",
    "        accuracies.append(accuracy)\n",
    "        print(f'k={k}, Accuracy: {accuracy*100:.2f}%')\n",
    "\n",
    "    # Plot the accuracies for each k\n",
    "    plt.plot(k_range, accuracies, marker='o')\n",
    "    plt.xlabel('Number of Neighbors (k)')\n",
    "    plt.ylabel('Accuracy')\n",
    "    plt.title('KNN Accuracy vs Number of Neighbors')\n",
    "    plt.grid(True)\n",
    "    plt.show()\n",
    "    \n",
    "    return accuracies"
   ]
  },
  {
   "cell_type": "code",
   "execution_count": 24,
   "id": "49ccf4ca-69ec-49cd-9ff4-e093b3c101f0",
   "metadata": {},
   "outputs": [
    {
     "name": "stdout",
     "output_type": "stream",
     "text": [
      "k=1, Accuracy: 10.14%\n",
      "k=2, Accuracy: 3.57%\n",
      "k=3, Accuracy: 6.57%\n",
      "k=4, Accuracy: 2.71%\n",
      "k=5, Accuracy: 4.00%\n",
      "k=6, Accuracy: 1.71%\n",
      "k=7, Accuracy: 2.86%\n",
      "k=8, Accuracy: 1.14%\n",
      "k=9, Accuracy: 1.57%\n",
      "k=10, Accuracy: 1.29%\n",
      "k=11, Accuracy: 1.43%\n",
      "k=12, Accuracy: 1.00%\n",
      "k=13, Accuracy: 1.57%\n",
      "k=14, Accuracy: 0.57%\n",
      "k=15, Accuracy: 1.00%\n",
      "k=16, Accuracy: 0.43%\n",
      "k=17, Accuracy: 0.86%\n",
      "k=18, Accuracy: 0.43%\n",
      "k=19, Accuracy: 1.00%\n",
      "k=20, Accuracy: 0.71%\n"
     ]
    },
    {
     "data": {
      "image/png": "[encoded data removed]",
      "text/plain": [
       "<Figure size 640x480 with 1 Axes>"
      ]
     },
     "metadata": {},
     "output_type": "display_data"
    }
   ],
   "source": [
    "_full_emg = knn_accuracy_vs_num_neighbors(X_full_emg_train_embeddings, encoded_labels_df, X_full_emg_test_embeddings, encoded_test_labels_df)"
   ]
  },
  {
   "cell_type": "code",
   "execution_count": 25,
   "id": "1f22b24f-4196-4713-a63e-f2eec7a69099",
   "metadata": {},
   "outputs": [
    {
     "name": "stdout",
     "output_type": "stream",
     "text": [
      "k=1, Accuracy: 19.14%\n",
      "k=2, Accuracy: 9.57%\n",
      "k=3, Accuracy: 15.43%\n",
      "k=4, Accuracy: 10.29%\n",
      "k=5, Accuracy: 13.29%\n",
      "k=6, Accuracy: 7.86%\n",
      "k=7, Accuracy: 10.00%\n",
      "k=8, Accuracy: 7.86%\n",
      "k=9, Accuracy: 9.29%\n",
      "k=10, Accuracy: 7.86%\n",
      "k=11, Accuracy: 8.29%\n",
      "k=12, Accuracy: 6.71%\n",
      "k=13, Accuracy: 7.43%\n",
      "k=14, Accuracy: 5.86%\n",
      "k=15, Accuracy: 6.86%\n",
      "k=16, Accuracy: 4.86%\n",
      "k=17, Accuracy: 6.57%\n",
      "k=18, Accuracy: 5.43%\n",
      "k=19, Accuracy: 6.00%\n",
      "k=20, Accuracy: 5.14%\n"
     ]
    },
    {
     "data": {
      "image/png": "[encoded data removed]",
      "text/plain": [
       "<Figure size 640x480 with 1 Axes>"
      ]
     },
     "metadata": {},
     "output_type": "display_data"
    }
   ],
   "source": [
    "accuracies_full_both = knn_accuracy_vs_num_neighbors(X_full_both_train_embeddings, encoded_labels_df, X_full_both_test_embeddings, encoded_test_labels_df)"
   ]
  },
  {
   "cell_type": "code",
   "execution_count": 26,
   "id": "0f8f21b1-045a-4103-8943-c0bfef110fa6",
   "metadata": {},
   "outputs": [
    {
     "name": "stdout",
     "output_type": "stream",
     "text": [
      "k=1, Accuracy: 18.71%\n",
      "k=2, Accuracy: 11.86%\n",
      "k=3, Accuracy: 16.86%\n",
      "k=4, Accuracy: 11.71%\n",
      "k=5, Accuracy: 14.57%\n",
      "k=6, Accuracy: 10.86%\n",
      "k=7, Accuracy: 12.86%\n",
      "k=8, Accuracy: 9.86%\n",
      "k=9, Accuracy: 12.00%\n",
      "k=10, Accuracy: 8.86%\n",
      "k=11, Accuracy: 10.71%\n",
      "k=12, Accuracy: 8.57%\n",
      "k=13, Accuracy: 10.14%\n",
      "k=14, Accuracy: 7.43%\n",
      "k=15, Accuracy: 8.57%\n",
      "k=16, Accuracy: 6.14%\n",
      "k=17, Accuracy: 7.00%\n",
      "k=18, Accuracy: 5.14%\n",
      "k=19, Accuracy: 6.00%\n",
      "k=20, Accuracy: 4.86%\n"
     ]
    },
    {
     "data": {
      "image/png": "[encoded data removed]",
      "text/plain": [
       "<Figure size 640x480 with 1 Axes>"
      ]
     },
     "metadata": {},
     "output_type": "display_data"
    }
   ],
   "source": [
    "accuracies_both_PCA40 = knn_accuracy_vs_num_neighbors(X_both_PCA40_train_embeddings, encoded_labels_df, X_both_PCA40_test_embeddings, encoded_test_labels_df)"
   ]
  },
  {
   "cell_type": "markdown",
   "id": "173d751e-0742-4cf5-9e97-bb552675b45a",
   "metadata": {},
   "source": [
    "> __SVC__"
   ]
  },
  {
   "cell_type": "code",
   "execution_count": 27,
   "id": "ad877ba2-8208-4943-9da3-3d1a7fd4cfd4",
   "metadata": {},
   "outputs": [
    {
     "name": "stdout",
     "output_type": "stream",
     "text": [
      "2500\n",
      "700\n"
     ]
    }
   ],
   "source": [
    "y_integer = np.argmax(encoded_labels_df, axis=1)\n",
    "print(len(y_integer))\n",
    "\n",
    "ytest_integer = np.argmax(encoded_test_labels_df, axis=1)\n",
    "print(len(ytest_integer))"
   ]
  },
  {
   "cell_type": "code",
   "execution_count": 28,
   "id": "316878e2-3fea-4adc-b6ec-f174254560ea",
   "metadata": {},
   "outputs": [],
   "source": [
    "from sklearn.model_selection import GridSearchCV\n",
    "\n",
    "def svm_hyperparameter_tuning(X_train, y_train, X_test, y_test, kernels=['linear', 'rbf', 'poly', 'sigmoid']):\n",
    "    \"\"\"\n",
    "    Train SVM classifiers with different hyperparameters and plot the accuracy for each kernel.\n",
    "\n",
    "    Parameters:\n",
    "    - X_train: Training data embeddings\n",
    "    - y_train: Training labels\n",
    "    - X_test: Test data embeddings\n",
    "    - y_test: Test labels\n",
    "    - kernels: List of kernel types to test (default: ['linear', 'rbf', 'poly', 'sigmoid'])\n",
    "\n",
    "    Returns:\n",
    "    - best_params: Best parameters found for each kernel type\n",
    "    - best_accuracies: Best accuracy found for each kernel type\n",
    "    \"\"\"\n",
    "\n",
    "    print(\"Starting\")\n",
    "\n",
    "    # FULL\n",
    "    #C_lst = [0.1, 1, 10, 100]\n",
    "    #gamma_lst = [1, 0.1, 0.01, 0.001]\n",
    "    #param_grid = {\n",
    "    #    'linear': {'C': C_lst},\n",
    "    #    'rbf': {'C': C_lst, 'gamma': gamma_lst},\n",
    "    #    'poly': {'C': C_lst, 'degree': [2, 3, 4], 'gamma': gamma_lst, 'coef0': [0, 1, 10]},\n",
    "    #    'sigmoid': {'C': C_lst, 'gamma': gamma_lst, 'coef0': [0, 1, 10]}\n",
    "    #}\n",
    "\n",
    "    # CONDENSED FOR SPEED...\n",
    "    C_lst = [0.1, 1, 10]\n",
    "    gamma_lst = [1, 0.1]\n",
    "    param_grid = {\n",
    "        'linear': {'C': C_lst},\n",
    "        'rbf': {'C': C_lst, 'gamma': gamma_lst},\n",
    "        'poly': {'C': C_lst, 'degree': [2, 3], 'gamma': gamma_lst, 'coef0': [0, 1]},\n",
    "        'sigmoid': {'C': C_lst, 'gamma': gamma_lst, 'coef0': [0, 1]}\n",
    "    }\n",
    "    \n",
    "    best_params = {}\n",
    "    best_accuracies = {}\n",
    "    \n",
    "    for kernel in kernels:\n",
    "        grid = GridSearchCV(SVC(kernel=kernel, random_state=42), param_grid[kernel], refit=True, verbose=0)\n",
    "        grid.fit(X_train, y_train)\n",
    "        \n",
    "        y_pred = grid.predict(X_test)\n",
    "        accuracy = accuracy_score(y_test, y_pred)\n",
    "        \n",
    "        best_params[kernel] = grid.best_params_\n",
    "        best_accuracies[kernel] = accuracy\n",
    "        print(f'Kernel={kernel}, Best Params: {grid.best_params_}, Accuracy: {accuracy*100:.2f}%')\n",
    "        #print(f\"Classification Report for {kernel} kernel:\\n\", classification_report(y_test, y_pred))\n",
    "    \n",
    "    plt.bar(best_accuracies.keys(), best_accuracies.values())\n",
    "    plt.xlabel('Kernel Type')\n",
    "    plt.ylabel('Accuracy')\n",
    "    plt.title('SVM Accuracy vs Kernel Type')\n",
    "    #plt.grid(True)\n",
    "    plt.show()\n",
    "    \n",
    "    return best_params, best_accuracies"
   ]
  },
  {
   "cell_type": "code",
   "execution_count": 29,
   "id": "082e4981-a4a3-4199-b91b-f8ff425f09a4",
   "metadata": {},
   "outputs": [
    {
     "name": "stdout",
     "output_type": "stream",
     "text": [
      "Starting\n",
      "Kernel=linear, Best Params: {'C': 0.1}, Accuracy: 11.14%\n",
      "Kernel=rbf, Best Params: {'C': 1, 'gamma': 0.1}, Accuracy: 10.71%\n",
      "Kernel=poly, Best Params: {'C': 0.1, 'coef0': 1, 'degree': 3, 'gamma': 0.1}, Accuracy: 12.29%\n",
      "Kernel=sigmoid, Best Params: {'C': 1, 'coef0': 1, 'gamma': 0.1}, Accuracy: 12.57%\n"
     ]
    },
    {
     "data": {
      "image/png": "[encoded data removed]",
      "text/plain": [
       "<Figure size 640x480 with 1 Axes>"
      ]
     },
     "metadata": {},
     "output_type": "display_data"
    }
   ],
   "source": [
    "best_params_full_emg, best_accuracies_full_emg = svm_hyperparameter_tuning(X_full_emg_train_embeddings, y_integer, X_full_emg_test_embeddings, ytest_integer)\n"
   ]
  },
  {
   "cell_type": "code",
   "execution_count": 30,
   "id": "2e8302a7-2ed3-4948-bec6-0bd31fcd4052",
   "metadata": {},
   "outputs": [
    {
     "name": "stdout",
     "output_type": "stream",
     "text": [
      "Starting\n",
      "Kernel=linear, Best Params: {'C': 1}, Accuracy: 17.14%\n",
      "Kernel=rbf, Best Params: {'C': 10, 'gamma': 0.1}, Accuracy: 16.43%\n",
      "Kernel=poly, Best Params: {'C': 0.1, 'coef0': 0, 'degree': 3, 'gamma': 1}, Accuracy: 18.57%\n",
      "Kernel=sigmoid, Best Params: {'C': 10, 'coef0': 0, 'gamma': 0.1}, Accuracy: 6.86%\n"
     ]
    },
    {
     "data": {
      "image/png": "[encoded data removed]",
      "text/plain": [
       "<Figure size 640x480 with 1 Axes>"
      ]
     },
     "metadata": {},
     "output_type": "display_data"
    }
   ],
   "source": [
    "best_params_full_both, best_accuracies_full_both = svm_hyperparameter_tuning(X_full_both_train_embeddings, y_integer, X_full_both_test_embeddings, ytest_integer)\n"
   ]
  },
  {
   "cell_type": "code",
   "execution_count": 31,
   "id": "a6879dac-2bae-45bf-b51b-33d6bfbe4d64",
   "metadata": {},
   "outputs": [
    {
     "name": "stdout",
     "output_type": "stream",
     "text": [
      "Starting\n",
      "Kernel=linear, Best Params: {'C': 1}, Accuracy: 17.29%\n",
      "Kernel=rbf, Best Params: {'C': 10, 'gamma': 0.1}, Accuracy: 15.86%\n",
      "Kernel=poly, Best Params: {'C': 0.1, 'coef0': 1, 'degree': 3, 'gamma': 0.1}, Accuracy: 22.00%\n",
      "Kernel=sigmoid, Best Params: {'C': 0.1, 'coef0': 1, 'gamma': 0.1}, Accuracy: 11.57%\n"
     ]
    },
    {
     "data": {
      "image/png": "[encoded data removed]",
      "text/plain": [
       "<Figure size 640x480 with 1 Axes>"
      ]
     },
     "metadata": {},
     "output_type": "display_data"
    }
   ],
   "source": [
    "best_params_both_PCA40, best_accuracies_both_PCA40 = svm_hyperparameter_tuning(X_both_PCA40_train_embeddings, y_integer, X_both_PCA40_test_embeddings, ytest_integer)\n"
   ]
  },
  {
   "cell_type": "code",
   "execution_count": null,
   "id": "45c965e1-e1f2-41fc-8842-26181c397c68",
   "metadata": {},
   "outputs": [],
   "source": [
    "assert(False)"
   ]
  },
  {
   "cell_type": "markdown",
   "id": "4a7c2b2a-f5d7-4721-8538-16c53fe6ae9c",
   "metadata": {},
   "source": [
    "Old SVC results"
   ]
  },
  {
   "cell_type": "code",
   "execution_count": 32,
   "id": "ba744d15-3a0c-4aa8-a3ab-d8bd8022f80b",
   "metadata": {},
   "outputs": [
    {
     "ename": "NameError",
     "evalue": "name 'X_train_embeddings' is not defined",
     "output_type": "error",
     "traceback": [
      "\u001b[1;31m---------------------------------------------------------------------------\u001b[0m",
      "\u001b[1;31mNameError\u001b[0m                                 Traceback (most recent call last)",
      "Cell \u001b[1;32mIn[32], line 5\u001b[0m\n\u001b[0;32m      2\u001b[0m svm_model \u001b[38;5;241m=\u001b[39m SVC(kernel\u001b[38;5;241m=\u001b[39m\u001b[38;5;124m'\u001b[39m\u001b[38;5;124mlinear\u001b[39m\u001b[38;5;124m'\u001b[39m, C\u001b[38;5;241m=\u001b[39m\u001b[38;5;241m1.0\u001b[39m, random_state\u001b[38;5;241m=\u001b[39m\u001b[38;5;241m42\u001b[39m)  \u001b[38;5;66;03m# You can change kernel to 'rbf', 'poly', etc.\u001b[39;00m\n\u001b[0;32m      4\u001b[0m \u001b[38;5;66;03m# Train the SVM model\u001b[39;00m\n\u001b[1;32m----> 5\u001b[0m svm_model\u001b[38;5;241m.\u001b[39mfit(\u001b[43mX_train_embeddings\u001b[49m, y_integer)\n\u001b[0;32m      7\u001b[0m \u001b[38;5;66;03m# Predict the labels for the test set\u001b[39;00m\n\u001b[0;32m      8\u001b[0m y_pred \u001b[38;5;241m=\u001b[39m svm_model\u001b[38;5;241m.\u001b[39mpredict(X_test_embeddings)\n",
      "\u001b[1;31mNameError\u001b[0m: name 'X_train_embeddings' is not defined"
     ]
    }
   ],
   "source": [
    "# Create an SVM classifier\n",
    "svm_model = SVC(kernel='linear', C=1.0, random_state=42)  # You can change kernel to 'rbf', 'poly', etc.\n",
    "\n",
    "# Train the SVM model\n",
    "svm_model.fit(X_train_embeddings, y_integer)\n",
    "\n",
    "# Predict the labels for the test set\n",
    "y_pred = svm_model.predict(X_test_embeddings)\n",
    "\n",
    "# Evaluate the model\n",
    "print(f\"Accuracy: {accuracy_score(ytest_integer, y_pred)*100:.2f}%\")\n",
    "print(\"Classification Report:\\n\", classification_report(ytest_integer, y_pred))"
   ]
  },
  {
   "cell_type": "code",
   "execution_count": null,
   "id": "00b27152-c494-4f4e-b7bd-312abca7c671",
   "metadata": {},
   "outputs": [],
   "source": [
    "# Create an SVM classifier\n",
    "svm_model = SVC(kernel='rbf', C=1.0, random_state=42)  # You can change kernel to 'rbf', 'poly', etc.\n",
    "\n",
    "# Train the SVM model\n",
    "svm_model.fit(X_train_embeddings, y_integer)\n",
    "\n",
    "# Predict the labels for the test set\n",
    "y_pred = svm_model.predict(X_test_embeddings)\n",
    "\n",
    "# Evaluate the model\n",
    "print(f\"Accuracy: {accuracy_score(ytest_integer, y_pred)*100:.2f}%\")\n",
    "print(\"Classification Report:\\n\", classification_report(ytest_integer, y_pred))"
   ]
  },
  {
   "cell_type": "markdown",
   "id": "8d8fd9f4-ed63-4ec3-bd03-497b8042d10a",
   "metadata": {},
   "source": [
    "Make the dataloaders for the clustering algorithms (this is only for NNs)"
   ]
  },
  {
   "cell_type": "code",
   "execution_count": null,
   "id": "65b6828a-91a5-476b-9250-49467d705bd8",
   "metadata": {},
   "outputs": [],
   "source": [
    "# CREATE THE TRAINING SET\n",
    "num_gestures = len(emg_training_users_df) // num_rows_per_gesture\n",
    "num_features = emg_training_users_df.shape[1]\n",
    "emg_train_loader = create_data_loader(emg_training_users_df, GestureDatasetClustering, num_gestures, num_rows_per_gesture, num_features, batch_size, shuffle=True)\n",
    "# CREATE THE TEST SET\n",
    "num_features = emg_test_users_df.shape[1]\n",
    "num_gestures = len(emg_test_users_df) // num_rows_per_gesture\n",
    "emg_test_loader = create_data_loader(emg_test_users_df, GestureDatasetClustering, num_gestures, num_rows_per_gesture, num_features, batch_size, shuffle=False)\n",
    "\n",
    "# CREATE THE TRAINING SET\n",
    "num_gestures = len(both_training_users_df) // num_rows_per_gesture\n",
    "num_features = both_training_users_df.shape[1]\n",
    "both_train_loader = create_data_loader(both_training_users_df, GestureDatasetClustering, num_gestures, num_rows_per_gesture, num_features, batch_size, shuffle=True)\n",
    "# CREATE THE TEST SET\n",
    "num_features = both_test_users_df.shape[1]\n",
    "num_gestures = len(both_test_users_df) // num_rows_per_gesture\n",
    "both_test_loader = create_data_loader(both_test_users_df, GestureDatasetClustering, num_gestures, num_rows_per_gesture, num_features, batch_size, shuffle=False)\n",
    "\n",
    "# CREATE THE TRAINING SET\n",
    "num_gestures = len(both_pca_training_users_df) // num_rows_per_gesture\n",
    "num_features = both_pca_training_users_df.shape[1]\n",
    "both_pca_train_loader = create_data_loader(both_pca_training_users_df, GestureDatasetClustering, num_gestures, num_rows_per_gesture, num_features, batch_size, shuffle=True)\n",
    "# CREATE THE TEST SET\n",
    "num_features = both_pca_test_users_df.shape[1]\n",
    "num_gestures = len(both_pca_test_users_df) // num_rows_per_gesture\n",
    "both_pca_test_loader = create_data_loader(both_pca_test_users_df, GestureDatasetClustering, num_gestures, num_rows_per_gesture, num_features, batch_size, shuffle=False)"
   ]
  },
  {
   "cell_type": "code",
   "execution_count": null,
   "id": "279e6285-9587-4cab-b71a-a2a4c670a1be",
   "metadata": {},
   "outputs": [],
   "source": []
  }
 ],
 "metadata": {
  "kernelspec": {
   "display_name": "Python 3 (ipykernel)",
   "language": "python",
   "name": "python3"
  },
  "language_info": {
   "codemirror_mode": {
    "name": "ipython",
    "version": 3
   },
   "file_extension": ".py",
   "mimetype": "text/x-python",
   "name": "python",
   "nbconvert_exporter": "python",
   "pygments_lexer": "ipython3",
   "version": "3.10.12"
  }
 },
 "nbformat": 4,
 "nbformat_minor": 5
}
