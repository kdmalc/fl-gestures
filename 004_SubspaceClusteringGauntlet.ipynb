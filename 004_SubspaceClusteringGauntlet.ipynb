{
 "cells": [
  {
   "cell_type": "code",
   "execution_count": 1,
   "id": "4b04f99f",
   "metadata": {},
   "outputs": [],
   "source": [
    "import numpy as np\n",
    "import matplotlib.pyplot as plt\n",
    "import sys\n",
    "import os\n",
    "import copy\n",
    "import pandas as pd\n",
    "import time"
   ]
  },
  {
   "cell_type": "code",
   "execution_count": null,
   "id": "c0fa0cdb",
   "metadata": {},
   "outputs": [],
   "source": [
    "from sklearn.cluster import KMeans\n",
    "from sklearn.metrics import silhouette_score\n",
    "from sklearn.model_selection import train_test_split\n",
    "from sklearn.linear_model import LogisticRegression\n",
    "from sklearn.metrics import accuracy_score, f1_score"
   ]
  },
  {
   "cell_type": "code",
   "execution_count": 3,
   "id": "d6d49703",
   "metadata": {},
   "outputs": [],
   "source": [
    "from subspace_clustering_helper_funcs import *"
   ]
  },
  {
   "cell_type": "markdown",
   "id": "1b5a9b09",
   "metadata": {},
   "source": [
    "- https://scikit-learn.org/stable/modules/classes.html#module-sklearn.manifold"
   ]
  },
  {
   "cell_type": "markdown",
   "id": "85e073f3",
   "metadata": {},
   "source": [
    "## Loading in the data"
   ]
  },
  {
   "cell_type": "code",
   "execution_count": 4,
   "id": "904a58ee",
   "metadata": {},
   "outputs": [],
   "source": [
    "# remove pID 101 because it doesn't exist\n",
    "# remove pID 131 because it  doesnt have enough user defined gestures\n",
    "# each participant has 100 experimenter defined files and 50 user defined files\n",
    "# 10 experimenter defined gestures and 5 user defined gestures\n",
    "\n",
    "file_types = [\"IMU_extract\", \"movavg_files\"]\n",
    "expt_types = [\"experimenter-defined\"]\n",
    "\n",
    "#remove participant 131 because they are missing gestures \n",
    "pIDs_impaired = ['P102','P103','P104','P105','P106','P107','P108','P109','P110','P111',\n",
    "       'P112','P114','P115','P116','P118','P119','P121','P122','P123','P124','P125',\n",
    "       'P126','P127','P128', 'P132']\n",
    "# remove participants P001 and P003 because they dont have duplicate or open gestures\n",
    "pIDs_unimpaired = ['P004','P005','P006','P008','P010','P011']\n",
    "\n",
    "pIDs_both = pIDs_impaired + pIDs_unimpaired"
   ]
  },
  {
   "cell_type": "code",
   "execution_count": 5,
   "id": "32fbe4f5",
   "metadata": {},
   "outputs": [
    {
     "name": "stdout",
     "output_type": "stream",
     "text": [
      "Loading\n",
      "Completed in 1.161147117614746s\n"
     ]
    }
   ],
   "source": [
    "## Pickle is theoretically faster for Python...\n",
    "\n",
    "print(\"Loading\")\n",
    "start_time = time.time()\n",
    "PCA_df = pd.read_pickle('PCA_ms_IMUEMG_df.pkl')\n",
    "metadata_cols_df = pd.read_pickle('metadata_cols_df.pkl')\n",
    "\n",
    "test_users_df = pd.read_pickle('test_users_df.pkl')\n",
    "test_fullgestures_df = pd.read_pickle('test_fullgestures_df.pkl')\n",
    "training_u_df = pd.read_pickle('training_u_df.pkl')\n",
    "training_g_df = pd.read_pickle('training_g_df.pkl')\n",
    "\n",
    "end_time = time.time()\n",
    "print(f\"Completed in {end_time - start_time}s\")"
   ]
  },
  {
   "cell_type": "code",
   "execution_count": 6,
   "id": "b0f2dafe",
   "metadata": {},
   "outputs": [
    {
     "name": "stdout",
     "output_type": "stream",
     "text": [
      "(426752, 91)\n"
     ]
    },
    {
     "data": {
      "text/html": [
       "<div>\n",
       "<style scoped>\n",
       "    .dataframe tbody tr th:only-of-type {\n",
       "        vertical-align: middle;\n",
       "    }\n",
       "\n",
       "    .dataframe tbody tr th {\n",
       "        vertical-align: top;\n",
       "    }\n",
       "\n",
       "    .dataframe thead th {\n",
       "        text-align: right;\n",
       "    }\n",
       "</style>\n",
       "<table border=\"1\" class=\"dataframe\">\n",
       "  <thead>\n",
       "    <tr style=\"text-align: right;\">\n",
       "      <th></th>\n",
       "      <th>Participant</th>\n",
       "      <th>Gesture_ID</th>\n",
       "      <th>Gesture_Num</th>\n",
       "      <th>IMU1_ax</th>\n",
       "      <th>IMU1_ay</th>\n",
       "      <th>IMU1_az</th>\n",
       "      <th>IMU1_vx</th>\n",
       "      <th>IMU1_vy</th>\n",
       "      <th>IMU1_vz</th>\n",
       "      <th>IMU2_ax</th>\n",
       "      <th>...</th>\n",
       "      <th>EMG7</th>\n",
       "      <th>EMG8</th>\n",
       "      <th>EMG9</th>\n",
       "      <th>EMG10</th>\n",
       "      <th>EMG11</th>\n",
       "      <th>EMG12</th>\n",
       "      <th>EMG13</th>\n",
       "      <th>EMG14</th>\n",
       "      <th>EMG15</th>\n",
       "      <th>EMG16</th>\n",
       "    </tr>\n",
       "  </thead>\n",
       "  <tbody>\n",
       "    <tr>\n",
       "      <th>0</th>\n",
       "      <td>P102</td>\n",
       "      <td>pan</td>\n",
       "      <td>1</td>\n",
       "      <td>0.341797</td>\n",
       "      <td>-0.939941</td>\n",
       "      <td>0.000977</td>\n",
       "      <td>-0.007450</td>\n",
       "      <td>-0.192625</td>\n",
       "      <td>0.005321</td>\n",
       "      <td>-0.380859</td>\n",
       "      <td>...</td>\n",
       "      <td>0.000002</td>\n",
       "      <td>0.000002</td>\n",
       "      <td>0.000003</td>\n",
       "      <td>0.000020</td>\n",
       "      <td>0.000004</td>\n",
       "      <td>0.000004</td>\n",
       "      <td>0.000002</td>\n",
       "      <td>0.000009</td>\n",
       "      <td>0.000001</td>\n",
       "      <td>0.000002</td>\n",
       "    </tr>\n",
       "    <tr>\n",
       "      <th>1</th>\n",
       "      <td>P102</td>\n",
       "      <td>pan</td>\n",
       "      <td>1</td>\n",
       "      <td>0.336178</td>\n",
       "      <td>-0.963185</td>\n",
       "      <td>0.003898</td>\n",
       "      <td>0.009595</td>\n",
       "      <td>-0.190446</td>\n",
       "      <td>-0.026116</td>\n",
       "      <td>-0.394547</td>\n",
       "      <td>...</td>\n",
       "      <td>0.000003</td>\n",
       "      <td>0.000003</td>\n",
       "      <td>0.000003</td>\n",
       "      <td>0.000014</td>\n",
       "      <td>0.000007</td>\n",
       "      <td>0.000007</td>\n",
       "      <td>0.000002</td>\n",
       "      <td>0.000017</td>\n",
       "      <td>0.000001</td>\n",
       "      <td>0.000002</td>\n",
       "    </tr>\n",
       "    <tr>\n",
       "      <th>2</th>\n",
       "      <td>P102</td>\n",
       "      <td>pan</td>\n",
       "      <td>1</td>\n",
       "      <td>0.353539</td>\n",
       "      <td>-0.963704</td>\n",
       "      <td>0.011711</td>\n",
       "      <td>0.095966</td>\n",
       "      <td>-0.205480</td>\n",
       "      <td>-0.155563</td>\n",
       "      <td>-0.398406</td>\n",
       "      <td>...</td>\n",
       "      <td>0.000003</td>\n",
       "      <td>0.000003</td>\n",
       "      <td>0.000004</td>\n",
       "      <td>0.000007</td>\n",
       "      <td>0.000004</td>\n",
       "      <td>0.000005</td>\n",
       "      <td>0.000003</td>\n",
       "      <td>0.000020</td>\n",
       "      <td>0.000003</td>\n",
       "      <td>0.000002</td>\n",
       "    </tr>\n",
       "    <tr>\n",
       "      <th>3</th>\n",
       "      <td>P102</td>\n",
       "      <td>pan</td>\n",
       "      <td>1</td>\n",
       "      <td>0.352841</td>\n",
       "      <td>-0.950288</td>\n",
       "      <td>0.011509</td>\n",
       "      <td>0.058836</td>\n",
       "      <td>-0.184871</td>\n",
       "      <td>-0.083567</td>\n",
       "      <td>-0.389230</td>\n",
       "      <td>...</td>\n",
       "      <td>0.000003</td>\n",
       "      <td>0.000003</td>\n",
       "      <td>0.000006</td>\n",
       "      <td>0.000005</td>\n",
       "      <td>0.000004</td>\n",
       "      <td>0.000003</td>\n",
       "      <td>0.000004</td>\n",
       "      <td>0.000015</td>\n",
       "      <td>0.000003</td>\n",
       "      <td>0.000003</td>\n",
       "    </tr>\n",
       "    <tr>\n",
       "      <th>4</th>\n",
       "      <td>P102</td>\n",
       "      <td>pan</td>\n",
       "      <td>1</td>\n",
       "      <td>0.372621</td>\n",
       "      <td>-0.991273</td>\n",
       "      <td>0.029847</td>\n",
       "      <td>0.293946</td>\n",
       "      <td>-0.178756</td>\n",
       "      <td>-0.281361</td>\n",
       "      <td>-0.396043</td>\n",
       "      <td>...</td>\n",
       "      <td>0.000003</td>\n",
       "      <td>0.000002</td>\n",
       "      <td>0.000008</td>\n",
       "      <td>0.000003</td>\n",
       "      <td>0.000007</td>\n",
       "      <td>0.000022</td>\n",
       "      <td>0.000004</td>\n",
       "      <td>0.000017</td>\n",
       "      <td>0.000002</td>\n",
       "      <td>0.000003</td>\n",
       "    </tr>\n",
       "  </tbody>\n",
       "</table>\n",
       "<p>5 rows × 91 columns</p>\n",
       "</div>"
      ],
      "text/plain": [
       "  Participant Gesture_ID Gesture_Num   IMU1_ax   IMU1_ay   IMU1_az   IMU1_vx  \\\n",
       "0        P102        pan           1  0.341797 -0.939941  0.000977 -0.007450   \n",
       "1        P102        pan           1  0.336178 -0.963185  0.003898  0.009595   \n",
       "2        P102        pan           1  0.353539 -0.963704  0.011711  0.095966   \n",
       "3        P102        pan           1  0.352841 -0.950288  0.011509  0.058836   \n",
       "4        P102        pan           1  0.372621 -0.991273  0.029847  0.293946   \n",
       "\n",
       "    IMU1_vy   IMU1_vz   IMU2_ax  ...      EMG7      EMG8      EMG9     EMG10  \\\n",
       "0 -0.192625  0.005321 -0.380859  ...  0.000002  0.000002  0.000003  0.000020   \n",
       "1 -0.190446 -0.026116 -0.394547  ...  0.000003  0.000003  0.000003  0.000014   \n",
       "2 -0.205480 -0.155563 -0.398406  ...  0.000003  0.000003  0.000004  0.000007   \n",
       "3 -0.184871 -0.083567 -0.389230  ...  0.000003  0.000003  0.000006  0.000005   \n",
       "4 -0.178756 -0.281361 -0.396043  ...  0.000003  0.000002  0.000008  0.000003   \n",
       "\n",
       "      EMG11     EMG12     EMG13     EMG14     EMG15     EMG16  \n",
       "0  0.000004  0.000004  0.000002  0.000009  0.000001  0.000002  \n",
       "1  0.000007  0.000007  0.000002  0.000017  0.000001  0.000002  \n",
       "2  0.000004  0.000005  0.000003  0.000020  0.000003  0.000002  \n",
       "3  0.000004  0.000003  0.000004  0.000015  0.000003  0.000003  \n",
       "4  0.000007  0.000022  0.000004  0.000017  0.000002  0.000003  \n",
       "\n",
       "[5 rows x 91 columns]"
      ]
     },
     "execution_count": 6,
     "metadata": {},
     "output_type": "execute_result"
    }
   ],
   "source": [
    "print(data_df.shape)\n",
    "data_df.head()"
   ]
  },
  {
   "cell_type": "markdown",
   "id": "6ada565a",
   "metadata": {},
   "source": [
    "I don't wanna run this one yet since it is doing a train test split... I'll manually do this later..."
   ]
  },
  {
   "cell_type": "code",
   "execution_count": null,
   "id": "db580c08",
   "metadata": {},
   "outputs": [],
   "source": [
    "## 4. Clustering and Classification Performance\n",
    "\n",
    "# Clustering: Silhouette Score\n",
    "silhouette_scores = []\n",
    "\n",
    "for n in components_range:\n",
    "    pca = PCA(n_components=n)\n",
    "    X_reduced = pca.fit_transform(X)\n",
    "    # So it just totally randomly chose 3 here lol\n",
    "    kmeans = KMeans(n_clusters=3)\n",
    "    cluster_labels = kmeans.fit_predict(X_reduced)\n",
    "    silhouette = silhouette_score(X_reduced, cluster_labels)\n",
    "    silhouette_scores.append(silhouette)\n",
    "\n",
    "# Plot the silhouette scores\n",
    "plt.plot(components_range, silhouette_scores, marker='o')\n",
    "plt.xlabel('Number of Components')\n",
    "plt.ylabel('Silhouette Score')\n",
    "plt.title('Silhouette Score vs Number of Components')\n",
    "plt.grid(True)\n",
    "plt.show()\n",
    "\n",
    "# Classification: Accuracy and F1 Score\n",
    "classification_accuracies = []\n",
    "classification_f1_scores = []\n",
    "\n",
    "# Assuming `y` is your target variable\n",
    "X_train, X_test, y_train, y_test = train_test_split(X, y, test_size=0.2, random_state=42)\n",
    "\n",
    "# This actually did a train/test split... I should do this manually...\n",
    "for n in components_range:\n",
    "    pca = PCA(n_components=n)\n",
    "    X_train_reduced = pca.fit_transform(X_train)\n",
    "    X_test_reduced = pca.transform(X_test)\n",
    "    clf = LogisticRegression(max_iter=1000)\n",
    "    clf.fit(X_train_reduced, y_train)\n",
    "    y_pred = clf.predict(X_test_reduced)\n",
    "    accuracy = accuracy_score(y_test, y_pred)\n",
    "    f1 = f1_score(y_test, y_pred, average='weighted')\n",
    "    classification_accuracies.append(accuracy)\n",
    "    classification_f1_scores.append(f1)\n",
    "\n",
    "# Plot the classification accuracies\n",
    "plt.plot(components_range, classification_accuracies, marker='o', label='Accuracy')\n",
    "plt.plot(components_range, classification_f1_scores, marker='o', label='F1 Score')\n",
    "plt.xlabel('Number of Components')\n",
    "plt.ylabel('Score')\n",
    "plt.title('Classification Performance vs Number of Components')\n",
    "plt.legend()\n",
    "plt.grid(True)\n",
    "plt.show()\n"
   ]
  },
  {
   "cell_type": "markdown",
   "id": "e4e1c14f",
   "metadata": {},
   "source": [
    "These ones require choosing a number of clusters, so just do this when we actually cluster (can probably just use this code)"
   ]
  },
  {
   "cell_type": "code",
   "execution_count": null,
   "id": "e2b8e225",
   "metadata": {},
   "outputs": [],
   "source": [
    "## Topological Measures: Neighborhood Preservation\n",
    "# This one also uses an arbitrary number of clusters...\n",
    "\n",
    "from sklearn.neighbors import NearestNeighbors\n",
    "\n",
    "def knn_preservation_score(X_orig, X_reduced, k=5):\n",
    "    knn_orig = NearestNeighbors(n_neighbors=k).fit(X_orig)\n",
    "    knn_reduced = NearestNeighbors(n_neighbors=k).fit(X_reduced)\n",
    "    neighbors_orig = knn_orig.kneighbors(X_orig, return_distance=False)\n",
    "    neighbors_reduced = knn_reduced.kneighbors(X_reduced, return_distance=False)\n",
    "    preservation = np.mean([len(set(neighbors_orig[i]).intersection(set(neighbors_reduced[i]))) / k for i in range(X_orig.shape[0])])\n",
    "    return preservation\n",
    "\n",
    "preservation_scores = []\n",
    "\n",
    "for n in components_range:\n",
    "    pca = PCA(n_components=n)\n",
    "    X_reduced = pca.fit_transform(X)\n",
    "    score = knn_preservation_score(X, X_reduced)\n",
    "    preservation_scores.append(score)\n",
    "\n",
    "# Plot the neighborhood preservation scores\n",
    "plt.plot(components_range, preservation_scores, marker='o')\n",
    "plt.xlabel('Number of Components')\n",
    "plt.ylabel('Neighborhood Preservation Score')\n",
    "plt.title('Neighborhood Preservation vs Number of Components')\n",
    "plt.grid(True)\n",
    "plt.show()\n"
   ]
  },
  {
   "cell_type": "code",
   "execution_count": null,
   "id": "0f7dae1b",
   "metadata": {},
   "outputs": [],
   "source": [
    "## 7. Distance Metrics: Pairwise Distances\n",
    "# This distance can only be used with matrices of the same size... so this doesn't work...\n",
    "\n",
    "from scipy.spatial import procrustes\n",
    "\n",
    "procrustes_distances = []\n",
    "\n",
    "for n in components_range:\n",
    "    pca = PCA(n_components=n)\n",
    "    X_reduced = pca.fit_transform(X)\n",
    "    _, _, distance = procrustes(X, X_reduced)\n",
    "    procrustes_distances.append(distance)\n",
    "\n",
    "# Plot the Procrustes distances\n",
    "plt.plot(components_range, procrustes_distances, marker='o')\n",
    "plt.xlabel('Number of Components')\n",
    "plt.ylabel('Procrustes Distance')\n",
    "plt.title('Procrustes Distance vs Number of Components')\n",
    "plt.grid(True)\n",
    "plt.show()"
   ]
  },
  {
   "cell_type": "markdown",
   "id": "7f8429b5",
   "metadata": {},
   "source": [
    "What is y... I don't have class labels..."
   ]
  },
  {
   "cell_type": "code",
   "execution_count": null,
   "id": "f6c566ba",
   "metadata": {},
   "outputs": [],
   "source": [
    "## 8. Cross-Validation Techniques\n",
    "\n",
    "from sklearn.model_selection import cross_val_score\n",
    "\n",
    "cv_accuracies = []\n",
    "\n",
    "for n in components_range:\n",
    "    pca = PCA(n_components=n)\n",
    "    X_reduced = pca.fit_transform(X)\n",
    "    clf = LogisticRegression(max_iter=1000)\n",
    "    scores = cross_val_score(clf, X_reduced, y, cv=5, scoring='accuracy')\n",
    "    cv_accuracies.append(np.mean(scores))\n",
    "\n",
    "# Plot the cross-validation accuracies\n",
    "plt.plot(components_range, cv_accuracies, marker='o')\n",
    "plt.xlabel('Number of Components')\n",
    "plt.ylabel('Cross-Validation Accuracy')\n",
    "plt.title('Cross-Validation Accuracy vs Number of Components')\n",
    "plt.grid(True)\n",
    "plt.show()\n"
   ]
  },
  {
   "cell_type": "markdown",
   "id": "e17695ac",
   "metadata": {},
   "source": [
    "## Hierarchy / Dendrogram\n",
    "Now, let's investigate a more informed choice, based on measured statistical heterogenity. Could look at Shannon or KL divergence (heatmap), but I'll just look at a dendogram for now."
   ]
  },
  {
   "cell_type": "code",
   "execution_count": 38,
   "id": "718ba741",
   "metadata": {
    "scrolled": false
   },
   "outputs": [
    {
     "data": {
      "text/html": [
       "<div>\n",
       "<style scoped>\n",
       "    .dataframe tbody tr th:only-of-type {\n",
       "        vertical-align: middle;\n",
       "    }\n",
       "\n",
       "    .dataframe tbody tr th {\n",
       "        vertical-align: top;\n",
       "    }\n",
       "\n",
       "    .dataframe thead th {\n",
       "        text-align: right;\n",
       "    }\n",
       "</style>\n",
       "<table border=\"1\" class=\"dataframe\">\n",
       "  <thead>\n",
       "    <tr style=\"text-align: right;\">\n",
       "      <th></th>\n",
       "      <th>Participant</th>\n",
       "      <th>Gesture_ID</th>\n",
       "      <th>Gesture_Num</th>\n",
       "      <th>IMU1_ax</th>\n",
       "      <th>IMU1_ay</th>\n",
       "      <th>IMU1_az</th>\n",
       "      <th>IMU1_vx</th>\n",
       "      <th>IMU1_vy</th>\n",
       "      <th>IMU1_vz</th>\n",
       "      <th>IMU2_ax</th>\n",
       "      <th>...</th>\n",
       "      <th>EMG7</th>\n",
       "      <th>EMG8</th>\n",
       "      <th>EMG9</th>\n",
       "      <th>EMG10</th>\n",
       "      <th>EMG11</th>\n",
       "      <th>EMG12</th>\n",
       "      <th>EMG13</th>\n",
       "      <th>EMG14</th>\n",
       "      <th>EMG15</th>\n",
       "      <th>EMG16</th>\n",
       "    </tr>\n",
       "  </thead>\n",
       "  <tbody>\n",
       "    <tr>\n",
       "      <th>0</th>\n",
       "      <td>P102</td>\n",
       "      <td>pan</td>\n",
       "      <td>1</td>\n",
       "      <td>0.341797</td>\n",
       "      <td>-0.939941</td>\n",
       "      <td>0.000977</td>\n",
       "      <td>-0.007450</td>\n",
       "      <td>-0.192625</td>\n",
       "      <td>0.005321</td>\n",
       "      <td>-0.380859</td>\n",
       "      <td>...</td>\n",
       "      <td>0.000002</td>\n",
       "      <td>0.000002</td>\n",
       "      <td>0.000003</td>\n",
       "      <td>0.000020</td>\n",
       "      <td>0.000004</td>\n",
       "      <td>0.000004</td>\n",
       "      <td>0.000002</td>\n",
       "      <td>0.000009</td>\n",
       "      <td>0.000001</td>\n",
       "      <td>0.000002</td>\n",
       "    </tr>\n",
       "    <tr>\n",
       "      <th>1</th>\n",
       "      <td>P102</td>\n",
       "      <td>pan</td>\n",
       "      <td>1</td>\n",
       "      <td>0.336178</td>\n",
       "      <td>-0.963185</td>\n",
       "      <td>0.003898</td>\n",
       "      <td>0.009595</td>\n",
       "      <td>-0.190446</td>\n",
       "      <td>-0.026116</td>\n",
       "      <td>-0.394547</td>\n",
       "      <td>...</td>\n",
       "      <td>0.000003</td>\n",
       "      <td>0.000003</td>\n",
       "      <td>0.000003</td>\n",
       "      <td>0.000014</td>\n",
       "      <td>0.000007</td>\n",
       "      <td>0.000007</td>\n",
       "      <td>0.000002</td>\n",
       "      <td>0.000017</td>\n",
       "      <td>0.000001</td>\n",
       "      <td>0.000002</td>\n",
       "    </tr>\n",
       "    <tr>\n",
       "      <th>2</th>\n",
       "      <td>P102</td>\n",
       "      <td>pan</td>\n",
       "      <td>1</td>\n",
       "      <td>0.353539</td>\n",
       "      <td>-0.963704</td>\n",
       "      <td>0.011711</td>\n",
       "      <td>0.095966</td>\n",
       "      <td>-0.205480</td>\n",
       "      <td>-0.155563</td>\n",
       "      <td>-0.398406</td>\n",
       "      <td>...</td>\n",
       "      <td>0.000003</td>\n",
       "      <td>0.000003</td>\n",
       "      <td>0.000004</td>\n",
       "      <td>0.000007</td>\n",
       "      <td>0.000004</td>\n",
       "      <td>0.000005</td>\n",
       "      <td>0.000003</td>\n",
       "      <td>0.000020</td>\n",
       "      <td>0.000003</td>\n",
       "      <td>0.000002</td>\n",
       "    </tr>\n",
       "    <tr>\n",
       "      <th>3</th>\n",
       "      <td>P102</td>\n",
       "      <td>pan</td>\n",
       "      <td>1</td>\n",
       "      <td>0.352841</td>\n",
       "      <td>-0.950288</td>\n",
       "      <td>0.011509</td>\n",
       "      <td>0.058836</td>\n",
       "      <td>-0.184871</td>\n",
       "      <td>-0.083567</td>\n",
       "      <td>-0.389230</td>\n",
       "      <td>...</td>\n",
       "      <td>0.000003</td>\n",
       "      <td>0.000003</td>\n",
       "      <td>0.000006</td>\n",
       "      <td>0.000005</td>\n",
       "      <td>0.000004</td>\n",
       "      <td>0.000003</td>\n",
       "      <td>0.000004</td>\n",
       "      <td>0.000015</td>\n",
       "      <td>0.000003</td>\n",
       "      <td>0.000003</td>\n",
       "    </tr>\n",
       "    <tr>\n",
       "      <th>4</th>\n",
       "      <td>P102</td>\n",
       "      <td>pan</td>\n",
       "      <td>1</td>\n",
       "      <td>0.372621</td>\n",
       "      <td>-0.991273</td>\n",
       "      <td>0.029847</td>\n",
       "      <td>0.293946</td>\n",
       "      <td>-0.178756</td>\n",
       "      <td>-0.281361</td>\n",
       "      <td>-0.396043</td>\n",
       "      <td>...</td>\n",
       "      <td>0.000003</td>\n",
       "      <td>0.000002</td>\n",
       "      <td>0.000008</td>\n",
       "      <td>0.000003</td>\n",
       "      <td>0.000007</td>\n",
       "      <td>0.000022</td>\n",
       "      <td>0.000004</td>\n",
       "      <td>0.000017</td>\n",
       "      <td>0.000002</td>\n",
       "      <td>0.000003</td>\n",
       "    </tr>\n",
       "  </tbody>\n",
       "</table>\n",
       "<p>5 rows × 91 columns</p>\n",
       "</div>"
      ],
      "text/plain": [
       "  Participant Gesture_ID Gesture_Num   IMU1_ax   IMU1_ay   IMU1_az   IMU1_vx  \\\n",
       "0        P102        pan           1  0.341797 -0.939941  0.000977 -0.007450   \n",
       "1        P102        pan           1  0.336178 -0.963185  0.003898  0.009595   \n",
       "2        P102        pan           1  0.353539 -0.963704  0.011711  0.095966   \n",
       "3        P102        pan           1  0.352841 -0.950288  0.011509  0.058836   \n",
       "4        P102        pan           1  0.372621 -0.991273  0.029847  0.293946   \n",
       "\n",
       "    IMU1_vy   IMU1_vz   IMU2_ax  ...      EMG7      EMG8      EMG9     EMG10  \\\n",
       "0 -0.192625  0.005321 -0.380859  ...  0.000002  0.000002  0.000003  0.000020   \n",
       "1 -0.190446 -0.026116 -0.394547  ...  0.000003  0.000003  0.000003  0.000014   \n",
       "2 -0.205480 -0.155563 -0.398406  ...  0.000003  0.000003  0.000004  0.000007   \n",
       "3 -0.184871 -0.083567 -0.389230  ...  0.000003  0.000003  0.000006  0.000005   \n",
       "4 -0.178756 -0.281361 -0.396043  ...  0.000003  0.000002  0.000008  0.000003   \n",
       "\n",
       "      EMG11     EMG12     EMG13     EMG14     EMG15     EMG16  \n",
       "0  0.000004  0.000004  0.000002  0.000009  0.000001  0.000002  \n",
       "1  0.000007  0.000007  0.000002  0.000017  0.000001  0.000002  \n",
       "2  0.000004  0.000005  0.000003  0.000020  0.000003  0.000002  \n",
       "3  0.000004  0.000003  0.000004  0.000015  0.000003  0.000003  \n",
       "4  0.000007  0.000022  0.000004  0.000017  0.000002  0.000003  \n",
       "\n",
       "[5 rows x 91 columns]"
      ]
     },
     "execution_count": 38,
     "metadata": {},
     "output_type": "execute_result"
    }
   ],
   "source": [
    "data_df.head()"
   ]
  },
  {
   "cell_type": "code",
   "execution_count": 39,
   "id": "3ebba821",
   "metadata": {},
   "outputs": [
    {
     "data": {
      "text/plain": [
       "array(['pan', 'duplicate', 'gesture-1', 'gesture-2', 'gesture-3',\n",
       "       'gesture-4', 'gesture-5', 'normal', 'frequency', 'range-of-motion',\n",
       "       'zoom-out', 'zoom-in', 'move', 'rotate', 'select-single', 'delete',\n",
       "       'close', 'open', 'two-handed-tap', 'point-and-pinch',\n",
       "       'pinch-and-scroll', 'air-tap', 'palm-pinch', 'double-pinch',\n",
       "       'single-pinch', 'single-clench', 'shake-and-release',\n",
       "       'double-clench'], dtype=object)"
      ]
     },
     "execution_count": 39,
     "metadata": {},
     "output_type": "execute_result"
    }
   ],
   "source": [
    "data_df['Gesture_ID'].unique()"
   ]
  },
  {
   "cell_type": "code",
   "execution_count": 40,
   "id": "13689ff1",
   "metadata": {},
   "outputs": [
    {
     "data": {
      "text/plain": [
       "28"
      ]
     },
     "execution_count": 40,
     "metadata": {},
     "output_type": "execute_result"
    }
   ],
   "source": [
    "len(data_df['Gesture_ID'].unique())"
   ]
  },
  {
   "cell_type": "code",
   "execution_count": 41,
   "id": "67acc0c6",
   "metadata": {},
   "outputs": [
    {
     "data": {
      "text/plain": [
       "10"
      ]
     },
     "execution_count": 41,
     "metadata": {},
     "output_type": "execute_result"
    }
   ],
   "source": [
    "len(data_df['Gesture_Num'].unique())"
   ]
  },
  {
   "cell_type": "code",
   "execution_count": 42,
   "id": "6c25ab6a",
   "metadata": {},
   "outputs": [
    {
     "data": {
      "text/plain": [
       "31"
      ]
     },
     "execution_count": 42,
     "metadata": {},
     "output_type": "execute_result"
    }
   ],
   "source": [
    "len(data_df['Participant'].unique())"
   ]
  },
  {
   "cell_type": "code",
   "execution_count": null,
   "id": "da6b222b",
   "metadata": {},
   "outputs": [],
   "source": [
    "subset_df = data_df[data_df['Participant'] == 'P102']\n",
    "subset_df.head()"
   ]
  },
  {
   "cell_type": "code",
   "execution_count": null,
   "id": "a753be01",
   "metadata": {},
   "outputs": [],
   "source": [
    "for p in data_df['Participant'].unique():\n",
    "    subset_df = data_df[data_df['Participant'] == p]\n",
    "    print(subset_df.shape)"
   ]
  },
  {
   "cell_type": "code",
   "execution_count": null,
   "id": "0a4eb5a2",
   "metadata": {},
   "outputs": [],
   "source": [
    "assert(1==0)\n",
    "\n",
    "# This code is not ready to run yet...\n",
    "## Does not handle data assymetries (eg different dataset sizes between clients)\n",
    "\n",
    "n_clients = len(data_df['Participant'].unique())\n",
    "n_trials = 8\n",
    "# Flatten data for easy computation\n",
    "flattened_data = np.vstack(data_clients2)\n",
    "# Reshape data to separate trials for each client\n",
    "reshaped_data = flattened_data.reshape(n_clients, n_trials, -1)\n",
    "# Calculate pairwise distances between clients' trial data\n",
    "inter_subject_distances = np.zeros((n_clients, n_clients))\n",
    "for i in range(n_clients):\n",
    "    for j in range(i + 1, n_clients):\n",
    "        distance = np.mean(np.linalg.norm(reshaped_data[i] - reshaped_data[j], axis=1))\n",
    "        inter_subject_distances[i, j] = distance\n",
    "        inter_subject_distances[j, i] = distance\n",
    "# Convert inter-subject distances to a condensed distance matrix\n",
    "condensed_distances = squareform(inter_subject_distances)\n",
    "\n",
    "# Perform hierarchical clustering\n",
    "linkage_matrix_single = linkage(condensed_distances, method='single')\n",
    "# Plot dendrogram\n",
    "plt.figure(figsize=(10, 6))\n",
    "dendrogram(linkage_matrix_single, labels=np.arange(n_clients))\n",
    "plt.title(\"Hierarchical Clustering Dendrogram\")\n",
    "plt.xlabel(\"Client Index\")\n",
    "plt.ylabel(\"Distance\")\n",
    "plt.show()"
   ]
  },
  {
   "cell_type": "markdown",
   "id": "a0fc63be",
   "metadata": {},
   "source": [
    "## Choosing Optimal Number of Clusters"
   ]
  },
  {
   "cell_type": "code",
   "execution_count": null,
   "id": "a4231905",
   "metadata": {},
   "outputs": [],
   "source": [
    "assert(1==0)"
   ]
  },
  {
   "cell_type": "markdown",
   "id": "55de44fc",
   "metadata": {},
   "source": [
    "> Elbow Plot"
   ]
  },
  {
   "cell_type": "code",
   "execution_count": null,
   "id": "8da15f47",
   "metadata": {},
   "outputs": [],
   "source": [
    "from sklearn.cluster import KMeans\n",
    "\n",
    "# determining the maximum number of clusters \n",
    "# using the simple method\n",
    "limit = int((dataset_new.shape[0]//2)**0.5)\n",
    " \n",
    "# wcss - within cluster sum of squared distances\n",
    "wcss = {}\n",
    " \n",
    "for k in range(2,limit+1):\n",
    "    model = KMeans(n_clusters=k)\n",
    "    model.fit(dataset_new)\n",
    "    wcss[k] = model.inertia_\n",
    "     \n",
    "# plotting the wcss values to find the elbow value\n",
    "plt.plot(wcss.keys(), wcss.values(), 'gs-')\n",
    "plt.xlabel('Values of \"k\"')\n",
    "plt.ylabel('WCSS')\n",
    "plt.show()\n",
    "\n",
    "# determining the maximum number of clusters using the simple method\n",
    "limit = int((dataset_new.shape[0]//2)**0.5)"
   ]
  },
  {
   "cell_type": "markdown",
   "id": "aefab753",
   "metadata": {},
   "source": [
    "> Silhouette Score"
   ]
  },
  {
   "cell_type": "code",
   "execution_count": null,
   "id": "03e0414c",
   "metadata": {},
   "outputs": [],
   "source": [
    "from sklearn.metrics import silhouette_score\n",
    "\n",
    "for k in range(2, limit+1):\n",
    "    model = KMeans(n_clusters=k)\n",
    "    model.fit(dataset_new)\n",
    "    pred = model.predict(dataset_new)\n",
    "    score = silhouette_score(dataset_new, pred)\n",
    "    print('Silhouette Score for k = {}: {:<.3f}'.format(k, score))"
   ]
  },
  {
   "cell_type": "code",
   "execution_count": null,
   "id": "e184fc3b",
   "metadata": {},
   "outputs": [],
   "source": []
  },
  {
   "cell_type": "code",
   "execution_count": null,
   "id": "ca4d2a99",
   "metadata": {},
   "outputs": [],
   "source": []
  },
  {
   "cell_type": "code",
   "execution_count": null,
   "id": "7dce2abb",
   "metadata": {},
   "outputs": [],
   "source": []
  }
 ],
 "metadata": {
  "kernelspec": {
   "display_name": "Python 3",
   "language": "python",
   "name": "python3"
  },
  "language_info": {
   "codemirror_mode": {
    "name": "ipython",
    "version": 3
   },
   "file_extension": ".py",
   "mimetype": "text/x-python",
   "name": "python",
   "nbconvert_exporter": "python",
   "pygments_lexer": "ipython3",
   "version": "3.6.8"
  }
 },
 "nbformat": 4,
 "nbformat_minor": 5
}
