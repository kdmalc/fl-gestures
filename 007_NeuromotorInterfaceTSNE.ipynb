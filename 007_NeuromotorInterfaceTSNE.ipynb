{
 "cells": [
  {
   "cell_type": "code",
   "execution_count": null,
   "id": "3634008a-747a-4459-85de-6bbcddc8c6c0",
   "metadata": {},
   "outputs": [],
   "source": [
    "import numpy as np\n",
    "from sklearn.manifold import TSNE"
   ]
  },
  {
   "cell_type": "code",
   "execution_count": null,
   "id": "0c25db2a-1eaf-40ce-b17b-b04c84516756",
   "metadata": {},
   "outputs": [],
   "source": [
    "def extract_features(sEMG_data, window_size=300, step_size=100):\n",
    "    \"\"\"\n",
    "    Extract features from sEMG data by computing the covariance matrix\n",
    "    over sliding windows and concatenating the 0-, 1-, and 2-diagonals.\n",
    "    \n",
    "    Parameters:\n",
    "    sEMG_data (np.ndarray): The sEMG data matrix with shape (n_samples, n_channels)\n",
    "    window_size (int): The size of the window to compute the covariance matrix\n",
    "    step_size (int): The step size for the sliding window\n",
    "    \n",
    "    Returns:\n",
    "    np.ndarray: The feature matrix with shape (n_windows, feature_size)\n",
    "    \"\"\"\n",
    "    n_samples, n_channels = sEMG_data.shape\n",
    "    features = []\n",
    "\n",
    "    for start in range(0, n_samples - window_size + 1, step_size):\n",
    "        window_data = sEMG_data[start:start + window_size]\n",
    "        cov_matrix = np.cov(window_data, rowvar=False)\n",
    "        diag_0 = np.diag(cov_matrix)\n",
    "        diag_1 = np.diag(cov_matrix, k=1)\n",
    "        diag_2 = np.diag(cov_matrix, k=2)\n",
    "        feature_vector = np.concatenate([diag_0, diag_1, diag_2])\n",
    "        features.append(feature_vector)\n",
    "\n",
    "    return np.array(features)\n",
    "\n",
    "def run_tsne(features, perplexity=35, n_components=2):\n",
    "    \"\"\"\n",
    "    Apply t-SNE to the feature matrix.\n",
    "    \n",
    "    Parameters:\n",
    "    features (np.ndarray): The feature matrix\n",
    "    perplexity (int): The perplexity parameter for t-SNE\n",
    "    n_components (int): The number of dimensions for the t-SNE embedding\n",
    "    \n",
    "    Returns:\n",
    "    np.ndarray: The 2D t-SNE embedding of the features\n",
    "    \"\"\"\n",
    "    tsne = TSNE(n_components=n_components, perplexity=perplexity)\n",
    "    tsne_result = tsne.fit_transform(features)\n",
    "    return tsne_result\n"
   ]
  },
  {
   "cell_type": "code",
   "execution_count": null,
   "id": "ad4e3b17-187d-4dc0-b695-01e936836b5a",
   "metadata": {},
   "outputs": [],
   "source": [
    "# Example usage:\n",
    "# sEMG_data = ... # Load your sEMG data here with shape (n_samples, n_channels)\n",
    "# features = extract_features(sEMG_data)\n",
    "# tsne_embedding = run_tsne(features)\n",
    "\n",
    "# Visualization (e.g., using matplotlib)\n",
    "# import matplotlib.pyplot as plt\n",
    "# plt.scatter(tsne_embedding[:, 0], tsne_embedding[:, 1])\n",
    "# plt.show()"
   ]
  }
 ],
 "metadata": {
  "kernelspec": {
   "display_name": "Python 3 (ipykernel)",
   "language": "python",
   "name": "python3"
  },
  "language_info": {
   "codemirror_mode": {
    "name": "ipython",
    "version": 3
   },
   "file_extension": ".py",
   "mimetype": "text/x-python",
   "name": "python",
   "nbconvert_exporter": "python",
   "pygments_lexer": "ipython3",
   "version": "3.10.12"
  }
 },
 "nbformat": 4,
 "nbformat_minor": 5
}
