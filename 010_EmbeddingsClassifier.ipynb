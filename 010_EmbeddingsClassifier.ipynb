{
 "cells": [
  {
   "cell_type": "code",
   "execution_count": 1,
   "id": "c1ef1e63-343c-4d55-ad97-cf3cabb3fc2e",
   "metadata": {},
   "outputs": [],
   "source": [
    "import torch\n",
    "import torch.nn as nn\n",
    "import torch.optim as optim\n",
    "from torch.utils.data import Dataset, DataLoader\n",
    "\n",
    "import pandas as pd\n",
    "import numpy as np\n",
    "import matplotlib.pyplot as plt\n",
    "\n",
    "from sklearn.manifold import TSNE\n",
    "from sklearn.decomposition import PCA\n",
    "\n",
    "from sklearn.preprocessing import OneHotEncoder\n",
    "\n",
    "from subspace_clustering_helper_funcs import *\n",
    "from ae_eval_and_vis import *\n",
    "from ae_torch_classes import *\n",
    "from ml_pipeline import *"
   ]
  },
  {
   "cell_type": "code",
   "execution_count": 2,
   "id": "47711c64-44f7-453c-9d0e-6a4f299633e8",
   "metadata": {},
   "outputs": [],
   "source": [
    "import warnings\n",
    "warnings.filterwarnings('ignore')\n",
    "# C:\\Users\\kdmen\\miniconda3\\envs\\fl_torch\\lib\\site-packages\\sklearn\\cluster\\_kmeans.py:870: FutureWarning: The default value of `n_init` will change from 10 to 'auto' in 1.4. Set the value of `n_init` explicitly to suppress the warning warnings.warn("
   ]
  },
  {
   "cell_type": "markdown",
   "id": "347da32c-36cc-49e0-80cd-e5b456561a30",
   "metadata": {},
   "source": [
    "# Load in Data"
   ]
  },
  {
   "cell_type": "code",
   "execution_count": 3,
   "id": "647a91a5-4d27-485f-8ed0-db92218ccb45",
   "metadata": {},
   "outputs": [
    {
     "name": "stdout",
     "output_type": "stream",
     "text": [
      "Loading\n"
     ]
    }
   ],
   "source": [
    "# Kai's laptop\n",
    "data_path = \"C:\\\\Users\\\\kdmen\\\\Desktop\\\\Research\\\\Data\\\\$M\\\\PCA_40D\\\\\"\n",
    "#metadata_cols_df = pd.read_pickle('C:\\\\Users\\\\kdmen\\\\Desktop\\\\Research\\\\Data\\\\$M\\\\metadata_cols_df.pkl')\n",
    "# BRC Desktop\n",
    "#data_path = \"D:\\\\Kai_MetaGestureClustering_24\\\\saved_datasets\\\\PCA_40D\\\\\"\n",
    "#metadata_cols_df = pd.read_pickle('metadata_cols_df.pkl')\n",
    "\n",
    "print(\"Loading\")\n",
    "\n",
    "metadata_cols = ['Participant', 'Gesture_ID', 'Gesture_Num']\n",
    "\n",
    "full_pca40_train_XY_df = pd.read_pickle(data_path+'training_u_df.pkl')\n",
    "full_pca40_test_XY_df = pd.read_pickle(data_path+'test_users_df.pkl')\n",
    "full_pca40_gesture_train_labels_df = full_pca40_train_XY_df['Gesture_ID']\n",
    "full_pca40_gesture_test_labels_df = full_pca40_test_XY_df['Gesture_ID']\n",
    "full_pca40_user_train_labels_df = full_pca40_train_XY_df['Participant']\n",
    "full_pca40_user_test_labels_df = full_pca40_test_XY_df['Participant']\n",
    "full_pca40_training_u_df = full_pca40_train_XY_df.drop(metadata_cols, axis=1)\n",
    "full_pca40_test_users_df = full_pca40_test_XY_df.drop(metadata_cols, axis=1)\n"
   ]
  },
  {
   "cell_type": "markdown",
   "id": "24eb5962-b019-40da-9bcb-1c654e6b4d98",
   "metadata": {},
   "source": [
    "One-hot encode the gestures so they can be used as labels. Should probably also do this for participant ID to use as a different label set but I'll do it later"
   ]
  },
  {
   "cell_type": "code",
   "execution_count": 4,
   "id": "957e339c-e7f2-43fe-bd30-1cc384df33cc",
   "metadata": {},
   "outputs": [
    {
     "name": "stdout",
     "output_type": "stream",
     "text": [
      "[[0. 0. 0. 0. 0. 0. 0. 0. 0. 0. 0. 0. 0. 0. 0. 0. 1. 0. 0. 0. 0. 0. 0. 0.\n",
      "  0. 0. 0. 0.]\n",
      " [0. 0. 0. 0. 0. 1. 0. 0. 0. 0. 0. 0. 0. 0. 0. 0. 0. 0. 0. 0. 0. 0. 0. 0.\n",
      "  0. 0. 0. 0.]\n",
      " [0. 0. 0. 0. 0. 0. 0. 1. 0. 0. 0. 0. 0. 0. 0. 0. 0. 0. 0. 0. 0. 0. 0. 0.\n",
      "  0. 0. 0. 0.]\n",
      " [0. 0. 0. 0. 0. 0. 0. 0. 1. 0. 0. 0. 0. 0. 0. 0. 0. 0. 0. 0. 0. 0. 0. 0.\n",
      "  0. 0. 0. 0.]\n",
      " [0. 0. 0. 0. 0. 0. 0. 0. 0. 1. 0. 0. 0. 0. 0. 0. 0. 0. 0. 0. 0. 0. 0. 0.\n",
      "  0. 0. 0. 0.]\n",
      " [0. 0. 0. 0. 0. 0. 0. 0. 0. 0. 1. 0. 0. 0. 0. 0. 0. 0. 0. 0. 0. 0. 0. 0.\n",
      "  0. 0. 0. 0.]\n",
      " [0. 0. 0. 0. 0. 0. 0. 0. 0. 0. 0. 1. 0. 0. 0. 0. 0. 0. 0. 0. 0. 0. 0. 0.\n",
      "  0. 0. 0. 0.]\n",
      " [0. 0. 0. 0. 0. 0. 0. 0. 0. 0. 0. 0. 0. 1. 0. 0. 0. 0. 0. 0. 0. 0. 0. 0.\n",
      "  0. 0. 0. 0.]\n",
      " [0. 0. 0. 0. 0. 0. 1. 0. 0. 0. 0. 0. 0. 0. 0. 0. 0. 0. 0. 0. 0. 0. 0. 0.\n",
      "  0. 0. 0. 0.]\n",
      " [0. 0. 0. 0. 0. 0. 0. 0. 0. 0. 0. 0. 0. 0. 0. 0. 0. 0. 0. 1. 0. 0. 0. 0.\n",
      "  0. 0. 0. 0.]\n",
      " [0. 0. 0. 0. 0. 0. 0. 0. 0. 0. 0. 0. 0. 0. 0. 0. 0. 0. 0. 0. 0. 0. 0. 0.\n",
      "  0. 0. 0. 1.]\n",
      " [0. 0. 0. 0. 0. 0. 0. 0. 0. 0. 0. 0. 0. 0. 0. 0. 0. 0. 0. 0. 0. 0. 0. 0.\n",
      "  0. 0. 1. 0.]\n",
      " [0. 0. 0. 0. 0. 0. 0. 0. 0. 0. 0. 0. 1. 0. 0. 0. 0. 0. 0. 0. 0. 0. 0. 0.\n",
      "  0. 0. 0. 0.]\n",
      " [0. 0. 0. 0. 0. 0. 0. 0. 0. 0. 0. 0. 0. 0. 0. 0. 0. 0. 0. 0. 1. 0. 0. 0.\n",
      "  0. 0. 0. 0.]\n",
      " [0. 0. 0. 0. 0. 0. 0. 0. 0. 0. 0. 0. 0. 0. 0. 0. 0. 0. 0. 0. 0. 1. 0. 0.\n",
      "  0. 0. 0. 0.]\n",
      " [0. 0. 1. 0. 0. 0. 0. 0. 0. 0. 0. 0. 0. 0. 0. 0. 0. 0. 0. 0. 0. 0. 0. 0.\n",
      "  0. 0. 0. 0.]\n",
      " [0. 1. 0. 0. 0. 0. 0. 0. 0. 0. 0. 0. 0. 0. 0. 0. 0. 0. 0. 0. 0. 0. 0. 0.\n",
      "  0. 0. 0. 0.]\n",
      " [0. 0. 0. 0. 0. 0. 0. 0. 0. 0. 0. 0. 0. 0. 1. 0. 0. 0. 0. 0. 0. 0. 0. 0.\n",
      "  0. 0. 0. 0.]\n",
      " [0. 0. 0. 0. 0. 0. 0. 0. 0. 0. 0. 0. 0. 0. 0. 0. 0. 0. 0. 0. 0. 0. 0. 0.\n",
      "  0. 1. 0. 0.]\n",
      " [0. 0. 0. 0. 0. 0. 0. 0. 0. 0. 0. 0. 0. 0. 0. 0. 0. 0. 1. 0. 0. 0. 0. 0.\n",
      "  0. 0. 0. 0.]\n",
      " [0. 0. 0. 0. 0. 0. 0. 0. 0. 0. 0. 0. 0. 0. 0. 0. 0. 1. 0. 0. 0. 0. 0. 0.\n",
      "  0. 0. 0. 0.]\n",
      " [1. 0. 0. 0. 0. 0. 0. 0. 0. 0. 0. 0. 0. 0. 0. 0. 0. 0. 0. 0. 0. 0. 0. 0.\n",
      "  0. 0. 0. 0.]\n",
      " [0. 0. 0. 0. 0. 0. 0. 0. 0. 0. 0. 0. 0. 0. 0. 1. 0. 0. 0. 0. 0. 0. 0. 0.\n",
      "  0. 0. 0. 0.]\n",
      " [0. 0. 0. 0. 0. 0. 0. 0. 0. 0. 0. 0. 0. 0. 0. 0. 0. 0. 0. 0. 0. 0. 1. 0.\n",
      "  0. 0. 0. 0.]\n",
      " [0. 0. 0. 0. 0. 0. 0. 0. 0. 0. 0. 0. 0. 0. 0. 0. 0. 0. 0. 0. 0. 0. 0. 1.\n",
      "  0. 0. 0. 0.]\n",
      " [0. 0. 0. 0. 0. 0. 0. 0. 0. 0. 0. 0. 0. 0. 0. 0. 0. 0. 0. 0. 0. 0. 0. 0.\n",
      "  1. 0. 0. 0.]\n",
      " [0. 0. 0. 1. 0. 0. 0. 0. 0. 0. 0. 0. 0. 0. 0. 0. 0. 0. 0. 0. 0. 0. 0. 0.\n",
      "  0. 0. 0. 0.]\n",
      " [0. 0. 0. 0. 1. 0. 0. 0. 0. 0. 0. 0. 0. 0. 0. 0. 0. 0. 0. 0. 0. 0. 0. 0.\n",
      "  0. 0. 0. 0.]]\n"
     ]
    }
   ],
   "source": [
    "# Get list of all the unique gesture names\n",
    "all_train_test_gestures_df = pd.concat([full_pca40_gesture_train_labels_df, full_pca40_gesture_test_labels_df], axis=0)\n",
    "unique_gestures = all_train_test_gestures_df.unique()\n",
    "\n",
    "# Create OneHotEncoder instance\n",
    "gesture_encoder = OneHotEncoder(sparse=False)\n",
    "gesture_labels_reshaped = unique_gestures.reshape(-1, 1)\n",
    "gesture_encoded = gesture_encoder.fit_transform(gesture_labels_reshaped)\n",
    "\n",
    "print(gesture_encoded)"
   ]
  },
  {
   "cell_type": "code",
   "execution_count": 5,
   "id": "7c0430ab-dd10-48ee-b823-b5a91d36b3fa",
   "metadata": {},
   "outputs": [
    {
     "name": "stdout",
     "output_type": "stream",
     "text": [
      "(327168, 43)\n"
     ]
    },
    {
     "data": {
      "text/html": [
       "<div>\n",
       "<style scoped>\n",
       "    .dataframe tbody tr th:only-of-type {\n",
       "        vertical-align: middle;\n",
       "    }\n",
       "\n",
       "    .dataframe tbody tr th {\n",
       "        vertical-align: top;\n",
       "    }\n",
       "\n",
       "    .dataframe thead th {\n",
       "        text-align: right;\n",
       "    }\n",
       "</style>\n",
       "<table border=\"1\" class=\"dataframe\">\n",
       "  <thead>\n",
       "    <tr style=\"text-align: right;\">\n",
       "      <th></th>\n",
       "      <th>Participant</th>\n",
       "      <th>Gesture_ID</th>\n",
       "      <th>Gesture_Num</th>\n",
       "      <th>0</th>\n",
       "      <th>1</th>\n",
       "      <th>2</th>\n",
       "      <th>3</th>\n",
       "      <th>4</th>\n",
       "      <th>5</th>\n",
       "      <th>6</th>\n",
       "      <th>...</th>\n",
       "      <th>30</th>\n",
       "      <th>31</th>\n",
       "      <th>32</th>\n",
       "      <th>33</th>\n",
       "      <th>34</th>\n",
       "      <th>35</th>\n",
       "      <th>36</th>\n",
       "      <th>37</th>\n",
       "      <th>38</th>\n",
       "      <th>39</th>\n",
       "    </tr>\n",
       "  </thead>\n",
       "  <tbody>\n",
       "    <tr>\n",
       "      <th>0</th>\n",
       "      <td>P102</td>\n",
       "      <td>pan</td>\n",
       "      <td>1</td>\n",
       "      <td>-0.027903</td>\n",
       "      <td>0.001411</td>\n",
       "      <td>-0.019509</td>\n",
       "      <td>0.013428</td>\n",
       "      <td>-0.019699</td>\n",
       "      <td>0.027333</td>\n",
       "      <td>-0.031254</td>\n",
       "      <td>...</td>\n",
       "      <td>-0.019453</td>\n",
       "      <td>0.062983</td>\n",
       "      <td>-0.025869</td>\n",
       "      <td>0.014303</td>\n",
       "      <td>-0.013387</td>\n",
       "      <td>-0.037645</td>\n",
       "      <td>-0.186270</td>\n",
       "      <td>-0.046251</td>\n",
       "      <td>-0.104630</td>\n",
       "      <td>-0.002939</td>\n",
       "    </tr>\n",
       "    <tr>\n",
       "      <th>1</th>\n",
       "      <td>P102</td>\n",
       "      <td>pan</td>\n",
       "      <td>1</td>\n",
       "      <td>-0.038982</td>\n",
       "      <td>0.006470</td>\n",
       "      <td>-0.000111</td>\n",
       "      <td>0.010904</td>\n",
       "      <td>-0.015323</td>\n",
       "      <td>0.031336</td>\n",
       "      <td>-0.007901</td>\n",
       "      <td>...</td>\n",
       "      <td>0.041438</td>\n",
       "      <td>0.035053</td>\n",
       "      <td>-0.056843</td>\n",
       "      <td>-0.008895</td>\n",
       "      <td>-0.022542</td>\n",
       "      <td>-0.022563</td>\n",
       "      <td>-0.160826</td>\n",
       "      <td>-0.048161</td>\n",
       "      <td>-0.073771</td>\n",
       "      <td>0.043268</td>\n",
       "    </tr>\n",
       "    <tr>\n",
       "      <th>2</th>\n",
       "      <td>P102</td>\n",
       "      <td>pan</td>\n",
       "      <td>1</td>\n",
       "      <td>-0.116782</td>\n",
       "      <td>0.003824</td>\n",
       "      <td>0.011550</td>\n",
       "      <td>-0.014612</td>\n",
       "      <td>-0.093325</td>\n",
       "      <td>0.081718</td>\n",
       "      <td>-0.013155</td>\n",
       "      <td>...</td>\n",
       "      <td>-0.014298</td>\n",
       "      <td>0.072109</td>\n",
       "      <td>-0.026536</td>\n",
       "      <td>-0.034365</td>\n",
       "      <td>0.018695</td>\n",
       "      <td>-0.011940</td>\n",
       "      <td>-0.160580</td>\n",
       "      <td>-0.041831</td>\n",
       "      <td>-0.109653</td>\n",
       "      <td>0.027043</td>\n",
       "    </tr>\n",
       "    <tr>\n",
       "      <th>3</th>\n",
       "      <td>P102</td>\n",
       "      <td>pan</td>\n",
       "      <td>1</td>\n",
       "      <td>-0.030245</td>\n",
       "      <td>-0.017409</td>\n",
       "      <td>0.022540</td>\n",
       "      <td>-0.048905</td>\n",
       "      <td>-0.029129</td>\n",
       "      <td>0.090026</td>\n",
       "      <td>-0.024645</td>\n",
       "      <td>...</td>\n",
       "      <td>-0.010992</td>\n",
       "      <td>0.059990</td>\n",
       "      <td>-0.097073</td>\n",
       "      <td>-0.056870</td>\n",
       "      <td>-0.001038</td>\n",
       "      <td>-0.008015</td>\n",
       "      <td>-0.165858</td>\n",
       "      <td>-0.049424</td>\n",
       "      <td>-0.108671</td>\n",
       "      <td>0.069886</td>\n",
       "    </tr>\n",
       "    <tr>\n",
       "      <th>4</th>\n",
       "      <td>P102</td>\n",
       "      <td>pan</td>\n",
       "      <td>1</td>\n",
       "      <td>-0.112950</td>\n",
       "      <td>0.026262</td>\n",
       "      <td>0.004837</td>\n",
       "      <td>-0.063254</td>\n",
       "      <td>-0.108892</td>\n",
       "      <td>0.198729</td>\n",
       "      <td>-0.010583</td>\n",
       "      <td>...</td>\n",
       "      <td>0.035735</td>\n",
       "      <td>0.050880</td>\n",
       "      <td>-0.093678</td>\n",
       "      <td>-0.131263</td>\n",
       "      <td>0.018035</td>\n",
       "      <td>0.056185</td>\n",
       "      <td>-0.157963</td>\n",
       "      <td>-0.041911</td>\n",
       "      <td>-0.145308</td>\n",
       "      <td>0.063311</td>\n",
       "    </tr>\n",
       "  </tbody>\n",
       "</table>\n",
       "<p>5 rows × 43 columns</p>\n",
       "</div>"
      ],
      "text/plain": [
       "  Participant Gesture_ID Gesture_Num         0         1         2         3   \n",
       "0        P102        pan           1 -0.027903  0.001411 -0.019509  0.013428  \\\n",
       "1        P102        pan           1 -0.038982  0.006470 -0.000111  0.010904   \n",
       "2        P102        pan           1 -0.116782  0.003824  0.011550 -0.014612   \n",
       "3        P102        pan           1 -0.030245 -0.017409  0.022540 -0.048905   \n",
       "4        P102        pan           1 -0.112950  0.026262  0.004837 -0.063254   \n",
       "\n",
       "          4         5         6  ...        30        31        32        33   \n",
       "0 -0.019699  0.027333 -0.031254  ... -0.019453  0.062983 -0.025869  0.014303  \\\n",
       "1 -0.015323  0.031336 -0.007901  ...  0.041438  0.035053 -0.056843 -0.008895   \n",
       "2 -0.093325  0.081718 -0.013155  ... -0.014298  0.072109 -0.026536 -0.034365   \n",
       "3 -0.029129  0.090026 -0.024645  ... -0.010992  0.059990 -0.097073 -0.056870   \n",
       "4 -0.108892  0.198729 -0.010583  ...  0.035735  0.050880 -0.093678 -0.131263   \n",
       "\n",
       "         34        35        36        37        38        39  \n",
       "0 -0.013387 -0.037645 -0.186270 -0.046251 -0.104630 -0.002939  \n",
       "1 -0.022542 -0.022563 -0.160826 -0.048161 -0.073771  0.043268  \n",
       "2  0.018695 -0.011940 -0.160580 -0.041831 -0.109653  0.027043  \n",
       "3 -0.001038 -0.008015 -0.165858 -0.049424 -0.108671  0.069886  \n",
       "4  0.018035  0.056185 -0.157963 -0.041911 -0.145308  0.063311  \n",
       "\n",
       "[5 rows x 43 columns]"
      ]
     },
     "execution_count": 5,
     "metadata": {},
     "output_type": "execute_result"
    }
   ],
   "source": [
    "print(full_pca40_train_XY_df.shape)\n",
    "full_pca40_train_XY_df.head()"
   ]
  },
  {
   "cell_type": "code",
   "execution_count": 6,
   "id": "0cf654f3-3ec7-4659-9ccc-fbe11459c64c",
   "metadata": {},
   "outputs": [
    {
     "name": "stdout",
     "output_type": "stream",
     "text": [
      "(327168,)\n"
     ]
    },
    {
     "data": {
      "text/plain": [
       "0    pan\n",
       "1    pan\n",
       "2    pan\n",
       "3    pan\n",
       "4    pan\n",
       "Name: Gesture_ID, dtype: object"
      ]
     },
     "execution_count": 6,
     "metadata": {},
     "output_type": "execute_result"
    }
   ],
   "source": [
    "print(full_pca40_gesture_train_labels_df.shape)\n",
    "full_pca40_gesture_train_labels_df.head()"
   ]
  },
  {
   "cell_type": "code",
   "execution_count": 7,
   "id": "82c9c424-5a64-4e4d-9623-70f4015cdd3b",
   "metadata": {},
   "outputs": [
    {
     "name": "stdout",
     "output_type": "stream",
     "text": [
      "(327168, 40)\n"
     ]
    },
    {
     "data": {
      "text/html": [
       "<div>\n",
       "<style scoped>\n",
       "    .dataframe tbody tr th:only-of-type {\n",
       "        vertical-align: middle;\n",
       "    }\n",
       "\n",
       "    .dataframe tbody tr th {\n",
       "        vertical-align: top;\n",
       "    }\n",
       "\n",
       "    .dataframe thead th {\n",
       "        text-align: right;\n",
       "    }\n",
       "</style>\n",
       "<table border=\"1\" class=\"dataframe\">\n",
       "  <thead>\n",
       "    <tr style=\"text-align: right;\">\n",
       "      <th></th>\n",
       "      <th>0</th>\n",
       "      <th>1</th>\n",
       "      <th>2</th>\n",
       "      <th>3</th>\n",
       "      <th>4</th>\n",
       "      <th>5</th>\n",
       "      <th>6</th>\n",
       "      <th>7</th>\n",
       "      <th>8</th>\n",
       "      <th>9</th>\n",
       "      <th>...</th>\n",
       "      <th>30</th>\n",
       "      <th>31</th>\n",
       "      <th>32</th>\n",
       "      <th>33</th>\n",
       "      <th>34</th>\n",
       "      <th>35</th>\n",
       "      <th>36</th>\n",
       "      <th>37</th>\n",
       "      <th>38</th>\n",
       "      <th>39</th>\n",
       "    </tr>\n",
       "  </thead>\n",
       "  <tbody>\n",
       "    <tr>\n",
       "      <th>0</th>\n",
       "      <td>-0.027903</td>\n",
       "      <td>0.001411</td>\n",
       "      <td>-0.019509</td>\n",
       "      <td>0.013428</td>\n",
       "      <td>-0.019699</td>\n",
       "      <td>0.027333</td>\n",
       "      <td>-0.031254</td>\n",
       "      <td>-0.022910</td>\n",
       "      <td>0.066484</td>\n",
       "      <td>0.108729</td>\n",
       "      <td>...</td>\n",
       "      <td>-0.019453</td>\n",
       "      <td>0.062983</td>\n",
       "      <td>-0.025869</td>\n",
       "      <td>0.014303</td>\n",
       "      <td>-0.013387</td>\n",
       "      <td>-0.037645</td>\n",
       "      <td>-0.186270</td>\n",
       "      <td>-0.046251</td>\n",
       "      <td>-0.104630</td>\n",
       "      <td>-0.002939</td>\n",
       "    </tr>\n",
       "    <tr>\n",
       "      <th>1</th>\n",
       "      <td>-0.038982</td>\n",
       "      <td>0.006470</td>\n",
       "      <td>-0.000111</td>\n",
       "      <td>0.010904</td>\n",
       "      <td>-0.015323</td>\n",
       "      <td>0.031336</td>\n",
       "      <td>-0.007901</td>\n",
       "      <td>-0.027368</td>\n",
       "      <td>0.060370</td>\n",
       "      <td>0.074712</td>\n",
       "      <td>...</td>\n",
       "      <td>0.041438</td>\n",
       "      <td>0.035053</td>\n",
       "      <td>-0.056843</td>\n",
       "      <td>-0.008895</td>\n",
       "      <td>-0.022542</td>\n",
       "      <td>-0.022563</td>\n",
       "      <td>-0.160826</td>\n",
       "      <td>-0.048161</td>\n",
       "      <td>-0.073771</td>\n",
       "      <td>0.043268</td>\n",
       "    </tr>\n",
       "    <tr>\n",
       "      <th>2</th>\n",
       "      <td>-0.116782</td>\n",
       "      <td>0.003824</td>\n",
       "      <td>0.011550</td>\n",
       "      <td>-0.014612</td>\n",
       "      <td>-0.093325</td>\n",
       "      <td>0.081718</td>\n",
       "      <td>-0.013155</td>\n",
       "      <td>-0.046150</td>\n",
       "      <td>0.036385</td>\n",
       "      <td>0.052746</td>\n",
       "      <td>...</td>\n",
       "      <td>-0.014298</td>\n",
       "      <td>0.072109</td>\n",
       "      <td>-0.026536</td>\n",
       "      <td>-0.034365</td>\n",
       "      <td>0.018695</td>\n",
       "      <td>-0.011940</td>\n",
       "      <td>-0.160580</td>\n",
       "      <td>-0.041831</td>\n",
       "      <td>-0.109653</td>\n",
       "      <td>0.027043</td>\n",
       "    </tr>\n",
       "    <tr>\n",
       "      <th>3</th>\n",
       "      <td>-0.030245</td>\n",
       "      <td>-0.017409</td>\n",
       "      <td>0.022540</td>\n",
       "      <td>-0.048905</td>\n",
       "      <td>-0.029129</td>\n",
       "      <td>0.090026</td>\n",
       "      <td>-0.024645</td>\n",
       "      <td>-0.064307</td>\n",
       "      <td>0.074589</td>\n",
       "      <td>0.053055</td>\n",
       "      <td>...</td>\n",
       "      <td>-0.010992</td>\n",
       "      <td>0.059990</td>\n",
       "      <td>-0.097073</td>\n",
       "      <td>-0.056870</td>\n",
       "      <td>-0.001038</td>\n",
       "      <td>-0.008015</td>\n",
       "      <td>-0.165858</td>\n",
       "      <td>-0.049424</td>\n",
       "      <td>-0.108671</td>\n",
       "      <td>0.069886</td>\n",
       "    </tr>\n",
       "    <tr>\n",
       "      <th>4</th>\n",
       "      <td>-0.112950</td>\n",
       "      <td>0.026262</td>\n",
       "      <td>0.004837</td>\n",
       "      <td>-0.063254</td>\n",
       "      <td>-0.108892</td>\n",
       "      <td>0.198729</td>\n",
       "      <td>-0.010583</td>\n",
       "      <td>-0.124893</td>\n",
       "      <td>0.114817</td>\n",
       "      <td>0.038628</td>\n",
       "      <td>...</td>\n",
       "      <td>0.035735</td>\n",
       "      <td>0.050880</td>\n",
       "      <td>-0.093678</td>\n",
       "      <td>-0.131263</td>\n",
       "      <td>0.018035</td>\n",
       "      <td>0.056185</td>\n",
       "      <td>-0.157963</td>\n",
       "      <td>-0.041911</td>\n",
       "      <td>-0.145308</td>\n",
       "      <td>0.063311</td>\n",
       "    </tr>\n",
       "  </tbody>\n",
       "</table>\n",
       "<p>5 rows × 40 columns</p>\n",
       "</div>"
      ],
      "text/plain": [
       "         0         1         2         3         4         5         6    \n",
       "0 -0.027903  0.001411 -0.019509  0.013428 -0.019699  0.027333 -0.031254  \\\n",
       "1 -0.038982  0.006470 -0.000111  0.010904 -0.015323  0.031336 -0.007901   \n",
       "2 -0.116782  0.003824  0.011550 -0.014612 -0.093325  0.081718 -0.013155   \n",
       "3 -0.030245 -0.017409  0.022540 -0.048905 -0.029129  0.090026 -0.024645   \n",
       "4 -0.112950  0.026262  0.004837 -0.063254 -0.108892  0.198729 -0.010583   \n",
       "\n",
       "         7         8         9   ...        30        31        32        33   \n",
       "0 -0.022910  0.066484  0.108729  ... -0.019453  0.062983 -0.025869  0.014303  \\\n",
       "1 -0.027368  0.060370  0.074712  ...  0.041438  0.035053 -0.056843 -0.008895   \n",
       "2 -0.046150  0.036385  0.052746  ... -0.014298  0.072109 -0.026536 -0.034365   \n",
       "3 -0.064307  0.074589  0.053055  ... -0.010992  0.059990 -0.097073 -0.056870   \n",
       "4 -0.124893  0.114817  0.038628  ...  0.035735  0.050880 -0.093678 -0.131263   \n",
       "\n",
       "         34        35        36        37        38        39  \n",
       "0 -0.013387 -0.037645 -0.186270 -0.046251 -0.104630 -0.002939  \n",
       "1 -0.022542 -0.022563 -0.160826 -0.048161 -0.073771  0.043268  \n",
       "2  0.018695 -0.011940 -0.160580 -0.041831 -0.109653  0.027043  \n",
       "3 -0.001038 -0.008015 -0.165858 -0.049424 -0.108671  0.069886  \n",
       "4  0.018035  0.056185 -0.157963 -0.041911 -0.145308  0.063311  \n",
       "\n",
       "[5 rows x 40 columns]"
      ]
     },
     "execution_count": 7,
     "metadata": {},
     "output_type": "execute_result"
    }
   ],
   "source": [
    "print(full_pca40_training_u_df.shape)\n",
    "full_pca40_training_u_df.head()"
   ]
  },
  {
   "cell_type": "code",
   "execution_count": 8,
   "id": "cfc04167-5ab8-4ac3-ae19-80b8e1988242",
   "metadata": {},
   "outputs": [],
   "source": [
    "# CREATE THE TRAINING SET\n",
    "num_rows_per_gesture = 64 # From the interp\n",
    "num_gestures = len(full_pca40_training_u_df) // num_rows_per_gesture\n",
    "num_features = full_pca40_training_u_df.shape[1]\n",
    "\n",
    "# Ensure the data can be evenly divided into gestures\n",
    "assert len(full_pca40_training_u_df) % num_rows_per_gesture == 0, \"The total number of rows is not a multiple of the number of rows per gesture.\"\n",
    "\n",
    "# Reshape into (batch_dim, time_step, n_features) AKA (n_gestures, n_rows_per_gesture, n_columns)\n",
    "X_3D_PCA40 = full_pca40_training_u_df.to_numpy().reshape(num_gestures, num_rows_per_gesture, num_features)\n",
    "#flattened_PCA = PCA_np.reshape(num_gestures, -1)\n",
    "\n",
    "# Convert to PyTorch tensor\n",
    "X_3DTensor_PCA40 = torch.tensor(X_3D_PCA40, dtype=torch.float32)\n",
    "\n",
    "#################################################\n",
    "\n",
    "# CREATE THE TEST SET\n",
    "num_test_gestures = len(full_pca40_test_users_df) // num_rows_per_gesture\n",
    "# Ensure the data can be evenly divided into gestures\n",
    "assert len(full_pca40_test_users_df) % num_rows_per_gesture == 0, \"The total number of rows is not a multiple of the number of rows per gesture.\"\n",
    "\n",
    "# Reshape into (batch_dim, time_step, n_features) AKA (n_gestures, n_rows_per_gesture, n_columns) and convert to torch tensor\n",
    "## Theres probably an easier way to just create it as a torch tensor lol\n",
    "Xtest_3DTensor_PCA40 = torch.tensor(full_pca40_test_users_df.to_numpy().reshape(num_test_gestures, num_rows_per_gesture, num_features), dtype=torch.float32)"
   ]
  },
  {
   "cell_type": "code",
   "execution_count": 9,
   "id": "dfaea998-3c21-4e46-b1ef-237f1fc81e0e",
   "metadata": {},
   "outputs": [
    {
     "data": {
      "text/plain": [
       "torch.Size([5112, 64, 40])"
      ]
     },
     "execution_count": 9,
     "metadata": {},
     "output_type": "execute_result"
    }
   ],
   "source": [
    "X_3DTensor_PCA40.shape"
   ]
  },
  {
   "cell_type": "code",
   "execution_count": 10,
   "id": "e1cb388a-23df-47e6-bbb2-2f887464ba3d",
   "metadata": {},
   "outputs": [
    {
     "data": {
      "text/plain": [
       "(327168,)"
      ]
     },
     "execution_count": 10,
     "metadata": {},
     "output_type": "execute_result"
    }
   ],
   "source": [
    "full_pca40_gesture_train_labels_df.shape"
   ]
  },
  {
   "cell_type": "code",
   "execution_count": 11,
   "id": "1c430d46-7832-4b73-b281-3d3b3512e184",
   "metadata": {},
   "outputs": [
    {
     "data": {
      "text/plain": [
       "0    pan\n",
       "1    pan\n",
       "2    pan\n",
       "3    pan\n",
       "4    pan\n",
       "Name: Gesture_ID, dtype: object"
      ]
     },
     "execution_count": 11,
     "metadata": {},
     "output_type": "execute_result"
    }
   ],
   "source": [
    "full_pca40_gesture_train_labels_df.head()"
   ]
  },
  {
   "cell_type": "code",
   "execution_count": 12,
   "id": "69570ae4-2186-4053-bfd9-be621c869353",
   "metadata": {},
   "outputs": [
    {
     "name": "stdout",
     "output_type": "stream",
     "text": [
      "(5112,)\n"
     ]
    },
    {
     "data": {
      "text/plain": [
       "0      pan\n",
       "64     pan\n",
       "128    pan\n",
       "192    pan\n",
       "256    pan\n",
       "Name: Gesture_ID, dtype: object"
      ]
     },
     "execution_count": 12,
     "metadata": {},
     "output_type": "execute_result"
    }
   ],
   "source": [
    "label_per_gesture_df = full_pca40_gesture_train_labels_df.iloc[::64]\n",
    "print(label_per_gesture_df.shape)\n",
    "label_per_gesture_df.head()"
   ]
  },
  {
   "cell_type": "code",
   "execution_count": 13,
   "id": "6095ac5a-af85-42c6-9d68-87e7872a0d3d",
   "metadata": {},
   "outputs": [
    {
     "data": {
      "text/html": [
       "<div>\n",
       "<style scoped>\n",
       "    .dataframe tbody tr th:only-of-type {\n",
       "        vertical-align: middle;\n",
       "    }\n",
       "\n",
       "    .dataframe tbody tr th {\n",
       "        vertical-align: top;\n",
       "    }\n",
       "\n",
       "    .dataframe thead th {\n",
       "        text-align: right;\n",
       "    }\n",
       "</style>\n",
       "<table border=\"1\" class=\"dataframe\">\n",
       "  <thead>\n",
       "    <tr style=\"text-align: right;\">\n",
       "      <th></th>\n",
       "      <th>Participant</th>\n",
       "      <th>Gesture_ID</th>\n",
       "      <th>Gesture_Num</th>\n",
       "    </tr>\n",
       "  </thead>\n",
       "  <tbody>\n",
       "    <tr>\n",
       "      <th>0</th>\n",
       "      <td>P102</td>\n",
       "      <td>pan</td>\n",
       "      <td>1</td>\n",
       "    </tr>\n",
       "    <tr>\n",
       "      <th>64</th>\n",
       "      <td>P102</td>\n",
       "      <td>pan</td>\n",
       "      <td>2</td>\n",
       "    </tr>\n",
       "    <tr>\n",
       "      <th>128</th>\n",
       "      <td>P102</td>\n",
       "      <td>pan</td>\n",
       "      <td>3</td>\n",
       "    </tr>\n",
       "    <tr>\n",
       "      <th>192</th>\n",
       "      <td>P102</td>\n",
       "      <td>pan</td>\n",
       "      <td>4</td>\n",
       "    </tr>\n",
       "    <tr>\n",
       "      <th>256</th>\n",
       "      <td>P102</td>\n",
       "      <td>pan</td>\n",
       "      <td>5</td>\n",
       "    </tr>\n",
       "  </tbody>\n",
       "</table>\n",
       "</div>"
      ],
      "text/plain": [
       "    Participant Gesture_ID Gesture_Num\n",
       "0          P102        pan           1\n",
       "64         P102        pan           2\n",
       "128        P102        pan           3\n",
       "192        P102        pan           4\n",
       "256        P102        pan           5"
      ]
     },
     "execution_count": 13,
     "metadata": {},
     "output_type": "execute_result"
    }
   ],
   "source": [
    "full_pca40_train_XY_df[metadata_cols].iloc[::64].head()"
   ]
  },
  {
   "cell_type": "code",
   "execution_count": 14,
   "id": "e0cec3fb-ee3a-4bde-8509-9a69f3fa02f6",
   "metadata": {},
   "outputs": [
    {
     "name": "stdout",
     "output_type": "stream",
     "text": [
      "(5112, 28)\n"
     ]
    },
    {
     "data": {
      "text/html": [
       "<div>\n",
       "<style scoped>\n",
       "    .dataframe tbody tr th:only-of-type {\n",
       "        vertical-align: middle;\n",
       "    }\n",
       "\n",
       "    .dataframe tbody tr th {\n",
       "        vertical-align: top;\n",
       "    }\n",
       "\n",
       "    .dataframe thead th {\n",
       "        text-align: right;\n",
       "    }\n",
       "</style>\n",
       "<table border=\"1\" class=\"dataframe\">\n",
       "  <thead>\n",
       "    <tr style=\"text-align: right;\">\n",
       "      <th></th>\n",
       "      <th>air-tap</th>\n",
       "      <th>close</th>\n",
       "      <th>delete</th>\n",
       "      <th>double-clench</th>\n",
       "      <th>double-pinch</th>\n",
       "      <th>duplicate</th>\n",
       "      <th>frequency</th>\n",
       "      <th>gesture-1</th>\n",
       "      <th>gesture-2</th>\n",
       "      <th>gesture-3</th>\n",
       "      <th>...</th>\n",
       "      <th>point-and-pinch</th>\n",
       "      <th>range-of-motion</th>\n",
       "      <th>rotate</th>\n",
       "      <th>select-single</th>\n",
       "      <th>shake-and-release</th>\n",
       "      <th>single-clench</th>\n",
       "      <th>single-pinch</th>\n",
       "      <th>two-handed-tap</th>\n",
       "      <th>zoom-in</th>\n",
       "      <th>zoom-out</th>\n",
       "    </tr>\n",
       "  </thead>\n",
       "  <tbody>\n",
       "    <tr>\n",
       "      <th>0</th>\n",
       "      <td>0.0</td>\n",
       "      <td>0.0</td>\n",
       "      <td>0.0</td>\n",
       "      <td>0.0</td>\n",
       "      <td>0.0</td>\n",
       "      <td>0.0</td>\n",
       "      <td>0.0</td>\n",
       "      <td>0.0</td>\n",
       "      <td>0.0</td>\n",
       "      <td>0.0</td>\n",
       "      <td>...</td>\n",
       "      <td>0.0</td>\n",
       "      <td>0.0</td>\n",
       "      <td>0.0</td>\n",
       "      <td>0.0</td>\n",
       "      <td>0.0</td>\n",
       "      <td>0.0</td>\n",
       "      <td>0.0</td>\n",
       "      <td>0.0</td>\n",
       "      <td>0.0</td>\n",
       "      <td>0.0</td>\n",
       "    </tr>\n",
       "    <tr>\n",
       "      <th>1</th>\n",
       "      <td>0.0</td>\n",
       "      <td>0.0</td>\n",
       "      <td>0.0</td>\n",
       "      <td>0.0</td>\n",
       "      <td>0.0</td>\n",
       "      <td>0.0</td>\n",
       "      <td>0.0</td>\n",
       "      <td>0.0</td>\n",
       "      <td>0.0</td>\n",
       "      <td>0.0</td>\n",
       "      <td>...</td>\n",
       "      <td>0.0</td>\n",
       "      <td>0.0</td>\n",
       "      <td>0.0</td>\n",
       "      <td>0.0</td>\n",
       "      <td>0.0</td>\n",
       "      <td>0.0</td>\n",
       "      <td>0.0</td>\n",
       "      <td>0.0</td>\n",
       "      <td>0.0</td>\n",
       "      <td>0.0</td>\n",
       "    </tr>\n",
       "    <tr>\n",
       "      <th>2</th>\n",
       "      <td>0.0</td>\n",
       "      <td>0.0</td>\n",
       "      <td>0.0</td>\n",
       "      <td>0.0</td>\n",
       "      <td>0.0</td>\n",
       "      <td>0.0</td>\n",
       "      <td>0.0</td>\n",
       "      <td>0.0</td>\n",
       "      <td>0.0</td>\n",
       "      <td>0.0</td>\n",
       "      <td>...</td>\n",
       "      <td>0.0</td>\n",
       "      <td>0.0</td>\n",
       "      <td>0.0</td>\n",
       "      <td>0.0</td>\n",
       "      <td>0.0</td>\n",
       "      <td>0.0</td>\n",
       "      <td>0.0</td>\n",
       "      <td>0.0</td>\n",
       "      <td>0.0</td>\n",
       "      <td>0.0</td>\n",
       "    </tr>\n",
       "    <tr>\n",
       "      <th>3</th>\n",
       "      <td>0.0</td>\n",
       "      <td>0.0</td>\n",
       "      <td>0.0</td>\n",
       "      <td>0.0</td>\n",
       "      <td>0.0</td>\n",
       "      <td>0.0</td>\n",
       "      <td>0.0</td>\n",
       "      <td>0.0</td>\n",
       "      <td>0.0</td>\n",
       "      <td>0.0</td>\n",
       "      <td>...</td>\n",
       "      <td>0.0</td>\n",
       "      <td>0.0</td>\n",
       "      <td>0.0</td>\n",
       "      <td>0.0</td>\n",
       "      <td>0.0</td>\n",
       "      <td>0.0</td>\n",
       "      <td>0.0</td>\n",
       "      <td>0.0</td>\n",
       "      <td>0.0</td>\n",
       "      <td>0.0</td>\n",
       "    </tr>\n",
       "    <tr>\n",
       "      <th>4</th>\n",
       "      <td>0.0</td>\n",
       "      <td>0.0</td>\n",
       "      <td>0.0</td>\n",
       "      <td>0.0</td>\n",
       "      <td>0.0</td>\n",
       "      <td>0.0</td>\n",
       "      <td>0.0</td>\n",
       "      <td>0.0</td>\n",
       "      <td>0.0</td>\n",
       "      <td>0.0</td>\n",
       "      <td>...</td>\n",
       "      <td>0.0</td>\n",
       "      <td>0.0</td>\n",
       "      <td>0.0</td>\n",
       "      <td>0.0</td>\n",
       "      <td>0.0</td>\n",
       "      <td>0.0</td>\n",
       "      <td>0.0</td>\n",
       "      <td>0.0</td>\n",
       "      <td>0.0</td>\n",
       "      <td>0.0</td>\n",
       "    </tr>\n",
       "  </tbody>\n",
       "</table>\n",
       "<p>5 rows × 28 columns</p>\n",
       "</div>"
      ],
      "text/plain": [
       "   air-tap  close  delete  double-clench  double-pinch  duplicate  frequency   \n",
       "0      0.0    0.0     0.0            0.0           0.0        0.0        0.0  \\\n",
       "1      0.0    0.0     0.0            0.0           0.0        0.0        0.0   \n",
       "2      0.0    0.0     0.0            0.0           0.0        0.0        0.0   \n",
       "3      0.0    0.0     0.0            0.0           0.0        0.0        0.0   \n",
       "4      0.0    0.0     0.0            0.0           0.0        0.0        0.0   \n",
       "\n",
       "   gesture-1  gesture-2  gesture-3  ...  point-and-pinch  range-of-motion   \n",
       "0        0.0        0.0        0.0  ...              0.0              0.0  \\\n",
       "1        0.0        0.0        0.0  ...              0.0              0.0   \n",
       "2        0.0        0.0        0.0  ...              0.0              0.0   \n",
       "3        0.0        0.0        0.0  ...              0.0              0.0   \n",
       "4        0.0        0.0        0.0  ...              0.0              0.0   \n",
       "\n",
       "   rotate  select-single  shake-and-release  single-clench  single-pinch   \n",
       "0     0.0            0.0                0.0            0.0           0.0  \\\n",
       "1     0.0            0.0                0.0            0.0           0.0   \n",
       "2     0.0            0.0                0.0            0.0           0.0   \n",
       "3     0.0            0.0                0.0            0.0           0.0   \n",
       "4     0.0            0.0                0.0            0.0           0.0   \n",
       "\n",
       "   two-handed-tap  zoom-in  zoom-out  \n",
       "0             0.0      0.0       0.0  \n",
       "1             0.0      0.0       0.0  \n",
       "2             0.0      0.0       0.0  \n",
       "3             0.0      0.0       0.0  \n",
       "4             0.0      0.0       0.0  \n",
       "\n",
       "[5 rows x 28 columns]"
      ]
     },
     "execution_count": 14,
     "metadata": {},
     "output_type": "execute_result"
    }
   ],
   "source": [
    "# Convert the DataFrame column to numpy array\n",
    "labels_array = label_per_gesture_df.to_numpy()\n",
    "# Create OneHotEncoder instance\n",
    "gesture_encoder = OneHotEncoder(sparse=False)\n",
    "# Reshape the labels array to fit the OneHotEncoder input shape\n",
    "labels_reshaped = labels_array.reshape(-1, 1)\n",
    "# Encode the labels\n",
    "labels_encoded = gesture_encoder.fit_transform(labels_reshaped)\n",
    "# Convert the encoded labels back to DataFrame\n",
    "encoded_labels_df = pd.DataFrame(labels_encoded, columns=gesture_encoder.categories_[0])\n",
    "print(encoded_labels_df.shape)\n",
    "encoded_labels_df.head()"
   ]
  },
  {
   "cell_type": "code",
   "execution_count": 15,
   "id": "20c87f85-03ee-42a5-8326-cb6480a31abe",
   "metadata": {},
   "outputs": [],
   "source": [
    "# Create the dataset obj\n",
    "u_training_dataset = GestureDatasetClustering(X_3DTensor_PCA40, encoded_labels_df.to_numpy())\n",
    "# Create the training dataloader\n",
    "batch_size = 32  # Adjust batch size as needed\n",
    "train_loader = DataLoader(u_training_dataset, batch_size=batch_size, shuffle=True) # Should shuffle be False? \n",
    "## It's shuffling the gesture order I think so that should be fine..."
   ]
  },
  {
   "cell_type": "code",
   "execution_count": 16,
   "id": "3c0bd6c8-acb2-4b43-9c34-a4f83cc4c590",
   "metadata": {},
   "outputs": [],
   "source": [
    "label_per_test_gesture_df = full_pca40_gesture_test_labels_df.iloc[::64]\n",
    "gesture_encoder = OneHotEncoder(sparse=False)\n",
    "test_labels_encoded = gesture_encoder.fit_transform(label_per_test_gesture_df.to_numpy().reshape(-1, 1))\n",
    "encoded_test_labels_df = pd.DataFrame(test_labels_encoded, columns=gesture_encoder.categories_[0])\n",
    "\n",
    "# Create the dataset obj\n",
    "u_testing_dataset = GestureDatasetClustering(Xtest_3DTensor_PCA40, encoded_test_labels_df.to_numpy())\n",
    "# Create the testing dataloader\n",
    "test_loader = DataLoader(u_testing_dataset, batch_size=batch_size, shuffle=False)"
   ]
  },
  {
   "cell_type": "code",
   "execution_count": 17,
   "id": "478b12b2-918b-4a7f-ba0f-dd61664ac66e",
   "metadata": {},
   "outputs": [],
   "source": [
    "# Function to check data types and shapes\n",
    "def check_dataloader(loader):\n",
    "    for i, (data, labels) in enumerate(loader):\n",
    "        if not isinstance(data, torch.Tensor) or not isinstance(labels, torch.Tensor):\n",
    "            print(\"Error: Data or labels are not tensors\")\n",
    "            break\n"
   ]
  },
  {
   "cell_type": "code",
   "execution_count": 18,
   "id": "b49539f7-57ee-46c3-adff-268202c6e431",
   "metadata": {},
   "outputs": [],
   "source": [
    "# Check the DataLoader\n",
    "check_dataloader(train_loader)"
   ]
  },
  {
   "cell_type": "code",
   "execution_count": 19,
   "id": "a59e33bf-8145-427d-84ab-0f1c32c7036a",
   "metadata": {},
   "outputs": [],
   "source": [
    "# Check the DataLoader\n",
    "check_dataloader(test_loader)"
   ]
  },
  {
   "cell_type": "code",
   "execution_count": 20,
   "id": "89182108-c8c2-4d83-9e81-69372db95939",
   "metadata": {},
   "outputs": [
    {
     "name": "stdout",
     "output_type": "stream",
     "text": [
      "Data type: <class 'torch.Tensor'>\n",
      "Data shape: torch.Size([32, 64, 40])\n",
      "Labels type: <class 'torch.Tensor'>\n",
      "Labels shape: torch.Size([32, 28])\n"
     ]
    }
   ],
   "source": [
    "# Create an iterator from the DataLoader\n",
    "test_loader_iter = iter(test_loader)\n",
    "\n",
    "# Get the first batch\n",
    "first_batch = next(test_loader_iter)\n",
    "\n",
    "# Unpack the data and labels\n",
    "data, labels = first_batch\n",
    "\n",
    "print(\"Data type:\", type(data))\n",
    "print(\"Data shape:\", data.shape)\n",
    "print(\"Labels type:\", type(labels))\n",
    "print(\"Labels shape:\", labels.shape)"
   ]
  },
  {
   "cell_type": "markdown",
   "id": "47013c5c-d9cf-4ce4-ba5a-a9a21d0030b9",
   "metadata": {},
   "source": [
    "## Load in and set up all saved models"
   ]
  },
  {
   "cell_type": "code",
   "execution_count": 21,
   "id": "dc734031-c3be-4c29-9a0a-b4697f04a291",
   "metadata": {},
   "outputs": [],
   "source": [
    "# Kai:\n",
    "model_dir_path = 'C:\\\\Users\\\\kdmen\\\\Desktop\\\\Research\\\\Repos\\\\fl-gestures\\\\models\\\\'\n",
    "# BRC:\n",
    "#model_dir_path = 'C:\\\\Users\\\\YamagamiLab\\\\Desktop\\\\Dev\\\\fl-gestures\\\\models\\\\'\n",
    "timesteps = 64\n",
    "seq_len = 64\n",
    "num_features = 40\n",
    "input_dim = 40"
   ]
  },
  {
   "cell_type": "code",
   "execution_count": 22,
   "id": "a61ed70f-12e4-4ae6-a36e-0e6cc49574b8",
   "metadata": {},
   "outputs": [
    {
     "data": {
      "text/plain": [
       "<All keys matched successfully>"
      ]
     },
     "execution_count": 22,
     "metadata": {},
     "output_type": "execute_result"
    }
   ],
   "source": [
    "hidden_dim = 128\n",
    "num_layers = 2\n",
    "progressive = False\n",
    "RNNAE_gridsearch_latent128_BothPCA40_model = RNNAutoencoder(input_dim, hidden_dim, num_layers, seq_len, progressive)\n",
    "\n",
    "RNNAE_gridsearch_latent128_BothPCA40_model.load_state_dict(torch.load(model_dir_path+'RNNAE_latent128_progFalse_numlayers2_trial13_vallossp001_BothPCA40.pth'))"
   ]
  },
  {
   "cell_type": "code",
   "execution_count": 26,
   "id": "85637dca-40fa-4d14-9c98-2319f0a344ab",
   "metadata": {},
   "outputs": [
    {
     "name": "stdout",
     "output_type": "stream",
     "text": [
      "Batch shape: torch.Size([32, 64, 40])\n",
      "Latent shape: torch.Size([32, 64, 128])\n"
     ]
    }
   ],
   "source": [
    "for batch, _ in test_loader:\n",
    "    print(f\"Batch shape: {batch.shape}\")  # Should print (32, 64, 40)\n",
    "    batch, _ = next(iter(test_loader))\n",
    "    latent = my_model.encode(batch)\n",
    "    print(f\"Latent shape: {latent.shape}\")\n",
    "    break"
   ]
  },
  {
   "cell_type": "code",
   "execution_count": 23,
   "id": "13d0e2aa-edb3-4a04-8079-eb48d1f91814",
   "metadata": {},
   "outputs": [
    {
     "name": "stdout",
     "output_type": "stream",
     "text": [
      "Shapes in list to stack:\n",
      "Entry 0 shape: torch.Size([32, 64, 40])\n",
      "Entry 1 shape: torch.Size([32, 28])\n"
     ]
    },
    {
     "ename": "ValueError",
     "evalue": "expected sequence of length 3 at dim 1 (got 2)",
     "output_type": "error",
     "traceback": [
      "\u001b[1;31m---------------------------------------------------------------------------\u001b[0m",
      "\u001b[1;31mValueError\u001b[0m                                Traceback (most recent call last)",
      "Cell \u001b[1;32mIn[23], line 3\u001b[0m\n\u001b[0;32m      1\u001b[0m my_model \u001b[38;5;241m=\u001b[39m RNNAE_gridsearch_latent128_BothPCA40_model\n\u001b[1;32m----> 3\u001b[0m average_test_loss, sample_data_lst, reconstructions_lst, latent_representations_lst \u001b[38;5;241m=\u001b[39m \u001b[43meval_on_testset_and_return_original_and_reconstructed\u001b[49m\u001b[43m(\u001b[49m\u001b[43mmy_model\u001b[49m\u001b[43m,\u001b[49m\u001b[43m \u001b[49m\u001b[43mtest_loader\u001b[49m\u001b[43m)\u001b[49m\n\u001b[0;32m      4\u001b[0m visualize_original_vs_reconstructed_gestures(sample_data_lst[\u001b[38;5;241m0\u001b[39m], reconstructions_lst[\u001b[38;5;241m0\u001b[39m])\n\u001b[0;32m      5\u001b[0m \u001b[38;5;66;03m#latent_space_vis(latent_representations_lst)\u001b[39;00m\n",
      "File \u001b[1;32m~\\Desktop\\Research\\Repos\\fl-gestures\\ae_eval_and_vis.py:36\u001b[0m, in \u001b[0;36meval_on_testset_and_return_original_and_reconstructed\u001b[1;34m(model, test_loader, criterion, batch_modulus, get_latent_representations)\u001b[0m\n\u001b[0;32m     33\u001b[0m \u001b[38;5;28;01mfor\u001b[39;00m batch_num, batch \u001b[38;5;129;01min\u001b[39;00m \u001b[38;5;28menumerate\u001b[39m(test_loader):\n\u001b[0;32m     34\u001b[0m     \u001b[38;5;28;01mif\u001b[39;00m get_latent_representations:\n\u001b[0;32m     35\u001b[0m         \u001b[38;5;66;03m#latent = model.encoder(batch)  # This module isn't defined the way PyTorch expects, so don't use this\u001b[39;00m\n\u001b[1;32m---> 36\u001b[0m         latent \u001b[38;5;241m=\u001b[39m \u001b[43mmodel\u001b[49m\u001b[38;5;241;43m.\u001b[39;49m\u001b[43mencode\u001b[49m\u001b[43m(\u001b[49m\u001b[43mbatch\u001b[49m\u001b[43m)\u001b[49m  \u001b[38;5;66;03m# Created my own encode() func\u001b[39;00m\n\u001b[0;32m     37\u001b[0m         latent_representations_lst\u001b[38;5;241m.\u001b[39mappend(latent\u001b[38;5;241m.\u001b[39mcpu()\u001b[38;5;241m.\u001b[39mnumpy())\n\u001b[0;32m     38\u001b[0m     output \u001b[38;5;241m=\u001b[39m model(batch)\n",
      "File \u001b[1;32m~\\Desktop\\Research\\Repos\\fl-gestures\\ae_torch_classes.py:122\u001b[0m, in \u001b[0;36mRNNAutoencoder.encode\u001b[1;34m(self, x)\u001b[0m\n\u001b[0;32m    120\u001b[0m     \u001b[38;5;28mprint\u001b[39m(\u001b[38;5;124mf\u001b[39m\u001b[38;5;124m\"\u001b[39m\u001b[38;5;124mEntry \u001b[39m\u001b[38;5;132;01m{\u001b[39;00mi\u001b[38;5;132;01m}\u001b[39;00m\u001b[38;5;124m shape: \u001b[39m\u001b[38;5;132;01m{\u001b[39;00mt\u001b[38;5;241m.\u001b[39mshape\u001b[38;5;132;01m}\u001b[39;00m\u001b[38;5;124m\"\u001b[39m)\n\u001b[0;32m    121\u001b[0m \u001b[38;5;66;03m# Ensure all tensors have the same shape before stacking\u001b[39;00m\n\u001b[1;32m--> 122\u001b[0m max_shape \u001b[38;5;241m=\u001b[39m \u001b[43mtorch\u001b[49m\u001b[38;5;241;43m.\u001b[39;49m\u001b[43mtensor\u001b[49m\u001b[43m(\u001b[49m\u001b[43m[\u001b[49m\u001b[43mtensor\u001b[49m\u001b[38;5;241;43m.\u001b[39;49m\u001b[43mshape\u001b[49m\u001b[43m \u001b[49m\u001b[38;5;28;43;01mfor\u001b[39;49;00m\u001b[43m \u001b[49m\u001b[43mtensor\u001b[49m\u001b[43m \u001b[49m\u001b[38;5;129;43;01min\u001b[39;49;00m\u001b[43m \u001b[49m\u001b[43mx\u001b[49m\u001b[43m]\u001b[49m\u001b[43m)\u001b[49m\u001b[38;5;241m.\u001b[39mmax(dim\u001b[38;5;241m=\u001b[39m\u001b[38;5;241m0\u001b[39m)[\u001b[38;5;241m0\u001b[39m]\n\u001b[0;32m    123\u001b[0m x \u001b[38;5;241m=\u001b[39m [torch\u001b[38;5;241m.\u001b[39mnn\u001b[38;5;241m.\u001b[39mfunctional\u001b[38;5;241m.\u001b[39mpad(t, (\u001b[38;5;241m0\u001b[39m, max_shape[\u001b[38;5;241m-\u001b[39m\u001b[38;5;241m1\u001b[39m] \u001b[38;5;241m-\u001b[39m t\u001b[38;5;241m.\u001b[39mshape[\u001b[38;5;241m-\u001b[39m\u001b[38;5;241m1\u001b[39m])) \u001b[38;5;28;01mif\u001b[39;00m t\u001b[38;5;241m.\u001b[39mshape \u001b[38;5;241m!=\u001b[39m max_shape \u001b[38;5;28;01melse\u001b[39;00m t \u001b[38;5;28;01mfor\u001b[39;00m t \u001b[38;5;129;01min\u001b[39;00m x]\n\u001b[0;32m    124\u001b[0m x \u001b[38;5;241m=\u001b[39m torch\u001b[38;5;241m.\u001b[39mstack(x)\n",
      "\u001b[1;31mValueError\u001b[0m: expected sequence of length 3 at dim 1 (got 2)"
     ]
    }
   ],
   "source": [
    "my_model = RNNAE_gridsearch_latent128_BothPCA40_model\n",
    "\n",
    "average_test_loss, sample_data_lst, reconstructions_lst, latent_representations_lst = eval_on_testset_and_return_original_and_reconstructed(my_model, test_loader)\n",
    "visualize_original_vs_reconstructed_gestures(sample_data_lst[0], reconstructions_lst[0])\n",
    "#latent_space_vis(latent_representations_lst)"
   ]
  },
  {
   "cell_type": "markdown",
   "id": "b6ee757f-2949-451f-8441-7f19f66f0954",
   "metadata": {},
   "source": []
  },
  {
   "cell_type": "code",
   "execution_count": 27,
   "id": "fba54975-934a-4a06-9ef5-5dcd309b847e",
   "metadata": {},
   "outputs": [
    {
     "data": {
      "text/plain": [
       "<All keys matched successfully>"
      ]
     },
     "execution_count": 27,
     "metadata": {},
     "output_type": "execute_result"
    }
   ],
   "source": [
    "hidden_dim = [32, 16, 3]\n",
    "num_layers = None\n",
    "RNNAE_32_16_3mir_BothPCA40_model = RNNAutoencoder(input_dim, hidden_dim, num_layers, seq_len, mirror=True)\n",
    "RNNAE_32_16_3mir_BothPCA40_model.load_state_dict(torch.load(model_dir_path+'RNNAE_32_16_3mir_vallossp084_BothPCA40.pth'))"
   ]
  },
  {
   "cell_type": "code",
   "execution_count": null,
   "id": "0da5fc12-9ee9-477b-a2b7-8ed7627b68f5",
   "metadata": {},
   "outputs": [],
   "source": [
    "my_model = RNNAE_32_16_3mir_BothPCA40_model\n",
    "\n",
    "average_test_loss, sample_data_lst, reconstructions_lst, latent_representations_lst = eval_on_testset_and_return_original_and_reconstructed(my_model, test_loader)\n",
    "visualize_original_vs_reconstructed_gestures(sample_data_lst[0], reconstructions_lst[0])\n",
    "latent_space_vis(latent_representations_lst)"
   ]
  },
  {
   "cell_type": "code",
   "execution_count": null,
   "id": "d0d9d6fa-49fa-4954-a7e6-ff5e99ed070d",
   "metadata": {},
   "outputs": [],
   "source": [
    "hidden_dim = [56, 28]\n",
    "num_layers = None\n",
    "RNNAE_56_28mir_BothPCA40_model = RNNAutoencoder(input_dim, hidden_dim, num_layers, seq_len, mirror=True)\n",
    "RNNAE_56_28mir_BothPCA40_model.load_state_dict(torch.load(model_dir_path+'RNNAE_56_28mir_vallossp013_BothPCA40.pth'))"
   ]
  },
  {
   "cell_type": "code",
   "execution_count": null,
   "id": "ce4b25f8-eee3-4ed1-8bca-1ded15a660f8",
   "metadata": {},
   "outputs": [],
   "source": [
    "my_model = RNNAE_56_28mir_BothPCA40_model\n",
    "\n",
    "average_test_loss, sample_data_lst, reconstructions_lst, latent_representations_lst = eval_on_testset_and_return_original_and_reconstructed(my_model, test_loader)\n",
    "visualize_original_vs_reconstructed_gestures(sample_data_lst[0], reconstructions_lst[0])\n",
    "latent_space_vis(latent_representations_lst)"
   ]
  },
  {
   "cell_type": "code",
   "execution_count": null,
   "id": "f70487db-6910-4972-92d0-54a91d03d0d1",
   "metadata": {},
   "outputs": [],
   "source": []
  },
  {
   "cell_type": "code",
   "execution_count": null,
   "id": "9c68e6a8-d51c-4b48-a6b0-a969b8cf7f29",
   "metadata": {},
   "outputs": [],
   "source": [
    "assert(False)"
   ]
  },
  {
   "cell_type": "markdown",
   "id": "dcfbfbba-6e7a-4590-a851-0378bb7a9ea6",
   "metadata": {},
   "source": [
    "Reshape latent representats so I can use it for clustering"
   ]
  },
  {
   "cell_type": "code",
   "execution_count": null,
   "id": "84c906db-1abb-4548-b6af-289e306359e6",
   "metadata": {},
   "outputs": [],
   "source": [
    "len(latent_representations_lst)"
   ]
  },
  {
   "cell_type": "code",
   "execution_count": null,
   "id": "8d8d1ea2-3f89-484e-96af-548e7e46082d",
   "metadata": {},
   "outputs": [],
   "source": [
    "latent_representations = np.concatenate(latent_representations_lst)\n",
    "print(latent_representations.shape)"
   ]
  },
  {
   "cell_type": "markdown",
   "id": "eac0deb6-4a91-4d43-9e35-fad9b9d40261",
   "metadata": {},
   "source": [
    "Latent Embedding"
   ]
  },
  {
   "cell_type": "code",
   "execution_count": null,
   "id": "a9db3d78-83ef-4b25-b97d-a5caf66f264c",
   "metadata": {},
   "outputs": [],
   "source": [
    "# Reshape to 2D since TSNE and such can't handle 3D inputs...\n",
    "latent_representations_reshaped = latent_representations.reshape(latent_representations.shape[0], -1)\n",
    "print(latent_representations_reshaped.shape)"
   ]
  },
  {
   "cell_type": "markdown",
   "id": "9fa9714b-0f26-40f3-8964-c274a6cedb2f",
   "metadata": {
    "jp-MarkdownHeadingCollapsed": true
   },
   "source": [
    "Latent Space Clustering"
   ]
  },
  {
   "cell_type": "code",
   "execution_count": null,
   "id": "a3c64818-2187-405d-b265-fd73530c1e98",
   "metadata": {},
   "outputs": [],
   "source": [
    "#if clustering_algo_str == 'KMeans':\n",
    "#    model = KMeans(n_clusters=num_clusters, random_state=42, n_init='auto') \n",
    "#elif clustering_algo_str == 'DBSCAN':\n",
    "#    model = DBSCAN(eps=eps, min_samples=min_samples)\n",
    "#\n",
    "#labels = model.fit_predict(X)"
   ]
  },
  {
   "cell_type": "code",
   "execution_count": null,
   "id": "8fe25200-9d0a-442a-b703-eb8a5f7971e5",
   "metadata": {},
   "outputs": [],
   "source": []
  },
  {
   "cell_type": "code",
   "execution_count": null,
   "id": "7e333943-ee47-4645-832f-35336094516b",
   "metadata": {},
   "outputs": [],
   "source": []
  },
  {
   "cell_type": "code",
   "execution_count": null,
   "id": "c60e3694-3ffc-421a-8a32-cca818015c7f",
   "metadata": {},
   "outputs": [],
   "source": [
    "encode"
   ]
  },
  {
   "cell_type": "code",
   "execution_count": null,
   "id": "bed36ff8-fc15-49d5-ac43-719924c080eb",
   "metadata": {},
   "outputs": [],
   "source": []
  },
  {
   "cell_type": "code",
   "execution_count": null,
   "id": "c8e9c7b7-9eb4-4eb4-b976-9f2b2362ca07",
   "metadata": {},
   "outputs": [],
   "source": []
  },
  {
   "cell_type": "code",
   "execution_count": null,
   "id": "81250bac-b073-47c5-9bdf-412fd1f91d90",
   "metadata": {},
   "outputs": [],
   "source": [
    "# Define and train the KNN classifier\n",
    "knn1 = KNeighborsClassifier(n_neighbors=1)\n",
    "knn1.fit(X_train_embeddings, y_train)\n",
    "\n",
    "# Predict on the test data\n",
    "y_pred = knn.predict(X_test_embeddings)\n",
    "\n",
    "# Calculate accuracy\n",
    "accuracy = accuracy_score(y_test, y_pred)\n",
    "print(f'Accuracy: {accuracy * 100:.2f}%')"
   ]
  },
  {
   "cell_type": "code",
   "execution_count": null,
   "id": "07f54ba9-dae2-4f54-a35d-df0a7b5fed46",
   "metadata": {},
   "outputs": [],
   "source": []
  },
  {
   "cell_type": "code",
   "execution_count": null,
   "id": "2a6786d4-9f0c-4770-b70c-ade2aa3b0feb",
   "metadata": {},
   "outputs": [],
   "source": []
  }
 ],
 "metadata": {
  "kernelspec": {
   "display_name": "Python 3 (ipykernel)",
   "language": "python",
   "name": "python3"
  },
  "language_info": {
   "codemirror_mode": {
    "name": "ipython",
    "version": 3
   },
   "file_extension": ".py",
   "mimetype": "text/x-python",
   "name": "python",
   "nbconvert_exporter": "python",
   "pygments_lexer": "ipython3",
   "version": "3.10.12"
  }
 },
 "nbformat": 4,
 "nbformat_minor": 5
}
