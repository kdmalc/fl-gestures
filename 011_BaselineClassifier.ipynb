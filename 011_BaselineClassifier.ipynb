{
 "cells": [
  {
   "cell_type": "code",
   "execution_count": 1,
   "id": "c1ef1e63-343c-4d55-ad97-cf3cabb3fc2e",
   "metadata": {},
   "outputs": [],
   "source": [
    "import torch\n",
    "import torch.nn as nn\n",
    "import torch.optim as optim\n",
    "from torch.utils.data import Dataset, DataLoader\n",
    "\n",
    "import pandas as pd\n",
    "import numpy as np\n",
    "import matplotlib.pyplot as plt\n",
    "import time\n",
    "\n",
    "from sklearn.manifold import TSNE\n",
    "from sklearn.decomposition import PCA\n",
    "\n",
    "from sklearn.preprocessing import OneHotEncoder\n",
    "from sklearn.neighbors import KNeighborsClassifier\n",
    "from sklearn.svm import SVC\n",
    "from sklearn.metrics import classification_report, accuracy_score\n",
    "\n",
    "from utils.subspace_clustering_helper_funcs import *\n",
    "from utils.ml_pipeline import *"
   ]
  },
  {
   "cell_type": "code",
   "execution_count": 2,
   "id": "47711c64-44f7-453c-9d0e-6a4f299633e8",
   "metadata": {},
   "outputs": [],
   "source": [
    "import warnings\n",
    "warnings.filterwarnings('ignore')\n",
    "# C:\\Users\\kdmen\\miniconda3\\envs\\fl_torch\\lib\\site-packages\\sklearn\\cluster\\_kmeans.py:870: FutureWarning: The default value of `n_init` will change from 10 to 'auto' in 1.4. Set the value of `n_init` explicitly to suppress the warning warnings.warn("
   ]
  },
  {
   "cell_type": "markdown",
   "id": "347da32c-36cc-49e0-80cd-e5b456561a30",
   "metadata": {},
   "source": [
    "# Load in Data"
   ]
  },
  {
   "cell_type": "code",
   "execution_count": 1,
   "id": "3efcc43b-ac2f-43c1-902f-56ff8f78700c",
   "metadata": {},
   "outputs": [],
   "source": [
    "# This requires loading in different data, according to 010a/b\n",
    "if False:\n",
    "    y_integer = np.argmax(encoded_labels_df, axis=1)\n",
    "    #print(len(y_integer))\n",
    "    ytest_integer = np.argmax(encoded_test_labels_df, axis=1)\n",
    "    #print(len(ytest_integer))\n",
    "    \n",
    "    # CREATE THE TRAINING SET\n",
    "    num_gestures = len(emg_training_users_df) // num_rows_per_gesture\n",
    "    num_features = emg_training_users_df.shape[1]\n",
    "    emg_train_loader = create_data_loader(emg_training_users_df, GestureDatasetClustering, labels=y_integer)\n",
    "    # CREATE THE TEST SET\n",
    "    num_features = emg_test_users_df.shape[1]\n",
    "    num_gestures = len(emg_test_users_df) // num_rows_per_gesture\n",
    "    emg_test_loader = create_data_loader(emg_test_users_df, GestureDatasetClustering, labels=ytest_integer, shuffle_bool=False)\n",
    "    \n",
    "    # CREATE THE TRAINING SET\n",
    "    num_gestures = len(both_training_users_df) // num_rows_per_gesture\n",
    "    num_features = both_training_users_df.shape[1]\n",
    "    both_train_loader = create_data_loader(both_training_users_df, GestureDatasetClustering, labels=y_integer)\n",
    "    # CREATE THE TEST SET\n",
    "    num_features = both_test_users_df.shape[1]\n",
    "    num_gestures = len(both_test_users_df) // num_rows_per_gesture\n",
    "    both_test_loader = create_data_loader(both_test_users_df, GestureDatasetClustering, labels=ytest_integer, shuffle_bool=False)\n",
    "    \n",
    "    # CREATE THE TRAINING SET\n",
    "    num_gestures = len(both_pca_training_users_df) // num_rows_per_gesture\n",
    "    num_features = both_pca_training_users_df.shape[1]\n",
    "    both_pca_train_loader = create_data_loader(both_pca_training_users_df, GestureDatasetClustering, labels=y_integer)\n",
    "    # CREATE THE TEST SET\n",
    "    num_test_features = both_pca_test_users_df.shape[1]\n",
    "    num_test_gestures = len(both_pca_test_users_df) // num_rows_per_gesture\n",
    "    both_pca_test_loader = create_data_loader(both_pca_test_users_df, GestureDatasetClustering, labels=ytest_integer, shuffle_bool=False)"
   ]
  },
  {
   "cell_type": "code",
   "execution_count": 4,
   "id": "647a91a5-4d27-485f-8ed0-db92218ccb45",
   "metadata": {},
   "outputs": [
    {
     "name": "stdout",
     "output_type": "stream",
     "text": [
      "Loading\n"
     ]
    }
   ],
   "source": [
    "# Kai's laptop\n",
    "#data_path = \"C:\\\\Users\\\\kdmen\\\\Desktop\\\\Research\\\\Data\\\\$M\\\\PCA_40D\\\\\"\n",
    "#data_path = \"C:\\\\Users\\\\kdmen\\\\Desktop\\\\Research\\\\Data\\\\$M\\\\Filtered_Datasets\\\\\"\n",
    "#model_dir_path = 'C:\\\\Users\\\\kdmen\\\\Desktop\\\\Research\\\\Repos\\\\fl-gestures\\\\models\\\\Embedding\\\\Autoencoders\\\\'\n",
    "\n",
    "# BRC Desktop\n",
    "data_path = \"D:\\\\Kai_MetaGestureClustering_24\\\\saved_datasets\\\\filtered_datasets\\\\Both_PPD\\\\\"\n",
    "full_data_path = \"D:\\\\Kai_MetaGestureClustering_24\\\\saved_datasets\\\\Filtered_Datasets\\\\\"\n",
    "embedding_data_path = \"D:\\\\Kai_MetaGestureClustering_24\\\\saved_datasets\\\\Autoencoders\\\\EMG_Only\\\\\"\n",
    "model_dir_path = 'C:\\\\Users\\\\YamagamiLab\\\\Desktop\\\\Dev\\\\fl-gestures\\\\models\\\\Embedding\\\\Autoencoders\\\\'\n",
    "\n",
    "print(\"Loading\")\n",
    "\n",
    "metadata_cols = ['Participant', 'Gesture_ID', 'Gesture_Num']\n",
    "\n",
    "both_full_train_XY_df = pd.read_pickle(data_path+'training_users_df.pkl')\n",
    "both_full_test_XY_df = pd.read_pickle(data_path+'test_users_df.pkl')\n",
    "both_full_gesture_train_labels_df = both_full_train_XY_df['Gesture_ID']\n",
    "both_full_gesture_test_labels_df = both_full_test_XY_df['Gesture_ID']\n",
    "both_full_user_train_labels_df = both_full_train_XY_df['Participant']\n",
    "both_full_user_test_labels_df = both_full_test_XY_df['Participant']\n",
    "both_full_training_u_df = both_full_train_XY_df.drop(metadata_cols, axis=1)\n",
    "both_full_test_users_df = both_full_test_XY_df.drop(metadata_cols, axis=1)\n"
   ]
  },
  {
   "cell_type": "markdown",
   "id": "24eb5962-b019-40da-9bcb-1c654e6b4d98",
   "metadata": {},
   "source": [
    "One-hot encode the gestures so they can be used as labels. Should probably also do this for participant ID to use as a different label set but I'll do it later"
   ]
  },
  {
   "cell_type": "code",
   "execution_count": 5,
   "id": "957e339c-e7f2-43fe-bd30-1cc384df33cc",
   "metadata": {},
   "outputs": [],
   "source": [
    "# Get list of all the unique gesture names\n",
    "all_train_test_gestures_df = pd.concat([full_pca40_gesture_train_labels_df, full_pca40_gesture_test_labels_df], axis=0)\n",
    "unique_gestures = all_train_test_gestures_df.unique()\n",
    "\n",
    "# Create OneHotEncoder instance\n",
    "gesture_encoder = OneHotEncoder(sparse=False)\n",
    "gesture_labels_reshaped = unique_gestures.reshape(-1, 1)\n",
    "gesture_encoded = gesture_encoder.fit_transform(gesture_labels_reshaped)"
   ]
  },
  {
   "cell_type": "code",
   "execution_count": 6,
   "id": "7c0430ab-dd10-48ee-b823-b5a91d36b3fa",
   "metadata": {},
   "outputs": [
    {
     "name": "stdout",
     "output_type": "stream",
     "text": [
      "(160000, 91)\n"
     ]
    },
    {
     "data": {
      "text/html": [
       "<div>\n",
       "<style scoped>\n",
       "    .dataframe tbody tr th:only-of-type {\n",
       "        vertical-align: middle;\n",
       "    }\n",
       "\n",
       "    .dataframe tbody tr th {\n",
       "        vertical-align: top;\n",
       "    }\n",
       "\n",
       "    .dataframe thead th {\n",
       "        text-align: right;\n",
       "    }\n",
       "</style>\n",
       "<table border=\"1\" class=\"dataframe\">\n",
       "  <thead>\n",
       "    <tr style=\"text-align: right;\">\n",
       "      <th></th>\n",
       "      <th>Participant</th>\n",
       "      <th>Gesture_ID</th>\n",
       "      <th>Gesture_Num</th>\n",
       "      <th>IMU1_ax</th>\n",
       "      <th>IMU1_ay</th>\n",
       "      <th>IMU1_az</th>\n",
       "      <th>IMU1_vx</th>\n",
       "      <th>IMU1_vy</th>\n",
       "      <th>IMU1_vz</th>\n",
       "      <th>IMU2_ax</th>\n",
       "      <th>...</th>\n",
       "      <th>EMG7</th>\n",
       "      <th>EMG8</th>\n",
       "      <th>EMG9</th>\n",
       "      <th>EMG10</th>\n",
       "      <th>EMG11</th>\n",
       "      <th>EMG12</th>\n",
       "      <th>EMG13</th>\n",
       "      <th>EMG14</th>\n",
       "      <th>EMG15</th>\n",
       "      <th>EMG16</th>\n",
       "    </tr>\n",
       "  </thead>\n",
       "  <tbody>\n",
       "    <tr>\n",
       "      <th>0</th>\n",
       "      <td>P102</td>\n",
       "      <td>pan</td>\n",
       "      <td>1</td>\n",
       "      <td>-0.551109</td>\n",
       "      <td>-0.738972</td>\n",
       "      <td>-0.985439</td>\n",
       "      <td>0.181924</td>\n",
       "      <td>0.059616</td>\n",
       "      <td>0.087024</td>\n",
       "      <td>1.055804</td>\n",
       "      <td>...</td>\n",
       "      <td>-0.276292</td>\n",
       "      <td>-0.026736</td>\n",
       "      <td>-0.873870</td>\n",
       "      <td>-1.036152</td>\n",
       "      <td>-0.580930</td>\n",
       "      <td>-0.719494</td>\n",
       "      <td>-0.502255</td>\n",
       "      <td>-1.750091</td>\n",
       "      <td>-0.127847</td>\n",
       "      <td>-0.094192</td>\n",
       "    </tr>\n",
       "    <tr>\n",
       "      <th>1</th>\n",
       "      <td>P102</td>\n",
       "      <td>pan</td>\n",
       "      <td>1</td>\n",
       "      <td>-0.571115</td>\n",
       "      <td>-0.821726</td>\n",
       "      <td>-0.975036</td>\n",
       "      <td>0.242607</td>\n",
       "      <td>0.067375</td>\n",
       "      <td>-0.024900</td>\n",
       "      <td>1.007074</td>\n",
       "      <td>...</td>\n",
       "      <td>-0.125822</td>\n",
       "      <td>0.089679</td>\n",
       "      <td>-0.816215</td>\n",
       "      <td>-2.082635</td>\n",
       "      <td>-0.006283</td>\n",
       "      <td>-0.139439</td>\n",
       "      <td>-0.367764</td>\n",
       "      <td>-0.208084</td>\n",
       "      <td>-0.111811</td>\n",
       "      <td>-0.039009</td>\n",
       "    </tr>\n",
       "    <tr>\n",
       "      <th>2</th>\n",
       "      <td>P102</td>\n",
       "      <td>pan</td>\n",
       "      <td>1</td>\n",
       "      <td>-0.509305</td>\n",
       "      <td>-0.823575</td>\n",
       "      <td>-0.947221</td>\n",
       "      <td>0.550111</td>\n",
       "      <td>0.013848</td>\n",
       "      <td>-0.485765</td>\n",
       "      <td>0.993332</td>\n",
       "      <td>...</td>\n",
       "      <td>-0.068451</td>\n",
       "      <td>0.117076</td>\n",
       "      <td>-0.668221</td>\n",
       "      <td>-3.403064</td>\n",
       "      <td>-0.526030</td>\n",
       "      <td>-0.478294</td>\n",
       "      <td>-0.300443</td>\n",
       "      <td>0.203266</td>\n",
       "      <td>0.113300</td>\n",
       "      <td>0.004728</td>\n",
       "    </tr>\n",
       "    <tr>\n",
       "      <th>3</th>\n",
       "      <td>P102</td>\n",
       "      <td>pan</td>\n",
       "      <td>1</td>\n",
       "      <td>-0.511788</td>\n",
       "      <td>-0.775810</td>\n",
       "      <td>-0.947939</td>\n",
       "      <td>0.417919</td>\n",
       "      <td>0.087222</td>\n",
       "      <td>-0.229441</td>\n",
       "      <td>1.026003</td>\n",
       "      <td>...</td>\n",
       "      <td>-0.058907</td>\n",
       "      <td>0.080977</td>\n",
       "      <td>-0.424416</td>\n",
       "      <td>-3.709413</td>\n",
       "      <td>-0.570894</td>\n",
       "      <td>-0.775155</td>\n",
       "      <td>-0.144710</td>\n",
       "      <td>-0.619539</td>\n",
       "      <td>0.146499</td>\n",
       "      <td>0.199975</td>\n",
       "    </tr>\n",
       "    <tr>\n",
       "      <th>4</th>\n",
       "      <td>P102</td>\n",
       "      <td>pan</td>\n",
       "      <td>1</td>\n",
       "      <td>-0.441369</td>\n",
       "      <td>-0.921726</td>\n",
       "      <td>-0.882652</td>\n",
       "      <td>1.254970</td>\n",
       "      <td>0.108993</td>\n",
       "      <td>-0.933639</td>\n",
       "      <td>1.001748</td>\n",
       "      <td>...</td>\n",
       "      <td>-0.003929</td>\n",
       "      <td>0.041526</td>\n",
       "      <td>-0.016530</td>\n",
       "      <td>-4.075150</td>\n",
       "      <td>-0.127710</td>\n",
       "      <td>2.682791</td>\n",
       "      <td>-0.141750</td>\n",
       "      <td>-0.208404</td>\n",
       "      <td>-0.035642</td>\n",
       "      <td>0.172662</td>\n",
       "    </tr>\n",
       "  </tbody>\n",
       "</table>\n",
       "<p>5 rows × 91 columns</p>\n",
       "</div>"
      ],
      "text/plain": [
       "  Participant Gesture_ID Gesture_Num   IMU1_ax   IMU1_ay   IMU1_az   IMU1_vx   \n",
       "0        P102        pan           1 -0.551109 -0.738972 -0.985439  0.181924  \\\n",
       "1        P102        pan           1 -0.571115 -0.821726 -0.975036  0.242607   \n",
       "2        P102        pan           1 -0.509305 -0.823575 -0.947221  0.550111   \n",
       "3        P102        pan           1 -0.511788 -0.775810 -0.947939  0.417919   \n",
       "4        P102        pan           1 -0.441369 -0.921726 -0.882652  1.254970   \n",
       "\n",
       "    IMU1_vy   IMU1_vz   IMU2_ax  ...      EMG7      EMG8      EMG9     EMG10   \n",
       "0  0.059616  0.087024  1.055804  ... -0.276292 -0.026736 -0.873870 -1.036152  \\\n",
       "1  0.067375 -0.024900  1.007074  ... -0.125822  0.089679 -0.816215 -2.082635   \n",
       "2  0.013848 -0.485765  0.993332  ... -0.068451  0.117076 -0.668221 -3.403064   \n",
       "3  0.087222 -0.229441  1.026003  ... -0.058907  0.080977 -0.424416 -3.709413   \n",
       "4  0.108993 -0.933639  1.001748  ... -0.003929  0.041526 -0.016530 -4.075150   \n",
       "\n",
       "      EMG11     EMG12     EMG13     EMG14     EMG15     EMG16  \n",
       "0 -0.580930 -0.719494 -0.502255 -1.750091 -0.127847 -0.094192  \n",
       "1 -0.006283 -0.139439 -0.367764 -0.208084 -0.111811 -0.039009  \n",
       "2 -0.526030 -0.478294 -0.300443  0.203266  0.113300  0.004728  \n",
       "3 -0.570894 -0.775155 -0.144710 -0.619539  0.146499  0.199975  \n",
       "4 -0.127710  2.682791 -0.141750 -0.208404 -0.035642  0.172662  \n",
       "\n",
       "[5 rows x 91 columns]"
      ]
     },
     "execution_count": 6,
     "metadata": {},
     "output_type": "execute_result"
    }
   ],
   "source": [
    "print(full_pca40_train_XY_df.shape)\n",
    "full_pca40_train_XY_df.head()"
   ]
  },
  {
   "cell_type": "code",
   "execution_count": 7,
   "id": "0cf654f3-3ec7-4659-9ccc-fbe11459c64c",
   "metadata": {},
   "outputs": [
    {
     "name": "stdout",
     "output_type": "stream",
     "text": [
      "(160000,)\n"
     ]
    },
    {
     "data": {
      "text/plain": [
       "0    pan\n",
       "1    pan\n",
       "2    pan\n",
       "3    pan\n",
       "4    pan\n",
       "Name: Gesture_ID, dtype: object"
      ]
     },
     "execution_count": 7,
     "metadata": {},
     "output_type": "execute_result"
    }
   ],
   "source": [
    "print(full_pca40_gesture_train_labels_df.shape)\n",
    "full_pca40_gesture_train_labels_df.head()"
   ]
  },
  {
   "cell_type": "code",
   "execution_count": 8,
   "id": "82c9c424-5a64-4e4d-9623-70f4015cdd3b",
   "metadata": {},
   "outputs": [
    {
     "name": "stdout",
     "output_type": "stream",
     "text": [
      "(160000, 88)\n"
     ]
    },
    {
     "data": {
      "text/html": [
       "<div>\n",
       "<style scoped>\n",
       "    .dataframe tbody tr th:only-of-type {\n",
       "        vertical-align: middle;\n",
       "    }\n",
       "\n",
       "    .dataframe tbody tr th {\n",
       "        vertical-align: top;\n",
       "    }\n",
       "\n",
       "    .dataframe thead th {\n",
       "        text-align: right;\n",
       "    }\n",
       "</style>\n",
       "<table border=\"1\" class=\"dataframe\">\n",
       "  <thead>\n",
       "    <tr style=\"text-align: right;\">\n",
       "      <th></th>\n",
       "      <th>IMU1_ax</th>\n",
       "      <th>IMU1_ay</th>\n",
       "      <th>IMU1_az</th>\n",
       "      <th>IMU1_vx</th>\n",
       "      <th>IMU1_vy</th>\n",
       "      <th>IMU1_vz</th>\n",
       "      <th>IMU2_ax</th>\n",
       "      <th>IMU2_ay</th>\n",
       "      <th>IMU2_az</th>\n",
       "      <th>IMU2_vx</th>\n",
       "      <th>...</th>\n",
       "      <th>EMG7</th>\n",
       "      <th>EMG8</th>\n",
       "      <th>EMG9</th>\n",
       "      <th>EMG10</th>\n",
       "      <th>EMG11</th>\n",
       "      <th>EMG12</th>\n",
       "      <th>EMG13</th>\n",
       "      <th>EMG14</th>\n",
       "      <th>EMG15</th>\n",
       "      <th>EMG16</th>\n",
       "    </tr>\n",
       "  </thead>\n",
       "  <tbody>\n",
       "    <tr>\n",
       "      <th>0</th>\n",
       "      <td>-0.551109</td>\n",
       "      <td>-0.738972</td>\n",
       "      <td>-0.985439</td>\n",
       "      <td>0.181924</td>\n",
       "      <td>0.059616</td>\n",
       "      <td>0.087024</td>\n",
       "      <td>1.055804</td>\n",
       "      <td>-0.883268</td>\n",
       "      <td>-0.327978</td>\n",
       "      <td>-0.221822</td>\n",
       "      <td>...</td>\n",
       "      <td>-0.276292</td>\n",
       "      <td>-0.026736</td>\n",
       "      <td>-0.873870</td>\n",
       "      <td>-1.036152</td>\n",
       "      <td>-0.580930</td>\n",
       "      <td>-0.719494</td>\n",
       "      <td>-0.502255</td>\n",
       "      <td>-1.750091</td>\n",
       "      <td>-0.127847</td>\n",
       "      <td>-0.094192</td>\n",
       "    </tr>\n",
       "    <tr>\n",
       "      <th>1</th>\n",
       "      <td>-0.571115</td>\n",
       "      <td>-0.821726</td>\n",
       "      <td>-0.975036</td>\n",
       "      <td>0.242607</td>\n",
       "      <td>0.067375</td>\n",
       "      <td>-0.024900</td>\n",
       "      <td>1.007074</td>\n",
       "      <td>-0.944195</td>\n",
       "      <td>-0.363602</td>\n",
       "      <td>-0.149833</td>\n",
       "      <td>...</td>\n",
       "      <td>-0.125822</td>\n",
       "      <td>0.089679</td>\n",
       "      <td>-0.816215</td>\n",
       "      <td>-2.082635</td>\n",
       "      <td>-0.006283</td>\n",
       "      <td>-0.139439</td>\n",
       "      <td>-0.367764</td>\n",
       "      <td>-0.208084</td>\n",
       "      <td>-0.111811</td>\n",
       "      <td>-0.039009</td>\n",
       "    </tr>\n",
       "    <tr>\n",
       "      <th>2</th>\n",
       "      <td>-0.509305</td>\n",
       "      <td>-0.823575</td>\n",
       "      <td>-0.947221</td>\n",
       "      <td>0.550111</td>\n",
       "      <td>0.013848</td>\n",
       "      <td>-0.485765</td>\n",
       "      <td>0.993332</td>\n",
       "      <td>-0.944029</td>\n",
       "      <td>-0.357476</td>\n",
       "      <td>-0.164447</td>\n",
       "      <td>...</td>\n",
       "      <td>-0.068451</td>\n",
       "      <td>0.117076</td>\n",
       "      <td>-0.668221</td>\n",
       "      <td>-3.403064</td>\n",
       "      <td>-0.526030</td>\n",
       "      <td>-0.478294</td>\n",
       "      <td>-0.300443</td>\n",
       "      <td>0.203266</td>\n",
       "      <td>0.113300</td>\n",
       "      <td>0.004728</td>\n",
       "    </tr>\n",
       "    <tr>\n",
       "      <th>3</th>\n",
       "      <td>-0.511788</td>\n",
       "      <td>-0.775810</td>\n",
       "      <td>-0.947939</td>\n",
       "      <td>0.417919</td>\n",
       "      <td>0.087222</td>\n",
       "      <td>-0.229441</td>\n",
       "      <td>1.026003</td>\n",
       "      <td>-0.911993</td>\n",
       "      <td>-0.335594</td>\n",
       "      <td>-0.006214</td>\n",
       "      <td>...</td>\n",
       "      <td>-0.058907</td>\n",
       "      <td>0.080977</td>\n",
       "      <td>-0.424416</td>\n",
       "      <td>-3.709413</td>\n",
       "      <td>-0.570894</td>\n",
       "      <td>-0.775155</td>\n",
       "      <td>-0.144710</td>\n",
       "      <td>-0.619539</td>\n",
       "      <td>0.146499</td>\n",
       "      <td>0.199975</td>\n",
       "    </tr>\n",
       "    <tr>\n",
       "      <th>4</th>\n",
       "      <td>-0.441369</td>\n",
       "      <td>-0.921726</td>\n",
       "      <td>-0.882652</td>\n",
       "      <td>1.254970</td>\n",
       "      <td>0.108993</td>\n",
       "      <td>-0.933639</td>\n",
       "      <td>1.001748</td>\n",
       "      <td>-0.939228</td>\n",
       "      <td>-0.357917</td>\n",
       "      <td>0.009543</td>\n",
       "      <td>...</td>\n",
       "      <td>-0.003929</td>\n",
       "      <td>0.041526</td>\n",
       "      <td>-0.016530</td>\n",
       "      <td>-4.075150</td>\n",
       "      <td>-0.127710</td>\n",
       "      <td>2.682791</td>\n",
       "      <td>-0.141750</td>\n",
       "      <td>-0.208404</td>\n",
       "      <td>-0.035642</td>\n",
       "      <td>0.172662</td>\n",
       "    </tr>\n",
       "  </tbody>\n",
       "</table>\n",
       "<p>5 rows × 88 columns</p>\n",
       "</div>"
      ],
      "text/plain": [
       "    IMU1_ax   IMU1_ay   IMU1_az   IMU1_vx   IMU1_vy   IMU1_vz   IMU2_ax   \n",
       "0 -0.551109 -0.738972 -0.985439  0.181924  0.059616  0.087024  1.055804  \\\n",
       "1 -0.571115 -0.821726 -0.975036  0.242607  0.067375 -0.024900  1.007074   \n",
       "2 -0.509305 -0.823575 -0.947221  0.550111  0.013848 -0.485765  0.993332   \n",
       "3 -0.511788 -0.775810 -0.947939  0.417919  0.087222 -0.229441  1.026003   \n",
       "4 -0.441369 -0.921726 -0.882652  1.254970  0.108993 -0.933639  1.001748   \n",
       "\n",
       "    IMU2_ay   IMU2_az   IMU2_vx  ...      EMG7      EMG8      EMG9     EMG10   \n",
       "0 -0.883268 -0.327978 -0.221822  ... -0.276292 -0.026736 -0.873870 -1.036152  \\\n",
       "1 -0.944195 -0.363602 -0.149833  ... -0.125822  0.089679 -0.816215 -2.082635   \n",
       "2 -0.944029 -0.357476 -0.164447  ... -0.068451  0.117076 -0.668221 -3.403064   \n",
       "3 -0.911993 -0.335594 -0.006214  ... -0.058907  0.080977 -0.424416 -3.709413   \n",
       "4 -0.939228 -0.357917  0.009543  ... -0.003929  0.041526 -0.016530 -4.075150   \n",
       "\n",
       "      EMG11     EMG12     EMG13     EMG14     EMG15     EMG16  \n",
       "0 -0.580930 -0.719494 -0.502255 -1.750091 -0.127847 -0.094192  \n",
       "1 -0.006283 -0.139439 -0.367764 -0.208084 -0.111811 -0.039009  \n",
       "2 -0.526030 -0.478294 -0.300443  0.203266  0.113300  0.004728  \n",
       "3 -0.570894 -0.775155 -0.144710 -0.619539  0.146499  0.199975  \n",
       "4 -0.127710  2.682791 -0.141750 -0.208404 -0.035642  0.172662  \n",
       "\n",
       "[5 rows x 88 columns]"
      ]
     },
     "execution_count": 8,
     "metadata": {},
     "output_type": "execute_result"
    }
   ],
   "source": [
    "print(full_pca40_training_u_df.shape)\n",
    "full_pca40_training_u_df.head()"
   ]
  },
  {
   "cell_type": "code",
   "execution_count": 10,
   "id": "cfc04167-5ab8-4ac3-ae19-80b8e1988242",
   "metadata": {},
   "outputs": [],
   "source": [
    "num_rows_per_gesture = 64 # From the interp\n",
    "\n",
    "# CREATE THE TRAINING SET\n",
    "num_gestures = len(full_pca40_training_u_df) // num_rows_per_gesture\n",
    "num_features = full_pca40_training_u_df.shape[1]\n",
    "X_3D_PCA40 = full_pca40_training_u_df.to_numpy().reshape(num_gestures, num_rows_per_gesture, num_features)\n",
    "X_3DTensor_PCA40 = torch.tensor(X_3D_PCA40, dtype=torch.float32)\n",
    "\n",
    "# CREATE THE TEST SET\n",
    "num_test_gestures = len(full_pca40_test_users_df) // num_rows_per_gesture\n",
    "Xtest_3DTensor_PCA40 = torch.tensor(full_pca40_test_users_df.to_numpy().reshape(num_test_gestures, num_rows_per_gesture, num_features), dtype=torch.float32)\n"
   ]
  },
  {
   "cell_type": "code",
   "execution_count": 11,
   "id": "dfaea998-3c21-4e46-b1ef-237f1fc81e0e",
   "metadata": {},
   "outputs": [
    {
     "data": {
      "text/plain": [
       "torch.Size([2500, 64, 88])"
      ]
     },
     "execution_count": 11,
     "metadata": {},
     "output_type": "execute_result"
    }
   ],
   "source": [
    "X_3DTensor_PCA40.shape"
   ]
  },
  {
   "cell_type": "code",
   "execution_count": 12,
   "id": "1c430d46-7832-4b73-b281-3d3b3512e184",
   "metadata": {},
   "outputs": [
    {
     "name": "stdout",
     "output_type": "stream",
     "text": [
      "(160000,)\n"
     ]
    },
    {
     "data": {
      "text/plain": [
       "0    pan\n",
       "1    pan\n",
       "2    pan\n",
       "3    pan\n",
       "4    pan\n",
       "Name: Gesture_ID, dtype: object"
      ]
     },
     "execution_count": 12,
     "metadata": {},
     "output_type": "execute_result"
    }
   ],
   "source": [
    "print(full_pca40_gesture_train_labels_df.shape)\n",
    "full_pca40_gesture_train_labels_df.head()"
   ]
  },
  {
   "cell_type": "code",
   "execution_count": 13,
   "id": "69570ae4-2186-4053-bfd9-be621c869353",
   "metadata": {},
   "outputs": [
    {
     "name": "stdout",
     "output_type": "stream",
     "text": [
      "(2500,)\n"
     ]
    },
    {
     "data": {
      "text/plain": [
       "0      pan\n",
       "64     pan\n",
       "128    pan\n",
       "192    pan\n",
       "256    pan\n",
       "Name: Gesture_ID, dtype: object"
      ]
     },
     "execution_count": 13,
     "metadata": {},
     "output_type": "execute_result"
    }
   ],
   "source": [
    "label_per_gesture_df = full_pca40_gesture_train_labels_df.iloc[::64]\n",
    "print(label_per_gesture_df.shape)\n",
    "label_per_gesture_df.head()"
   ]
  },
  {
   "cell_type": "code",
   "execution_count": 14,
   "id": "6095ac5a-af85-42c6-9d68-87e7872a0d3d",
   "metadata": {},
   "outputs": [
    {
     "data": {
      "text/html": [
       "<div>\n",
       "<style scoped>\n",
       "    .dataframe tbody tr th:only-of-type {\n",
       "        vertical-align: middle;\n",
       "    }\n",
       "\n",
       "    .dataframe tbody tr th {\n",
       "        vertical-align: top;\n",
       "    }\n",
       "\n",
       "    .dataframe thead th {\n",
       "        text-align: right;\n",
       "    }\n",
       "</style>\n",
       "<table border=\"1\" class=\"dataframe\">\n",
       "  <thead>\n",
       "    <tr style=\"text-align: right;\">\n",
       "      <th></th>\n",
       "      <th>Participant</th>\n",
       "      <th>Gesture_ID</th>\n",
       "      <th>Gesture_Num</th>\n",
       "    </tr>\n",
       "  </thead>\n",
       "  <tbody>\n",
       "    <tr>\n",
       "      <th>0</th>\n",
       "      <td>P102</td>\n",
       "      <td>pan</td>\n",
       "      <td>1</td>\n",
       "    </tr>\n",
       "    <tr>\n",
       "      <th>64</th>\n",
       "      <td>P102</td>\n",
       "      <td>pan</td>\n",
       "      <td>2</td>\n",
       "    </tr>\n",
       "    <tr>\n",
       "      <th>128</th>\n",
       "      <td>P102</td>\n",
       "      <td>pan</td>\n",
       "      <td>3</td>\n",
       "    </tr>\n",
       "    <tr>\n",
       "      <th>192</th>\n",
       "      <td>P102</td>\n",
       "      <td>pan</td>\n",
       "      <td>4</td>\n",
       "    </tr>\n",
       "    <tr>\n",
       "      <th>256</th>\n",
       "      <td>P102</td>\n",
       "      <td>pan</td>\n",
       "      <td>5</td>\n",
       "    </tr>\n",
       "  </tbody>\n",
       "</table>\n",
       "</div>"
      ],
      "text/plain": [
       "    Participant Gesture_ID Gesture_Num\n",
       "0          P102        pan           1\n",
       "64         P102        pan           2\n",
       "128        P102        pan           3\n",
       "192        P102        pan           4\n",
       "256        P102        pan           5"
      ]
     },
     "execution_count": 14,
     "metadata": {},
     "output_type": "execute_result"
    }
   ],
   "source": [
    "full_pca40_train_XY_df[metadata_cols].iloc[::64].head()"
   ]
  },
  {
   "cell_type": "code",
   "execution_count": 15,
   "id": "e0cec3fb-ee3a-4bde-8509-9a69f3fa02f6",
   "metadata": {},
   "outputs": [
    {
     "name": "stdout",
     "output_type": "stream",
     "text": [
      "(2500, 10)\n"
     ]
    },
    {
     "data": {
      "text/html": [
       "<div>\n",
       "<style scoped>\n",
       "    .dataframe tbody tr th:only-of-type {\n",
       "        vertical-align: middle;\n",
       "    }\n",
       "\n",
       "    .dataframe tbody tr th {\n",
       "        vertical-align: top;\n",
       "    }\n",
       "\n",
       "    .dataframe thead th {\n",
       "        text-align: right;\n",
       "    }\n",
       "</style>\n",
       "<table border=\"1\" class=\"dataframe\">\n",
       "  <thead>\n",
       "    <tr style=\"text-align: right;\">\n",
       "      <th></th>\n",
       "      <th>close</th>\n",
       "      <th>delete</th>\n",
       "      <th>duplicate</th>\n",
       "      <th>move</th>\n",
       "      <th>open</th>\n",
       "      <th>pan</th>\n",
       "      <th>rotate</th>\n",
       "      <th>select-single</th>\n",
       "      <th>zoom-in</th>\n",
       "      <th>zoom-out</th>\n",
       "    </tr>\n",
       "  </thead>\n",
       "  <tbody>\n",
       "    <tr>\n",
       "      <th>0</th>\n",
       "      <td>0.0</td>\n",
       "      <td>0.0</td>\n",
       "      <td>0.0</td>\n",
       "      <td>0.0</td>\n",
       "      <td>0.0</td>\n",
       "      <td>1.0</td>\n",
       "      <td>0.0</td>\n",
       "      <td>0.0</td>\n",
       "      <td>0.0</td>\n",
       "      <td>0.0</td>\n",
       "    </tr>\n",
       "    <tr>\n",
       "      <th>1</th>\n",
       "      <td>0.0</td>\n",
       "      <td>0.0</td>\n",
       "      <td>0.0</td>\n",
       "      <td>0.0</td>\n",
       "      <td>0.0</td>\n",
       "      <td>1.0</td>\n",
       "      <td>0.0</td>\n",
       "      <td>0.0</td>\n",
       "      <td>0.0</td>\n",
       "      <td>0.0</td>\n",
       "    </tr>\n",
       "    <tr>\n",
       "      <th>2</th>\n",
       "      <td>0.0</td>\n",
       "      <td>0.0</td>\n",
       "      <td>0.0</td>\n",
       "      <td>0.0</td>\n",
       "      <td>0.0</td>\n",
       "      <td>1.0</td>\n",
       "      <td>0.0</td>\n",
       "      <td>0.0</td>\n",
       "      <td>0.0</td>\n",
       "      <td>0.0</td>\n",
       "    </tr>\n",
       "    <tr>\n",
       "      <th>3</th>\n",
       "      <td>0.0</td>\n",
       "      <td>0.0</td>\n",
       "      <td>0.0</td>\n",
       "      <td>0.0</td>\n",
       "      <td>0.0</td>\n",
       "      <td>1.0</td>\n",
       "      <td>0.0</td>\n",
       "      <td>0.0</td>\n",
       "      <td>0.0</td>\n",
       "      <td>0.0</td>\n",
       "    </tr>\n",
       "    <tr>\n",
       "      <th>4</th>\n",
       "      <td>0.0</td>\n",
       "      <td>0.0</td>\n",
       "      <td>0.0</td>\n",
       "      <td>0.0</td>\n",
       "      <td>0.0</td>\n",
       "      <td>1.0</td>\n",
       "      <td>0.0</td>\n",
       "      <td>0.0</td>\n",
       "      <td>0.0</td>\n",
       "      <td>0.0</td>\n",
       "    </tr>\n",
       "  </tbody>\n",
       "</table>\n",
       "</div>"
      ],
      "text/plain": [
       "   close  delete  duplicate  move  open  pan  rotate  select-single  zoom-in   \n",
       "0    0.0     0.0        0.0   0.0   0.0  1.0     0.0            0.0      0.0  \\\n",
       "1    0.0     0.0        0.0   0.0   0.0  1.0     0.0            0.0      0.0   \n",
       "2    0.0     0.0        0.0   0.0   0.0  1.0     0.0            0.0      0.0   \n",
       "3    0.0     0.0        0.0   0.0   0.0  1.0     0.0            0.0      0.0   \n",
       "4    0.0     0.0        0.0   0.0   0.0  1.0     0.0            0.0      0.0   \n",
       "\n",
       "   zoom-out  \n",
       "0       0.0  \n",
       "1       0.0  \n",
       "2       0.0  \n",
       "3       0.0  \n",
       "4       0.0  "
      ]
     },
     "execution_count": 15,
     "metadata": {},
     "output_type": "execute_result"
    }
   ],
   "source": [
    "# Convert the DataFrame column to numpy array\n",
    "labels_array = label_per_gesture_df.to_numpy()\n",
    "# Create OneHotEncoder instance\n",
    "gesture_encoder = OneHotEncoder(sparse=False)\n",
    "# Reshape the labels array to fit the OneHotEncoder input shape\n",
    "labels_reshaped = labels_array.reshape(-1, 1)\n",
    "# Encode the labels\n",
    "labels_encoded = gesture_encoder.fit_transform(labels_reshaped)\n",
    "# Convert the encoded labels back to DataFrame\n",
    "encoded_labels_df = pd.DataFrame(labels_encoded, columns=gesture_encoder.categories_[0])\n",
    "print(encoded_labels_df.shape)\n",
    "encoded_labels_df.head()"
   ]
  },
  {
   "cell_type": "code",
   "execution_count": 16,
   "id": "5b8e5dd3-cbb2-44b9-a307-79ea334d8943",
   "metadata": {},
   "outputs": [],
   "source": [
    "label_per_test_gesture_df = full_pca40_gesture_test_labels_df.iloc[::64]\n",
    "gesture_encoder = OneHotEncoder(sparse=False)\n",
    "test_labels_encoded = gesture_encoder.fit_transform(label_per_test_gesture_df.to_numpy().reshape(-1, 1))\n",
    "encoded_test_labels_df = pd.DataFrame(test_labels_encoded, columns=gesture_encoder.categories_[0])"
   ]
  },
  {
   "cell_type": "code",
   "execution_count": 17,
   "id": "10f08974-d84b-4e8d-bd27-f3f1a495b834",
   "metadata": {},
   "outputs": [
    {
     "name": "stdout",
     "output_type": "stream",
     "text": [
      "2500\n",
      "700\n"
     ]
    }
   ],
   "source": [
    "y_integer = np.argmax(encoded_labels_df, axis=1)\n",
    "print(len(y_integer))\n",
    "\n",
    "ytest_integer = np.argmax(encoded_test_labels_df, axis=1)\n",
    "print(len(ytest_integer))"
   ]
  },
  {
   "cell_type": "markdown",
   "id": "9fa9714b-0f26-40f3-8964-c274a6cedb2f",
   "metadata": {
    "jp-MarkdownHeadingCollapsed": true
   },
   "source": [
    "Clustering in Input Space"
   ]
  },
  {
   "cell_type": "code",
   "execution_count": 18,
   "id": "4db40548-2e2b-491d-bd56-bff2fa7e7303",
   "metadata": {},
   "outputs": [
    {
     "name": "stdout",
     "output_type": "stream",
     "text": [
      "X_2Dinput_PCA40 shape: (2500, 5632)\n",
      "Xtest_2Dinput_PCA40 shape: (700, 5632)\n"
     ]
    }
   ],
   "source": [
    "X_2Dinput_PCA40 = X_3DTensor_PCA40.reshape(X_3DTensor_PCA40.shape[0], -1).detach().numpy()\n",
    "Xtest_2Dinput_PCA40 = Xtest_3DTensor_PCA40.reshape(Xtest_3DTensor_PCA40.shape[0], -1).detach().numpy()\n",
    "\n",
    "print(f\"X_2Dinput_PCA40 shape: {X_2Dinput_PCA40.shape}\")\n",
    "print(f\"Xtest_2Dinput_PCA40 shape: {Xtest_2Dinput_PCA40.shape}\")"
   ]
  },
  {
   "cell_type": "markdown",
   "id": "d11e47ac-dee2-4dfc-bf9b-ce7e24f431f1",
   "metadata": {},
   "source": [
    "## KNN\n",
    "Training knn, just using the closest neighbor (k=1)"
   ]
  },
  {
   "cell_type": "code",
   "execution_count": 19,
   "id": "81250bac-b073-47c5-9bdf-412fd1f91d90",
   "metadata": {},
   "outputs": [
    {
     "name": "stdout",
     "output_type": "stream",
     "text": [
      "Accuracy: 23.00%\n"
     ]
    }
   ],
   "source": [
    "# Define and train the KNN classifier\n",
    "knn1 = KNeighborsClassifier(n_neighbors=1)\n",
    "knn1.fit(X_2Dinput_PCA40, encoded_labels_df)\n",
    "\n",
    "# Predict on the test data\n",
    "y_pred = knn1.predict(Xtest_2Dinput_PCA40)\n",
    "\n",
    "# Calculate accuracy\n",
    "accuracy = accuracy_score(encoded_test_labels_df, y_pred)\n",
    "print(f'Accuracy: {accuracy*100:.2f}%')"
   ]
  },
  {
   "cell_type": "markdown",
   "id": "d40782ed-ea36-4e23-9bca-e6f96c8c7853",
   "metadata": {},
   "source": [
    "Training knn, k=10"
   ]
  },
  {
   "cell_type": "code",
   "execution_count": 20,
   "id": "07f54ba9-dae2-4f54-a35d-df0a7b5fed46",
   "metadata": {},
   "outputs": [
    {
     "name": "stdout",
     "output_type": "stream",
     "text": [
      "Accuracy: 11.86%\n"
     ]
    }
   ],
   "source": [
    "# Define and train the KNN classifier\n",
    "knn10 = KNeighborsClassifier(n_neighbors=10)\n",
    "knn10.fit(X_2Dinput_PCA40, encoded_labels_df)\n",
    "\n",
    "# Predict on the test data\n",
    "y_pred = knn10.predict(Xtest_2Dinput_PCA40)\n",
    "\n",
    "# Calculate accuracy\n",
    "accuracy = accuracy_score(encoded_test_labels_df, y_pred)\n",
    "print(f'Accuracy: {accuracy*100:.2f}%')"
   ]
  },
  {
   "cell_type": "markdown",
   "id": "f4fb10dd-5262-4dde-925f-66316136cfda",
   "metadata": {},
   "source": [
    "Trying but no longer one-hot encoded"
   ]
  },
  {
   "cell_type": "markdown",
   "id": "c1d51948-9051-4a12-a60a-8447f4d648d3",
   "metadata": {},
   "source": [
    "k=1"
   ]
  },
  {
   "cell_type": "code",
   "execution_count": 21,
   "id": "eade4e36-c33a-4bab-b98c-d508041ebbd9",
   "metadata": {},
   "outputs": [
    {
     "name": "stdout",
     "output_type": "stream",
     "text": [
      "Accuracy: 23.00%\n"
     ]
    }
   ],
   "source": [
    "# Define and train the KNN classifier\n",
    "knn1 = KNeighborsClassifier(n_neighbors=1)\n",
    "knn1.fit(X_2Dinput_PCA40, y_integer)\n",
    "\n",
    "# Predict on the test data\n",
    "y_pred = knn1.predict(Xtest_2Dinput_PCA40)\n",
    "\n",
    "# Calculate accuracy\n",
    "accuracy = accuracy_score(ytest_integer, y_pred)\n",
    "print(f'Accuracy: {accuracy*100:.2f}%')"
   ]
  },
  {
   "cell_type": "markdown",
   "id": "053fa4aa-a2e6-4bb0-9edc-d05f036c4f45",
   "metadata": {},
   "source": [
    "k=10"
   ]
  },
  {
   "cell_type": "code",
   "execution_count": 22,
   "id": "924e4725-6faf-400e-a08e-3ede2ba65240",
   "metadata": {},
   "outputs": [
    {
     "name": "stdout",
     "output_type": "stream",
     "text": [
      "Accuracy: 21.00%\n"
     ]
    }
   ],
   "source": [
    "# Define and train the KNN classifier\n",
    "knn10 = KNeighborsClassifier(n_neighbors=10)\n",
    "knn10.fit(X_2Dinput_PCA40, y_integer)\n",
    "\n",
    "# Predict on the test data\n",
    "y_pred = knn10.predict(Xtest_2Dinput_PCA40)\n",
    "\n",
    "# Calculate accuracy\n",
    "accuracy = accuracy_score(ytest_integer, y_pred)\n",
    "print(f'Accuracy: {accuracy*100:.2f}%')"
   ]
  },
  {
   "cell_type": "markdown",
   "id": "0d90917e-8670-4826-b6d9-7e20da347875",
   "metadata": {},
   "source": [
    "## LSTM"
   ]
  },
  {
   "cell_type": "code",
   "execution_count": 23,
   "id": "d4999404-a237-4e99-b801-d2f91a7164bf",
   "metadata": {},
   "outputs": [],
   "source": [
    "batch_size = 32\n",
    "\n",
    "training_dataset = GestureDatasetClustering(X_3DTensor_PCA40, y_integer)\n",
    "nn_train_loader = DataLoader(training_dataset, batch_size=batch_size, shuffle=True, drop_last=True)\n",
    "\n",
    "testing_dataset = GestureDatasetClustering(Xtest_3DTensor_PCA40, ytest_integer)\n",
    "nn_test_loader = DataLoader(testing_dataset, batch_size=batch_size, shuffle=False, drop_last=True)"
   ]
  },
  {
   "cell_type": "code",
   "execution_count": 24,
   "id": "ebb50706-0aab-486e-9ea1-f09214ec9072",
   "metadata": {},
   "outputs": [
    {
     "name": "stdout",
     "output_type": "stream",
     "text": [
      "GestureLSTMClassifier_Hidden(\n",
      "  (lstm): LSTM(88, 128, num_layers=2, batch_first=True)\n",
      "  (fc): Linear(in_features=128, out_features=10, bias=True)\n",
      ")\n"
     ]
    }
   ],
   "source": [
    "# Model parameters\n",
    "input_size = X_3DTensor_PCA40.shape[-1]\n",
    "hidden_size = 128  # Number of features in the hidden state\n",
    "num_layers = 2  # Number of recurrent layers\n",
    "num_classes = len(unique_gestures)\n",
    "num_epochs = 15\n",
    "lr = 0.001\n",
    "\n",
    "# Loss and optimizer\n",
    "model = GestureLSTMClassifier_Hidden(input_size, hidden_size, num_layers, num_classes)\n",
    "\n",
    "print(model)"
   ]
  },
  {
   "cell_type": "code",
   "execution_count": 25,
   "id": "afba2f7f-b683-434b-b248-27eb40439ec9",
   "metadata": {},
   "outputs": [
    {
     "name": "stdout",
     "output_type": "stream",
     "text": [
      "Starting training!\n",
      "Epoch [1/15], Train Loss: 2.1570, Train Accuracy: 20.59%, Val Loss: 2.3882, Val Accuracy: 18.01%\n",
      "Epoch [2/15], Train Loss: 1.5498, Train Accuracy: 47.00%, Val Loss: 2.6883, Val Accuracy: 22.02%\n",
      "Epoch [3/15], Train Loss: 1.0424, Train Accuracy: 65.42%, Val Loss: 2.8646, Val Accuracy: 22.02%\n",
      "Epoch [4/15], Train Loss: 0.7344, Train Accuracy: 75.08%, Val Loss: 3.2077, Val Accuracy: 19.49%\n",
      "Epoch [5/15], Train Loss: 0.5264, Train Accuracy: 82.49%, Val Loss: 3.4409, Val Accuracy: 20.54%\n",
      "Epoch [6/15], Train Loss: 0.3594, Train Accuracy: 88.38%, Val Loss: 3.7487, Val Accuracy: 20.68%\n",
      "Epoch [7/15], Train Loss: 0.2279, Train Accuracy: 92.67%, Val Loss: 3.9041, Val Accuracy: 23.96%\n",
      "Epoch [8/15], Train Loss: 0.1993, Train Accuracy: 93.83%, Val Loss: 3.9750, Val Accuracy: 23.36%\n",
      "Epoch [9/15], Train Loss: 0.1846, Train Accuracy: 94.23%, Val Loss: 4.0910, Val Accuracy: 22.62%\n",
      "Epoch [10/15], Train Loss: 0.1537, Train Accuracy: 95.59%, Val Loss: 4.2403, Val Accuracy: 19.49%\n",
      "Epoch [11/15], Train Loss: 0.1318, Train Accuracy: 95.51%, Val Loss: 4.3870, Val Accuracy: 21.88%\n",
      "Epoch [12/15], Train Loss: 0.0972, Train Accuracy: 97.28%, Val Loss: 4.6553, Val Accuracy: 18.75%\n",
      "Epoch [13/15], Train Loss: 0.2679, Train Accuracy: 92.63%, Val Loss: 4.0663, Val Accuracy: 22.77%\n",
      "Epoch [14/15], Train Loss: 0.1103, Train Accuracy: 97.16%, Val Loss: 4.2186, Val Accuracy: 22.77%\n",
      "Epoch [15/15], Train Loss: 0.1255, Train Accuracy: 96.75%, Val Loss: 4.6266, Val Accuracy: 20.98%\n",
      "Training completed in 1283.7760381698608\n"
     ]
    }
   ],
   "source": [
    "model_rawEMG, cls_report_rawEMG, labels_lst_rawEMG = train_LSTM_gesture_classifier(model, nn_train_loader, nn_test_loader, lr=lr, num_epochs=num_epochs, batch_size=32, use_hidden=True)"
   ]
  },
  {
   "cell_type": "markdown",
   "id": "8ddd5d64-bbfc-4c8d-861e-b536e2235555",
   "metadata": {},
   "source": [
    "# EMG Only"
   ]
  },
  {
   "cell_type": "code",
   "execution_count": 26,
   "id": "c627b341-e7c2-43fb-b2a0-e830a8037df1",
   "metadata": {},
   "outputs": [
    {
     "name": "stdout",
     "output_type": "stream",
     "text": [
      "Loading\n"
     ]
    },
    {
     "ename": "FileNotFoundError",
     "evalue": "[Errno 2] No such file or directory: 'D:\\\\Kai_MetaGestureClustering_24\\\\saved_datasets\\\\EMG_PPD\\\\training_users_df.pkl'",
     "output_type": "error",
     "traceback": [
      "\u001b[1;31m---------------------------------------------------------------------------\u001b[0m",
      "\u001b[1;31mFileNotFoundError\u001b[0m                         Traceback (most recent call last)",
      "Cell \u001b[1;32mIn[26], line 16\u001b[0m\n\u001b[0;32m     12\u001b[0m \u001b[38;5;28mprint\u001b[39m(\u001b[38;5;124m\"\u001b[39m\u001b[38;5;124mLoading\u001b[39m\u001b[38;5;124m\"\u001b[39m)\n\u001b[0;32m     14\u001b[0m metadata_cols \u001b[38;5;241m=\u001b[39m [\u001b[38;5;124m'\u001b[39m\u001b[38;5;124mParticipant\u001b[39m\u001b[38;5;124m'\u001b[39m, \u001b[38;5;124m'\u001b[39m\u001b[38;5;124mGesture_ID\u001b[39m\u001b[38;5;124m'\u001b[39m, \u001b[38;5;124m'\u001b[39m\u001b[38;5;124mGesture_Num\u001b[39m\u001b[38;5;124m'\u001b[39m]\n\u001b[1;32m---> 16\u001b[0m full_pca40_train_XY_df \u001b[38;5;241m=\u001b[39m \u001b[43mpd\u001b[49m\u001b[38;5;241;43m.\u001b[39;49m\u001b[43mread_pickle\u001b[49m\u001b[43m(\u001b[49m\u001b[43mdata_path\u001b[49m\u001b[38;5;241;43m+\u001b[39;49m\u001b[38;5;124;43m'\u001b[39;49m\u001b[38;5;124;43mtraining_users_df.pkl\u001b[39;49m\u001b[38;5;124;43m'\u001b[39;49m\u001b[43m)\u001b[49m\n\u001b[0;32m     17\u001b[0m full_pca40_test_XY_df \u001b[38;5;241m=\u001b[39m pd\u001b[38;5;241m.\u001b[39mread_pickle(data_path\u001b[38;5;241m+\u001b[39m\u001b[38;5;124m'\u001b[39m\u001b[38;5;124mtest_users_df.pkl\u001b[39m\u001b[38;5;124m'\u001b[39m)\n\u001b[0;32m     18\u001b[0m full_pca40_gesture_train_labels_df \u001b[38;5;241m=\u001b[39m full_pca40_train_XY_df[\u001b[38;5;124m'\u001b[39m\u001b[38;5;124mGesture_ID\u001b[39m\u001b[38;5;124m'\u001b[39m]\n",
      "File \u001b[1;32m~\\anaconda3\\envs\\fl_torch_sum24\\lib\\site-packages\\pandas\\io\\pickle.py:179\u001b[0m, in \u001b[0;36mread_pickle\u001b[1;34m(filepath_or_buffer, compression, storage_options)\u001b[0m\n\u001b[0;32m    115\u001b[0m \u001b[38;5;250m\u001b[39m\u001b[38;5;124;03m\"\"\"\u001b[39;00m\n\u001b[0;32m    116\u001b[0m \u001b[38;5;124;03mLoad pickled pandas object (or any object) from file.\u001b[39;00m\n\u001b[0;32m    117\u001b[0m \n\u001b[1;32m   (...)\u001b[0m\n\u001b[0;32m    176\u001b[0m \u001b[38;5;124;03m4    4    9\u001b[39;00m\n\u001b[0;32m    177\u001b[0m \u001b[38;5;124;03m\"\"\"\u001b[39;00m\n\u001b[0;32m    178\u001b[0m excs_to_catch \u001b[38;5;241m=\u001b[39m (\u001b[38;5;167;01mAttributeError\u001b[39;00m, \u001b[38;5;167;01mImportError\u001b[39;00m, \u001b[38;5;167;01mModuleNotFoundError\u001b[39;00m, \u001b[38;5;167;01mTypeError\u001b[39;00m)\n\u001b[1;32m--> 179\u001b[0m \u001b[38;5;28;01mwith\u001b[39;00m \u001b[43mget_handle\u001b[49m\u001b[43m(\u001b[49m\n\u001b[0;32m    180\u001b[0m \u001b[43m    \u001b[49m\u001b[43mfilepath_or_buffer\u001b[49m\u001b[43m,\u001b[49m\n\u001b[0;32m    181\u001b[0m \u001b[43m    \u001b[49m\u001b[38;5;124;43m\"\u001b[39;49m\u001b[38;5;124;43mrb\u001b[39;49m\u001b[38;5;124;43m\"\u001b[39;49m\u001b[43m,\u001b[49m\n\u001b[0;32m    182\u001b[0m \u001b[43m    \u001b[49m\u001b[43mcompression\u001b[49m\u001b[38;5;241;43m=\u001b[39;49m\u001b[43mcompression\u001b[49m\u001b[43m,\u001b[49m\n\u001b[0;32m    183\u001b[0m \u001b[43m    \u001b[49m\u001b[43mis_text\u001b[49m\u001b[38;5;241;43m=\u001b[39;49m\u001b[38;5;28;43;01mFalse\u001b[39;49;00m\u001b[43m,\u001b[49m\n\u001b[0;32m    184\u001b[0m \u001b[43m    \u001b[49m\u001b[43mstorage_options\u001b[49m\u001b[38;5;241;43m=\u001b[39;49m\u001b[43mstorage_options\u001b[49m\u001b[43m,\u001b[49m\n\u001b[0;32m    185\u001b[0m \u001b[43m\u001b[49m\u001b[43m)\u001b[49m \u001b[38;5;28;01mas\u001b[39;00m handles:\n\u001b[0;32m    186\u001b[0m     \u001b[38;5;66;03m# 1) try standard library Pickle\u001b[39;00m\n\u001b[0;32m    187\u001b[0m     \u001b[38;5;66;03m# 2) try pickle_compat (older pandas version) to handle subclass changes\u001b[39;00m\n\u001b[0;32m    188\u001b[0m     \u001b[38;5;66;03m# 3) try pickle_compat with latin-1 encoding upon a UnicodeDecodeError\u001b[39;00m\n\u001b[0;32m    190\u001b[0m     \u001b[38;5;28;01mtry\u001b[39;00m:\n\u001b[0;32m    191\u001b[0m         \u001b[38;5;66;03m# TypeError for Cython complaints about object.__new__ vs Tick.__new__\u001b[39;00m\n\u001b[0;32m    192\u001b[0m         \u001b[38;5;28;01mtry\u001b[39;00m:\n",
      "File \u001b[1;32m~\\anaconda3\\envs\\fl_torch_sum24\\lib\\site-packages\\pandas\\io\\common.py:868\u001b[0m, in \u001b[0;36mget_handle\u001b[1;34m(path_or_buf, mode, encoding, compression, memory_map, is_text, errors, storage_options)\u001b[0m\n\u001b[0;32m    859\u001b[0m         handle \u001b[38;5;241m=\u001b[39m \u001b[38;5;28mopen\u001b[39m(\n\u001b[0;32m    860\u001b[0m             handle,\n\u001b[0;32m    861\u001b[0m             ioargs\u001b[38;5;241m.\u001b[39mmode,\n\u001b[1;32m   (...)\u001b[0m\n\u001b[0;32m    864\u001b[0m             newline\u001b[38;5;241m=\u001b[39m\u001b[38;5;124m\"\u001b[39m\u001b[38;5;124m\"\u001b[39m,\n\u001b[0;32m    865\u001b[0m         )\n\u001b[0;32m    866\u001b[0m     \u001b[38;5;28;01melse\u001b[39;00m:\n\u001b[0;32m    867\u001b[0m         \u001b[38;5;66;03m# Binary mode\u001b[39;00m\n\u001b[1;32m--> 868\u001b[0m         handle \u001b[38;5;241m=\u001b[39m \u001b[38;5;28;43mopen\u001b[39;49m\u001b[43m(\u001b[49m\u001b[43mhandle\u001b[49m\u001b[43m,\u001b[49m\u001b[43m \u001b[49m\u001b[43mioargs\u001b[49m\u001b[38;5;241;43m.\u001b[39;49m\u001b[43mmode\u001b[49m\u001b[43m)\u001b[49m\n\u001b[0;32m    869\u001b[0m     handles\u001b[38;5;241m.\u001b[39mappend(handle)\n\u001b[0;32m    871\u001b[0m \u001b[38;5;66;03m# Convert BytesIO or file objects passed with an encoding\u001b[39;00m\n",
      "\u001b[1;31mFileNotFoundError\u001b[0m: [Errno 2] No such file or directory: 'D:\\\\Kai_MetaGestureClustering_24\\\\saved_datasets\\\\EMG_PPD\\\\training_users_df.pkl'"
     ]
    }
   ],
   "source": [
    "# Kai's laptop\n",
    "#data_path = \"C:\\\\Users\\\\kdmen\\\\Desktop\\\\Research\\\\Data\\\\$M\\\\PCA_40D\\\\\"\n",
    "#data_path = \"C:\\\\Users\\\\kdmen\\\\Desktop\\\\Research\\\\Data\\\\$M\\\\Filtered_Datasets\\\\\"\n",
    "#model_dir_path = 'C:\\\\Users\\\\kdmen\\\\Desktop\\\\Research\\\\Repos\\\\fl-gestures\\\\models\\\\Embedding\\\\Autoencoders\\\\'\n",
    "\n",
    "# BRC Desktop\n",
    "data_path = \"D:\\\\Kai_MetaGestureClustering_24\\\\saved_datasets\\\\EMG_PPD\\\\\"\n",
    "full_data_path = \"D:\\\\Kai_MetaGestureClustering_24\\\\saved_datasets\\\\Filtered_Datasets\\\\\"\n",
    "embedding_data_path = \"D:\\\\Kai_MetaGestureClustering_24\\\\saved_datasets\\\\Autoencoders\\\\EMG_Only\\\\\"\n",
    "model_dir_path = 'C:\\\\Users\\\\YamagamiLab\\\\Desktop\\\\Dev\\\\fl-gestures\\\\models\\\\Embedding\\\\Autoencoders\\\\'\n",
    "\n",
    "print(\"Loading\")\n",
    "\n",
    "metadata_cols = ['Participant', 'Gesture_ID', 'Gesture_Num']\n",
    "\n",
    "emg_full_train_XY_df = pd.read_pickle(data_path+'training_users_df.pkl')\n",
    "emg_full_test_XY_df = pd.read_pickle(data_path+'test_users_df.pkl')\n",
    "emg_full_gesture_train_labels_df = emg_full_train_XY_df['Gesture_ID']\n",
    "emg_full_gesture_test_labels_df = emg_full_test_XY_df['Gesture_ID']\n",
    "emg_full_user_train_labels_df = emg_full_train_XY_df['Participant']\n",
    "emg_full_user_test_labels_df = emg_full_test_XY_df['Participant']\n",
    "emg_full_training_u_df = emg_full_train_XY_df.drop(metadata_cols, axis=1)\n",
    "emg_full_test_users_df = emg_full_test_XY_df.drop(metadata_cols, axis=1)\n"
   ]
  },
  {
   "cell_type": "code",
   "execution_count": null,
   "id": "790e694f-64fa-4c04-9cf2-d18e944f1681",
   "metadata": {},
   "outputs": [],
   "source": [
    "# Get list of all the unique gesture names\n",
    "all_train_test_gestures_df = pd.concat([full_pca40_gesture_train_labels_df, full_pca40_gesture_test_labels_df], axis=0)\n",
    "unique_gestures = all_train_test_gestures_df.unique()\n",
    "\n",
    "# Create OneHotEncoder instance\n",
    "gesture_encoder = OneHotEncoder(sparse=False)\n",
    "gesture_labels_reshaped = unique_gestures.reshape(-1, 1)\n",
    "gesture_encoded = gesture_encoder.fit_transform(gesture_labels_reshaped)"
   ]
  },
  {
   "cell_type": "code",
   "execution_count": null,
   "id": "521379b8-d678-4856-befd-ababbeac2093",
   "metadata": {},
   "outputs": [],
   "source": [
    "# CREATE THE TRAINING SET\n",
    "num_rows_per_gesture = 64 # From the interp\n",
    "num_gestures = len(full_pca40_training_u_df) // num_rows_per_gesture\n",
    "num_features = full_pca40_training_u_df.shape[1]\n",
    "\n",
    "# Ensure the data can be evenly divided into gestures\n",
    "assert len(full_pca40_training_u_df) % num_rows_per_gesture == 0, \"The total number of rows is not a multiple of the number of rows per gesture.\"\n",
    "\n",
    "# Reshape into (batch_dim, time_step, n_features) AKA (n_gestures, n_rows_per_gesture, n_columns)\n",
    "X_3D_PCA40 = full_pca40_training_u_df.to_numpy().reshape(num_gestures, num_rows_per_gesture, num_features)\n",
    "#flattened_PCA = PCA_np.reshape(num_gestures, -1)\n",
    "\n",
    "# Convert to PyTorch tensor\n",
    "X_3DTensor_PCA40 = torch.tensor(X_3D_PCA40, dtype=torch.float32)\n",
    "\n",
    "#################################################\n",
    "\n",
    "# CREATE THE TEST SET\n",
    "num_test_gestures = len(full_pca40_test_users_df) // num_rows_per_gesture\n",
    "# Ensure the data can be evenly divided into gestures\n",
    "assert len(full_pca40_test_users_df) % num_rows_per_gesture == 0, \"The total number of rows is not a multiple of the number of rows per gesture.\"\n",
    "\n",
    "# Reshape into (batch_dim, time_step, n_features) AKA (n_gestures, n_rows_per_gesture, n_columns) and convert to torch tensor\n",
    "## Theres probably an easier way to just create it as a torch tensor lol\n",
    "Xtest_3DTensor_PCA40 = torch.tensor(full_pca40_test_users_df.to_numpy().reshape(num_test_gestures, num_rows_per_gesture, num_features), dtype=torch.float32)\n"
   ]
  },
  {
   "cell_type": "code",
   "execution_count": null,
   "id": "10ceec31-cbc8-4fdf-babe-703716cd811e",
   "metadata": {},
   "outputs": [],
   "source": [
    "label_per_gesture_df = full_pca40_gesture_train_labels_df.iloc[::64]\n",
    "print(label_per_gesture_df.shape)\n",
    "label_per_gesture_df.head()"
   ]
  },
  {
   "cell_type": "code",
   "execution_count": null,
   "id": "a7ae3bf9-890d-480d-a23f-6778865b09ae",
   "metadata": {},
   "outputs": [],
   "source": [
    "# Convert the DataFrame column to numpy array\n",
    "labels_array = label_per_gesture_df.to_numpy()\n",
    "# Create OneHotEncoder instance\n",
    "gesture_encoder = OneHotEncoder(sparse=False)\n",
    "# Reshape the labels array to fit the OneHotEncoder input shape\n",
    "labels_reshaped = labels_array.reshape(-1, 1)\n",
    "# Encode the labels\n",
    "labels_encoded = gesture_encoder.fit_transform(labels_reshaped)\n",
    "# Convert the encoded labels back to DataFrame\n",
    "encoded_labels_df = pd.DataFrame(labels_encoded, columns=gesture_encoder.categories_[0])\n",
    "print(encoded_labels_df.shape)\n",
    "encoded_labels_df.head()"
   ]
  },
  {
   "cell_type": "code",
   "execution_count": null,
   "id": "2d56befe-3ace-40a1-96d8-f7a130d95e00",
   "metadata": {},
   "outputs": [],
   "source": [
    "label_per_test_gesture_df = full_pca40_gesture_test_labels_df.iloc[::64]\n",
    "gesture_encoder = OneHotEncoder(sparse=False)\n",
    "test_labels_encoded = gesture_encoder.fit_transform(label_per_test_gesture_df.to_numpy().reshape(-1, 1))\n",
    "encoded_test_labels_df = pd.DataFrame(test_labels_encoded, columns=gesture_encoder.categories_[0])"
   ]
  },
  {
   "cell_type": "code",
   "execution_count": null,
   "id": "7d839fa4-0d1e-4d9c-93ac-553ea7e7c455",
   "metadata": {},
   "outputs": [],
   "source": [
    "y_integer = np.argmax(encoded_labels_df, axis=1)\n",
    "print(len(y_integer))\n",
    "\n",
    "ytest_integer = np.argmax(encoded_test_labels_df, axis=1)\n",
    "print(len(ytest_integer))"
   ]
  },
  {
   "cell_type": "code",
   "execution_count": null,
   "id": "0d7998e0-e999-4a12-a44a-8e45b928574c",
   "metadata": {},
   "outputs": [],
   "source": [
    "X_2Dinput_PCA40 = X_3DTensor_PCA40.reshape(X_3DTensor_PCA40.shape[0], -1).detach().numpy()\n",
    "Xtest_2Dinput_PCA40 = Xtest_3DTensor_PCA40.reshape(Xtest_3DTensor_PCA40.shape[0], -1).detach().numpy()\n",
    "\n",
    "print(f\"X_2Dinput_PCA40 shape: {X_2Dinput_PCA40.shape}\")\n",
    "print(f\"Xtest_2Dinput_PCA40 shape: {Xtest_2Dinput_PCA40.shape}\")"
   ]
  },
  {
   "cell_type": "code",
   "execution_count": null,
   "id": "85f3dd74-f42a-492f-82b9-252d2efb5ce4",
   "metadata": {},
   "outputs": [],
   "source": [
    "# Define and train the KNN classifier\n",
    "knn1 = KNeighborsClassifier(n_neighbors=1)\n",
    "knn1.fit(X_2Dinput_PCA40, encoded_labels_df)\n",
    "\n",
    "# Predict on the test data\n",
    "y_pred = knn1.predict(Xtest_2Dinput_PCA40)\n",
    "\n",
    "# Calculate accuracy\n",
    "accuracy = accuracy_score(encoded_test_labels_df, y_pred)\n",
    "print(f'Accuracy: {accuracy*100:.2f}%')"
   ]
  },
  {
   "cell_type": "code",
   "execution_count": null,
   "id": "32af3f88-d53d-44b2-a60b-76f952bab966",
   "metadata": {},
   "outputs": [],
   "source": [
    "# Define and train the KNN classifier\n",
    "knn10 = KNeighborsClassifier(n_neighbors=10)\n",
    "knn10.fit(X_2Dinput_PCA40, encoded_labels_df)\n",
    "\n",
    "# Predict on the test data\n",
    "y_pred = knn10.predict(Xtest_2Dinput_PCA40)\n",
    "\n",
    "# Calculate accuracy\n",
    "accuracy = accuracy_score(encoded_test_labels_df, y_pred)\n",
    "print(f'Accuracy: {accuracy*100:.2f}%')"
   ]
  },
  {
   "cell_type": "code",
   "execution_count": null,
   "id": "0ea84aea-9ebd-4cc9-9860-20b1d2099c8c",
   "metadata": {},
   "outputs": [],
   "source": [
    "# Define and train the KNN classifier\n",
    "knn1 = KNeighborsClassifier(n_neighbors=1)\n",
    "knn1.fit(X_2Dinput_PCA40, y_integer)\n",
    "\n",
    "# Predict on the test data\n",
    "y_pred = knn1.predict(Xtest_2Dinput_PCA40)\n",
    "\n",
    "# Calculate accuracy\n",
    "accuracy = accuracy_score(ytest_integer, y_pred)\n",
    "print(f'Accuracy: {accuracy*100:.2f}%')"
   ]
  },
  {
   "cell_type": "code",
   "execution_count": null,
   "id": "e560c1a7-e3a8-4576-8890-338159bb4681",
   "metadata": {},
   "outputs": [],
   "source": [
    "# Define and train the KNN classifier\n",
    "knn10 = KNeighborsClassifier(n_neighbors=10)\n",
    "knn10.fit(X_2Dinput_PCA40, y_integer)\n",
    "\n",
    "# Predict on the test data\n",
    "y_pred = knn10.predict(Xtest_2Dinput_PCA40)\n",
    "\n",
    "# Calculate accuracy\n",
    "accuracy = accuracy_score(ytest_integer, y_pred)\n",
    "print(f'Accuracy: {accuracy*100:.2f}%')"
   ]
  },
  {
   "cell_type": "code",
   "execution_count": null,
   "id": "c9d3b2f6-11b7-445f-b400-5ee145e052f4",
   "metadata": {},
   "outputs": [],
   "source": [
    "batch_size = 32\n",
    "\n",
    "training_dataset = GestureDatasetClustering(X_3DTensor_PCA40, y_integer)\n",
    "nn_train_loader = DataLoader(training_dataset, batch_size=batch_size, shuffle=True, drop_last=True)\n",
    "\n",
    "testing_dataset = GestureDatasetClustering(Xtest_3DTensor_PCA40, ytest_integer)\n",
    "nn_test_loader = DataLoader(testing_dataset, batch_size=batch_size, shuffle=False, drop_last=True)"
   ]
  },
  {
   "cell_type": "code",
   "execution_count": null,
   "id": "21b544aa-f567-41c0-87cc-ffcc78e742f6",
   "metadata": {},
   "outputs": [],
   "source": [
    "# Model parameters\n",
    "input_size = X_3DTensor_PCA40.shape[-1]\n",
    "hidden_size = 128  # Number of features in the hidden state\n",
    "num_layers = 2  # Number of recurrent layers\n",
    "num_classes = len(unique_gestures)\n",
    "num_epochs = 15\n",
    "lr = 0.001\n",
    "\n",
    "# Loss and optimizer\n",
    "model = GestureLSTMClassifier_Hidden(input_size, hidden_size, num_layers, num_classes)\n",
    "\n",
    "print(model)"
   ]
  },
  {
   "cell_type": "code",
   "execution_count": null,
   "id": "6535a715-1791-49dd-9573-3ac86d8d3907",
   "metadata": {},
   "outputs": [],
   "source": [
    "model_rawEMG, cls_report_rawEMG, labels_lst_rawEMG = train_LSTM_gesture_classifier(model, nn_train_loader, nn_test_loader, lr=lr, num_epochs=num_epochs, batch_size=32, use_hidden=True)"
   ]
  },
  {
   "cell_type": "code",
   "execution_count": null,
   "id": "5138ca33-dd72-4494-a83c-63acff985b9d",
   "metadata": {},
   "outputs": [],
   "source": []
  }
 ],
 "metadata": {
  "kernelspec": {
   "display_name": "Python 3 (ipykernel)",
   "language": "python",
   "name": "python3"
  },
  "language_info": {
   "codemirror_mode": {
    "name": "ipython",
    "version": 3
   },
   "file_extension": ".py",
   "mimetype": "text/x-python",
   "name": "python",
   "nbconvert_exporter": "python",
   "pygments_lexer": "ipython3",
   "version": "3.10.12"
  }
 },
 "nbformat": 4,
 "nbformat_minor": 5
}
