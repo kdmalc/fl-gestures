{
 "cells": [
  {
   "cell_type": "markdown",
   "id": "7c0fef36",
   "metadata": {},
   "source": [
    "> __Purpose:__ This NB visualizes the results of the full study for ELEC573Net. Will be adding different feature engineerings here."
   ]
  },
  {
   "cell_type": "code",
   "execution_count": null,
   "id": "a62336d2",
   "metadata": {},
   "outputs": [
    {
     "name": "stdout",
     "output_type": "stream",
     "text": [
      "Current Working Directory:  c:\\Users\\kdmen\\Repos\\fl-gestures\\April_25\n"
     ]
    }
   ],
   "source": [
    "import numpy as np\n",
    "import copy\n",
    "#from sklearn.preprocessing import LabelEncoder\n",
    "#import matplotlib.pyplot as plt\n",
    "#import pandas as pd\n",
    "\n",
    "from global_seed import set_seed\n",
    "set_seed()\n",
    "\n",
    "from agglo_model_clust import *\n",
    "from cluster_acc_viz_funcs import *\n",
    "from DNN_FT_funcs import *\n",
    "from DNN_AMC_funcs import *\n",
    "from full_study_funcs import * \n",
    "from revamped_model_classes import *\n",
    "from hyperparam_tuned_configs import *\n",
    "\n",
    "import os\n",
    "cwd = os.getcwd()\n",
    "print(\"Current Working Directory: \", cwd)\n"
   ]
  },
  {
   "cell_type": "code",
   "execution_count": null,
   "id": "baea15b3",
   "metadata": {},
   "outputs": [],
   "source": [
    "MODEL_STR = \"ELEC573Net\"\n",
    "MY_CONFIG = ELEC573Net_config\n",
    "SAVE_FIGS = False\n",
    "NUM_MONTE_CARLO_RUNS = 1\n",
    "timestamp = datetime.now().strftime(\"%Y%m%d_%H%M\")\n",
    "\n",
    "# Train/test user split: 24/8\n",
    "## Is this part of config now? The split number?\n",
    "## No it is hardcoded below...\n",
    "NUM_PRETRAIN_USERS = 24\n",
    "NUM_FT_USERS = 8\n",
    "\n"
   ]
  },
  {
   "cell_type": "code",
   "execution_count": 3,
   "id": "33b80c7d",
   "metadata": {},
   "outputs": [
    {
     "name": "stdout",
     "output_type": "stream",
     "text": [
      "(3200, 6)\n"
     ]
    },
    {
     "data": {
      "text/html": [
       "<div>\n",
       "<style scoped>\n",
       "    .dataframe tbody tr th:only-of-type {\n",
       "        vertical-align: middle;\n",
       "    }\n",
       "\n",
       "    .dataframe tbody tr th {\n",
       "        vertical-align: top;\n",
       "    }\n",
       "\n",
       "    .dataframe thead th {\n",
       "        text-align: right;\n",
       "    }\n",
       "</style>\n",
       "<table border=\"1\" class=\"dataframe\">\n",
       "  <thead>\n",
       "    <tr style=\"text-align: right;\">\n",
       "      <th></th>\n",
       "      <th>Participant</th>\n",
       "      <th>Gesture_ID</th>\n",
       "      <th>Gesture_Num</th>\n",
       "      <th>feature</th>\n",
       "      <th>Gesture_Encoded</th>\n",
       "      <th>Cluster_ID</th>\n",
       "    </tr>\n",
       "  </thead>\n",
       "  <tbody>\n",
       "    <tr>\n",
       "      <th>0</th>\n",
       "      <td>P004</td>\n",
       "      <td>close</td>\n",
       "      <td>1</td>\n",
       "      <td>[[6.079045311063784], [-7.551458873254243], [-...</td>\n",
       "      <td>0</td>\n",
       "      <td>0</td>\n",
       "    </tr>\n",
       "    <tr>\n",
       "      <th>1</th>\n",
       "      <td>P004</td>\n",
       "      <td>close</td>\n",
       "      <td>10</td>\n",
       "      <td>[[5.994789910363704], [-7.978871468164499], [-...</td>\n",
       "      <td>0</td>\n",
       "      <td>0</td>\n",
       "    </tr>\n",
       "    <tr>\n",
       "      <th>2</th>\n",
       "      <td>P004</td>\n",
       "      <td>close</td>\n",
       "      <td>2</td>\n",
       "      <td>[[6.010193380499154], [-7.7063875553339], [-20...</td>\n",
       "      <td>0</td>\n",
       "      <td>0</td>\n",
       "    </tr>\n",
       "    <tr>\n",
       "      <th>3</th>\n",
       "      <td>P004</td>\n",
       "      <td>close</td>\n",
       "      <td>3</td>\n",
       "      <td>[[5.8212078257286874], [-7.463908156909893], [...</td>\n",
       "      <td>0</td>\n",
       "      <td>0</td>\n",
       "    </tr>\n",
       "    <tr>\n",
       "      <th>4</th>\n",
       "      <td>P004</td>\n",
       "      <td>close</td>\n",
       "      <td>4</td>\n",
       "      <td>[[5.974675085061773], [-7.945111601415482], [-...</td>\n",
       "      <td>0</td>\n",
       "      <td>0</td>\n",
       "    </tr>\n",
       "  </tbody>\n",
       "</table>\n",
       "</div>"
      ],
      "text/plain": [
       "  Participant Gesture_ID Gesture_Num   \n",
       "0        P004      close           1  \\\n",
       "1        P004      close          10   \n",
       "2        P004      close           2   \n",
       "3        P004      close           3   \n",
       "4        P004      close           4   \n",
       "\n",
       "                                             feature  Gesture_Encoded   \n",
       "0  [[6.079045311063784], [-7.551458873254243], [-...                0  \\\n",
       "1  [[5.994789910363704], [-7.978871468164499], [-...                0   \n",
       "2  [[6.010193380499154], [-7.7063875553339], [-20...                0   \n",
       "3  [[5.8212078257286874], [-7.463908156909893], [...                0   \n",
       "4  [[5.974675085061773], [-7.945111601415482], [-...                0   \n",
       "\n",
       "   Cluster_ID  \n",
       "0           0  \n",
       "1           0  \n",
       "2           0  \n",
       "3           0  \n",
       "4           0  "
      ]
     },
     "execution_count": 3,
     "metadata": {},
     "output_type": "execute_result"
    }
   ],
   "source": [
    "expdef_df = load_expdef_gestures(feateng_method=MY_CONFIG[\"feature_engr\"])\n",
    "\n",
    "print(expdef_df.shape)\n",
    "expdef_df.head()"
   ]
  },
  {
   "cell_type": "code",
   "execution_count": 4,
   "id": "f7f2bf09",
   "metadata": {},
   "outputs": [],
   "source": [
    "import json\n",
    "# Load the fixed user splits\n",
    "with open(\"fixed_user_splits\\\\24_8_user_splits.json\", \"r\") as f:\n",
    "    splits = json.load(f)\n",
    "all_participants = splits[\"all_users\"]\n",
    "test_participants = splits[\"test_users\"]\n"
   ]
  },
  {
   "cell_type": "code",
   "execution_count": 5,
   "id": "65191978",
   "metadata": {},
   "outputs": [
    {
     "name": "stdout",
     "output_type": "stream",
     "text": [
      "Data has been loaded successfully!\n"
     ]
    }
   ],
   "source": [
    "# Load the CLUSTERING RESULTS DATA\n",
    "with open('C:\\\\Users\\\\kdmen\\\\Repos\\\\fl-gestures\\\\April_25\\\\results\\\\clustering_models\\\\20250210_2032\\\\spectralFE80_ELEC573Net_agglo_merge_res.pkl', 'rb') as f:\n",
    "    merge_log = pickle.load(f)\n",
    "    intra_cluster_performance = pickle.load(f)\n",
    "    cross_cluster_performance = pickle.load(f)\n",
    "    nested_clus_model_dict = pickle.load(f)\n",
    "\n",
    "print(\"Data has been loaded successfully!\")"
   ]
  },
  {
   "cell_type": "code",
   "execution_count": 6,
   "id": "68c54629",
   "metadata": {},
   "outputs": [
    {
     "name": "stdout",
     "output_type": "stream",
     "text": [
      "Full Path: C:\\Users\\kdmen\\Repos\\fl-gestures\\April_25\\models\\original_mystery_seed_split\\20250211_2019\n"
     ]
    },
    {
     "data": {
      "text/plain": [
       "<All keys matched successfully>"
      ]
     },
     "execution_count": 6,
     "metadata": {},
     "output_type": "execute_result"
    }
   ],
   "source": [
    "full_path = \"C:\\\\Users\\\\kdmen\\\\Repos\\\\fl-gestures\\\\April_25\\\\models\\\\original_mystery_seed_split\\\\20250211_2019\"\n",
    "print(\"Full Path:\", full_path)\n",
    "# Load the pretrained model\n",
    "pretrained_generic_model = ELEC573Net(MY_CONFIG)\n",
    "pretrained_generic_model.load_state_dict(torch.load(full_path+\"\\\\pretrained_ELEC573Net_model.pth\"))"
   ]
  },
  {
   "cell_type": "markdown",
   "id": "f15319da",
   "metadata": {},
   "source": [
    "## One-shot training (local+FT)"
   ]
  },
  {
   "cell_type": "code",
   "execution_count": 7,
   "id": "a2fff870",
   "metadata": {},
   "outputs": [
    {
     "name": "stdout",
     "output_type": "stream",
     "text": [
      "PID P010, 1/8\n",
      "Cluster 34 had the highest accuracy (0.3)\n",
      "PID P102, 2/8\n",
      "Cluster 41 had the highest accuracy (0.4)\n",
      "PID P104, 3/8\n",
      "Cluster 38 had the highest accuracy (0.7)\n",
      "PID P108, 4/8\n",
      "Cluster 8 had the highest accuracy (0.6)\n",
      "PID P121, 5/8\n",
      "Cluster 41 had the highest accuracy (0.8)\n",
      "PID P123, 6/8\n",
      "Cluster 8 had the highest accuracy (0.1)\n",
      "PID P124, 7/8\n",
      "Cluster 38 had the highest accuracy (0.8)\n",
      "PID P128, 8/8\n",
      "Cluster 37 had the highest accuracy (1.0)\n",
      "PID P010, 1/8\n",
      "Cluster 34 had the highest accuracy (0.4)\n",
      "PID P102, 2/8\n",
      "Cluster 41 had the highest accuracy (0.6)\n",
      "PID P104, 3/8\n",
      "Cluster 38 had the highest accuracy (0.7)\n",
      "PID P108, 4/8\n",
      "Cluster 8 had the highest accuracy (0.7)\n",
      "PID P121, 5/8\n",
      "Cluster 41 had the highest accuracy (0.7)\n",
      "PID P123, 6/8\n",
      "Cluster 37 had the highest accuracy (0.2)\n",
      "PID P124, 7/8\n",
      "Cluster 38 had the highest accuracy (0.7)\n",
      "PID P128, 8/8\n",
      "Cluster 37 had the highest accuracy (0.9)\n",
      "PID P010, 1/8\n",
      "Cluster 34 had the highest accuracy (0.2)\n",
      "PID P102, 2/8\n",
      "Cluster 41 had the highest accuracy (0.6)\n",
      "PID P104, 3/8\n",
      "Cluster 38 had the highest accuracy (0.6)\n",
      "PID P108, 4/8\n",
      "Cluster 8 had the highest accuracy (0.6)\n",
      "PID P121, 5/8\n",
      "Cluster 41 had the highest accuracy (0.8)\n",
      "PID P123, 6/8\n",
      "Cluster 37 had the highest accuracy (0.2)\n",
      "PID P124, 7/8\n",
      "Cluster 38 had the highest accuracy (0.7)\n",
      "PID P128, 8/8\n",
      "Cluster 37 had the highest accuracy (1.0)\n",
      "PID P010, 1/8\n",
      "Cluster 34 had the highest accuracy (0.2)\n",
      "PID P102, 2/8\n",
      "Cluster 41 had the highest accuracy (0.6)\n",
      "PID P104, 3/8\n",
      "Cluster 38 had the highest accuracy (0.7)\n",
      "PID P108, 4/8\n",
      "Cluster 8 had the highest accuracy (0.4)\n",
      "PID P121, 5/8\n",
      "Cluster 41 had the highest accuracy (0.6)\n",
      "PID P123, 6/8\n",
      "Cluster 36 had the highest accuracy (0.1)\n",
      "PID P124, 7/8\n",
      "Cluster 38 had the highest accuracy (0.9)\n",
      "PID P128, 8/8\n",
      "Cluster 37 had the highest accuracy (1.0)\n",
      "PID P010, 1/8\n",
      "Cluster 34 had the highest accuracy (0.3)\n",
      "PID P102, 2/8\n",
      "Cluster 41 had the highest accuracy (0.4)\n",
      "PID P104, 3/8\n",
      "Cluster 38 had the highest accuracy (0.7)\n",
      "PID P108, 4/8\n",
      "Cluster 8 had the highest accuracy (0.5)\n",
      "PID P121, 5/8\n",
      "Cluster 41 had the highest accuracy (0.7)\n",
      "PID P123, 6/8\n",
      "Cluster 34 had the highest accuracy (0.1)\n",
      "PID P124, 7/8\n",
      "Cluster 38 had the highest accuracy (0.9)\n",
      "PID P128, 8/8\n",
      "Cluster 37 had the highest accuracy (0.9)\n",
      "PID P010, 1/8\n",
      "Cluster 34 had the highest accuracy (0.3)\n",
      "PID P102, 2/8\n",
      "Cluster 41 had the highest accuracy (0.8)\n",
      "PID P104, 3/8\n",
      "Cluster 38 had the highest accuracy (0.6)\n",
      "PID P108, 4/8\n",
      "Cluster 8 had the highest accuracy (0.7)\n",
      "PID P121, 5/8\n",
      "Cluster 41 had the highest accuracy (0.7)\n",
      "PID P123, 6/8\n",
      "Cluster 8 had the highest accuracy (0.1)\n",
      "PID P124, 7/8\n",
      "Cluster 38 had the highest accuracy (0.8)\n",
      "PID P128, 8/8\n",
      "Cluster 37 had the highest accuracy (0.9)\n",
      "PID P010, 1/8\n",
      "Cluster 34 had the highest accuracy (0.3)\n",
      "PID P102, 2/8\n",
      "Cluster 41 had the highest accuracy (0.6)\n",
      "PID P104, 3/8\n",
      "Cluster 38 had the highest accuracy (0.6)\n",
      "PID P108, 4/8\n",
      "Cluster 8 had the highest accuracy (0.4)\n",
      "PID P121, 5/8\n",
      "Cluster 41 had the highest accuracy (0.7)\n",
      "PID P123, 6/8\n",
      "Cluster 8 had the highest accuracy (0.1)\n",
      "PID P124, 7/8\n",
      "Cluster 38 had the highest accuracy (0.8)\n",
      "PID P128, 8/8\n",
      "Cluster 37 had the highest accuracy (1.0)\n",
      "PID P010, 1/8\n",
      "Cluster 34 had the highest accuracy (0.2)\n",
      "PID P102, 2/8\n",
      "Cluster 41 had the highest accuracy (0.7)\n",
      "PID P104, 3/8\n",
      "Cluster 38 had the highest accuracy (0.7)\n",
      "PID P108, 4/8\n",
      "Cluster 8 had the highest accuracy (0.5)\n",
      "PID P121, 5/8\n",
      "Cluster 41 had the highest accuracy (0.8)\n",
      "PID P123, 6/8\n",
      "Cluster 36 had the highest accuracy (0.2)\n",
      "PID P124, 7/8\n",
      "Cluster 38 had the highest accuracy (0.8)\n",
      "PID P128, 8/8\n",
      "Cluster 37 had the highest accuracy (1.0)\n",
      "PID P010, 1/8\n",
      "Cluster 34 had the highest accuracy (0.3)\n",
      "PID P102, 2/8\n",
      "Cluster 41 had the highest accuracy (0.8)\n",
      "PID P104, 3/8\n",
      "Cluster 38 had the highest accuracy (0.7)\n",
      "PID P108, 4/8\n",
      "Cluster 8 had the highest accuracy (0.4)\n",
      "PID P121, 5/8\n",
      "Cluster 41 had the highest accuracy (0.7)\n",
      "PID P123, 6/8\n",
      "Cluster 36 had the highest accuracy (0.1)\n",
      "PID P124, 7/8\n",
      "Cluster 38 had the highest accuracy (0.7)\n",
      "PID P128, 8/8\n",
      "Cluster 37 had the highest accuracy (1.0)\n",
      "PID P010, 1/8\n",
      "Cluster 34 had the highest accuracy (0.2)\n",
      "PID P102, 2/8\n",
      "Cluster 41 had the highest accuracy (0.7)\n",
      "PID P104, 3/8\n",
      "Cluster 38 had the highest accuracy (0.7)\n",
      "PID P108, 4/8\n",
      "Cluster 8 had the highest accuracy (0.5)\n",
      "PID P121, 5/8\n",
      "Cluster 41 had the highest accuracy (0.7)\n",
      "PID P123, 6/8\n",
      "Cluster 36 had the highest accuracy (0.1)\n",
      "PID P124, 7/8\n",
      "Cluster 38 had the highest accuracy (0.9)\n",
      "PID P128, 8/8\n",
      "Cluster 37 had the highest accuracy (0.9)\n"
     ]
    }
   ],
   "source": [
    "lst_of_res_dicts_oneshot = [0]*NUM_MONTE_CARLO_RUNS\n",
    "for i in range(NUM_MONTE_CARLO_RUNS):\n",
    "\n",
    "    # Prepare data\n",
    "    ## Unknown determenism / stochasticity...\n",
    "    ## Some randomness from the 8/2 and 3/7 splits, namely which gestures get included...\n",
    "    data_splits = prepare_data(\n",
    "        expdef_df, 'feature', 'Gesture_Encoded', \n",
    "        all_participants, test_participants, \n",
    "        training_trials_per_gesture=8, finetuning_trials_per_gesture=3,\n",
    "    )\n",
    "\n",
    "    # Fit LabelEncoder once on all participant IDs for consistency\n",
    "    all_participant_ids = data_splits['train']['participant_ids'] + data_splits['intra_subject_test']['participant_ids']\n",
    "    label_encoder = LabelEncoder()\n",
    "    label_encoder.fit(all_participant_ids)\n",
    "\n",
    "    # Process train and test sets\n",
    "    train_df = process_split(data_splits, 'train', label_encoder)\n",
    "    test_df = process_split(data_splits, 'intra_subject_test', label_encoder)\n",
    "    data_dfs_dict = {'train':train_df, 'test':test_df}\n",
    "\n",
    "    # Prepare data\n",
    "    one_trial_data_splits = prepare_data(\n",
    "        expdef_df, 'feature', 'Gesture_Encoded', \n",
    "        all_participants, test_participants, \n",
    "        training_trials_per_gesture=1, finetuning_trials_per_gesture=1,\n",
    "    )\n",
    "    #five_trial_data_splits = prepare_data(\n",
    "    #    expdef_df, 'feature', 'Gesture_Encoded', \n",
    "    #    all_participants, test_participants, \n",
    "    #    training_trials_per_gesture=5, finetuning_trials_per_gesture=5,\n",
    "    #)\n",
    "\n",
    "    # data_dict_1_1\n",
    "    lst_of_res_dicts_oneshot[i] = full_comparison_run(one_trial_data_splits, one_trial_data_splits, MY_CONFIG, pretrained_generic_model,\n",
    "                            nested_clus_model_dict, MODEL_STR, cluster_iter_str='Iter18')\n"
   ]
  },
  {
   "cell_type": "code",
   "execution_count": 8,
   "id": "aeee50ce",
   "metadata": {},
   "outputs": [],
   "source": [
    "data_dict_1_1 = {}    \n",
    "data_dict_1_1['local_acc_data'] = np.zeros(NUM_FT_USERS, dtype=np.float32)\n",
    "data_dict_1_1['centralized_acc_data'] = np.zeros(NUM_FT_USERS, dtype=np.float32)\n",
    "data_dict_1_1['ft_centralized_acc_data'] = np.zeros(NUM_FT_USERS, dtype=np.float32)\n",
    "data_dict_1_1['pretrained_cluster_acc_data'] = np.zeros(NUM_FT_USERS, dtype=np.float32)\n",
    "data_dict_1_1['ft_cluster_acc_data'] = np.zeros(NUM_FT_USERS, dtype=np.float32)\n",
    "\n",
    "for idx, res_dict in enumerate(lst_of_res_dicts_oneshot):\n",
    "    data_dict_1_1['local_acc_data'] += np.array(res_dict['local_acc_data'])\n",
    "    data_dict_1_1['centralized_acc_data'] += np.array(res_dict['centralized_acc_data'])\n",
    "    data_dict_1_1['ft_centralized_acc_data'] += np.array(res_dict['ft_centralized_acc_data'])\n",
    "    data_dict_1_1['pretrained_cluster_acc_data'] += np.array(res_dict['pretrained_cluster_acc_data'])\n",
    "    data_dict_1_1['ft_cluster_acc_data'] += np.array(res_dict['ft_cluster_acc_data'])\n",
    "\n",
    "data_dict_1_1['local_acc_data'] /= (idx+1)\n",
    "data_dict_1_1['centralized_acc_data'] /= (idx+1)\n",
    "data_dict_1_1['ft_centralized_acc_data'] /= (idx+1)\n",
    "data_dict_1_1['pretrained_cluster_acc_data'] /= (idx+1)\n",
    "data_dict_1_1['ft_cluster_acc_data'] /= (idx+1)"
   ]
  },
  {
   "cell_type": "code",
   "execution_count": 9,
   "id": "65ddc832",
   "metadata": {},
   "outputs": [
    {
     "data": {
      "image/png": "[encoded data removed]",
      "text/plain": [
       "<Figure size 800x600 with 1 Axes>"
      ]
     },
     "metadata": {},
     "output_type": "display_data"
    }
   ],
   "source": [
    "plot_model_acc_boxplots(data_dict_1_1, my_title=f\"{MODEL_STR} One-shot Finetuning\", save_fig=False, plot_save_name=f\"Final_{MODEL_STR}_Acc_1TA_1TT\")"
   ]
  },
  {
   "cell_type": "markdown",
   "id": "63f02b6b",
   "metadata": {},
   "source": [
    "## Few-shot (5 shot) trials for training (local+FT)"
   ]
  },
  {
   "cell_type": "code",
   "execution_count": 10,
   "id": "35b733c6",
   "metadata": {},
   "outputs": [
    {
     "name": "stdout",
     "output_type": "stream",
     "text": [
      "PID P010, 1/8\n",
      "Cluster 34 had the highest accuracy (0.22)\n",
      "PID P102, 2/8\n",
      "Cluster 41 had the highest accuracy (0.64)\n",
      "PID P104, 3/8\n",
      "Cluster 38 had the highest accuracy (0.66)\n",
      "PID P108, 4/8\n",
      "Cluster 8 had the highest accuracy (0.48)\n",
      "PID P121, 5/8\n",
      "Cluster 41 had the highest accuracy (0.8)\n",
      "PID P123, 6/8\n",
      "Cluster 36 had the highest accuracy (0.12)\n",
      "PID P124, 7/8\n",
      "Cluster 38 had the highest accuracy (0.72)\n",
      "PID P128, 8/8\n",
      "Cluster 37 had the highest accuracy (0.92)\n",
      "PID P010, 1/8\n",
      "Cluster 34 had the highest accuracy (0.22)\n",
      "PID P102, 2/8\n",
      "Cluster 41 had the highest accuracy (0.64)\n",
      "PID P104, 3/8\n",
      "Cluster 38 had the highest accuracy (0.7)\n",
      "PID P108, 4/8\n",
      "Cluster 8 had the highest accuracy (0.56)\n",
      "PID P121, 5/8\n",
      "Cluster 41 had the highest accuracy (0.74)\n",
      "PID P123, 6/8\n",
      "Cluster 36 had the highest accuracy (0.12)\n",
      "PID P124, 7/8\n",
      "Cluster 38 had the highest accuracy (0.76)\n",
      "PID P128, 8/8\n",
      "Cluster 37 had the highest accuracy (0.94)\n",
      "PID P010, 1/8\n",
      "Cluster 34 had the highest accuracy (0.24)\n",
      "PID P102, 2/8\n",
      "Cluster 41 had the highest accuracy (0.64)\n",
      "PID P104, 3/8\n",
      "Cluster 38 had the highest accuracy (0.6)\n",
      "PID P108, 4/8\n",
      "Cluster 8 had the highest accuracy (0.5)\n",
      "PID P121, 5/8\n",
      "Cluster 41 had the highest accuracy (0.8)\n",
      "PID P123, 6/8\n",
      "Cluster 36 had the highest accuracy (0.12)\n",
      "PID P124, 7/8\n",
      "Cluster 38 had the highest accuracy (0.82)\n",
      "PID P128, 8/8\n",
      "Cluster 37 had the highest accuracy (0.94)\n",
      "PID P010, 1/8\n",
      "Cluster 34 had the highest accuracy (0.18)\n",
      "PID P102, 2/8\n",
      "Cluster 41 had the highest accuracy (0.68)\n",
      "PID P104, 3/8\n",
      "Cluster 38 had the highest accuracy (0.68)\n",
      "PID P108, 4/8\n",
      "Cluster 8 had the highest accuracy (0.52)\n",
      "PID P121, 5/8\n",
      "Cluster 41 had the highest accuracy (0.84)\n",
      "PID P123, 6/8\n",
      "Cluster 36 had the highest accuracy (0.12)\n",
      "PID P124, 7/8\n",
      "Cluster 38 had the highest accuracy (0.78)\n",
      "PID P128, 8/8\n",
      "Cluster 37 had the highest accuracy (0.96)\n",
      "PID P010, 1/8\n",
      "Cluster 34 had the highest accuracy (0.26)\n",
      "PID P102, 2/8\n",
      "Cluster 41 had the highest accuracy (0.64)\n",
      "PID P104, 3/8\n",
      "Cluster 38 had the highest accuracy (0.6)\n",
      "PID P108, 4/8\n",
      "Cluster 8 had the highest accuracy (0.48)\n",
      "PID P121, 5/8\n",
      "Cluster 41 had the highest accuracy (0.78)\n",
      "PID P123, 6/8\n",
      "Cluster 36 had the highest accuracy (0.1)\n",
      "PID P124, 7/8\n",
      "Cluster 38 had the highest accuracy (0.74)\n",
      "PID P128, 8/8\n",
      "Cluster 37 had the highest accuracy (0.96)\n",
      "PID P010, 1/8\n",
      "Cluster 34 had the highest accuracy (0.2)\n",
      "PID P102, 2/8\n",
      "Cluster 41 had the highest accuracy (0.58)\n",
      "PID P104, 3/8\n",
      "Cluster 38 had the highest accuracy (0.66)\n",
      "PID P108, 4/8\n",
      "Cluster 8 had the highest accuracy (0.5)\n",
      "PID P121, 5/8\n",
      "Cluster 41 had the highest accuracy (0.74)\n",
      "PID P123, 6/8\n",
      "Cluster 36 had the highest accuracy (0.12)\n",
      "PID P124, 7/8\n",
      "Cluster 38 had the highest accuracy (0.74)\n",
      "PID P128, 8/8\n",
      "Cluster 37 had the highest accuracy (0.96)\n",
      "PID P010, 1/8\n",
      "Cluster 34 had the highest accuracy (0.24)\n",
      "PID P102, 2/8\n",
      "Cluster 41 had the highest accuracy (0.64)\n",
      "PID P104, 3/8\n",
      "Cluster 38 had the highest accuracy (0.62)\n",
      "PID P108, 4/8\n",
      "Cluster 8 had the highest accuracy (0.54)\n",
      "PID P121, 5/8\n",
      "Cluster 41 had the highest accuracy (0.78)\n",
      "PID P123, 6/8\n",
      "Cluster 37 had the highest accuracy (0.12)\n",
      "PID P124, 7/8\n",
      "Cluster 38 had the highest accuracy (0.76)\n",
      "PID P128, 8/8\n",
      "Cluster 37 had the highest accuracy (0.92)\n",
      "PID P010, 1/8\n",
      "Cluster 34 had the highest accuracy (0.22)\n",
      "PID P102, 2/8\n",
      "Cluster 41 had the highest accuracy (0.66)\n",
      "PID P104, 3/8\n",
      "Cluster 38 had the highest accuracy (0.6)\n",
      "PID P108, 4/8\n",
      "Cluster 8 had the highest accuracy (0.52)\n",
      "PID P121, 5/8\n",
      "Cluster 41 had the highest accuracy (0.72)\n",
      "PID P123, 6/8\n",
      "Cluster 36 had the highest accuracy (0.12)\n",
      "PID P124, 7/8\n",
      "Cluster 38 had the highest accuracy (0.76)\n",
      "PID P128, 8/8\n",
      "Cluster 37 had the highest accuracy (0.92)\n",
      "PID P010, 1/8\n",
      "Cluster 34 had the highest accuracy (0.24)\n",
      "PID P102, 2/8\n",
      "Cluster 41 had the highest accuracy (0.68)\n",
      "PID P104, 3/8\n",
      "Cluster 38 had the highest accuracy (0.6)\n",
      "PID P108, 4/8\n",
      "Cluster 8 had the highest accuracy (0.5)\n",
      "PID P121, 5/8\n",
      "Cluster 41 had the highest accuracy (0.78)\n",
      "PID P123, 6/8\n",
      "Cluster 36 had the highest accuracy (0.1)\n",
      "PID P124, 7/8\n",
      "Cluster 38 had the highest accuracy (0.76)\n",
      "PID P128, 8/8\n",
      "Cluster 37 had the highest accuracy (0.92)\n",
      "PID P010, 1/8\n",
      "Cluster 34 had the highest accuracy (0.18)\n",
      "PID P102, 2/8\n",
      "Cluster 41 had the highest accuracy (0.6)\n",
      "PID P104, 3/8\n",
      "Cluster 38 had the highest accuracy (0.62)\n",
      "PID P108, 4/8\n",
      "Cluster 8 had the highest accuracy (0.54)\n",
      "PID P121, 5/8\n",
      "Cluster 41 had the highest accuracy (0.76)\n",
      "PID P123, 6/8\n",
      "Cluster 37 had the highest accuracy (0.12)\n",
      "PID P124, 7/8\n",
      "Cluster 38 had the highest accuracy (0.74)\n",
      "PID P128, 8/8\n",
      "Cluster 37 had the highest accuracy (0.94)\n"
     ]
    }
   ],
   "source": [
    "lst_of_res_dicts_fiveshot = [0]*NUM_MONTE_CARLO_RUNS\n",
    "for i in range(NUM_MONTE_CARLO_RUNS):\n",
    "\n",
    "    # Prepare data\n",
    "    ## Unknown determenism / stochasticity...\n",
    "    ## Some randomness from the 8/2 and 3/7 splits, namely which gestures get included...\n",
    "    data_splits = prepare_data(\n",
    "        expdef_df, 'feature', 'Gesture_Encoded', \n",
    "        all_participants, test_participants, \n",
    "        training_trials_per_gesture=8, finetuning_trials_per_gesture=3,\n",
    "    )\n",
    "\n",
    "    # Fit LabelEncoder once on all participant IDs for consistency\n",
    "    all_participant_ids = data_splits['train']['participant_ids'] + data_splits['intra_subject_test']['participant_ids']\n",
    "    label_encoder = LabelEncoder()\n",
    "    label_encoder.fit(all_participant_ids)\n",
    "\n",
    "    # Process train and test sets\n",
    "    train_df = process_split(data_splits, 'train', label_encoder)\n",
    "    test_df = process_split(data_splits, 'intra_subject_test', label_encoder)\n",
    "    data_dfs_dict = {'train':train_df, 'test':test_df}\n",
    "\n",
    "    # Prepare data\n",
    "    #one_trial_data_splits = prepare_data(\n",
    "    #    expdef_df, 'feature', 'Gesture_Encoded', \n",
    "    #    all_participants, test_participants, \n",
    "    #    training_trials_per_gesture=1, finetuning_trials_per_gesture=1,\n",
    "    #)\n",
    "    five_trial_data_splits = prepare_data(\n",
    "        expdef_df, 'feature', 'Gesture_Encoded', \n",
    "        all_participants, test_participants, \n",
    "        training_trials_per_gesture=5, finetuning_trials_per_gesture=5,\n",
    "    )\n",
    "\n",
    "    # data_dict_5_5\n",
    "    lst_of_res_dicts_fiveshot[i] = full_comparison_run(five_trial_data_splits, five_trial_data_splits, MY_CONFIG, pretrained_generic_model,\n",
    "                            nested_clus_model_dict, MODEL_STR, cluster_iter_str='Iter18')\n"
   ]
  },
  {
   "cell_type": "code",
   "execution_count": 11,
   "id": "69de6138",
   "metadata": {},
   "outputs": [],
   "source": [
    "data_dict_5_5 = {}    \n",
    "data_dict_5_5['local_acc_data'] = np.zeros(NUM_FT_USERS, dtype=np.float32)\n",
    "data_dict_5_5['centralized_acc_data'] = np.zeros(NUM_FT_USERS, dtype=np.float32)\n",
    "data_dict_5_5['ft_centralized_acc_data'] = np.zeros(NUM_FT_USERS, dtype=np.float32)\n",
    "data_dict_5_5['pretrained_cluster_acc_data'] = np.zeros(NUM_FT_USERS, dtype=np.float32)\n",
    "data_dict_5_5['ft_cluster_acc_data'] = np.zeros(NUM_FT_USERS, dtype=np.float32)\n",
    "\n",
    "for idx, res_dict in enumerate(lst_of_res_dicts_fiveshot):\n",
    "    data_dict_5_5['local_acc_data'] += np.array(res_dict['local_acc_data'])\n",
    "    data_dict_5_5['centralized_acc_data'] += np.array(res_dict['centralized_acc_data'])\n",
    "    data_dict_5_5['ft_centralized_acc_data'] += np.array(res_dict['ft_centralized_acc_data'])\n",
    "    data_dict_5_5['pretrained_cluster_acc_data'] += np.array(res_dict['pretrained_cluster_acc_data'])\n",
    "    data_dict_5_5['ft_cluster_acc_data'] += np.array(res_dict['ft_cluster_acc_data'])\n",
    "\n",
    "data_dict_5_5['local_acc_data'] /= (idx+1)\n",
    "data_dict_5_5['centralized_acc_data'] /= (idx+1)\n",
    "data_dict_5_5['ft_centralized_acc_data'] /= (idx+1)\n",
    "data_dict_5_5['pretrained_cluster_acc_data'] /= (idx+1)\n",
    "data_dict_5_5['ft_cluster_acc_data'] /= (idx+1)"
   ]
  },
  {
   "cell_type": "code",
   "execution_count": 12,
   "id": "531c67ff",
   "metadata": {},
   "outputs": [
    {
     "data": {
      "image/png": "[encoded data removed]",
      "text/plain": [
       "<Figure size 800x600 with 1 Axes>"
      ]
     },
     "metadata": {},
     "output_type": "display_data"
    }
   ],
   "source": [
    "plot_model_acc_boxplots(data_dict_5_5, my_title=f\"{MODEL_STR} 5-shot Finetuning\", save_fig=False, plot_save_name=f\"Final_{MODEL_STR}_Acc_5TA_5TT\")\n"
   ]
  },
  {
   "cell_type": "code",
   "execution_count": 13,
   "id": "28066574",
   "metadata": {},
   "outputs": [
    {
     "data": {
      "text/plain": [
       "dict_keys(['local_acc_data', 'centralized_acc_data', 'ft_centralized_acc_data', 'pretrained_cluster_acc_data', 'ft_cluster_acc_data'])"
      ]
     },
     "execution_count": 13,
     "metadata": {},
     "output_type": "execute_result"
    }
   ],
   "source": [
    "data_dict_5_5.keys()"
   ]
  },
  {
   "cell_type": "code",
   "execution_count": 14,
   "id": "ac517a4d",
   "metadata": {},
   "outputs": [
    {
     "data": {
      "text/plain": [
       "array([0.92999995, 0.8000001 , 0.89000005, 0.622     , 0.912     ,\n",
       "       0.94799995, 0.9459999 , 0.92999995], dtype=float32)"
      ]
     },
     "execution_count": 14,
     "metadata": {},
     "output_type": "execute_result"
    }
   ],
   "source": [
    "data_dict_5_5['local_acc_data']"
   ]
  },
  {
   "cell_type": "code",
   "execution_count": 15,
   "id": "43e30b6d",
   "metadata": {},
   "outputs": [
    {
     "data": {
      "text/plain": [
       "array([0.046     , 0.11000001, 0.07600001, 0.052     , 0.15599999,\n",
       "       0.15      , 0.094     , 0.264     ], dtype=float32)"
      ]
     },
     "execution_count": 15,
     "metadata": {},
     "output_type": "execute_result"
    }
   ],
   "source": [
    "data_dict_5_5['centralized_acc_data']"
   ]
  },
  {
   "cell_type": "code",
   "execution_count": 16,
   "id": "5d0a231b",
   "metadata": {},
   "outputs": [
    {
     "data": {
      "text/plain": [
       "array([0.078     , 0.206     , 0.06000001, 0.038     , 0.19600001,\n",
       "       0.192     , 0.066     , 0.318     ], dtype=float32)"
      ]
     },
     "execution_count": 16,
     "metadata": {},
     "output_type": "execute_result"
    }
   ],
   "source": [
    "data_dict_5_5['ft_centralized_acc_data']"
   ]
  },
  {
   "cell_type": "code",
   "execution_count": null,
   "id": "1f59a478",
   "metadata": {},
   "outputs": [],
   "source": []
  },
  {
   "cell_type": "markdown",
   "id": "32a6cb79",
   "metadata": {},
   "source": [
    "## Testing the Generic Model\n",
    "> On its own training data (it was trained on train, tested on intra_test (same subjects as train), and also tested but not evaluated wrt cross_test)"
   ]
  },
  {
   "cell_type": "code",
   "execution_count": 17,
   "id": "a380a559",
   "metadata": {},
   "outputs": [],
   "source": [
    "model_type = \"ELEC573Net\"\n",
    "sequence_length = 1  # Not sure what this should be here actually lol\n",
    "time_steps = None\n",
    "bs = MY_CONFIG[\"batch_size\"]"
   ]
  },
  {
   "cell_type": "code",
   "execution_count": 18,
   "id": "23f766ce",
   "metadata": {},
   "outputs": [],
   "source": [
    "unique_gestures = np.unique(data_splits['train']['labels'])\n",
    "#num_classes = len(unique_gestures)\n",
    "#input_dim = data_splits['train']['feature'].shape[1]\n",
    "\n",
    "train_pids = data_splits['train']['participant_ids']  # THIS IS IN ORDER! NOT SHUFFLED!!\n",
    "intra_pids = data_splits['intra_subject_test']['participant_ids']\n",
    "cross_pids = data_splits['cross_subject_test']['participant_ids']\n",
    "\n",
    "my_gesture_dataset = select_dataset_class(MY_CONFIG)\n",
    "\n",
    "train_dataset = my_gesture_dataset(\n",
    "    data_splits['train']['feature'], \n",
    "    data_splits['train']['labels'], \n",
    "    sl=sequence_length, \n",
    "    ts=time_steps)\n",
    "train_loader = DataLoader(train_dataset, batch_size=bs, shuffle=True) #, drop_last=True)\n",
    "\n",
    "# INTRA SUBJECT (480)\n",
    "intra_test_dataset = my_gesture_dataset(\n",
    "    data_splits['intra_subject_test']['feature'], \n",
    "    data_splits['intra_subject_test']['labels'], \n",
    "    sl=sequence_length, \n",
    "    ts=time_steps)\n",
    "# Shuffle doesn't matter for testing\n",
    "intra_test_loader = DataLoader(intra_test_dataset, batch_size=bs, shuffle=False) #, drop_last=True)\n",
    "\n",
    "# CROSS SUBJECT (560)\n",
    "## Wait shouldn't I have 2 cross datasets? Are these the withheld users??\n",
    "## I should have finetuning and withheld right? Presumably cross_test is withheld?\n",
    "cross_test_dataset = my_gesture_dataset(\n",
    "    data_splits['cross_subject_test']['feature'], \n",
    "    data_splits['cross_subject_test']['labels'], \n",
    "    sl=sequence_length, \n",
    "    ts=time_steps)\n",
    "# Shuffle doesn't matter for testing\n",
    "cross_test_loader = DataLoader(cross_test_dataset, batch_size=bs, shuffle=False) #, drop_last=True)"
   ]
  },
  {
   "cell_type": "code",
   "execution_count": 19,
   "id": "a0a8cf1c",
   "metadata": {},
   "outputs": [
    {
     "name": "stdout",
     "output_type": "stream",
     "text": [
      "0.9161458333333333\n"
     ]
    }
   ],
   "source": [
    "#'loss': total_loss / len(dataloader),\n",
    "#'accuracy': np.mean(np.array(all_preds) == np.array(all_labels)),\n",
    "#'predictions': all_preds,\n",
    "#'true_labels': all_labels\n",
    "\n",
    "train_eval = evaluate_model(pretrained_generic_model, train_loader)\n",
    "print(train_eval['accuracy'])"
   ]
  },
  {
   "cell_type": "code",
   "execution_count": 20,
   "id": "de59b650",
   "metadata": {},
   "outputs": [
    {
     "name": "stdout",
     "output_type": "stream",
     "text": [
      "0.9020833333333333\n"
     ]
    }
   ],
   "source": [
    "intra_eval = evaluate_model(pretrained_generic_model, intra_test_loader)\n",
    "print(intra_eval['accuracy'])"
   ]
  },
  {
   "cell_type": "code",
   "execution_count": 21,
   "id": "aa6828cb",
   "metadata": {},
   "outputs": [
    {
     "name": "stdout",
     "output_type": "stream",
     "text": [
      "0.12321428571428572\n"
     ]
    }
   ],
   "source": [
    "cross_eval = evaluate_model(pretrained_generic_model, cross_test_loader)\n",
    "print(cross_eval['accuracy'])"
   ]
  },
  {
   "cell_type": "markdown",
   "id": "cb36edd3",
   "metadata": {},
   "source": [
    "> Now looking at the novel finetuning participants specifically (one trial of data)"
   ]
  },
  {
   "cell_type": "code",
   "execution_count": 22,
   "id": "f6dc87e1",
   "metadata": {},
   "outputs": [],
   "source": [
    "finetuning_datasplits = one_trial_data_splits\n",
    "config = MY_CONFIG"
   ]
  },
  {
   "cell_type": "code",
   "execution_count": 23,
   "id": "27c567f8",
   "metadata": {},
   "outputs": [
    {
     "name": "stdout",
     "output_type": "stream",
     "text": [
      "PID P010, 1/8\n",
      "Pretrain generic acc: 0.4\n",
      "Pretrain FT acc: 0.5\n",
      "\n",
      "PID P102, 2/8\n",
      "Pretrain generic acc: 0.1\n",
      "Pretrain FT acc: 0.0\n",
      "\n",
      "PID P104, 3/8\n",
      "Pretrain generic acc: 0.0\n",
      "Pretrain FT acc: 0.0\n",
      "\n",
      "PID P108, 4/8\n",
      "Pretrain generic acc: 0.0\n",
      "Pretrain FT acc: 0.0\n",
      "\n",
      "PID P121, 5/8\n",
      "Pretrain generic acc: 0.0\n",
      "Pretrain FT acc: 0.0\n",
      "\n",
      "PID P123, 6/8\n",
      "Pretrain generic acc: 0.6\n",
      "Pretrain FT acc: 0.5\n",
      "\n",
      "PID P124, 7/8\n",
      "Pretrain generic acc: 0.7\n",
      "Pretrain FT acc: 0.7\n",
      "\n",
      "PID P128, 8/8\n",
      "Pretrain generic acc: 0.2\n",
      "Pretrain FT acc: 0.2\n",
      "\n"
     ]
    }
   ],
   "source": [
    "train_pids = np.unique(finetuning_datasplits['train']['participant_ids'])\n",
    "\n",
    "novel_participant_ft_data = finetuning_datasplits['novel_trainFT']\n",
    "# novel \"cross subject\" is the same as novel intra (but needs to be separated according to PID first...)\n",
    "novel_participant_test_data = finetuning_datasplits['cross_subject_test']\n",
    "novel_pids = np.unique(finetuning_datasplits['novel_trainFT']['participant_ids'])\n",
    "\n",
    "novel_pid_res_dict = {}\n",
    "for pid_count, pid in enumerate(novel_pids):\n",
    "    print(f\"PID {pid}, {pid_count+1}/{len(novel_pids)}\")\n",
    "    novel_pid_res_dict[pid] = {}\n",
    "\n",
    "    # Create the testloader by segmenting out this specific pid\n",
    "    # Filter based on CURRENT participant ID: \n",
    "    indices = [i for i, datasplit_pid in enumerate(novel_participant_ft_data['participant_ids']) if datasplit_pid == pid]\n",
    "    ############## Novel Participant Finetuning Dataset ##############\n",
    "    ft_dataset = GestureDataset([novel_participant_ft_data['feature'][i] for i in indices], [novel_participant_ft_data['labels'][i] for i in indices])\n",
    "    ft_loader = DataLoader(ft_dataset, batch_size=config[\"batch_size\"], shuffle=True)\n",
    "    ############## Novel Participant Intra Testing Dataset ##############\n",
    "    intra_test_dataset = GestureDataset([novel_participant_test_data['feature'][i] for i in indices], [novel_participant_test_data['labels'][i] for i in indices])\n",
    "    intra_test_loader = DataLoader(intra_test_dataset, batch_size=config[\"batch_size\"], shuffle=True)\n",
    "    ############## Novel Participant Cross Testing Dataset ##############\n",
    "    # This code is testing on all the other novel participants... I don't think we care about that right now\n",
    "    ## Idc but this will allow us to check cross perf. No real reason to remove...\n",
    "    indices = [i for i, datasplit_pid in enumerate(novel_participant_test_data['participant_ids']) if datasplit_pid != pid]\n",
    "    cross_test_dataset = GestureDataset([novel_participant_test_data['feature'][i] for i in indices], [novel_participant_test_data['labels'][i] for i in indices])\n",
    "    cross_test_loader = DataLoader(cross_test_dataset, batch_size=config[\"batch_size\"], shuffle=True)\n",
    "\n",
    "    # 2) Test the full pretrained (centralized) model\n",
    "    generic_clus_res = evaluate_model(pretrained_generic_model, intra_test_loader)\n",
    "    novel_pid_res_dict[pid][\"centralized_acc\"] = generic_clus_res[\"accuracy\"]\n",
    "    print(f\"Pretrain generic acc: {generic_clus_res['accuracy']}\")\n",
    "\n",
    "    # 3) Test finetuned pretrained (centralized) model\n",
    "    ft_centralized_model, _, _, _ = fine_tune_model(\n",
    "        pretrained_generic_model, ft_loader, config, config['timestamp'], test_loader=intra_test_loader, pid=pid)\n",
    "    ft_centralized_res = evaluate_model(ft_centralized_model, intra_test_loader)\n",
    "    novel_pid_res_dict[pid][\"ft_centralized_acc\"] = ft_centralized_res[\"accuracy\"]\n",
    "    print(f\"Pretrain FT acc: {ft_centralized_res['accuracy']}\")\n",
    "\n",
    "    print()"
   ]
  },
  {
   "cell_type": "markdown",
   "id": "b3cd275d",
   "metadata": {},
   "source": [
    "We observe an extremely skewed performance, it does decent on P123 and P124, and worse than random chance on everyone else.  Also FTing doesn't seem to improve performance, in some cases makes it worse..."
   ]
  },
  {
   "cell_type": "markdown",
   "id": "c62b8b88",
   "metadata": {},
   "source": [
    "> Now looking at the novel finetuning participants specifically (five trials of data)"
   ]
  },
  {
   "cell_type": "code",
   "execution_count": 24,
   "id": "b5a0d27f",
   "metadata": {},
   "outputs": [],
   "source": [
    "finetuning_datasplits = five_trial_data_splits\n",
    "config = MY_CONFIG"
   ]
  },
  {
   "cell_type": "code",
   "execution_count": 25,
   "id": "5503dbd0",
   "metadata": {},
   "outputs": [
    {
     "name": "stdout",
     "output_type": "stream",
     "text": [
      "PID P010, 1/8\n",
      "Pretrain generic acc: 0.1\n",
      "Pretrain FT acc: 0.1\n",
      "\n",
      "PID P102, 2/8\n",
      "Pretrain generic acc: 0.16\n",
      "Pretrain FT acc: 0.3\n",
      "\n",
      "PID P104, 3/8\n",
      "Pretrain generic acc: 0.04\n",
      "Pretrain FT acc: 0.04\n",
      "\n",
      "PID P108, 4/8\n",
      "Pretrain generic acc: 0.04\n",
      "Pretrain FT acc: 0.02\n",
      "\n",
      "PID P121, 5/8\n",
      "Pretrain generic acc: 0.16\n",
      "Pretrain FT acc: 0.38\n",
      "\n",
      "PID P123, 6/8\n",
      "Pretrain generic acc: 0.14\n",
      "Pretrain FT acc: 0.2\n",
      "\n",
      "PID P124, 7/8\n",
      "Pretrain generic acc: 0.08\n",
      "Pretrain FT acc: 0.04\n",
      "\n",
      "PID P128, 8/8\n",
      "Pretrain generic acc: 0.3\n",
      "Pretrain FT acc: 0.32\n",
      "\n"
     ]
    }
   ],
   "source": [
    "train_pids = np.unique(finetuning_datasplits['train']['participant_ids'])\n",
    "\n",
    "novel_participant_ft_data = finetuning_datasplits['novel_trainFT']\n",
    "# novel \"cross subject\" is the same as novel intra (but needs to be separated according to PID first...)\n",
    "novel_participant_test_data = finetuning_datasplits['cross_subject_test']\n",
    "novel_pids = np.unique(finetuning_datasplits['novel_trainFT']['participant_ids'])\n",
    "\n",
    "novel_pid_res_dict = {}\n",
    "for pid_count, pid in enumerate(novel_pids):\n",
    "    print(f\"PID {pid}, {pid_count+1}/{len(novel_pids)}\")\n",
    "    novel_pid_res_dict[pid] = {}\n",
    "\n",
    "    # Create the testloader by segmenting out this specific pid\n",
    "    # Filter based on CURRENT participant ID: \n",
    "    indices = [i for i, datasplit_pid in enumerate(novel_participant_ft_data['participant_ids']) if datasplit_pid == pid]\n",
    "    ############## Novel Participant Finetuning Dataset ##############\n",
    "    ft_dataset = GestureDataset([novel_participant_ft_data['feature'][i] for i in indices], [novel_participant_ft_data['labels'][i] for i in indices])\n",
    "    ft_loader = DataLoader(ft_dataset, batch_size=config[\"batch_size\"], shuffle=True)\n",
    "    ############## Novel Participant Intra Testing Dataset ##############\n",
    "    intra_test_dataset = GestureDataset([novel_participant_test_data['feature'][i] for i in indices], [novel_participant_test_data['labels'][i] for i in indices])\n",
    "    intra_test_loader = DataLoader(intra_test_dataset, batch_size=config[\"batch_size\"], shuffle=True)\n",
    "    ############## Novel Participant Cross Testing Dataset ##############\n",
    "    # This code is testing on all the other novel participants... I don't think we care about that right now\n",
    "    ## Idc but this will allow us to check cross perf. No real reason to remove...\n",
    "    indices = [i for i, datasplit_pid in enumerate(novel_participant_test_data['participant_ids']) if datasplit_pid != pid]\n",
    "    cross_test_dataset = GestureDataset([novel_participant_test_data['feature'][i] for i in indices], [novel_participant_test_data['labels'][i] for i in indices])\n",
    "    cross_test_loader = DataLoader(cross_test_dataset, batch_size=config[\"batch_size\"], shuffle=True)\n",
    "\n",
    "    # 2) Test the full pretrained (centralized) model\n",
    "    generic_clus_res = evaluate_model(pretrained_generic_model, intra_test_loader)\n",
    "    novel_pid_res_dict[pid][\"centralized_acc\"] = generic_clus_res[\"accuracy\"]\n",
    "    print(f\"Pretrain generic acc: {generic_clus_res['accuracy']}\")\n",
    "\n",
    "    # 3) Test finetuned pretrained (centralized) model\n",
    "    ft_centralized_model, _, _, _ = fine_tune_model(\n",
    "        pretrained_generic_model, ft_loader, config, config['timestamp'], test_loader=intra_test_loader, pid=pid)\n",
    "    ft_centralized_res = evaluate_model(ft_centralized_model, intra_test_loader)\n",
    "    novel_pid_res_dict[pid][\"ft_centralized_acc\"] = ft_centralized_res[\"accuracy\"]\n",
    "    print(f\"Pretrain FT acc: {ft_centralized_res['accuracy']}\")\n",
    "\n",
    "    print()"
   ]
  },
  {
   "cell_type": "code",
   "execution_count": null,
   "id": "84e22407",
   "metadata": {},
   "outputs": [],
   "source": []
  }
 ],
 "metadata": {
  "kernelspec": {
   "display_name": "fl_torch",
   "language": "python",
   "name": "python3"
  },
  "language_info": {
   "codemirror_mode": {
    "name": "ipython",
    "version": 3
   },
   "file_extension": ".py",
   "mimetype": "text/x-python",
   "name": "python",
   "nbconvert_exporter": "python",
   "pygments_lexer": "ipython3",
   "version": "3.10.10"
  }
 },
 "nbformat": 4,
 "nbformat_minor": 5
}
