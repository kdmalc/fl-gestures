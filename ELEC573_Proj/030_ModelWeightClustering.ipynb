{
 "cells": [
  {
   "cell_type": "markdown",
   "id": "b05b1f31",
   "metadata": {},
   "source": [
    "A related approach would be doing the above but comparing the model weights more directly, either in Euclidean space (e.g., Frobenius norm) or in a latent space (PCA, CCA, autoencoders, etc., just trying to find a more structured latent space to compare model weights), and use a similar minimum similarity threshold for defining edges in the graph. "
   ]
  }
 ],
 "metadata": {
  "kernelspec": {
   "display_name": "Python 3 (ipykernel)",
   "language": "python",
   "name": "python3"
  },
  "language_info": {
   "codemirror_mode": {
    "name": "ipython",
    "version": 3
   },
   "file_extension": ".py",
   "mimetype": "text/x-python",
   "name": "python",
   "nbconvert_exporter": "python",
   "pygments_lexer": "ipython3",
   "version": "3.10.10"
  }
 },
 "nbformat": 4,
 "nbformat_minor": 5
}
