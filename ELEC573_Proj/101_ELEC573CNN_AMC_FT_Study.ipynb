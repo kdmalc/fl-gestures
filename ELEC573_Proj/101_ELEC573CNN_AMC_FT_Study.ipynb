{
 "cells": [
  {
   "cell_type": "markdown",
   "id": "7c0fef36",
   "metadata": {},
   "source": [
    "> __Purpose:__ This NB tests a CNN in the agglomerative model clustering procedure. With later finetuning. Uses the previously developed PyTorch code"
   ]
  },
  {
   "cell_type": "code",
   "execution_count": 1,
   "id": "a62336d2",
   "metadata": {},
   "outputs": [
    {
     "name": "stdout",
     "output_type": "stream",
     "text": [
      "Current Working Directory:  c:\\Users\\kdmen\\Repos\\fl-gestures\\ELEC573_Proj\n"
     ]
    }
   ],
   "source": [
    "import numpy as np\n",
    "from sklearn.preprocessing import LabelEncoder\n",
    "import matplotlib.pyplot as plt\n",
    "import pandas as pd\n",
    "\n",
    "#from sklearn.cross_decomposition import CCA\n",
    "#from sklearn.decomposition import PCA\n",
    "#import seaborn as sns\n",
    "#import copy\n",
    "\n",
    "np.random.seed(42) \n",
    "\n",
    "#from moments_engr import *\n",
    "from agglo_model_clust import *\n",
    "from cluster_acc_viz_funcs import *\n",
    "from DNN_FT_funcs import *\n",
    "from DNN_AMC_funcs import *\n",
    "#from model_classes import *\n",
    "from full_study_funcs import *  # Replace?\n",
    "from revamped_model_classes import *\n",
    "from hyperparam_tuned_configs import *\n",
    "\n",
    "import os\n",
    "cwd = os.getcwd()\n",
    "print(\"Current Working Directory: \", cwd)\n"
   ]
  },
  {
   "cell_type": "code",
   "execution_count": 2,
   "id": "baea15b3",
   "metadata": {},
   "outputs": [],
   "source": [
    "MODEL_STR = \"ELEC573Net\"\n",
    "MY_CONFIG = ELEC573Net_config\n",
    "SAVE_FIGS = False\n",
    "timestamp = datetime.now().strftime(\"%Y%m%d_%H%M\")\n",
    "\n",
    "# Train/test user split: 24/8\n",
    "\n"
   ]
  },
  {
   "cell_type": "code",
   "execution_count": 3,
   "id": "33b80c7d",
   "metadata": {},
   "outputs": [
    {
     "name": "stdout",
     "output_type": "stream",
     "text": [
      "(3200, 6)\n"
     ]
    },
    {
     "data": {
      "text/html": [
       "<div>\n",
       "<style scoped>\n",
       "    .dataframe tbody tr th:only-of-type {\n",
       "        vertical-align: middle;\n",
       "    }\n",
       "\n",
       "    .dataframe tbody tr th {\n",
       "        vertical-align: top;\n",
       "    }\n",
       "\n",
       "    .dataframe thead th {\n",
       "        text-align: right;\n",
       "    }\n",
       "</style>\n",
       "<table border=\"1\" class=\"dataframe\">\n",
       "  <thead>\n",
       "    <tr style=\"text-align: right;\">\n",
       "      <th></th>\n",
       "      <th>Participant</th>\n",
       "      <th>Gesture_ID</th>\n",
       "      <th>Gesture_Num</th>\n",
       "      <th>feature</th>\n",
       "      <th>Gesture_Encoded</th>\n",
       "      <th>Cluster_ID</th>\n",
       "    </tr>\n",
       "  </thead>\n",
       "  <tbody>\n",
       "    <tr>\n",
       "      <th>0</th>\n",
       "      <td>P004</td>\n",
       "      <td>close</td>\n",
       "      <td>1</td>\n",
       "      <td>[[6.079045311063784], [-7.551458873254243], [-...</td>\n",
       "      <td>0</td>\n",
       "      <td>0</td>\n",
       "    </tr>\n",
       "    <tr>\n",
       "      <th>1</th>\n",
       "      <td>P004</td>\n",
       "      <td>close</td>\n",
       "      <td>10</td>\n",
       "      <td>[[5.994789910363704], [-7.978871468164499], [-...</td>\n",
       "      <td>0</td>\n",
       "      <td>0</td>\n",
       "    </tr>\n",
       "    <tr>\n",
       "      <th>2</th>\n",
       "      <td>P004</td>\n",
       "      <td>close</td>\n",
       "      <td>2</td>\n",
       "      <td>[[6.010193380499154], [-7.7063875553339], [-20...</td>\n",
       "      <td>0</td>\n",
       "      <td>0</td>\n",
       "    </tr>\n",
       "    <tr>\n",
       "      <th>3</th>\n",
       "      <td>P004</td>\n",
       "      <td>close</td>\n",
       "      <td>3</td>\n",
       "      <td>[[5.8212078257286874], [-7.463908156909893], [...</td>\n",
       "      <td>0</td>\n",
       "      <td>0</td>\n",
       "    </tr>\n",
       "    <tr>\n",
       "      <th>4</th>\n",
       "      <td>P004</td>\n",
       "      <td>close</td>\n",
       "      <td>4</td>\n",
       "      <td>[[5.974675085061773], [-7.945111601415482], [-...</td>\n",
       "      <td>0</td>\n",
       "      <td>0</td>\n",
       "    </tr>\n",
       "  </tbody>\n",
       "</table>\n",
       "</div>"
      ],
      "text/plain": [
       "  Participant Gesture_ID Gesture_Num   \n",
       "0        P004      close           1  \\\n",
       "1        P004      close          10   \n",
       "2        P004      close           2   \n",
       "3        P004      close           3   \n",
       "4        P004      close           4   \n",
       "\n",
       "                                             feature  Gesture_Encoded   \n",
       "0  [[6.079045311063784], [-7.551458873254243], [-...                0  \\\n",
       "1  [[5.994789910363704], [-7.978871468164499], [-...                0   \n",
       "2  [[6.010193380499154], [-7.7063875553339], [-20...                0   \n",
       "3  [[5.8212078257286874], [-7.463908156909893], [...                0   \n",
       "4  [[5.974675085061773], [-7.945111601415482], [-...                0   \n",
       "\n",
       "   Cluster_ID  \n",
       "0           0  \n",
       "1           0  \n",
       "2           0  \n",
       "3           0  \n",
       "4           0  "
      ]
     },
     "execution_count": 3,
     "metadata": {},
     "output_type": "execute_result"
    }
   ],
   "source": [
    "expdef_df = load_expdef_gestures(apply_hc_feateng=True)\n",
    "\n",
    "print(expdef_df.shape)\n",
    "expdef_df.head()"
   ]
  },
  {
   "cell_type": "code",
   "execution_count": 4,
   "id": "f7f2bf09",
   "metadata": {},
   "outputs": [],
   "source": [
    "all_participants = expdef_df['Participant'].unique()\n",
    "# Shuffle the participants\n",
    "np.random.shuffle(all_participants)\n",
    "# Split into two groups\n",
    "#train_participants = all_participants[:24]  # First 24 participants\n",
    "test_participants = all_participants[24:]  # Remaining 8 participants"
   ]
  },
  {
   "cell_type": "code",
   "execution_count": 5,
   "id": "cb072fa3",
   "metadata": {},
   "outputs": [],
   "source": [
    "# Prepare data\n",
    "data_splits = prepare_data(\n",
    "    expdef_df, 'feature', 'Gesture_Encoded', \n",
    "    all_participants, test_participants, \n",
    "    training_trials_per_gesture=8, finetuning_trials_per_gesture=3,\n",
    ")"
   ]
  },
  {
   "cell_type": "code",
   "execution_count": 6,
   "id": "7423158d",
   "metadata": {},
   "outputs": [],
   "source": [
    "features_df = pd.DataFrame(data_splits['train']['feature'])\n",
    "# Create a new column 'features' that contains all 80 columns as lists\n",
    "features_df['feature'] = features_df.apply(lambda row: row.tolist(), axis=1)\n",
    "# Keep only the new combined column\n",
    "features_df = features_df[['feature']]\n",
    "# Combine with labels and participant_ids into a single DataFrame\n",
    "train_df = pd.concat([features_df, pd.Series(data_splits['train']['labels'], name='Gesture_Encoded'), pd.Series(data_splits['train']['participant_ids'], name='participant_ids')], axis=1)\n",
    "label_encoder = LabelEncoder()\n",
    "train_df['Cluster_ID'] = label_encoder.fit_transform(train_df['participant_ids'])\n",
    "\n",
    "features_df = pd.DataFrame(data_splits['intra_subject_test']['feature'])\n",
    "# Create a new column 'features' that contains all 80 columns as lists\n",
    "features_df['feature'] = features_df.apply(lambda row: row.tolist(), axis=1)\n",
    "# Keep only the new combined column\n",
    "features_df = features_df[['feature']]\n",
    "# Combine with labels and participant_ids into a single DataFrame\n",
    "test_df = pd.concat([features_df, pd.Series(data_splits['intra_subject_test']['labels'], name='Gesture_Encoded'), pd.Series(data_splits['intra_subject_test']['participant_ids'], name='participant_ids')], axis=1)\n",
    "label_encoder = LabelEncoder()\n",
    "test_df['Cluster_ID'] = label_encoder.fit_transform(test_df['participant_ids'])\n",
    "\n",
    "# ENTIRELY WITHHOLDING CROSS CLUSTER DATASET (NOVEL TEST SUBJECTS) FOR NOW. \n",
    "# TODO: Pull this from other file\n",
    "#test_df\n",
    "#features_df = pd.DataFrame(data_splits['train']['features'])\n",
    "## Create a new column 'features' that contains all 80 columns as lists\n",
    "#features_df['features'] = features_df.apply(lambda row: row.tolist(), axis=1)\n",
    "## Keep only the new combined column\n",
    "#features_df = features_df[['features']]\n",
    "## Combine with labels and participant_ids into a single DataFrame\n",
    "#train_df = pd.concat([features_df, pd.Series(data_splits['train']['labels'], name='Gesture_Encoded'), pd.Series(data_splits['train']['participant_ids'], name='participant_ids')], axis=1)"
   ]
  },
  {
   "cell_type": "code",
   "execution_count": 7,
   "id": "91d302fd",
   "metadata": {},
   "outputs": [],
   "source": [
    "data_dfs_dict = {'train':train_df, 'test':test_df}\n",
    "\n",
    "# Need to update Cluster_ID col at the end of each round, for both dfs"
   ]
  },
  {
   "cell_type": "code",
   "execution_count": 8,
   "id": "fab5959d",
   "metadata": {},
   "outputs": [
    {
     "data": {
      "text/html": [
       "<div>\n",
       "<style scoped>\n",
       "    .dataframe tbody tr th:only-of-type {\n",
       "        vertical-align: middle;\n",
       "    }\n",
       "\n",
       "    .dataframe tbody tr th {\n",
       "        vertical-align: top;\n",
       "    }\n",
       "\n",
       "    .dataframe thead th {\n",
       "        text-align: right;\n",
       "    }\n",
       "</style>\n",
       "<table border=\"1\" class=\"dataframe\">\n",
       "  <thead>\n",
       "    <tr style=\"text-align: right;\">\n",
       "      <th></th>\n",
       "      <th>feature</th>\n",
       "      <th>Gesture_Encoded</th>\n",
       "      <th>participant_ids</th>\n",
       "      <th>Cluster_ID</th>\n",
       "    </tr>\n",
       "  </thead>\n",
       "  <tbody>\n",
       "    <tr>\n",
       "      <th>0</th>\n",
       "      <td>[4.0728441780827485, -6.216633410388578, -15.0...</td>\n",
       "      <td>0</td>\n",
       "      <td>P128</td>\n",
       "      <td>22</td>\n",
       "    </tr>\n",
       "    <tr>\n",
       "      <th>1</th>\n",
       "      <td>[4.842766138855771, -7.933026853320965, -18.38...</td>\n",
       "      <td>0</td>\n",
       "      <td>P128</td>\n",
       "      <td>22</td>\n",
       "    </tr>\n",
       "    <tr>\n",
       "      <th>2</th>\n",
       "      <td>[4.343725560839635, -6.20391996380322, -15.560...</td>\n",
       "      <td>0</td>\n",
       "      <td>P128</td>\n",
       "      <td>22</td>\n",
       "    </tr>\n",
       "    <tr>\n",
       "      <th>3</th>\n",
       "      <td>[4.972292120731378, -6.996600730998998, -17.60...</td>\n",
       "      <td>0</td>\n",
       "      <td>P128</td>\n",
       "      <td>22</td>\n",
       "    </tr>\n",
       "    <tr>\n",
       "      <th>4</th>\n",
       "      <td>[4.942130684716379, -6.513267267205743, -16.81...</td>\n",
       "      <td>0</td>\n",
       "      <td>P128</td>\n",
       "      <td>22</td>\n",
       "    </tr>\n",
       "  </tbody>\n",
       "</table>\n",
       "</div>"
      ],
      "text/plain": [
       "                                             feature  Gesture_Encoded   \n",
       "0  [4.0728441780827485, -6.216633410388578, -15.0...                0  \\\n",
       "1  [4.842766138855771, -7.933026853320965, -18.38...                0   \n",
       "2  [4.343725560839635, -6.20391996380322, -15.560...                0   \n",
       "3  [4.972292120731378, -6.996600730998998, -17.60...                0   \n",
       "4  [4.942130684716379, -6.513267267205743, -16.81...                0   \n",
       "\n",
       "  participant_ids  Cluster_ID  \n",
       "0            P128          22  \n",
       "1            P128          22  \n",
       "2            P128          22  \n",
       "3            P128          22  \n",
       "4            P128          22  "
      ]
     },
     "execution_count": 8,
     "metadata": {},
     "output_type": "execute_result"
    }
   ],
   "source": [
    "train_df.head()"
   ]
  },
  {
   "cell_type": "code",
   "execution_count": 9,
   "id": "65191978",
   "metadata": {},
   "outputs": [
    {
     "name": "stdout",
     "output_type": "stream",
     "text": [
      "Data has been loaded successfully!\n"
     ]
    }
   ],
   "source": [
    "# Load the CLUSTERING RESULTS DATA\n",
    "with open('C:\\\\Users\\\\kdmen\\\\Repos\\\\fl-gestures\\\\ELEC573_Proj\\\\results\\\\20250131_1558_DynamicMomonaNet_agglo_merge_res.pkl', 'rb') as f:\n",
    "    merge_log = pickle.load(f)\n",
    "    intra_cluster_performance = pickle.load(f)\n",
    "    cross_cluster_performance = pickle.load(f)\n",
    "    nested_clus_model_dict = pickle.load(f)\n",
    "\n",
    "print(\"Data has been loaded successfully!\")"
   ]
  },
  {
   "cell_type": "markdown",
   "id": "44a84f81",
   "metadata": {},
   "source": [
    "# Finetuning Process"
   ]
  },
  {
   "cell_type": "code",
   "execution_count": 10,
   "id": "3f7262f7",
   "metadata": {},
   "outputs": [
    {
     "name": "stdout",
     "output_type": "stream",
     "text": [
      "Cluster list:\n",
      "[0, 1, 2, 3, 4, 5, 6, 7, 8, 9, 10, 11, 12, 13, 14, 15, 16, 17, 18, 19, 20, 21, 22, 23, 24, 25, 26, 27, 28, 29, 30, 31, 32, 33, 34, 35, 36, 37, 38, 39, 40, 41]\n",
      "\n",
      "Cluster 41 model:\n",
      "DynamicMomonaNet(\n",
      "  (conv_layers): ModuleList(\n",
      "    (0): Sequential(\n",
      "      (0): Conv1d(16, 32, kernel_size=(5,), stride=(1,))\n",
      "      (1): Identity()\n",
      "    )\n",
      "    (1): Sequential(\n",
      "      (0): Conv1d(32, 64, kernel_size=(3,), stride=(1,))\n",
      "      (1): Identity()\n",
      "    )\n",
      "    (2): Sequential(\n",
      "      (0): Conv1d(64, 128, kernel_size=(2,), stride=(1,))\n",
      "      (1): Identity()\n",
      "    )\n",
      "  )\n",
      "  (pool): MaxPool1d(kernel_size=2, stride=1, padding=0, dilation=1, ceil_mode=False)\n",
      "  (dense_cnn_lstm): Sequential(\n",
      "    (0): Linear(in_features=128, out_features=128, bias=True)\n",
      "    (1): Identity()\n",
      "  )\n",
      "  (lstm): LSTM(128, 16, batch_first=True)\n",
      "  (fc_layers): ModuleList(\n",
      "    (0): Sequential(\n",
      "      (0): Linear(in_features=896, out_features=128, bias=True)\n",
      "      (1): Identity()\n",
      "    )\n",
      "    (1): Sequential(\n",
      "      (0): Linear(in_features=128, out_features=64, bias=True)\n",
      "      (1): Identity()\n",
      "    )\n",
      "  )\n",
      "  (output_layer): Linear(in_features=64, out_features=10, bias=True)\n",
      "  (relu): ReLU()\n",
      "  (flatten): Flatten(start_dim=1, end_dim=-1)\n",
      ")\n"
     ]
    }
   ],
   "source": [
    "# This needs to be formalized......\n",
    "\n",
    "cluster_lst = list(nested_clus_model_dict['Iter18'].keys())\n",
    "print(\"Cluster list:\")\n",
    "print(cluster_lst)\n",
    "print()\n",
    "print(\"Cluster 41 model:\")\n",
    "print(nested_clus_model_dict['Iter18'][41])"
   ]
  },
  {
   "cell_type": "code",
   "execution_count": 11,
   "id": "68c54629",
   "metadata": {},
   "outputs": [
    {
     "name": "stdout",
     "output_type": "stream",
     "text": [
      "Full Path: C:\\Users\\kdmen\\Repos\\fl-gestures\\ELEC573_Proj\\models\\20250206_1732\n"
     ]
    },
    {
     "ename": "ValueError",
     "evalue": "Expected more than 1 value per channel when training, got input size torch.Size([1, 128, 1])",
     "output_type": "error",
     "traceback": [
      "\u001b[1;31m---------------------------------------------------------------------------\u001b[0m",
      "\u001b[1;31mValueError\u001b[0m                                Traceback (most recent call last)",
      "Cell \u001b[1;32mIn[11], line 6\u001b[0m\n\u001b[0;32m      4\u001b[0m \u001b[38;5;28mprint\u001b[39m(\u001b[38;5;124m\"\u001b[39m\u001b[38;5;124mFull Path:\u001b[39m\u001b[38;5;124m\"\u001b[39m, full_path)\n\u001b[0;32m      5\u001b[0m \u001b[38;5;66;03m# Load the pretrained model\u001b[39;00m\n\u001b[1;32m----> 6\u001b[0m pretrained_generic_CNN_model \u001b[38;5;241m=\u001b[39m \u001b[43mELEC573Net\u001b[49m\u001b[43m(\u001b[49m\u001b[43mMY_CONFIG\u001b[49m\u001b[43m)\u001b[49m\n\u001b[0;32m      7\u001b[0m pretrained_generic_CNN_model\u001b[38;5;241m.\u001b[39mload_state_dict(torch\u001b[38;5;241m.\u001b[39mload(full_path\u001b[38;5;241m+\u001b[39m\u001b[38;5;124m\"\u001b[39m\u001b[38;5;130;01m\\\\\u001b[39;00m\u001b[38;5;124mpretrained_ELEC573Net_model_kernel3.pth\u001b[39m\u001b[38;5;124m\"\u001b[39m))\n",
      "File \u001b[1;32mc:\\Users\\kdmen\\Repos\\fl-gestures\\ELEC573_Proj\\revamped_model_classes.py:143\u001b[0m, in \u001b[0;36mELEC573Net.__init__\u001b[1;34m(self, config)\u001b[0m\n\u001b[0;32m    137\u001b[0m \u001b[38;5;66;03m# Automatically compute the flattened size\u001b[39;00m\n\u001b[0;32m    138\u001b[0m \u001b[38;5;28mself\u001b[39m\u001b[38;5;241m.\u001b[39mfeature_extractor \u001b[38;5;241m=\u001b[39m nn\u001b[38;5;241m.\u001b[39mSequential(\n\u001b[0;32m    139\u001b[0m     \u001b[38;5;28mself\u001b[39m\u001b[38;5;241m.\u001b[39mconv1, \u001b[38;5;28mself\u001b[39m\u001b[38;5;241m.\u001b[39mbn1, \u001b[38;5;28mself\u001b[39m\u001b[38;5;241m.\u001b[39mrelu, \u001b[38;5;28mself\u001b[39m\u001b[38;5;241m.\u001b[39mmaxpool,\n\u001b[0;32m    140\u001b[0m     \u001b[38;5;28mself\u001b[39m\u001b[38;5;241m.\u001b[39mconv2, \u001b[38;5;28mself\u001b[39m\u001b[38;5;241m.\u001b[39mbn2, \u001b[38;5;28mself\u001b[39m\u001b[38;5;241m.\u001b[39mrelu, \u001b[38;5;28mself\u001b[39m\u001b[38;5;241m.\u001b[39mmaxpool,\n\u001b[0;32m    141\u001b[0m     \u001b[38;5;28mself\u001b[39m\u001b[38;5;241m.\u001b[39mconv3, \u001b[38;5;28mself\u001b[39m\u001b[38;5;241m.\u001b[39mbn3, \u001b[38;5;28mself\u001b[39m\u001b[38;5;241m.\u001b[39mrelu\n\u001b[0;32m    142\u001b[0m )\n\u001b[1;32m--> 143\u001b[0m \u001b[38;5;28mself\u001b[39m\u001b[38;5;241m.\u001b[39mflattened_size \u001b[38;5;241m=\u001b[39m \u001b[38;5;28;43mself\u001b[39;49m\u001b[38;5;241;43m.\u001b[39;49m\u001b[43mcompute_flattened_size\u001b[49m\u001b[43m(\u001b[49m\u001b[43m)\u001b[49m\n\u001b[0;32m    145\u001b[0m \u001b[38;5;66;03m# Fully Connected Layers\u001b[39;00m\n\u001b[0;32m    146\u001b[0m \u001b[38;5;28mself\u001b[39m\u001b[38;5;241m.\u001b[39mfc1 \u001b[38;5;241m=\u001b[39m nn\u001b[38;5;241m.\u001b[39mLinear(\u001b[38;5;28mself\u001b[39m\u001b[38;5;241m.\u001b[39mflattened_size, config[\u001b[38;5;124m\"\u001b[39m\u001b[38;5;124mfc_layers\u001b[39m\u001b[38;5;124m\"\u001b[39m][\u001b[38;5;241m0\u001b[39m])\n",
      "File \u001b[1;32mc:\\Users\\kdmen\\Repos\\fl-gestures\\ELEC573_Proj\\revamped_model_classes.py:154\u001b[0m, in \u001b[0;36mELEC573Net.compute_flattened_size\u001b[1;34m(self)\u001b[0m\n\u001b[0;32m    152\u001b[0m test_input \u001b[38;5;241m=\u001b[39m torch\u001b[38;5;241m.\u001b[39mrandn(\u001b[38;5;241m1\u001b[39m, \u001b[38;5;241m1\u001b[39m, \u001b[38;5;28mself\u001b[39m\u001b[38;5;241m.\u001b[39minput_dim)\n\u001b[0;32m    153\u001b[0m \u001b[38;5;28;01mwith\u001b[39;00m torch\u001b[38;5;241m.\u001b[39mno_grad():\n\u001b[1;32m--> 154\u001b[0m     test_x \u001b[38;5;241m=\u001b[39m \u001b[38;5;28;43mself\u001b[39;49m\u001b[38;5;241;43m.\u001b[39;49m\u001b[43mfeature_extractor\u001b[49m\u001b[43m(\u001b[49m\u001b[43mtest_input\u001b[49m\u001b[43m)\u001b[49m\n\u001b[0;32m    155\u001b[0m     \u001b[38;5;28;01mif\u001b[39;00m test_x\u001b[38;5;241m.\u001b[39mshape[\u001b[38;5;241m-\u001b[39m\u001b[38;5;241m1\u001b[39m] \u001b[38;5;241m>\u001b[39m \u001b[38;5;241m1\u001b[39m:  \u001b[38;5;66;03m# Apply last maxpool conditionally\u001b[39;00m\n\u001b[0;32m    156\u001b[0m         test_x \u001b[38;5;241m=\u001b[39m \u001b[38;5;28mself\u001b[39m\u001b[38;5;241m.\u001b[39mmaxpool(test_x)\n",
      "File \u001b[1;32mc:\\Users\\kdmen\\anaconda3\\envs\\fl_torch\\lib\\site-packages\\torch\\nn\\modules\\module.py:1501\u001b[0m, in \u001b[0;36mModule._call_impl\u001b[1;34m(self, *args, **kwargs)\u001b[0m\n\u001b[0;32m   1496\u001b[0m \u001b[38;5;66;03m# If we don't have any hooks, we want to skip the rest of the logic in\u001b[39;00m\n\u001b[0;32m   1497\u001b[0m \u001b[38;5;66;03m# this function, and just call forward.\u001b[39;00m\n\u001b[0;32m   1498\u001b[0m \u001b[38;5;28;01mif\u001b[39;00m \u001b[38;5;129;01mnot\u001b[39;00m (\u001b[38;5;28mself\u001b[39m\u001b[38;5;241m.\u001b[39m_backward_hooks \u001b[38;5;129;01mor\u001b[39;00m \u001b[38;5;28mself\u001b[39m\u001b[38;5;241m.\u001b[39m_backward_pre_hooks \u001b[38;5;129;01mor\u001b[39;00m \u001b[38;5;28mself\u001b[39m\u001b[38;5;241m.\u001b[39m_forward_hooks \u001b[38;5;129;01mor\u001b[39;00m \u001b[38;5;28mself\u001b[39m\u001b[38;5;241m.\u001b[39m_forward_pre_hooks\n\u001b[0;32m   1499\u001b[0m         \u001b[38;5;129;01mor\u001b[39;00m _global_backward_pre_hooks \u001b[38;5;129;01mor\u001b[39;00m _global_backward_hooks\n\u001b[0;32m   1500\u001b[0m         \u001b[38;5;129;01mor\u001b[39;00m _global_forward_hooks \u001b[38;5;129;01mor\u001b[39;00m _global_forward_pre_hooks):\n\u001b[1;32m-> 1501\u001b[0m     \u001b[38;5;28;01mreturn\u001b[39;00m forward_call(\u001b[38;5;241m*\u001b[39margs, \u001b[38;5;241m*\u001b[39m\u001b[38;5;241m*\u001b[39mkwargs)\n\u001b[0;32m   1502\u001b[0m \u001b[38;5;66;03m# Do not call functions when jit is used\u001b[39;00m\n\u001b[0;32m   1503\u001b[0m full_backward_hooks, non_full_backward_hooks \u001b[38;5;241m=\u001b[39m [], []\n",
      "File \u001b[1;32mc:\\Users\\kdmen\\anaconda3\\envs\\fl_torch\\lib\\site-packages\\torch\\nn\\modules\\container.py:217\u001b[0m, in \u001b[0;36mSequential.forward\u001b[1;34m(self, input)\u001b[0m\n\u001b[0;32m    215\u001b[0m \u001b[38;5;28;01mdef\u001b[39;00m \u001b[38;5;21mforward\u001b[39m(\u001b[38;5;28mself\u001b[39m, \u001b[38;5;28minput\u001b[39m):\n\u001b[0;32m    216\u001b[0m     \u001b[38;5;28;01mfor\u001b[39;00m module \u001b[38;5;129;01min\u001b[39;00m \u001b[38;5;28mself\u001b[39m:\n\u001b[1;32m--> 217\u001b[0m         \u001b[38;5;28minput\u001b[39m \u001b[38;5;241m=\u001b[39m \u001b[43mmodule\u001b[49m\u001b[43m(\u001b[49m\u001b[38;5;28;43minput\u001b[39;49m\u001b[43m)\u001b[49m\n\u001b[0;32m    218\u001b[0m     \u001b[38;5;28;01mreturn\u001b[39;00m \u001b[38;5;28minput\u001b[39m\n",
      "File \u001b[1;32mc:\\Users\\kdmen\\anaconda3\\envs\\fl_torch\\lib\\site-packages\\torch\\nn\\modules\\module.py:1501\u001b[0m, in \u001b[0;36mModule._call_impl\u001b[1;34m(self, *args, **kwargs)\u001b[0m\n\u001b[0;32m   1496\u001b[0m \u001b[38;5;66;03m# If we don't have any hooks, we want to skip the rest of the logic in\u001b[39;00m\n\u001b[0;32m   1497\u001b[0m \u001b[38;5;66;03m# this function, and just call forward.\u001b[39;00m\n\u001b[0;32m   1498\u001b[0m \u001b[38;5;28;01mif\u001b[39;00m \u001b[38;5;129;01mnot\u001b[39;00m (\u001b[38;5;28mself\u001b[39m\u001b[38;5;241m.\u001b[39m_backward_hooks \u001b[38;5;129;01mor\u001b[39;00m \u001b[38;5;28mself\u001b[39m\u001b[38;5;241m.\u001b[39m_backward_pre_hooks \u001b[38;5;129;01mor\u001b[39;00m \u001b[38;5;28mself\u001b[39m\u001b[38;5;241m.\u001b[39m_forward_hooks \u001b[38;5;129;01mor\u001b[39;00m \u001b[38;5;28mself\u001b[39m\u001b[38;5;241m.\u001b[39m_forward_pre_hooks\n\u001b[0;32m   1499\u001b[0m         \u001b[38;5;129;01mor\u001b[39;00m _global_backward_pre_hooks \u001b[38;5;129;01mor\u001b[39;00m _global_backward_hooks\n\u001b[0;32m   1500\u001b[0m         \u001b[38;5;129;01mor\u001b[39;00m _global_forward_hooks \u001b[38;5;129;01mor\u001b[39;00m _global_forward_pre_hooks):\n\u001b[1;32m-> 1501\u001b[0m     \u001b[38;5;28;01mreturn\u001b[39;00m forward_call(\u001b[38;5;241m*\u001b[39margs, \u001b[38;5;241m*\u001b[39m\u001b[38;5;241m*\u001b[39mkwargs)\n\u001b[0;32m   1502\u001b[0m \u001b[38;5;66;03m# Do not call functions when jit is used\u001b[39;00m\n\u001b[0;32m   1503\u001b[0m full_backward_hooks, non_full_backward_hooks \u001b[38;5;241m=\u001b[39m [], []\n",
      "File \u001b[1;32mc:\\Users\\kdmen\\anaconda3\\envs\\fl_torch\\lib\\site-packages\\torch\\nn\\modules\\batchnorm.py:171\u001b[0m, in \u001b[0;36m_BatchNorm.forward\u001b[1;34m(self, input)\u001b[0m\n\u001b[0;32m    164\u001b[0m     bn_training \u001b[38;5;241m=\u001b[39m (\u001b[38;5;28mself\u001b[39m\u001b[38;5;241m.\u001b[39mrunning_mean \u001b[38;5;129;01mis\u001b[39;00m \u001b[38;5;28;01mNone\u001b[39;00m) \u001b[38;5;129;01mand\u001b[39;00m (\u001b[38;5;28mself\u001b[39m\u001b[38;5;241m.\u001b[39mrunning_var \u001b[38;5;129;01mis\u001b[39;00m \u001b[38;5;28;01mNone\u001b[39;00m)\n\u001b[0;32m    166\u001b[0m \u001b[38;5;124mr\u001b[39m\u001b[38;5;124;03m\"\"\"\u001b[39;00m\n\u001b[0;32m    167\u001b[0m \u001b[38;5;124;03mBuffers are only updated if they are to be tracked and we are in training mode. Thus they only need to be\u001b[39;00m\n\u001b[0;32m    168\u001b[0m \u001b[38;5;124;03mpassed when the update should occur (i.e. in training mode when they are tracked), or when buffer stats are\u001b[39;00m\n\u001b[0;32m    169\u001b[0m \u001b[38;5;124;03mused for normalization (i.e. in eval mode when buffers are not None).\u001b[39;00m\n\u001b[0;32m    170\u001b[0m \u001b[38;5;124;03m\"\"\"\u001b[39;00m\n\u001b[1;32m--> 171\u001b[0m \u001b[38;5;28;01mreturn\u001b[39;00m \u001b[43mF\u001b[49m\u001b[38;5;241;43m.\u001b[39;49m\u001b[43mbatch_norm\u001b[49m\u001b[43m(\u001b[49m\n\u001b[0;32m    172\u001b[0m \u001b[43m    \u001b[49m\u001b[38;5;28;43minput\u001b[39;49m\u001b[43m,\u001b[49m\n\u001b[0;32m    173\u001b[0m \u001b[43m    \u001b[49m\u001b[38;5;66;43;03m# If buffers are not to be tracked, ensure that they won't be updated\u001b[39;49;00m\n\u001b[0;32m    174\u001b[0m \u001b[43m    \u001b[49m\u001b[38;5;28;43mself\u001b[39;49m\u001b[38;5;241;43m.\u001b[39;49m\u001b[43mrunning_mean\u001b[49m\n\u001b[0;32m    175\u001b[0m \u001b[43m    \u001b[49m\u001b[38;5;28;43;01mif\u001b[39;49;00m\u001b[43m \u001b[49m\u001b[38;5;129;43;01mnot\u001b[39;49;00m\u001b[43m \u001b[49m\u001b[38;5;28;43mself\u001b[39;49m\u001b[38;5;241;43m.\u001b[39;49m\u001b[43mtraining\u001b[49m\u001b[43m \u001b[49m\u001b[38;5;129;43;01mor\u001b[39;49;00m\u001b[43m \u001b[49m\u001b[38;5;28;43mself\u001b[39;49m\u001b[38;5;241;43m.\u001b[39;49m\u001b[43mtrack_running_stats\u001b[49m\n\u001b[0;32m    176\u001b[0m \u001b[43m    \u001b[49m\u001b[38;5;28;43;01melse\u001b[39;49;00m\u001b[43m \u001b[49m\u001b[38;5;28;43;01mNone\u001b[39;49;00m\u001b[43m,\u001b[49m\n\u001b[0;32m    177\u001b[0m \u001b[43m    \u001b[49m\u001b[38;5;28;43mself\u001b[39;49m\u001b[38;5;241;43m.\u001b[39;49m\u001b[43mrunning_var\u001b[49m\u001b[43m \u001b[49m\u001b[38;5;28;43;01mif\u001b[39;49;00m\u001b[43m \u001b[49m\u001b[38;5;129;43;01mnot\u001b[39;49;00m\u001b[43m \u001b[49m\u001b[38;5;28;43mself\u001b[39;49m\u001b[38;5;241;43m.\u001b[39;49m\u001b[43mtraining\u001b[49m\u001b[43m \u001b[49m\u001b[38;5;129;43;01mor\u001b[39;49;00m\u001b[43m \u001b[49m\u001b[38;5;28;43mself\u001b[39;49m\u001b[38;5;241;43m.\u001b[39;49m\u001b[43mtrack_running_stats\u001b[49m\u001b[43m \u001b[49m\u001b[38;5;28;43;01melse\u001b[39;49;00m\u001b[43m \u001b[49m\u001b[38;5;28;43;01mNone\u001b[39;49;00m\u001b[43m,\u001b[49m\n\u001b[0;32m    178\u001b[0m \u001b[43m    \u001b[49m\u001b[38;5;28;43mself\u001b[39;49m\u001b[38;5;241;43m.\u001b[39;49m\u001b[43mweight\u001b[49m\u001b[43m,\u001b[49m\n\u001b[0;32m    179\u001b[0m \u001b[43m    \u001b[49m\u001b[38;5;28;43mself\u001b[39;49m\u001b[38;5;241;43m.\u001b[39;49m\u001b[43mbias\u001b[49m\u001b[43m,\u001b[49m\n\u001b[0;32m    180\u001b[0m \u001b[43m    \u001b[49m\u001b[43mbn_training\u001b[49m\u001b[43m,\u001b[49m\n\u001b[0;32m    181\u001b[0m \u001b[43m    \u001b[49m\u001b[43mexponential_average_factor\u001b[49m\u001b[43m,\u001b[49m\n\u001b[0;32m    182\u001b[0m \u001b[43m    \u001b[49m\u001b[38;5;28;43mself\u001b[39;49m\u001b[38;5;241;43m.\u001b[39;49m\u001b[43meps\u001b[49m\u001b[43m,\u001b[49m\n\u001b[0;32m    183\u001b[0m \u001b[43m\u001b[49m\u001b[43m)\u001b[49m\n",
      "File \u001b[1;32mc:\\Users\\kdmen\\anaconda3\\envs\\fl_torch\\lib\\site-packages\\torch\\nn\\functional.py:2448\u001b[0m, in \u001b[0;36mbatch_norm\u001b[1;34m(input, running_mean, running_var, weight, bias, training, momentum, eps)\u001b[0m\n\u001b[0;32m   2435\u001b[0m     \u001b[38;5;28;01mreturn\u001b[39;00m handle_torch_function(\n\u001b[0;32m   2436\u001b[0m         batch_norm,\n\u001b[0;32m   2437\u001b[0m         (\u001b[38;5;28minput\u001b[39m, running_mean, running_var, weight, bias),\n\u001b[1;32m   (...)\u001b[0m\n\u001b[0;32m   2445\u001b[0m         eps\u001b[38;5;241m=\u001b[39meps,\n\u001b[0;32m   2446\u001b[0m     )\n\u001b[0;32m   2447\u001b[0m \u001b[38;5;28;01mif\u001b[39;00m training:\n\u001b[1;32m-> 2448\u001b[0m     \u001b[43m_verify_batch_size\u001b[49m\u001b[43m(\u001b[49m\u001b[38;5;28;43minput\u001b[39;49m\u001b[38;5;241;43m.\u001b[39;49m\u001b[43msize\u001b[49m\u001b[43m(\u001b[49m\u001b[43m)\u001b[49m\u001b[43m)\u001b[49m\n\u001b[0;32m   2450\u001b[0m \u001b[38;5;28;01mreturn\u001b[39;00m torch\u001b[38;5;241m.\u001b[39mbatch_norm(\n\u001b[0;32m   2451\u001b[0m     \u001b[38;5;28minput\u001b[39m, weight, bias, running_mean, running_var, training, momentum, eps, torch\u001b[38;5;241m.\u001b[39mbackends\u001b[38;5;241m.\u001b[39mcudnn\u001b[38;5;241m.\u001b[39menabled\n\u001b[0;32m   2452\u001b[0m )\n",
      "File \u001b[1;32mc:\\Users\\kdmen\\anaconda3\\envs\\fl_torch\\lib\\site-packages\\torch\\nn\\functional.py:2416\u001b[0m, in \u001b[0;36m_verify_batch_size\u001b[1;34m(size)\u001b[0m\n\u001b[0;32m   2414\u001b[0m     size_prods \u001b[38;5;241m*\u001b[39m\u001b[38;5;241m=\u001b[39m size[i \u001b[38;5;241m+\u001b[39m \u001b[38;5;241m2\u001b[39m]\n\u001b[0;32m   2415\u001b[0m \u001b[38;5;28;01mif\u001b[39;00m size_prods \u001b[38;5;241m==\u001b[39m \u001b[38;5;241m1\u001b[39m:\n\u001b[1;32m-> 2416\u001b[0m     \u001b[38;5;28;01mraise\u001b[39;00m \u001b[38;5;167;01mValueError\u001b[39;00m(\u001b[38;5;124m\"\u001b[39m\u001b[38;5;124mExpected more than 1 value per channel when training, got input size \u001b[39m\u001b[38;5;132;01m{}\u001b[39;00m\u001b[38;5;124m\"\u001b[39m\u001b[38;5;241m.\u001b[39mformat(size))\n",
      "\u001b[1;31mValueError\u001b[0m: Expected more than 1 value per channel when training, got input size torch.Size([1, 128, 1])"
     ]
    }
   ],
   "source": [
    "#full_path = \"C:\\\\Users\\\\kdmen\\\\Repos\\\\fl-gestures\\\\ELEC573_Proj\\\\models\\\\20250206_1721\"\n",
    "#full_path = \"C:\\\\Users\\\\kdmen\\\\Repos\\\\fl-gestures\\\\ELEC573_Proj\\\\models\\\\20250206_1728\"\n",
    "full_path = \"C:\\\\Users\\\\kdmen\\\\Repos\\\\fl-gestures\\\\ELEC573_Proj\\\\models\\\\20250206_1732\"\n",
    "print(\"Full Path:\", full_path)\n",
    "# Load the pretrained model\n",
    "pretrained_generic_CNN_model = ELEC573Net(MY_CONFIG)\n",
    "pretrained_generic_CNN_model.load_state_dict(torch.load(full_path+\"\\\\pretrained_ELEC573Net_model_kernel3.pth\"))"
   ]
  },
  {
   "cell_type": "code",
   "execution_count": null,
   "id": "d014b587",
   "metadata": {},
   "outputs": [],
   "source": [
    "cluster_lst = list(nested_clus_model_dict['Iter18'].keys())\n",
    "print(\"Cluster list:\")\n",
    "print(cluster_lst)\n",
    "print()\n",
    "print(\"Cluster 41 model:\")\n",
    "print(nested_clus_model_dict['Iter18'][41])"
   ]
  },
  {
   "cell_type": "code",
   "execution_count": 13,
   "id": "d6f461fa",
   "metadata": {},
   "outputs": [],
   "source": [
    "# Prepare data\n",
    "one_trial_data_splits = prepare_data(\n",
    "    expdef_df, 'feature', 'Gesture_Encoded', \n",
    "    all_participants, test_participants, \n",
    "    training_trials_per_gesture=1, finetuning_trials_per_gesture=1,\n",
    ")\n",
    "\n",
    "three_trial_data_splits = prepare_data(\n",
    "    expdef_df, 'feature', 'Gesture_Encoded', \n",
    "    all_participants, test_participants, \n",
    "    training_trials_per_gesture=3, finetuning_trials_per_gesture=3,\n",
    ")\n",
    "\n",
    "five_trial_data_splits = prepare_data(\n",
    "    expdef_df, 'feature', 'Gesture_Encoded', \n",
    "    all_participants, test_participants, \n",
    "    training_trials_per_gesture=5, finetuning_trials_per_gesture=5,\n",
    ")"
   ]
  },
  {
   "cell_type": "code",
   "execution_count": null,
   "id": "6c621f76",
   "metadata": {},
   "outputs": [],
   "source": [
    "three_trial_data_splits.keys()"
   ]
  },
  {
   "cell_type": "code",
   "execution_count": null,
   "id": "75e153c8",
   "metadata": {},
   "outputs": [],
   "source": [
    "three_trial_data_splits['novel_trainFT'].keys()"
   ]
  },
  {
   "cell_type": "code",
   "execution_count": null,
   "id": "b5885603",
   "metadata": {},
   "outputs": [],
   "source": [
    "#def full_comparison_run(finetuning_datasplits, cluster_assgnmt_data_splits, config, pretrained_generic_model,\n",
    "#                        nested_clus_model_dict, model_str, cluster_iter_str='Iter18'):\n",
    "\n",
    "data_dict_1_3 = full_comparison_run(three_trial_data_splits, one_trial_data_splits, MY_CONFIG, pretrained_generic_model,\n",
    "                        nested_clus_model_dict, MODEL_STR, cluster_iter_str='Iter18')\n",
    "\n",
    "# I have no idea what full_comparison_run is doing, if it's up to date, if it trains local, if it does finetuning, etc"
   ]
  },
  {
   "cell_type": "code",
   "execution_count": null,
   "id": "d8779163",
   "metadata": {},
   "outputs": [],
   "source": [
    "plot_model_acc_boxplots(data_dict_1_3, my_title=f\"{MODEL_STR} Accuracy: 1 Trial Assignment, 3 Trial Train\", save_fig=False, plot_save_name=f\"Final_{MODEL_STR}_Acc_1TA_3TT\")\n"
   ]
  },
  {
   "cell_type": "markdown",
   "id": "99d95505",
   "metadata": {},
   "source": [
    "## Trying to improve cluster assignment: using 3 trials instead of just 1 (now all 3s)"
   ]
  },
  {
   "cell_type": "code",
   "execution_count": null,
   "id": "b1de8ed6",
   "metadata": {},
   "outputs": [],
   "source": [
    "data_dict_3_3 = full_comparison_run(data_splits, one_trial_data_splits, MY_CONFIG, pretrained_generic_model,\n",
    "                        nested_clus_model_dict, MODEL_STR, cluster_iter_str='Iter18')"
   ]
  },
  {
   "cell_type": "code",
   "execution_count": null,
   "id": "2b918a28",
   "metadata": {},
   "outputs": [],
   "source": [
    "plot_model_acc_boxplots(data_dict_3_3, my_title=f\"{MODEL_STR} Accuracy: 3 Trial Assignment, 3 Trial Train\", save_fig=False, plot_save_name=f\"Final_{MODEL_STR}_Acc_3TA_3TT\")\n"
   ]
  },
  {
   "cell_type": "markdown",
   "id": "63f02b6b",
   "metadata": {},
   "source": [
    "## Changing to use 5 trials for training (local+FT)"
   ]
  },
  {
   "cell_type": "code",
   "execution_count": null,
   "id": "35b733c6",
   "metadata": {},
   "outputs": [],
   "source": [
    "data_dict_5_5 = full_comparison_run(five_trial_data_splits, five_trial_data_splits, MY_CONFIG, pretrained_generic_model,\n",
    "                        nested_clus_model_dict, MODEL_STR, cluster_iter_str='Iter18')"
   ]
  },
  {
   "cell_type": "code",
   "execution_count": null,
   "id": "531c67ff",
   "metadata": {},
   "outputs": [],
   "source": [
    "plot_model_acc_boxplots(data_dict_5_5, my_title=f\"{MODEL_STR} Accuracy: 5 Trial Assignment, 5 Trial Train\", save_fig=False, plot_save_name=f\"Final_{MODEL_STR}_Acc_5TA_5TT\")\n"
   ]
  },
  {
   "cell_type": "markdown",
   "id": "f15319da",
   "metadata": {},
   "source": [
    "## Changing to use just 1 trial for training (local+FT)"
   ]
  },
  {
   "cell_type": "code",
   "execution_count": null,
   "id": "626fee74",
   "metadata": {},
   "outputs": [],
   "source": [
    "data_dict_1_1 = full_comparison_run(one_trial_data_splits, one_trial_data_splits, MY_CONFIG, pretrained_generic_model,\n",
    "                        nested_clus_model_dict, MODEL_STR, cluster_iter_str='Iter18')"
   ]
  },
  {
   "cell_type": "code",
   "execution_count": null,
   "id": "65ddc832",
   "metadata": {},
   "outputs": [],
   "source": [
    "plot_model_acc_boxplots(data_dict_1_1, my_title=f\"{MODEL_STR} Accuracy: 1 Trial Assignment, 1 Trial Train\", save_fig=False, plot_save_name=f\"Final_{MODEL_STR}_Acc_1TA_1TT\")"
   ]
  },
  {
   "cell_type": "code",
   "execution_count": null,
   "id": "2123bac7",
   "metadata": {},
   "outputs": [],
   "source": []
  }
 ],
 "metadata": {
  "kernelspec": {
   "display_name": "fl_torch",
   "language": "python",
   "name": "python3"
  },
  "language_info": {
   "codemirror_mode": {
    "name": "ipython",
    "version": 3
   },
   "file_extension": ".py",
   "mimetype": "text/x-python",
   "name": "python",
   "nbconvert_exporter": "python",
   "pygments_lexer": "ipython3",
   "version": "3.10.10"
  }
 },
 "nbformat": 4,
 "nbformat_minor": 5
}
