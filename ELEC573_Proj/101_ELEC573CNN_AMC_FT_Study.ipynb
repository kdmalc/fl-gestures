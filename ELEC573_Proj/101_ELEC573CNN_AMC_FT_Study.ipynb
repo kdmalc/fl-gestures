{
 "cells": [
  {
   "cell_type": "markdown",
   "id": "7c0fef36",
   "metadata": {},
   "source": [
    "> __Purpose:__ This NB visualizes the results of the full study for ELEC573Net. Will be adding different feature engineerings here."
   ]
  },
  {
   "cell_type": "code",
   "execution_count": 1,
   "id": "a62336d2",
   "metadata": {},
   "outputs": [
    {
     "name": "stdout",
     "output_type": "stream",
     "text": [
      "Current Working Directory:  c:\\Users\\kdmen\\Repos\\fl-gestures\\ELEC573_Proj\n"
     ]
    }
   ],
   "source": [
    "import numpy as np\n",
    "from sklearn.preprocessing import LabelEncoder\n",
    "import matplotlib.pyplot as plt\n",
    "import pandas as pd\n",
    "\n",
    "np.random.seed(42) \n",
    "\n",
    "from agglo_model_clust import *\n",
    "from cluster_acc_viz_funcs import *\n",
    "from DNN_FT_funcs import *\n",
    "from DNN_AMC_funcs import *\n",
    "from full_study_funcs import * \n",
    "from revamped_model_classes import *\n",
    "from hyperparam_tuned_configs import *\n",
    "\n",
    "import os\n",
    "cwd = os.getcwd()\n",
    "print(\"Current Working Directory: \", cwd)\n"
   ]
  },
  {
   "cell_type": "code",
   "execution_count": 2,
   "id": "baea15b3",
   "metadata": {},
   "outputs": [],
   "source": [
    "MODEL_STR = \"ELEC573Net\"\n",
    "MY_CONFIG = ELEC573Net_config\n",
    "SAVE_FIGS = False\n",
    "timestamp = datetime.now().strftime(\"%Y%m%d_%H%M\")\n",
    "\n",
    "# Train/test user split: 24/8\n",
    "\n"
   ]
  },
  {
   "cell_type": "code",
   "execution_count": 3,
   "id": "33b80c7d",
   "metadata": {},
   "outputs": [
    {
     "name": "stdout",
     "output_type": "stream",
     "text": [
      "(3200, 6)\n"
     ]
    },
    {
     "data": {
      "text/html": [
       "<div>\n",
       "<style scoped>\n",
       "    .dataframe tbody tr th:only-of-type {\n",
       "        vertical-align: middle;\n",
       "    }\n",
       "\n",
       "    .dataframe tbody tr th {\n",
       "        vertical-align: top;\n",
       "    }\n",
       "\n",
       "    .dataframe thead th {\n",
       "        text-align: right;\n",
       "    }\n",
       "</style>\n",
       "<table border=\"1\" class=\"dataframe\">\n",
       "  <thead>\n",
       "    <tr style=\"text-align: right;\">\n",
       "      <th></th>\n",
       "      <th>Participant</th>\n",
       "      <th>Gesture_ID</th>\n",
       "      <th>Gesture_Num</th>\n",
       "      <th>feature</th>\n",
       "      <th>Gesture_Encoded</th>\n",
       "      <th>Cluster_ID</th>\n",
       "    </tr>\n",
       "  </thead>\n",
       "  <tbody>\n",
       "    <tr>\n",
       "      <th>0</th>\n",
       "      <td>P004</td>\n",
       "      <td>close</td>\n",
       "      <td>1</td>\n",
       "      <td>[[6.079045311063784], [-7.551458873254243], [-...</td>\n",
       "      <td>0</td>\n",
       "      <td>0</td>\n",
       "    </tr>\n",
       "    <tr>\n",
       "      <th>1</th>\n",
       "      <td>P004</td>\n",
       "      <td>close</td>\n",
       "      <td>10</td>\n",
       "      <td>[[5.994789910363704], [-7.978871468164499], [-...</td>\n",
       "      <td>0</td>\n",
       "      <td>0</td>\n",
       "    </tr>\n",
       "    <tr>\n",
       "      <th>2</th>\n",
       "      <td>P004</td>\n",
       "      <td>close</td>\n",
       "      <td>2</td>\n",
       "      <td>[[6.010193380499154], [-7.7063875553339], [-20...</td>\n",
       "      <td>0</td>\n",
       "      <td>0</td>\n",
       "    </tr>\n",
       "    <tr>\n",
       "      <th>3</th>\n",
       "      <td>P004</td>\n",
       "      <td>close</td>\n",
       "      <td>3</td>\n",
       "      <td>[[5.8212078257286874], [-7.463908156909893], [...</td>\n",
       "      <td>0</td>\n",
       "      <td>0</td>\n",
       "    </tr>\n",
       "    <tr>\n",
       "      <th>4</th>\n",
       "      <td>P004</td>\n",
       "      <td>close</td>\n",
       "      <td>4</td>\n",
       "      <td>[[5.974675085061773], [-7.945111601415482], [-...</td>\n",
       "      <td>0</td>\n",
       "      <td>0</td>\n",
       "    </tr>\n",
       "  </tbody>\n",
       "</table>\n",
       "</div>"
      ],
      "text/plain": [
       "  Participant Gesture_ID Gesture_Num   \n",
       "0        P004      close           1  \\\n",
       "1        P004      close          10   \n",
       "2        P004      close           2   \n",
       "3        P004      close           3   \n",
       "4        P004      close           4   \n",
       "\n",
       "                                             feature  Gesture_Encoded   \n",
       "0  [[6.079045311063784], [-7.551458873254243], [-...                0  \\\n",
       "1  [[5.994789910363704], [-7.978871468164499], [-...                0   \n",
       "2  [[6.010193380499154], [-7.7063875553339], [-20...                0   \n",
       "3  [[5.8212078257286874], [-7.463908156909893], [...                0   \n",
       "4  [[5.974675085061773], [-7.945111601415482], [-...                0   \n",
       "\n",
       "   Cluster_ID  \n",
       "0           0  \n",
       "1           0  \n",
       "2           0  \n",
       "3           0  \n",
       "4           0  "
      ]
     },
     "execution_count": 3,
     "metadata": {},
     "output_type": "execute_result"
    }
   ],
   "source": [
    "expdef_df = load_expdef_gestures(feateng_method=MY_CONFIG[\"feature_engr\"])\n",
    "\n",
    "print(expdef_df.shape)\n",
    "expdef_df.head()"
   ]
  },
  {
   "cell_type": "code",
   "execution_count": 4,
   "id": "f7f2bf09",
   "metadata": {},
   "outputs": [],
   "source": [
    "import json\n",
    "# Load the fixed user splits\n",
    "with open(\"24_8_user_splits.json\", \"r\") as f:\n",
    "    splits = json.load(f)\n",
    "all_participants = splits[\"all_users\"]\n",
    "test_participants = splits[\"test_users\"]\n"
   ]
  },
  {
   "cell_type": "code",
   "execution_count": 5,
   "id": "cb072fa3",
   "metadata": {},
   "outputs": [],
   "source": [
    "# Prepare data\n",
    "data_splits = prepare_data(\n",
    "    expdef_df, 'feature', 'Gesture_Encoded', \n",
    "    all_participants, test_participants, \n",
    "    training_trials_per_gesture=8, finetuning_trials_per_gesture=3,\n",
    ")"
   ]
  },
  {
   "cell_type": "code",
   "execution_count": 6,
   "id": "7423158d",
   "metadata": {},
   "outputs": [],
   "source": [
    "features_df = pd.DataFrame(data_splits['train']['feature'])\n",
    "# Create a new column 'features' that contains all 80 columns as lists\n",
    "features_df['feature'] = features_df.apply(lambda row: row.tolist(), axis=1)\n",
    "# Keep only the new combined column\n",
    "features_df = features_df[['feature']]\n",
    "# Combine with labels and participant_ids into a single DataFrame\n",
    "train_df = pd.concat([features_df, pd.Series(data_splits['train']['labels'], name='Gesture_Encoded'), pd.Series(data_splits['train']['participant_ids'], name='participant_ids')], axis=1)\n",
    "label_encoder = LabelEncoder()\n",
    "train_df['Cluster_ID'] = label_encoder.fit_transform(train_df['participant_ids'])\n",
    "\n",
    "features_df = pd.DataFrame(data_splits['intra_subject_test']['feature'])\n",
    "# Create a new column 'features' that contains all 80 columns as lists\n",
    "features_df['feature'] = features_df.apply(lambda row: row.tolist(), axis=1)\n",
    "# Keep only the new combined column\n",
    "features_df = features_df[['feature']]\n",
    "# Combine with labels and participant_ids into a single DataFrame\n",
    "test_df = pd.concat([features_df, pd.Series(data_splits['intra_subject_test']['labels'], name='Gesture_Encoded'), pd.Series(data_splits['intra_subject_test']['participant_ids'], name='participant_ids')], axis=1)\n",
    "label_encoder = LabelEncoder()\n",
    "test_df['Cluster_ID'] = label_encoder.fit_transform(test_df['participant_ids'])\n",
    "\n",
    "# ENTIRELY WITHHOLDING CROSS CLUSTER DATASET (NOVEL TEST SUBJECTS) FOR NOW. \n",
    "# TODO: Pull this from other file\n",
    "#test_df\n",
    "#features_df = pd.DataFrame(data_splits['train']['features'])\n",
    "## Create a new column 'features' that contains all 80 columns as lists\n",
    "#features_df['features'] = features_df.apply(lambda row: row.tolist(), axis=1)\n",
    "## Keep only the new combined column\n",
    "#features_df = features_df[['features']]\n",
    "## Combine with labels and participant_ids into a single DataFrame\n",
    "#train_df = pd.concat([features_df, pd.Series(data_splits['train']['labels'], name='Gesture_Encoded'), pd.Series(data_splits['train']['participant_ids'], name='participant_ids')], axis=1)"
   ]
  },
  {
   "cell_type": "code",
   "execution_count": 7,
   "id": "91d302fd",
   "metadata": {},
   "outputs": [],
   "source": [
    "data_dfs_dict = {'train':train_df, 'test':test_df}\n",
    "\n",
    "# Need to update Cluster_ID col at the end of each round, for both dfs"
   ]
  },
  {
   "cell_type": "code",
   "execution_count": 8,
   "id": "fab5959d",
   "metadata": {},
   "outputs": [
    {
     "data": {
      "text/html": [
       "<div>\n",
       "<style scoped>\n",
       "    .dataframe tbody tr th:only-of-type {\n",
       "        vertical-align: middle;\n",
       "    }\n",
       "\n",
       "    .dataframe tbody tr th {\n",
       "        vertical-align: top;\n",
       "    }\n",
       "\n",
       "    .dataframe thead th {\n",
       "        text-align: right;\n",
       "    }\n",
       "</style>\n",
       "<table border=\"1\" class=\"dataframe\">\n",
       "  <thead>\n",
       "    <tr style=\"text-align: right;\">\n",
       "      <th></th>\n",
       "      <th>feature</th>\n",
       "      <th>Gesture_Encoded</th>\n",
       "      <th>participant_ids</th>\n",
       "      <th>Cluster_ID</th>\n",
       "    </tr>\n",
       "  </thead>\n",
       "  <tbody>\n",
       "    <tr>\n",
       "      <th>0</th>\n",
       "      <td>[5.666009736227325, -7.511511161435965, -19.36...</td>\n",
       "      <td>0</td>\n",
       "      <td>P132</td>\n",
       "      <td>23</td>\n",
       "    </tr>\n",
       "    <tr>\n",
       "      <th>1</th>\n",
       "      <td>[5.570696513420324, -7.241496903815359, -19.23...</td>\n",
       "      <td>0</td>\n",
       "      <td>P132</td>\n",
       "      <td>23</td>\n",
       "    </tr>\n",
       "    <tr>\n",
       "      <th>2</th>\n",
       "      <td>[5.428858775780409, -7.181589528103809, -18.91...</td>\n",
       "      <td>0</td>\n",
       "      <td>P132</td>\n",
       "      <td>23</td>\n",
       "    </tr>\n",
       "    <tr>\n",
       "      <th>3</th>\n",
       "      <td>[6.386627912676518, -8.914330682672142, -23.20...</td>\n",
       "      <td>0</td>\n",
       "      <td>P132</td>\n",
       "      <td>23</td>\n",
       "    </tr>\n",
       "    <tr>\n",
       "      <th>4</th>\n",
       "      <td>[5.689161339648842, -7.217258577710168, -19.19...</td>\n",
       "      <td>0</td>\n",
       "      <td>P132</td>\n",
       "      <td>23</td>\n",
       "    </tr>\n",
       "  </tbody>\n",
       "</table>\n",
       "</div>"
      ],
      "text/plain": [
       "                                             feature  Gesture_Encoded   \n",
       "0  [5.666009736227325, -7.511511161435965, -19.36...                0  \\\n",
       "1  [5.570696513420324, -7.241496903815359, -19.23...                0   \n",
       "2  [5.428858775780409, -7.181589528103809, -18.91...                0   \n",
       "3  [6.386627912676518, -8.914330682672142, -23.20...                0   \n",
       "4  [5.689161339648842, -7.217258577710168, -19.19...                0   \n",
       "\n",
       "  participant_ids  Cluster_ID  \n",
       "0            P132          23  \n",
       "1            P132          23  \n",
       "2            P132          23  \n",
       "3            P132          23  \n",
       "4            P132          23  "
      ]
     },
     "execution_count": 8,
     "metadata": {},
     "output_type": "execute_result"
    }
   ],
   "source": [
    "train_df.head()"
   ]
  },
  {
   "cell_type": "code",
   "execution_count": 9,
   "id": "65191978",
   "metadata": {},
   "outputs": [
    {
     "name": "stdout",
     "output_type": "stream",
     "text": [
      "Data has been loaded successfully!\n"
     ]
    }
   ],
   "source": [
    "# FIRST TIME ONLY: MUST ACTUALLY RUN CLUSTERING!\n",
    "\n",
    "# Load the CLUSTERING RESULTS DATA\n",
    "with open('C:\\\\Users\\\\kdmen\\\\Repos\\\\fl-gestures\\\\ELEC573_Proj\\\\results\\\\clustering_models\\\\20250210_2032\\\\spectralFE80_ELEC573Net_agglo_merge_res.pkl', 'rb') as f:\n",
    "    merge_log = pickle.load(f)\n",
    "    intra_cluster_performance = pickle.load(f)\n",
    "    cross_cluster_performance = pickle.load(f)\n",
    "    nested_clus_model_dict = pickle.load(f)\n",
    "\n",
    "print(\"Data has been loaded successfully!\")"
   ]
  },
  {
   "cell_type": "code",
   "execution_count": 10,
   "id": "a1f787f4",
   "metadata": {},
   "outputs": [
    {
     "name": "stdout",
     "output_type": "stream",
     "text": [
      "Cluster list:\n",
      "[8, 34, 36, 37, 38, 41]\n"
     ]
    }
   ],
   "source": [
    "cluster_lst = list(nested_clus_model_dict['Iter18'].keys())\n",
    "print(\"Cluster list:\")\n",
    "print(cluster_lst)"
   ]
  },
  {
   "cell_type": "code",
   "execution_count": 11,
   "id": "3f7262f7",
   "metadata": {},
   "outputs": [
    {
     "name": "stdout",
     "output_type": "stream",
     "text": [
      "Cluster list:\n",
      "[8, 34, 36, 37, 38, 41]\n"
     ]
    }
   ],
   "source": [
    "# This needs to be formalized......\n",
    "\n",
    "cluster_lst = list(nested_clus_model_dict['Iter18'].keys())\n",
    "print(\"Cluster list:\")\n",
    "print(cluster_lst)"
   ]
  },
  {
   "cell_type": "markdown",
   "id": "44a84f81",
   "metadata": {},
   "source": [
    "# Finetuning Process"
   ]
  },
  {
   "cell_type": "code",
   "execution_count": 12,
   "id": "68c54629",
   "metadata": {},
   "outputs": [
    {
     "name": "stdout",
     "output_type": "stream",
     "text": [
      "Full Path: C:\\Users\\kdmen\\Repos\\fl-gestures\\ELEC573_Proj\\models\\20250211_2019\n"
     ]
    },
    {
     "data": {
      "text/plain": [
       "<All keys matched successfully>"
      ]
     },
     "execution_count": 12,
     "metadata": {},
     "output_type": "execute_result"
    }
   ],
   "source": [
    "full_path = \"C:\\\\Users\\\\kdmen\\\\Repos\\\\fl-gestures\\\\ELEC573_Proj\\\\models\\\\20250211_2019\"\n",
    "print(\"Full Path:\", full_path)\n",
    "# Load the pretrained model\n",
    "pretrained_generic_model = ELEC573Net(MY_CONFIG)\n",
    "pretrained_generic_model.load_state_dict(torch.load(full_path+\"\\\\pretrained_ELEC573Net_model.pth\"))"
   ]
  },
  {
   "cell_type": "code",
   "execution_count": 13,
   "id": "d014b587",
   "metadata": {},
   "outputs": [
    {
     "name": "stdout",
     "output_type": "stream",
     "text": [
      "Cluster list:\n",
      "[8, 34, 36, 37, 38, 41]\n",
      "\n",
      "Cluster 41 model:\n",
      "ELEC573Net(\n",
      "  (relu): ReLU()\n",
      "  (maxpool): MaxPool1d(kernel_size=1, stride=1, padding=0, dilation=1, ceil_mode=False)\n",
      "  (softmax): Softmax(dim=1)\n",
      "  (conv1): Conv1d(1, 32, kernel_size=(5,), stride=(2,), padding=(1,))\n",
      "  (bn1): BatchNorm1d(32, eps=1e-05, momentum=0.1, affine=True, track_running_stats=True)\n",
      "  (conv2): Conv1d(32, 64, kernel_size=(5,), stride=(2,), padding=(1,))\n",
      "  (bn2): BatchNorm1d(64, eps=1e-05, momentum=0.1, affine=True, track_running_stats=True)\n",
      "  (conv3): Conv1d(64, 128, kernel_size=(5,), stride=(2,), padding=(1,))\n",
      "  (bn3): BatchNorm1d(128, eps=1e-05, momentum=0.1, affine=True, track_running_stats=True)\n",
      "  (fc1): Linear(in_features=1152, out_features=128, bias=True)\n",
      "  (dropout): Dropout(p=0.3, inplace=False)\n",
      "  (fc2): Linear(in_features=128, out_features=10, bias=True)\n",
      ")\n"
     ]
    }
   ],
   "source": [
    "cluster_lst = list(nested_clus_model_dict['Iter18'].keys())\n",
    "print(\"Cluster list:\")\n",
    "print(cluster_lst)\n",
    "print()\n",
    "print(\"Cluster 41 model:\")\n",
    "print(nested_clus_model_dict['Iter18'][41])"
   ]
  },
  {
   "cell_type": "code",
   "execution_count": 14,
   "id": "d6f461fa",
   "metadata": {},
   "outputs": [],
   "source": [
    "# Prepare data\n",
    "one_trial_data_splits = prepare_data(\n",
    "    expdef_df, 'feature', 'Gesture_Encoded', \n",
    "    all_participants, test_participants, \n",
    "    training_trials_per_gesture=1, finetuning_trials_per_gesture=1,\n",
    ")\n",
    "\n",
    "three_trial_data_splits = prepare_data(\n",
    "    expdef_df, 'feature', 'Gesture_Encoded', \n",
    "    all_participants, test_participants, \n",
    "    training_trials_per_gesture=3, finetuning_trials_per_gesture=3,\n",
    ")\n",
    "\n",
    "five_trial_data_splits = prepare_data(\n",
    "    expdef_df, 'feature', 'Gesture_Encoded', \n",
    "    all_participants, test_participants, \n",
    "    training_trials_per_gesture=5, finetuning_trials_per_gesture=5,\n",
    ")"
   ]
  },
  {
   "cell_type": "markdown",
   "id": "f15319da",
   "metadata": {},
   "source": [
    "## One-shot training (local+FT)"
   ]
  },
  {
   "cell_type": "code",
   "execution_count": 15,
   "id": "626fee74",
   "metadata": {},
   "outputs": [
    {
     "name": "stdout",
     "output_type": "stream",
     "text": [
      "PID P010, 0/8\n",
      "Epoch 00008: reducing learning rate of group 0 to 1.0000e-06.\n",
      "Cluster 34 had the highest accuracy (0.3)\n",
      "Epoch 00013: reducing learning rate of group 0 to 1.0000e-06.\n",
      "PID P102, 1/8\n",
      "Cluster 41 had the highest accuracy (0.4)\n",
      "Epoch 00006: reducing learning rate of group 0 to 1.0000e-06.\n",
      "PID P104, 2/8\n",
      "Cluster 38 had the highest accuracy (0.7)\n",
      "PID P108, 3/8\n",
      "Cluster 8 had the highest accuracy (0.6)\n",
      "PID P121, 4/8\n",
      "Cluster 41 had the highest accuracy (0.8)\n",
      "PID P123, 5/8\n",
      "Epoch 00011: reducing learning rate of group 0 to 1.0000e-06.\n",
      "Cluster 8 had the highest accuracy (0.1)\n",
      "PID P124, 6/8\n",
      "Epoch 00006: reducing learning rate of group 0 to 1.0000e-06.\n",
      "Cluster 38 had the highest accuracy (0.8)\n",
      "PID P128, 7/8\n",
      "Cluster 37 had the highest accuracy (1.0)\n",
      "Epoch 00006: reducing learning rate of group 0 to 1.0000e-06.\n"
     ]
    }
   ],
   "source": [
    "data_dict_1_1 = full_comparison_run(one_trial_data_splits, one_trial_data_splits, MY_CONFIG, pretrained_generic_model,\n",
    "                        nested_clus_model_dict, MODEL_STR, cluster_iter_str='Iter18')"
   ]
  },
  {
   "cell_type": "code",
   "execution_count": 16,
   "id": "65ddc832",
   "metadata": {},
   "outputs": [
    {
     "data": {
      "image/png": "[encoded data removed]",
      "text/plain": [
       "<Figure size 600x600 with 1 Axes>"
      ]
     },
     "metadata": {},
     "output_type": "display_data"
    }
   ],
   "source": [
    "plot_model_acc_boxplots(data_dict_1_1, my_title=f\"{MODEL_STR} One-shot Finetuning\", save_fig=False, plot_save_name=f\"Final_{MODEL_STR}_Acc_1TA_1TT\")"
   ]
  },
  {
   "cell_type": "markdown",
   "id": "63f02b6b",
   "metadata": {},
   "source": [
    "## Few-shot (5 shot) trials for training (local+FT)"
   ]
  },
  {
   "cell_type": "code",
   "execution_count": 17,
   "id": "35b733c6",
   "metadata": {},
   "outputs": [
    {
     "name": "stdout",
     "output_type": "stream",
     "text": [
      "PID P010, 0/8\n",
      "Epoch 00006: reducing learning rate of group 0 to 1.0000e-06.\n",
      "Cluster 34 had the highest accuracy (0.22)\n",
      "Epoch 00007: reducing learning rate of group 0 to 1.0000e-06.\n",
      "PID P102, 1/8\n",
      "Cluster 41 had the highest accuracy (0.66)\n",
      "Epoch 00007: reducing learning rate of group 0 to 1.0000e-06.\n",
      "PID P104, 2/8\n",
      "Epoch 00013: reducing learning rate of group 0 to 1.0000e-06.\n",
      "Cluster 38 had the highest accuracy (0.68)\n",
      "Epoch 00014: reducing learning rate of group 0 to 1.0000e-06.\n",
      "PID P108, 3/8\n",
      "Cluster 8 had the highest accuracy (0.52)\n",
      "Epoch 00017: reducing learning rate of group 0 to 1.0000e-06.\n",
      "PID P121, 4/8\n",
      "Cluster 41 had the highest accuracy (0.7)\n",
      "Epoch 00019: reducing learning rate of group 0 to 1.0000e-06.\n",
      "PID P123, 5/8\n",
      "Epoch 00013: reducing learning rate of group 0 to 1.0000e-06.\n",
      "Cluster 37 had the highest accuracy (0.12)\n",
      "Epoch 00014: reducing learning rate of group 0 to 1.0000e-06.\n",
      "Epoch 00019: reducing learning rate of group 0 to 1.0000e-07.\n",
      "PID P124, 6/8\n",
      "Cluster 38 had the highest accuracy (0.84)\n",
      "PID P128, 7/8\n",
      "Epoch 00011: reducing learning rate of group 0 to 1.0000e-06.\n",
      "Cluster 37 had the highest accuracy (0.88)\n",
      "Epoch 00012: reducing learning rate of group 0 to 1.0000e-06.\n"
     ]
    }
   ],
   "source": [
    "data_dict_5_5 = full_comparison_run(five_trial_data_splits, five_trial_data_splits, MY_CONFIG, pretrained_generic_model,\n",
    "                        nested_clus_model_dict, MODEL_STR, cluster_iter_str='Iter18')"
   ]
  },
  {
   "cell_type": "code",
   "execution_count": 18,
   "id": "531c67ff",
   "metadata": {},
   "outputs": [
    {
     "data": {
      "image/png": "[encoded data removed]",
      "text/plain": [
       "<Figure size 600x600 with 1 Axes>"
      ]
     },
     "metadata": {},
     "output_type": "display_data"
    }
   ],
   "source": [
    "plot_model_acc_boxplots(data_dict_5_5, my_title=f\"{MODEL_STR} 5-shot Finetuning\", save_fig=False, plot_save_name=f\"Final_{MODEL_STR}_Acc_5TA_5TT\")\n"
   ]
  },
  {
   "cell_type": "code",
   "execution_count": 25,
   "id": "28066574",
   "metadata": {},
   "outputs": [
    {
     "data": {
      "text/plain": [
       "dict_keys(['local_acc_data', 'centralized_acc_data', 'ft_centralized_acc_data', 'pretrained_cluster_acc_data', 'ft_cluster_acc_data'])"
      ]
     },
     "execution_count": 25,
     "metadata": {},
     "output_type": "execute_result"
    }
   ],
   "source": [
    "data_dict_5_5.keys()"
   ]
  },
  {
   "cell_type": "code",
   "execution_count": 26,
   "id": "ac517a4d",
   "metadata": {},
   "outputs": [
    {
     "data": {
      "text/plain": [
       "[0.92, 0.8, 0.88, 0.68, 0.9, 0.9, 0.96, 0.92]"
      ]
     },
     "execution_count": 26,
     "metadata": {},
     "output_type": "execute_result"
    }
   ],
   "source": [
    "data_dict_5_5['local_acc_data']"
   ]
  },
  {
   "cell_type": "code",
   "execution_count": 27,
   "id": "43e30b6d",
   "metadata": {},
   "outputs": [
    {
     "data": {
      "text/plain": [
       "[0.0, 0.1, 0.1, 0.02, 0.06, 0.12, 0.08, 0.22]"
      ]
     },
     "execution_count": 27,
     "metadata": {},
     "output_type": "execute_result"
    }
   ],
   "source": [
    "data_dict_5_5['centralized_acc_data']"
   ]
  },
  {
   "cell_type": "code",
   "execution_count": 28,
   "id": "5d0a231b",
   "metadata": {},
   "outputs": [
    {
     "data": {
      "text/plain": [
       "[0.02, 0.06, 0.08, 0.02, 0.06, 0.22, 0.1, 0.22]"
      ]
     },
     "execution_count": 28,
     "metadata": {},
     "output_type": "execute_result"
    }
   ],
   "source": [
    "data_dict_5_5['ft_centralized_acc_data']"
   ]
  },
  {
   "cell_type": "code",
   "execution_count": null,
   "id": "1f59a478",
   "metadata": {},
   "outputs": [],
   "source": []
  },
  {
   "cell_type": "markdown",
   "id": "32a6cb79",
   "metadata": {},
   "source": [
    "## Testing the Generic Model\n",
    "> On its own training data (it was trained on train, tested on intra_test (same subjects as train), and also tested but not evaluated wrt cross_test)"
   ]
  },
  {
   "cell_type": "code",
   "execution_count": 19,
   "id": "a380a559",
   "metadata": {},
   "outputs": [],
   "source": [
    "model_type = \"ELEC573Net\"\n",
    "sequence_length = 1  # Not sure what this should be here actually lol\n",
    "time_steps = None\n",
    "bs = MY_CONFIG[\"batch_size\"]"
   ]
  },
  {
   "cell_type": "code",
   "execution_count": 20,
   "id": "23f766ce",
   "metadata": {},
   "outputs": [],
   "source": [
    "unique_gestures = np.unique(data_splits['train']['labels'])\n",
    "#num_classes = len(unique_gestures)\n",
    "#input_dim = data_splits['train']['feature'].shape[1]\n",
    "\n",
    "train_pids = data_splits['train']['participant_ids']  # THIS IS IN ORDER! NOT SHUFFLED!!\n",
    "intra_pids = data_splits['intra_subject_test']['participant_ids']\n",
    "cross_pids = data_splits['cross_subject_test']['participant_ids']\n",
    "\n",
    "my_gesture_dataset = select_dataset_class(model_type)\n",
    "\n",
    "train_dataset = my_gesture_dataset(\n",
    "    data_splits['train']['feature'], \n",
    "    data_splits['train']['labels'], \n",
    "    sl=sequence_length, \n",
    "    ts=time_steps)\n",
    "train_loader = DataLoader(train_dataset, batch_size=bs, shuffle=True) #, drop_last=True)\n",
    "\n",
    "# INTRA SUBJECT (480)\n",
    "intra_test_dataset = my_gesture_dataset(\n",
    "    data_splits['intra_subject_test']['feature'], \n",
    "    data_splits['intra_subject_test']['labels'], \n",
    "    sl=sequence_length, \n",
    "    ts=time_steps)\n",
    "# Shuffle doesn't matter for testing\n",
    "intra_test_loader = DataLoader(intra_test_dataset, batch_size=bs, shuffle=False) #, drop_last=True)\n",
    "\n",
    "# CROSS SUBJECT (560)\n",
    "## Wait shouldn't I have 2 cross datasets? Are these the withheld users??\n",
    "## I should have finetuning and withheld right? Presumably cross_test is withheld?\n",
    "cross_test_dataset = my_gesture_dataset(\n",
    "    data_splits['cross_subject_test']['feature'], \n",
    "    data_splits['cross_subject_test']['labels'], \n",
    "    sl=sequence_length, \n",
    "    ts=time_steps)\n",
    "# Shuffle doesn't matter for testing\n",
    "cross_test_loader = DataLoader(cross_test_dataset, batch_size=bs, shuffle=False) #, drop_last=True)"
   ]
  },
  {
   "cell_type": "code",
   "execution_count": 21,
   "id": "a0a8cf1c",
   "metadata": {},
   "outputs": [
    {
     "name": "stdout",
     "output_type": "stream",
     "text": [
      "0.9171875\n"
     ]
    }
   ],
   "source": [
    "#'loss': total_loss / len(dataloader),\n",
    "#'accuracy': np.mean(np.array(all_preds) == np.array(all_labels)),\n",
    "#'predictions': all_preds,\n",
    "#'true_labels': all_labels\n",
    "\n",
    "train_eval = evaluate_model(pretrained_generic_model, train_loader)\n",
    "print(train_eval['accuracy'])"
   ]
  },
  {
   "cell_type": "code",
   "execution_count": 22,
   "id": "de59b650",
   "metadata": {},
   "outputs": [
    {
     "name": "stdout",
     "output_type": "stream",
     "text": [
      "0.9083333333333333\n"
     ]
    }
   ],
   "source": [
    "intra_eval = evaluate_model(pretrained_generic_model, intra_test_loader)\n",
    "print(intra_eval['accuracy'])"
   ]
  },
  {
   "cell_type": "code",
   "execution_count": 23,
   "id": "aa6828cb",
   "metadata": {},
   "outputs": [
    {
     "name": "stdout",
     "output_type": "stream",
     "text": [
      "0.08928571428571429\n"
     ]
    }
   ],
   "source": [
    "cross_eval = evaluate_model(pretrained_generic_model, cross_test_loader)\n",
    "print(cross_eval['accuracy'])"
   ]
  },
  {
   "cell_type": "markdown",
   "id": "cb36edd3",
   "metadata": {},
   "source": [
    "> Now looking at the novel finetuning participants specifically (one trial of data)"
   ]
  },
  {
   "cell_type": "code",
   "execution_count": 35,
   "id": "f6dc87e1",
   "metadata": {},
   "outputs": [],
   "source": [
    "finetuning_datasplits = one_trial_data_splits\n",
    "config = MY_CONFIG"
   ]
  },
  {
   "cell_type": "code",
   "execution_count": 36,
   "id": "27c567f8",
   "metadata": {},
   "outputs": [
    {
     "name": "stdout",
     "output_type": "stream",
     "text": [
      "PID P010, 1/8\n",
      "Pretrain generic acc: 0.0\n",
      "Pretrain FT acc: 0.1\n",
      "\n",
      "PID P102, 2/8\n",
      "Pretrain generic acc: 0.0\n",
      "Epoch 00007: reducing learning rate of group 0 to 1.0000e-06.\n",
      "Pretrain FT acc: 0.0\n",
      "\n",
      "PID P104, 3/8\n",
      "Pretrain generic acc: 0.0\n",
      "Epoch 00006: reducing learning rate of group 0 to 1.0000e-06.\n",
      "Pretrain FT acc: 0.0\n",
      "\n",
      "PID P108, 4/8\n",
      "Pretrain generic acc: 0.0\n",
      "Epoch 00006: reducing learning rate of group 0 to 1.0000e-06.\n",
      "Pretrain FT acc: 0.0\n",
      "\n",
      "PID P121, 5/8\n",
      "Pretrain generic acc: 0.0\n",
      "Pretrain FT acc: 0.0\n",
      "\n",
      "PID P123, 6/8\n",
      "Pretrain generic acc: 0.5\n",
      "Epoch 00006: reducing learning rate of group 0 to 1.0000e-06.\n",
      "Pretrain FT acc: 0.2\n",
      "\n",
      "PID P124, 7/8\n",
      "Pretrain generic acc: 0.7\n",
      "Epoch 00006: reducing learning rate of group 0 to 1.0000e-06.\n",
      "Pretrain FT acc: 0.7\n",
      "\n",
      "PID P128, 8/8\n",
      "Pretrain generic acc: 0.2\n",
      "Pretrain FT acc: 0.1\n",
      "\n"
     ]
    }
   ],
   "source": [
    "train_pids = np.unique(finetuning_datasplits['train']['participant_ids'])\n",
    "\n",
    "novel_participant_ft_data = finetuning_datasplits['novel_trainFT']\n",
    "# novel \"cross subject\" is the same as novel intra (but needs to be separated according to PID first...)\n",
    "novel_participant_test_data = finetuning_datasplits['cross_subject_test']\n",
    "novel_pids = np.unique(finetuning_datasplits['novel_trainFT']['participant_ids'])\n",
    "\n",
    "novel_pid_res_dict = {}\n",
    "for pid_count, pid in enumerate(novel_pids):\n",
    "    print(f\"PID {pid}, {pid_count+1}/{len(novel_pids)}\")\n",
    "    novel_pid_res_dict[pid] = {}\n",
    "\n",
    "    # Create the testloader by segmenting out this specific pid\n",
    "    # Filter based on CURRENT participant ID: \n",
    "    indices = [i for i, datasplit_pid in enumerate(novel_participant_ft_data['participant_ids']) if datasplit_pid == pid]\n",
    "    ############## Novel Participant Finetuning Dataset ##############\n",
    "    ft_dataset = GestureDataset([novel_participant_ft_data['feature'][i] for i in indices], [novel_participant_ft_data['labels'][i] for i in indices])\n",
    "    ft_loader = DataLoader(ft_dataset, batch_size=config[\"batch_size\"], shuffle=True)\n",
    "    ############## Novel Participant Intra Testing Dataset ##############\n",
    "    intra_test_dataset = GestureDataset([novel_participant_test_data['feature'][i] for i in indices], [novel_participant_test_data['labels'][i] for i in indices])\n",
    "    intra_test_loader = DataLoader(intra_test_dataset, batch_size=config[\"batch_size\"], shuffle=True)\n",
    "    ############## Novel Participant Cross Testing Dataset ##############\n",
    "    # This code is testing on all the other novel participants... I don't think we care about that right now\n",
    "    ## Idc but this will allow us to check cross perf. No real reason to remove...\n",
    "    indices = [i for i, datasplit_pid in enumerate(novel_participant_test_data['participant_ids']) if datasplit_pid != pid]\n",
    "    cross_test_dataset = GestureDataset([novel_participant_test_data['feature'][i] for i in indices], [novel_participant_test_data['labels'][i] for i in indices])\n",
    "    cross_test_loader = DataLoader(cross_test_dataset, batch_size=config[\"batch_size\"], shuffle=True)\n",
    "\n",
    "    # 2) Test the full pretrained (centralized) model\n",
    "    generic_clus_res = evaluate_model(pretrained_generic_model, intra_test_loader)\n",
    "    novel_pid_res_dict[pid][\"centralized_acc\"] = generic_clus_res[\"accuracy\"]\n",
    "    print(f\"Pretrain generic acc: {generic_clus_res['accuracy']}\")\n",
    "\n",
    "    # 3) Test finetuned pretrained (centralized) model\n",
    "    ft_centralized_model, _, _, _ = fine_tune_model(\n",
    "        pretrained_generic_model, ft_loader, config, config['timestamp'], test_loader=intra_test_loader, pid=pid)\n",
    "    ft_centralized_res = evaluate_model(ft_centralized_model, intra_test_loader)\n",
    "    novel_pid_res_dict[pid][\"ft_centralized_acc\"] = ft_centralized_res[\"accuracy\"]\n",
    "    print(f\"Pretrain FT acc: {ft_centralized_res['accuracy']}\")\n",
    "\n",
    "    print()"
   ]
  },
  {
   "cell_type": "markdown",
   "id": "b3cd275d",
   "metadata": {},
   "source": [
    "We observe an extremely skewed performance, it does decent on P123 and P124, and worse than random chance on everyone else.  Also FTing doesn't seem to improve performance, in some cases makes it worse..."
   ]
  },
  {
   "cell_type": "markdown",
   "id": "c62b8b88",
   "metadata": {},
   "source": [
    "> Now looking at the novel finetuning participants specifically (five trials of data)"
   ]
  },
  {
   "cell_type": "code",
   "execution_count": 33,
   "id": "b5a0d27f",
   "metadata": {},
   "outputs": [],
   "source": [
    "finetuning_datasplits = five_trial_data_splits\n",
    "config = MY_CONFIG"
   ]
  },
  {
   "cell_type": "code",
   "execution_count": null,
   "id": "5503dbd0",
   "metadata": {},
   "outputs": [
    {
     "name": "stdout",
     "output_type": "stream",
     "text": [
      "PID P010, 1/8\n",
      "Pretrain generic acc: 0.0\n",
      "Epoch 00006: reducing learning rate of group 0 to 1.0000e-06.\n",
      "Pretrain FT acc: 0.08\n",
      "\n",
      "PID P102, 2/8\n",
      "Pretrain generic acc: 0.1\n",
      "Pretrain FT acc: 0.14\n",
      "\n",
      "PID P104, 3/8\n",
      "Pretrain generic acc: 0.1\n",
      "Epoch 00015: reducing learning rate of group 0 to 1.0000e-06.\n",
      "Pretrain FT acc: 0.08\n",
      "\n",
      "PID P108, 4/8\n",
      "Pretrain generic acc: 0.04\n",
      "Epoch 00008: reducing learning rate of group 0 to 1.0000e-06.\n",
      "Pretrain FT acc: 0.02\n",
      "\n",
      "PID P121, 5/8\n",
      "Pretrain generic acc: 0.1\n",
      "Pretrain FT acc: 0.08\n",
      "\n",
      "PID P123, 6/8\n",
      "Pretrain generic acc: 0.14\n",
      "Pretrain FT acc: 0.22\n",
      "\n",
      "PID P124, 7/8\n",
      "Pretrain generic acc: 0.12\n",
      "Pretrain FT acc: 0.1\n",
      "\n",
      "PID P128, 8/8\n",
      "Pretrain generic acc: 0.24\n",
      "Epoch 00007: reducing learning rate of group 0 to 1.0000e-06.\n",
      "Pretrain FT acc: 0.3\n",
      "\n"
     ]
    }
   ],
   "source": [
    "train_pids = np.unique(finetuning_datasplits['train']['participant_ids'])\n",
    "\n",
    "novel_participant_ft_data = finetuning_datasplits['novel_trainFT']\n",
    "# novel \"cross subject\" is the same as novel intra (but needs to be separated according to PID first...)\n",
    "novel_participant_test_data = finetuning_datasplits['cross_subject_test']\n",
    "novel_pids = np.unique(finetuning_datasplits['novel_trainFT']['participant_ids'])\n",
    "\n",
    "novel_pid_res_dict = {}\n",
    "for pid_count, pid in enumerate(novel_pids):\n",
    "    print(f\"PID {pid}, {pid_count+1}/{len(novel_pids)}\")\n",
    "    novel_pid_res_dict[pid] = {}\n",
    "\n",
    "    # Create the testloader by segmenting out this specific pid\n",
    "    # Filter based on CURRENT participant ID: \n",
    "    indices = [i for i, datasplit_pid in enumerate(novel_participant_ft_data['participant_ids']) if datasplit_pid == pid]\n",
    "    ############## Novel Participant Finetuning Dataset ##############\n",
    "    ft_dataset = GestureDataset([novel_participant_ft_data['feature'][i] for i in indices], [novel_participant_ft_data['labels'][i] for i in indices])\n",
    "    ft_loader = DataLoader(ft_dataset, batch_size=config[\"batch_size\"], shuffle=True)\n",
    "    ############## Novel Participant Intra Testing Dataset ##############\n",
    "    intra_test_dataset = GestureDataset([novel_participant_test_data['feature'][i] for i in indices], [novel_participant_test_data['labels'][i] for i in indices])\n",
    "    intra_test_loader = DataLoader(intra_test_dataset, batch_size=config[\"batch_size\"], shuffle=True)\n",
    "    ############## Novel Participant Cross Testing Dataset ##############\n",
    "    # This code is testing on all the other novel participants... I don't think we care about that right now\n",
    "    ## Idc but this will allow us to check cross perf. No real reason to remove...\n",
    "    indices = [i for i, datasplit_pid in enumerate(novel_participant_test_data['participant_ids']) if datasplit_pid != pid]\n",
    "    cross_test_dataset = GestureDataset([novel_participant_test_data['feature'][i] for i in indices], [novel_participant_test_data['labels'][i] for i in indices])\n",
    "    cross_test_loader = DataLoader(cross_test_dataset, batch_size=config[\"batch_size\"], shuffle=True)\n",
    "\n",
    "    # 2) Test the full pretrained (centralized) model\n",
    "    generic_clus_res = evaluate_model(pretrained_generic_model, intra_test_loader)\n",
    "    novel_pid_res_dict[pid][\"centralized_acc\"] = generic_clus_res[\"accuracy\"]\n",
    "    print(f\"Pretrain generic acc: {generic_clus_res['accuracy']}\")\n",
    "\n",
    "    # 3) Test finetuned pretrained (centralized) model\n",
    "    ft_centralized_model, _, _, _ = fine_tune_model(\n",
    "        pretrained_generic_model, ft_loader, config, config['timestamp'], test_loader=intra_test_loader, pid=pid)\n",
    "    ft_centralized_res = evaluate_model(ft_centralized_model, intra_test_loader)\n",
    "    novel_pid_res_dict[pid][\"ft_centralized_acc\"] = ft_centralized_res[\"accuracy\"]\n",
    "    print(f\"Pretrain FT acc: {ft_centralized_res['accuracy']}\")\n",
    "\n",
    "    print()"
   ]
  },
  {
   "cell_type": "code",
   "execution_count": null,
   "id": "fd7df83d",
   "metadata": {},
   "outputs": [],
   "source": []
  }
 ],
 "metadata": {
  "kernelspec": {
   "display_name": "fl_torch",
   "language": "python",
   "name": "python3"
  },
  "language_info": {
   "codemirror_mode": {
    "name": "ipython",
    "version": 3
   },
   "file_extension": ".py",
   "mimetype": "text/x-python",
   "name": "python",
   "nbconvert_exporter": "python",
   "pygments_lexer": "ipython3",
   "version": "3.10.10"
  }
 },
 "nbformat": 4,
 "nbformat_minor": 5
}
