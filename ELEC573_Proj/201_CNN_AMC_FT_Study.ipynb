{
 "cells": [
  {
   "cell_type": "markdown",
   "id": "7c0fef36",
   "metadata": {},
   "source": [
    "> __Purpose:__ This NB tests a CNN in the agglomerative model clustering procedure. With later finetuning. Uses the previously developed PyTorch code"
   ]
  },
  {
   "cell_type": "code",
   "execution_count": 1,
   "id": "012267e5",
   "metadata": {},
   "outputs": [],
   "source": [
    "model_str = \"CNN\"\n",
    "# Train/test user split: 24/8\n"
   ]
  },
  {
   "cell_type": "code",
   "execution_count": 2,
   "id": "a62336d2",
   "metadata": {},
   "outputs": [],
   "source": [
    "import pandas as pd\n",
    "import pickle\n",
    "import numpy as np\n",
    "from sklearn.model_selection import KFold\n",
    "from sklearn.preprocessing import LabelEncoder\n",
    "from sklearn.cross_decomposition import CCA\n",
    "from sklearn.decomposition import PCA\n",
    "from sklearn.model_selection import train_test_split\n",
    "from sklearn.metrics import accuracy_score\n",
    "import matplotlib.pyplot as plt\n",
    "import seaborn as sns\n",
    "import copy\n",
    "\n",
    "from torch.utils.data import DataLoader, TensorDataset\n",
    "from sklearn.model_selection import StratifiedKFold\n",
    "import torch\n",
    "\n",
    "np.random.seed(42) \n",
    "\n",
    "from moments_engr import *\n",
    "from agglo_model_clust import *\n",
    "from cluster_acc_viz_funcs import *\n",
    "from DNN_FT_funcs import *\n",
    "from DNN_AMC_funcs import *\n"
   ]
  },
  {
   "cell_type": "code",
   "execution_count": 3,
   "id": "33b80c7d",
   "metadata": {},
   "outputs": [
    {
     "name": "stdout",
     "output_type": "stream",
     "text": [
      "(204800, 19)\n"
     ]
    },
    {
     "data": {
      "text/html": [
       "<div>\n",
       "<style scoped>\n",
       "    .dataframe tbody tr th:only-of-type {\n",
       "        vertical-align: middle;\n",
       "    }\n",
       "\n",
       "    .dataframe tbody tr th {\n",
       "        vertical-align: top;\n",
       "    }\n",
       "\n",
       "    .dataframe thead th {\n",
       "        text-align: right;\n",
       "    }\n",
       "</style>\n",
       "<table border=\"1\" class=\"dataframe\">\n",
       "  <thead>\n",
       "    <tr style=\"text-align: right;\">\n",
       "      <th></th>\n",
       "      <th>Participant</th>\n",
       "      <th>Gesture_ID</th>\n",
       "      <th>Gesture_Num</th>\n",
       "      <th>EMG1</th>\n",
       "      <th>EMG2</th>\n",
       "      <th>EMG3</th>\n",
       "      <th>EMG4</th>\n",
       "      <th>EMG5</th>\n",
       "      <th>EMG6</th>\n",
       "      <th>EMG7</th>\n",
       "      <th>EMG8</th>\n",
       "      <th>EMG9</th>\n",
       "      <th>EMG10</th>\n",
       "      <th>EMG11</th>\n",
       "      <th>EMG12</th>\n",
       "      <th>EMG13</th>\n",
       "      <th>EMG14</th>\n",
       "      <th>EMG15</th>\n",
       "      <th>EMG16</th>\n",
       "    </tr>\n",
       "  </thead>\n",
       "  <tbody>\n",
       "    <tr>\n",
       "      <th>0</th>\n",
       "      <td>P102</td>\n",
       "      <td>pan</td>\n",
       "      <td>1</td>\n",
       "      <td>-0.362743</td>\n",
       "      <td>-0.801651</td>\n",
       "      <td>-0.383077</td>\n",
       "      <td>-0.195299</td>\n",
       "      <td>-0.203047</td>\n",
       "      <td>-0.464472</td>\n",
       "      <td>-0.276292</td>\n",
       "      <td>-0.026736</td>\n",
       "      <td>-0.873870</td>\n",
       "      <td>-1.036152</td>\n",
       "      <td>-0.580930</td>\n",
       "      <td>-0.719494</td>\n",
       "      <td>-0.502255</td>\n",
       "      <td>-1.750091</td>\n",
       "      <td>-0.127847</td>\n",
       "      <td>-0.094192</td>\n",
       "    </tr>\n",
       "    <tr>\n",
       "      <th>1</th>\n",
       "      <td>P102</td>\n",
       "      <td>pan</td>\n",
       "      <td>1</td>\n",
       "      <td>-0.351553</td>\n",
       "      <td>-0.775334</td>\n",
       "      <td>-0.382545</td>\n",
       "      <td>-0.154773</td>\n",
       "      <td>-0.131977</td>\n",
       "      <td>-0.295204</td>\n",
       "      <td>-0.125822</td>\n",
       "      <td>0.089679</td>\n",
       "      <td>-0.816215</td>\n",
       "      <td>-2.082635</td>\n",
       "      <td>-0.006283</td>\n",
       "      <td>-0.139439</td>\n",
       "      <td>-0.367764</td>\n",
       "      <td>-0.208084</td>\n",
       "      <td>-0.111811</td>\n",
       "      <td>-0.039009</td>\n",
       "    </tr>\n",
       "    <tr>\n",
       "      <th>2</th>\n",
       "      <td>P102</td>\n",
       "      <td>pan</td>\n",
       "      <td>1</td>\n",
       "      <td>-0.380825</td>\n",
       "      <td>-0.762588</td>\n",
       "      <td>-0.398388</td>\n",
       "      <td>-0.085411</td>\n",
       "      <td>0.017528</td>\n",
       "      <td>-0.205675</td>\n",
       "      <td>-0.068451</td>\n",
       "      <td>0.117076</td>\n",
       "      <td>-0.668221</td>\n",
       "      <td>-3.403064</td>\n",
       "      <td>-0.526030</td>\n",
       "      <td>-0.478294</td>\n",
       "      <td>-0.300443</td>\n",
       "      <td>0.203266</td>\n",
       "      <td>0.113300</td>\n",
       "      <td>0.004728</td>\n",
       "    </tr>\n",
       "    <tr>\n",
       "      <th>3</th>\n",
       "      <td>P102</td>\n",
       "      <td>pan</td>\n",
       "      <td>1</td>\n",
       "      <td>-0.366795</td>\n",
       "      <td>-0.765464</td>\n",
       "      <td>-0.374423</td>\n",
       "      <td>-0.073225</td>\n",
       "      <td>0.183172</td>\n",
       "      <td>0.009277</td>\n",
       "      <td>-0.058907</td>\n",
       "      <td>0.080977</td>\n",
       "      <td>-0.424416</td>\n",
       "      <td>-3.709413</td>\n",
       "      <td>-0.570894</td>\n",
       "      <td>-0.775155</td>\n",
       "      <td>-0.144710</td>\n",
       "      <td>-0.619539</td>\n",
       "      <td>0.146499</td>\n",
       "      <td>0.199975</td>\n",
       "    </tr>\n",
       "    <tr>\n",
       "      <th>4</th>\n",
       "      <td>P102</td>\n",
       "      <td>pan</td>\n",
       "      <td>1</td>\n",
       "      <td>-0.245578</td>\n",
       "      <td>-0.761283</td>\n",
       "      <td>-0.303976</td>\n",
       "      <td>-0.081947</td>\n",
       "      <td>0.224996</td>\n",
       "      <td>0.103319</td>\n",
       "      <td>-0.003929</td>\n",
       "      <td>0.041526</td>\n",
       "      <td>-0.016530</td>\n",
       "      <td>-4.075150</td>\n",
       "      <td>-0.127710</td>\n",
       "      <td>2.682791</td>\n",
       "      <td>-0.141750</td>\n",
       "      <td>-0.208404</td>\n",
       "      <td>-0.035642</td>\n",
       "      <td>0.172662</td>\n",
       "    </tr>\n",
       "  </tbody>\n",
       "</table>\n",
       "</div>"
      ],
      "text/plain": [
       "  Participant Gesture_ID Gesture_Num      EMG1      EMG2      EMG3      EMG4   \n",
       "0        P102        pan           1 -0.362743 -0.801651 -0.383077 -0.195299  \\\n",
       "1        P102        pan           1 -0.351553 -0.775334 -0.382545 -0.154773   \n",
       "2        P102        pan           1 -0.380825 -0.762588 -0.398388 -0.085411   \n",
       "3        P102        pan           1 -0.366795 -0.765464 -0.374423 -0.073225   \n",
       "4        P102        pan           1 -0.245578 -0.761283 -0.303976 -0.081947   \n",
       "\n",
       "       EMG5      EMG6      EMG7      EMG8      EMG9     EMG10     EMG11   \n",
       "0 -0.203047 -0.464472 -0.276292 -0.026736 -0.873870 -1.036152 -0.580930  \\\n",
       "1 -0.131977 -0.295204 -0.125822  0.089679 -0.816215 -2.082635 -0.006283   \n",
       "2  0.017528 -0.205675 -0.068451  0.117076 -0.668221 -3.403064 -0.526030   \n",
       "3  0.183172  0.009277 -0.058907  0.080977 -0.424416 -3.709413 -0.570894   \n",
       "4  0.224996  0.103319 -0.003929  0.041526 -0.016530 -4.075150 -0.127710   \n",
       "\n",
       "      EMG12     EMG13     EMG14     EMG15     EMG16  \n",
       "0 -0.719494 -0.502255 -1.750091 -0.127847 -0.094192  \n",
       "1 -0.139439 -0.367764 -0.208084 -0.111811 -0.039009  \n",
       "2 -0.478294 -0.300443  0.203266  0.113300  0.004728  \n",
       "3 -0.775155 -0.144710 -0.619539  0.146499  0.199975  \n",
       "4  2.682791 -0.141750 -0.208404 -0.035642  0.172662  "
      ]
     },
     "execution_count": 3,
     "metadata": {},
     "output_type": "execute_result"
    }
   ],
   "source": [
    "path1 = 'C:\\\\Users\\\\kdmen\\\\Box\\\\Meta_Gesture_2024\\\\saved_datasets\\\\filtered_datasets\\\\$BStand_EMG_df.pkl'\n",
    "\n",
    "with open(path1, 'rb') as file:\n",
    "    raw_userdef_data_df = pickle.load(file)  # (204800, 19)\n",
    "\n",
    "print(raw_userdef_data_df.shape)\n",
    "raw_userdef_data_df.head()"
   ]
  },
  {
   "cell_type": "markdown",
   "id": "c0375f2f",
   "metadata": {},
   "source": []
  },
  {
   "cell_type": "code",
   "execution_count": 4,
   "id": "7ade3f7b",
   "metadata": {},
   "outputs": [
    {
     "name": "stdout",
     "output_type": "stream",
     "text": [
      "(3200, 6)\n"
     ]
    },
    {
     "data": {
      "text/html": [
       "<div>\n",
       "<style scoped>\n",
       "    .dataframe tbody tr th:only-of-type {\n",
       "        vertical-align: middle;\n",
       "    }\n",
       "\n",
       "    .dataframe tbody tr th {\n",
       "        vertical-align: top;\n",
       "    }\n",
       "\n",
       "    .dataframe thead th {\n",
       "        text-align: right;\n",
       "    }\n",
       "</style>\n",
       "<table border=\"1\" class=\"dataframe\">\n",
       "  <thead>\n",
       "    <tr style=\"text-align: right;\">\n",
       "      <th></th>\n",
       "      <th>Participant</th>\n",
       "      <th>Gesture_ID</th>\n",
       "      <th>Gesture_Num</th>\n",
       "      <th>feature</th>\n",
       "      <th>Gesture_Encoded</th>\n",
       "      <th>Cluster_ID</th>\n",
       "    </tr>\n",
       "  </thead>\n",
       "  <tbody>\n",
       "    <tr>\n",
       "      <th>0</th>\n",
       "      <td>P004</td>\n",
       "      <td>close</td>\n",
       "      <td>1</td>\n",
       "      <td>[[6.079045311063784], [-7.551458873254243], [-...</td>\n",
       "      <td>0</td>\n",
       "      <td>0</td>\n",
       "    </tr>\n",
       "    <tr>\n",
       "      <th>1</th>\n",
       "      <td>P004</td>\n",
       "      <td>close</td>\n",
       "      <td>10</td>\n",
       "      <td>[[5.994789910363704], [-7.978871468164499], [-...</td>\n",
       "      <td>0</td>\n",
       "      <td>0</td>\n",
       "    </tr>\n",
       "    <tr>\n",
       "      <th>2</th>\n",
       "      <td>P004</td>\n",
       "      <td>close</td>\n",
       "      <td>2</td>\n",
       "      <td>[[6.010193380499154], [-7.7063875553339], [-20...</td>\n",
       "      <td>0</td>\n",
       "      <td>0</td>\n",
       "    </tr>\n",
       "    <tr>\n",
       "      <th>3</th>\n",
       "      <td>P004</td>\n",
       "      <td>close</td>\n",
       "      <td>3</td>\n",
       "      <td>[[5.8212078257286874], [-7.463908156909893], [...</td>\n",
       "      <td>0</td>\n",
       "      <td>0</td>\n",
       "    </tr>\n",
       "    <tr>\n",
       "      <th>4</th>\n",
       "      <td>P004</td>\n",
       "      <td>close</td>\n",
       "      <td>4</td>\n",
       "      <td>[[5.974675085061773], [-7.945111601415482], [-...</td>\n",
       "      <td>0</td>\n",
       "      <td>0</td>\n",
       "    </tr>\n",
       "  </tbody>\n",
       "</table>\n",
       "</div>"
      ],
      "text/plain": [
       "  Participant Gesture_ID Gesture_Num   \n",
       "0        P004      close           1  \\\n",
       "1        P004      close          10   \n",
       "2        P004      close           2   \n",
       "3        P004      close           3   \n",
       "4        P004      close           4   \n",
       "\n",
       "                                             feature  Gesture_Encoded   \n",
       "0  [[6.079045311063784], [-7.551458873254243], [-...                0  \\\n",
       "1  [[5.994789910363704], [-7.978871468164499], [-...                0   \n",
       "2  [[6.010193380499154], [-7.7063875553339], [-20...                0   \n",
       "3  [[5.8212078257286874], [-7.463908156909893], [...                0   \n",
       "4  [[5.974675085061773], [-7.945111601415482], [-...                0   \n",
       "\n",
       "   Cluster_ID  \n",
       "0           0  \n",
       "1           0  \n",
       "2           0  \n",
       "3           0  \n",
       "4           0  "
      ]
     },
     "execution_count": 4,
     "metadata": {},
     "output_type": "execute_result"
    }
   ],
   "source": [
    "# STEP 1: Train a classification model on every single individual user\n",
    "\n",
    "userdef_df = raw_userdef_data_df.groupby(['Participant', 'Gesture_ID', 'Gesture_Num']).apply(create_feature_vectors)\n",
    "#output is df with particpant, gesture_ID, gesture_num and feature (holds 80 len vector)\n",
    "userdef_df = userdef_df.reset_index(drop=True)\n",
    "\n",
    "#convert Gesture_ID to numerical with new Gesture_Encoded column\n",
    "label_encoder = LabelEncoder()\n",
    "userdef_df['Gesture_Encoded'] = label_encoder.fit_transform(userdef_df['Gesture_ID'])\n",
    "\n",
    "label_encoder2 = LabelEncoder()\n",
    "userdef_df['Cluster_ID'] = label_encoder2.fit_transform(userdef_df['Participant'])\n",
    "\n",
    "print(userdef_df.shape)\n",
    "userdef_df.head()"
   ]
  },
  {
   "cell_type": "code",
   "execution_count": 5,
   "id": "f7f2bf09",
   "metadata": {},
   "outputs": [],
   "source": [
    "all_participants = userdef_df['Participant'].unique()\n",
    "# Shuffle the participants\n",
    "np.random.shuffle(all_participants)\n",
    "# Split into two groups\n",
    "#train_participants = all_participants[:24]  # First 24 participants\n",
    "test_participants = all_participants[24:]  # Remaining 8 participants"
   ]
  },
  {
   "cell_type": "code",
   "execution_count": 6,
   "id": "cb072fa3",
   "metadata": {},
   "outputs": [],
   "source": [
    "# Prepare data\n",
    "data_splits = prepare_data(\n",
    "    userdef_df, 'feature', 'Gesture_Encoded', \n",
    "    all_participants, test_participants, \n",
    "    training_trials_per_gesture=8, finetuning_trials_per_gesture=3,\n",
    ")"
   ]
  },
  {
   "cell_type": "code",
   "execution_count": 7,
   "id": "2ec9e45b",
   "metadata": {},
   "outputs": [
    {
     "data": {
      "text/plain": [
       "dict_keys(['train', 'intra_subject_test', 'novel_trainFT', 'cross_subject_test'])"
      ]
     },
     "execution_count": 7,
     "metadata": {},
     "output_type": "execute_result"
    }
   ],
   "source": [
    "data_splits.keys()"
   ]
  },
  {
   "cell_type": "code",
   "execution_count": 8,
   "id": "efbe8d73",
   "metadata": {},
   "outputs": [
    {
     "data": {
      "text/plain": [
       "dict_keys(['feature', 'labels', 'participant_ids'])"
      ]
     },
     "execution_count": 8,
     "metadata": {},
     "output_type": "execute_result"
    }
   ],
   "source": [
    "data_splits['train'].keys()"
   ]
  },
  {
   "cell_type": "code",
   "execution_count": 9,
   "id": "7423158d",
   "metadata": {},
   "outputs": [],
   "source": [
    "features_df = pd.DataFrame(data_splits['train']['feature'])\n",
    "# Create a new column 'features' that contains all 80 columns as lists\n",
    "features_df['feature'] = features_df.apply(lambda row: row.tolist(), axis=1)\n",
    "# Keep only the new combined column\n",
    "features_df = features_df[['feature']]\n",
    "# Combine with labels and participant_ids into a single DataFrame\n",
    "train_df = pd.concat([features_df, pd.Series(data_splits['train']['labels'], name='Gesture_Encoded'), pd.Series(data_splits['train']['participant_ids'], name='participant_ids')], axis=1)\n",
    "label_encoder = LabelEncoder()\n",
    "train_df['Cluster_ID'] = label_encoder.fit_transform(train_df['participant_ids'])\n",
    "\n",
    "features_df = pd.DataFrame(data_splits['intra_subject_test']['feature'])\n",
    "# Create a new column 'features' that contains all 80 columns as lists\n",
    "features_df['feature'] = features_df.apply(lambda row: row.tolist(), axis=1)\n",
    "# Keep only the new combined column\n",
    "features_df = features_df[['feature']]\n",
    "# Combine with labels and participant_ids into a single DataFrame\n",
    "test_df = pd.concat([features_df, pd.Series(data_splits['intra_subject_test']['labels'], name='Gesture_Encoded'), pd.Series(data_splits['intra_subject_test']['participant_ids'], name='participant_ids')], axis=1)\n",
    "label_encoder = LabelEncoder()\n",
    "test_df['Cluster_ID'] = label_encoder.fit_transform(test_df['participant_ids'])\n",
    "\n",
    "# ENTIRELY WITHHOLDING CROSS CLUSTER DATASET (NOVEL TEST SUBJECTS) FOR NOW. \n",
    "#test_df\n",
    "#features_df = pd.DataFrame(data_splits['train']['features'])\n",
    "## Create a new column 'features' that contains all 80 columns as lists\n",
    "#features_df['features'] = features_df.apply(lambda row: row.tolist(), axis=1)\n",
    "## Keep only the new combined column\n",
    "#features_df = features_df[['features']]\n",
    "## Combine with labels and participant_ids into a single DataFrame\n",
    "#train_df = pd.concat([features_df, pd.Series(data_splits['train']['labels'], name='Gesture_Encoded'), pd.Series(data_splits['train']['participant_ids'], name='participant_ids')], axis=1)"
   ]
  },
  {
   "cell_type": "code",
   "execution_count": 10,
   "id": "91d302fd",
   "metadata": {},
   "outputs": [],
   "source": [
    "data_dfs_dict = {'train':train_df, 'test':test_df}\n",
    "\n",
    "# Need to update Cluster_ID col at the end of each round, for both dfs"
   ]
  },
  {
   "cell_type": "code",
   "execution_count": 11,
   "id": "fab5959d",
   "metadata": {},
   "outputs": [
    {
     "data": {
      "text/html": [
       "<div>\n",
       "<style scoped>\n",
       "    .dataframe tbody tr th:only-of-type {\n",
       "        vertical-align: middle;\n",
       "    }\n",
       "\n",
       "    .dataframe tbody tr th {\n",
       "        vertical-align: top;\n",
       "    }\n",
       "\n",
       "    .dataframe thead th {\n",
       "        text-align: right;\n",
       "    }\n",
       "</style>\n",
       "<table border=\"1\" class=\"dataframe\">\n",
       "  <thead>\n",
       "    <tr style=\"text-align: right;\">\n",
       "      <th></th>\n",
       "      <th>feature</th>\n",
       "      <th>Gesture_Encoded</th>\n",
       "      <th>participant_ids</th>\n",
       "      <th>Cluster_ID</th>\n",
       "    </tr>\n",
       "  </thead>\n",
       "  <tbody>\n",
       "    <tr>\n",
       "      <th>0</th>\n",
       "      <td>[4.0728441780827485, -6.216633410388578, -15.0...</td>\n",
       "      <td>0</td>\n",
       "      <td>P128</td>\n",
       "      <td>22</td>\n",
       "    </tr>\n",
       "    <tr>\n",
       "      <th>1</th>\n",
       "      <td>[4.842766138855771, -7.933026853320965, -18.38...</td>\n",
       "      <td>0</td>\n",
       "      <td>P128</td>\n",
       "      <td>22</td>\n",
       "    </tr>\n",
       "    <tr>\n",
       "      <th>2</th>\n",
       "      <td>[4.343725560839635, -6.20391996380322, -15.560...</td>\n",
       "      <td>0</td>\n",
       "      <td>P128</td>\n",
       "      <td>22</td>\n",
       "    </tr>\n",
       "    <tr>\n",
       "      <th>3</th>\n",
       "      <td>[4.972292120731378, -6.996600730998998, -17.60...</td>\n",
       "      <td>0</td>\n",
       "      <td>P128</td>\n",
       "      <td>22</td>\n",
       "    </tr>\n",
       "    <tr>\n",
       "      <th>4</th>\n",
       "      <td>[4.942130684716379, -6.513267267205743, -16.81...</td>\n",
       "      <td>0</td>\n",
       "      <td>P128</td>\n",
       "      <td>22</td>\n",
       "    </tr>\n",
       "  </tbody>\n",
       "</table>\n",
       "</div>"
      ],
      "text/plain": [
       "                                             feature  Gesture_Encoded   \n",
       "0  [4.0728441780827485, -6.216633410388578, -15.0...                0  \\\n",
       "1  [4.842766138855771, -7.933026853320965, -18.38...                0   \n",
       "2  [4.343725560839635, -6.20391996380322, -15.560...                0   \n",
       "3  [4.972292120731378, -6.996600730998998, -17.60...                0   \n",
       "4  [4.942130684716379, -6.513267267205743, -16.81...                0   \n",
       "\n",
       "  participant_ids  Cluster_ID  \n",
       "0            P128          22  \n",
       "1            P128          22  \n",
       "2            P128          22  \n",
       "3            P128          22  \n",
       "4            P128          22  "
      ]
     },
     "execution_count": 11,
     "metadata": {},
     "output_type": "execute_result"
    }
   ],
   "source": [
    "train_df.head()"
   ]
  },
  {
   "cell_type": "code",
   "execution_count": 12,
   "id": "fbfe78a9",
   "metadata": {},
   "outputs": [
    {
     "name": "stdout",
     "output_type": "stream",
     "text": [
      "Iter 0: 24 Clusters Remaining\n",
      "Iter 1: 23 Clusters Remaining\n",
      "Iter 2: 22 Clusters Remaining\n",
      "Iter 3: 21 Clusters Remaining\n",
      "Iter 4: 20 Clusters Remaining\n",
      "Iter 5: 19 Clusters Remaining\n",
      "Iter 6: 18 Clusters Remaining\n",
      "Iter 7: 17 Clusters Remaining\n",
      "Iter 8: 16 Clusters Remaining\n",
      "Iter 9: 15 Clusters Remaining\n",
      "Iter 10: 14 Clusters Remaining\n",
      "Iter 11: 13 Clusters Remaining\n",
      "Iter 12: 12 Clusters Remaining\n",
      "Iter 13: 11 Clusters Remaining\n",
      "Iter 14: 10 Clusters Remaining\n",
      "Iter 15: 9 Clusters Remaining\n",
      "Iter 16: 8 Clusters Remaining\n",
      "Iter 17: 7 Clusters Remaining\n",
      "Iter 18: 6 Clusters Remaining\n",
      "Iter 19: 5 Clusters Remaining\n",
      "Iter 20: 4 Clusters Remaining\n",
      "Iter 21: 3 Clusters Remaining\n",
      "Iter 22: 2 Clusters Remaining\n"
     ]
    }
   ],
   "source": [
    "merge_log, intra_cluster_performance, cross_cluster_performance, nested_clus_model_dict = DNN_agglo_merge_procedure(data_dfs_dict, model_str, n_splits=2)"
   ]
  },
  {
   "cell_type": "code",
   "execution_count": 13,
   "id": "6af48c44",
   "metadata": {},
   "outputs": [
    {
     "data": {
      "text/plain": [
       "[(0, 13, 21, 0.35, 24),\n",
       " (1, 2, 8, 0.35, 25),\n",
       " (2, 1, 17, 0.35, 26),\n",
       " (3, 22, 10, 0.35, 27),\n",
       " (4, 9, 19, 0.35, 28),\n",
       " (5, 0, 7, 0.3, 29),\n",
       " (6, 18, 5, 0.3, 30),\n",
       " (7, 12, 29, 0.3, 31),\n",
       " (8, 16, 20, 0.25, 32),\n",
       " (9, 30, 25, 0.25, 33),\n",
       " (10, 23, 11, 0.3, 34),\n",
       " (11, 4, 14, 0.3, 35),\n",
       " (12, 32, 6, 0.25, 36),\n",
       " (13, 3, 26, 0.225, 37),\n",
       " (14, 15, 35, 0.225, 38),\n",
       " (15, 34, 27, 0.225, 39),\n",
       " (16, 39, 31, 0.18333333333333332, 40),\n",
       " (17, 36, 38, 0.2, 41),\n",
       " (18, 37, 33, 0.175, 42),\n",
       " (19, 42, 40, 0.14285714285714285, 43),\n",
       " (20, 41, 28, 0.15, 44),\n",
       " (21, 43, 44, 0.1375, 45),\n",
       " (22, 24, 45, 0.11136363636363636, 46)]"
      ]
     },
     "execution_count": 13,
     "metadata": {},
     "output_type": "execute_result"
    }
   ],
   "source": [
    "merge_log"
   ]
  },
  {
   "cell_type": "markdown",
   "id": "44a84f81",
   "metadata": {},
   "source": [
    "# Finetuning Process"
   ]
  },
  {
   "cell_type": "code",
   "execution_count": 21,
   "id": "efd7f175",
   "metadata": {},
   "outputs": [],
   "source": [
    "# Fine-tune on first test participant's data\n",
    "first_test_participant_data = data_splits['novel_trainFT']\n",
    "# Select just the first given participant ID from this dataset, probably for both train_data and labels\n",
    "\n",
    "participant_id = 'P132'\n",
    "# Filter based on participant_id\n",
    "indices = [i for i, pid in enumerate(first_test_participant_data['participant_ids']) if pid == participant_id]\n",
    "# Extract the corresponding features and labels\n",
    "features_p132 = [first_test_participant_data['feature'][i] for i in indices]\n",
    "labels_p132 = [first_test_participant_data['labels'][i] for i in indices]\n"
   ]
  },
  {
   "cell_type": "code",
   "execution_count": 22,
   "id": "752ab2e4",
   "metadata": {},
   "outputs": [],
   "source": [
    "#nested_clus_model_dict\n",
    "\n",
    "# So I don't have a single generic model anymore...\n",
    "# Need to choose a specific iteration, or at least a specific cluster's model to use.......\n",
    "## Idk how to do that in a principled way...\n",
    "## Could try brute force, or could try doing some few-shot cluster assignment or something and then using that cluster model? ...\n",
    "\n",
    "# Cluster 41 did pretty good:\n",
    "#Cluster 41: Intra Mean = 0.624, Cross Mean = 0.108, Ratio = 5.791\n"
   ]
  },
  {
   "cell_type": "code",
   "execution_count": 23,
   "id": "143fe9a5",
   "metadata": {},
   "outputs": [
    {
     "data": {
      "text/plain": [
       "dict_keys(['Iter0', 'Iter1', 'Iter2', 'Iter3', 'Iter4', 'Iter5', 'Iter6', 'Iter7', 'Iter8', 'Iter9', 'Iter10', 'Iter11', 'Iter12', 'Iter13', 'Iter14', 'Iter15', 'Iter16', 'Iter17', 'Iter18', 'Iter19', 'Iter20', 'Iter21', 'Iter22'])"
      ]
     },
     "execution_count": 23,
     "metadata": {},
     "output_type": "execute_result"
    }
   ],
   "source": [
    "nested_clus_model_dict.keys()"
   ]
  },
  {
   "cell_type": "code",
   "execution_count": 24,
   "id": "092c21b2",
   "metadata": {},
   "outputs": [
    {
     "data": {
      "text/plain": [
       "dict_keys([24, 28, 33, 37, 40, 41])"
      ]
     },
     "execution_count": 24,
     "metadata": {},
     "output_type": "execute_result"
    }
   ],
   "source": [
    "nested_clus_model_dict['Iter18'].keys()"
   ]
  },
  {
   "cell_type": "code",
   "execution_count": 25,
   "id": "793e6c7c",
   "metadata": {},
   "outputs": [
    {
     "data": {
      "text/plain": [
       "CNNModel(\n",
       "  (conv1): Conv1d(1, 32, kernel_size=(3,), stride=(1,), padding=(1,))\n",
       "  (bn1): Identity()\n",
       "  (conv2): Conv1d(32, 64, kernel_size=(3,), stride=(1,), padding=(1,))\n",
       "  (bn2): Identity()\n",
       "  (fc1): Linear(in_features=1280, out_features=128, bias=True)\n",
       "  (dropout): Dropout(p=0.5, inplace=False)\n",
       "  (fc2): Linear(in_features=128, out_features=10, bias=True)\n",
       "  (relu): ReLU()\n",
       "  (maxpool): MaxPool1d(kernel_size=2, stride=2, padding=0, dilation=1, ceil_mode=False)\n",
       ")"
      ]
     },
     "execution_count": 25,
     "metadata": {},
     "output_type": "execute_result"
    }
   ],
   "source": [
    "clus41_model = nested_clus_model_dict['Iter18'][41]\n",
    "clus41_model"
   ]
  },
  {
   "cell_type": "code",
   "execution_count": 26,
   "id": "39737416",
   "metadata": {},
   "outputs": [],
   "source": [
    "# EVALUATION\n",
    "\n",
    "# I would need to \n",
    "## 1) know which pids are in each cluster, at each merge iteration, \n",
    "## 2) bissect the datasets accordingly, \n",
    "## 3) create the trainloaders\n",
    "\n",
    "# And idk from which merge iteration I would report the results from...\n",
    "## Obv wouldnt want to show 30 iterations x 2-30 clusters per iter..."
   ]
  },
  {
   "cell_type": "code",
   "execution_count": 27,
   "id": "8c761d68",
   "metadata": {},
   "outputs": [
    {
     "name": "stdout",
     "output_type": "stream",
     "text": [
      "Test features, labels: 70, 70\n"
     ]
    },
    {
     "name": "stderr",
     "output_type": "stream",
     "text": [
      "C:\\Users\\kdmen\\Repos\\fl-gestures\\ELEC573_Proj\\DNN_FT_funcs.py:17: UserWarning: Creating a tensor from a list of numpy.ndarrays is extremely slow. Please consider converting the list to a single numpy.ndarray with numpy.array() before converting to a tensor. (Triggered internally at C:\\cb\\pytorch_1000000000000\\work\\torch\\csrc\\utils\\tensor_new.cpp:248.)\n",
      "  self.features = torch.tensor(features, dtype=torch.float32)\n"
     ]
    }
   ],
   "source": [
    "# P132 Finetuning Dataset!\n",
    "ft_132_dataset = GestureDataset(features_p132, labels_p132)\n",
    "ft_132_loader = DataLoader(ft_132_dataset, batch_size=16, shuffle=True)\n",
    "\n",
    "# P132 Testing Dataset!\n",
    "first_test_participant_testset = data_splits['cross_subject_test']\n",
    "indices = [i for i, pid in enumerate(first_test_participant_testset['participant_ids']) if pid == participant_id]\n",
    "test_features_p132 = [first_test_participant_testset['feature'][i] for i in indices]\n",
    "test_labels_p132 = [first_test_participant_testset['labels'][i] for i in indices]\n",
    "print(f\"Test features, labels: {len(test_features_p132)}, {len(test_labels_p132)}\")\n",
    "# Datasets and loaders\n",
    "p132_test_loader = DataLoader(GestureDataset(test_features_p132, test_labels_p132), batch_size=32, shuffle=True)"
   ]
  },
  {
   "cell_type": "code",
   "execution_count": 29,
   "id": "8a88f01c",
   "metadata": {},
   "outputs": [],
   "source": [
    "# Extract the original pretrained model weights since finetuning happens in place\n",
    "frozen_clus41_pretrained_model_state = copy.deepcopy(clus41_model.state_dict())\n",
    "\n",
    "# THIS UPDATES clus41_model IN PLACE!!!!\n",
    "ft132_model, clus41_model, ft132_train_loss_log, ft132_test_loss_log = fine_tune_model(\n",
    "    clus41_model, ft_132_loader, p132_test_loader, num_epochs=20, lr=0.00001)"
   ]
  },
  {
   "cell_type": "code",
   "execution_count": 30,
   "id": "166609b5",
   "metadata": {},
   "outputs": [
    {
     "name": "stdout",
     "output_type": "stream",
     "text": [
      "Difference in weights found --> Not the same model weights!\n"
     ]
    }
   ],
   "source": [
    "same = True\n",
    "for base_param, finetuned_param in zip(clus41_model.named_parameters(), ft132_model.named_parameters()):\n",
    "    if not torch.allclose(base_param[1], finetuned_param[1]):\n",
    "        same = False\n",
    "if same:\n",
    "    print(\"All weights are close --> Same model weights!\")\n",
    "else:\n",
    "    print(\"Difference in weights found --> Not the same model weights!\")"
   ]
  },
  {
   "cell_type": "code",
   "execution_count": 31,
   "id": "f0b03cab",
   "metadata": {},
   "outputs": [],
   "source": [
    "# WANT TO COMPARE THE MODEL PERFORMANCE ON THE NOVEL CLIENT PRE AND POST FT\n",
    "## VARY AMOUNT OF FT: \n",
    "## 1) hyperparams (epoch, lr, weight decay, dropout, etc) and \n",
    "## 2) how much data from novel_trainFT is used"
   ]
  },
  {
   "cell_type": "code",
   "execution_count": 32,
   "id": "61a21020",
   "metadata": {},
   "outputs": [],
   "source": [
    "#def evaluate_model(model, dataloader, criterion=nn.CrossEntropyLoss(), device=None):    \n",
    "#    return {\n",
    "#        'loss': total_loss / len(dataloader),\n",
    "#        'accuracy': np.mean(np.array(all_preds) == np.array(all_labels)),\n",
    "#        'predictions': all_preds,\n",
    "#        'true_labels': all_labels\n",
    "#    }"
   ]
  },
  {
   "cell_type": "code",
   "execution_count": 33,
   "id": "1bdeedae",
   "metadata": {},
   "outputs": [
    {
     "name": "stdout",
     "output_type": "stream",
     "text": [
      "0.14285714285714285\n"
     ]
    }
   ],
   "source": [
    "generic41_on_132_res = evaluate_model(clus41_model, p132_test_loader) \n",
    "print(generic41_on_132_res['accuracy'])\n",
    "\n",
    "# Would also be interesting to see the distribution of pred labels vs true labels"
   ]
  },
  {
   "cell_type": "code",
   "execution_count": 34,
   "id": "b9191a68",
   "metadata": {},
   "outputs": [
    {
     "name": "stdout",
     "output_type": "stream",
     "text": [
      "0.18571428571428572\n"
     ]
    }
   ],
   "source": [
    "ft41_on_132_res = evaluate_model(ft132_model, p132_test_loader) \n",
    "print(ft41_on_132_res['accuracy'])\n",
    "\n",
    "# Would also be interesting to see the distribution of pred labels vs true labels"
   ]
  },
  {
   "cell_type": "code",
   "execution_count": 35,
   "id": "1bd6f50d",
   "metadata": {},
   "outputs": [
    {
     "name": "stdout",
     "output_type": "stream",
     "text": [
      "2.720258633295695\n",
      "2.578359842300415\n"
     ]
    }
   ],
   "source": [
    "print(generic41_on_132_res['loss'])\n",
    "print(ft41_on_132_res['loss'])"
   ]
  },
  {
   "cell_type": "code",
   "execution_count": 36,
   "id": "2adb234f",
   "metadata": {},
   "outputs": [
    {
     "data": {
      "image/png": "[encoded data removed]",
      "text/plain": [
       "<Figure size 640x480 with 1 Axes>"
      ]
     },
     "metadata": {},
     "output_type": "display_data"
    }
   ],
   "source": [
    "\n",
    "# Create histogram\n",
    "plt.hist(ft41_on_132_res['predictions'], bins=range(0, 11), edgecolor='black', alpha=0.5, label=\"Pred\")\n",
    "plt.hist(ft41_on_132_res['true_labels'], bins=range(0, 11), edgecolor='black', alpha=0.5, label=\"True\")\n",
    "plt.title('Distribution of Predicted/True Gesture IDs')\n",
    "plt.xlabel('Gesture ID')\n",
    "plt.ylabel('Count')\n",
    "plt.legend()\n",
    "plt.show()\n"
   ]
  },
  {
   "cell_type": "code",
   "execution_count": null,
   "id": "6df96cfd",
   "metadata": {},
   "outputs": [],
   "source": []
  },
  {
   "cell_type": "code",
   "execution_count": null,
   "id": "5f8f0579",
   "metadata": {},
   "outputs": [],
   "source": []
  },
  {
   "cell_type": "code",
   "execution_count": null,
   "id": "690cc2e9",
   "metadata": {},
   "outputs": [],
   "source": []
  },
  {
   "cell_type": "code",
   "execution_count": null,
   "id": "dcd59a92",
   "metadata": {},
   "outputs": [],
   "source": []
  },
  {
   "cell_type": "code",
   "execution_count": null,
   "id": "9410bb24",
   "metadata": {},
   "outputs": [],
   "source": []
  },
  {
   "cell_type": "code",
   "execution_count": null,
   "id": "00dcba6f",
   "metadata": {},
   "outputs": [],
   "source": []
  },
  {
   "cell_type": "code",
   "execution_count": null,
   "id": "5d829c98",
   "metadata": {},
   "outputs": [],
   "source": [
    "assert(False)"
   ]
  },
  {
   "cell_type": "code",
   "execution_count": null,
   "id": "a1a6cb9f",
   "metadata": {},
   "outputs": [],
   "source": [
    "# NEED TO EVALUATE FINETUNED MODEL, at least on said user's data...\n",
    "\n",
    "# Evaluation\n",
    "train_results = evaluate_model(model, train_loader)\n",
    "intra_test_results = evaluate_model(model, intra_test_loader)\n",
    "cross_test_results = evaluate_model(model, cross_test_loader)\n",
    "\n",
    "# Performance by participant and gesture\n",
    "train_performance = gesture_performance_by_participant(\n",
    "    train_results['predictions'], \n",
    "    train_results['true_labels'], \n",
    "    data_splits['train']['participant_ids'], \n",
    "    all_participants, \n",
    "    unique_gestures\n",
    ")\n",
    "\n",
    "intra_test_performance = gesture_performance_by_participant(\n",
    "    intra_test_results['predictions'], \n",
    "    intra_test_results['true_labels'], \n",
    "    data_splits['intra_subject_test']['participant_ids'], \n",
    "    [participant for participant in all_participants if participant not in test_participants], \n",
    "    unique_gestures\n",
    ")\n",
    "\n",
    "cross_test_performance = gesture_performance_by_participant(\n",
    "    cross_test_results['predictions'], \n",
    "    cross_test_results['true_labels'], \n",
    "    data_splits['cross_subject_test']['participant_ids'], \n",
    "    test_participants, \n",
    "    unique_gestures\n",
    ")\n",
    "\n",
    "return {\n",
    "    'model': model,\n",
    "    'train_performance': train_performance,\n",
    "    'intra_test_performance': intra_test_performance,\n",
    "    'cross_test_performance': cross_test_performance,\n",
    "    'train_accuracy': train_results['accuracy'],\n",
    "    'intra_test_accuracy': intra_test_results['accuracy'],\n",
    "    'cross_test_accuracy': cross_test_results['accuracy']\n",
    "}\n",
    "\n",
    "# Example usage in main script\n",
    "visualize_model_performance(results)\n",
    "\n",
    "# Example usage in main script\n",
    "log_file = log_performance(results)\n",
    "print(f\"Detailed performance log saved to: {log_file}\")"
   ]
  },
  {
   "cell_type": "markdown",
   "id": "397ce5ef",
   "metadata": {},
   "source": [
    "# Logging\n",
    "> Really ought to log results somehow..."
   ]
  },
  {
   "cell_type": "code",
   "execution_count": null,
   "id": "99d95505",
   "metadata": {},
   "outputs": [],
   "source": []
  }
 ],
 "metadata": {
  "kernelspec": {
   "display_name": "Python 3 (ipykernel)",
   "language": "python",
   "name": "python3"
  },
  "language_info": {
   "codemirror_mode": {
    "name": "ipython",
    "version": 3
   },
   "file_extension": ".py",
   "mimetype": "text/x-python",
   "name": "python",
   "nbconvert_exporter": "python",
   "pygments_lexer": "ipython3",
   "version": "3.10.10"
  }
 },
 "nbformat": 4,
 "nbformat_minor": 5
}
