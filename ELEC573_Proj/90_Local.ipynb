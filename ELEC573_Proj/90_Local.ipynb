{
 "cells": [
  {
   "cell_type": "markdown",
   "id": "7c0fef36",
   "metadata": {},
   "source": [
    "> __Purpose:__ This NB tests a given Local model and visualizes the train/test curves to investigate over/under-fitting"
   ]
  },
  {
   "cell_type": "code",
   "execution_count": 1,
   "id": "a62336d2",
   "metadata": {},
   "outputs": [
    {
     "name": "stdout",
     "output_type": "stream",
     "text": [
      "Current Working Directory:  c:\\Users\\kdmen\\Repos\\fl-gestures\\ELEC573_Proj\n"
     ]
    }
   ],
   "source": [
    "import pandas as pd\n",
    "#import numpy as np\n",
    "#import random\n",
    "#np.random.seed(42) \n",
    "from sklearn.preprocessing import LabelEncoder\n",
    "#from sklearn.model_selection import KFold\n",
    "#from sklearn.cross_decomposition import CCA\n",
    "#from sklearn.decomposition import PCA\n",
    "\n",
    "from moments_engr import *\n",
    "from agglo_model_clust import *\n",
    "from DNN_FT_funcs import *\n",
    "from DNN_AMC_funcs import *\n",
    "from hyperparam_tuned_configs import *\n"
   ]
  },
  {
   "cell_type": "code",
   "execution_count": null,
   "id": "2123bac7",
   "metadata": {},
   "outputs": [],
   "source": [
    "MODEL_STR = \"DynamicMomonaNet\"\n",
    "MY_CONFIG = DynamicMomonaNet_config\n",
    "NUM_LOCAL_MODELS = 15\n",
    "\n",
    "expdef_df = load_expdef_gestures(apply_hc_feateng=False)\n",
    "all_participants = list(expdef_df['Participant'].unique())\n"
   ]
  },
  {
   "cell_type": "code",
   "execution_count": null,
   "id": "d2f8a8cc",
   "metadata": {},
   "outputs": [],
   "source": [
    "# Choosing NUM_LOCAL_MODELS somewhat arbitrarily, don't need to look at all 32 results... save some computation ig\n",
    "# Setting num_gesture_training_trials=3 so that this replicates finetuning data used for local\n",
    "# num_gesture_ft_trials should not be used I don't think, not in main_training_pipeline anyways\n",
    "data_splits = make_data_split(expdef_df, num_gesture_training_trials=3, num_gesture_ft_trials=3, num_train_users=NUM_LOCAL_MODELS)\n"
   ]
  },
  {
   "cell_type": "code",
   "execution_count": null,
   "id": "f22e3145",
   "metadata": {},
   "outputs": [],
   "source": [
    "\n",
    "res_dict_lst = []\n",
    "#for pid in train_df['participant_ids'].unique():\n",
    "for p_idx, pid in enumerate(list(set(data_splits['train']['participant_ids']))):\n",
    "    print(f\"Training local model for {pid} ({p_idx}/{NUM_LOCAL_MODELS})\")\n",
    "    res_dict_lst.append(main_training_pipeline(data_splits, all_participants, data_splits['cross_subject_test']['participant_ids'], MODEL_STR, MY_CONFIG))\n",
    "\n"
   ]
  },
  {
   "cell_type": "code",
   "execution_count": null,
   "id": "4573f39a",
   "metadata": {},
   "outputs": [],
   "source": []
  },
  {
   "cell_type": "code",
   "execution_count": null,
   "id": "987e58a4",
   "metadata": {},
   "outputs": [],
   "source": [
    "# Save the data to a file\n",
    "## TODO: Ensure this is saving to the correct place\n",
    "## TODO: This is the saving for the AMC, not for local.\n",
    "# Need to save the results from local tho...\n",
    "#print(f'{MY_CONFIG[\"results_save_dir\"]}\\\\{MY_CONFIG[\"timestamp\"]}')\n",
    "#print()\n",
    "#with open(f'{MY_CONFIG[\"results_save_dir\"]}\\\\{MY_CONFIG[\"timestamp\"]}_{MODEL_STR}_agglo_merge_res.pkl', 'wb') as f:\n",
    "#    pickle.dump(merge_log, f)\n",
    "#    pickle.dump(intra_cluster_performance, f)\n",
    "#    pickle.dump(cross_cluster_performance, f)\n",
    "#    pickle.dump(nested_clus_model_dict, f)\n",
    "#print(\"Data has been saved successfully!\")"
   ]
  }
 ],
 "metadata": {
  "kernelspec": {
   "display_name": "fl_torch",
   "language": "python",
   "name": "python3"
  },
  "language_info": {
   "codemirror_mode": {
    "name": "ipython",
    "version": 3
   },
   "file_extension": ".py",
   "mimetype": "text/x-python",
   "name": "python",
   "nbconvert_exporter": "python",
   "pygments_lexer": "ipython3",
   "version": "3.10.10"
  }
 },
 "nbformat": 4,
 "nbformat_minor": 5
}
