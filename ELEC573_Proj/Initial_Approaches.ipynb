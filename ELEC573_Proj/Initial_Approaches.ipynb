{
 "cells": [
  {
   "cell_type": "code",
   "execution_count": 10,
   "id": "a62336d2",
   "metadata": {},
   "outputs": [],
   "source": [
    "import pandas as pd\n",
    "import pickle\n",
    "import numpy as np\n",
    "from sklearn.model_selection import KFold\n",
    "from sklearn.preprocessing import LabelEncoder\n",
    "from sklearn.cross_decomposition import CCA\n",
    "from sklearn.decomposition import PCA\n",
    "from sklearn.preprocessing import StandardScaler\n",
    "\n",
    "from sklearn.linear_model import LogisticRegression\n",
    "from sklearn.svm import SVC\n",
    "from sklearn.ensemble import RandomForestClassifier\n",
    "#from xgboost import XGBClassifier\n",
    "from sklearn.ensemble import GradientBoostingClassifier\n",
    "from sklearn.neighbors import KNeighborsClassifier\n",
    "\n",
    "from sklearn.datasets import make_classification\n",
    "from sklearn.model_selection import train_test_split\n",
    "from sklearn.metrics import accuracy_score\n",
    "\n",
    "import matplotlib.pyplot as plt\n",
    "#import seaborn as sns\n",
    "\n",
    "from moments_engr import *"
   ]
  },
  {
   "cell_type": "code",
   "execution_count": 11,
   "id": "33b80c7d",
   "metadata": {},
   "outputs": [],
   "source": [
    "path1 = 'C:\\\\Users\\\\kdmen\\\\Box\\\\Meta_Gesture_2024\\\\saved_datasets\\\\filtered_datasets\\\\$BStand_EMG_df.pkl'\n",
    "\n",
    "with open(path1, 'rb') as file:\n",
    "    raw_userdef_data_df = pickle.load(file)  # (204800, 19)\n",
    " "
   ]
  },
  {
   "cell_type": "code",
   "execution_count": 12,
   "id": "b710811a",
   "metadata": {},
   "outputs": [
    {
     "name": "stdout",
     "output_type": "stream",
     "text": [
      "(204800, 19)\n"
     ]
    },
    {
     "data": {
      "text/html": [
       "<div>\n",
       "<style scoped>\n",
       "    .dataframe tbody tr th:only-of-type {\n",
       "        vertical-align: middle;\n",
       "    }\n",
       "\n",
       "    .dataframe tbody tr th {\n",
       "        vertical-align: top;\n",
       "    }\n",
       "\n",
       "    .dataframe thead th {\n",
       "        text-align: right;\n",
       "    }\n",
       "</style>\n",
       "<table border=\"1\" class=\"dataframe\">\n",
       "  <thead>\n",
       "    <tr style=\"text-align: right;\">\n",
       "      <th></th>\n",
       "      <th>Participant</th>\n",
       "      <th>Gesture_ID</th>\n",
       "      <th>Gesture_Num</th>\n",
       "      <th>EMG1</th>\n",
       "      <th>EMG2</th>\n",
       "      <th>EMG3</th>\n",
       "      <th>EMG4</th>\n",
       "      <th>EMG5</th>\n",
       "      <th>EMG6</th>\n",
       "      <th>EMG7</th>\n",
       "      <th>EMG8</th>\n",
       "      <th>EMG9</th>\n",
       "      <th>EMG10</th>\n",
       "      <th>EMG11</th>\n",
       "      <th>EMG12</th>\n",
       "      <th>EMG13</th>\n",
       "      <th>EMG14</th>\n",
       "      <th>EMG15</th>\n",
       "      <th>EMG16</th>\n",
       "    </tr>\n",
       "  </thead>\n",
       "  <tbody>\n",
       "    <tr>\n",
       "      <th>0</th>\n",
       "      <td>P102</td>\n",
       "      <td>pan</td>\n",
       "      <td>1</td>\n",
       "      <td>-0.362743</td>\n",
       "      <td>-0.801651</td>\n",
       "      <td>-0.383077</td>\n",
       "      <td>-0.195299</td>\n",
       "      <td>-0.203047</td>\n",
       "      <td>-0.464472</td>\n",
       "      <td>-0.276292</td>\n",
       "      <td>-0.026736</td>\n",
       "      <td>-0.873870</td>\n",
       "      <td>-1.036152</td>\n",
       "      <td>-0.580930</td>\n",
       "      <td>-0.719494</td>\n",
       "      <td>-0.502255</td>\n",
       "      <td>-1.750091</td>\n",
       "      <td>-0.127847</td>\n",
       "      <td>-0.094192</td>\n",
       "    </tr>\n",
       "    <tr>\n",
       "      <th>1</th>\n",
       "      <td>P102</td>\n",
       "      <td>pan</td>\n",
       "      <td>1</td>\n",
       "      <td>-0.351553</td>\n",
       "      <td>-0.775334</td>\n",
       "      <td>-0.382545</td>\n",
       "      <td>-0.154773</td>\n",
       "      <td>-0.131977</td>\n",
       "      <td>-0.295204</td>\n",
       "      <td>-0.125822</td>\n",
       "      <td>0.089679</td>\n",
       "      <td>-0.816215</td>\n",
       "      <td>-2.082635</td>\n",
       "      <td>-0.006283</td>\n",
       "      <td>-0.139439</td>\n",
       "      <td>-0.367764</td>\n",
       "      <td>-0.208084</td>\n",
       "      <td>-0.111811</td>\n",
       "      <td>-0.039009</td>\n",
       "    </tr>\n",
       "    <tr>\n",
       "      <th>2</th>\n",
       "      <td>P102</td>\n",
       "      <td>pan</td>\n",
       "      <td>1</td>\n",
       "      <td>-0.380825</td>\n",
       "      <td>-0.762588</td>\n",
       "      <td>-0.398388</td>\n",
       "      <td>-0.085411</td>\n",
       "      <td>0.017528</td>\n",
       "      <td>-0.205675</td>\n",
       "      <td>-0.068451</td>\n",
       "      <td>0.117076</td>\n",
       "      <td>-0.668221</td>\n",
       "      <td>-3.403064</td>\n",
       "      <td>-0.526030</td>\n",
       "      <td>-0.478294</td>\n",
       "      <td>-0.300443</td>\n",
       "      <td>0.203266</td>\n",
       "      <td>0.113300</td>\n",
       "      <td>0.004728</td>\n",
       "    </tr>\n",
       "    <tr>\n",
       "      <th>3</th>\n",
       "      <td>P102</td>\n",
       "      <td>pan</td>\n",
       "      <td>1</td>\n",
       "      <td>-0.366795</td>\n",
       "      <td>-0.765464</td>\n",
       "      <td>-0.374423</td>\n",
       "      <td>-0.073225</td>\n",
       "      <td>0.183172</td>\n",
       "      <td>0.009277</td>\n",
       "      <td>-0.058907</td>\n",
       "      <td>0.080977</td>\n",
       "      <td>-0.424416</td>\n",
       "      <td>-3.709413</td>\n",
       "      <td>-0.570894</td>\n",
       "      <td>-0.775155</td>\n",
       "      <td>-0.144710</td>\n",
       "      <td>-0.619539</td>\n",
       "      <td>0.146499</td>\n",
       "      <td>0.199975</td>\n",
       "    </tr>\n",
       "    <tr>\n",
       "      <th>4</th>\n",
       "      <td>P102</td>\n",
       "      <td>pan</td>\n",
       "      <td>1</td>\n",
       "      <td>-0.245578</td>\n",
       "      <td>-0.761283</td>\n",
       "      <td>-0.303976</td>\n",
       "      <td>-0.081947</td>\n",
       "      <td>0.224996</td>\n",
       "      <td>0.103319</td>\n",
       "      <td>-0.003929</td>\n",
       "      <td>0.041526</td>\n",
       "      <td>-0.016530</td>\n",
       "      <td>-4.075150</td>\n",
       "      <td>-0.127710</td>\n",
       "      <td>2.682791</td>\n",
       "      <td>-0.141750</td>\n",
       "      <td>-0.208404</td>\n",
       "      <td>-0.035642</td>\n",
       "      <td>0.172662</td>\n",
       "    </tr>\n",
       "  </tbody>\n",
       "</table>\n",
       "</div>"
      ],
      "text/plain": [
       "  Participant Gesture_ID Gesture_Num      EMG1      EMG2      EMG3      EMG4   \n",
       "0        P102        pan           1 -0.362743 -0.801651 -0.383077 -0.195299  \\\n",
       "1        P102        pan           1 -0.351553 -0.775334 -0.382545 -0.154773   \n",
       "2        P102        pan           1 -0.380825 -0.762588 -0.398388 -0.085411   \n",
       "3        P102        pan           1 -0.366795 -0.765464 -0.374423 -0.073225   \n",
       "4        P102        pan           1 -0.245578 -0.761283 -0.303976 -0.081947   \n",
       "\n",
       "       EMG5      EMG6      EMG7      EMG8      EMG9     EMG10     EMG11   \n",
       "0 -0.203047 -0.464472 -0.276292 -0.026736 -0.873870 -1.036152 -0.580930  \\\n",
       "1 -0.131977 -0.295204 -0.125822  0.089679 -0.816215 -2.082635 -0.006283   \n",
       "2  0.017528 -0.205675 -0.068451  0.117076 -0.668221 -3.403064 -0.526030   \n",
       "3  0.183172  0.009277 -0.058907  0.080977 -0.424416 -3.709413 -0.570894   \n",
       "4  0.224996  0.103319 -0.003929  0.041526 -0.016530 -4.075150 -0.127710   \n",
       "\n",
       "      EMG12     EMG13     EMG14     EMG15     EMG16  \n",
       "0 -0.719494 -0.502255 -1.750091 -0.127847 -0.094192  \n",
       "1 -0.139439 -0.367764 -0.208084 -0.111811 -0.039009  \n",
       "2 -0.478294 -0.300443  0.203266  0.113300  0.004728  \n",
       "3 -0.775155 -0.144710 -0.619539  0.146499  0.199975  \n",
       "4  2.682791 -0.141750 -0.208404 -0.035642  0.172662  "
      ]
     },
     "execution_count": 12,
     "metadata": {},
     "output_type": "execute_result"
    }
   ],
   "source": [
    "print(raw_userdef_data_df.shape)\n",
    "raw_userdef_data_df.head()"
   ]
  },
  {
   "cell_type": "markdown",
   "id": "c0375f2f",
   "metadata": {},
   "source": [
    " As a preliminary step, we can simulate each user training a gesture classification model using solely their own dataset. We can then execute a pairwise comparison, where we test each user’s model and every other user’s dataset, and report the score. At this point, we can begin a agglomerative clustering procedure, by either clustering the two users with the highest corresponding scores, or by clustering all users that achieved above some minimum cross-subject classification accuracy. Then, we can repeat this procedure on the newly formed clusters, this time training a single model over all the data in the given cluster. By repeating this process until only one model remains, we can generate a dendrogram showing which users are best clustered in order to train cluster-level models. One issue with this approach is that as the clusters grow, the training sets will grow in tandem. To a limited extent, this can be offset by limiting all dataset sizes to the size of single user’s dataset and having the cluster model train on a random sample of gestures. An alternative approach would be to enforce all users into clusters of the same size each round, so that all clusters have the same dataset size, although this would artificially create many clusters. However, we also expect to have the opposite problem, as in myprevious works I have shown that cross-subject models typically perform poorly in general for these types of tasks, e.g. that training over multiple users will likely only grant modest improvements in performance, if any (especially if fixing the training dataset size). The goal of this procedure is to yield clusters for which the internal cluster model performs better than any of the intra-subject models within the cluster. Even if the internal cluster model does not outperform all intra-subject models, as long as it reduces the calibration / number of samples required from a novel user, this is still a success."
   ]
  },
  {
   "cell_type": "code",
   "execution_count": 96,
   "id": "7ade3f7b",
   "metadata": {},
   "outputs": [
    {
     "name": "stdout",
     "output_type": "stream",
     "text": [
      "(3200, 6)\n"
     ]
    },
    {
     "data": {
      "text/html": [
       "<div>\n",
       "<style scoped>\n",
       "    .dataframe tbody tr th:only-of-type {\n",
       "        vertical-align: middle;\n",
       "    }\n",
       "\n",
       "    .dataframe tbody tr th {\n",
       "        vertical-align: top;\n",
       "    }\n",
       "\n",
       "    .dataframe thead th {\n",
       "        text-align: right;\n",
       "    }\n",
       "</style>\n",
       "<table border=\"1\" class=\"dataframe\">\n",
       "  <thead>\n",
       "    <tr style=\"text-align: right;\">\n",
       "      <th></th>\n",
       "      <th>Participant</th>\n",
       "      <th>Gesture_ID</th>\n",
       "      <th>Gesture_Num</th>\n",
       "      <th>feature</th>\n",
       "      <th>Gesture_Encoded</th>\n",
       "      <th>Cluster_ID</th>\n",
       "    </tr>\n",
       "  </thead>\n",
       "  <tbody>\n",
       "    <tr>\n",
       "      <th>0</th>\n",
       "      <td>P004</td>\n",
       "      <td>close</td>\n",
       "      <td>1</td>\n",
       "      <td>[[6.079045311063784], [-7.551458873254243], [-...</td>\n",
       "      <td>0</td>\n",
       "      <td>0</td>\n",
       "    </tr>\n",
       "    <tr>\n",
       "      <th>1</th>\n",
       "      <td>P004</td>\n",
       "      <td>close</td>\n",
       "      <td>10</td>\n",
       "      <td>[[5.994789910363704], [-7.978871468164499], [-...</td>\n",
       "      <td>0</td>\n",
       "      <td>0</td>\n",
       "    </tr>\n",
       "    <tr>\n",
       "      <th>2</th>\n",
       "      <td>P004</td>\n",
       "      <td>close</td>\n",
       "      <td>2</td>\n",
       "      <td>[[6.010193380499154], [-7.7063875553339], [-20...</td>\n",
       "      <td>0</td>\n",
       "      <td>0</td>\n",
       "    </tr>\n",
       "    <tr>\n",
       "      <th>3</th>\n",
       "      <td>P004</td>\n",
       "      <td>close</td>\n",
       "      <td>3</td>\n",
       "      <td>[[5.8212078257286874], [-7.463908156909893], [...</td>\n",
       "      <td>0</td>\n",
       "      <td>0</td>\n",
       "    </tr>\n",
       "    <tr>\n",
       "      <th>4</th>\n",
       "      <td>P004</td>\n",
       "      <td>close</td>\n",
       "      <td>4</td>\n",
       "      <td>[[5.974675085061773], [-7.945111601415482], [-...</td>\n",
       "      <td>0</td>\n",
       "      <td>0</td>\n",
       "    </tr>\n",
       "  </tbody>\n",
       "</table>\n",
       "</div>"
      ],
      "text/plain": [
       "  Participant Gesture_ID Gesture_Num   \n",
       "0        P004      close           1  \\\n",
       "1        P004      close          10   \n",
       "2        P004      close           2   \n",
       "3        P004      close           3   \n",
       "4        P004      close           4   \n",
       "\n",
       "                                             feature  Gesture_Encoded   \n",
       "0  [[6.079045311063784], [-7.551458873254243], [-...                0  \\\n",
       "1  [[5.994789910363704], [-7.978871468164499], [-...                0   \n",
       "2  [[6.010193380499154], [-7.7063875553339], [-20...                0   \n",
       "3  [[5.8212078257286874], [-7.463908156909893], [...                0   \n",
       "4  [[5.974675085061773], [-7.945111601415482], [-...                0   \n",
       "\n",
       "   Cluster_ID  \n",
       "0           0  \n",
       "1           0  \n",
       "2           0  \n",
       "3           0  \n",
       "4           0  "
      ]
     },
     "execution_count": 96,
     "metadata": {},
     "output_type": "execute_result"
    }
   ],
   "source": [
    "# STEP 1: Train a classification model on every single individual user\n",
    "\n",
    "userdef_df = df1.groupby(['Participant', 'Gesture_ID', 'Gesture_Num']).apply(create_feature_vectors)\n",
    "#output is df with particpant, gesture_ID, gesture_num and feature (holds 80 len vector)\n",
    "userdef_df = userdef_df.reset_index(drop=True)\n",
    "\n",
    "#convert Gesture_ID to numerical with new Gesture_Encoded column\n",
    "label_encoder = LabelEncoder()\n",
    "userdef_df['Gesture_Encoded'] = label_encoder.fit_transform(userdef_df['Gesture_ID'])\n",
    "\n",
    "label_encoder2 = LabelEncoder()\n",
    "userdef_df['Cluster_ID'] = label_encoder2.fit_transform(userdef_df['Participant'])\n",
    "\n",
    "print(userdef_df.shape)\n",
    "userdef_df.head()"
   ]
  },
  {
   "cell_type": "code",
   "execution_count": 44,
   "id": "091d9969",
   "metadata": {},
   "outputs": [
    {
     "name": "stdout",
     "output_type": "stream",
     "text": [
      "Cluster 0 of 32\n",
      "Cluster 1 of 32\n",
      "Cluster 2 of 32\n",
      "Cluster 3 of 32\n",
      "Cluster 4 of 32\n",
      "Cluster 5 of 32\n",
      "Cluster 6 of 32\n",
      "Cluster 7 of 32\n",
      "Cluster 8 of 32\n",
      "Cluster 9 of 32\n",
      "Cluster 10 of 32\n",
      "Cluster 11 of 32\n",
      "Cluster 12 of 32\n",
      "Cluster 13 of 32\n",
      "Cluster 14 of 32\n",
      "Cluster 15 of 32\n",
      "Cluster 16 of 32\n",
      "Cluster 17 of 32\n",
      "Cluster 18 of 32\n",
      "Cluster 19 of 32\n",
      "Cluster 20 of 32\n",
      "Cluster 21 of 32\n",
      "Cluster 22 of 32\n",
      "Cluster 23 of 32\n",
      "Cluster 24 of 32\n",
      "Cluster 25 of 32\n",
      "Cluster 26 of 32\n",
      "Cluster 27 of 32\n",
      "Cluster 28 of 32\n",
      "Cluster 29 of 32\n",
      "Cluster 30 of 32\n",
      "Cluster 31 of 32\n"
     ]
    }
   ],
   "source": [
    "my_clusters_lst = userdef_df['Cluster_ID'].unique()\n",
    "\n",
    "#clus_logreg_model_lst = []\n",
    "clus_svc_model_lst = []\n",
    "clus_rf_model_lst = []\n",
    "clus_gbc_model_lst = []\n",
    "clus_knn_model_lst = []\n",
    "\n",
    "for clus_idx, clus in enumerate(my_clusters_lst):\n",
    "    print(f\"Cluster {clus_idx} of {len(my_clusters_lst)}\")\n",
    "    #for pid in clus:  # Eg if clus contains multiple users (won't at start FWIW)\n",
    "    if type(clus) is not type([]):\n",
    "        clus = [clus]\n",
    "    clus_trainset = userdef_df[userdef_df['Participant'].isin(clus)]\n",
    "    \n",
    "    X_train, X_test, y_train, y_test = train_test_split(np.array(clus_trainset['feature']), np.array(clus_trainset['Gesture_Encoded']), test_size=0.3, random_state=42, stratify=np.array(clus_trainset['Gesture_Encoded']))\n",
    "    # Dont think Im using X_test or y_test above... I could for benchmarking, but I'll just do it in the below loop...\n",
    "    #X_train_fixed = np.squeeze(np.array([x.flatten() for x in X_train]), axis=-1)\n",
    "    X_train_fixed = np.array([x.flatten() for x in X_train])\n",
    "    X_train = X_train_fixed\n",
    "    \n",
    "    # Was reaching max iter without converging\n",
    "    # Logistic Regression\n",
    "    #log_reg = LogisticRegression(random_state=42)\n",
    "    #log_reg.fit(X_train, y_train)\n",
    "    #y_pred = log_reg.predict(X_test)\n",
    "    #print(f\"Logistic Regression Accuracy: {accuracy_score(y_test, y_pred):.2f}\")\n",
    "\n",
    "    # Support Vector Machine\n",
    "    svm = SVC(kernel='rbf', random_state=42)\n",
    "    svm.fit(X_train, y_train)\n",
    "    #y_pred = svm.predict(X_test)\n",
    "    #print(f\"SVM Accuracy: {accuracy_score(y_test, y_pred):.2f}\")\n",
    "\n",
    "    # Random Forest\n",
    "    rf = RandomForestClassifier(n_estimators=100, random_state=42)\n",
    "    rf.fit(X_train, y_train)\n",
    "    #y_pred = rf.predict(X_test)\n",
    "    #print(f\"Random Forest Accuracy: {accuracy_score(y_test, y_pred):.2f}\")\n",
    "\n",
    "    # XGBoost\n",
    "    #xgb = XGBClassifier(random_state=42, use_label_encoder=False, eval_metric='logloss')\n",
    "    #xgb.fit(X_train, y_train)\n",
    "    #y_pred = xgb.predict(X_test)\n",
    "    #print(f\"XGBoost Accuracy: {accuracy_score(y_test, y_pred):.2f}\")\n",
    "    # Gradient Boosting Classifier\n",
    "    gbc = GradientBoostingClassifier(random_state=42)\n",
    "    gbc.fit(X_train, y_train)\n",
    "    #y_pred = gbc.predict(X_test)\n",
    "    #print(f\"Gradient Boosting Classifier Accuracy: {accuracy_score(y_test, y_pred):.2f}\")\n",
    "\n",
    "    # k-NN\n",
    "    knn = KNeighborsClassifier(n_neighbors=5)\n",
    "    knn.fit(X_train, y_train)\n",
    "    #y_pred = knn.predict(X_test)\n",
    "    #print(f\"k-NN Accuracy: {accuracy_score(y_test, y_pred):.2f}\")\n",
    "    \n",
    "    # Log all models\n",
    "    #clus_logreg_model_lst.append(log_reg)\n",
    "    clus_svc_model_lst.append(svm)\n",
    "    clus_rf_model_lst.append(rf)\n",
    "    clus_gbc_model_lst.append(gbc)\n",
    "    clus_knn_model_lst.append(knn)\n"
   ]
  },
  {
   "cell_type": "code",
   "execution_count": 49,
   "id": "6c727cda",
   "metadata": {},
   "outputs": [
    {
     "name": "stdout",
     "output_type": "stream",
     "text": [
      "Cluster 0 of 32\n",
      "Cluster 1 of 32\n",
      "Cluster 2 of 32\n",
      "Cluster 3 of 32\n",
      "Cluster 4 of 32\n",
      "Cluster 5 of 32\n",
      "Cluster 6 of 32\n",
      "Cluster 7 of 32\n",
      "Cluster 8 of 32\n",
      "Cluster 9 of 32\n",
      "Cluster 10 of 32\n",
      "Cluster 11 of 32\n",
      "Cluster 12 of 32\n",
      "Cluster 13 of 32\n",
      "Cluster 14 of 32\n",
      "Cluster 15 of 32\n",
      "Cluster 16 of 32\n",
      "Cluster 17 of 32\n",
      "Cluster 18 of 32\n",
      "Cluster 19 of 32\n",
      "Cluster 20 of 32\n",
      "Cluster 21 of 32\n",
      "Cluster 22 of 32\n",
      "Cluster 23 of 32\n",
      "Cluster 24 of 32\n",
      "Cluster 25 of 32\n",
      "Cluster 26 of 32\n",
      "Cluster 27 of 32\n",
      "Cluster 28 of 32\n",
      "Cluster 29 of 32\n",
      "Cluster 30 of 32\n",
      "Cluster 31 of 32\n"
     ]
    }
   ],
   "source": [
    "# STEP 2: Test each classification model on every other individual user\n",
    "\n",
    "# THIS NEEDS TO BE REMADE AT EVERY LEVEL! --> each level of the dendrogram will be one smaller than the last\n",
    "#logregr_clus_sym_matrix = np.zeros((len(my_clusters_lst), len(my_clusters_lst)))\n",
    "svc_clus_sym_matrix = np.zeros((len(my_clusters_lst), len(my_clusters_lst)))\n",
    "rf_clus_sym_matrix = np.zeros((len(my_clusters_lst), len(my_clusters_lst)))\n",
    "gbc_clus_sym_matrix = np.zeros((len(my_clusters_lst), len(my_clusters_lst)))\n",
    "knn_clus_sym_matrix = np.zeros((len(my_clusters_lst), len(my_clusters_lst)))\n",
    "\n",
    "for clus_idx, clus in enumerate(my_clusters_lst):\n",
    "    print(f\"Cluster {clus_idx} of {len(my_clusters_lst)}\")\n",
    "    \n",
    "    # logreg_model = clus_logreg_model_lst[clus_idx]\n",
    "    svc = clus_svc_model_lst[clus_idx]\n",
    "    rf = clus_rf_model_lst[clus_idx]\n",
    "    gbc = clus_gbc_model_lst[clus_idx]\n",
    "    knn = clus_knn_model_lst[clus_idx]\n",
    "    \n",
    "    for clus_idx2, clus2 in enumerate(my_clusters_lst):\n",
    "        if type(clus2) is not type([]):\n",
    "            clus2 = [clus2]\n",
    "        #for pid in clus:  # Eg if clus contains multiple users (won't at level 1 FWIW)\n",
    "        ## Maybe I don't need to do this... if clus2 is already a list then its fine I think?\n",
    "        ## Unless models need to be tested on datasets the same num samples as their training set... things will get sticky...\n",
    "        clus_trainset = userdef_df[userdef_df['Participant'].isin(clus2)]\n",
    "        _, X_test, _, y_test = train_test_split(np.array(clus_trainset['feature']), np.array(clus_trainset['Gesture_Encoded']), test_size=0.3, random_state=42, stratify=np.array(clus_trainset['Gesture_Encoded']))\n",
    "        X_test_fixed = np.array([x.flatten() for x in X_test])\n",
    "        X_test = X_test_fixed\n",
    "\n",
    "        #logregr_clus_sym_matrix[clus_idx, clus_idx2] =  accuracy_score(y_test, logreg.predict(X_test))\n",
    "        svc_clus_sym_matrix[clus_idx, clus_idx2] =  accuracy_score(y_test, svc.predict(X_test))\n",
    "        rf_clus_sym_matrix[clus_idx, clus_idx2] =  accuracy_score(y_test, rf.predict(X_test))\n",
    "        gbc_clus_sym_matrix[clus_idx, clus_idx2] =  accuracy_score(y_test, gbc.predict(X_test))\n",
    "        knn_clus_sym_matrix[clus_idx, clus_idx2] =  accuracy_score(y_test, knn.predict(X_test))"
   ]
  },
  {
   "cell_type": "code",
   "execution_count": null,
   "id": "aa0d26e1",
   "metadata": {},
   "outputs": [],
   "source": [
    "# STEP 3: Combine the datasets of the two closest users (best pairwise performance --> is it two-way??)\n"
   ]
  },
  {
   "cell_type": "code",
   "execution_count": 82,
   "id": "da327b34",
   "metadata": {},
   "outputs": [],
   "source": [
    "def visual_test_acc_analysis(test_acc_matrix, plot_heatmaps=True, heatmap_mask_min_val=0.2, print_top_n=True, n=5):\n",
    "\n",
    "    if plot_heatmaps:\n",
    "        masked_array = np.ma.masked_where(test_acc_matrix < heatmap_mask_min_val, test_acc_matrix)\n",
    "        # Create a figure with two subplots\n",
    "        fig, axes = plt.subplots(1, 2, figsize=(10, 5))  # 1 row, 2 columns\n",
    "        # Plot the original matrix\n",
    "        axes[0].imshow(svc_clus_sym_matrix, cmap='viridis', interpolation='nearest')\n",
    "        cbar1 = fig.colorbar(axes[0].imshow(test_acc_matrix, cmap='viridis', interpolation='nearest'), ax=axes[0])\n",
    "        cbar1.set_label('Pairwise Test Accuracy')\n",
    "        # Plot the masked matrix\n",
    "        im = axes[1].imshow(masked_array, cmap='viridis', interpolation='nearest')\n",
    "        cbar2 = fig.colorbar(im, ax=axes[1])\n",
    "        cbar2.set_label('Pairwise Test Accuracy')\n",
    "        # Adjust layout for clarity\n",
    "        plt.tight_layout()\n",
    "        plt.show()\n",
    "\n",
    "    if print_top_n:\n",
    "        # Mask the diagonal by setting it to a very low value (or using masking)\n",
    "        masked_array = test_acc_matrix.copy()\n",
    "        np.fill_diagonal(masked_array, 0.0)  # Set diagonal values to 0.0\n",
    "        # Flatten the array and get the indices of the largest 5 values\n",
    "        flat_indices = np.argpartition(masked_array.flatten(), -5)[-n:]\n",
    "        top_values_indices = flat_indices[np.argsort(masked_array.flatten()[flat_indices])[::-1]]\n",
    "        # Convert flat indices back to 2D indices\n",
    "        row_col_indices = np.unravel_index(top_values_indices, masked_array.shape)\n",
    "        top_values = svc_clus_sym_matrix[row_col_indices]\n",
    "        # Print the results\n",
    "        print(f\"Top {n} values (excluding diagonal):\")\n",
    "        for value, (row, col) in zip(top_values, zip(*row_col_indices)):\n",
    "            print(f\"Value: {value:.4f} at position ({row}, {col})\")\n",
    "            \n",
    "\n",
    "def extract_top_n_highest_pairs(test_acc_matrix, n=1, print_top_n=False):\n",
    "    # Mask the diagonal by setting it to a very low value (or using masking)\n",
    "    masked_array = test_acc_matrix.copy()\n",
    "    np.fill_diagonal(masked_array, 0.0)  # Set diagonal values to 0.0\n",
    "    # Flatten the array and get the indices of the largest 5 values\n",
    "    flat_indices = np.argpartition(masked_array.flatten(), -5)[-n:]\n",
    "    top_values_indices = flat_indices[np.argsort(masked_array.flatten()[flat_indices])[::-1]]\n",
    "    # Convert flat indices back to 2D indices\n",
    "    row_col_indices = np.unravel_index(top_values_indices, masked_array.shape)\n",
    "    top_values = svc_clus_sym_matrix[row_col_indices]\n",
    "    if print_top_n:\n",
    "        print(f\"Top {n} values (excluding diagonal):\")\n",
    "        for value, (row, col) in zip(top_values, zip(*row_col_indices)):\n",
    "            print(f\"Value: {value:.4f} at position ({row}, {col})\")\n",
    "            \n",
    "    return top_values, row_col_indices"
   ]
  },
  {
   "cell_type": "code",
   "execution_count": 75,
   "id": "2be34113",
   "metadata": {},
   "outputs": [
    {
     "data": {
      "image/png": "[encoded data removed]",
      "text/plain": [
       "<Figure size 1000x500 with 4 Axes>"
      ]
     },
     "metadata": {},
     "output_type": "display_data"
    },
    {
     "name": "stdout",
     "output_type": "stream",
     "text": [
      "Top 5 values (excluding diagonal):\n",
      "Value: 0.4000 at position (0, 14)\n",
      "Value: 0.3667 at position (18, 7)\n",
      "Value: 0.3333 at position (14, 0)\n",
      "Value: 0.3333 at position (20, 21)\n",
      "Value: 0.3333 at position (19, 23)\n"
     ]
    }
   ],
   "source": [
    "visual_test_acc_analysis(svc_clus_sym_matrix)"
   ]
  },
  {
   "cell_type": "code",
   "execution_count": 77,
   "id": "0ab881ef",
   "metadata": {},
   "outputs": [
    {
     "data": {
      "image/png": "[encoded data removed]",
      "text/plain": [
       "<Figure size 1000x500 with 4 Axes>"
      ]
     },
     "metadata": {},
     "output_type": "display_data"
    },
    {
     "name": "stdout",
     "output_type": "stream",
     "text": [
      "Top 5 values (excluding diagonal):\n",
      "Value: 0.3333 at position (14, 0)\n",
      "Value: 0.4000 at position (0, 14)\n",
      "Value: 0.2000 at position (2, 11)\n",
      "Value: 0.2000 at position (13, 9)\n",
      "Value: 0.1333 at position (19, 28)\n"
     ]
    }
   ],
   "source": [
    "visual_test_acc_analysis(rf_clus_sym_matrix)"
   ]
  },
  {
   "cell_type": "code",
   "execution_count": 78,
   "id": "a56ba686",
   "metadata": {},
   "outputs": [
    {
     "data": {
      "image/png": "[encoded data removed]",
      "text/plain": [
       "<Figure size 1000x500 with 4 Axes>"
      ]
     },
     "metadata": {},
     "output_type": "display_data"
    },
    {
     "name": "stdout",
     "output_type": "stream",
     "text": [
      "Top 5 values (excluding diagonal):\n",
      "Value: 0.4000 at position (0, 14)\n",
      "Value: 0.3333 at position (14, 0)\n",
      "Value: 0.2000 at position (12, 10)\n",
      "Value: 0.0667 at position (23, 10)\n",
      "Value: 0.2000 at position (19, 9)\n"
     ]
    }
   ],
   "source": [
    "visual_test_acc_analysis(gbc_clus_sym_matrix)"
   ]
  },
  {
   "cell_type": "code",
   "execution_count": 79,
   "id": "6b56c10b",
   "metadata": {
    "scrolled": false
   },
   "outputs": [
    {
     "data": {
      "image/png": "[encoded data removed]",
      "text/plain": [
       "<Figure size 1000x500 with 4 Axes>"
      ]
     },
     "metadata": {},
     "output_type": "display_data"
    },
    {
     "name": "stdout",
     "output_type": "stream",
     "text": [
      "Top 5 values (excluding diagonal):\n",
      "Value: 0.4000 at position (0, 14)\n",
      "Value: 0.3333 at position (14, 0)\n",
      "Value: 0.2667 at position (23, 19)\n",
      "Value: 0.2667 at position (29, 0)\n",
      "Value: 0.2667 at position (30, 26)\n"
     ]
    }
   ],
   "source": [
    "visual_test_acc_analysis(knn_clus_sym_matrix)"
   ]
  },
  {
   "cell_type": "code",
   "execution_count": 64,
   "id": "a26c2f52",
   "metadata": {},
   "outputs": [],
   "source": [
    "#fig, axes = plt.subplots(2, 2, figsize=(10, 10))  # Create a 2x2 grid\n",
    "#for ax, arr in zip(axes.flat, arrays):\n",
    "#    sns.heatmap(svc_clus_sym_matrix, ax=ax, cmap='viridis', cbar=False)\n",
    "#    ax.set_title(\"Array Heatmap\")\n",
    "#plt.tight_layout()\n",
    "#plt.show()"
   ]
  },
  {
   "cell_type": "code",
   "execution_count": 107,
   "id": "f492e701",
   "metadata": {},
   "outputs": [
    {
     "name": "stdout",
     "output_type": "stream",
     "text": [
      "svc_row_col_indices: (14, 0)\n",
      "rf_row_col_indices: (14, 0)\n",
      "gbc_row_col_indices: (0, 14)\n",
      "knn_row_col_indices: (0, 14)\n"
     ]
    }
   ],
   "source": [
    "svc_top_values, svc_row_col_indices = extract_top_n_highest_pairs(svc_clus_sym_matrix)\n",
    "rf_top_values, rf_row_col_indices = extract_top_n_highest_pairs(rf_clus_sym_matrix)\n",
    "gbc_top_values, gbc_row_col_indices = extract_top_n_highest_pairs(gbc_clus_sym_matrix)\n",
    "knn_top_values, knn_row_col_indices = extract_top_n_highest_pairs(knn_clus_sym_matrix)\n",
    "\n",
    "print(f\"svc_row_col_indices: {svc_row_col_indices[0][0], svc_row_col_indices[1][0]}\")\n",
    "print(f\"rf_row_col_indices: {rf_row_col_indices[0][0], rf_row_col_indices[1][0]}\")\n",
    "print(f\"gbc_row_col_indices: {gbc_row_col_indices[0][0], gbc_row_col_indices[1][0]}\")\n",
    "print(f\"knn_row_col_indices: {knn_row_col_indices[0][0], knn_row_col_indices[1][0]}\")"
   ]
  },
  {
   "cell_type": "code",
   "execution_count": 103,
   "id": "e1e2a754",
   "metadata": {},
   "outputs": [],
   "source": [
    "row_to_merge = svc_row_col_indices[0][0]\n",
    "col_to_merge = svc_row_col_indices[1][0]\n",
    "\n",
    "userdef_df.loc[userdef_df['Cluster_ID'].isin([row_to_merge, col_to_merge]), 'Cluster_ID'] = max(userdef_df['Cluster_ID'].unique())+1\n",
    "my_clusters_lst = userdef_df['Cluster_ID'].unique()\n"
   ]
  },
  {
   "cell_type": "code",
   "execution_count": 104,
   "id": "78e208be",
   "metadata": {},
   "outputs": [
    {
     "data": {
      "text/plain": [
       "array([32,  1,  2,  3,  4,  5,  6,  7,  8,  9, 10, 11, 12, 13, 15, 16, 17,\n",
       "       18, 19, 20, 21, 22, 23, 24, 25, 26, 27, 28, 29, 30, 31])"
      ]
     },
     "execution_count": 104,
     "metadata": {},
     "output_type": "execute_result"
    }
   ],
   "source": [
    "my_clusters_lst"
   ]
  },
  {
   "cell_type": "code",
   "execution_count": null,
   "id": "197836e1",
   "metadata": {},
   "outputs": [],
   "source": [
    "# STEP 4: Repeat STEPS 1-3 until only 1 cluster remains"
   ]
  },
  {
   "cell_type": "code",
   "execution_count": null,
   "id": "82d11e8c",
   "metadata": {},
   "outputs": [],
   "source": []
  },
  {
   "cell_type": "code",
   "execution_count": null,
   "id": "fa643e9c",
   "metadata": {},
   "outputs": [],
   "source": []
  },
  {
   "cell_type": "code",
   "execution_count": null,
   "id": "3ca46ee0",
   "metadata": {},
   "outputs": [],
   "source": []
  },
  {
   "cell_type": "code",
   "execution_count": null,
   "id": "976f3c30",
   "metadata": {},
   "outputs": [],
   "source": []
  },
  {
   "cell_type": "markdown",
   "id": "4a7629f5",
   "metadata": {},
   "source": [
    "A\n",
    " related approach would be doing the above but comparing the model weights more directly, either\n",
    " in Euclidean space (e.g., Frobenius norm) or in a latent space (PCA, CCA, autoencoders, etc., just\n",
    " trying to find a more structured latent space to compare model weights), and use a similar minimum\n",
    " similarity threshold for defining edges in the graph. "
   ]
  },
  {
   "cell_type": "markdown",
   "id": "b9172f2c",
   "metadata": {},
   "source": [
    " A final remaining open question is to what extent can this these questions be answered entirely on the basis of body-part used (e.g., clustering based on whether the finger, neck, arm, etc. was used for the gesture). \n",
    " - I would have to watch and categorize the videos for this... I could... I ought to at some point"
   ]
  },
  {
   "cell_type": "markdown",
   "id": "3c3b9d20",
   "metadata": {},
   "source": [
    "Additionally, we may be able to leverage mixture of experts related approaches [16, 17, 18], wherein\n",
    " each new sample is passed to a gating mechanism which must decide which expert (or in our case,\n",
    " cluster model) is best suited for it, and then is run through the corresponding expert model. In our\n",
    " scenario, one could imagine having expert models that are ability-based, however that is defined, or\n",
    " potentially disability-based or body-part based (e.g., all gestures performed by the fingers will be sent\n",
    " to the finger expert model/cluster, etc.). Generally, within a disability diagnosis, there is still a wide\n",
    " range of abilities, so explicit disability-based groupings typically are undesirable"
   ]
  },
  {
   "cell_type": "code",
   "execution_count": null,
   "id": "15174b95",
   "metadata": {},
   "outputs": [],
   "source": []
  },
  {
   "cell_type": "code",
   "execution_count": null,
   "id": "3f457349",
   "metadata": {},
   "outputs": [],
   "source": []
  },
  {
   "cell_type": "code",
   "execution_count": null,
   "id": "cd325882",
   "metadata": {},
   "outputs": [],
   "source": []
  },
  {
   "cell_type": "code",
   "execution_count": null,
   "id": "72921593",
   "metadata": {},
   "outputs": [],
   "source": []
  },
  {
   "cell_type": "code",
   "execution_count": null,
   "id": "321e25e9",
   "metadata": {},
   "outputs": [],
   "source": []
  },
  {
   "cell_type": "code",
   "execution_count": null,
   "id": "dc12d85b",
   "metadata": {},
   "outputs": [],
   "source": []
  },
  {
   "cell_type": "code",
   "execution_count": null,
   "id": "a1699b58",
   "metadata": {},
   "outputs": [],
   "source": []
  },
  {
   "cell_type": "code",
   "execution_count": null,
   "id": "d36f5352",
   "metadata": {},
   "outputs": [],
   "source": []
  },
  {
   "cell_type": "markdown",
   "id": "79c4d3ae",
   "metadata": {},
   "source": [
    "# CCA"
   ]
  },
  {
   "cell_type": "code",
   "execution_count": 23,
   "id": "c0ec8550",
   "metadata": {},
   "outputs": [],
   "source": [
    "#convert Gesture_ID to numerical with new Gesture_Encoded column\n",
    "\n",
    "label_encoder = LabelEncoder()\n",
    "#result['Gesture_Encoded'] = label_encoder.fit_transform(result['Gesture_ID'])\n",
    "userdef['Gesture_Encoded'] = label_encoder.fit_transform(userdef['Gesture_ID'])"
   ]
  },
  {
   "cell_type": "markdown",
   "id": "5438cbca",
   "metadata": {},
   "source": [
    "CCA functions"
   ]
  },
  {
   "cell_type": "code",
   "execution_count": 26,
   "id": "4895a623",
   "metadata": {},
   "outputs": [],
   "source": [
    "# Hold out one participant as the expert\n",
    "def hold_out_expert(data, participant_column):\n",
    "    participant_ids = data[participant_column].unique()\n",
    "    expert_user = np.random.choice(participant_ids)  # Randomly select one participant as expert\n",
    "    data_expert = data[data[participant_column] == expert_user]  # Expert data\n",
    "    data_remaining = data[data[participant_column] != expert_user]  # Remaining data\n",
    "    return data_expert, data_remaining"
   ]
  },
  {
   "cell_type": "code",
   "execution_count": 27,
   "id": "1ba2d39b",
   "metadata": {},
   "outputs": [],
   "source": [
    "# Train-test split for remaining data\n",
    "def split_train_test(data, participant_column, test_size=0.2):\n",
    "    participant_ids = data[participant_column].unique()\n",
    "    train_ids, test_ids = train_test_split(participant_ids, test_size=test_size, random_state=42)\n",
    "    \n",
    "    train_data = data[data[participant_column].isin(train_ids)]\n",
    "    test_data = data[data[participant_column].isin(test_ids)]\n",
    "    \n",
    "    return train_data, test_data"
   ]
  },
  {
   "cell_type": "code",
   "execution_count": 28,
   "id": "a2f24a0e",
   "metadata": {},
   "outputs": [],
   "source": [
    "def flatten_features(feature_column):\n",
    "    # Convert a column of lists of lists into a 2D NumPy array\n",
    "    return np.array([np.array(item).flatten() for item in feature_column])\n",
    "\n",
    "#X_expert = flatten_features(expert_data['feature']) #now  a 2D array with \n",
    "#X_other = flatten_features(remaining_data['feature'])\n",
    "\n",
    "#print(X_other)"
   ]
  },
  {
   "cell_type": "code",
   "execution_count": 29,
   "id": "ae078f0a",
   "metadata": {},
   "outputs": [],
   "source": [
    "#inside k_fold function\n",
    "# Apply CCA btwn expert and train/test\n",
    "def apply_cca_between_expert_and_others(expert_data, other_data, target_column, n_components=2):\n",
    "    # Separate features (X) and target (y)\n",
    "    \n",
    "    #after flattening to 2D \n",
    "    X_expert = flatten_features(expert_data['feature'])\n",
    "    X_other = flatten_features(other_data['feature'])\n",
    "\n",
    "    y_expert = expert_data[target_column]\n",
    "    y_other = other_data[target_column]\n",
    "    \n",
    "    # Apply CCA between expert and other participant\n",
    "    cca = CCA(n_components=n_components)\n",
    "    #cca.fit(X_expert, y_expert)\n",
    "    #print(X_expert.shape)\n",
    "    #print(X_other.shape)\n",
    "    cca.fit(X_expert, X_other) #might not run bcuz diff shapes\n",
    "    #need to figure out how to pass in X_others. if not clear from paper, google cca github and try to find expert user and others\n",
    "    X_other_cca = cca.transform(X_other)\n",
    "    \n",
    "    return X_other_cca, y_other#, X_expert, X_other#, X_other, X_expert, y_expert            think we're good to leave this out?"
   ]
  },
  {
   "cell_type": "code",
   "execution_count": 30,
   "id": "920c2a34",
   "metadata": {},
   "outputs": [],
   "source": [
    "#inside k_fold function\n",
    "# Run KNN -- used inside cca but can also be used outside\n",
    "def run_knn(X_train, y_train, X_test, y_test, n_neighbors=5):\n",
    "    knn = KNeighborsClassifier(n_neighbors=n_neighbors)\n",
    "    knn.fit(X_train, y_train)\n",
    "    y_pred = knn.predict(X_test)\n",
    "    \n",
    "    return accuracy_score(y_test, y_pred)"
   ]
  },
  {
   "cell_type": "code",
   "execution_count": 57,
   "id": "c48ebe61",
   "metadata": {},
   "outputs": [],
   "source": [
    "# Implement k-fold cross-validation and refer to each of the other functions to run CCA between expert user and training and expert user and testing\n",
    "def k_fold_cross_validation(data, expert_data, participant_column, target_column, k=5, n_neighbors=5, n_components=2):\n",
    "\n",
    "    #kf = KFold(n_splits=k, shuffle=True, random_state=42)\n",
    "    kf = KFold(n_splits=k, shuffle=False)\n",
    "    accuracies = []\n",
    "    \n",
    "    #80/20 train test split. 4 folds in train and 1 in test\n",
    "    for train_index, test_index in kf.split(data[participant_column].unique()):\n",
    "        # Split based on participant IDs\n",
    "        train_ids = data[participant_column].unique()[train_index]\n",
    "        test_ids = data[participant_column].unique()[test_index]\n",
    "        \n",
    "        train_data = data[data[participant_column].isin(train_ids)]\n",
    "        test_data = data[data[participant_column].isin(test_ids)]\n",
    "        \n",
    "        # CCA between expert and training users\n",
    "        X_train_cca = []\n",
    "        y_train = []\n",
    "        for pid in train_ids:\n",
    "            pid_data = train_data[train_data[participant_column] == pid]\n",
    "            #print(\"participant id\", pid)\n",
    "            #print(\"expert data\", expert_data.shape)\n",
    "            #print(\"participant data\", pid_data.shape)\n",
    "            X_pid_cca, y_pid = apply_cca_between_expert_and_others(expert_data, pid_data, target_column, n_components)\n",
    "            X_train_cca.append(X_pid_cca)\n",
    "            y_train.append(y_pid)\n",
    "        \n",
    "        # Combine all CCA-transformed training data\n",
    "        X_train_cca = np.vstack(X_train_cca)\n",
    "        y_train = np.concatenate(y_train)\n",
    "        \n",
    "        # CCA between expert and testing users\n",
    "        X_test_cca = []\n",
    "        y_test = []\n",
    "        for pid in test_ids:\n",
    "            pid_data = test_data[test_data[participant_column] == pid]\n",
    "            #change to X_expert, X_other for output     X_pid_cca, y_pid = apply_cca_between_expert_and_others(expert_data, pid_data, target_column, n_components)\n",
    "            X_test_cca.append(X_pid_cca)\n",
    "            y_test.append(y_pid)\n",
    "        \n",
    "        # Combine all CCA-transformed testing data\n",
    "        X_test_cca = np.vstack(X_test_cca)\n",
    "        y_test = np.concatenate(y_test)\n",
    "        \n",
    "        # Run KNN on CCA-transformed feature sets\n",
    "        accuracy = run_knn(X_train_cca, y_train, X_test_cca, y_test, n_neighbors)\n",
    "        accuracies.append(accuracy)\n",
    "    \n",
    "    return accuracies"
   ]
  },
  {
   "cell_type": "code",
   "execution_count": 59,
   "id": "f11ed680",
   "metadata": {},
   "outputs": [
    {
     "name": "stdout",
     "output_type": "stream",
     "text": [
      "User-Def Mean accuracies per participant: {'P125': 0.36999999999999994, 'P118': 0.35, 'P132': 0.3, 'P105': 0.37, 'P123': 0.4, 'P106': 0.35, 'P111': 0.43}\n"
     ]
    }
   ],
   "source": [
    "#11/11 output with k-fold and averaging for 100 runs\n",
    "\n",
    "#train_data, test_data = split_train_test(userdef, 'Participant', test_size=0.2)\n",
    "#In CCA, the number of components must be less than or equal to the number of features in either dataset or the number of samples minus one, whichever is smaller.\n",
    "#so changed n_components to 1\n",
    "userdef_rep = {}\n",
    "for i in range(10):\n",
    "    expert_data, remaining_data = hold_out_expert(userdef, 'Participant')\n",
    "    cca_knn_accuracy=k_fold_cross_validation(remaining_data, expert_data, 'Participant', 'Gesture_Encoded', k=5, n_neighbors=5, n_components=2)\n",
    "    \n",
    "    #get mean accuracy for each expert_id\n",
    "    participants = expert_data['Participant'].unique()\n",
    "    for participant, accuracy in zip(participants, cca_knn_accuracy):\n",
    "        if participant not in userdef_rep:\n",
    "            userdef_rep[participant] = []\n",
    "        userdef_rep[participant].append(accuracy)\n",
    "\n",
    "# Calculate mean accuracy per participant\n",
    "mean_accuracies_per_participant = {participant: np.mean(accuracies) for participant, accuracies in userdef_rep.items()}\n",
    "\n",
    "print(\"User-Def Mean accuracies per participant:\", mean_accuracies_per_participant)"
   ]
  },
  {
   "cell_type": "code",
   "execution_count": 62,
   "id": "ffa41dd6",
   "metadata": {},
   "outputs": [
    {
     "name": "stdout",
     "output_type": "stream",
     "text": [
      "user-def\n",
      "PCA Explained Variance Ratio: [0.31883444 0.20147262 0.07229554 0.05143604 0.04524832 0.03273017\n",
      " 0.02969741 0.02437628 0.02217808 0.01722988]\n",
      "KNN Classification Accuracy: 0.7578125\n"
     ]
    }
   ],
   "source": [
    "#baseline PCA\n",
    "def run_pca_knn(df, n_components=8, n_neighbors=5, test_size=0.2):\n",
    "    \"\"\"\n",
    "    Perform PCA on the 'feature' column and KNN classification on the transformed data.\n",
    "\n",
    "    Parameters:\n",
    "        df (DataFrame): Input DataFrame containing 'feature' and 'Gesture_ID' columns.\n",
    "        n_components (int): Number of PCA components.\n",
    "        n_neighbors (int): Number of neighbors for KNN.\n",
    "        test_size (float): Fraction of data to use as the test set.\n",
    "        random_state (int): Random state for train-test split.\n",
    "\n",
    "    Returns:\n",
    "        explained_variance_ratio (array): Explained variance ratio of PCA components.\n",
    "        accuracy (float): Classification accuracy of KNN on the test set.\n",
    "    \"\"\"\n",
    "    # Convert the 'feature' column from nested lists to a flat list for each entry\n",
    "    df['feature_flat'] = df['feature'].apply(lambda x: np.ravel(x))\n",
    "\n",
    "    # Extract features and labels\n",
    "    X = np.vstack(df['feature_flat'].values)\n",
    "    y = df['Gesture_ID']\n",
    "\n",
    "    # Standardize the features\n",
    "    scaler = StandardScaler()\n",
    "    X_scaled = scaler.fit_transform(X)\n",
    "\n",
    "    # Apply PCA\n",
    "    pca = PCA(n_components=n_components)\n",
    "    X_pca = pca.fit_transform(X_scaled)\n",
    "\n",
    "    # Split the data\n",
    "    X_train, X_test, y_train, y_test = train_test_split(X_pca, y, test_size=test_size)\n",
    "\n",
    "    # Train KNN\n",
    "    knn = KNeighborsClassifier(n_neighbors=n_neighbors)\n",
    "    knn.fit(X_train, y_train)\n",
    "\n",
    "    # Predict and evaluate\n",
    "    y_pred = knn.predict(X_test)\n",
    "    accuracy = accuracy_score(y_test, y_pred)\n",
    "\n",
    "    return pca.explained_variance_ratio_, accuracy\n",
    "\n",
    "#print(\"standardized\")\n",
    "#explained_variance_ratio, accuracy = run_pca_knn(with_disability, n_components=10, n_neighbors=5)\n",
    "#print(\"PCA Explained Variance Ratio:\", explained_variance_ratio)\n",
    "#print(\"KNN Classification Accuracy:\", accuracy)\n",
    "#print(\"\")\n",
    "print(\"user-def\") #better at user-def than standardized\n",
    "explained_variance_ratio, accuracy = run_pca_knn(userdef, n_components=10, n_neighbors=5)\n",
    "print(\"PCA Explained Variance Ratio:\", explained_variance_ratio)\n",
    "print(\"KNN Classification Accuracy:\", accuracy)"
   ]
  },
  {
   "cell_type": "code",
   "execution_count": 63,
   "id": "1823eba6",
   "metadata": {},
   "outputs": [
    {
     "name": "stdout",
     "output_type": "stream",
     "text": [
      "KNN Accuracy: [0.84375, 0.8234375, 0.81875, 0.775, 0.8109375]\n",
      "userdef 0.8143749999999998\n"
     ]
    }
   ],
   "source": [
    "#baseline knn\n",
    "def run_knn_baseline_with_expert(expert_data, remaining_data, target_column, n_neighbors=5, k=5):\n",
    "    # Flatten the features from both datasets\n",
    "    X_expert = flatten_features(expert_data['feature'])\n",
    "    X_remaining = flatten_features(remaining_data['feature'])\n",
    "    \n",
    "    # Combine the feature sets and their corresponding targets\n",
    "    X_combined = np.vstack((X_expert, X_remaining))\n",
    "    y_expert = expert_data[target_column].values\n",
    "    y_remaining = remaining_data[target_column].values\n",
    "    y_combined = np.concatenate((y_expert, y_remaining))\n",
    "\n",
    "    kf = KFold(n_splits=k, shuffle=True, random_state=42)\n",
    "    accuracies = []\n",
    "    \n",
    "    for train_index, test_index in kf.split(X_combined):\n",
    "        X_train, X_test = X_combined[train_index], X_combined[test_index]\n",
    "        y_train, y_test = y_combined[train_index], y_combined[test_index]\n",
    "\n",
    "        # Run KNN on the combined dataset\n",
    "        knn = KNeighborsClassifier(n_neighbors=n_neighbors)\n",
    "        knn.fit(X_train, y_train)\n",
    "        y_pred = knn.predict(X_test)\n",
    "        \n",
    "        # Calculate accuracy\n",
    "        accuracy = accuracy_score(y_test, y_pred)\n",
    "        accuracies.append(accuracy)\n",
    "\n",
    "    return accuracies\n",
    "\n",
    "#expert_data, remaining_data = hold_out_expert(with_disability, 'Participant')\n",
    "#baseline_accuracies = run_knn_baseline_with_expert(expert_data, remaining_data, 'Gesture_Encoded')\n",
    "#print(f'KNN Accuracy: {baseline_accuracies}')\n",
    "#print(\"standardized\", np.mean(baseline_accuracies))\n",
    "\n",
    "pers_expert_data, pers_remaining_data = hold_out_expert(userdef, 'Participant')\n",
    "baseline_accuracies = run_knn_baseline_with_expert(pers_expert_data, pers_remaining_data, 'Gesture_Encoded')\n",
    "print(f'KNN Accuracy: {baseline_accuracies}')\n",
    "print(\"userdef\", np.mean(baseline_accuracies))"
   ]
  },
  {
   "cell_type": "markdown",
   "id": "433cc73f",
   "metadata": {},
   "source": [
    "> Wow that is high accuracy... let me double check things"
   ]
  },
  {
   "cell_type": "code",
   "execution_count": 64,
   "id": "dabf679a",
   "metadata": {},
   "outputs": [
    {
     "data": {
      "text/html": [
       "<div>\n",
       "<style scoped>\n",
       "    .dataframe tbody tr th:only-of-type {\n",
       "        vertical-align: middle;\n",
       "    }\n",
       "\n",
       "    .dataframe tbody tr th {\n",
       "        vertical-align: top;\n",
       "    }\n",
       "\n",
       "    .dataframe thead th {\n",
       "        text-align: right;\n",
       "    }\n",
       "</style>\n",
       "<table border=\"1\" class=\"dataframe\">\n",
       "  <thead>\n",
       "    <tr style=\"text-align: right;\">\n",
       "      <th></th>\n",
       "      <th>Participant</th>\n",
       "      <th>Gesture_ID</th>\n",
       "      <th>Gesture_Num</th>\n",
       "      <th>feature</th>\n",
       "      <th>Gesture_Encoded</th>\n",
       "      <th>feature_flat</th>\n",
       "    </tr>\n",
       "  </thead>\n",
       "  <tbody>\n",
       "    <tr>\n",
       "      <th>1900</th>\n",
       "      <td>P116</td>\n",
       "      <td>close</td>\n",
       "      <td>1</td>\n",
       "      <td>[[5.527561206184626], [-8.098585875109096], [-...</td>\n",
       "      <td>0</td>\n",
       "      <td>[5.527561206184626, -8.098585875109096, -20.00...</td>\n",
       "    </tr>\n",
       "    <tr>\n",
       "      <th>1901</th>\n",
       "      <td>P116</td>\n",
       "      <td>close</td>\n",
       "      <td>10</td>\n",
       "      <td>[[5.049786408181666], [-6.691335261235313], [-...</td>\n",
       "      <td>0</td>\n",
       "      <td>[5.049786408181666, -6.691335261235313, -17.23...</td>\n",
       "    </tr>\n",
       "    <tr>\n",
       "      <th>1902</th>\n",
       "      <td>P116</td>\n",
       "      <td>close</td>\n",
       "      <td>2</td>\n",
       "      <td>[[5.261857313828599], [-7.718602672988598], [-...</td>\n",
       "      <td>0</td>\n",
       "      <td>[5.261857313828599, -7.718602672988598, -18.78...</td>\n",
       "    </tr>\n",
       "    <tr>\n",
       "      <th>1903</th>\n",
       "      <td>P116</td>\n",
       "      <td>close</td>\n",
       "      <td>3</td>\n",
       "      <td>[[4.6162905039179085], [-7.227502407333501], [...</td>\n",
       "      <td>0</td>\n",
       "      <td>[4.6162905039179085, -7.227502407333501, -17.1...</td>\n",
       "    </tr>\n",
       "    <tr>\n",
       "      <th>1904</th>\n",
       "      <td>P116</td>\n",
       "      <td>close</td>\n",
       "      <td>4</td>\n",
       "      <td>[[6.166422454148102], [-8.883153520789653], [-...</td>\n",
       "      <td>0</td>\n",
       "      <td>[6.166422454148102, -8.883153520789653, -22.46...</td>\n",
       "    </tr>\n",
       "    <tr>\n",
       "      <th>...</th>\n",
       "      <td>...</td>\n",
       "      <td>...</td>\n",
       "      <td>...</td>\n",
       "      <td>...</td>\n",
       "      <td>...</td>\n",
       "      <td>...</td>\n",
       "    </tr>\n",
       "    <tr>\n",
       "      <th>1995</th>\n",
       "      <td>P116</td>\n",
       "      <td>zoom-out</td>\n",
       "      <td>5</td>\n",
       "      <td>[[5.030362236669886], [-7.115086323656174], [-...</td>\n",
       "      <td>9</td>\n",
       "      <td>[5.030362236669886, -7.115086323656174, -17.78...</td>\n",
       "    </tr>\n",
       "    <tr>\n",
       "      <th>1996</th>\n",
       "      <td>P116</td>\n",
       "      <td>zoom-out</td>\n",
       "      <td>6</td>\n",
       "      <td>[[4.509073413170462], [-6.830646649276103], [-...</td>\n",
       "      <td>9</td>\n",
       "      <td>[4.509073413170462, -6.830646649276103, -16.54...</td>\n",
       "    </tr>\n",
       "    <tr>\n",
       "      <th>1997</th>\n",
       "      <td>P116</td>\n",
       "      <td>zoom-out</td>\n",
       "      <td>7</td>\n",
       "      <td>[[4.856808873256232], [-7.65270966627144], [-1...</td>\n",
       "      <td>9</td>\n",
       "      <td>[4.856808873256232, -7.65270966627144, -18.215...</td>\n",
       "    </tr>\n",
       "    <tr>\n",
       "      <th>1998</th>\n",
       "      <td>P116</td>\n",
       "      <td>zoom-out</td>\n",
       "      <td>8</td>\n",
       "      <td>[[4.591157335933044], [-7.027517336850388], [-...</td>\n",
       "      <td>9</td>\n",
       "      <td>[4.591157335933044, -7.027517336850388, -16.81...</td>\n",
       "    </tr>\n",
       "    <tr>\n",
       "      <th>1999</th>\n",
       "      <td>P116</td>\n",
       "      <td>zoom-out</td>\n",
       "      <td>9</td>\n",
       "      <td>[[4.7364340428342695], [-6.840054308939138], [...</td>\n",
       "      <td>9</td>\n",
       "      <td>[4.7364340428342695, -6.840054308939138, -16.7...</td>\n",
       "    </tr>\n",
       "  </tbody>\n",
       "</table>\n",
       "<p>100 rows × 6 columns</p>\n",
       "</div>"
      ],
      "text/plain": [
       "     Participant Gesture_ID Gesture_Num   \n",
       "1900        P116      close           1  \\\n",
       "1901        P116      close          10   \n",
       "1902        P116      close           2   \n",
       "1903        P116      close           3   \n",
       "1904        P116      close           4   \n",
       "...          ...        ...         ...   \n",
       "1995        P116   zoom-out           5   \n",
       "1996        P116   zoom-out           6   \n",
       "1997        P116   zoom-out           7   \n",
       "1998        P116   zoom-out           8   \n",
       "1999        P116   zoom-out           9   \n",
       "\n",
       "                                                feature  Gesture_Encoded   \n",
       "1900  [[5.527561206184626], [-8.098585875109096], [-...                0  \\\n",
       "1901  [[5.049786408181666], [-6.691335261235313], [-...                0   \n",
       "1902  [[5.261857313828599], [-7.718602672988598], [-...                0   \n",
       "1903  [[4.6162905039179085], [-7.227502407333501], [...                0   \n",
       "1904  [[6.166422454148102], [-8.883153520789653], [-...                0   \n",
       "...                                                 ...              ...   \n",
       "1995  [[5.030362236669886], [-7.115086323656174], [-...                9   \n",
       "1996  [[4.509073413170462], [-6.830646649276103], [-...                9   \n",
       "1997  [[4.856808873256232], [-7.65270966627144], [-1...                9   \n",
       "1998  [[4.591157335933044], [-7.027517336850388], [-...                9   \n",
       "1999  [[4.7364340428342695], [-6.840054308939138], [...                9   \n",
       "\n",
       "                                           feature_flat  \n",
       "1900  [5.527561206184626, -8.098585875109096, -20.00...  \n",
       "1901  [5.049786408181666, -6.691335261235313, -17.23...  \n",
       "1902  [5.261857313828599, -7.718602672988598, -18.78...  \n",
       "1903  [4.6162905039179085, -7.227502407333501, -17.1...  \n",
       "1904  [6.166422454148102, -8.883153520789653, -22.46...  \n",
       "...                                                 ...  \n",
       "1995  [5.030362236669886, -7.115086323656174, -17.78...  \n",
       "1996  [4.509073413170462, -6.830646649276103, -16.54...  \n",
       "1997  [4.856808873256232, -7.65270966627144, -18.215...  \n",
       "1998  [4.591157335933044, -7.027517336850388, -16.81...  \n",
       "1999  [4.7364340428342695, -6.840054308939138, -16.7...  \n",
       "\n",
       "[100 rows x 6 columns]"
      ]
     },
     "execution_count": 64,
     "metadata": {},
     "output_type": "execute_result"
    }
   ],
   "source": [
    "pers_expert_data"
   ]
  },
  {
   "cell_type": "code",
   "execution_count": 65,
   "id": "e52a134c",
   "metadata": {},
   "outputs": [
    {
     "data": {
      "text/html": [
       "<div>\n",
       "<style scoped>\n",
       "    .dataframe tbody tr th:only-of-type {\n",
       "        vertical-align: middle;\n",
       "    }\n",
       "\n",
       "    .dataframe tbody tr th {\n",
       "        vertical-align: top;\n",
       "    }\n",
       "\n",
       "    .dataframe thead th {\n",
       "        text-align: right;\n",
       "    }\n",
       "</style>\n",
       "<table border=\"1\" class=\"dataframe\">\n",
       "  <thead>\n",
       "    <tr style=\"text-align: right;\">\n",
       "      <th></th>\n",
       "      <th>Participant</th>\n",
       "      <th>Gesture_ID</th>\n",
       "      <th>Gesture_Num</th>\n",
       "      <th>feature</th>\n",
       "      <th>Gesture_Encoded</th>\n",
       "      <th>feature_flat</th>\n",
       "    </tr>\n",
       "  </thead>\n",
       "  <tbody>\n",
       "    <tr>\n",
       "      <th>0</th>\n",
       "      <td>P004</td>\n",
       "      <td>close</td>\n",
       "      <td>1</td>\n",
       "      <td>[[6.079045311063784], [-7.551458873254243], [-...</td>\n",
       "      <td>0</td>\n",
       "      <td>[6.079045311063784, -7.551458873254243, -20.17...</td>\n",
       "    </tr>\n",
       "    <tr>\n",
       "      <th>1</th>\n",
       "      <td>P004</td>\n",
       "      <td>close</td>\n",
       "      <td>10</td>\n",
       "      <td>[[5.994789910363704], [-7.978871468164499], [-...</td>\n",
       "      <td>0</td>\n",
       "      <td>[5.994789910363704, -7.978871468164499, -20.77...</td>\n",
       "    </tr>\n",
       "    <tr>\n",
       "      <th>2</th>\n",
       "      <td>P004</td>\n",
       "      <td>close</td>\n",
       "      <td>2</td>\n",
       "      <td>[[6.010193380499154], [-7.7063875553339], [-20...</td>\n",
       "      <td>0</td>\n",
       "      <td>[6.010193380499154, -7.7063875553339, -20.4852...</td>\n",
       "    </tr>\n",
       "    <tr>\n",
       "      <th>3</th>\n",
       "      <td>P004</td>\n",
       "      <td>close</td>\n",
       "      <td>3</td>\n",
       "      <td>[[5.8212078257286874], [-7.463908156909893], [...</td>\n",
       "      <td>0</td>\n",
       "      <td>[5.8212078257286874, -7.463908156909893, -19.6...</td>\n",
       "    </tr>\n",
       "    <tr>\n",
       "      <th>4</th>\n",
       "      <td>P004</td>\n",
       "      <td>close</td>\n",
       "      <td>4</td>\n",
       "      <td>[[5.974675085061773], [-7.945111601415482], [-...</td>\n",
       "      <td>0</td>\n",
       "      <td>[5.974675085061773, -7.945111601415482, -20.66...</td>\n",
       "    </tr>\n",
       "    <tr>\n",
       "      <th>...</th>\n",
       "      <td>...</td>\n",
       "      <td>...</td>\n",
       "      <td>...</td>\n",
       "      <td>...</td>\n",
       "      <td>...</td>\n",
       "      <td>...</td>\n",
       "    </tr>\n",
       "    <tr>\n",
       "      <th>3195</th>\n",
       "      <td>P132</td>\n",
       "      <td>zoom-out</td>\n",
       "      <td>5</td>\n",
       "      <td>[[1.8941044559494014], [-4.088877765699611], [...</td>\n",
       "      <td>9</td>\n",
       "      <td>[1.8941044559494014, -4.088877765699611, -8.69...</td>\n",
       "    </tr>\n",
       "    <tr>\n",
       "      <th>3196</th>\n",
       "      <td>P132</td>\n",
       "      <td>zoom-out</td>\n",
       "      <td>6</td>\n",
       "      <td>[[2.3768635651671475], [-4.333723378142736], [...</td>\n",
       "      <td>9</td>\n",
       "      <td>[2.3768635651671475, -4.333723378142736, -9.65...</td>\n",
       "    </tr>\n",
       "    <tr>\n",
       "      <th>3197</th>\n",
       "      <td>P132</td>\n",
       "      <td>zoom-out</td>\n",
       "      <td>7</td>\n",
       "      <td>[[2.9880460561483497], [-4.894965494204392], [...</td>\n",
       "      <td>9</td>\n",
       "      <td>[2.9880460561483497, -4.894965494204392, -11.6...</td>\n",
       "    </tr>\n",
       "    <tr>\n",
       "      <th>3198</th>\n",
       "      <td>P132</td>\n",
       "      <td>zoom-out</td>\n",
       "      <td>8</td>\n",
       "      <td>[[1.9855560622439246], [-3.4775971454624637], ...</td>\n",
       "      <td>9</td>\n",
       "      <td>[1.9855560622439246, -3.4775971454624637, -8.0...</td>\n",
       "    </tr>\n",
       "    <tr>\n",
       "      <th>3199</th>\n",
       "      <td>P132</td>\n",
       "      <td>zoom-out</td>\n",
       "      <td>9</td>\n",
       "      <td>[[2.8477571671820128], [-4.749197002681234], [...</td>\n",
       "      <td>9</td>\n",
       "      <td>[2.8477571671820128, -4.749197002681234, -11.2...</td>\n",
       "    </tr>\n",
       "  </tbody>\n",
       "</table>\n",
       "<p>3100 rows × 6 columns</p>\n",
       "</div>"
      ],
      "text/plain": [
       "     Participant Gesture_ID Gesture_Num   \n",
       "0           P004      close           1  \\\n",
       "1           P004      close          10   \n",
       "2           P004      close           2   \n",
       "3           P004      close           3   \n",
       "4           P004      close           4   \n",
       "...          ...        ...         ...   \n",
       "3195        P132   zoom-out           5   \n",
       "3196        P132   zoom-out           6   \n",
       "3197        P132   zoom-out           7   \n",
       "3198        P132   zoom-out           8   \n",
       "3199        P132   zoom-out           9   \n",
       "\n",
       "                                                feature  Gesture_Encoded   \n",
       "0     [[6.079045311063784], [-7.551458873254243], [-...                0  \\\n",
       "1     [[5.994789910363704], [-7.978871468164499], [-...                0   \n",
       "2     [[6.010193380499154], [-7.7063875553339], [-20...                0   \n",
       "3     [[5.8212078257286874], [-7.463908156909893], [...                0   \n",
       "4     [[5.974675085061773], [-7.945111601415482], [-...                0   \n",
       "...                                                 ...              ...   \n",
       "3195  [[1.8941044559494014], [-4.088877765699611], [...                9   \n",
       "3196  [[2.3768635651671475], [-4.333723378142736], [...                9   \n",
       "3197  [[2.9880460561483497], [-4.894965494204392], [...                9   \n",
       "3198  [[1.9855560622439246], [-3.4775971454624637], ...                9   \n",
       "3199  [[2.8477571671820128], [-4.749197002681234], [...                9   \n",
       "\n",
       "                                           feature_flat  \n",
       "0     [6.079045311063784, -7.551458873254243, -20.17...  \n",
       "1     [5.994789910363704, -7.978871468164499, -20.77...  \n",
       "2     [6.010193380499154, -7.7063875553339, -20.4852...  \n",
       "3     [5.8212078257286874, -7.463908156909893, -19.6...  \n",
       "4     [5.974675085061773, -7.945111601415482, -20.66...  \n",
       "...                                                 ...  \n",
       "3195  [1.8941044559494014, -4.088877765699611, -8.69...  \n",
       "3196  [2.3768635651671475, -4.333723378142736, -9.65...  \n",
       "3197  [2.9880460561483497, -4.894965494204392, -11.6...  \n",
       "3198  [1.9855560622439246, -3.4775971454624637, -8.0...  \n",
       "3199  [2.8477571671820128, -4.749197002681234, -11.2...  \n",
       "\n",
       "[3100 rows x 6 columns]"
      ]
     },
     "execution_count": 65,
     "metadata": {},
     "output_type": "execute_result"
    }
   ],
   "source": [
    "pers_remaining_data"
   ]
  },
  {
   "cell_type": "markdown",
   "id": "1fced9b6",
   "metadata": {},
   "source": [
    "## Taking it out of the function to investigate"
   ]
  },
  {
   "cell_type": "code",
   "execution_count": 66,
   "id": "a856a592",
   "metadata": {},
   "outputs": [
    {
     "name": "stdout",
     "output_type": "stream",
     "text": [
      "0.840625\n",
      "0.8015625\n",
      "0.834375\n",
      "0.8\n",
      "0.8078125\n"
     ]
    }
   ],
   "source": [
    "#baseline knn\n",
    "\n",
    "#pers_expert_data, pers_remaining_data = hold_out_expert(userdef, 'Participant')\n",
    "#expert_data = pers_expert_data\n",
    "#remaining_data = pers_remaining_data\n",
    "target_column = 'Gesture_Encoded'\n",
    "n_neighbors = 5\n",
    "k = 5\n",
    "\n",
    "# Flatten the features from both datasets\n",
    "#X_expert = flatten_features(expert_data['feature_flat'])\n",
    "#X_remaining = flatten_features(remaining_data['feature_flat'])\n",
    "\n",
    "# Combine the feature sets and their corresponding targets\n",
    "X_combined = userdef['feature_flat']\n",
    "#y_expert = expert_data[target_column].values\n",
    "#y_remaining = remaining_data[target_column].values\n",
    "y_combined = userdef[target_column]\n",
    "\n",
    "kf = KFold(n_splits=k, shuffle=True, random_state=42)\n",
    "accuracies = []\n",
    "for train_index, test_index in kf.split(X_combined):\n",
    "    X_train, X_test = X_combined[train_index], X_combined[test_index]\n",
    "    y_train, y_test = y_combined[train_index], y_combined[test_index]\n",
    "    \n",
    "    X_train = np.array(X_train.tolist()) if isinstance(X_train, pd.Series) else np.array(X_train)\n",
    "    y_train = np.array(y_train.tolist()) if isinstance(y_train, pd.Series) else np.array(y_train)\n",
    "    X_test = np.array(X_test.tolist()) if isinstance(X_test, pd.Series) else np.array(X_test)\n",
    "    y_test = np.array(y_test.tolist()) if isinstance(y_test, pd.Series) else np.array(y_test)\n",
    "\n",
    "    # Run KNN on the combined dataset\n",
    "    knn = KNeighborsClassifier(n_neighbors=n_neighbors)\n",
    "    knn.fit(X_train, y_train)\n",
    "    y_pred = knn.predict(X_test)\n",
    "\n",
    "    # Calculate accuracy\n",
    "    accuracy = accuracy_score(y_test, y_pred)\n",
    "    print(accuracy)\n",
    "    accuracies.append(accuracy)\n",
    "\n",
    "#return accuracies\n",
    "\n",
    "#baseline_accuracies = run_knn_baseline_with_expert(pers_expert_data, pers_remaining_data, 'Gesture_Encoded')\n",
    "#print(f'KNN Accuracy: {baseline_accuracies}')\n",
    "#print(\"userdef\", np.mean(baseline_accuracies))"
   ]
  },
  {
   "cell_type": "markdown",
   "id": "daf36401",
   "metadata": {},
   "source": [
    "## Turning shuffle off\n",
    "> Idea: Shuffle could be turning this from a cross-subject to an intra-subject scenario. Eg, when shuffled, the model may get to train over ALL users data, and then when it is tested, it is NOT tested on new, novel users (as would be the case in the cross-subject scenario) but rather it is tested on new gesture trials from users (and other gesture trials from the same user from the same gesture) already in the training dataset"
   ]
  },
  {
   "cell_type": "code",
   "execution_count": 67,
   "id": "bbd1f83a",
   "metadata": {},
   "outputs": [
    {
     "name": "stdout",
     "output_type": "stream",
     "text": [
      "0.1246485473289597\n",
      "0.11996251171508904\n",
      "0.10318949343339587\n"
     ]
    }
   ],
   "source": [
    "#baseline knn\n",
    "\n",
    "#pers_expert_data, pers_remaining_data = hold_out_expert(userdef, 'Participant')\n",
    "#expert_data = pers_expert_data\n",
    "#remaining_data = pers_remaining_data\n",
    "target_column = 'Gesture_Encoded'\n",
    "n_neighbors = 5\n",
    "k = 3\n",
    "\n",
    "# Flatten the features from both datasets\n",
    "#X_expert = flatten_features(expert_data['feature_flat'])\n",
    "#X_remaining = flatten_features(remaining_data['feature_flat'])\n",
    "\n",
    "# Combine the feature sets and their corresponding targets\n",
    "X_combined = userdef['feature_flat']\n",
    "#y_expert = expert_data[target_column].values\n",
    "#y_remaining = remaining_data[target_column].values\n",
    "y_combined = userdef[target_column]\n",
    "\n",
    "kf = KFold(n_splits=k, shuffle=False)#True, random_state=42)\n",
    "accuracies = []\n",
    "for train_index, test_index in kf.split(X_combined):\n",
    "    X_train, X_test = X_combined[train_index], X_combined[test_index]\n",
    "    y_train, y_test = y_combined[train_index], y_combined[test_index]\n",
    "    \n",
    "    X_train = np.array(X_train.tolist()) if isinstance(X_train, pd.Series) else np.array(X_train)\n",
    "    y_train = np.array(y_train.tolist()) if isinstance(y_train, pd.Series) else np.array(y_train)\n",
    "    X_test = np.array(X_test.tolist()) if isinstance(X_test, pd.Series) else np.array(X_test)\n",
    "    y_test = np.array(y_test.tolist()) if isinstance(y_test, pd.Series) else np.array(y_test)\n",
    "\n",
    "    # Run KNN on the combined dataset\n",
    "    knn = KNeighborsClassifier(n_neighbors=n_neighbors)\n",
    "    knn.fit(X_train, y_train)\n",
    "    y_pred = knn.predict(X_test)\n",
    "\n",
    "    # Calculate accuracy\n",
    "    accuracy = accuracy_score(y_test, y_pred)\n",
    "    print(accuracy)\n",
    "    accuracies.append(accuracy)\n",
    "\n",
    "#return accuracies\n",
    "\n",
    "#baseline_accuracies = run_knn_baseline_with_expert(pers_expert_data, pers_remaining_data, 'Gesture_Encoded')\n",
    "#print(f'KNN Accuracy: {baseline_accuracies}')\n",
    "#print(\"userdef\", np.mean(baseline_accuracies))"
   ]
  },
  {
   "cell_type": "markdown",
   "id": "c7c43d2c",
   "metadata": {},
   "source": [
    "> That appears to be correct! Just turning shuffle off drops the accuracy considerably\n",
    "\n",
    "## Explicitly holding out certain users"
   ]
  },
  {
   "cell_type": "code",
   "execution_count": 68,
   "id": "aff9e682",
   "metadata": {},
   "outputs": [],
   "source": [
    "test_users1 = ['P125', 'P126', 'P127', 'P128', 'P131', 'P132']\n",
    "test_users2 = ['P004', 'P005', 'P006', 'P008', 'P010', 'P011']  # All users without disabilities"
   ]
  },
  {
   "cell_type": "code",
   "execution_count": 69,
   "id": "69f36395",
   "metadata": {},
   "outputs": [
    {
     "name": "stdout",
     "output_type": "stream",
     "text": [
      "0.07833333333333334\n"
     ]
    }
   ],
   "source": [
    "#baseline knn\n",
    "\n",
    "test_users = test_users1\n",
    "\n",
    "#pers_expert_data, pers_remaining_data = hold_out_expert(userdef, 'Participant')\n",
    "#expert_data = pers_expert_data\n",
    "#remaining_data = pers_remaining_data\n",
    "target_column = 'Gesture_Encoded'\n",
    "n_neighbors = 5\n",
    "k = 5\n",
    "\n",
    "train_data = userdef[~userdef['Participant'].isin(test_users)]\n",
    "test_data = userdef[userdef['Participant'].isin(test_users)]\n",
    "X_train = train_data['feature_flat']\n",
    "y_train = train_data[target_column]\n",
    "X_test = test_data['feature_flat']\n",
    "y_test = test_data[target_column]\n",
    "\n",
    "X_train = np.array(X_train.tolist()) if isinstance(X_train, pd.Series) else np.array(X_train)\n",
    "y_train = np.array(y_train.tolist()) if isinstance(y_train, pd.Series) else np.array(y_train)\n",
    "X_test = np.array(X_test.tolist()) if isinstance(X_test, pd.Series) else np.array(X_test)\n",
    "y_test = np.array(y_test.tolist()) if isinstance(y_test, pd.Series) else np.array(y_test)\n",
    "\n",
    "# Run KNN on the combined dataset\n",
    "knn = KNeighborsClassifier(n_neighbors=n_neighbors)\n",
    "knn.fit(X_train, y_train)\n",
    "y_pred = knn.predict(X_test)\n",
    "\n",
    "# Calculate accuracy\n",
    "accuracy = accuracy_score(y_test, y_pred)\n",
    "print(accuracy)\n",
    "#accuracies.append(accuracy)\n",
    "\n"
   ]
  },
  {
   "cell_type": "code",
   "execution_count": 70,
   "id": "2371257b",
   "metadata": {},
   "outputs": [
    {
     "name": "stdout",
     "output_type": "stream",
     "text": [
      "0.165\n"
     ]
    }
   ],
   "source": [
    "#baseline knn\n",
    "\n",
    "test_users = test_users2\n",
    "\n",
    "#pers_expert_data, pers_remaining_data = hold_out_expert(userdef, 'Participant')\n",
    "#expert_data = pers_expert_data\n",
    "#remaining_data = pers_remaining_data\n",
    "target_column = 'Gesture_Encoded'\n",
    "n_neighbors = 5\n",
    "k = 5\n",
    "\n",
    "train_data = userdef[~userdef['Participant'].isin(test_users)]\n",
    "test_data = userdef[userdef['Participant'].isin(test_users)]\n",
    "X_train = train_data['feature_flat']\n",
    "y_train = train_data[target_column]\n",
    "X_test = test_data['feature_flat']\n",
    "y_test = test_data[target_column]\n",
    "\n",
    "X_train = np.array(X_train.tolist()) if isinstance(X_train, pd.Series) else np.array(X_train)\n",
    "y_train = np.array(y_train.tolist()) if isinstance(y_train, pd.Series) else np.array(y_train)\n",
    "X_test = np.array(X_test.tolist()) if isinstance(X_test, pd.Series) else np.array(X_test)\n",
    "y_test = np.array(y_test.tolist()) if isinstance(y_test, pd.Series) else np.array(y_test)\n",
    "\n",
    "# Run KNN on the combined dataset\n",
    "knn = KNeighborsClassifier(n_neighbors=n_neighbors)\n",
    "knn.fit(X_train, y_train)\n",
    "y_pred = knn.predict(X_test)\n",
    "\n",
    "# Calculate accuracy\n",
    "accuracy = accuracy_score(y_test, y_pred)\n",
    "print(accuracy)\n",
    "#accuracies.append(accuracy)\n",
    "\n"
   ]
  },
  {
   "cell_type": "markdown",
   "id": "9d5a2a86",
   "metadata": {},
   "source": [
    "Interesting that it improves so much when you test on the users without disabilities... but the accuracy is still pretty poor  \n",
    "\n",
    "> Kai's conclusion: the way the training split is currently conducted (random shuffle on the k folds) results in the testing scenario being more akin to the intra-subject case (eg you have already trained on examples from all users) as opposed to our desired cross-subject case (new users join the network and we havent seen any of their data yet), thus we are testing on data that is well represented in the training data, instead of testing on novel user data"
   ]
  },
  {
   "cell_type": "code",
   "execution_count": null,
   "id": "ec2b81c7",
   "metadata": {},
   "outputs": [],
   "source": []
  },
  {
   "cell_type": "markdown",
   "id": "1e699e92",
   "metadata": {},
   "source": [
    "## Checking Kaylah's Cross"
   ]
  },
  {
   "cell_type": "code",
   "execution_count": 71,
   "id": "ba33cd71",
   "metadata": {},
   "outputs": [],
   "source": [
    "expert_user = 'P118'\n",
    "test_users = ['P116', 'P132']\n",
    "train_users = ['P104', 'P111', 'P114', 'P119', 'P123', 'P124', 'P126']"
   ]
  },
  {
   "cell_type": "code",
   "execution_count": 72,
   "id": "29c42313",
   "metadata": {},
   "outputs": [
    {
     "name": "stdout",
     "output_type": "stream",
     "text": [
      "0.13\n"
     ]
    }
   ],
   "source": [
    "#baseline knn\n",
    "\n",
    "#pers_expert_data, pers_remaining_data = hold_out_expert(userdef, 'Participant')\n",
    "#expert_data = pers_expert_data\n",
    "#remaining_data = pers_remaining_data\n",
    "target_column = 'Gesture_Encoded'\n",
    "n_neighbors = 5\n",
    "k = 5\n",
    "\n",
    "train_data = userdef[userdef['Participant'].isin(train_users)]\n",
    "test_data = userdef[userdef['Participant'].isin(test_users)]\n",
    "X_train = train_data['feature_flat']\n",
    "y_train = train_data[target_column]\n",
    "X_test = test_data['feature_flat']\n",
    "y_test = test_data[target_column]\n",
    "\n",
    "X_train = np.array(X_train.tolist()) if isinstance(X_train, pd.Series) else np.array(X_train)\n",
    "y_train = np.array(y_train.tolist()) if isinstance(y_train, pd.Series) else np.array(y_train)\n",
    "X_test = np.array(X_test.tolist()) if isinstance(X_test, pd.Series) else np.array(X_test)\n",
    "y_test = np.array(y_test.tolist()) if isinstance(y_test, pd.Series) else np.array(y_test)\n",
    "\n",
    "# Run KNN on the combined dataset\n",
    "knn = KNeighborsClassifier(n_neighbors=n_neighbors)\n",
    "knn.fit(X_train, y_train)\n",
    "y_pred = knn.predict(X_test)\n",
    "\n",
    "# Calculate accuracy\n",
    "accuracy = accuracy_score(y_test, y_pred)\n",
    "print(accuracy)\n",
    "#accuracies.append(accuracy)"
   ]
  },
  {
   "cell_type": "code",
   "execution_count": 73,
   "id": "88524360",
   "metadata": {},
   "outputs": [
    {
     "data": {
      "text/plain": [
       "array(['P004', 'P005', 'P006', 'P008', 'P010', 'P011', 'P102', 'P103',\n",
       "       'P104', 'P105', 'P106', 'P107', 'P108', 'P109', 'P110', 'P111',\n",
       "       'P112', 'P114', 'P115', 'P116', 'P118', 'P119', 'P121', 'P122',\n",
       "       'P123', 'P124', 'P125', 'P126', 'P127', 'P128', 'P131', 'P132'],\n",
       "      dtype=object)"
      ]
     },
     "execution_count": 73,
     "metadata": {},
     "output_type": "execute_result"
    }
   ],
   "source": [
    "userdef['Participant'].unique()"
   ]
  },
  {
   "cell_type": "code",
   "execution_count": 74,
   "id": "e5042f93",
   "metadata": {},
   "outputs": [
    {
     "data": {
      "text/plain": [
       "32"
      ]
     },
     "execution_count": 74,
     "metadata": {},
     "output_type": "execute_result"
    }
   ],
   "source": [
    "len(userdef['Participant'].unique())"
   ]
  },
  {
   "cell_type": "code",
   "execution_count": 75,
   "id": "7edf1139",
   "metadata": {},
   "outputs": [],
   "source": [
    "with_disability = ['P102', 'P103',\n",
    "       'P104', 'P105', 'P106', 'P107', 'P108', 'P109', 'P110', 'P111',\n",
    "       'P112', 'P114', 'P115', 'P116', 'P118', 'P119', 'P121', 'P122', \n",
    "       'P123', 'P124', 'P125', 'P126', 'P127', 'P128', 'P131', 'P132']"
   ]
  },
  {
   "cell_type": "code",
   "execution_count": 76,
   "id": "46c191dc",
   "metadata": {},
   "outputs": [
    {
     "name": "stdout",
     "output_type": "stream",
     "text": [
      "User-Def Mean accuracies per participant: {'P118': 0.35}\n"
     ]
    }
   ],
   "source": [
    "# CCA\n",
    "\n",
    "userdef_rep = {}\n",
    "# = hold_out_expert(c, 'Participant')\n",
    "expert_data = userdef[userdef['Participant']==expert_user]\n",
    "remaining_data = userdef[userdef['Participant']!=expert_user]\n",
    "cca_knn_accuracy=k_fold_cross_validation(remaining_data, expert_data, 'Participant', 'Gesture_Encoded', k=5, n_neighbors=5, n_components=2)\n",
    "\n",
    "#get mean accuracy for each expert_id\n",
    "participants = expert_data['Participant'].unique()\n",
    "for participant, accuracy in zip(participants, cca_knn_accuracy):\n",
    "    if participant not in userdef_rep:\n",
    "        userdef_rep[participant] = []\n",
    "    userdef_rep[participant].append(accuracy)\n",
    "\n",
    "# Calculate mean accuracy per participant\n",
    "mean_accuracies_per_participant = {participant: np.mean(accuracies) for participant, accuracies in userdef_rep.items()}\n",
    "\n",
    "print(\"User-Def Mean accuracies per participant:\", mean_accuracies_per_participant)"
   ]
  },
  {
   "cell_type": "code",
   "execution_count": 84,
   "id": "5a2930db",
   "metadata": {},
   "outputs": [
    {
     "name": "stdout",
     "output_type": "stream",
     "text": [
      "Accuracy: 0.47\n",
      "User-Def Mean accuracies per participant: {'P118': 0.35}\n"
     ]
    }
   ],
   "source": [
    "# CCA\n",
    "\n",
    "userdef_rep = {}\n",
    "# = hold_out_expert(c, 'Participant')\n",
    "expert_data = userdef[userdef['Participant']==expert_user]\n",
    "remaining_data = userdef[userdef['Participant']!=expert_user]\n",
    "#cca_knn_accuracy=k_fold_cross_validation(remaining_data, expert_data, 'Participant', 'Gesture_Encoded', k=5, n_neighbors=5, n_components=2)\n",
    "# Implement k-fold cross-validation and refer to each of the other functions to run CCA between expert user and training and expert user and testing\n",
    "#def k_fold_cross_validation(\n",
    "data = remaining_data\n",
    "expert_data = expert_data\n",
    "participant_column = 'Participant'\n",
    "target_column = 'Gesture_Encoded'\n",
    "k=5\n",
    "n_neighbors=5\n",
    "n_components=2\n",
    "\n",
    "#kf = KFold(n_splits=k, shuffle=True, random_state=42)\n",
    "kf = KFold(n_splits=k, shuffle=False)\n",
    "accuracies = []\n",
    "\n",
    "#80/20 train test split. 4 folds in train and 1 in test\n",
    "#for train_index, test_index in kf.split(data[participant_column].unique()):\n",
    "# Split based on participant IDs\n",
    "#train_ids = data[participant_column].unique()[train_index]\n",
    "#test_ids = data[participant_column].unique()[test_index]\n",
    "#train_data = data[data[participant_column].isin(train_ids)]\n",
    "#test_data = data[data[participant_column].isin(test_ids)]\n",
    "train_data = data[data['Participant'].isin(train_users)]\n",
    "test_data = data[data['Participant'].isin(test_users)]\n",
    "\n",
    "# CCA between expert and training users\n",
    "X_train_cca = []\n",
    "y_train = []\n",
    "for pid in train_users: #train_pids\n",
    "    pid_data = train_data[train_data[participant_column] == pid]\n",
    "    #print(\"participant id\", pid)\n",
    "    #print(\"expert data\", expert_data.shape)\n",
    "    #print(\"participant data\", pid_data.shape)\n",
    "    X_pid_cca, y_pid = apply_cca_between_expert_and_others(expert_data, pid_data, target_column, n_components)\n",
    "    X_train_cca.append(X_pid_cca)\n",
    "    y_train.append(y_pid)\n",
    "\n",
    "# Combine all CCA-transformed training data\n",
    "X_train_cca = np.vstack(X_train_cca)\n",
    "y_train = np.concatenate(y_train)\n",
    "\n",
    "# CCA between expert and testing users\n",
    "X_test_cca = []\n",
    "y_test = []\n",
    "for pid in test_ids:\n",
    "    pid_data = test_data[test_data[participant_column] == pid]\n",
    "    #change to X_expert, X_other for output     X_pid_cca, y_pid = apply_cca_between_expert_and_others(expert_data, pid_data, target_column, n_components)\n",
    "    X_test_cca.append(X_pid_cca)\n",
    "    y_test.append(y_pid)\n",
    "\n",
    "# Combine all CCA-transformed testing data\n",
    "X_test_cca = np.vstack(X_test_cca)\n",
    "y_test = np.concatenate(y_test)\n",
    "\n",
    "# Run KNN on CCA-transformed feature sets\n",
    "accuracy = run_knn(X_train_cca, y_train, X_test_cca, y_test, n_neighbors)\n",
    "accuracies.append(accuracy)\n",
    "print(f\"Accuracy: {accuracy}\")\n",
    "\n",
    "#get mean accuracy for each expert_id\n",
    "participants = expert_data['Participant'].unique()\n",
    "for participant, accuracy in zip(participants, cca_knn_accuracy):\n",
    "    if participant not in userdef_rep:\n",
    "        userdef_rep[participant] = []\n",
    "    userdef_rep[participant].append(accuracy)\n",
    "\n",
    "# Calculate mean accuracy per participant\n",
    "mean_accuracies_per_participant = {participant: np.mean(accuracies) for participant, accuracies in userdef_rep.items()}\n",
    "\n",
    "print(\"User-Def Mean accuracies per participant:\", mean_accuracies_per_participant)"
   ]
  },
  {
   "cell_type": "code",
   "execution_count": 82,
   "id": "d40cc205",
   "metadata": {},
   "outputs": [
    {
     "data": {
      "text/plain": [
       "(100, 6)"
      ]
     },
     "execution_count": 82,
     "metadata": {},
     "output_type": "execute_result"
    }
   ],
   "source": [
    "expert_data.shape"
   ]
  },
  {
   "cell_type": "code",
   "execution_count": 83,
   "id": "5fb97704",
   "metadata": {},
   "outputs": [
    {
     "data": {
      "text/plain": [
       "(0, 6)"
      ]
     },
     "execution_count": 83,
     "metadata": {},
     "output_type": "execute_result"
    }
   ],
   "source": [
    "pid_data.shape"
   ]
  },
  {
   "cell_type": "code",
   "execution_count": null,
   "id": "5378102b",
   "metadata": {},
   "outputs": [],
   "source": []
  }
 ],
 "metadata": {
  "kernelspec": {
   "display_name": "Python 3 (ipykernel)",
   "language": "python",
   "name": "python3"
  },
  "language_info": {
   "codemirror_mode": {
    "name": "ipython",
    "version": 3
   },
   "file_extension": ".py",
   "mimetype": "text/x-python",
   "name": "python",
   "nbconvert_exporter": "python",
   "pygments_lexer": "ipython3",
   "version": "3.10.10"
  }
 },
 "nbformat": 4,
 "nbformat_minor": 5
}
