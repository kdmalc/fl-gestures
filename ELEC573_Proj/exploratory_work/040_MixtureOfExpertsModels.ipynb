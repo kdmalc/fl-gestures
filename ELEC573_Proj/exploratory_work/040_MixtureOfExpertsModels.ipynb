{
 "cells": [
  {
   "cell_type": "markdown",
   "id": "99221117",
   "metadata": {},
   "source": [
    "Additionally, we may be able to leverage mixture of experts related approaches [16, 17, 18], wherein each new sample is passed to a gating mechanism which must decide which expert (or in our case, cluster model) is best suited for it, and then is run through the corresponding expert model. In our scenario, one could imagine having expert models that are ability-based, however that is defined, or potentially disability-based or body-part based (e.g., all gestures performed by the fingers will be sent to the finger expert model/cluster, etc.). Generally, within a disability diagnosis, there is still a wide range of abilities, so explicit disability-based groupings typically are undesirable."
   ]
  },
  {
   "cell_type": "code",
   "execution_count": null,
   "id": "0c9ca70c",
   "metadata": {},
   "outputs": [],
   "source": []
  }
 ],
 "metadata": {
  "kernelspec": {
   "display_name": "Python 3 (ipykernel)",
   "language": "python",
   "name": "python3"
  },
  "language_info": {
   "codemirror_mode": {
    "name": "ipython",
    "version": 3
   },
   "file_extension": ".py",
   "mimetype": "text/x-python",
   "name": "python",
   "nbconvert_exporter": "python",
   "pygments_lexer": "ipython3",
   "version": "3.10.10"
  }
 },
 "nbformat": 4,
 "nbformat_minor": 5
}
