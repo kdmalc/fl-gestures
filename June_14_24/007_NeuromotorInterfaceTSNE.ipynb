{
 "cells": [
  {
   "cell_type": "code",
   "execution_count": 1,
   "id": "3634008a-747a-4459-85de-6bbcddc8c6c0",
   "metadata": {},
   "outputs": [],
   "source": [
    "import numpy as np\n",
    "import matplotlib.pyplot as plt\n",
    "import sys\n",
    "import os\n",
    "import copy\n",
    "import pandas as pd\n",
    "import time\n",
    "from sklearn.manifold import TSNE"
   ]
  },
  {
   "cell_type": "code",
   "execution_count": 2,
   "id": "edfd926b-7842-443f-b401-07924c9e792d",
   "metadata": {},
   "outputs": [
    {
     "name": "stdout",
     "output_type": "stream",
     "text": [
      "Loading\n",
      "Completed in 5.040628671646118s\n"
     ]
    }
   ],
   "source": [
    "# Kai's laptop\n",
    "data_path = \"C:\\\\Users\\\\kdmen\\\\Desktop\\\\Research\\\\Data\\\\$M\\\\PCA_40D\\\\\"\n",
    "metadata_cols_df = pd.read_pickle('C:\\\\Users\\\\kdmen\\\\Desktop\\\\Research\\\\Data\\\\$M\\\\metadata_cols_df.pkl')\n",
    "# BRC Desktop\n",
    "#data_path = \"D:\\\\Kai_MetaGestureClustering_24\\\\saved_datasets\\\\\"\n",
    "#metadata_cols_df = pd.read_pickle('metadata_cols_df.pkl')\n",
    "\n",
    "print(\"Loading\")\n",
    "start_time = time.time()\n",
    "\n",
    "metadata_cols = ['Participant', 'Gesture_ID', 'Gesture_Num']\n",
    "\n",
    "PCA_df = pd.read_pickle(data_path+'PCA_ms_IMUEMG_df.pkl')\n",
    "\n",
    "# Dropping the metadata when we read it in!\n",
    "training_u_df = pd.read_pickle(data_path+'training_u_df.pkl').drop(metadata_cols, axis=1)\n",
    "test_users_df = pd.read_pickle(data_path+'test_users_df.pkl').drop(metadata_cols, axis=1)\n",
    "\n",
    "end_time = time.time()\n",
    "print(f\"Completed in {end_time - start_time}s\")"
   ]
  },
  {
   "cell_type": "code",
   "execution_count": 3,
   "id": "0eee42db-50e5-4315-b491-95b43f981864",
   "metadata": {},
   "outputs": [
    {
     "data": {
      "text/plain": [
       "(426752, 40)"
      ]
     },
     "execution_count": 3,
     "metadata": {},
     "output_type": "execute_result"
    }
   ],
   "source": [
    "PCA_df.shape"
   ]
  },
  {
   "cell_type": "code",
   "execution_count": 5,
   "id": "c4e76a00-8534-4763-b276-f84c7a42128a",
   "metadata": {},
   "outputs": [],
   "source": [
    "num_rows_per_gesture = 64 # From the interp\n",
    "num_gestures = len(PCA_df) // num_rows_per_gesture\n",
    "num_features = PCA_df.shape[1]\n",
    "\n",
    "# Ensure the data can be evenly divided into gestures\n",
    "assert len(PCA_df) % num_rows_per_gesture == 0, \"The total number of rows is not a multiple of the number of rows per gesture.\"\n",
    "\n",
    "# Convert DataFrame to NumPy array\n",
    "data_np = PCA_df.to_numpy()\n",
    "# Reshape into (batch_dim, time_step, n_features) AKA (n_gestures, n_rows_per_gesture, n_columns)\n",
    "PCA_np = data_np.reshape(num_gestures, num_rows_per_gesture, num_features)\n",
    "#PCA_np = PCA_df.to_numpy()\n",
    "flattened_PCA = PCA_np.reshape(num_gestures, -1)"
   ]
  },
  {
   "cell_type": "code",
   "execution_count": 6,
   "id": "ee990b9d-c802-40ab-a782-6944114ff103",
   "metadata": {},
   "outputs": [
    {
     "data": {
      "text/plain": [
       "(6668, 2560)"
      ]
     },
     "execution_count": 6,
     "metadata": {},
     "output_type": "execute_result"
    }
   ],
   "source": [
    "flattened_PCA.shape"
   ]
  },
  {
   "cell_type": "code",
   "execution_count": 7,
   "id": "0c25db2a-1eaf-40ce-b17b-b04c84516756",
   "metadata": {},
   "outputs": [],
   "source": [
    "def extract_features(sEMG_data, window_size=300, step_size=100):\n",
    "    \"\"\"\n",
    "    Extract features from sEMG data by computing the covariance matrix\n",
    "    over sliding windows and concatenating the 0-, 1-, and 2-diagonals.\n",
    "    \n",
    "    Parameters:\n",
    "    sEMG_data (np.ndarray): The sEMG data matrix with shape (n_samples, n_channels)\n",
    "    window_size (int): The size of the window to compute the covariance matrix\n",
    "    step_size (int): The step size for the sliding window\n",
    "    \n",
    "    Returns:\n",
    "    np.ndarray: The feature matrix with shape (n_windows, feature_size)\n",
    "    \"\"\"\n",
    "    n_samples, n_channels = sEMG_data.shape\n",
    "    features = []\n",
    "\n",
    "    for start in range(0, n_samples - window_size + 1, step_size):\n",
    "        window_data = sEMG_data[start:start + window_size]\n",
    "        cov_matrix = np.cov(window_data, rowvar=False)\n",
    "        diag_0 = np.diag(cov_matrix)\n",
    "        diag_1 = np.diag(cov_matrix, k=1)\n",
    "        diag_2 = np.diag(cov_matrix, k=2)\n",
    "        feature_vector = np.concatenate([diag_0, diag_1, diag_2])\n",
    "        features.append(feature_vector)\n",
    "\n",
    "    return np.array(features)\n",
    "\n",
    "def run_tsne(features, perplexity=35, n_components=2):\n",
    "    \"\"\"\n",
    "    Apply t-SNE to the feature matrix.\n",
    "    \n",
    "    Parameters:\n",
    "    features (np.ndarray): The feature matrix\n",
    "    perplexity (int): The perplexity parameter for t-SNE\n",
    "    n_components (int): The number of dimensions for the t-SNE embedding\n",
    "    \n",
    "    Returns:\n",
    "    np.ndarray: The 2D t-SNE embedding of the features\n",
    "    \"\"\"\n",
    "    tsne = TSNE(n_components=n_components, perplexity=perplexity)\n",
    "    tsne_result = tsne.fit_transform(features)\n",
    "    return tsne_result\n"
   ]
  },
  {
   "cell_type": "code",
   "execution_count": 8,
   "id": "ad4e3b17-187d-4dc0-b695-01e936836b5a",
   "metadata": {},
   "outputs": [
    {
     "data": {
      "image/png": "[encoded data removed]",
      "text/plain": [
       "<Figure size 640x480 with 1 Axes>"
      ]
     },
     "metadata": {},
     "output_type": "display_data"
    }
   ],
   "source": [
    "features = extract_features(flattened_PCA)\n",
    "tsne_embedding = run_tsne(features)\n",
    "\n",
    "# Visualization (e.g., using matplotlib)\n",
    "plt.scatter(tsne_embedding[:, 0], tsne_embedding[:, 1])\n",
    "plt.show()"
   ]
  },
  {
   "cell_type": "code",
   "execution_count": 10,
   "id": "60b984a4-bdba-4a29-a3bc-a4da0357d7f5",
   "metadata": {},
   "outputs": [
    {
     "data": {
      "text/plain": [
       "(64, 7677)"
      ]
     },
     "execution_count": 10,
     "metadata": {},
     "output_type": "execute_result"
    }
   ],
   "source": [
    "features.shape"
   ]
  },
  {
   "cell_type": "code",
   "execution_count": 9,
   "id": "e7947ffc-0ece-4bb8-bbf7-8a72e2803fcd",
   "metadata": {},
   "outputs": [
    {
     "data": {
      "text/plain": [
       "(64, 2)"
      ]
     },
     "execution_count": 9,
     "metadata": {},
     "output_type": "execute_result"
    }
   ],
   "source": [
    "tsne_embedding.shape"
   ]
  },
  {
   "cell_type": "code",
   "execution_count": null,
   "id": "74db2487-f0b7-44c1-9b9e-6f4123d44a11",
   "metadata": {},
   "outputs": [],
   "source": []
  }
 ],
 "metadata": {
  "kernelspec": {
   "display_name": "Python 3 (ipykernel)",
   "language": "python",
   "name": "python3"
  },
  "language_info": {
   "codemirror_mode": {
    "name": "ipython",
    "version": 3
   },
   "file_extension": ".py",
   "mimetype": "text/x-python",
   "name": "python",
   "nbconvert_exporter": "python",
   "pygments_lexer": "ipython3",
   "version": "3.10.12"
  }
 },
 "nbformat": 4,
 "nbformat_minor": 5
}
