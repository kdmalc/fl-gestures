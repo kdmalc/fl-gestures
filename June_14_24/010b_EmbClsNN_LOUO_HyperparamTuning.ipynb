{
 "cells": [
  {
   "cell_type": "code",
   "execution_count": 1,
   "id": "c1ef1e63-343c-4d55-ad97-cf3cabb3fc2e",
   "metadata": {},
   "outputs": [],
   "source": [
    "import torch\n",
    "import torch.nn as nn\n",
    "import torch.optim as optim\n",
    "from torch.utils.data import Dataset, DataLoader\n",
    "\n",
    "import pandas as pd\n",
    "import numpy as np\n",
    "import matplotlib.pyplot as plt\n",
    "import time\n",
    "\n",
    "from sklearn.preprocessing import OneHotEncoder\n",
    "from sklearn.metrics import classification_report, accuracy_score\n",
    "\n",
    "from utils.ae_eval_and_vis import *\n",
    "from utils.ae_torch_classes import *\n",
    "from utils.LSTM_pipeline import *"
   ]
  },
  {
   "cell_type": "code",
   "execution_count": 2,
   "id": "47711c64-44f7-453c-9d0e-6a4f299633e8",
   "metadata": {},
   "outputs": [],
   "source": [
    "import warnings\n",
    "warnings.filterwarnings('ignore')\n",
    "# C:\\Users\\kdmen\\miniconda3\\envs\\fl_torch\\lib\\site-packages\\sklearn\\cluster\\_kmeans.py:870: FutureWarning: The default value of `n_init` will change from 10 to 'auto' in 1.4. Set the value of `n_init` explicitly to suppress the warning warnings.warn("
   ]
  },
  {
   "cell_type": "markdown",
   "id": "347da32c-36cc-49e0-80cd-e5b456561a30",
   "metadata": {},
   "source": [
    "# Load in Data"
   ]
  },
  {
   "cell_type": "code",
   "execution_count": 3,
   "id": "3abf0fa7-85d1-4473-b58c-a9e8c7f986e8",
   "metadata": {},
   "outputs": [
    {
     "name": "stdout",
     "output_type": "stream",
     "text": [
      "Loading\n"
     ]
    }
   ],
   "source": [
    "print(\"Loading\")\n",
    "\n",
    "# Kai's laptop\n",
    "#data_path = \"C:\\\\Users\\\\kdmen\\\\Desktop\\\\Research\\\\Data\\\\$M\\\\PCA_40D\\\\\"\n",
    "#model_dir_path = 'C:\\\\Users\\\\kdmen\\\\Desktop\\\\Research\\\\Repos\\\\fl-gestures\\\\models\\\\Embedding\\\\Autoencoders\\\\'\n",
    "# BRC Desktop\n",
    "data_path = \"D:\\\\Kai_MetaGestureClustering_24\\\\saved_datasets\\\\\"\n",
    "model_dir_path = 'C:\\\\Users\\\\YamagamiLab\\\\Desktop\\\\Dev\\\\fl-gestures\\\\models\\\\Embedding\\\\Autoencoders\\\\'\n",
    "\n",
    "emg_dir = \"filtered_datasets\\\\EMG_PPD\\\\\"\n",
    "both_dir = \"filtered_datasets\\\\Both_PPD\\\\\"\n",
    "\n",
    "metadata_cols = ['Participant', 'Gesture_ID', 'Gesture_Num']\n",
    "metadata_cols_df = pd.read_pickle('D:\\\\Kai_MetaGestureClustering_24\\\\saved_datasets\\\\metadata_cols_df.pkl')\n",
    "\n",
    "emg_training_users_df = pd.read_pickle(data_path+emg_dir+'training_users_df.pkl').drop(metadata_cols, axis=1)\n",
    "emg_test_users_df = pd.read_pickle(data_path+emg_dir+'test_users_df.pkl').drop(metadata_cols, axis=1)\n",
    "\n",
    "both_training_users_df = pd.read_pickle(data_path+both_dir+'training_users_df.pkl').drop(metadata_cols, axis=1)\n",
    "both_test_users_df = pd.read_pickle(data_path+both_dir+'test_users_df.pkl').drop(metadata_cols, axis=1)"
   ]
  },
  {
   "cell_type": "code",
   "execution_count": 4,
   "id": "983979ce-db1d-43b2-bd05-3defadd42f57",
   "metadata": {},
   "outputs": [],
   "source": [
    "num_rows_per_gesture = 64 # From the interp\n",
    "batch_size = 32"
   ]
  },
  {
   "cell_type": "code",
   "execution_count": 5,
   "id": "6e2190e4-f653-45cb-b0c9-93bf660cb134",
   "metadata": {},
   "outputs": [
    {
     "name": "stdout",
     "output_type": "stream",
     "text": [
      "(160000, 16)\n"
     ]
    },
    {
     "data": {
      "text/html": [
       "<div>\n",
       "<style scoped>\n",
       "    .dataframe tbody tr th:only-of-type {\n",
       "        vertical-align: middle;\n",
       "    }\n",
       "\n",
       "    .dataframe tbody tr th {\n",
       "        vertical-align: top;\n",
       "    }\n",
       "\n",
       "    .dataframe thead th {\n",
       "        text-align: right;\n",
       "    }\n",
       "</style>\n",
       "<table border=\"1\" class=\"dataframe\">\n",
       "  <thead>\n",
       "    <tr style=\"text-align: right;\">\n",
       "      <th></th>\n",
       "      <th>EMG1</th>\n",
       "      <th>EMG2</th>\n",
       "      <th>EMG3</th>\n",
       "      <th>EMG4</th>\n",
       "      <th>EMG5</th>\n",
       "      <th>EMG6</th>\n",
       "      <th>EMG7</th>\n",
       "      <th>EMG8</th>\n",
       "      <th>EMG9</th>\n",
       "      <th>EMG10</th>\n",
       "      <th>EMG11</th>\n",
       "      <th>EMG12</th>\n",
       "      <th>EMG13</th>\n",
       "      <th>EMG14</th>\n",
       "      <th>EMG15</th>\n",
       "      <th>EMG16</th>\n",
       "    </tr>\n",
       "  </thead>\n",
       "  <tbody>\n",
       "    <tr>\n",
       "      <th>0</th>\n",
       "      <td>-0.362743</td>\n",
       "      <td>-0.801651</td>\n",
       "      <td>-0.383077</td>\n",
       "      <td>-0.195299</td>\n",
       "      <td>-0.203047</td>\n",
       "      <td>-0.464472</td>\n",
       "      <td>-0.276292</td>\n",
       "      <td>-0.026736</td>\n",
       "      <td>-0.873870</td>\n",
       "      <td>-1.036152</td>\n",
       "      <td>-0.580930</td>\n",
       "      <td>-0.719494</td>\n",
       "      <td>-0.502255</td>\n",
       "      <td>-1.750091</td>\n",
       "      <td>-0.127847</td>\n",
       "      <td>-0.094192</td>\n",
       "    </tr>\n",
       "    <tr>\n",
       "      <th>1</th>\n",
       "      <td>-0.351553</td>\n",
       "      <td>-0.775334</td>\n",
       "      <td>-0.382545</td>\n",
       "      <td>-0.154773</td>\n",
       "      <td>-0.131977</td>\n",
       "      <td>-0.295204</td>\n",
       "      <td>-0.125822</td>\n",
       "      <td>0.089679</td>\n",
       "      <td>-0.816215</td>\n",
       "      <td>-2.082635</td>\n",
       "      <td>-0.006283</td>\n",
       "      <td>-0.139439</td>\n",
       "      <td>-0.367764</td>\n",
       "      <td>-0.208084</td>\n",
       "      <td>-0.111811</td>\n",
       "      <td>-0.039009</td>\n",
       "    </tr>\n",
       "    <tr>\n",
       "      <th>2</th>\n",
       "      <td>-0.380825</td>\n",
       "      <td>-0.762588</td>\n",
       "      <td>-0.398388</td>\n",
       "      <td>-0.085411</td>\n",
       "      <td>0.017528</td>\n",
       "      <td>-0.205675</td>\n",
       "      <td>-0.068451</td>\n",
       "      <td>0.117076</td>\n",
       "      <td>-0.668221</td>\n",
       "      <td>-3.403064</td>\n",
       "      <td>-0.526030</td>\n",
       "      <td>-0.478294</td>\n",
       "      <td>-0.300443</td>\n",
       "      <td>0.203266</td>\n",
       "      <td>0.113300</td>\n",
       "      <td>0.004728</td>\n",
       "    </tr>\n",
       "    <tr>\n",
       "      <th>3</th>\n",
       "      <td>-0.366795</td>\n",
       "      <td>-0.765464</td>\n",
       "      <td>-0.374423</td>\n",
       "      <td>-0.073225</td>\n",
       "      <td>0.183172</td>\n",
       "      <td>0.009277</td>\n",
       "      <td>-0.058907</td>\n",
       "      <td>0.080977</td>\n",
       "      <td>-0.424416</td>\n",
       "      <td>-3.709413</td>\n",
       "      <td>-0.570894</td>\n",
       "      <td>-0.775155</td>\n",
       "      <td>-0.144710</td>\n",
       "      <td>-0.619539</td>\n",
       "      <td>0.146499</td>\n",
       "      <td>0.199975</td>\n",
       "    </tr>\n",
       "    <tr>\n",
       "      <th>4</th>\n",
       "      <td>-0.245578</td>\n",
       "      <td>-0.761283</td>\n",
       "      <td>-0.303976</td>\n",
       "      <td>-0.081947</td>\n",
       "      <td>0.224996</td>\n",
       "      <td>0.103319</td>\n",
       "      <td>-0.003929</td>\n",
       "      <td>0.041526</td>\n",
       "      <td>-0.016530</td>\n",
       "      <td>-4.075150</td>\n",
       "      <td>-0.127710</td>\n",
       "      <td>2.682791</td>\n",
       "      <td>-0.141750</td>\n",
       "      <td>-0.208404</td>\n",
       "      <td>-0.035642</td>\n",
       "      <td>0.172662</td>\n",
       "    </tr>\n",
       "  </tbody>\n",
       "</table>\n",
       "</div>"
      ],
      "text/plain": [
       "       EMG1      EMG2      EMG3      EMG4      EMG5      EMG6      EMG7   \n",
       "0 -0.362743 -0.801651 -0.383077 -0.195299 -0.203047 -0.464472 -0.276292  \\\n",
       "1 -0.351553 -0.775334 -0.382545 -0.154773 -0.131977 -0.295204 -0.125822   \n",
       "2 -0.380825 -0.762588 -0.398388 -0.085411  0.017528 -0.205675 -0.068451   \n",
       "3 -0.366795 -0.765464 -0.374423 -0.073225  0.183172  0.009277 -0.058907   \n",
       "4 -0.245578 -0.761283 -0.303976 -0.081947  0.224996  0.103319 -0.003929   \n",
       "\n",
       "       EMG8      EMG9     EMG10     EMG11     EMG12     EMG13     EMG14   \n",
       "0 -0.026736 -0.873870 -1.036152 -0.580930 -0.719494 -0.502255 -1.750091  \\\n",
       "1  0.089679 -0.816215 -2.082635 -0.006283 -0.139439 -0.367764 -0.208084   \n",
       "2  0.117076 -0.668221 -3.403064 -0.526030 -0.478294 -0.300443  0.203266   \n",
       "3  0.080977 -0.424416 -3.709413 -0.570894 -0.775155 -0.144710 -0.619539   \n",
       "4  0.041526 -0.016530 -4.075150 -0.127710  2.682791 -0.141750 -0.208404   \n",
       "\n",
       "      EMG15     EMG16  \n",
       "0 -0.127847 -0.094192  \n",
       "1 -0.111811 -0.039009  \n",
       "2  0.113300  0.004728  \n",
       "3  0.146499  0.199975  \n",
       "4 -0.035642  0.172662  "
      ]
     },
     "execution_count": 5,
     "metadata": {},
     "output_type": "execute_result"
    }
   ],
   "source": [
    "print(emg_training_users_df.shape)\n",
    "emg_training_users_df.head()"
   ]
  },
  {
   "cell_type": "code",
   "execution_count": 6,
   "id": "6eda371b-db44-47f1-9ea4-09c7f473cf52",
   "metadata": {},
   "outputs": [
    {
     "name": "stdout",
     "output_type": "stream",
     "text": [
      "(160000, 88)\n"
     ]
    },
    {
     "data": {
      "text/html": [
       "<div>\n",
       "<style scoped>\n",
       "    .dataframe tbody tr th:only-of-type {\n",
       "        vertical-align: middle;\n",
       "    }\n",
       "\n",
       "    .dataframe tbody tr th {\n",
       "        vertical-align: top;\n",
       "    }\n",
       "\n",
       "    .dataframe thead th {\n",
       "        text-align: right;\n",
       "    }\n",
       "</style>\n",
       "<table border=\"1\" class=\"dataframe\">\n",
       "  <thead>\n",
       "    <tr style=\"text-align: right;\">\n",
       "      <th></th>\n",
       "      <th>IMU1_ax</th>\n",
       "      <th>IMU1_ay</th>\n",
       "      <th>IMU1_az</th>\n",
       "      <th>IMU1_vx</th>\n",
       "      <th>IMU1_vy</th>\n",
       "      <th>IMU1_vz</th>\n",
       "      <th>IMU2_ax</th>\n",
       "      <th>IMU2_ay</th>\n",
       "      <th>IMU2_az</th>\n",
       "      <th>IMU2_vx</th>\n",
       "      <th>...</th>\n",
       "      <th>EMG7</th>\n",
       "      <th>EMG8</th>\n",
       "      <th>EMG9</th>\n",
       "      <th>EMG10</th>\n",
       "      <th>EMG11</th>\n",
       "      <th>EMG12</th>\n",
       "      <th>EMG13</th>\n",
       "      <th>EMG14</th>\n",
       "      <th>EMG15</th>\n",
       "      <th>EMG16</th>\n",
       "    </tr>\n",
       "  </thead>\n",
       "  <tbody>\n",
       "    <tr>\n",
       "      <th>0</th>\n",
       "      <td>-0.551109</td>\n",
       "      <td>-0.738972</td>\n",
       "      <td>-0.985439</td>\n",
       "      <td>0.181924</td>\n",
       "      <td>0.059616</td>\n",
       "      <td>0.087024</td>\n",
       "      <td>1.055804</td>\n",
       "      <td>-0.883268</td>\n",
       "      <td>-0.327978</td>\n",
       "      <td>-0.221822</td>\n",
       "      <td>...</td>\n",
       "      <td>-0.276292</td>\n",
       "      <td>-0.026736</td>\n",
       "      <td>-0.873870</td>\n",
       "      <td>-1.036152</td>\n",
       "      <td>-0.580930</td>\n",
       "      <td>-0.719494</td>\n",
       "      <td>-0.502255</td>\n",
       "      <td>-1.750091</td>\n",
       "      <td>-0.127847</td>\n",
       "      <td>-0.094192</td>\n",
       "    </tr>\n",
       "    <tr>\n",
       "      <th>1</th>\n",
       "      <td>-0.571115</td>\n",
       "      <td>-0.821726</td>\n",
       "      <td>-0.975036</td>\n",
       "      <td>0.242607</td>\n",
       "      <td>0.067375</td>\n",
       "      <td>-0.024900</td>\n",
       "      <td>1.007074</td>\n",
       "      <td>-0.944195</td>\n",
       "      <td>-0.363602</td>\n",
       "      <td>-0.149833</td>\n",
       "      <td>...</td>\n",
       "      <td>-0.125822</td>\n",
       "      <td>0.089679</td>\n",
       "      <td>-0.816215</td>\n",
       "      <td>-2.082635</td>\n",
       "      <td>-0.006283</td>\n",
       "      <td>-0.139439</td>\n",
       "      <td>-0.367764</td>\n",
       "      <td>-0.208084</td>\n",
       "      <td>-0.111811</td>\n",
       "      <td>-0.039009</td>\n",
       "    </tr>\n",
       "    <tr>\n",
       "      <th>2</th>\n",
       "      <td>-0.509305</td>\n",
       "      <td>-0.823575</td>\n",
       "      <td>-0.947221</td>\n",
       "      <td>0.550111</td>\n",
       "      <td>0.013848</td>\n",
       "      <td>-0.485765</td>\n",
       "      <td>0.993332</td>\n",
       "      <td>-0.944029</td>\n",
       "      <td>-0.357476</td>\n",
       "      <td>-0.164447</td>\n",
       "      <td>...</td>\n",
       "      <td>-0.068451</td>\n",
       "      <td>0.117076</td>\n",
       "      <td>-0.668221</td>\n",
       "      <td>-3.403064</td>\n",
       "      <td>-0.526030</td>\n",
       "      <td>-0.478294</td>\n",
       "      <td>-0.300443</td>\n",
       "      <td>0.203266</td>\n",
       "      <td>0.113300</td>\n",
       "      <td>0.004728</td>\n",
       "    </tr>\n",
       "    <tr>\n",
       "      <th>3</th>\n",
       "      <td>-0.511788</td>\n",
       "      <td>-0.775810</td>\n",
       "      <td>-0.947939</td>\n",
       "      <td>0.417919</td>\n",
       "      <td>0.087222</td>\n",
       "      <td>-0.229441</td>\n",
       "      <td>1.026003</td>\n",
       "      <td>-0.911993</td>\n",
       "      <td>-0.335594</td>\n",
       "      <td>-0.006214</td>\n",
       "      <td>...</td>\n",
       "      <td>-0.058907</td>\n",
       "      <td>0.080977</td>\n",
       "      <td>-0.424416</td>\n",
       "      <td>-3.709413</td>\n",
       "      <td>-0.570894</td>\n",
       "      <td>-0.775155</td>\n",
       "      <td>-0.144710</td>\n",
       "      <td>-0.619539</td>\n",
       "      <td>0.146499</td>\n",
       "      <td>0.199975</td>\n",
       "    </tr>\n",
       "    <tr>\n",
       "      <th>4</th>\n",
       "      <td>-0.441369</td>\n",
       "      <td>-0.921726</td>\n",
       "      <td>-0.882652</td>\n",
       "      <td>1.254970</td>\n",
       "      <td>0.108993</td>\n",
       "      <td>-0.933639</td>\n",
       "      <td>1.001748</td>\n",
       "      <td>-0.939228</td>\n",
       "      <td>-0.357917</td>\n",
       "      <td>0.009543</td>\n",
       "      <td>...</td>\n",
       "      <td>-0.003929</td>\n",
       "      <td>0.041526</td>\n",
       "      <td>-0.016530</td>\n",
       "      <td>-4.075150</td>\n",
       "      <td>-0.127710</td>\n",
       "      <td>2.682791</td>\n",
       "      <td>-0.141750</td>\n",
       "      <td>-0.208404</td>\n",
       "      <td>-0.035642</td>\n",
       "      <td>0.172662</td>\n",
       "    </tr>\n",
       "  </tbody>\n",
       "</table>\n",
       "<p>5 rows × 88 columns</p>\n",
       "</div>"
      ],
      "text/plain": [
       "    IMU1_ax   IMU1_ay   IMU1_az   IMU1_vx   IMU1_vy   IMU1_vz   IMU2_ax   \n",
       "0 -0.551109 -0.738972 -0.985439  0.181924  0.059616  0.087024  1.055804  \\\n",
       "1 -0.571115 -0.821726 -0.975036  0.242607  0.067375 -0.024900  1.007074   \n",
       "2 -0.509305 -0.823575 -0.947221  0.550111  0.013848 -0.485765  0.993332   \n",
       "3 -0.511788 -0.775810 -0.947939  0.417919  0.087222 -0.229441  1.026003   \n",
       "4 -0.441369 -0.921726 -0.882652  1.254970  0.108993 -0.933639  1.001748   \n",
       "\n",
       "    IMU2_ay   IMU2_az   IMU2_vx  ...      EMG7      EMG8      EMG9     EMG10   \n",
       "0 -0.883268 -0.327978 -0.221822  ... -0.276292 -0.026736 -0.873870 -1.036152  \\\n",
       "1 -0.944195 -0.363602 -0.149833  ... -0.125822  0.089679 -0.816215 -2.082635   \n",
       "2 -0.944029 -0.357476 -0.164447  ... -0.068451  0.117076 -0.668221 -3.403064   \n",
       "3 -0.911993 -0.335594 -0.006214  ... -0.058907  0.080977 -0.424416 -3.709413   \n",
       "4 -0.939228 -0.357917  0.009543  ... -0.003929  0.041526 -0.016530 -4.075150   \n",
       "\n",
       "      EMG11     EMG12     EMG13     EMG14     EMG15     EMG16  \n",
       "0 -0.580930 -0.719494 -0.502255 -1.750091 -0.127847 -0.094192  \n",
       "1 -0.006283 -0.139439 -0.367764 -0.208084 -0.111811 -0.039009  \n",
       "2 -0.526030 -0.478294 -0.300443  0.203266  0.113300  0.004728  \n",
       "3 -0.570894 -0.775155 -0.144710 -0.619539  0.146499  0.199975  \n",
       "4 -0.127710  2.682791 -0.141750 -0.208404 -0.035642  0.172662  \n",
       "\n",
       "[5 rows x 88 columns]"
      ]
     },
     "execution_count": 6,
     "metadata": {},
     "output_type": "execute_result"
    }
   ],
   "source": [
    "print(both_training_users_df.shape)\n",
    "both_training_users_df.head()"
   ]
  },
  {
   "cell_type": "markdown",
   "id": "a4e20eaf-1040-4f62-bb46-524846cc5e5c",
   "metadata": {},
   "source": [
    "Make the dataloaders for the autoencoders"
   ]
  },
  {
   "cell_type": "code",
   "execution_count": 7,
   "id": "95be1122-3136-4c4a-8769-07eb8476660a",
   "metadata": {},
   "outputs": [],
   "source": [
    "# CREATE THE TRAINING SET\n",
    "num_gestures = len(emg_training_users_df) // num_rows_per_gesture\n",
    "num_full_emg_features = emg_training_users_df.shape[1]\n",
    "emg_train_loader = create_data_loader(emg_training_users_df, GestureDatasetAE)\n",
    "# CREATE THE TEST SET\n",
    "num_test_gestures = len(emg_test_users_df) // num_rows_per_gesture\n",
    "emg_test_loader = create_data_loader(emg_test_users_df, GestureDatasetAE, shuffle_bool=False)\n",
    "\n",
    "# CREATE THE TRAINING SET\n",
    "num_gestures = len(both_training_users_df) // num_rows_per_gesture\n",
    "num_full_both_features = both_training_users_df.shape[1]\n",
    "both_train_loader = create_data_loader(both_training_users_df, GestureDatasetAE)\n",
    "# CREATE THE TEST SET\n",
    "num_test_gestures = len(both_test_users_df) // num_rows_per_gesture\n",
    "both_test_loader = create_data_loader(both_test_users_df, GestureDatasetAE, shuffle_bool=False)"
   ]
  },
  {
   "cell_type": "code",
   "execution_count": 8,
   "id": "a501fee0-3c85-4c02-aaa3-f785b9552412",
   "metadata": {},
   "outputs": [
    {
     "name": "stdout",
     "output_type": "stream",
     "text": [
      "Average testing loss across the entire test_loader: 0.2686733954719135\n"
     ]
    }
   ],
   "source": [
    "hidden_dim_lst = [64, 22]\n",
    "input_dim = 88\n",
    "RNNAE_64_22mir_BothFull = RNNAutoencoder(input_dim, hidden_dim_lst, num_layers=None, seq_len=num_rows_per_gesture, progressive=False, mirror=True)\n",
    "RNNAE_64_22mir_BothFull.load_state_dict(torch.load(model_dir_path+'RNNAE_64_22mir_vallossp262_BothFull.pth'))\n",
    "\n",
    "average_test_loss, sample_data_lst, reconstructions_lst, latent_representations_lst = eval_on_testset_and_return_original_and_reconstructed(RNNAE_64_22mir_BothFull, both_test_loader)\n",
    "\n",
    "latent_representations = np.concatenate(latent_representations_lst)\n",
    "latent_representations_reshaped = latent_representations.reshape(latent_representations.shape[0], -1)\n"
   ]
  },
  {
   "cell_type": "code",
   "execution_count": 9,
   "id": "604d770b-330f-4b15-99d3-5ffe0e5c044b",
   "metadata": {},
   "outputs": [
    {
     "name": "stdout",
     "output_type": "stream",
     "text": [
      "Average testing loss across the entire test_loader: 0.2833991277785528\n"
     ]
    }
   ],
   "source": [
    "hidden_dim_lst = [9]\n",
    "input_dim = 16\n",
    "RNNAE_9mir_EMGFull = RNNAutoencoder(input_dim, hidden_dim_lst, num_layers=None, seq_len=num_rows_per_gesture, progressive=False, mirror=True)\n",
    "RNNAE_9mir_EMGFull.load_state_dict(torch.load(model_dir_path+'RNNAE_9mir_vallossp277_EMGFull.pth'))\n",
    "\n",
    "average_test_loss, sample_data_lst, reconstructions_lst, latent_representations_lst = eval_on_testset_and_return_original_and_reconstructed(RNNAE_9mir_EMGFull, emg_test_loader)\n",
    "\n",
    "latent_representations = np.concatenate(latent_representations_lst)\n",
    "latent_representations_reshaped = latent_representations.reshape(latent_representations.shape[0], -1)\n"
   ]
  },
  {
   "cell_type": "markdown",
   "id": "2a476737-b74b-4844-a73c-622a329c8cf8",
   "metadata": {},
   "source": [
    "One hot encode\n",
    "> All datasets have the same number of rows and thus the same label sets (they only differ in the number of columns!)"
   ]
  },
  {
   "cell_type": "code",
   "execution_count": 10,
   "id": "ad547a4f-4dc3-4b2d-ab81-fe69e2b53f77",
   "metadata": {},
   "outputs": [
    {
     "data": {
      "text/html": [
       "<div>\n",
       "<style scoped>\n",
       "    .dataframe tbody tr th:only-of-type {\n",
       "        vertical-align: middle;\n",
       "    }\n",
       "\n",
       "    .dataframe tbody tr th {\n",
       "        vertical-align: top;\n",
       "    }\n",
       "\n",
       "    .dataframe thead th {\n",
       "        text-align: right;\n",
       "    }\n",
       "</style>\n",
       "<table border=\"1\" class=\"dataframe\">\n",
       "  <thead>\n",
       "    <tr style=\"text-align: right;\">\n",
       "      <th></th>\n",
       "      <th>EMG1</th>\n",
       "      <th>EMG2</th>\n",
       "      <th>EMG3</th>\n",
       "      <th>EMG4</th>\n",
       "      <th>EMG5</th>\n",
       "      <th>EMG6</th>\n",
       "      <th>EMG7</th>\n",
       "      <th>EMG8</th>\n",
       "      <th>EMG9</th>\n",
       "      <th>EMG10</th>\n",
       "      <th>EMG11</th>\n",
       "      <th>EMG12</th>\n",
       "      <th>EMG13</th>\n",
       "      <th>EMG14</th>\n",
       "      <th>EMG15</th>\n",
       "      <th>EMG16</th>\n",
       "    </tr>\n",
       "  </thead>\n",
       "  <tbody>\n",
       "    <tr>\n",
       "      <th>6400</th>\n",
       "      <td>-0.590579</td>\n",
       "      <td>-0.287949</td>\n",
       "      <td>-0.306210</td>\n",
       "      <td>-0.286026</td>\n",
       "      <td>-0.067811</td>\n",
       "      <td>-0.022725</td>\n",
       "      <td>-0.030116</td>\n",
       "      <td>-0.301059</td>\n",
       "      <td>-5.375536</td>\n",
       "      <td>-0.672272</td>\n",
       "      <td>0.003550</td>\n",
       "      <td>-0.034412</td>\n",
       "      <td>-0.015434</td>\n",
       "      <td>-0.004368</td>\n",
       "      <td>-0.132297</td>\n",
       "      <td>-0.127927</td>\n",
       "    </tr>\n",
       "    <tr>\n",
       "      <th>6401</th>\n",
       "      <td>-0.538529</td>\n",
       "      <td>-0.316620</td>\n",
       "      <td>-0.312567</td>\n",
       "      <td>-0.225234</td>\n",
       "      <td>-0.040725</td>\n",
       "      <td>-0.002531</td>\n",
       "      <td>-0.050021</td>\n",
       "      <td>-0.234298</td>\n",
       "      <td>-5.365962</td>\n",
       "      <td>-0.618651</td>\n",
       "      <td>0.022224</td>\n",
       "      <td>-0.002252</td>\n",
       "      <td>-0.007844</td>\n",
       "      <td>-0.018952</td>\n",
       "      <td>0.016946</td>\n",
       "      <td>-0.093420</td>\n",
       "    </tr>\n",
       "    <tr>\n",
       "      <th>6402</th>\n",
       "      <td>-0.521673</td>\n",
       "      <td>-0.321927</td>\n",
       "      <td>-0.321917</td>\n",
       "      <td>-0.383057</td>\n",
       "      <td>-0.026380</td>\n",
       "      <td>0.003411</td>\n",
       "      <td>-0.021233</td>\n",
       "      <td>-0.146613</td>\n",
       "      <td>-5.357741</td>\n",
       "      <td>-0.599404</td>\n",
       "      <td>-0.006983</td>\n",
       "      <td>-0.036363</td>\n",
       "      <td>-0.015657</td>\n",
       "      <td>-0.009868</td>\n",
       "      <td>0.270363</td>\n",
       "      <td>0.301810</td>\n",
       "    </tr>\n",
       "    <tr>\n",
       "      <th>6403</th>\n",
       "      <td>-0.274550</td>\n",
       "      <td>-0.283360</td>\n",
       "      <td>-0.290955</td>\n",
       "      <td>-0.607226</td>\n",
       "      <td>-0.048867</td>\n",
       "      <td>-0.005800</td>\n",
       "      <td>0.011060</td>\n",
       "      <td>0.036846</td>\n",
       "      <td>-5.534573</td>\n",
       "      <td>-0.600492</td>\n",
       "      <td>-0.006797</td>\n",
       "      <td>0.041818</td>\n",
       "      <td>0.001948</td>\n",
       "      <td>0.004594</td>\n",
       "      <td>0.287805</td>\n",
       "      <td>0.519149</td>\n",
       "    </tr>\n",
       "    <tr>\n",
       "      <th>6404</th>\n",
       "      <td>-0.203965</td>\n",
       "      <td>-0.305826</td>\n",
       "      <td>-0.301109</td>\n",
       "      <td>-0.372556</td>\n",
       "      <td>-0.062966</td>\n",
       "      <td>0.004885</td>\n",
       "      <td>-0.009311</td>\n",
       "      <td>-0.093618</td>\n",
       "      <td>-5.317473</td>\n",
       "      <td>-0.602479</td>\n",
       "      <td>0.040034</td>\n",
       "      <td>0.045638</td>\n",
       "      <td>0.013134</td>\n",
       "      <td>0.015332</td>\n",
       "      <td>-0.016407</td>\n",
       "      <td>-0.127118</td>\n",
       "    </tr>\n",
       "  </tbody>\n",
       "</table>\n",
       "</div>"
      ],
      "text/plain": [
       "          EMG1      EMG2      EMG3      EMG4      EMG5      EMG6      EMG7   \n",
       "6400 -0.590579 -0.287949 -0.306210 -0.286026 -0.067811 -0.022725 -0.030116  \\\n",
       "6401 -0.538529 -0.316620 -0.312567 -0.225234 -0.040725 -0.002531 -0.050021   \n",
       "6402 -0.521673 -0.321927 -0.321917 -0.383057 -0.026380  0.003411 -0.021233   \n",
       "6403 -0.274550 -0.283360 -0.290955 -0.607226 -0.048867 -0.005800  0.011060   \n",
       "6404 -0.203965 -0.305826 -0.301109 -0.372556 -0.062966  0.004885 -0.009311   \n",
       "\n",
       "          EMG8      EMG9     EMG10     EMG11     EMG12     EMG13     EMG14   \n",
       "6400 -0.301059 -5.375536 -0.672272  0.003550 -0.034412 -0.015434 -0.004368  \\\n",
       "6401 -0.234298 -5.365962 -0.618651  0.022224 -0.002252 -0.007844 -0.018952   \n",
       "6402 -0.146613 -5.357741 -0.599404 -0.006983 -0.036363 -0.015657 -0.009868   \n",
       "6403  0.036846 -5.534573 -0.600492 -0.006797  0.041818  0.001948  0.004594   \n",
       "6404 -0.093618 -5.317473 -0.602479  0.040034  0.045638  0.013134  0.015332   \n",
       "\n",
       "         EMG15     EMG16  \n",
       "6400 -0.132297 -0.127927  \n",
       "6401  0.016946 -0.093420  \n",
       "6402  0.270363  0.301810  \n",
       "6403  0.287805  0.519149  \n",
       "6404 -0.016407 -0.127118  "
      ]
     },
     "execution_count": 10,
     "metadata": {},
     "output_type": "execute_result"
    }
   ],
   "source": [
    "emg_test_users_df.head()"
   ]
  },
  {
   "cell_type": "code",
   "execution_count": 11,
   "id": "a995b174-d079-4126-98bd-ac2fa7c61027",
   "metadata": {},
   "outputs": [],
   "source": [
    "emg_train_df = pd.read_pickle(data_path+emg_dir+'training_users_df.pkl')\n",
    "emg_test_df = pd.read_pickle(data_path+emg_dir+'test_users_df.pkl')\n",
    "emg_train_gesture_labels_df = emg_train_df['Gesture_ID']\n",
    "emg_test_gesture_labels_df = emg_test_df['Gesture_ID']\n",
    "\n",
    "both_train_df = pd.read_pickle(data_path+both_dir+'training_users_df.pkl')\n",
    "both_test_df = pd.read_pickle(data_path+both_dir+'test_users_df.pkl')\n",
    "both_train_gesture_labels_df = both_train_df['Gesture_ID']\n",
    "both_test_gesture_labels_df = both_test_df['Gesture_ID']\n"
   ]
  },
  {
   "cell_type": "code",
   "execution_count": 12,
   "id": "31644c3e-6f88-42ba-82e1-b2834135427a",
   "metadata": {
    "scrolled": true
   },
   "outputs": [
    {
     "name": "stdout",
     "output_type": "stream",
     "text": [
      "10\n",
      "['pan' 'duplicate' 'zoom-out' 'zoom-in' 'move' 'rotate' 'select-single'\n",
      " 'delete' 'close' 'open']\n"
     ]
    }
   ],
   "source": [
    "all_train_test_gestures_df = pd.concat([emg_train_gesture_labels_df, emg_test_gesture_labels_df], axis=0)\n",
    "unique_gestures = all_train_test_gestures_df.unique()\n",
    "print(len(unique_gestures))\n",
    "print(unique_gestures)"
   ]
  },
  {
   "cell_type": "markdown",
   "id": "aaf336e9-f9df-439a-a0e5-0909318311db",
   "metadata": {},
   "source": [
    "Create OneHotEncoder"
   ]
  },
  {
   "cell_type": "code",
   "execution_count": 13,
   "id": "4a3adb32-0871-4dd8-83da-eb5335923aa2",
   "metadata": {},
   "outputs": [
    {
     "name": "stdout",
     "output_type": "stream",
     "text": [
      "(2500, 10)\n"
     ]
    },
    {
     "data": {
      "text/html": [
       "<div>\n",
       "<style scoped>\n",
       "    .dataframe tbody tr th:only-of-type {\n",
       "        vertical-align: middle;\n",
       "    }\n",
       "\n",
       "    .dataframe tbody tr th {\n",
       "        vertical-align: top;\n",
       "    }\n",
       "\n",
       "    .dataframe thead th {\n",
       "        text-align: right;\n",
       "    }\n",
       "</style>\n",
       "<table border=\"1\" class=\"dataframe\">\n",
       "  <thead>\n",
       "    <tr style=\"text-align: right;\">\n",
       "      <th></th>\n",
       "      <th>close</th>\n",
       "      <th>delete</th>\n",
       "      <th>duplicate</th>\n",
       "      <th>move</th>\n",
       "      <th>open</th>\n",
       "      <th>pan</th>\n",
       "      <th>rotate</th>\n",
       "      <th>select-single</th>\n",
       "      <th>zoom-in</th>\n",
       "      <th>zoom-out</th>\n",
       "    </tr>\n",
       "  </thead>\n",
       "  <tbody>\n",
       "    <tr>\n",
       "      <th>0</th>\n",
       "      <td>0.0</td>\n",
       "      <td>0.0</td>\n",
       "      <td>0.0</td>\n",
       "      <td>0.0</td>\n",
       "      <td>0.0</td>\n",
       "      <td>1.0</td>\n",
       "      <td>0.0</td>\n",
       "      <td>0.0</td>\n",
       "      <td>0.0</td>\n",
       "      <td>0.0</td>\n",
       "    </tr>\n",
       "    <tr>\n",
       "      <th>1</th>\n",
       "      <td>0.0</td>\n",
       "      <td>0.0</td>\n",
       "      <td>0.0</td>\n",
       "      <td>0.0</td>\n",
       "      <td>0.0</td>\n",
       "      <td>1.0</td>\n",
       "      <td>0.0</td>\n",
       "      <td>0.0</td>\n",
       "      <td>0.0</td>\n",
       "      <td>0.0</td>\n",
       "    </tr>\n",
       "    <tr>\n",
       "      <th>2</th>\n",
       "      <td>0.0</td>\n",
       "      <td>0.0</td>\n",
       "      <td>0.0</td>\n",
       "      <td>0.0</td>\n",
       "      <td>0.0</td>\n",
       "      <td>1.0</td>\n",
       "      <td>0.0</td>\n",
       "      <td>0.0</td>\n",
       "      <td>0.0</td>\n",
       "      <td>0.0</td>\n",
       "    </tr>\n",
       "    <tr>\n",
       "      <th>3</th>\n",
       "      <td>0.0</td>\n",
       "      <td>0.0</td>\n",
       "      <td>0.0</td>\n",
       "      <td>0.0</td>\n",
       "      <td>0.0</td>\n",
       "      <td>1.0</td>\n",
       "      <td>0.0</td>\n",
       "      <td>0.0</td>\n",
       "      <td>0.0</td>\n",
       "      <td>0.0</td>\n",
       "    </tr>\n",
       "    <tr>\n",
       "      <th>4</th>\n",
       "      <td>0.0</td>\n",
       "      <td>0.0</td>\n",
       "      <td>0.0</td>\n",
       "      <td>0.0</td>\n",
       "      <td>0.0</td>\n",
       "      <td>1.0</td>\n",
       "      <td>0.0</td>\n",
       "      <td>0.0</td>\n",
       "      <td>0.0</td>\n",
       "      <td>0.0</td>\n",
       "    </tr>\n",
       "  </tbody>\n",
       "</table>\n",
       "</div>"
      ],
      "text/plain": [
       "   close  delete  duplicate  move  open  pan  rotate  select-single  zoom-in   \n",
       "0    0.0     0.0        0.0   0.0   0.0  1.0     0.0            0.0      0.0  \\\n",
       "1    0.0     0.0        0.0   0.0   0.0  1.0     0.0            0.0      0.0   \n",
       "2    0.0     0.0        0.0   0.0   0.0  1.0     0.0            0.0      0.0   \n",
       "3    0.0     0.0        0.0   0.0   0.0  1.0     0.0            0.0      0.0   \n",
       "4    0.0     0.0        0.0   0.0   0.0  1.0     0.0            0.0      0.0   \n",
       "\n",
       "   zoom-out  \n",
       "0       0.0  \n",
       "1       0.0  \n",
       "2       0.0  \n",
       "3       0.0  \n",
       "4       0.0  "
      ]
     },
     "execution_count": 13,
     "metadata": {},
     "output_type": "execute_result"
    }
   ],
   "source": [
    "label_per_gesture_df = emg_train_gesture_labels_df.iloc[::num_rows_per_gesture]\n",
    "\n",
    "# TRAIN LABELS (OHE)\n",
    "labels_array = label_per_gesture_df.to_numpy()\n",
    "gesture_encoder = OneHotEncoder(sparse=False)\n",
    "labels_reshaped = labels_array.reshape(-1, 1)\n",
    "labels_encoded = gesture_encoder.fit_transform(labels_reshaped)\n",
    "encoded_labels_df = pd.DataFrame(labels_encoded, columns=gesture_encoder.categories_[0])\n",
    "\n",
    "# TEST LABELS (OHE)\n",
    "label_per_test_gesture_df = emg_test_gesture_labels_df.iloc[::num_rows_per_gesture]\n",
    "gesture_encoder = OneHotEncoder(sparse=False)\n",
    "test_labels_encoded = gesture_encoder.fit_transform(label_per_test_gesture_df.to_numpy().reshape(-1, 1))\n",
    "encoded_test_labels_df = pd.DataFrame(test_labels_encoded, columns=gesture_encoder.categories_[0])\n",
    "\n",
    "print(encoded_labels_df.shape)\n",
    "encoded_labels_df.head()"
   ]
  },
  {
   "cell_type": "code",
   "execution_count": 14,
   "id": "cfc04167-5ab8-4ac3-ae19-80b8e1988242",
   "metadata": {},
   "outputs": [],
   "source": [
    "X_3DTensor_full_emg = torch.tensor(emg_training_users_df.to_numpy().reshape(num_gestures, num_rows_per_gesture, num_full_emg_features), dtype=torch.float32)\n",
    "Xtest_3DTensor_full_emg = torch.tensor(emg_test_users_df.to_numpy().reshape(num_test_gestures, num_rows_per_gesture, num_full_emg_features), dtype=torch.float32)\n",
    "\n",
    "X_3DTensor_full_both = torch.tensor(both_training_users_df.to_numpy().reshape(num_gestures, num_rows_per_gesture, num_full_both_features), dtype=torch.float32)\n",
    "Xtest_3DTensor_full_both = torch.tensor(both_test_users_df.to_numpy().reshape(num_test_gestures, num_rows_per_gesture, num_full_both_features), dtype=torch.float32)\n"
   ]
  },
  {
   "cell_type": "markdown",
   "id": "f93c6f65-e830-447f-ae7c-3a2373e045e3",
   "metadata": {},
   "source": [
    "Get latent embeddings"
   ]
  },
  {
   "cell_type": "code",
   "execution_count": 15,
   "id": "7b9d232d-c56c-4deb-b55e-01584f05077a",
   "metadata": {},
   "outputs": [
    {
     "name": "stdout",
     "output_type": "stream",
     "text": [
      "X_full_emg_train_embeddings shape: torch.Size([2500, 64, 9])\n",
      "X_full_emg_test_embeddings shape: torch.Size([700, 64, 9])\n",
      "X_full_both_train_embeddings shape: torch.Size([2500, 64, 22])\n",
      "X_full_both_test_embeddings shape: torch.Size([700, 64, 22])\n",
      "\n",
      "encoded_labels_df shape: (2500, 10)\n",
      "encoded_test_labels_df shape: (700, 10)\n"
     ]
    }
   ],
   "source": [
    "X_full_emg_train_embeddings = RNNAE_9mir_EMGFull.encode(X_3DTensor_full_emg)\n",
    "X_full_emg_test_embeddings = RNNAE_9mir_EMGFull.encode(Xtest_3DTensor_full_emg)\n",
    "\n",
    "X_full_both_train_embeddings = RNNAE_64_22mir_BothFull.encode(X_3DTensor_full_both)\n",
    "X_full_both_test_embeddings = RNNAE_64_22mir_BothFull.encode(Xtest_3DTensor_full_both)\n",
    "\n",
    "print(f\"X_full_emg_train_embeddings shape: {X_full_emg_train_embeddings.shape}\")\n",
    "print(f\"X_full_emg_test_embeddings shape: {X_full_emg_test_embeddings.shape}\")\n",
    "print(f\"X_full_both_train_embeddings shape: {X_full_both_train_embeddings.shape}\")\n",
    "print(f\"X_full_both_test_embeddings shape: {X_full_both_test_embeddings.shape}\")\n",
    "print()\n",
    "print(f\"encoded_labels_df shape: {encoded_labels_df.shape}\")\n",
    "print(f\"encoded_test_labels_df shape: {encoded_test_labels_df.shape}\")"
   ]
  },
  {
   "cell_type": "markdown",
   "id": "7afee27d-8889-49a0-908f-59a83378fc20",
   "metadata": {},
   "source": [
    "Combine latent embedding train/test into a single dataset and pass that to split_users below"
   ]
  },
  {
   "cell_type": "code",
   "execution_count": 16,
   "id": "47ed1ec7-1676-49dc-97cc-75d355bb1472",
   "metadata": {},
   "outputs": [
    {
     "name": "stdout",
     "output_type": "stream",
     "text": [
      "(204800, 3)\n"
     ]
    },
    {
     "data": {
      "text/html": [
       "<div>\n",
       "<style scoped>\n",
       "    .dataframe tbody tr th:only-of-type {\n",
       "        vertical-align: middle;\n",
       "    }\n",
       "\n",
       "    .dataframe tbody tr th {\n",
       "        vertical-align: top;\n",
       "    }\n",
       "\n",
       "    .dataframe thead th {\n",
       "        text-align: right;\n",
       "    }\n",
       "</style>\n",
       "<table border=\"1\" class=\"dataframe\">\n",
       "  <thead>\n",
       "    <tr style=\"text-align: right;\">\n",
       "      <th></th>\n",
       "      <th>Participant</th>\n",
       "      <th>Gesture_ID</th>\n",
       "      <th>Gesture_Num</th>\n",
       "    </tr>\n",
       "  </thead>\n",
       "  <tbody>\n",
       "    <tr>\n",
       "      <th>0</th>\n",
       "      <td>P102</td>\n",
       "      <td>pan</td>\n",
       "      <td>1</td>\n",
       "    </tr>\n",
       "    <tr>\n",
       "      <th>1</th>\n",
       "      <td>P102</td>\n",
       "      <td>pan</td>\n",
       "      <td>1</td>\n",
       "    </tr>\n",
       "    <tr>\n",
       "      <th>2</th>\n",
       "      <td>P102</td>\n",
       "      <td>pan</td>\n",
       "      <td>1</td>\n",
       "    </tr>\n",
       "    <tr>\n",
       "      <th>3</th>\n",
       "      <td>P102</td>\n",
       "      <td>pan</td>\n",
       "      <td>1</td>\n",
       "    </tr>\n",
       "    <tr>\n",
       "      <th>4</th>\n",
       "      <td>P102</td>\n",
       "      <td>pan</td>\n",
       "      <td>1</td>\n",
       "    </tr>\n",
       "  </tbody>\n",
       "</table>\n",
       "</div>"
      ],
      "text/plain": [
       "  Participant Gesture_ID Gesture_Num\n",
       "0        P102        pan           1\n",
       "1        P102        pan           1\n",
       "2        P102        pan           1\n",
       "3        P102        pan           1\n",
       "4        P102        pan           1"
      ]
     },
     "execution_count": 16,
     "metadata": {},
     "output_type": "execute_result"
    }
   ],
   "source": [
    "print(metadata_cols_df.shape)\n",
    "metadata_cols_df.head()"
   ]
  },
  {
   "cell_type": "code",
   "execution_count": 17,
   "id": "1436d0d9-7a9c-4129-8cc2-fdbbd5821a68",
   "metadata": {},
   "outputs": [],
   "source": [
    "X_full_emg_all_embeddings = torch.cat((X_full_emg_train_embeddings, X_full_emg_test_embeddings), dim=0)\n",
    "\n",
    "new_shape = (X_full_emg_all_embeddings.shape[0] * X_full_emg_all_embeddings.shape[1], X_full_emg_all_embeddings.shape[2])\n",
    "X_full_emg_all_embeddings_reshaped = X_full_emg_all_embeddings.view(*new_shape)\n",
    "\n",
    "X_all_emg_embeddings_df = pd.DataFrame(X_full_emg_all_embeddings_reshaped.detach().numpy())"
   ]
  },
  {
   "cell_type": "code",
   "execution_count": 18,
   "id": "a800f27c-0fd4-4504-b30a-4a98e1ec5727",
   "metadata": {},
   "outputs": [
    {
     "name": "stdout",
     "output_type": "stream",
     "text": [
      "(204800, 9)\n"
     ]
    },
    {
     "data": {
      "text/html": [
       "<div>\n",
       "<style scoped>\n",
       "    .dataframe tbody tr th:only-of-type {\n",
       "        vertical-align: middle;\n",
       "    }\n",
       "\n",
       "    .dataframe tbody tr th {\n",
       "        vertical-align: top;\n",
       "    }\n",
       "\n",
       "    .dataframe thead th {\n",
       "        text-align: right;\n",
       "    }\n",
       "</style>\n",
       "<table border=\"1\" class=\"dataframe\">\n",
       "  <thead>\n",
       "    <tr style=\"text-align: right;\">\n",
       "      <th></th>\n",
       "      <th>0</th>\n",
       "      <th>1</th>\n",
       "      <th>2</th>\n",
       "      <th>3</th>\n",
       "      <th>4</th>\n",
       "      <th>5</th>\n",
       "      <th>6</th>\n",
       "      <th>7</th>\n",
       "      <th>8</th>\n",
       "    </tr>\n",
       "  </thead>\n",
       "  <tbody>\n",
       "    <tr>\n",
       "      <th>0</th>\n",
       "      <td>0.819932</td>\n",
       "      <td>-0.195209</td>\n",
       "      <td>0.203993</td>\n",
       "      <td>-0.662652</td>\n",
       "      <td>-0.232710</td>\n",
       "      <td>-0.234532</td>\n",
       "      <td>-0.755304</td>\n",
       "      <td>0.312021</td>\n",
       "      <td>0.358541</td>\n",
       "    </tr>\n",
       "    <tr>\n",
       "      <th>1</th>\n",
       "      <td>0.186615</td>\n",
       "      <td>-0.630549</td>\n",
       "      <td>0.403146</td>\n",
       "      <td>-0.625808</td>\n",
       "      <td>-0.373283</td>\n",
       "      <td>0.037659</td>\n",
       "      <td>-0.597726</td>\n",
       "      <td>-0.038134</td>\n",
       "      <td>0.337289</td>\n",
       "    </tr>\n",
       "    <tr>\n",
       "      <th>2</th>\n",
       "      <td>0.621090</td>\n",
       "      <td>-0.235736</td>\n",
       "      <td>0.686262</td>\n",
       "      <td>-0.814283</td>\n",
       "      <td>-0.408508</td>\n",
       "      <td>0.180361</td>\n",
       "      <td>-0.816356</td>\n",
       "      <td>-0.406810</td>\n",
       "      <td>0.691100</td>\n",
       "    </tr>\n",
       "    <tr>\n",
       "      <th>3</th>\n",
       "      <td>0.669751</td>\n",
       "      <td>-0.404265</td>\n",
       "      <td>0.714247</td>\n",
       "      <td>-0.679241</td>\n",
       "      <td>-0.377924</td>\n",
       "      <td>0.098625</td>\n",
       "      <td>-0.793641</td>\n",
       "      <td>-0.485138</td>\n",
       "      <td>0.673027</td>\n",
       "    </tr>\n",
       "    <tr>\n",
       "      <th>4</th>\n",
       "      <td>0.574261</td>\n",
       "      <td>-0.820558</td>\n",
       "      <td>0.278629</td>\n",
       "      <td>-0.868722</td>\n",
       "      <td>-0.799502</td>\n",
       "      <td>0.629095</td>\n",
       "      <td>-0.596288</td>\n",
       "      <td>-0.840630</td>\n",
       "      <td>0.061046</td>\n",
       "    </tr>\n",
       "  </tbody>\n",
       "</table>\n",
       "</div>"
      ],
      "text/plain": [
       "          0         1         2         3         4         5         6   \n",
       "0  0.819932 -0.195209  0.203993 -0.662652 -0.232710 -0.234532 -0.755304  \\\n",
       "1  0.186615 -0.630549  0.403146 -0.625808 -0.373283  0.037659 -0.597726   \n",
       "2  0.621090 -0.235736  0.686262 -0.814283 -0.408508  0.180361 -0.816356   \n",
       "3  0.669751 -0.404265  0.714247 -0.679241 -0.377924  0.098625 -0.793641   \n",
       "4  0.574261 -0.820558  0.278629 -0.868722 -0.799502  0.629095 -0.596288   \n",
       "\n",
       "          7         8  \n",
       "0  0.312021  0.358541  \n",
       "1 -0.038134  0.337289  \n",
       "2 -0.406810  0.691100  \n",
       "3 -0.485138  0.673027  \n",
       "4 -0.840630  0.061046  "
      ]
     },
     "execution_count": 18,
     "metadata": {},
     "output_type": "execute_result"
    }
   ],
   "source": [
    "print(X_all_emg_embeddings_df.shape)\n",
    "X_all_emg_embeddings_df.head()"
   ]
  },
  {
   "cell_type": "code",
   "execution_count": 19,
   "id": "9e3057de-4ce7-485c-a2e4-063298904fe7",
   "metadata": {},
   "outputs": [],
   "source": [
    "labeled_emg_embeddings_df = pd.concat([metadata_cols_df, X_all_emg_embeddings_df], axis=1)"
   ]
  },
  {
   "cell_type": "code",
   "execution_count": 20,
   "id": "51b8d441-c128-4203-b544-46bd22dc8d58",
   "metadata": {},
   "outputs": [
    {
     "name": "stdout",
     "output_type": "stream",
     "text": [
      "(204800, 12)\n"
     ]
    },
    {
     "data": {
      "text/html": [
       "<div>\n",
       "<style scoped>\n",
       "    .dataframe tbody tr th:only-of-type {\n",
       "        vertical-align: middle;\n",
       "    }\n",
       "\n",
       "    .dataframe tbody tr th {\n",
       "        vertical-align: top;\n",
       "    }\n",
       "\n",
       "    .dataframe thead th {\n",
       "        text-align: right;\n",
       "    }\n",
       "</style>\n",
       "<table border=\"1\" class=\"dataframe\">\n",
       "  <thead>\n",
       "    <tr style=\"text-align: right;\">\n",
       "      <th></th>\n",
       "      <th>Participant</th>\n",
       "      <th>Gesture_ID</th>\n",
       "      <th>Gesture_Num</th>\n",
       "      <th>0</th>\n",
       "      <th>1</th>\n",
       "      <th>2</th>\n",
       "      <th>3</th>\n",
       "      <th>4</th>\n",
       "      <th>5</th>\n",
       "      <th>6</th>\n",
       "      <th>7</th>\n",
       "      <th>8</th>\n",
       "    </tr>\n",
       "  </thead>\n",
       "  <tbody>\n",
       "    <tr>\n",
       "      <th>0</th>\n",
       "      <td>P102</td>\n",
       "      <td>pan</td>\n",
       "      <td>1</td>\n",
       "      <td>0.819932</td>\n",
       "      <td>-0.195209</td>\n",
       "      <td>0.203993</td>\n",
       "      <td>-0.662652</td>\n",
       "      <td>-0.232710</td>\n",
       "      <td>-0.234532</td>\n",
       "      <td>-0.755304</td>\n",
       "      <td>0.312021</td>\n",
       "      <td>0.358541</td>\n",
       "    </tr>\n",
       "    <tr>\n",
       "      <th>1</th>\n",
       "      <td>P102</td>\n",
       "      <td>pan</td>\n",
       "      <td>1</td>\n",
       "      <td>0.186615</td>\n",
       "      <td>-0.630549</td>\n",
       "      <td>0.403146</td>\n",
       "      <td>-0.625808</td>\n",
       "      <td>-0.373283</td>\n",
       "      <td>0.037659</td>\n",
       "      <td>-0.597726</td>\n",
       "      <td>-0.038134</td>\n",
       "      <td>0.337289</td>\n",
       "    </tr>\n",
       "    <tr>\n",
       "      <th>2</th>\n",
       "      <td>P102</td>\n",
       "      <td>pan</td>\n",
       "      <td>1</td>\n",
       "      <td>0.621090</td>\n",
       "      <td>-0.235736</td>\n",
       "      <td>0.686262</td>\n",
       "      <td>-0.814283</td>\n",
       "      <td>-0.408508</td>\n",
       "      <td>0.180361</td>\n",
       "      <td>-0.816356</td>\n",
       "      <td>-0.406810</td>\n",
       "      <td>0.691100</td>\n",
       "    </tr>\n",
       "    <tr>\n",
       "      <th>3</th>\n",
       "      <td>P102</td>\n",
       "      <td>pan</td>\n",
       "      <td>1</td>\n",
       "      <td>0.669751</td>\n",
       "      <td>-0.404265</td>\n",
       "      <td>0.714247</td>\n",
       "      <td>-0.679241</td>\n",
       "      <td>-0.377924</td>\n",
       "      <td>0.098625</td>\n",
       "      <td>-0.793641</td>\n",
       "      <td>-0.485138</td>\n",
       "      <td>0.673027</td>\n",
       "    </tr>\n",
       "    <tr>\n",
       "      <th>4</th>\n",
       "      <td>P102</td>\n",
       "      <td>pan</td>\n",
       "      <td>1</td>\n",
       "      <td>0.574261</td>\n",
       "      <td>-0.820558</td>\n",
       "      <td>0.278629</td>\n",
       "      <td>-0.868722</td>\n",
       "      <td>-0.799502</td>\n",
       "      <td>0.629095</td>\n",
       "      <td>-0.596288</td>\n",
       "      <td>-0.840630</td>\n",
       "      <td>0.061046</td>\n",
       "    </tr>\n",
       "  </tbody>\n",
       "</table>\n",
       "</div>"
      ],
      "text/plain": [
       "  Participant Gesture_ID Gesture_Num         0         1         2         3   \n",
       "0        P102        pan           1  0.819932 -0.195209  0.203993 -0.662652  \\\n",
       "1        P102        pan           1  0.186615 -0.630549  0.403146 -0.625808   \n",
       "2        P102        pan           1  0.621090 -0.235736  0.686262 -0.814283   \n",
       "3        P102        pan           1  0.669751 -0.404265  0.714247 -0.679241   \n",
       "4        P102        pan           1  0.574261 -0.820558  0.278629 -0.868722   \n",
       "\n",
       "          4         5         6         7         8  \n",
       "0 -0.232710 -0.234532 -0.755304  0.312021  0.358541  \n",
       "1 -0.373283  0.037659 -0.597726 -0.038134  0.337289  \n",
       "2 -0.408508  0.180361 -0.816356 -0.406810  0.691100  \n",
       "3 -0.377924  0.098625 -0.793641 -0.485138  0.673027  \n",
       "4 -0.799502  0.629095 -0.596288 -0.840630  0.061046  "
      ]
     },
     "execution_count": 20,
     "metadata": {},
     "output_type": "execute_result"
    }
   ],
   "source": [
    "print(labeled_emg_embeddings_df.shape)\n",
    "labeled_emg_embeddings_df.head()"
   ]
  },
  {
   "cell_type": "code",
   "execution_count": 21,
   "id": "ed6ae4cf-f388-4b78-b6d8-ee8f76e19197",
   "metadata": {},
   "outputs": [
    {
     "data": {
      "text/plain": [
       "Index(['Participant', 'Gesture_ID', 'Gesture_Num', 0, 1, 2, 3, 4, 5, 6, 7, 8], dtype='object')"
      ]
     },
     "execution_count": 21,
     "metadata": {},
     "output_type": "execute_result"
    }
   ],
   "source": [
    "labeled_emg_embeddings_df.columns"
   ]
  },
  {
   "cell_type": "markdown",
   "id": "c4a88808-f1ce-4ef1-95ba-7993e3543647",
   "metadata": {},
   "source": [
    "## Train/test/val Split and LOUO Dataloader Making"
   ]
  },
  {
   "cell_type": "markdown",
   "id": "835d5a85-ab15-4a38-abf4-d1cb74d896b6",
   "metadata": {},
   "source": [
    "Split users into train, val, and test sets"
   ]
  },
  {
   "cell_type": "code",
   "execution_count": 23,
   "id": "7d02e586-44f8-454b-8503-32a10db3ecaf",
   "metadata": {},
   "outputs": [],
   "source": [
    "train_users_lst, val_users_lst, test_users_lst = split_users(labeled_emg_embeddings_df)\n"
   ]
  },
  {
   "cell_type": "code",
   "execution_count": 24,
   "id": "879cc46e-f55a-425d-ac23-e9e30ac7ee7e",
   "metadata": {},
   "outputs": [
    {
     "data": {
      "text/plain": [
       "array(['P123', 'P124', 'P108', 'P121', 'P128', 'P114', 'P006', 'P111',\n",
       "       'P110', 'P132', 'P011', 'P102', 'P104', 'P005', 'P118', 'P106',\n",
       "       'P105', 'P107', 'P008', 'P125', 'P115', 'P131'], dtype=object)"
      ]
     },
     "execution_count": 24,
     "metadata": {},
     "output_type": "execute_result"
    }
   ],
   "source": [
    "train_users_lst"
   ]
  },
  {
   "cell_type": "code",
   "execution_count": 25,
   "id": "44191c84-2a52-4313-9777-e05b1a8239fd",
   "metadata": {},
   "outputs": [
    {
     "data": {
      "text/plain": [
       "array(['P010', 'P122', 'P126', 'P127'], dtype=object)"
      ]
     },
     "execution_count": 25,
     "metadata": {},
     "output_type": "execute_result"
    }
   ],
   "source": [
    "val_users_lst"
   ]
  },
  {
   "cell_type": "code",
   "execution_count": 26,
   "id": "7b3d8a62-0850-44b5-b959-5659ecb7b501",
   "metadata": {},
   "outputs": [
    {
     "data": {
      "text/plain": [
       "array(['P112', 'P116', 'P103', 'P119', 'P004', 'P109'], dtype=object)"
      ]
     },
     "execution_count": 26,
     "metadata": {},
     "output_type": "execute_result"
    }
   ],
   "source": [
    "test_users_lst"
   ]
  },
  {
   "cell_type": "markdown",
   "id": "c72a6a20-76eb-432e-86dc-c035812666c7",
   "metadata": {},
   "source": [
    "Leave One User Out - Cross Validation (LOUO-CV) on Training Set"
   ]
  },
  {
   "cell_type": "code",
   "execution_count": 29,
   "id": "c19b1e64-059d-49b4-883d-7138b9163364",
   "metadata": {},
   "outputs": [],
   "source": [
    "louo_data_loaders = prepare_LOUO_data_loaders(labeled_emg_embeddings_df, train_users_lst, batch_size)\n"
   ]
  },
  {
   "cell_type": "code",
   "execution_count": 30,
   "id": "3a54cd21-6e9e-48f1-9447-b16d8c74378c",
   "metadata": {},
   "outputs": [
    {
     "data": {
      "text/plain": [
       "22"
      ]
     },
     "execution_count": 30,
     "metadata": {},
     "output_type": "execute_result"
    }
   ],
   "source": [
    "len(louo_data_loaders)"
   ]
  },
  {
   "cell_type": "code",
   "execution_count": 32,
   "id": "acc4f904-1ad1-4f65-a38e-083d8427a55f",
   "metadata": {},
   "outputs": [],
   "source": [
    "dl_iter = iter(louo_data_loaders[0][0])"
   ]
  },
  {
   "cell_type": "code",
   "execution_count": 33,
   "id": "12ff6cea-0d48-4ac4-b432-ded71c3e923a",
   "metadata": {},
   "outputs": [],
   "source": [
    "batch0 = next(dl_iter)"
   ]
  },
  {
   "cell_type": "code",
   "execution_count": 34,
   "id": "2232398a-fe45-4b80-a58a-763b22f060f8",
   "metadata": {},
   "outputs": [
    {
     "data": {
      "text/plain": [
       "torch.Size([32, 64, 9])"
      ]
     },
     "execution_count": 34,
     "metadata": {},
     "output_type": "execute_result"
    }
   ],
   "source": [
    "batch0[0].shape"
   ]
  },
  {
   "cell_type": "code",
   "execution_count": 35,
   "id": "63adb4a3-fdc6-4159-9962-f0375091a4dc",
   "metadata": {},
   "outputs": [
    {
     "data": {
      "text/plain": [
       "torch.Size([32])"
      ]
     },
     "execution_count": 35,
     "metadata": {},
     "output_type": "execute_result"
    }
   ],
   "source": [
    "batch0[1].shape"
   ]
  },
  {
   "cell_type": "markdown",
   "id": "221fd9eb-f6b1-4efa-9f10-6869faddfb9d",
   "metadata": {},
   "source": [
    "## Hyperparameter Tuning with LOUO-CV"
   ]
  },
  {
   "cell_type": "code",
   "execution_count": 36,
   "id": "84bd2b7a-198e-45a8-b4b0-ce295bd32d22",
   "metadata": {},
   "outputs": [],
   "source": [
    "from sklearn.model_selection import ParameterGrid\n"
   ]
  },
  {
   "cell_type": "code",
   "execution_count": 37,
   "id": "045bb739-ae9d-4916-a33b-b00fdda8a7ee",
   "metadata": {},
   "outputs": [],
   "source": [
    "def hyperparameter_tuning(param_grid, data_loaders_lst):\n",
    "    param_list = list(ParameterGrid(param_grid))\n",
    "    best_params = None\n",
    "    best_score = float('-inf')\n",
    "    results = []\n",
    "    num_LOUOs = len(data_loaders_lst)\n",
    "\n",
    "    for params in param_list:\n",
    "        print(f'\\n\\n\\nTrial Params: {params}')\n",
    "        fold_results = []\n",
    "\n",
    "        for idx, (train_loader, test_loader) in enumerate(data_loaders_lst):\n",
    "            # I don't even have the Participant ID to print anymore...\n",
    "            print(f\"LOUO: {idx}/{num_LOUOs}\")\n",
    "            \n",
    "            if params['use_hidden']:\n",
    "                model = GestureLSTMClassifier_Hidden(\n",
    "                    input_size=params['input_size'],\n",
    "                    hidden_size=params['hidden_size'],\n",
    "                    num_layers=params['num_layers'],\n",
    "                    num_classes=params['num_classes'],\n",
    "                    dropout_prob=params['dropout']\n",
    "                )#.to(device)\n",
    "            else:\n",
    "                model = GestureLSTMClassifier(\n",
    "                    input_size=params['input_size'],\n",
    "                    hidden_size=params['hidden_size'],\n",
    "                    num_layers=params['num_layers'],\n",
    "                    num_classes=params['num_classes'],\n",
    "                    dropout_prob=params['dropout']\n",
    "                )#.to(device)\n",
    "\n",
    "            trained_model = train_LSTM_gesture_classifier(\n",
    "                model,\n",
    "                train_loader,\n",
    "                test_loader,\n",
    "                lr=params['lr'],\n",
    "                weight_decay=params['weight_decay'],\n",
    "                num_epochs=params['num_epochs'],\n",
    "                batch_size=params['batch_size'],\n",
    "                use_hidden=params['use_hidden'],\n",
    "                print_loss=False,\n",
    "                print_accuracy=False\n",
    "            )\n",
    "\n",
    "            _, val_accuracy = evaluate_model(trained_model, test_loader, nn.CrossEntropyLoss(), params['use_hidden'], params['batch_size'])\n",
    "            fold_results.append(val_accuracy)\n",
    "\n",
    "        mean_score = np.mean(fold_results)\n",
    "        results.append((params, mean_score))\n",
    "\n",
    "        if mean_score > best_score:\n",
    "            best_score = mean_score\n",
    "            best_params = params\n",
    "\n",
    "    print(f'Best Params: {best_params}, Best Score: {best_score}')\n",
    "    return best_params, results\n"
   ]
  },
  {
   "cell_type": "code",
   "execution_count": 38,
   "id": "36d5dd12-fb04-4bcf-b8a1-ceb6f01355dc",
   "metadata": {},
   "outputs": [],
   "source": [
    "input_size = 9\n",
    "num_classes = 10"
   ]
  },
  {
   "cell_type": "code",
   "execution_count": null,
   "id": "6e455b30-a2db-4e51-bcbb-21744bac0d7b",
   "metadata": {},
   "outputs": [],
   "source": [
    "# SANITY CHECK VERSION:\n",
    "param_grid = {\n",
    "    'input_size': [input_size],\n",
    "    'hidden_size': [128],\n",
    "    'num_layers': [1],\n",
    "    'num_classes': [num_classes],\n",
    "    'dropout': [0.0],\n",
    "    'lr': [0.001],\n",
    "    'weight_decay': [0.0],\n",
    "    'num_epochs': [10],\n",
    "    'use_hidden': [True],\n",
    "    'batch_size': [32]\n",
    "}\n"
   ]
  },
  {
   "cell_type": "code",
   "execution_count": 39,
   "id": "e0904776-fb7d-4991-92fe-82803c46e87d",
   "metadata": {},
   "outputs": [
    {
     "name": "stdout",
     "output_type": "stream",
     "text": [
      "Starting training!\n",
      "Epoch [1/12], Loss: 2.2997, Accuracy: 11.67%, Val Loss: 2.3122, Val Accuracy: 10.00%\n",
      "Epoch [2/12], Loss: 2.2694, Accuracy: 13.29%, Val Loss: 2.3057, Val Accuracy: 10.00%\n",
      "Epoch [3/12], Loss: 2.2371, Accuracy: 14.71%, Val Loss: 2.3050, Val Accuracy: 17.00%\n",
      "Epoch [4/12], Loss: 2.2072, Accuracy: 17.48%, Val Loss: 2.3155, Val Accuracy: 17.00%\n",
      "Epoch [5/12], Loss: 2.1652, Accuracy: 19.71%, Val Loss: 2.3279, Val Accuracy: 19.00%\n",
      "Epoch [6/12], Loss: 2.1191, Accuracy: 21.00%, Val Loss: 2.4355, Val Accuracy: 12.00%\n",
      "Epoch [7/12], Loss: 2.0845, Accuracy: 22.86%, Val Loss: 2.3326, Val Accuracy: 13.00%\n",
      "Epoch [8/12], Loss: 2.0656, Accuracy: 23.90%, Val Loss: 2.4587, Val Accuracy: 15.00%\n",
      "Epoch [9/12], Loss: 2.0366, Accuracy: 25.19%, Val Loss: 2.3948, Val Accuracy: 12.00%\n",
      "Epoch [10/12], Loss: 1.9678, Accuracy: 28.76%, Val Loss: 2.4349, Val Accuracy: 14.00%\n",
      "Epoch [11/12], Loss: 1.9090, Accuracy: 30.81%, Val Loss: 2.4805, Val Accuracy: 13.00%\n",
      "Epoch [12/12], Loss: 1.8636, Accuracy: 32.14%, Val Loss: 2.5922, Val Accuracy: 10.00%\n",
      "Training completed in 239.77 seconds\n",
      "Starting training!\n",
      "Epoch [1/12], Loss: 2.2993, Accuracy: 10.62%, Val Loss: 2.3106, Val Accuracy: 17.00%\n",
      "Unexpected exception formatting exception. Falling back to standard exception\n"
     ]
    },
    {
     "name": "stderr",
     "output_type": "stream",
     "text": [
      "Traceback (most recent call last):\n",
      "  File \"C:\\Users\\YamagamiLab\\anaconda3\\envs\\fl_torch_sum24\\lib\\site-packages\\IPython\\core\\interactiveshell.py\", line 3526, in run_code\n",
      "    exec(code_obj, self.user_global_ns, self.user_ns)\n",
      "  File \"C:\\Users\\YamagamiLab\\AppData\\Local\\Temp\\ipykernel_14988\\3036773505.py\", line 31, in <module>\n",
      "    best_params, tuning_results = hyperparameter_tuning(param_grid, louo_data_loaders)\n",
      "  File \"C:\\Users\\YamagamiLab\\AppData\\Local\\Temp\\ipykernel_14988\\2262389901.py\", line 28, in hyperparameter_tuning\n",
      "    trained_model = train_LSTM_gesture_classifier(\n",
      "  File \"C:\\Users\\YamagamiLab\\Desktop\\Dev\\fl-gestures\\utils\\ml_pipeline.py\", line 121, in train_LSTM_gesture_classifier\n",
      "  File \"C:\\Users\\YamagamiLab\\anaconda3\\envs\\fl_torch_sum24\\lib\\site-packages\\torch\\nn\\modules\\module.py\", line 1130, in _call_impl\n",
      "    return forward_call(*input, **kwargs)\n",
      "  File \"C:\\Users\\YamagamiLab\\Desktop\\Dev\\fl-gestures\\utils\\ml_pipeline.py\", line 87, in forward\n",
      "    self.fc = nn.Linear(hidden_size, num_classes)\n",
      "  File \"C:\\Users\\YamagamiLab\\anaconda3\\envs\\fl_torch_sum24\\lib\\site-packages\\torch\\nn\\modules\\module.py\", line 1130, in _call_impl\n",
      "    return forward_call(*input, **kwargs)\n",
      "  File \"C:\\Users\\YamagamiLab\\anaconda3\\envs\\fl_torch_sum24\\lib\\site-packages\\torch\\nn\\modules\\rnn.py\", line 769, in forward\n",
      "    result = _VF.lstm(input, hx, self._flat_weights, self.bias, self.num_layers,\n",
      "KeyboardInterrupt\n",
      "\n",
      "During handling of the above exception, another exception occurred:\n",
      "\n",
      "Traceback (most recent call last):\n",
      "  File \"C:\\Users\\YamagamiLab\\anaconda3\\envs\\fl_torch_sum24\\lib\\site-packages\\IPython\\core\\interactiveshell.py\", line 2120, in showtraceback\n",
      "    stb = self.InteractiveTB.structured_traceback(\n",
      "  File \"C:\\Users\\YamagamiLab\\anaconda3\\envs\\fl_torch_sum24\\lib\\site-packages\\IPython\\core\\ultratb.py\", line 1435, in structured_traceback\n",
      "    return FormattedTB.structured_traceback(\n",
      "  File \"C:\\Users\\YamagamiLab\\anaconda3\\envs\\fl_torch_sum24\\lib\\site-packages\\IPython\\core\\ultratb.py\", line 1326, in structured_traceback\n",
      "    return VerboseTB.structured_traceback(\n",
      "  File \"C:\\Users\\YamagamiLab\\anaconda3\\envs\\fl_torch_sum24\\lib\\site-packages\\IPython\\core\\ultratb.py\", line 1173, in structured_traceback\n",
      "    formatted_exception = self.format_exception_as_a_whole(etype, evalue, etb, number_of_lines_of_context,\n",
      "  File \"C:\\Users\\YamagamiLab\\anaconda3\\envs\\fl_torch_sum24\\lib\\site-packages\\IPython\\core\\ultratb.py\", line 1088, in format_exception_as_a_whole\n",
      "    frames.append(self.format_record(record))\n",
      "  File \"C:\\Users\\YamagamiLab\\anaconda3\\envs\\fl_torch_sum24\\lib\\site-packages\\IPython\\core\\ultratb.py\", line 970, in format_record\n",
      "    frame_info.lines, Colors, self.has_colors, lvals\n",
      "  File \"C:\\Users\\YamagamiLab\\anaconda3\\envs\\fl_torch_sum24\\lib\\site-packages\\IPython\\core\\ultratb.py\", line 792, in lines\n",
      "    return self._sd.lines\n",
      "  File \"C:\\Users\\YamagamiLab\\anaconda3\\envs\\fl_torch_sum24\\lib\\site-packages\\stack_data\\utils.py\", line 144, in cached_property_wrapper\n",
      "    value = obj.__dict__[self.func.__name__] = self.func(obj)\n",
      "  File \"C:\\Users\\YamagamiLab\\anaconda3\\envs\\fl_torch_sum24\\lib\\site-packages\\stack_data\\core.py\", line 734, in lines\n",
      "    pieces = self.included_pieces\n",
      "  File \"C:\\Users\\YamagamiLab\\anaconda3\\envs\\fl_torch_sum24\\lib\\site-packages\\stack_data\\utils.py\", line 144, in cached_property_wrapper\n",
      "    value = obj.__dict__[self.func.__name__] = self.func(obj)\n",
      "  File \"C:\\Users\\YamagamiLab\\anaconda3\\envs\\fl_torch_sum24\\lib\\site-packages\\stack_data\\core.py\", line 681, in included_pieces\n",
      "    pos = scope_pieces.index(self.executing_piece)\n",
      "  File \"C:\\Users\\YamagamiLab\\anaconda3\\envs\\fl_torch_sum24\\lib\\site-packages\\stack_data\\utils.py\", line 144, in cached_property_wrapper\n",
      "    value = obj.__dict__[self.func.__name__] = self.func(obj)\n",
      "  File \"C:\\Users\\YamagamiLab\\anaconda3\\envs\\fl_torch_sum24\\lib\\site-packages\\stack_data\\core.py\", line 660, in executing_piece\n",
      "    return only(\n",
      "  File \"C:\\Users\\YamagamiLab\\anaconda3\\envs\\fl_torch_sum24\\lib\\site-packages\\executing\\executing.py\", line 190, in only\n",
      "    raise NotOneValueFound('Expected one value, found 0')\n",
      "executing.executing.NotOneValueFound: Expected one value, found 0\n"
     ]
    }
   ],
   "source": [
    "# Perform hyperparameter tuning\n",
    "\n",
    "# Define the hyperparameter grid\n",
    "param_grid = {\n",
    "    'input_size': [input_size],\n",
    "    'hidden_size': [16, 32, 64, 96, 128],\n",
    "    'num_layers': [1, 2, 3],\n",
    "    'num_classes': [num_classes],\n",
    "    'dropout': [0.0, 0.2, 0.5],\n",
    "    'lr': [0.001, 0.0001],\n",
    "    'weight_decay': [0.0, 0.01, 0.001],\n",
    "    'num_epochs': [12],\n",
    "    'use_hidden': [True, False],\n",
    "    'batch_size': [1, 32, 256]\n",
    "}\n",
    "\n",
    "best_params, tuning_results = hyperparameter_tuning(param_grid, louo_data_loaders)"
   ]
  },
  {
   "cell_type": "markdown",
   "id": "e24a9929-ec92-40b1-b1c2-0b1028d5eeaf",
   "metadata": {},
   "source": [
    "Final Model Evaluation"
   ]
  },
  {
   "cell_type": "code",
   "execution_count": null,
   "id": "67d79c0d-e1f1-4970-b89b-e335fd7c432e",
   "metadata": {},
   "outputs": [],
   "source": [
    "# Create DataLoaders for training and validation sets combined, and test set\n",
    "train_val_users_lst = [train_users_lst].extend(val_users_lst)\n",
    "train_val_loader = create_data_loader(labeled_emg_embeddings_df, train_val_users_lst, batch_size=best_params['batch_size'])\n",
    "test_loader = create_data_loader(labeled_emg_embeddings_df, test_users_lst, batch_size=best_params['batch_size'])\n",
    "\n",
    "# Train final model\n",
    "if best_params['use_hidden']:\n",
    "    final_model = GestureLSTMClassifier_Hidden(\n",
    "        input_size=best_params['input_size'],\n",
    "        hidden_size=best_params['hidden_size'],\n",
    "        num_layers=best_params['num_layers'],\n",
    "        num_classes=best_params['num_classes'],\n",
    "        dropout_prob=best_params['dropout']\n",
    "    )#.to(device)\n",
    "else:\n",
    "    final_model = GestureLSTMClassifier(\n",
    "        input_size=best_params['input_size'],\n",
    "        hidden_size=best_params['hidden_size'],\n",
    "        num_layers=best_params['num_layers'],\n",
    "        num_classes=best_params['num_classes'],\n",
    "        dropout_prob=best_params['dropout']\n",
    "    )#.to(device)\n",
    "                \n",
    "final_model, final_report, _ = train_LSTM_gesture_classifier(\n",
    "    final_model,\n",
    "    train_val_loader,\n",
    "    test_loader,\n",
    "    lr=best_params['lr'],\n",
    "    weight_decay=best_params['weight_decay'],\n",
    "    num_epochs=best_params['num_epochs'],\n",
    "    batch_size=best_params['batch_size'],\n",
    "    use_hidden=best_params['use_hidden']\n",
    ")\n"
   ]
  },
  {
   "cell_type": "code",
   "execution_count": null,
   "id": "02c89638-56ed-499c-9e90-9def9314f1d0",
   "metadata": {},
   "outputs": [],
   "source": []
  }
 ],
 "metadata": {
  "kernelspec": {
   "display_name": "Python 3 (ipykernel)",
   "language": "python",
   "name": "python3"
  },
  "language_info": {
   "codemirror_mode": {
    "name": "ipython",
    "version": 3
   },
   "file_extension": ".py",
   "mimetype": "text/x-python",
   "name": "python",
   "nbconvert_exporter": "python",
   "pygments_lexer": "ipython3",
   "version": "3.10.12"
  }
 },
 "nbformat": 4,
 "nbformat_minor": 5
}
