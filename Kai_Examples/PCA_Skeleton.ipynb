{
 "cells": [
  {
   "cell_type": "code",
   "execution_count": null,
   "id": "5e45c60d-dc72-4044-8895-bf042880550d",
   "metadata": {},
   "outputs": [],
   "source": [
    "import numpy as np\n",
    "import matplotlib.pyplot as plt\n",
    "import sys\n",
    "import os\n",
    "#import glob\n",
    "import copy\n",
    "import pandas as pd\n",
    "#from scipy.fft import fft, fftfreq\n",
    "#from scipy import signal\n",
    "#from globals import * \n",
    "from sklearn.decomposition import PCA\n"
   ]
  },
  {
   "cell_type": "markdown",
   "id": "9c326a6b-696e-418a-86ff-0324760a2568",
   "metadata": {},
   "source": [
    "# DATA LOADING\n",
    "> Read and modify Momona's below code as needed or just write the code from scratch\n",
    "## 1: user-defined-gestures.ipynb\n",
    "> Potentially relevant code, I haven't read through it yet"
   ]
  },
  {
   "cell_type": "code",
   "execution_count": null,
   "id": "ddc240d6-2549-4e7a-a86f-294a050c511a",
   "metadata": {},
   "outputs": [],
   "source": [
    "# def split_file_types(files,expt_type):\n",
    "#     return [file for file in files if file.split(\"_\")[2]==expt_type]\n",
    "\n",
    "def ignore_repeated_files(files):\n",
    "    files_no_repeats = []\n",
    "    count = 0\n",
    "    double_flag = False\n",
    "    while count < len(files)-1:\n",
    "        fileNum1 = files[count].split(\"_\")[5]#.split(\".\")[0]\n",
    "        fileNum2 = files[count+1].split(\"_\")[5]#.split(\".\")[0]\n",
    "        if (fileNum1==fileNum2):\n",
    "            if files[count].split(\"_\")[2] == files[count+1].split(\"_\")[2]:\n",
    "                files_no_repeats.append(files[count+1])\n",
    "                count += 2\n",
    "                double_flag = True\n",
    "            else:\n",
    "                files_no_repeats.append(files[count])\n",
    "                count +=1\n",
    "                double_flag = False\n",
    "        else:\n",
    "            files_no_repeats.append(files[count])\n",
    "            count +=1\n",
    "            double_flag = False\n",
    "    if double_flag == False:\n",
    "        files_no_repeats.append(files[-1])\n",
    "    return files_no_repeats\n",
    "\n",
    "def minToSec(file):\n",
    "    datetime = file.split(\"_\")[0][-6:]\n",
    "    seconds = int(datetime[:2])*3600+int(datetime[2:4])*60 + int(datetime[4:])\n",
    "    return seconds\n",
    "\n",
    "def interaction_type(file):\n",
    "    interaction = file.split(\"_\")[4:6]\n",
    "    return interaction\n",
    "\n",
    "def read_and_save_cleaned_data(participantID,n_interpolate=100,bound_size=1e-3):#,df_EMG_exptr_def,df_EMG_usr_def,df_EMG_calib,df_EMG_rehab):\n",
    "    path = global_path +participantID+\"\\\\\"\n",
    "    save_path = temp_path + participantID + \"\\\\\"\n",
    "    files = os.listdir(path)\n",
    "    files = copy.deepcopy(files[:-3])\n",
    "    EMG_files = []\n",
    "    IMU_files = []\n",
    "    LeapLeft_files = []\n",
    "    LeapRight_files = []\n",
    "    RGBcamera_files = []\n",
    "    SynchData_files = []\n",
    "\n",
    "    for file in files:\n",
    "        if len(file.split(\"_\")) < 4:\n",
    "            continue\n",
    "        biosig_type = file.split(\"_\")[3]\n",
    "        expt_type = file.split(\"_\")[2] # \"experimenter-defined, user-defined, calibration, rehab\"  \n",
    "        if biosig_type==\"EMG\" and expt_type == \"experimenter-defined\":\n",
    "            EMG_files.append(file)\n",
    "        elif biosig_type==\"LeapRight\" and expt_type != \"calibration\":\n",
    "            LeapRight_files.append(file)\n",
    "        elif biosig_type==\"IMU\" and expt_type != \"calibration\":\n",
    "            IMU_files.append(file)\n",
    "\n",
    "    EMG_files = sorted(EMG_files,key=lambda file: minToSec(file))   \n",
    "    iN = 0\n",
    "    while len(EMG_files) > 100: # for people who didn't do hand trials\n",
    "        EMG_files = ignore_repeated_files(EMG_files)\n",
    "        iN += 1\n",
    "        if iN > 100:\n",
    "            EMG_files = sorted(EMG_files,key=lambda file: interaction_type(file))\n",
    "#             print('the number of EMG files is: ',len(EMG_files), \"and it should be: \", str(100))\n",
    "            break;\n",
    "    EMG_files = sorted(EMG_files,key=lambda file: interaction_type(file))\n",
    "    iN = 0\n",
    "    while len(EMG_files) > 100: # for people who didn't do hand trials\n",
    "        EMG_files = ignore_repeated_files(EMG_files)\n",
    "        iN += 1\n",
    "        if iN > 100:\n",
    "            print('the number of EMG files is: ',len(EMG_files), \"and it should be: \", str(100))\n",
    "            break;\n",
    "\n",
    "    for ix,file in enumerate(EMG_files):\n",
    "        split_filename = file.split(\"_\")\n",
    "        expt_type = split_filename[2] # \"experimenter-defined, user-defined, calibration, rehab\" \n",
    "        gestureID = split_filename[4]\n",
    "        gestureNum = split_filename[5].split(\".\")[0]\n",
    "            # define for user-def, calib, and rehab too\n",
    "        if expt_type == \"calibration\":\n",
    "            continue\n",
    "        else:\n",
    "        \n",
    "            df_EMG = pd.read_csv(path+file,sep=\"\\t\",names=['EMG1','EMG2','EMG3','EMG4','EMG5',\n",
    "                                                           'EMG6','EMG7','EMG8','EMG9','EMG10',\n",
    "                                                           'EMG11','EMG12','EMG13','EMG14','EMG15',\n",
    "                                                           'EMG16'],header=None)\n",
    "\n",
    "            # check if EMG activity is doubled\n",
    "            if df_EMG[\"EMG2\"].values[2]==df_EMG[\"EMG2\"].values[3]:\n",
    "                df_EMG = df_EMG.iloc[::2, :] # participant has redundant EMG activity\n",
    "\n",
    "            # filter raw EMG signals\n",
    "            df_EMG_filt = df_EMG.apply(rectify_EMG,axis=0)\n",
    "            time_EMG = np.linspace(0,len(df_EMG)/2000,len(df_EMG)) # TODO CHECK TO SEE IF EMG IS 2000 Hz \n",
    "\n",
    "            # compute moving average time x 16 channels\n",
    "            df_EMG_movavg = df_EMG_filt.apply(movavg_EMG,axis=0)\n",
    "            # save moving average as csv files\n",
    "            if not os.path.isdir(temp_path + participantID):\n",
    "                os.mkdir(temp_path + participantID)\n",
    "            if not os.path.isdir(save_path+'movavg_files'):\n",
    "                os.mkdir(save_path+'movavg_files')\n",
    "            df_EMG_movavg.to_csv(save_path+'movavg_files/' + file[:-4] + \"_movavg.csv\")\n",
    "            # PCA time x num_pca_components\n",
    "            pca = PCA()\n",
    "            df_EMG_pca = pd.DataFrame(pca.fit_transform(df_EMG_movavg)) # time x num_pca_components\n",
    "\n",
    "            # save filtered and cleaned EMG data as csv files \n",
    "            if not os.path.isdir(save_path+'pca_files'):\n",
    "                os.mkdir(save_path+'pca_files')\n",
    "            df_EMG_pca.to_csv(save_path+'pca_files/' + file[:-4] + \"_pca.csv\")"
   ]
  },
  {
   "cell_type": "markdown",
   "id": "fbe38363-577d-4dbd-a5a5-829849bea529",
   "metadata": {},
   "source": [
    "# Code Outline"
   ]
  },
  {
   "cell_type": "code",
   "execution_count": null,
   "id": "bd9cd3ce-9dc5-4769-867e-e67f749e53d0",
   "metadata": {},
   "outputs": [],
   "source": [
    "import numpy as np\n",
    "from sklearn.decomposition import PCA\n",
    "import pandas as pd"
   ]
  },
  {
   "cell_type": "code",
   "execution_count": null,
   "id": "c4faaf92-d05f-4cba-8729-0ba9d24937e0",
   "metadata": {},
   "outputs": [],
   "source": [
    "# Directories: $M Data Segmented / segmented_filtered_data / PXXX\n",
    "# The participant IDs that start with P1xx are the participants with disabilities\n",
    "# FROM GLOBALS:\n",
    "#pIDs = ['P101','P102','P103','P104','P105','P106','P107','P108','P109','P110','P111',\n",
    "#        'P112','P114','P115','P116','P118','P119','P121','P122','P123','P124','P125',\n",
    "#        'P126','P127','P128','P131','P132']\n",
    "#pIDs_unimpaired = ['P001','P003','P004','P005','P006','P008','P010','P011']\n",
    "# All filenames and types of data available are in the fnames folder. \n",
    "# Headers are labeled. The ID for each IMU and EMG sensor are in the sensor_layout PDF. "
   ]
  },
  {
   "cell_type": "code",
   "execution_count": null,
   "id": "b932cb6c-f9c3-49ad-b747-c8bdd6574df3",
   "metadata": {},
   "outputs": [],
   "source": [
    "### TO DO:\n",
    "\n",
    "# Load data into DataFrame\n",
    "# Decide on concat/aggregation scheme across the different files --> May need to resample...\n",
    "## You will have to use np.interp to get the data to be the same number of points for each file, use n=64 datapoints. I [M] have some code to do this if you get stuck. \n",
    "# Start PCA: Decide on how to break up data so that we can train a single PCA model and use that on all users/gestures...\n",
    "# Plot 2D or 3D PCA embeddings"
   ]
  },
  {
   "cell_type": "code",
   "execution_count": null,
   "id": "7eb5a256-cc89-4c8f-95a5-457808b4be31",
   "metadata": {},
   "outputs": [],
   "source": [
    "## SANITY CHECK AFTER LOADING DATA: For one participant, plot all 16 channels of EMG data, similar to Momona's code here:\n",
    "### Eg revamp Momona's code\n",
    "\n",
    "muscles=['R_bic','R_tri','R_delt','R_trap','L_bic','L_tri','L_delt','L_trap','R_ext','R_flex','R_thumbOut','R_thumbIn','L_ext','L_flex','L_thumbOut','L_thumbIn']\n",
    "muscles=['R-bicep','R-tricep','R-deltoid','R-trapezius','L-bicep','L-tricep','L-deltoid',\n",
    "         'L-trapezius','R-extensors','R-flexors','R-outer-thumb','R-inner-thumb','L-extensors','L-flexors','L-outer-thumb','L-inner-thumb']\n",
    "time_EMG = np.linspace(0,len(df_EMG)/2000,len(df_EMG))#EMG_filt_one_trial['time']\n",
    "\n",
    "fig,axs = plt.subplots(4,4,figsize=(20,10),sharex=True, sharey=True)\n",
    "ch=0\n",
    "for ix in range(4):\n",
    "    for iy in range(4):\n",
    "#         axs[ix,iy].plot(time_EMG,EMG_filt_one_trial[ch]-np.mean(df_EMG[ch]))\n",
    "        axs[ix,iy].plot(time_EMG,df_EMG[ch],color='#9CDDF9')\n",
    "        axs[ix,iy].set_title(muscles[ch])#+str(ch+1))\n",
    "        ch+=1\n",
    "        if ix==3:\n",
    "            axs[ix,iy].set_xlabel('time (sec)')\n",
    "plt.suptitle('raw EMG data for participant with disability')\n"
   ]
  },
  {
   "cell_type": "code",
   "execution_count": null,
   "id": "7ed73147-977d-4a74-8f08-2700b6be8583",
   "metadata": {},
   "outputs": [],
   "source": []
  },
  {
   "cell_type": "markdown",
   "id": "1fdd63ba-6112-4ba6-9b96-4cc0c6f788cb",
   "metadata": {},
   "source": [
    "## Data smashing\n",
    "- EMG csv files for each gesture performed by each user\n",
    "- IMU csv files for each gesture performed by each user\n",
    "- COMPLEXITY: 3 datasets of increasing complexity\n",
    "    - Try PCA on EMG only first\n",
    "    - Try PCA on IMU only\n",
    "    - Try PCA on combined EMG+IMU datasets "
   ]
  },
  {
   "cell_type": "markdown",
   "id": "b19197ae-acb9-45a6-a586-cff201a2b87d",
   "metadata": {},
   "source": [
    "# EXAMPLE USING DUMMY DATA"
   ]
  },
  {
   "cell_type": "code",
   "execution_count": 13,
   "id": "5f112c16-5bd8-4d22-889a-80e68e46415f",
   "metadata": {},
   "outputs": [
    {
     "data": {
      "text/plain": [
       "array([[ 1.38340578,  0.2935787 ],\n",
       "       [ 2.22189802, -0.25133484],\n",
       "       [ 3.6053038 ,  0.04224385],\n",
       "       [-1.38340578, -0.2935787 ],\n",
       "       [-2.22189802,  0.25133484],\n",
       "       [-3.6053038 , -0.04224385]])"
      ]
     },
     "execution_count": 13,
     "metadata": {},
     "output_type": "execute_result"
    }
   ],
   "source": [
    "# This is the PCA exmaple from the scipy documentation\n",
    "\n",
    "# This is the input data that we are trying to reduce the dimensions of\n",
    "X = np.array([[-1, -1], [-2, -1], [-3, -2], [1, 1], [2, 1], [3, 2]])\n",
    "# Here, we define that actual PCA object/model, and input the necessary parameters\n",
    "## n_components is the number of final principal components, or the number of dimensions the output will be\n",
    "pca = PCA(n_components=2)\n",
    "# This is where they actually train the PCA model, training it to fit the provided dataset\n",
    "pca.fit(X)\n",
    "\n",
    "# Now, apply the trained model to the data:\n",
    "pca.transform(X)"
   ]
  },
  {
   "cell_type": "code",
   "execution_count": 27,
   "id": "3f591c56-05e9-4278-bad4-dbd952bc7158",
   "metadata": {},
   "outputs": [
    {
     "data": {
      "text/html": [
       "<div>\n",
       "<style scoped>\n",
       "    .dataframe tbody tr th:only-of-type {\n",
       "        vertical-align: middle;\n",
       "    }\n",
       "\n",
       "    .dataframe tbody tr th {\n",
       "        vertical-align: top;\n",
       "    }\n",
       "\n",
       "    .dataframe thead th {\n",
       "        text-align: right;\n",
       "    }\n",
       "</style>\n",
       "<table border=\"1\" class=\"dataframe\">\n",
       "  <thead>\n",
       "    <tr style=\"text-align: right;\">\n",
       "      <th></th>\n",
       "      <th>0</th>\n",
       "      <th>1</th>\n",
       "      <th>2</th>\n",
       "      <th>3</th>\n",
       "      <th>4</th>\n",
       "      <th>5</th>\n",
       "      <th>6</th>\n",
       "      <th>7</th>\n",
       "      <th>8</th>\n",
       "      <th>9</th>\n",
       "      <th>10</th>\n",
       "      <th>11</th>\n",
       "      <th>12</th>\n",
       "      <th>13</th>\n",
       "      <th>14</th>\n",
       "      <th>15</th>\n",
       "    </tr>\n",
       "  </thead>\n",
       "  <tbody>\n",
       "    <tr>\n",
       "      <th>0</th>\n",
       "      <td>0.240123</td>\n",
       "      <td>0.582291</td>\n",
       "      <td>0.881592</td>\n",
       "      <td>0.109169</td>\n",
       "      <td>0.376836</td>\n",
       "      <td>0.360559</td>\n",
       "      <td>0.457950</td>\n",
       "      <td>0.658822</td>\n",
       "      <td>0.834527</td>\n",
       "      <td>0.839306</td>\n",
       "      <td>0.122871</td>\n",
       "      <td>0.289708</td>\n",
       "      <td>0.663672</td>\n",
       "      <td>0.527640</td>\n",
       "      <td>0.293054</td>\n",
       "      <td>0.040776</td>\n",
       "    </tr>\n",
       "    <tr>\n",
       "      <th>1</th>\n",
       "      <td>0.019973</td>\n",
       "      <td>0.727560</td>\n",
       "      <td>0.423491</td>\n",
       "      <td>0.617146</td>\n",
       "      <td>0.427088</td>\n",
       "      <td>0.318155</td>\n",
       "      <td>0.978740</td>\n",
       "      <td>0.314689</td>\n",
       "      <td>0.002192</td>\n",
       "      <td>0.460612</td>\n",
       "      <td>0.721208</td>\n",
       "      <td>0.709990</td>\n",
       "      <td>0.245525</td>\n",
       "      <td>0.100155</td>\n",
       "      <td>0.359213</td>\n",
       "      <td>0.451019</td>\n",
       "    </tr>\n",
       "    <tr>\n",
       "      <th>2</th>\n",
       "      <td>0.343569</td>\n",
       "      <td>0.521533</td>\n",
       "      <td>0.337950</td>\n",
       "      <td>0.849048</td>\n",
       "      <td>0.256217</td>\n",
       "      <td>0.484486</td>\n",
       "      <td>0.651757</td>\n",
       "      <td>0.214065</td>\n",
       "      <td>0.687789</td>\n",
       "      <td>0.113213</td>\n",
       "      <td>0.871107</td>\n",
       "      <td>0.527412</td>\n",
       "      <td>0.163007</td>\n",
       "      <td>0.629690</td>\n",
       "      <td>0.243487</td>\n",
       "      <td>0.705862</td>\n",
       "    </tr>\n",
       "    <tr>\n",
       "      <th>3</th>\n",
       "      <td>0.791442</td>\n",
       "      <td>0.524649</td>\n",
       "      <td>0.487910</td>\n",
       "      <td>0.507476</td>\n",
       "      <td>0.213645</td>\n",
       "      <td>0.045807</td>\n",
       "      <td>0.443563</td>\n",
       "      <td>0.601909</td>\n",
       "      <td>0.149047</td>\n",
       "      <td>0.198923</td>\n",
       "      <td>0.494192</td>\n",
       "      <td>0.945783</td>\n",
       "      <td>0.053837</td>\n",
       "      <td>0.916119</td>\n",
       "      <td>0.662799</td>\n",
       "      <td>0.851787</td>\n",
       "    </tr>\n",
       "    <tr>\n",
       "      <th>4</th>\n",
       "      <td>0.203158</td>\n",
       "      <td>0.722233</td>\n",
       "      <td>0.763593</td>\n",
       "      <td>0.443024</td>\n",
       "      <td>0.463426</td>\n",
       "      <td>0.568855</td>\n",
       "      <td>0.583147</td>\n",
       "      <td>0.280035</td>\n",
       "      <td>0.881352</td>\n",
       "      <td>0.083293</td>\n",
       "      <td>0.380916</td>\n",
       "      <td>0.709153</td>\n",
       "      <td>0.278709</td>\n",
       "      <td>0.482206</td>\n",
       "      <td>0.259029</td>\n",
       "      <td>0.304663</td>\n",
       "    </tr>\n",
       "  </tbody>\n",
       "</table>\n",
       "</div>"
      ],
      "text/plain": [
       "         0         1         2         3         4         5         6    \n",
       "0  0.240123  0.582291  0.881592  0.109169  0.376836  0.360559  0.457950  \\\n",
       "1  0.019973  0.727560  0.423491  0.617146  0.427088  0.318155  0.978740   \n",
       "2  0.343569  0.521533  0.337950  0.849048  0.256217  0.484486  0.651757   \n",
       "3  0.791442  0.524649  0.487910  0.507476  0.213645  0.045807  0.443563   \n",
       "4  0.203158  0.722233  0.763593  0.443024  0.463426  0.568855  0.583147   \n",
       "\n",
       "         7         8         9         10        11        12        13   \n",
       "0  0.658822  0.834527  0.839306  0.122871  0.289708  0.663672  0.527640  \\\n",
       "1  0.314689  0.002192  0.460612  0.721208  0.709990  0.245525  0.100155   \n",
       "2  0.214065  0.687789  0.113213  0.871107  0.527412  0.163007  0.629690   \n",
       "3  0.601909  0.149047  0.198923  0.494192  0.945783  0.053837  0.916119   \n",
       "4  0.280035  0.881352  0.083293  0.380916  0.709153  0.278709  0.482206   \n",
       "\n",
       "         14        15  \n",
       "0  0.293054  0.040776  \n",
       "1  0.359213  0.451019  \n",
       "2  0.243487  0.705862  \n",
       "3  0.662799  0.851787  \n",
       "4  0.259029  0.304663  "
      ]
     },
     "execution_count": 27,
     "metadata": {},
     "output_type": "execute_result"
    }
   ],
   "source": [
    "# Five gesture csv files from one participant\n",
    "## Note that the real EMG data won't have the same number of rows, most likely... do interp or something on rows\n",
    "dummy_EMG_df1 = pd.DataFrame(np.random.rand(31, 16))\n",
    "dummy_EMG_df2 = pd.DataFrame(np.random.rand(31, 16))\n",
    "dummy_EMG_df3 = pd.DataFrame(np.random.rand(31, 16))\n",
    "dummy_EMG_df4 = pd.DataFrame(np.random.rand(31, 16))\n",
    "dummy_EMG_df5 = pd.DataFrame(np.random.rand(31, 16))\n",
    "## ^Really you ought to load in the csv file as a pandas dataframe here...\n",
    "\n",
    "dummy_EMG_df1.head()"
   ]
  },
  {
   "cell_type": "code",
   "execution_count": 31,
   "id": "cbbaf6c7-45e4-4a8b-8458-5b072d456730",
   "metadata": {},
   "outputs": [
    {
     "name": "stdout",
     "output_type": "stream",
     "text": [
      "Here, we concat such that the rows are the time dimension and the columns are the EMG channels; full_data_df.shape: (31, 80)\n"
     ]
    }
   ],
   "source": [
    "# Horizontally concat the different gestures\n",
    "## Would repeat this process for all gestures, for all users...\n",
    "full_data_df = pd.concat([dummy_EMG_df1, dummy_EMG_df2, dummy_EMG_df3, dummy_EMG_df4, dummy_EMG_df5], axis=1)\n",
    "print(f\"Here, we concat such that the rows are the time dimension and the columns are the EMG channels; full_data_df.shape: {full_data_df.shape}\")"
   ]
  },
  {
   "cell_type": "code",
   "execution_count": 29,
   "id": "87a0aba4-749b-4edb-982c-a80ba137d0b1",
   "metadata": {},
   "outputs": [
    {
     "data": {
      "text/html": [
       "<style>#sk-container-id-5 {color: black;background-color: white;}#sk-container-id-5 pre{padding: 0;}#sk-container-id-5 div.sk-toggleable {background-color: white;}#sk-container-id-5 label.sk-toggleable__label {cursor: pointer;display: block;width: 100%;margin-bottom: 0;padding: 0.3em;box-sizing: border-box;text-align: center;}#sk-container-id-5 label.sk-toggleable__label-arrow:before {content: \"▸\";float: left;margin-right: 0.25em;color: #696969;}#sk-container-id-5 label.sk-toggleable__label-arrow:hover:before {color: black;}#sk-container-id-5 div.sk-estimator:hover label.sk-toggleable__label-arrow:before {color: black;}#sk-container-id-5 div.sk-toggleable__content {max-height: 0;max-width: 0;overflow: hidden;text-align: left;background-color: #f0f8ff;}#sk-container-id-5 div.sk-toggleable__content pre {margin: 0.2em;color: black;border-radius: 0.25em;background-color: #f0f8ff;}#sk-container-id-5 input.sk-toggleable__control:checked~div.sk-toggleable__content {max-height: 200px;max-width: 100%;overflow: auto;}#sk-container-id-5 input.sk-toggleable__control:checked~label.sk-toggleable__label-arrow:before {content: \"▾\";}#sk-container-id-5 div.sk-estimator input.sk-toggleable__control:checked~label.sk-toggleable__label {background-color: #d4ebff;}#sk-container-id-5 div.sk-label input.sk-toggleable__control:checked~label.sk-toggleable__label {background-color: #d4ebff;}#sk-container-id-5 input.sk-hidden--visually {border: 0;clip: rect(1px 1px 1px 1px);clip: rect(1px, 1px, 1px, 1px);height: 1px;margin: -1px;overflow: hidden;padding: 0;position: absolute;width: 1px;}#sk-container-id-5 div.sk-estimator {font-family: monospace;background-color: #f0f8ff;border: 1px dotted black;border-radius: 0.25em;box-sizing: border-box;margin-bottom: 0.5em;}#sk-container-id-5 div.sk-estimator:hover {background-color: #d4ebff;}#sk-container-id-5 div.sk-parallel-item::after {content: \"\";width: 100%;border-bottom: 1px solid gray;flex-grow: 1;}#sk-container-id-5 div.sk-label:hover label.sk-toggleable__label {background-color: #d4ebff;}#sk-container-id-5 div.sk-serial::before {content: \"\";position: absolute;border-left: 1px solid gray;box-sizing: border-box;top: 0;bottom: 0;left: 50%;z-index: 0;}#sk-container-id-5 div.sk-serial {display: flex;flex-direction: column;align-items: center;background-color: white;padding-right: 0.2em;padding-left: 0.2em;position: relative;}#sk-container-id-5 div.sk-item {position: relative;z-index: 1;}#sk-container-id-5 div.sk-parallel {display: flex;align-items: stretch;justify-content: center;background-color: white;position: relative;}#sk-container-id-5 div.sk-item::before, #sk-container-id-5 div.sk-parallel-item::before {content: \"\";position: absolute;border-left: 1px solid gray;box-sizing: border-box;top: 0;bottom: 0;left: 50%;z-index: -1;}#sk-container-id-5 div.sk-parallel-item {display: flex;flex-direction: column;z-index: 1;position: relative;background-color: white;}#sk-container-id-5 div.sk-parallel-item:first-child::after {align-self: flex-end;width: 50%;}#sk-container-id-5 div.sk-parallel-item:last-child::after {align-self: flex-start;width: 50%;}#sk-container-id-5 div.sk-parallel-item:only-child::after {width: 0;}#sk-container-id-5 div.sk-dashed-wrapped {border: 1px dashed gray;margin: 0 0.4em 0.5em 0.4em;box-sizing: border-box;padding-bottom: 0.4em;background-color: white;}#sk-container-id-5 div.sk-label label {font-family: monospace;font-weight: bold;display: inline-block;line-height: 1.2em;}#sk-container-id-5 div.sk-label-container {text-align: center;}#sk-container-id-5 div.sk-container {/* jupyter's `normalize.less` sets `[hidden] { display: none; }` but bootstrap.min.css set `[hidden] { display: none !important; }` so we also need the `!important` here to be able to override the default hidden behavior on the sphinx rendered scikit-learn.org. See: https://github.com/scikit-learn/scikit-learn/issues/21755 */display: inline-block !important;position: relative;}#sk-container-id-5 div.sk-text-repr-fallback {display: none;}</style><div id=\"sk-container-id-5\" class=\"sk-top-container\"><div class=\"sk-text-repr-fallback\"><pre>PCA(n_components=2)</pre><b>In a Jupyter environment, please rerun this cell to show the HTML representation or trust the notebook. <br />On GitHub, the HTML representation is unable to render, please try loading this page with nbviewer.org.</b></div><div class=\"sk-container\" hidden><div class=\"sk-item\"><div class=\"sk-estimator sk-toggleable\"><input class=\"sk-toggleable__control sk-hidden--visually\" id=\"sk-estimator-id-5\" type=\"checkbox\" checked><label for=\"sk-estimator-id-5\" class=\"sk-toggleable__label sk-toggleable__label-arrow\">PCA</label><div class=\"sk-toggleable__content\"><pre>PCA(n_components=2)</pre></div></div></div></div></div>"
      ],
      "text/plain": [
       "PCA(n_components=2)"
      ]
     },
     "execution_count": 29,
     "metadata": {},
     "output_type": "execute_result"
    }
   ],
   "source": [
    "pca = PCA(n_components=2)\n",
    "pca.fit(full_data_df)"
   ]
  },
  {
   "cell_type": "code",
   "execution_count": 30,
   "id": "1117f0a5-9717-405c-be0f-4c6aacb9fa2a",
   "metadata": {},
   "outputs": [
    {
     "name": "stdout",
     "output_type": "stream",
     "text": [
      "(31, 2)\n"
     ]
    },
    {
     "data": {
      "text/html": [
       "<div>\n",
       "<style scoped>\n",
       "    .dataframe tbody tr th:only-of-type {\n",
       "        vertical-align: middle;\n",
       "    }\n",
       "\n",
       "    .dataframe tbody tr th {\n",
       "        vertical-align: top;\n",
       "    }\n",
       "\n",
       "    .dataframe thead th {\n",
       "        text-align: right;\n",
       "    }\n",
       "</style>\n",
       "<table border=\"1\" class=\"dataframe\">\n",
       "  <thead>\n",
       "    <tr style=\"text-align: right;\">\n",
       "      <th></th>\n",
       "      <th>0</th>\n",
       "      <th>1</th>\n",
       "    </tr>\n",
       "  </thead>\n",
       "  <tbody>\n",
       "    <tr>\n",
       "      <th>0</th>\n",
       "      <td>-0.712437</td>\n",
       "      <td>-0.169177</td>\n",
       "    </tr>\n",
       "    <tr>\n",
       "      <th>1</th>\n",
       "      <td>-0.056394</td>\n",
       "      <td>0.053417</td>\n",
       "    </tr>\n",
       "    <tr>\n",
       "      <th>2</th>\n",
       "      <td>1.161776</td>\n",
       "      <td>-0.420315</td>\n",
       "    </tr>\n",
       "    <tr>\n",
       "      <th>3</th>\n",
       "      <td>-0.394097</td>\n",
       "      <td>-0.208514</td>\n",
       "    </tr>\n",
       "    <tr>\n",
       "      <th>4</th>\n",
       "      <td>0.822973</td>\n",
       "      <td>-0.551881</td>\n",
       "    </tr>\n",
       "  </tbody>\n",
       "</table>\n",
       "</div>"
      ],
      "text/plain": [
       "          0         1\n",
       "0 -0.712437 -0.169177\n",
       "1 -0.056394  0.053417\n",
       "2  1.161776 -0.420315\n",
       "3 -0.394097 -0.208514\n",
       "4  0.822973 -0.551881"
      ]
     },
     "execution_count": 30,
     "metadata": {},
     "output_type": "execute_result"
    }
   ],
   "source": [
    "# Now, apply the trained model to the data:\n",
    "EMG_2D_df = pd.DataFrame(pca.transform(full_data_df))\n",
    "print(EMG_2D_df.shape)\n",
    "EMG_2D_df.head()"
   ]
  },
  {
   "cell_type": "code",
   "execution_count": 22,
   "id": "5c24bcc0-f71c-4dff-b9cd-bbd9857476ed",
   "metadata": {},
   "outputs": [
    {
     "ename": "ValueError",
     "evalue": "X has 16 features, but PCA is expecting 80 features as input.",
     "output_type": "error",
     "traceback": [
      "\u001b[1;31m---------------------------------------------------------------------------\u001b[0m",
      "\u001b[1;31mValueError\u001b[0m                                Traceback (most recent call last)",
      "Cell \u001b[1;32mIn[22], line 2\u001b[0m\n\u001b[0;32m      1\u001b[0m \u001b[38;5;66;03m# Now, apply the trained model to each gesture:\u001b[39;00m\n\u001b[1;32m----> 2\u001b[0m EMG1_2D_df \u001b[38;5;241m=\u001b[39m pd\u001b[38;5;241m.\u001b[39mDataFrame(\u001b[43mpca\u001b[49m\u001b[38;5;241;43m.\u001b[39;49m\u001b[43mtransform\u001b[49m\u001b[43m(\u001b[49m\u001b[43mdummy_EMG_df1\u001b[49m\u001b[43m)\u001b[49m)\n\u001b[0;32m      3\u001b[0m EMG1_2D_df\n",
      "File \u001b[1;32m~\\miniconda3\\envs\\fl_torch\\lib\\site-packages\\sklearn\\utils\\_set_output.py:142\u001b[0m, in \u001b[0;36m_wrap_method_output.<locals>.wrapped\u001b[1;34m(self, X, *args, **kwargs)\u001b[0m\n\u001b[0;32m    140\u001b[0m \u001b[38;5;129m@wraps\u001b[39m(f)\n\u001b[0;32m    141\u001b[0m \u001b[38;5;28;01mdef\u001b[39;00m \u001b[38;5;21mwrapped\u001b[39m(\u001b[38;5;28mself\u001b[39m, X, \u001b[38;5;241m*\u001b[39margs, \u001b[38;5;241m*\u001b[39m\u001b[38;5;241m*\u001b[39mkwargs):\n\u001b[1;32m--> 142\u001b[0m     data_to_wrap \u001b[38;5;241m=\u001b[39m f(\u001b[38;5;28mself\u001b[39m, X, \u001b[38;5;241m*\u001b[39margs, \u001b[38;5;241m*\u001b[39m\u001b[38;5;241m*\u001b[39mkwargs)\n\u001b[0;32m    143\u001b[0m     \u001b[38;5;28;01mif\u001b[39;00m \u001b[38;5;28misinstance\u001b[39m(data_to_wrap, \u001b[38;5;28mtuple\u001b[39m):\n\u001b[0;32m    144\u001b[0m         \u001b[38;5;66;03m# only wrap the first output for cross decomposition\u001b[39;00m\n\u001b[0;32m    145\u001b[0m         \u001b[38;5;28;01mreturn\u001b[39;00m (\n\u001b[0;32m    146\u001b[0m             _wrap_data_with_container(method, data_to_wrap[\u001b[38;5;241m0\u001b[39m], X, \u001b[38;5;28mself\u001b[39m),\n\u001b[0;32m    147\u001b[0m             \u001b[38;5;241m*\u001b[39mdata_to_wrap[\u001b[38;5;241m1\u001b[39m:],\n\u001b[0;32m    148\u001b[0m         )\n",
      "File \u001b[1;32m~\\miniconda3\\envs\\fl_torch\\lib\\site-packages\\sklearn\\utils\\_set_output.py:142\u001b[0m, in \u001b[0;36m_wrap_method_output.<locals>.wrapped\u001b[1;34m(self, X, *args, **kwargs)\u001b[0m\n\u001b[0;32m    140\u001b[0m \u001b[38;5;129m@wraps\u001b[39m(f)\n\u001b[0;32m    141\u001b[0m \u001b[38;5;28;01mdef\u001b[39;00m \u001b[38;5;21mwrapped\u001b[39m(\u001b[38;5;28mself\u001b[39m, X, \u001b[38;5;241m*\u001b[39margs, \u001b[38;5;241m*\u001b[39m\u001b[38;5;241m*\u001b[39mkwargs):\n\u001b[1;32m--> 142\u001b[0m     data_to_wrap \u001b[38;5;241m=\u001b[39m f(\u001b[38;5;28mself\u001b[39m, X, \u001b[38;5;241m*\u001b[39margs, \u001b[38;5;241m*\u001b[39m\u001b[38;5;241m*\u001b[39mkwargs)\n\u001b[0;32m    143\u001b[0m     \u001b[38;5;28;01mif\u001b[39;00m \u001b[38;5;28misinstance\u001b[39m(data_to_wrap, \u001b[38;5;28mtuple\u001b[39m):\n\u001b[0;32m    144\u001b[0m         \u001b[38;5;66;03m# only wrap the first output for cross decomposition\u001b[39;00m\n\u001b[0;32m    145\u001b[0m         \u001b[38;5;28;01mreturn\u001b[39;00m (\n\u001b[0;32m    146\u001b[0m             _wrap_data_with_container(method, data_to_wrap[\u001b[38;5;241m0\u001b[39m], X, \u001b[38;5;28mself\u001b[39m),\n\u001b[0;32m    147\u001b[0m             \u001b[38;5;241m*\u001b[39mdata_to_wrap[\u001b[38;5;241m1\u001b[39m:],\n\u001b[0;32m    148\u001b[0m         )\n",
      "File \u001b[1;32m~\\miniconda3\\envs\\fl_torch\\lib\\site-packages\\sklearn\\decomposition\\_base.py:120\u001b[0m, in \u001b[0;36m_BasePCA.transform\u001b[1;34m(self, X)\u001b[0m\n\u001b[0;32m    101\u001b[0m \u001b[38;5;250m\u001b[39m\u001b[38;5;124;03m\"\"\"Apply dimensionality reduction to X.\u001b[39;00m\n\u001b[0;32m    102\u001b[0m \n\u001b[0;32m    103\u001b[0m \u001b[38;5;124;03mX is projected on the first principal components previously extracted\u001b[39;00m\n\u001b[1;32m   (...)\u001b[0m\n\u001b[0;32m    116\u001b[0m \u001b[38;5;124;03m    is the number of samples and `n_components` is the number of the components.\u001b[39;00m\n\u001b[0;32m    117\u001b[0m \u001b[38;5;124;03m\"\"\"\u001b[39;00m\n\u001b[0;32m    118\u001b[0m check_is_fitted(\u001b[38;5;28mself\u001b[39m)\n\u001b[1;32m--> 120\u001b[0m X \u001b[38;5;241m=\u001b[39m \u001b[38;5;28;43mself\u001b[39;49m\u001b[38;5;241;43m.\u001b[39;49m\u001b[43m_validate_data\u001b[49m\u001b[43m(\u001b[49m\u001b[43mX\u001b[49m\u001b[43m,\u001b[49m\u001b[43m \u001b[49m\u001b[43mdtype\u001b[49m\u001b[38;5;241;43m=\u001b[39;49m\u001b[43m[\u001b[49m\u001b[43mnp\u001b[49m\u001b[38;5;241;43m.\u001b[39;49m\u001b[43mfloat64\u001b[49m\u001b[43m,\u001b[49m\u001b[43m \u001b[49m\u001b[43mnp\u001b[49m\u001b[38;5;241;43m.\u001b[39;49m\u001b[43mfloat32\u001b[49m\u001b[43m]\u001b[49m\u001b[43m,\u001b[49m\u001b[43m \u001b[49m\u001b[43mreset\u001b[49m\u001b[38;5;241;43m=\u001b[39;49m\u001b[38;5;28;43;01mFalse\u001b[39;49;00m\u001b[43m)\u001b[49m\n\u001b[0;32m    121\u001b[0m \u001b[38;5;28;01mif\u001b[39;00m \u001b[38;5;28mself\u001b[39m\u001b[38;5;241m.\u001b[39mmean_ \u001b[38;5;129;01mis\u001b[39;00m \u001b[38;5;129;01mnot\u001b[39;00m \u001b[38;5;28;01mNone\u001b[39;00m:\n\u001b[0;32m    122\u001b[0m     X \u001b[38;5;241m=\u001b[39m X \u001b[38;5;241m-\u001b[39m \u001b[38;5;28mself\u001b[39m\u001b[38;5;241m.\u001b[39mmean_\n",
      "File \u001b[1;32m~\\miniconda3\\envs\\fl_torch\\lib\\site-packages\\sklearn\\base.py:558\u001b[0m, in \u001b[0;36mBaseEstimator._validate_data\u001b[1;34m(self, X, y, reset, validate_separately, **check_params)\u001b[0m\n\u001b[0;32m    555\u001b[0m     out \u001b[38;5;241m=\u001b[39m X, y\n\u001b[0;32m    557\u001b[0m \u001b[38;5;28;01mif\u001b[39;00m \u001b[38;5;129;01mnot\u001b[39;00m no_val_X \u001b[38;5;129;01mand\u001b[39;00m check_params\u001b[38;5;241m.\u001b[39mget(\u001b[38;5;124m\"\u001b[39m\u001b[38;5;124mensure_2d\u001b[39m\u001b[38;5;124m\"\u001b[39m, \u001b[38;5;28;01mTrue\u001b[39;00m):\n\u001b[1;32m--> 558\u001b[0m     \u001b[38;5;28;43mself\u001b[39;49m\u001b[38;5;241;43m.\u001b[39;49m\u001b[43m_check_n_features\u001b[49m\u001b[43m(\u001b[49m\u001b[43mX\u001b[49m\u001b[43m,\u001b[49m\u001b[43m \u001b[49m\u001b[43mreset\u001b[49m\u001b[38;5;241;43m=\u001b[39;49m\u001b[43mreset\u001b[49m\u001b[43m)\u001b[49m\n\u001b[0;32m    560\u001b[0m \u001b[38;5;28;01mreturn\u001b[39;00m out\n",
      "File \u001b[1;32m~\\miniconda3\\envs\\fl_torch\\lib\\site-packages\\sklearn\\base.py:359\u001b[0m, in \u001b[0;36mBaseEstimator._check_n_features\u001b[1;34m(self, X, reset)\u001b[0m\n\u001b[0;32m    356\u001b[0m     \u001b[38;5;28;01mreturn\u001b[39;00m\n\u001b[0;32m    358\u001b[0m \u001b[38;5;28;01mif\u001b[39;00m n_features \u001b[38;5;241m!=\u001b[39m \u001b[38;5;28mself\u001b[39m\u001b[38;5;241m.\u001b[39mn_features_in_:\n\u001b[1;32m--> 359\u001b[0m     \u001b[38;5;28;01mraise\u001b[39;00m \u001b[38;5;167;01mValueError\u001b[39;00m(\n\u001b[0;32m    360\u001b[0m         \u001b[38;5;124mf\u001b[39m\u001b[38;5;124m\"\u001b[39m\u001b[38;5;124mX has \u001b[39m\u001b[38;5;132;01m{\u001b[39;00mn_features\u001b[38;5;132;01m}\u001b[39;00m\u001b[38;5;124m features, but \u001b[39m\u001b[38;5;132;01m{\u001b[39;00m\u001b[38;5;28mself\u001b[39m\u001b[38;5;241m.\u001b[39m\u001b[38;5;18m__class__\u001b[39m\u001b[38;5;241m.\u001b[39m\u001b[38;5;18m__name__\u001b[39m\u001b[38;5;132;01m}\u001b[39;00m\u001b[38;5;124m \u001b[39m\u001b[38;5;124m\"\u001b[39m\n\u001b[0;32m    361\u001b[0m         \u001b[38;5;124mf\u001b[39m\u001b[38;5;124m\"\u001b[39m\u001b[38;5;124mis expecting \u001b[39m\u001b[38;5;132;01m{\u001b[39;00m\u001b[38;5;28mself\u001b[39m\u001b[38;5;241m.\u001b[39mn_features_in_\u001b[38;5;132;01m}\u001b[39;00m\u001b[38;5;124m features as input.\u001b[39m\u001b[38;5;124m\"\u001b[39m\n\u001b[0;32m    362\u001b[0m     )\n",
      "\u001b[1;31mValueError\u001b[0m: X has 16 features, but PCA is expecting 80 features as input."
     ]
    }
   ],
   "source": [
    "# Now, apply the trained model to each gesture:\n",
    "EMG1_2D_df = pd.DataFrame(pca.transform(dummy_EMG_df1))\n",
    "EMG1_2D_df"
   ]
  },
  {
   "cell_type": "markdown",
   "id": "c99fe90f-6534-41da-b873-9e00e99a7a6f",
   "metadata": {},
   "source": [
    "So PCA can't be trained on data of one size (eg n number of columns) and tested on another (eg m number of columns) --> e.g., we can't train one giant PCA model and then apply it to each user/gesture individually\n",
    "> Thus, we should just train it on the entire dataset (note that .fit() autoapplies it to the training dataset, allegedly), and then break up the resulting dataframe accordingly (eg break it up by user/gesture)"
   ]
  },
  {
   "cell_type": "code",
   "execution_count": 32,
   "id": "7d302c23-357d-4a8a-b6fe-f250cd47916d",
   "metadata": {},
   "outputs": [
    {
     "name": "stdout",
     "output_type": "stream",
     "text": [
      "Here, we concat such that the rows are the time dimension and the columns are the EMG channels; full_data_df.shape: (155, 16)\n"
     ]
    }
   ],
   "source": [
    "# Vertically concatting now\n",
    "full_data_df = pd.concat([dummy_EMG_df1, dummy_EMG_df2, dummy_EMG_df3, dummy_EMG_df4, dummy_EMG_df5])\n",
    "print(f\"Here, we concat such that the rows are the time dimension and the columns are the EMG channels; full_data_df.shape: {full_data_df.shape}\")"
   ]
  },
  {
   "cell_type": "code",
   "execution_count": 34,
   "id": "d57451f9-0542-4862-a644-ebd0b31dd841",
   "metadata": {},
   "outputs": [
    {
     "name": "stdout",
     "output_type": "stream",
     "text": [
      "(155, 2)\n"
     ]
    },
    {
     "data": {
      "text/html": [
       "<div>\n",
       "<style scoped>\n",
       "    .dataframe tbody tr th:only-of-type {\n",
       "        vertical-align: middle;\n",
       "    }\n",
       "\n",
       "    .dataframe tbody tr th {\n",
       "        vertical-align: top;\n",
       "    }\n",
       "\n",
       "    .dataframe thead th {\n",
       "        text-align: right;\n",
       "    }\n",
       "</style>\n",
       "<table border=\"1\" class=\"dataframe\">\n",
       "  <thead>\n",
       "    <tr style=\"text-align: right;\">\n",
       "      <th></th>\n",
       "      <th>0</th>\n",
       "      <th>1</th>\n",
       "    </tr>\n",
       "  </thead>\n",
       "  <tbody>\n",
       "    <tr>\n",
       "      <th>0</th>\n",
       "      <td>0.311358</td>\n",
       "      <td>-0.263927</td>\n",
       "    </tr>\n",
       "    <tr>\n",
       "      <th>1</th>\n",
       "      <td>-0.703078</td>\n",
       "      <td>0.342485</td>\n",
       "    </tr>\n",
       "    <tr>\n",
       "      <th>2</th>\n",
       "      <td>0.010484</td>\n",
       "      <td>0.667052</td>\n",
       "    </tr>\n",
       "    <tr>\n",
       "      <th>3</th>\n",
       "      <td>-0.181803</td>\n",
       "      <td>0.335924</td>\n",
       "    </tr>\n",
       "    <tr>\n",
       "      <th>4</th>\n",
       "      <td>-0.066217</td>\n",
       "      <td>0.114832</td>\n",
       "    </tr>\n",
       "  </tbody>\n",
       "</table>\n",
       "</div>"
      ],
      "text/plain": [
       "          0         1\n",
       "0  0.311358 -0.263927\n",
       "1 -0.703078  0.342485\n",
       "2  0.010484  0.667052\n",
       "3 -0.181803  0.335924\n",
       "4 -0.066217  0.114832"
      ]
     },
     "execution_count": 34,
     "metadata": {},
     "output_type": "execute_result"
    }
   ],
   "source": [
    "pca = PCA(n_components=2)\n",
    "pca.fit(full_data_df)\n",
    "# Now, apply the trained model to full dataset!:\n",
    "EMG_2D_full_df = pd.DataFrame(pca.transform(full_data_df))\n",
    "print(EMG_2D_full_df.shape)\n",
    "EMG_2D_full_df.head()"
   ]
  },
  {
   "cell_type": "markdown",
   "id": "d3663769-94f4-469e-8a60-6df03936bf0c",
   "metadata": {},
   "source": [
    "We know a priori that our (dummy) gestures have 31 rows of time data (in the real case, probably need to resample all gestures to 64 via interp), and thus we can break up the dataframe into our original 5 gestures, AKA every 31 rows "
   ]
  },
  {
   "cell_type": "code",
   "execution_count": 39,
   "id": "94b9c0a1-77bc-478c-8040-81b7a12e128c",
   "metadata": {},
   "outputs": [
    {
     "name": "stdout",
     "output_type": "stream",
     "text": [
      "(31, 2)\n",
      "          0         1\n",
      "0  0.311358 -0.263927\n",
      "1 -0.703078  0.342485\n",
      "2  0.010484  0.667052\n",
      "3 -0.181803  0.335924\n",
      "4 -0.066217  0.114832\n",
      "\n",
      "(31, 2)\n",
      "          0         1\n",
      "0 -0.414492 -0.297966\n",
      "1 -0.157066 -0.080156\n",
      "2 -0.339682  0.146801\n",
      "3  0.132040  0.614264\n",
      "4 -0.177842 -0.035357\n",
      "\n",
      "(31, 2)\n",
      "          0         1\n",
      "0 -0.299408 -0.287814\n",
      "1  0.109356 -0.281614\n",
      "2  0.624971 -0.076653\n",
      "3  0.281077  0.100287\n",
      "4  0.125105  0.001877\n",
      "\n",
      "(31, 2)\n",
      "          0         1\n",
      "0  0.125465 -0.163273\n",
      "1 -0.172280  0.223089\n",
      "2  0.304888 -0.268191\n",
      "3  0.377944  0.384058\n",
      "4  0.188264  0.843972\n",
      "\n",
      "(31, 2)\n",
      "          0         1\n",
      "0  0.162233  0.098956\n",
      "1  0.261022  0.551543\n",
      "2 -0.206221 -0.024214\n",
      "3  0.391820  0.159354\n",
      "4  0.146296 -0.051515\n",
      "\n"
     ]
    }
   ],
   "source": [
    "# Iterate over 5 gestures to create 5 smaller dataframes (eg one for each gesture)\n",
    "num_gestures = 5\n",
    "rows_per_dataframe = 31\n",
    "smaller_dfs = []  # List of smaller dataframes\n",
    "\n",
    "for i in range(num_gestures):\n",
    "    # Calculate start and end indices for slicing\n",
    "    start_index = i * rows_per_dataframe\n",
    "    end_index = start_index + rows_per_dataframe\n",
    "    \n",
    "    # Slice the original DataFrame and append the smaller DataFrame to the list\n",
    "    smaller_dfs.append(EMG_2D_full_df.iloc[start_index:end_index].reset_index(drop=True))\n",
    "\n",
    "for small_df in smaller_dfs:\n",
    "    print(small_df.shape)\n",
    "    print(small_df.head())\n",
    "    print()"
   ]
  },
  {
   "cell_type": "code",
   "execution_count": 46,
   "id": "62df88d7-c5a1-409f-b931-64545cf36f9c",
   "metadata": {},
   "outputs": [
    {
     "data": {
      "image/png": "[encoded data removed]",
      "text/plain": [
       "<Figure size 1000x600 with 1 Axes>"
      ]
     },
     "metadata": {},
     "output_type": "display_data"
    }
   ],
   "source": [
    "# Now do some plotting stuff, visualize results in matplotlib:\n",
    "color_str_lst = ['red', 'blue', 'orange', 'green', 'purple']\n",
    "\n",
    "# Visualize data points\n",
    "plt.figure(figsize=(10, 6))\n",
    "for i in range(num_gestures):\n",
    "    plt.scatter(smaller_dfs[i].iloc[:, 0], smaller_dfs[i].iloc[:, 1], color=color_str_lst[i])#, s=50, alpha=0.5) #EMG_2D_full_df\n",
    "plt.title('Dummy Data Gesture PCA (No structure)')\n",
    "plt.xlabel('Principal Component 1')\n",
    "plt.ylabel('Principal Component 2')\n",
    "plt.grid(True)\n",
    "plt.show()\n"
   ]
  },
  {
   "cell_type": "markdown",
   "id": "e93444e7-b941-4baf-a1f9-24caa8a50c60",
   "metadata": {},
   "source": [
    "Since I used dummy data, we knew ahead of time that there would be no structure (all data is randomly generated according to the same function)"
   ]
  },
  {
   "cell_type": "code",
   "execution_count": null,
   "id": "b1084ddf-4450-4364-9743-24bc88a025d2",
   "metadata": {},
   "outputs": [],
   "source": []
  }
 ],
 "metadata": {
  "kernelspec": {
   "display_name": "Python 3 (ipykernel)",
   "language": "python",
   "name": "python3"
  },
  "language_info": {
   "codemirror_mode": {
    "name": "ipython",
    "version": 3
   },
   "file_extension": ".py",
   "mimetype": "text/x-python",
   "name": "python",
   "nbconvert_exporter": "python",
   "pygments_lexer": "ipython3",
   "version": "3.10.12"
  }
 },
 "nbformat": 4,
 "nbformat_minor": 5
}
