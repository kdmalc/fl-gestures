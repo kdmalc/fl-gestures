{
 "cells": [
  {
   "cell_type": "code",
   "execution_count": 1,
   "id": "4b04f99f",
   "metadata": {},
   "outputs": [],
   "source": [
    "import numpy as np\n",
    "import matplotlib.pyplot as plt\n",
    "import sys\n",
    "import os\n",
    "import copy\n",
    "import pandas as pd\n",
    "import time\n",
    "\n",
    "from scipy.spatial.distance import pdist, squareform\n",
    "from scipy.cluster.hierarchy import linkage, dendrogram\n",
    "\n",
    "from utils.subspace_clustering_helper_funcs import *"
   ]
  },
  {
   "cell_type": "markdown",
   "id": "1b5a9b09",
   "metadata": {},
   "source": [
    "- https://scikit-learn.org/stable/modules/classes.html#module-sklearn.manifold"
   ]
  },
  {
   "cell_type": "markdown",
   "id": "85e073f3",
   "metadata": {},
   "source": [
    "## Loading in the data"
   ]
  },
  {
   "cell_type": "code",
   "execution_count": 6,
   "id": "32fbe4f5",
   "metadata": {},
   "outputs": [
    {
     "name": "stdout",
     "output_type": "stream",
     "text": [
      "Loading\n",
      "Completed in 0.056585073471069336s\n"
     ]
    }
   ],
   "source": [
    "# Kai's laptop\n",
    "#data_path = \"C:\\\\Users\\\\kdmen\\\\Desktop\\\\Research\\\\Data\\\\$M\\\\PCA_40D\\\\\"\n",
    "#metadata_cols_df = pd.read_pickle('C:\\\\Users\\\\kdmen\\\\Desktop\\\\Research\\\\Data\\\\$M\\\\metadata_cols_df.pkl')\n",
    "# BRC Desktop\n",
    "data_path = \"D:\\\\Kai_MetaGestureClustering_24\\\\saved_datasets\\\\Both_PCA40\\\\\"\n",
    "metadata_cols_df = pd.read_pickle('D:\\\\Kai_MetaGestureClustering_24\\\\saved_datasets\\\\metadata_cols_df.pkl')\n",
    "\n",
    "metadata_cols = ['Participant', 'Gesture_ID', 'Gesture_Num']\n",
    "\n",
    "print(\"Loading\")\n",
    "start_time = time.time()\n",
    "PCA_df = pd.read_pickle(data_path+'$BStand_PCA40_IMUEMG_df.pkl')\n",
    "end_time = time.time()\n",
    "print(f\"Completed in {end_time - start_time}s\")"
   ]
  },
  {
   "cell_type": "markdown",
   "id": "efc81b7a",
   "metadata": {},
   "source": [
    "Let's actually re-arrange to make them 3D matrices..."
   ]
  },
  {
   "cell_type": "code",
   "execution_count": 7,
   "id": "cca7bbff",
   "metadata": {},
   "outputs": [],
   "source": [
    "num_rows_per_gesture = 64 # From the interp\n",
    "num_gestures = len(PCA_df) // num_rows_per_gesture\n",
    "num_features = PCA_df.shape[1]\n",
    "\n",
    "# Ensure the data can be evenly divided into gestures\n",
    "assert len(PCA_df) % num_rows_per_gesture == 0, \"The total number of rows is not a multiple of the number of rows per gesture.\"\n",
    "\n",
    "# Convert DataFrame to NumPy array\n",
    "data_np = PCA_df.to_numpy()\n",
    "# Reshape into (batch_dim, time_step, n_features) AKA (n_gestures, n_rows_per_gesture, n_columns)\n",
    "PCA_np = data_np.reshape(num_gestures, num_rows_per_gesture, num_features)\n",
    "#PCA_np = PCA_df.to_numpy()\n",
    "#flattened_PCA = PCA_np.reshape(num_gestures, -1)"
   ]
  },
  {
   "cell_type": "code",
   "execution_count": 8,
   "id": "d887a1a1",
   "metadata": {},
   "outputs": [
    {
     "data": {
      "text/plain": [
       "(3200, 64, 40)"
      ]
     },
     "execution_count": 8,
     "metadata": {},
     "output_type": "execute_result"
    }
   ],
   "source": [
    "PCA_np.shape"
   ]
  },
  {
   "cell_type": "code",
   "execution_count": 9,
   "id": "4de813f4-9760-44dc-b96d-cdb1e5f35bcd",
   "metadata": {},
   "outputs": [
    {
     "data": {
      "text/html": [
       "<div>\n",
       "<style scoped>\n",
       "    .dataframe tbody tr th:only-of-type {\n",
       "        vertical-align: middle;\n",
       "    }\n",
       "\n",
       "    .dataframe tbody tr th {\n",
       "        vertical-align: top;\n",
       "    }\n",
       "\n",
       "    .dataframe thead th {\n",
       "        text-align: right;\n",
       "    }\n",
       "</style>\n",
       "<table border=\"1\" class=\"dataframe\">\n",
       "  <thead>\n",
       "    <tr style=\"text-align: right;\">\n",
       "      <th></th>\n",
       "      <th>Participant</th>\n",
       "      <th>Gesture_ID</th>\n",
       "      <th>Gesture_Num</th>\n",
       "      <th>0</th>\n",
       "      <th>1</th>\n",
       "      <th>2</th>\n",
       "      <th>3</th>\n",
       "      <th>4</th>\n",
       "      <th>5</th>\n",
       "      <th>6</th>\n",
       "      <th>...</th>\n",
       "      <th>30</th>\n",
       "      <th>31</th>\n",
       "      <th>32</th>\n",
       "      <th>33</th>\n",
       "      <th>34</th>\n",
       "      <th>35</th>\n",
       "      <th>36</th>\n",
       "      <th>37</th>\n",
       "      <th>38</th>\n",
       "      <th>39</th>\n",
       "    </tr>\n",
       "  </thead>\n",
       "  <tbody>\n",
       "    <tr>\n",
       "      <th>0</th>\n",
       "      <td>P102</td>\n",
       "      <td>pan</td>\n",
       "      <td>1</td>\n",
       "      <td>-0.030730</td>\n",
       "      <td>-0.052976</td>\n",
       "      <td>0.176556</td>\n",
       "      <td>-0.048078</td>\n",
       "      <td>-0.390790</td>\n",
       "      <td>-2.119829</td>\n",
       "      <td>0.875118</td>\n",
       "      <td>...</td>\n",
       "      <td>-0.253283</td>\n",
       "      <td>-0.248582</td>\n",
       "      <td>0.283079</td>\n",
       "      <td>-0.178321</td>\n",
       "      <td>-0.087101</td>\n",
       "      <td>-0.027081</td>\n",
       "      <td>0.000970</td>\n",
       "      <td>0.124380</td>\n",
       "      <td>-0.100580</td>\n",
       "      <td>-0.119294</td>\n",
       "    </tr>\n",
       "    <tr>\n",
       "      <th>1</th>\n",
       "      <td>P102</td>\n",
       "      <td>pan</td>\n",
       "      <td>1</td>\n",
       "      <td>0.077533</td>\n",
       "      <td>-0.108477</td>\n",
       "      <td>0.128970</td>\n",
       "      <td>-0.032167</td>\n",
       "      <td>-0.182756</td>\n",
       "      <td>-1.604412</td>\n",
       "      <td>0.701500</td>\n",
       "      <td>...</td>\n",
       "      <td>-0.423007</td>\n",
       "      <td>0.097453</td>\n",
       "      <td>0.184025</td>\n",
       "      <td>0.027788</td>\n",
       "      <td>0.112078</td>\n",
       "      <td>-0.414946</td>\n",
       "      <td>-0.210576</td>\n",
       "      <td>0.277156</td>\n",
       "      <td>0.051190</td>\n",
       "      <td>-0.039548</td>\n",
       "    </tr>\n",
       "    <tr>\n",
       "      <th>2</th>\n",
       "      <td>P102</td>\n",
       "      <td>pan</td>\n",
       "      <td>1</td>\n",
       "      <td>0.268279</td>\n",
       "      <td>-0.369027</td>\n",
       "      <td>0.268750</td>\n",
       "      <td>0.105239</td>\n",
       "      <td>-0.190292</td>\n",
       "      <td>-2.093812</td>\n",
       "      <td>1.012038</td>\n",
       "      <td>...</td>\n",
       "      <td>-0.311882</td>\n",
       "      <td>0.138655</td>\n",
       "      <td>-0.067485</td>\n",
       "      <td>0.201313</td>\n",
       "      <td>-0.051898</td>\n",
       "      <td>-0.479894</td>\n",
       "      <td>-0.079818</td>\n",
       "      <td>0.398142</td>\n",
       "      <td>0.058779</td>\n",
       "      <td>-0.095208</td>\n",
       "    </tr>\n",
       "    <tr>\n",
       "      <th>3</th>\n",
       "      <td>P102</td>\n",
       "      <td>pan</td>\n",
       "      <td>1</td>\n",
       "      <td>-0.106155</td>\n",
       "      <td>-0.291958</td>\n",
       "      <td>0.270681</td>\n",
       "      <td>0.035371</td>\n",
       "      <td>-0.204143</td>\n",
       "      <td>-2.314179</td>\n",
       "      <td>0.801514</td>\n",
       "      <td>...</td>\n",
       "      <td>-0.585487</td>\n",
       "      <td>-0.100021</td>\n",
       "      <td>0.082335</td>\n",
       "      <td>0.042349</td>\n",
       "      <td>-0.179251</td>\n",
       "      <td>-0.106235</td>\n",
       "      <td>-0.034940</td>\n",
       "      <td>0.386797</td>\n",
       "      <td>-0.034177</td>\n",
       "      <td>-0.132103</td>\n",
       "    </tr>\n",
       "    <tr>\n",
       "      <th>4</th>\n",
       "      <td>P102</td>\n",
       "      <td>pan</td>\n",
       "      <td>1</td>\n",
       "      <td>0.673338</td>\n",
       "      <td>-0.345606</td>\n",
       "      <td>0.246740</td>\n",
       "      <td>0.238184</td>\n",
       "      <td>0.948365</td>\n",
       "      <td>-0.041183</td>\n",
       "      <td>0.279347</td>\n",
       "      <td>...</td>\n",
       "      <td>-0.262556</td>\n",
       "      <td>0.011353</td>\n",
       "      <td>-0.353489</td>\n",
       "      <td>0.209535</td>\n",
       "      <td>-0.402682</td>\n",
       "      <td>-0.353866</td>\n",
       "      <td>0.106203</td>\n",
       "      <td>0.366540</td>\n",
       "      <td>0.218785</td>\n",
       "      <td>-0.080414</td>\n",
       "    </tr>\n",
       "  </tbody>\n",
       "</table>\n",
       "<p>5 rows × 43 columns</p>\n",
       "</div>"
      ],
      "text/plain": [
       "  Participant Gesture_ID Gesture_Num         0         1         2         3   \n",
       "0        P102        pan           1 -0.030730 -0.052976  0.176556 -0.048078  \\\n",
       "1        P102        pan           1  0.077533 -0.108477  0.128970 -0.032167   \n",
       "2        P102        pan           1  0.268279 -0.369027  0.268750  0.105239   \n",
       "3        P102        pan           1 -0.106155 -0.291958  0.270681  0.035371   \n",
       "4        P102        pan           1  0.673338 -0.345606  0.246740  0.238184   \n",
       "\n",
       "          4         5         6  ...        30        31        32        33   \n",
       "0 -0.390790 -2.119829  0.875118  ... -0.253283 -0.248582  0.283079 -0.178321  \\\n",
       "1 -0.182756 -1.604412  0.701500  ... -0.423007  0.097453  0.184025  0.027788   \n",
       "2 -0.190292 -2.093812  1.012038  ... -0.311882  0.138655 -0.067485  0.201313   \n",
       "3 -0.204143 -2.314179  0.801514  ... -0.585487 -0.100021  0.082335  0.042349   \n",
       "4  0.948365 -0.041183  0.279347  ... -0.262556  0.011353 -0.353489  0.209535   \n",
       "\n",
       "         34        35        36        37        38        39  \n",
       "0 -0.087101 -0.027081  0.000970  0.124380 -0.100580 -0.119294  \n",
       "1  0.112078 -0.414946 -0.210576  0.277156  0.051190 -0.039548  \n",
       "2 -0.051898 -0.479894 -0.079818  0.398142  0.058779 -0.095208  \n",
       "3 -0.179251 -0.106235 -0.034940  0.386797 -0.034177 -0.132103  \n",
       "4 -0.402682 -0.353866  0.106203  0.366540  0.218785 -0.080414  \n",
       "\n",
       "[5 rows x 43 columns]"
      ]
     },
     "execution_count": 9,
     "metadata": {},
     "output_type": "execute_result"
    }
   ],
   "source": [
    "PCA_df = pd.concat([metadata_cols_df, PCA_df], axis=1)\n",
    "PCA_df.head()"
   ]
  },
  {
   "cell_type": "markdown",
   "id": "9fc5fafc-e979-4687-9cb5-baf2792b0e68",
   "metadata": {},
   "source": [
    "# Dataset Differences: Which users perform which gestures?"
   ]
  },
  {
   "cell_type": "code",
   "execution_count": 13,
   "id": "4b6d0501-8b14-4078-b1a4-54a85e2f5f0c",
   "metadata": {},
   "outputs": [
    {
     "name": "stdout",
     "output_type": "stream",
     "text": [
      "Gestures that all users do: {'zoom-out', 'delete', 'pan', 'select-single', 'open', 'rotate', 'close', 'move', 'zoom-in', 'duplicate'}\n"
     ]
    }
   ],
   "source": [
    "# Script 1: Identify all gestures that all users do\n",
    "user_gestures = PCA_df.groupby('Participant')['Gesture_ID'].apply(set)\n",
    "common_gestures = set.intersection(*user_gestures)\n",
    "print(f\"Gestures that all users do: {common_gestures}\")\n"
   ]
  },
  {
   "cell_type": "code",
   "execution_count": 14,
   "id": "8ca3cdb7-fd85-4d11-9db2-9f8cf4b2bf4e",
   "metadata": {},
   "outputs": [],
   "source": [
    "num_users = len(PCA_df['Participant'].unique())"
   ]
  },
  {
   "cell_type": "code",
   "execution_count": 15,
   "id": "9cfb75c7-64d3-46aa-825b-eb0dc1289707",
   "metadata": {},
   "outputs": [
    {
     "name": "stdout",
     "output_type": "stream",
     "text": [
      "Each gesture is performed by the following users:\n",
      "\n",
      "close performed by 32 users: {'P112', 'P111', 'P128', 'P004', 'P005', 'P109', 'P115', 'P123', 'P107', 'P103', 'P114', 'P127', 'P006', 'P121', 'P122', 'P118', 'P110', 'P102', 'P010', 'P108', 'P126', 'P105', 'P008', 'P106', 'P011', 'P104', 'P132', 'P125', 'P116', 'P124', 'P131', 'P119'}\n",
      "\n",
      "delete performed by 32 users: {'P112', 'P111', 'P128', 'P004', 'P005', 'P109', 'P115', 'P123', 'P107', 'P103', 'P114', 'P127', 'P006', 'P121', 'P122', 'P118', 'P110', 'P102', 'P010', 'P108', 'P126', 'P105', 'P008', 'P106', 'P011', 'P104', 'P132', 'P125', 'P116', 'P124', 'P131', 'P119'}\n",
      "\n",
      "duplicate performed by 32 users: {'P112', 'P111', 'P128', 'P004', 'P005', 'P109', 'P115', 'P123', 'P107', 'P103', 'P114', 'P127', 'P006', 'P121', 'P122', 'P118', 'P110', 'P102', 'P010', 'P108', 'P126', 'P105', 'P008', 'P106', 'P011', 'P104', 'P132', 'P125', 'P116', 'P124', 'P131', 'P119'}\n",
      "\n",
      "move performed by 32 users: {'P112', 'P111', 'P128', 'P004', 'P005', 'P109', 'P115', 'P123', 'P107', 'P103', 'P114', 'P127', 'P006', 'P121', 'P122', 'P118', 'P110', 'P102', 'P010', 'P108', 'P126', 'P105', 'P008', 'P106', 'P011', 'P104', 'P132', 'P125', 'P116', 'P124', 'P131', 'P119'}\n",
      "\n",
      "open performed by 32 users: {'P112', 'P111', 'P128', 'P004', 'P005', 'P109', 'P115', 'P123', 'P107', 'P103', 'P114', 'P127', 'P006', 'P121', 'P122', 'P118', 'P110', 'P102', 'P010', 'P108', 'P126', 'P105', 'P008', 'P106', 'P011', 'P104', 'P132', 'P125', 'P116', 'P124', 'P131', 'P119'}\n",
      "\n",
      "pan performed by 32 users: {'P112', 'P111', 'P128', 'P004', 'P005', 'P109', 'P115', 'P123', 'P107', 'P103', 'P114', 'P127', 'P006', 'P121', 'P122', 'P118', 'P110', 'P102', 'P010', 'P108', 'P126', 'P105', 'P008', 'P106', 'P011', 'P104', 'P132', 'P125', 'P116', 'P124', 'P131', 'P119'}\n",
      "\n",
      "rotate performed by 32 users: {'P112', 'P111', 'P128', 'P004', 'P005', 'P109', 'P115', 'P123', 'P107', 'P103', 'P114', 'P127', 'P006', 'P121', 'P122', 'P118', 'P110', 'P102', 'P010', 'P108', 'P126', 'P105', 'P008', 'P106', 'P011', 'P104', 'P132', 'P125', 'P116', 'P124', 'P131', 'P119'}\n",
      "\n",
      "select-single performed by 32 users: {'P112', 'P111', 'P128', 'P004', 'P005', 'P109', 'P115', 'P123', 'P107', 'P103', 'P114', 'P127', 'P006', 'P121', 'P122', 'P118', 'P110', 'P102', 'P010', 'P108', 'P126', 'P105', 'P008', 'P106', 'P011', 'P104', 'P132', 'P125', 'P116', 'P124', 'P131', 'P119'}\n",
      "\n",
      "zoom-in performed by 32 users: {'P112', 'P111', 'P128', 'P004', 'P005', 'P109', 'P115', 'P123', 'P107', 'P103', 'P114', 'P127', 'P006', 'P121', 'P122', 'P118', 'P110', 'P102', 'P010', 'P108', 'P126', 'P105', 'P008', 'P106', 'P011', 'P104', 'P132', 'P125', 'P116', 'P124', 'P131', 'P119'}\n",
      "\n",
      "zoom-out performed by 32 users: {'P112', 'P111', 'P128', 'P004', 'P005', 'P109', 'P115', 'P123', 'P107', 'P103', 'P114', 'P127', 'P006', 'P121', 'P122', 'P118', 'P110', 'P102', 'P010', 'P108', 'P126', 'P105', 'P008', 'P106', 'P011', 'P104', 'P132', 'P125', 'P116', 'P124', 'P131', 'P119'}\n",
      "\n"
     ]
    }
   ],
   "source": [
    "# Script 2: Report which users do each gesture\n",
    "gesture_users = PCA_df.groupby('Gesture_ID')['Participant'].apply(set)\n",
    "print(\"Each gesture is performed by the following users:\\n\")\n",
    "all_users_lst = []\n",
    "for gesture_id, users in gesture_users.items():\n",
    "    print(f\"{gesture_id} performed by {len(users)} users: {users}\\n\")\n",
    "    if len(users)==num_users: #31 is all users!\n",
    "        all_users_lst.append(gesture_id)\n",
    "        "
   ]
  },
  {
   "cell_type": "markdown",
   "id": "401de14e-c316-46a0-a497-72e213ef7881",
   "metadata": {},
   "source": [
    "Limiting it to just the gestures that all users perform:"
   ]
  },
  {
   "cell_type": "code",
   "execution_count": 16,
   "id": "d539f275-b855-42e5-bd3f-99d407fa8e0d",
   "metadata": {},
   "outputs": [
    {
     "data": {
      "text/plain": [
       "['close',\n",
       " 'delete',\n",
       " 'duplicate',\n",
       " 'move',\n",
       " 'open',\n",
       " 'pan',\n",
       " 'rotate',\n",
       " 'select-single',\n",
       " 'zoom-in',\n",
       " 'zoom-out']"
      ]
     },
     "execution_count": 16,
     "metadata": {},
     "output_type": "execute_result"
    }
   ],
   "source": [
    "all_users_lst"
   ]
  },
  {
   "cell_type": "code",
   "execution_count": 17,
   "id": "035143e9-a61e-4bd5-bb71-d5c2a328fd91",
   "metadata": {},
   "outputs": [],
   "source": [
    "gestures_perf_by_all_users_df = PCA_df[PCA_df['Gesture_ID'].isin(all_users_lst)]"
   ]
  },
  {
   "cell_type": "code",
   "execution_count": 18,
   "id": "323115f3-a6b6-4e86-ac06-58df13f74273",
   "metadata": {},
   "outputs": [
    {
     "data": {
      "text/plain": [
       "3200.0"
      ]
     },
     "execution_count": 18,
     "metadata": {},
     "output_type": "execute_result"
    }
   ],
   "source": [
    "gestures_perf_by_all_users_df.shape[0]/64"
   ]
  },
  {
   "cell_type": "code",
   "execution_count": 19,
   "id": "7830bc10-256c-4951-a9d5-da9b99801f2f",
   "metadata": {},
   "outputs": [
    {
     "data": {
      "text/plain": [
       "103.2258064516129"
      ]
     },
     "execution_count": 19,
     "metadata": {},
     "output_type": "execute_result"
    }
   ],
   "source": [
    "gestures_perf_by_all_users_df.shape[0]/64/31"
   ]
  },
  {
   "cell_type": "code",
   "execution_count": 20,
   "id": "7dbda04b-6a03-4b55-90ac-f7988ca6625b",
   "metadata": {},
   "outputs": [
    {
     "name": "stdout",
     "output_type": "stream",
     "text": [
      "   Participant  Unique Gesture Types  Total Gestures\n",
      "0         P004                    10             100\n",
      "1         P005                    10             100\n",
      "2         P006                    10             100\n",
      "3         P008                    10             100\n",
      "4         P010                    10             100\n",
      "5         P011                    10             100\n",
      "6         P102                    10             100\n",
      "7         P103                    10             100\n",
      "8         P104                    10             100\n",
      "9         P105                    10             100\n",
      "10        P106                    10             100\n",
      "11        P107                    10             100\n",
      "12        P108                    10             100\n",
      "13        P109                    10             100\n",
      "14        P110                    10             100\n",
      "15        P111                    10             100\n",
      "16        P112                    10             100\n",
      "17        P114                    10             100\n",
      "18        P115                    10             100\n",
      "19        P116                    10             100\n",
      "20        P118                    10             100\n",
      "21        P119                    10             100\n",
      "22        P121                    10             100\n",
      "23        P122                    10             100\n",
      "24        P123                    10             100\n",
      "25        P124                    10             100\n",
      "26        P125                    10             100\n",
      "27        P126                    10             100\n",
      "28        P127                    10             100\n",
      "29        P128                    10             100\n",
      "30        P131                    10             100\n",
      "31        P132                    10             100\n"
     ]
    }
   ],
   "source": [
    "# Group by User ID and Gesture ID, then count unique Gesture Num\n",
    "gesture_counts = gestures_perf_by_all_users_df.groupby(['Participant', 'Gesture_ID'])['Gesture_Num'].nunique().reset_index()\n",
    "\n",
    "# Count the number of unique gesture types each user performs\n",
    "unique_gesture_types = gesture_counts.groupby('Participant')['Gesture_ID'].nunique().reset_index(name='Unique Gesture Types')\n",
    "\n",
    "# Count the total number of gestures each user performs (total number of gesture trials)\n",
    "total_gestures = gesture_counts.groupby('Participant')['Gesture_Num'].sum().reset_index(name='Total Gestures')\n",
    "\n",
    "# Merge the results into a single DataFrame for better readability\n",
    "user_gesture_stats = pd.merge(unique_gesture_types, total_gestures, on='Participant')\n",
    "\n",
    "# Display the result\n",
    "print(user_gesture_stats)\n"
   ]
  },
  {
   "cell_type": "markdown",
   "id": "28f854af-ee79-44fa-bf4b-7c61021198a2",
   "metadata": {},
   "source": [
    "Okay, so most people perform 180 gestures, and a few perform 177. So perhaps we can just drop 3 gestures from the 180 users so that everyone is doing the same 177? Need to double check that each user is actually performing the same gestures the same number of times, eg that user 1 isn't doing gesture 1 like 50 times and gesture 2 10 times, and user 2 is doing the reverse (and thus would end up with the same number of total gestures and unique gesture types)\n",
    "> This was a comment on the original output."
   ]
  },
  {
   "cell_type": "markdown",
   "id": "3deac8c3-78ca-410a-a92f-65d2de310c04",
   "metadata": {},
   "source": [
    "# Archive\n",
    "> Didnt rerun anything below this, keeping this in case I want to use the full dataset later..."
   ]
  },
  {
   "cell_type": "markdown",
   "id": "7e93b7ed-ab69-4e3b-95cd-77e4cf2c8f6e",
   "metadata": {},
   "source": [
    "Identify the users with missing gestures and figure out which gestures those were"
   ]
  },
  {
   "cell_type": "code",
   "execution_count": 20,
   "id": "351e4a71-3724-45b3-bfe2-051a731c199a",
   "metadata": {},
   "outputs": [
    {
     "name": "stdout",
     "output_type": "stream",
     "text": [
      "Missing Gestures for Users with Fewer Than 180 Gestures:\n",
      "User P114 is missing the following gestures:\n",
      "    Gesture_ID Gesture_Num\n",
      "106     normal           6\n",
      "107     normal           7\n",
      "129        pan           9\n",
      "\n",
      "User P122 is missing the following gestures:\n",
      "   Gesture_ID Gesture_Num\n",
      "87  gesture-5           7\n",
      "\n",
      "User P123 is missing the following gestures:\n",
      "    Gesture_ID Gesture_Num\n",
      "44   gesture-1           4\n",
      "127        pan           7\n",
      "177   zoom-out           7\n",
      "\n",
      "User P127 is missing the following gestures:\n",
      "        Gesture_ID Gesture_Num\n",
      "153  select-single           3\n",
      "167        zoom-in           7\n",
      "176       zoom-out           6\n",
      "\n"
     ]
    }
   ],
   "source": [
    "# Group by User ID, Gesture ID, and Gesture Num to find the count of gestures each user performs\n",
    "gesture_counts = gestures_perf_by_all_users_df.groupby(['Participant', 'Gesture_ID', 'Gesture_Num']).size().reset_index(name='Count')\n",
    "\n",
    "# Find users with fewer than 180 gestures\n",
    "user_gesture_counts = gesture_counts.groupby('Participant').size().reset_index(name='Total Gestures')\n",
    "incomplete_users = user_gesture_counts[user_gesture_counts['Total Gestures'] < 180]['Participant']\n",
    "\n",
    "# Find which gestures are missing for these users\n",
    "missing_gestures = {}\n",
    "for user in incomplete_users:\n",
    "    user_gestures = gesture_counts[gesture_counts['Participant'] == user][['Gesture_ID', 'Gesture_Num']]\n",
    "    all_gestures = gesture_counts[['Gesture_ID', 'Gesture_Num']].drop_duplicates()\n",
    "    missing_gestures[user] = pd.merge(all_gestures, user_gestures, on=['Gesture_ID', 'Gesture_Num'], how='left', indicator=True)\n",
    "    missing_gestures[user] = missing_gestures[user][missing_gestures[user]['_merge'] == 'left_only'][['Gesture_ID', 'Gesture_Num']]\n",
    "\n",
    "print(\"Missing Gestures for Users with Fewer Than 180 Gestures:\")\n",
    "for user, missing in missing_gestures.items():\n",
    "    print(f\"User {user} is missing the following gestures:\")\n",
    "    print(missing)\n",
    "    print()"
   ]
  },
  {
   "cell_type": "markdown",
   "id": "67ea1e63-f88b-4fd7-8919-21a3d1afd9ad",
   "metadata": {},
   "source": [
    "Creating a consistent dataset (one for each user) that has the same number of gestures and types of gestures, in corresponding rows"
   ]
  },
  {
   "cell_type": "code",
   "execution_count": 21,
   "id": "18e1adf3-0330-4dae-9d3b-d8848cc4408a",
   "metadata": {},
   "outputs": [
    {
     "name": "stdout",
     "output_type": "stream",
     "text": [
      "Missing Gestures for Users with Fewer Than 180 Gestures:\n",
      "User P114 is missing the following gestures:\n",
      "    Gesture_ID Gesture_Num\n",
      "106     normal           6\n",
      "107     normal           7\n",
      "129        pan           9\n",
      "User P122 is missing the following gestures:\n",
      "   Gesture_ID Gesture_Num\n",
      "87  gesture-5           7\n",
      "User P123 is missing the following gestures:\n",
      "    Gesture_ID Gesture_Num\n",
      "44   gesture-1           4\n",
      "127        pan           7\n",
      "177   zoom-out           7\n",
      "User P127 is missing the following gestures:\n",
      "        Gesture_ID Gesture_Num\n",
      "153  select-single           3\n",
      "167        zoom-in           7\n",
      "176       zoom-out           6\n"
     ]
    }
   ],
   "source": [
    "# Group by User ID, Gesture ID, and Gesture Num to find the count of gestures each user performs\n",
    "gesture_counts = gestures_perf_by_all_users_df.groupby(['Participant', 'Gesture_ID', 'Gesture_Num']).size().reset_index(name='Count')\n",
    "\n",
    "# Find users with fewer than 180 gestures\n",
    "user_gesture_counts = gesture_counts.groupby('Participant').size().reset_index(name='Total Gestures')\n",
    "incomplete_users = user_gesture_counts[user_gesture_counts['Total Gestures'] < 180]['Participant']\n",
    "\n",
    "# Find which gestures are missing for these users\n",
    "missing_gestures = {}\n",
    "for user in incomplete_users:\n",
    "    user_gestures = gesture_counts[gesture_counts['Participant'] == user][['Gesture_ID', 'Gesture_Num']]\n",
    "    all_gestures = gesture_counts[['Gesture_ID', 'Gesture_Num']].drop_duplicates()\n",
    "    missing_gestures[user] = pd.merge(all_gestures, user_gestures, on=['Gesture_ID', 'Gesture_Num'], how='left', indicator=True)\n",
    "    missing_gestures[user] = missing_gestures[user][missing_gestures[user]['_merge'] == 'left_only'][['Gesture_ID', 'Gesture_Num']]\n",
    "\n",
    "print(\"Missing Gestures for Users with Fewer Than 180 Gestures:\")\n",
    "for user, missing in missing_gestures.items():\n",
    "    print(f\"User {user} is missing the following gestures:\")\n",
    "    print(missing)"
   ]
  },
  {
   "cell_type": "markdown",
   "id": "0e36b65c-8710-42e5-9480-cf2e7a360b81",
   "metadata": {},
   "source": [
    "Me editing it to make the rows correct:"
   ]
  },
  {
   "cell_type": "code",
   "execution_count": 22,
   "id": "6dc1b8d0-448c-4771-a0aa-6b258cb96d3a",
   "metadata": {},
   "outputs": [
    {
     "name": "stdout",
     "output_type": "stream",
     "text": [
      "User P102 dataset has 11520 gestures\n",
      "User P103 dataset has 11520 gestures\n",
      "User P104 dataset has 11520 gestures\n",
      "User P105 dataset has 11520 gestures\n",
      "User P106 dataset has 11520 gestures\n",
      "User P107 dataset has 11520 gestures\n",
      "User P108 dataset has 11520 gestures\n",
      "User P109 dataset has 11520 gestures\n",
      "User P110 dataset has 11520 gestures\n",
      "User P111 dataset has 11520 gestures\n",
      "User P112 dataset has 11520 gestures\n",
      "User P114 dataset has 11328 gestures\n",
      "User P115 dataset has 11520 gestures\n",
      "User P116 dataset has 11520 gestures\n",
      "User P118 dataset has 11520 gestures\n",
      "User P119 dataset has 11520 gestures\n",
      "User P121 dataset has 11520 gestures\n",
      "User P122 dataset has 11456 gestures\n",
      "User P123 dataset has 11328 gestures\n",
      "User P124 dataset has 11520 gestures\n",
      "User P125 dataset has 11520 gestures\n",
      "User P126 dataset has 11520 gestures\n",
      "User P127 dataset has 11328 gestures\n",
      "User P128 dataset has 11520 gestures\n",
      "User P132 dataset has 11520 gestures\n",
      "User P004 dataset has 11520 gestures\n",
      "User P005 dataset has 11520 gestures\n",
      "User P006 dataset has 11520 gestures\n",
      "User P008 dataset has 11520 gestures\n",
      "User P010 dataset has 11520 gestures\n",
      "User P011 dataset has 11520 gestures\n"
     ]
    }
   ],
   "source": [
    "# Find the minimum number of gestures any user performs\n",
    "min_gestures = 177\n",
    "\n",
    "# Create a consistent dataset\n",
    "consistent_datasets = {}\n",
    "\n",
    "for user_id in gestures_perf_by_all_users_df['Participant'].unique():\n",
    "    user_data = gestures_perf_by_all_users_df[gestures_perf_by_all_users_df['Participant'] == user_id]\n",
    "    \n",
    "    # Drop the missing gestures from all users\n",
    "    if user_id in missing_gestures:\n",
    "        gestures_to_drop = missing_gestures[user_id]\n",
    "        for _, row in gestures_to_drop.iterrows():\n",
    "            user_data = user_data[~((user_data['Gesture_ID'] == row['Gesture_ID']) & (user_data['Gesture_Num'] == row['Gesture_Num']))]\n",
    "    \n",
    "    consistent_datasets[user_id] = user_data\n",
    "\n",
    "# Verify the consistency of the dataset for each user\n",
    "for user_id, data in consistent_datasets.items():\n",
    "    print(f\"User {user_id} dataset has {len(data)} gestures\")\n",
    "\n",
    "# Example of accessing the consistent dataset for a specific user\n",
    "user_id = list(consistent_datasets.keys())[0]\n",
    "consistent_user_data = consistent_datasets[user_id]\n"
   ]
  },
  {
   "cell_type": "code",
   "execution_count": 23,
   "id": "a44f419b-b8a5-493a-b285-e257ebf2a7f7",
   "metadata": {},
   "outputs": [
    {
     "name": "stdout",
     "output_type": "stream",
     "text": [
      "Unique missing (Gesture_ID, Gesture_Num) tuples:\n",
      "('normal', '6')\n",
      "('select-single', '3')\n",
      "('pan', '9')\n",
      "('gesture-5', '7')\n",
      "('pan', '7')\n",
      "('zoom-out', '7')\n",
      "('gesture-1', '4')\n",
      "('zoom-in', '7')\n",
      "('zoom-out', '6')\n",
      "('normal', '7')\n"
     ]
    }
   ],
   "source": [
    "# From missing gestures, extract a set of all the missing gestures (without the IDs): \n",
    "## eg gesture_ID and gesture_num pair to uniquely specify which gestures\n",
    "\n",
    "# Initialize an empty set to store unique missing (Gesture_ID, Gesture_Num) tuples\n",
    "missing_gestures_tuples_set = set()\n",
    "\n",
    "# Iterate over the dictionary and add each missing gesture tuple to the set\n",
    "for user, missing in missing_gestures.items():\n",
    "    for _, row in missing.iterrows():\n",
    "        missing_gestures_tuples_set.add((row['Gesture_ID'], row['Gesture_Num']))\n",
    "\n",
    "# Convert the set to a list for display purposes (optional)\n",
    "missing_gesture_tuples_lst = list(missing_gestures_tuples_set)\n",
    "\n",
    "# Print the unique missing gestures\n",
    "print(\"Unique missing (Gesture_ID, Gesture_Num) tuples:\")\n",
    "for gesture in missing_gesture_tuples_lst:\n",
    "    print(gesture)"
   ]
  },
  {
   "cell_type": "markdown",
   "id": "4b0472d8-64ce-4d33-8771-13d3833e42aa",
   "metadata": {},
   "source": [
    "Now drop these specific gestures from every single user so all users have the same size dataset!"
   ]
  },
  {
   "cell_type": "code",
   "execution_count": 24,
   "id": "2eb19807-be30-470c-aaee-b29154829cba",
   "metadata": {},
   "outputs": [
    {
     "name": "stdout",
     "output_type": "stream",
     "text": [
      "User P102 dataset has 10880 rows (170.0 gestures) after dropping missing gestures\n",
      "User P103 dataset has 10880 rows (170.0 gestures) after dropping missing gestures\n",
      "User P104 dataset has 10880 rows (170.0 gestures) after dropping missing gestures\n",
      "User P105 dataset has 10880 rows (170.0 gestures) after dropping missing gestures\n",
      "User P106 dataset has 10880 rows (170.0 gestures) after dropping missing gestures\n",
      "User P107 dataset has 10880 rows (170.0 gestures) after dropping missing gestures\n",
      "User P108 dataset has 10880 rows (170.0 gestures) after dropping missing gestures\n",
      "User P109 dataset has 10880 rows (170.0 gestures) after dropping missing gestures\n",
      "User P110 dataset has 10880 rows (170.0 gestures) after dropping missing gestures\n",
      "User P111 dataset has 10880 rows (170.0 gestures) after dropping missing gestures\n",
      "User P112 dataset has 10880 rows (170.0 gestures) after dropping missing gestures\n",
      "User P114 dataset has 10880 rows (170.0 gestures) after dropping missing gestures\n",
      "User P115 dataset has 10880 rows (170.0 gestures) after dropping missing gestures\n",
      "User P116 dataset has 10880 rows (170.0 gestures) after dropping missing gestures\n",
      "User P118 dataset has 10880 rows (170.0 gestures) after dropping missing gestures\n",
      "User P119 dataset has 10880 rows (170.0 gestures) after dropping missing gestures\n",
      "User P121 dataset has 10880 rows (170.0 gestures) after dropping missing gestures\n",
      "User P122 dataset has 10880 rows (170.0 gestures) after dropping missing gestures\n",
      "User P123 dataset has 10880 rows (170.0 gestures) after dropping missing gestures\n",
      "User P124 dataset has 10880 rows (170.0 gestures) after dropping missing gestures\n",
      "User P125 dataset has 10880 rows (170.0 gestures) after dropping missing gestures\n",
      "User P126 dataset has 10880 rows (170.0 gestures) after dropping missing gestures\n",
      "User P127 dataset has 10880 rows (170.0 gestures) after dropping missing gestures\n",
      "User P128 dataset has 10880 rows (170.0 gestures) after dropping missing gestures\n",
      "User P132 dataset has 10880 rows (170.0 gestures) after dropping missing gestures\n",
      "User P004 dataset has 10880 rows (170.0 gestures) after dropping missing gestures\n",
      "User P005 dataset has 10880 rows (170.0 gestures) after dropping missing gestures\n",
      "User P006 dataset has 10880 rows (170.0 gestures) after dropping missing gestures\n",
      "User P008 dataset has 10880 rows (170.0 gestures) after dropping missing gestures\n",
      "User P010 dataset has 10880 rows (170.0 gestures) after dropping missing gestures\n",
      "User P011 dataset has 10880 rows (170.0 gestures) after dropping missing gestures\n"
     ]
    }
   ],
   "source": [
    "missing_gesture_list = missing_gesture_tuples_lst\n",
    "\n",
    "# Now drop these gestures from every user's dataset\n",
    "# Create a consistent dataset with the remaining gestures\n",
    "consistent_datasets = {}\n",
    "\n",
    "for user_id in gestures_perf_by_all_users_df['Participant'].unique():\n",
    "    user_data = gestures_perf_by_all_users_df[gestures_perf_by_all_users_df['Participant'] == user_id].copy()\n",
    "    \n",
    "    # Drop gestures corresponding to the unique missing tuples\n",
    "    for gesture_id, gesture_num in missing_gestures_tuples_set:\n",
    "        user_data = user_data[~((user_data['Gesture_ID'] == gesture_id) & (user_data['Gesture_Num'] == gesture_num))].reset_index(drop=True)\n",
    "    \n",
    "    consistent_datasets[user_id] = user_data\n",
    "\n",
    "# Verify the consistency of the dataset for each user\n",
    "for user_id, data in consistent_datasets.items():\n",
    "    print(f\"User {user_id} dataset has {len(data)} rows ({len(data)/64} gestures) after dropping missing gestures\")\n",
    "\n",
    "# Example of accessing the consistent dataset for a specific user\n",
    "user_id = list(consistent_datasets.keys())[0]\n",
    "consistent_user_data = consistent_datasets[user_id]\n"
   ]
  },
  {
   "cell_type": "code",
   "execution_count": 25,
   "id": "93a8a55c-31b7-4a9a-ac38-ceaa81d91658",
   "metadata": {},
   "outputs": [
    {
     "name": "stdout",
     "output_type": "stream",
     "text": [
      "Consistent dataset for User P102:\n",
      "(10880, 43)\n"
     ]
    },
    {
     "data": {
      "text/html": [
       "<div>\n",
       "<style scoped>\n",
       "    .dataframe tbody tr th:only-of-type {\n",
       "        vertical-align: middle;\n",
       "    }\n",
       "\n",
       "    .dataframe tbody tr th {\n",
       "        vertical-align: top;\n",
       "    }\n",
       "\n",
       "    .dataframe thead th {\n",
       "        text-align: right;\n",
       "    }\n",
       "</style>\n",
       "<table border=\"1\" class=\"dataframe\">\n",
       "  <thead>\n",
       "    <tr style=\"text-align: right;\">\n",
       "      <th></th>\n",
       "      <th>Participant</th>\n",
       "      <th>Gesture_ID</th>\n",
       "      <th>Gesture_Num</th>\n",
       "      <th>0</th>\n",
       "      <th>1</th>\n",
       "      <th>2</th>\n",
       "      <th>3</th>\n",
       "      <th>4</th>\n",
       "      <th>5</th>\n",
       "      <th>6</th>\n",
       "      <th>...</th>\n",
       "      <th>30</th>\n",
       "      <th>31</th>\n",
       "      <th>32</th>\n",
       "      <th>33</th>\n",
       "      <th>34</th>\n",
       "      <th>35</th>\n",
       "      <th>36</th>\n",
       "      <th>37</th>\n",
       "      <th>38</th>\n",
       "      <th>39</th>\n",
       "    </tr>\n",
       "  </thead>\n",
       "  <tbody>\n",
       "    <tr>\n",
       "      <th>0</th>\n",
       "      <td>P102</td>\n",
       "      <td>pan</td>\n",
       "      <td>1</td>\n",
       "      <td>-0.027903</td>\n",
       "      <td>0.001411</td>\n",
       "      <td>-0.019509</td>\n",
       "      <td>0.013428</td>\n",
       "      <td>-0.019699</td>\n",
       "      <td>0.027333</td>\n",
       "      <td>-0.031254</td>\n",
       "      <td>...</td>\n",
       "      <td>-0.019453</td>\n",
       "      <td>0.062983</td>\n",
       "      <td>-0.025869</td>\n",
       "      <td>0.014303</td>\n",
       "      <td>-0.013387</td>\n",
       "      <td>-0.037645</td>\n",
       "      <td>-0.186270</td>\n",
       "      <td>-0.046251</td>\n",
       "      <td>-0.104630</td>\n",
       "      <td>-0.002939</td>\n",
       "    </tr>\n",
       "    <tr>\n",
       "      <th>1</th>\n",
       "      <td>P102</td>\n",
       "      <td>pan</td>\n",
       "      <td>1</td>\n",
       "      <td>-0.038982</td>\n",
       "      <td>0.006470</td>\n",
       "      <td>-0.000111</td>\n",
       "      <td>0.010904</td>\n",
       "      <td>-0.015323</td>\n",
       "      <td>0.031336</td>\n",
       "      <td>-0.007901</td>\n",
       "      <td>...</td>\n",
       "      <td>0.041438</td>\n",
       "      <td>0.035053</td>\n",
       "      <td>-0.056843</td>\n",
       "      <td>-0.008895</td>\n",
       "      <td>-0.022542</td>\n",
       "      <td>-0.022563</td>\n",
       "      <td>-0.160826</td>\n",
       "      <td>-0.048161</td>\n",
       "      <td>-0.073771</td>\n",
       "      <td>0.043268</td>\n",
       "    </tr>\n",
       "    <tr>\n",
       "      <th>2</th>\n",
       "      <td>P102</td>\n",
       "      <td>pan</td>\n",
       "      <td>1</td>\n",
       "      <td>-0.116782</td>\n",
       "      <td>0.003824</td>\n",
       "      <td>0.011550</td>\n",
       "      <td>-0.014612</td>\n",
       "      <td>-0.093325</td>\n",
       "      <td>0.081718</td>\n",
       "      <td>-0.013155</td>\n",
       "      <td>...</td>\n",
       "      <td>-0.014298</td>\n",
       "      <td>0.072109</td>\n",
       "      <td>-0.026536</td>\n",
       "      <td>-0.034365</td>\n",
       "      <td>0.018695</td>\n",
       "      <td>-0.011940</td>\n",
       "      <td>-0.160580</td>\n",
       "      <td>-0.041831</td>\n",
       "      <td>-0.109653</td>\n",
       "      <td>0.027043</td>\n",
       "    </tr>\n",
       "    <tr>\n",
       "      <th>3</th>\n",
       "      <td>P102</td>\n",
       "      <td>pan</td>\n",
       "      <td>1</td>\n",
       "      <td>-0.030245</td>\n",
       "      <td>-0.017409</td>\n",
       "      <td>0.022540</td>\n",
       "      <td>-0.048905</td>\n",
       "      <td>-0.029129</td>\n",
       "      <td>0.090026</td>\n",
       "      <td>-0.024645</td>\n",
       "      <td>...</td>\n",
       "      <td>-0.010992</td>\n",
       "      <td>0.059990</td>\n",
       "      <td>-0.097073</td>\n",
       "      <td>-0.056870</td>\n",
       "      <td>-0.001038</td>\n",
       "      <td>-0.008015</td>\n",
       "      <td>-0.165858</td>\n",
       "      <td>-0.049424</td>\n",
       "      <td>-0.108671</td>\n",
       "      <td>0.069886</td>\n",
       "    </tr>\n",
       "    <tr>\n",
       "      <th>4</th>\n",
       "      <td>P102</td>\n",
       "      <td>pan</td>\n",
       "      <td>1</td>\n",
       "      <td>-0.112950</td>\n",
       "      <td>0.026262</td>\n",
       "      <td>0.004837</td>\n",
       "      <td>-0.063254</td>\n",
       "      <td>-0.108892</td>\n",
       "      <td>0.198729</td>\n",
       "      <td>-0.010583</td>\n",
       "      <td>...</td>\n",
       "      <td>0.035735</td>\n",
       "      <td>0.050880</td>\n",
       "      <td>-0.093678</td>\n",
       "      <td>-0.131263</td>\n",
       "      <td>0.018035</td>\n",
       "      <td>0.056185</td>\n",
       "      <td>-0.157963</td>\n",
       "      <td>-0.041911</td>\n",
       "      <td>-0.145308</td>\n",
       "      <td>0.063311</td>\n",
       "    </tr>\n",
       "  </tbody>\n",
       "</table>\n",
       "<p>5 rows × 43 columns</p>\n",
       "</div>"
      ],
      "text/plain": [
       "  Participant Gesture_ID Gesture_Num         0         1         2         3   \n",
       "0        P102        pan           1 -0.027903  0.001411 -0.019509  0.013428  \\\n",
       "1        P102        pan           1 -0.038982  0.006470 -0.000111  0.010904   \n",
       "2        P102        pan           1 -0.116782  0.003824  0.011550 -0.014612   \n",
       "3        P102        pan           1 -0.030245 -0.017409  0.022540 -0.048905   \n",
       "4        P102        pan           1 -0.112950  0.026262  0.004837 -0.063254   \n",
       "\n",
       "          4         5         6  ...        30        31        32        33   \n",
       "0 -0.019699  0.027333 -0.031254  ... -0.019453  0.062983 -0.025869  0.014303  \\\n",
       "1 -0.015323  0.031336 -0.007901  ...  0.041438  0.035053 -0.056843 -0.008895   \n",
       "2 -0.093325  0.081718 -0.013155  ... -0.014298  0.072109 -0.026536 -0.034365   \n",
       "3 -0.029129  0.090026 -0.024645  ... -0.010992  0.059990 -0.097073 -0.056870   \n",
       "4 -0.108892  0.198729 -0.010583  ...  0.035735  0.050880 -0.093678 -0.131263   \n",
       "\n",
       "         34        35        36        37        38        39  \n",
       "0 -0.013387 -0.037645 -0.186270 -0.046251 -0.104630 -0.002939  \n",
       "1 -0.022542 -0.022563 -0.160826 -0.048161 -0.073771  0.043268  \n",
       "2  0.018695 -0.011940 -0.160580 -0.041831 -0.109653  0.027043  \n",
       "3 -0.001038 -0.008015 -0.165858 -0.049424 -0.108671  0.069886  \n",
       "4  0.018035  0.056185 -0.157963 -0.041911 -0.145308  0.063311  \n",
       "\n",
       "[5 rows x 43 columns]"
      ]
     },
     "execution_count": 25,
     "metadata": {},
     "output_type": "execute_result"
    }
   ],
   "source": [
    "print(f\"Consistent dataset for User {user_id}:\")\n",
    "print(consistent_user_data.shape)\n",
    "consistent_user_data.head()"
   ]
  },
  {
   "cell_type": "markdown",
   "id": "0aed0060-bb56-40e7-9e0f-94134713ab50",
   "metadata": {},
   "source": [
    "Unit test: make sure all users have all the same gestures, all the same number of gesture trials for each gesture, and all the gestures are in the same order (eg, that user datasets can be directly compared)"
   ]
  },
  {
   "cell_type": "code",
   "execution_count": 26,
   "id": "095c7039-1a9e-4f0a-a58c-92c5a3f24ff4",
   "metadata": {},
   "outputs": [
    {
     "name": "stdout",
     "output_type": "stream",
     "text": [
      "User P102 has the same gesture tuples.\n",
      "User P103 has the same gesture tuples.\n",
      "User P104 has the same gesture tuples.\n",
      "User P105 has the same gesture tuples.\n",
      "User P106 has the same gesture tuples.\n",
      "User P107 has the same gesture tuples.\n",
      "User P108 has the same gesture tuples.\n",
      "User P109 has the same gesture tuples.\n",
      "User P110 has the same gesture tuples.\n",
      "User P111 has the same gesture tuples.\n",
      "User P112 has the same gesture tuples.\n",
      "User P114 has the same gesture tuples.\n",
      "User P115 has the same gesture tuples.\n",
      "User P116 has the same gesture tuples.\n",
      "User P118 has the same gesture tuples.\n",
      "User P119 has the same gesture tuples.\n",
      "User P121 has the same gesture tuples.\n",
      "User P122 has the same gesture tuples.\n",
      "User P123 has the same gesture tuples.\n",
      "User P124 has the same gesture tuples.\n",
      "User P125 has the same gesture tuples.\n",
      "User P126 has the same gesture tuples.\n",
      "User P127 has the same gesture tuples.\n",
      "User P128 has the same gesture tuples.\n",
      "User P132 has the same gesture tuples.\n",
      "User P004 has the same gesture tuples.\n",
      "User P005 has the same gesture tuples.\n",
      "User P006 has the same gesture tuples.\n",
      "User P008 has the same gesture tuples.\n",
      "User P010 has the same gesture tuples.\n",
      "User P011 has the same gesture tuples.\n",
      "User P102 has the same gesture order.\n",
      "User P103 does not have the same gesture order.\n",
      "User P104 does not have the same gesture order.\n",
      "User P105 does not have the same gesture order.\n",
      "User P106 does not have the same gesture order.\n",
      "User P107 does not have the same gesture order.\n",
      "User P108 does not have the same gesture order.\n",
      "User P109 does not have the same gesture order.\n",
      "User P110 does not have the same gesture order.\n",
      "User P111 does not have the same gesture order.\n",
      "User P112 does not have the same gesture order.\n",
      "User P114 does not have the same gesture order.\n",
      "User P115 does not have the same gesture order.\n",
      "User P116 does not have the same gesture order.\n",
      "User P118 does not have the same gesture order.\n",
      "User P119 does not have the same gesture order.\n",
      "User P121 does not have the same gesture order.\n",
      "User P122 does not have the same gesture order.\n",
      "User P123 does not have the same gesture order.\n",
      "User P124 does not have the same gesture order.\n",
      "User P125 does not have the same gesture order.\n",
      "User P126 does not have the same gesture order.\n",
      "User P127 does not have the same gesture order.\n",
      "User P128 does not have the same gesture order.\n",
      "User P132 does not have the same gesture order.\n",
      "User P004 does not have the same gesture order.\n",
      "User P005 does not have the same gesture order.\n",
      "User P006 does not have the same gesture order.\n",
      "User P008 does not have the same gesture order.\n",
      "User P010 does not have the same gesture order.\n",
      "User P011 does not have the same gesture order.\n",
      "There are discrepancies in gesture tuples or their order among users.\n"
     ]
    }
   ],
   "source": [
    "# Step 1: Create a set of all (Gesture_ID, Gesture_Num) tuples for each user\n",
    "user_gesture_tuples = {}\n",
    "for user_id, data in consistent_datasets.items():\n",
    "    user_gesture_tuples[user_id] = set(zip(data['Gesture_ID'], data['Gesture_Num']))\n",
    "\n",
    "# Step 2: Ensure each user has all the tuples present\n",
    "reference_tuples = user_gesture_tuples[list(consistent_datasets.keys())[0]]\n",
    "\n",
    "all_users_have_same_tuples = True\n",
    "for user_id, tuples in user_gesture_tuples.items():\n",
    "    if tuples != reference_tuples:\n",
    "        all_users_have_same_tuples = False\n",
    "        print(f\"User {user_id} does not have the same gesture tuples.\")\n",
    "    else:\n",
    "        print(f\"User {user_id} has the same gesture tuples.\")\n",
    "\n",
    "# Step 3: Ensure all tuples are in the same order for all users\n",
    "order_consistency = True\n",
    "reference_order = consistent_datasets[list(consistent_datasets.keys())[0]].sort_values(by=['Gesture_ID', 'Gesture_Num']).reset_index(drop=True)\n",
    "for user_id, data in consistent_datasets.items():\n",
    "    user_order = data.sort_values(by=['Gesture_ID', 'Gesture_Num']).reset_index(drop=True)\n",
    "    if not user_order.equals(reference_order):\n",
    "        order_consistency = False\n",
    "        print(f\"User {user_id} does not have the same gesture order.\")\n",
    "    else:\n",
    "        print(f\"User {user_id} has the same gesture order.\")\n",
    "\n",
    "if all_users_have_same_tuples and order_consistency:\n",
    "    print(\"All users have the same gesture tuples in the same order.\")\n",
    "else:\n",
    "    print(\"There are discrepancies in gesture tuples or their order among users.\")"
   ]
  },
  {
   "cell_type": "markdown",
   "id": "05b46133-c7dc-4009-b6a7-3afcce088832",
   "metadata": {},
   "source": [
    "Not very confident in the above analysis. I think the order is actually the same for all users. This is confirmed below"
   ]
  },
  {
   "cell_type": "code",
   "execution_count": 27,
   "id": "cd9baea4-9640-426b-8731-3ca45ff210d1",
   "metadata": {},
   "outputs": [],
   "source": [
    "# Initialize an empty list to store unique (Gesture_ID, Gesture_Num) tuples\n",
    "unique_gestures_list = []\n",
    "\n",
    "# Iterate over the data and add each unique gesture tuple to the list\n",
    "for user_id, data in consistent_datasets.items():\n",
    "    for index, row in data[['Gesture_ID', 'Gesture_Num']].drop_duplicates().iterrows():\n",
    "        unique_gestures_list.append((row['Gesture_ID'], row['Gesture_Num']))\n",
    "\n",
    "# Remove duplicates from the list\n",
    "unique_gestures_list = list(set(unique_gestures_list))\n",
    "\n",
    "# Sort the unique gestures list\n",
    "unique_gestures_list.sort()\n",
    "\n",
    "# Create a DataFrame with rows as integers and columns as user IDs\n",
    "gesture_user_df = pd.DataFrame(index=range(len(unique_gestures_list)), columns=consistent_datasets.keys())\n",
    "\n",
    "# Populate the DataFrame with the corresponding tuple from the original datasets\n",
    "for user_id, data in consistent_datasets.items():\n",
    "    for i, gesture in enumerate(unique_gestures_list):\n",
    "        gesture_row = data[(data['Gesture_ID'] == gesture[0]) & (data['Gesture_Num'] == gesture[1])]\n",
    "        if not gesture_row.empty:\n",
    "            gesture_user_df.loc[i, user_id] = gesture\n"
   ]
  },
  {
   "cell_type": "code",
   "execution_count": 28,
   "id": "fa4033f0-2fbc-4c8b-8447-782a643fb192",
   "metadata": {
    "scrolled": true
   },
   "outputs": [
    {
     "data": {
      "text/html": [
       "<div>\n",
       "<style scoped>\n",
       "    .dataframe tbody tr th:only-of-type {\n",
       "        vertical-align: middle;\n",
       "    }\n",
       "\n",
       "    .dataframe tbody tr th {\n",
       "        vertical-align: top;\n",
       "    }\n",
       "\n",
       "    .dataframe thead th {\n",
       "        text-align: right;\n",
       "    }\n",
       "</style>\n",
       "<table border=\"1\" class=\"dataframe\">\n",
       "  <thead>\n",
       "    <tr style=\"text-align: right;\">\n",
       "      <th></th>\n",
       "      <th>P102</th>\n",
       "      <th>P103</th>\n",
       "      <th>P104</th>\n",
       "      <th>P105</th>\n",
       "      <th>P106</th>\n",
       "      <th>P107</th>\n",
       "      <th>P108</th>\n",
       "      <th>P109</th>\n",
       "      <th>P110</th>\n",
       "      <th>P111</th>\n",
       "      <th>...</th>\n",
       "      <th>P126</th>\n",
       "      <th>P127</th>\n",
       "      <th>P128</th>\n",
       "      <th>P132</th>\n",
       "      <th>P004</th>\n",
       "      <th>P005</th>\n",
       "      <th>P006</th>\n",
       "      <th>P008</th>\n",
       "      <th>P010</th>\n",
       "      <th>P011</th>\n",
       "    </tr>\n",
       "  </thead>\n",
       "  <tbody>\n",
       "    <tr>\n",
       "      <th>0</th>\n",
       "      <td>(close, 1)</td>\n",
       "      <td>(close, 1)</td>\n",
       "      <td>(close, 1)</td>\n",
       "      <td>(close, 1)</td>\n",
       "      <td>(close, 1)</td>\n",
       "      <td>(close, 1)</td>\n",
       "      <td>(close, 1)</td>\n",
       "      <td>(close, 1)</td>\n",
       "      <td>(close, 1)</td>\n",
       "      <td>(close, 1)</td>\n",
       "      <td>...</td>\n",
       "      <td>(close, 1)</td>\n",
       "      <td>(close, 1)</td>\n",
       "      <td>(close, 1)</td>\n",
       "      <td>(close, 1)</td>\n",
       "      <td>(close, 1)</td>\n",
       "      <td>(close, 1)</td>\n",
       "      <td>(close, 1)</td>\n",
       "      <td>(close, 1)</td>\n",
       "      <td>(close, 1)</td>\n",
       "      <td>(close, 1)</td>\n",
       "    </tr>\n",
       "    <tr>\n",
       "      <th>1</th>\n",
       "      <td>(close, 10)</td>\n",
       "      <td>(close, 10)</td>\n",
       "      <td>(close, 10)</td>\n",
       "      <td>(close, 10)</td>\n",
       "      <td>(close, 10)</td>\n",
       "      <td>(close, 10)</td>\n",
       "      <td>(close, 10)</td>\n",
       "      <td>(close, 10)</td>\n",
       "      <td>(close, 10)</td>\n",
       "      <td>(close, 10)</td>\n",
       "      <td>...</td>\n",
       "      <td>(close, 10)</td>\n",
       "      <td>(close, 10)</td>\n",
       "      <td>(close, 10)</td>\n",
       "      <td>(close, 10)</td>\n",
       "      <td>(close, 10)</td>\n",
       "      <td>(close, 10)</td>\n",
       "      <td>(close, 10)</td>\n",
       "      <td>(close, 10)</td>\n",
       "      <td>(close, 10)</td>\n",
       "      <td>(close, 10)</td>\n",
       "    </tr>\n",
       "    <tr>\n",
       "      <th>2</th>\n",
       "      <td>(close, 2)</td>\n",
       "      <td>(close, 2)</td>\n",
       "      <td>(close, 2)</td>\n",
       "      <td>(close, 2)</td>\n",
       "      <td>(close, 2)</td>\n",
       "      <td>(close, 2)</td>\n",
       "      <td>(close, 2)</td>\n",
       "      <td>(close, 2)</td>\n",
       "      <td>(close, 2)</td>\n",
       "      <td>(close, 2)</td>\n",
       "      <td>...</td>\n",
       "      <td>(close, 2)</td>\n",
       "      <td>(close, 2)</td>\n",
       "      <td>(close, 2)</td>\n",
       "      <td>(close, 2)</td>\n",
       "      <td>(close, 2)</td>\n",
       "      <td>(close, 2)</td>\n",
       "      <td>(close, 2)</td>\n",
       "      <td>(close, 2)</td>\n",
       "      <td>(close, 2)</td>\n",
       "      <td>(close, 2)</td>\n",
       "    </tr>\n",
       "    <tr>\n",
       "      <th>3</th>\n",
       "      <td>(close, 3)</td>\n",
       "      <td>(close, 3)</td>\n",
       "      <td>(close, 3)</td>\n",
       "      <td>(close, 3)</td>\n",
       "      <td>(close, 3)</td>\n",
       "      <td>(close, 3)</td>\n",
       "      <td>(close, 3)</td>\n",
       "      <td>(close, 3)</td>\n",
       "      <td>(close, 3)</td>\n",
       "      <td>(close, 3)</td>\n",
       "      <td>...</td>\n",
       "      <td>(close, 3)</td>\n",
       "      <td>(close, 3)</td>\n",
       "      <td>(close, 3)</td>\n",
       "      <td>(close, 3)</td>\n",
       "      <td>(close, 3)</td>\n",
       "      <td>(close, 3)</td>\n",
       "      <td>(close, 3)</td>\n",
       "      <td>(close, 3)</td>\n",
       "      <td>(close, 3)</td>\n",
       "      <td>(close, 3)</td>\n",
       "    </tr>\n",
       "    <tr>\n",
       "      <th>4</th>\n",
       "      <td>(close, 4)</td>\n",
       "      <td>(close, 4)</td>\n",
       "      <td>(close, 4)</td>\n",
       "      <td>(close, 4)</td>\n",
       "      <td>(close, 4)</td>\n",
       "      <td>(close, 4)</td>\n",
       "      <td>(close, 4)</td>\n",
       "      <td>(close, 4)</td>\n",
       "      <td>(close, 4)</td>\n",
       "      <td>(close, 4)</td>\n",
       "      <td>...</td>\n",
       "      <td>(close, 4)</td>\n",
       "      <td>(close, 4)</td>\n",
       "      <td>(close, 4)</td>\n",
       "      <td>(close, 4)</td>\n",
       "      <td>(close, 4)</td>\n",
       "      <td>(close, 4)</td>\n",
       "      <td>(close, 4)</td>\n",
       "      <td>(close, 4)</td>\n",
       "      <td>(close, 4)</td>\n",
       "      <td>(close, 4)</td>\n",
       "    </tr>\n",
       "    <tr>\n",
       "      <th>...</th>\n",
       "      <td>...</td>\n",
       "      <td>...</td>\n",
       "      <td>...</td>\n",
       "      <td>...</td>\n",
       "      <td>...</td>\n",
       "      <td>...</td>\n",
       "      <td>...</td>\n",
       "      <td>...</td>\n",
       "      <td>...</td>\n",
       "      <td>...</td>\n",
       "      <td>...</td>\n",
       "      <td>...</td>\n",
       "      <td>...</td>\n",
       "      <td>...</td>\n",
       "      <td>...</td>\n",
       "      <td>...</td>\n",
       "      <td>...</td>\n",
       "      <td>...</td>\n",
       "      <td>...</td>\n",
       "      <td>...</td>\n",
       "      <td>...</td>\n",
       "    </tr>\n",
       "    <tr>\n",
       "      <th>165</th>\n",
       "      <td>(zoom-out, 3)</td>\n",
       "      <td>(zoom-out, 3)</td>\n",
       "      <td>(zoom-out, 3)</td>\n",
       "      <td>(zoom-out, 3)</td>\n",
       "      <td>(zoom-out, 3)</td>\n",
       "      <td>(zoom-out, 3)</td>\n",
       "      <td>(zoom-out, 3)</td>\n",
       "      <td>(zoom-out, 3)</td>\n",
       "      <td>(zoom-out, 3)</td>\n",
       "      <td>(zoom-out, 3)</td>\n",
       "      <td>...</td>\n",
       "      <td>(zoom-out, 3)</td>\n",
       "      <td>(zoom-out, 3)</td>\n",
       "      <td>(zoom-out, 3)</td>\n",
       "      <td>(zoom-out, 3)</td>\n",
       "      <td>(zoom-out, 3)</td>\n",
       "      <td>(zoom-out, 3)</td>\n",
       "      <td>(zoom-out, 3)</td>\n",
       "      <td>(zoom-out, 3)</td>\n",
       "      <td>(zoom-out, 3)</td>\n",
       "      <td>(zoom-out, 3)</td>\n",
       "    </tr>\n",
       "    <tr>\n",
       "      <th>166</th>\n",
       "      <td>(zoom-out, 4)</td>\n",
       "      <td>(zoom-out, 4)</td>\n",
       "      <td>(zoom-out, 4)</td>\n",
       "      <td>(zoom-out, 4)</td>\n",
       "      <td>(zoom-out, 4)</td>\n",
       "      <td>(zoom-out, 4)</td>\n",
       "      <td>(zoom-out, 4)</td>\n",
       "      <td>(zoom-out, 4)</td>\n",
       "      <td>(zoom-out, 4)</td>\n",
       "      <td>(zoom-out, 4)</td>\n",
       "      <td>...</td>\n",
       "      <td>(zoom-out, 4)</td>\n",
       "      <td>(zoom-out, 4)</td>\n",
       "      <td>(zoom-out, 4)</td>\n",
       "      <td>(zoom-out, 4)</td>\n",
       "      <td>(zoom-out, 4)</td>\n",
       "      <td>(zoom-out, 4)</td>\n",
       "      <td>(zoom-out, 4)</td>\n",
       "      <td>(zoom-out, 4)</td>\n",
       "      <td>(zoom-out, 4)</td>\n",
       "      <td>(zoom-out, 4)</td>\n",
       "    </tr>\n",
       "    <tr>\n",
       "      <th>167</th>\n",
       "      <td>(zoom-out, 5)</td>\n",
       "      <td>(zoom-out, 5)</td>\n",
       "      <td>(zoom-out, 5)</td>\n",
       "      <td>(zoom-out, 5)</td>\n",
       "      <td>(zoom-out, 5)</td>\n",
       "      <td>(zoom-out, 5)</td>\n",
       "      <td>(zoom-out, 5)</td>\n",
       "      <td>(zoom-out, 5)</td>\n",
       "      <td>(zoom-out, 5)</td>\n",
       "      <td>(zoom-out, 5)</td>\n",
       "      <td>...</td>\n",
       "      <td>(zoom-out, 5)</td>\n",
       "      <td>(zoom-out, 5)</td>\n",
       "      <td>(zoom-out, 5)</td>\n",
       "      <td>(zoom-out, 5)</td>\n",
       "      <td>(zoom-out, 5)</td>\n",
       "      <td>(zoom-out, 5)</td>\n",
       "      <td>(zoom-out, 5)</td>\n",
       "      <td>(zoom-out, 5)</td>\n",
       "      <td>(zoom-out, 5)</td>\n",
       "      <td>(zoom-out, 5)</td>\n",
       "    </tr>\n",
       "    <tr>\n",
       "      <th>168</th>\n",
       "      <td>(zoom-out, 8)</td>\n",
       "      <td>(zoom-out, 8)</td>\n",
       "      <td>(zoom-out, 8)</td>\n",
       "      <td>(zoom-out, 8)</td>\n",
       "      <td>(zoom-out, 8)</td>\n",
       "      <td>(zoom-out, 8)</td>\n",
       "      <td>(zoom-out, 8)</td>\n",
       "      <td>(zoom-out, 8)</td>\n",
       "      <td>(zoom-out, 8)</td>\n",
       "      <td>(zoom-out, 8)</td>\n",
       "      <td>...</td>\n",
       "      <td>(zoom-out, 8)</td>\n",
       "      <td>(zoom-out, 8)</td>\n",
       "      <td>(zoom-out, 8)</td>\n",
       "      <td>(zoom-out, 8)</td>\n",
       "      <td>(zoom-out, 8)</td>\n",
       "      <td>(zoom-out, 8)</td>\n",
       "      <td>(zoom-out, 8)</td>\n",
       "      <td>(zoom-out, 8)</td>\n",
       "      <td>(zoom-out, 8)</td>\n",
       "      <td>(zoom-out, 8)</td>\n",
       "    </tr>\n",
       "    <tr>\n",
       "      <th>169</th>\n",
       "      <td>(zoom-out, 9)</td>\n",
       "      <td>(zoom-out, 9)</td>\n",
       "      <td>(zoom-out, 9)</td>\n",
       "      <td>(zoom-out, 9)</td>\n",
       "      <td>(zoom-out, 9)</td>\n",
       "      <td>(zoom-out, 9)</td>\n",
       "      <td>(zoom-out, 9)</td>\n",
       "      <td>(zoom-out, 9)</td>\n",
       "      <td>(zoom-out, 9)</td>\n",
       "      <td>(zoom-out, 9)</td>\n",
       "      <td>...</td>\n",
       "      <td>(zoom-out, 9)</td>\n",
       "      <td>(zoom-out, 9)</td>\n",
       "      <td>(zoom-out, 9)</td>\n",
       "      <td>(zoom-out, 9)</td>\n",
       "      <td>(zoom-out, 9)</td>\n",
       "      <td>(zoom-out, 9)</td>\n",
       "      <td>(zoom-out, 9)</td>\n",
       "      <td>(zoom-out, 9)</td>\n",
       "      <td>(zoom-out, 9)</td>\n",
       "      <td>(zoom-out, 9)</td>\n",
       "    </tr>\n",
       "  </tbody>\n",
       "</table>\n",
       "<p>170 rows × 31 columns</p>\n",
       "</div>"
      ],
      "text/plain": [
       "              P102           P103           P104           P105   \n",
       "0       (close, 1)     (close, 1)     (close, 1)     (close, 1)  \\\n",
       "1      (close, 10)    (close, 10)    (close, 10)    (close, 10)   \n",
       "2       (close, 2)     (close, 2)     (close, 2)     (close, 2)   \n",
       "3       (close, 3)     (close, 3)     (close, 3)     (close, 3)   \n",
       "4       (close, 4)     (close, 4)     (close, 4)     (close, 4)   \n",
       "..             ...            ...            ...            ...   \n",
       "165  (zoom-out, 3)  (zoom-out, 3)  (zoom-out, 3)  (zoom-out, 3)   \n",
       "166  (zoom-out, 4)  (zoom-out, 4)  (zoom-out, 4)  (zoom-out, 4)   \n",
       "167  (zoom-out, 5)  (zoom-out, 5)  (zoom-out, 5)  (zoom-out, 5)   \n",
       "168  (zoom-out, 8)  (zoom-out, 8)  (zoom-out, 8)  (zoom-out, 8)   \n",
       "169  (zoom-out, 9)  (zoom-out, 9)  (zoom-out, 9)  (zoom-out, 9)   \n",
       "\n",
       "              P106           P107           P108           P109   \n",
       "0       (close, 1)     (close, 1)     (close, 1)     (close, 1)  \\\n",
       "1      (close, 10)    (close, 10)    (close, 10)    (close, 10)   \n",
       "2       (close, 2)     (close, 2)     (close, 2)     (close, 2)   \n",
       "3       (close, 3)     (close, 3)     (close, 3)     (close, 3)   \n",
       "4       (close, 4)     (close, 4)     (close, 4)     (close, 4)   \n",
       "..             ...            ...            ...            ...   \n",
       "165  (zoom-out, 3)  (zoom-out, 3)  (zoom-out, 3)  (zoom-out, 3)   \n",
       "166  (zoom-out, 4)  (zoom-out, 4)  (zoom-out, 4)  (zoom-out, 4)   \n",
       "167  (zoom-out, 5)  (zoom-out, 5)  (zoom-out, 5)  (zoom-out, 5)   \n",
       "168  (zoom-out, 8)  (zoom-out, 8)  (zoom-out, 8)  (zoom-out, 8)   \n",
       "169  (zoom-out, 9)  (zoom-out, 9)  (zoom-out, 9)  (zoom-out, 9)   \n",
       "\n",
       "              P110           P111  ...           P126           P127   \n",
       "0       (close, 1)     (close, 1)  ...     (close, 1)     (close, 1)  \\\n",
       "1      (close, 10)    (close, 10)  ...    (close, 10)    (close, 10)   \n",
       "2       (close, 2)     (close, 2)  ...     (close, 2)     (close, 2)   \n",
       "3       (close, 3)     (close, 3)  ...     (close, 3)     (close, 3)   \n",
       "4       (close, 4)     (close, 4)  ...     (close, 4)     (close, 4)   \n",
       "..             ...            ...  ...            ...            ...   \n",
       "165  (zoom-out, 3)  (zoom-out, 3)  ...  (zoom-out, 3)  (zoom-out, 3)   \n",
       "166  (zoom-out, 4)  (zoom-out, 4)  ...  (zoom-out, 4)  (zoom-out, 4)   \n",
       "167  (zoom-out, 5)  (zoom-out, 5)  ...  (zoom-out, 5)  (zoom-out, 5)   \n",
       "168  (zoom-out, 8)  (zoom-out, 8)  ...  (zoom-out, 8)  (zoom-out, 8)   \n",
       "169  (zoom-out, 9)  (zoom-out, 9)  ...  (zoom-out, 9)  (zoom-out, 9)   \n",
       "\n",
       "              P128           P132           P004           P005   \n",
       "0       (close, 1)     (close, 1)     (close, 1)     (close, 1)  \\\n",
       "1      (close, 10)    (close, 10)    (close, 10)    (close, 10)   \n",
       "2       (close, 2)     (close, 2)     (close, 2)     (close, 2)   \n",
       "3       (close, 3)     (close, 3)     (close, 3)     (close, 3)   \n",
       "4       (close, 4)     (close, 4)     (close, 4)     (close, 4)   \n",
       "..             ...            ...            ...            ...   \n",
       "165  (zoom-out, 3)  (zoom-out, 3)  (zoom-out, 3)  (zoom-out, 3)   \n",
       "166  (zoom-out, 4)  (zoom-out, 4)  (zoom-out, 4)  (zoom-out, 4)   \n",
       "167  (zoom-out, 5)  (zoom-out, 5)  (zoom-out, 5)  (zoom-out, 5)   \n",
       "168  (zoom-out, 8)  (zoom-out, 8)  (zoom-out, 8)  (zoom-out, 8)   \n",
       "169  (zoom-out, 9)  (zoom-out, 9)  (zoom-out, 9)  (zoom-out, 9)   \n",
       "\n",
       "              P006           P008           P010           P011  \n",
       "0       (close, 1)     (close, 1)     (close, 1)     (close, 1)  \n",
       "1      (close, 10)    (close, 10)    (close, 10)    (close, 10)  \n",
       "2       (close, 2)     (close, 2)     (close, 2)     (close, 2)  \n",
       "3       (close, 3)     (close, 3)     (close, 3)     (close, 3)  \n",
       "4       (close, 4)     (close, 4)     (close, 4)     (close, 4)  \n",
       "..             ...            ...            ...            ...  \n",
       "165  (zoom-out, 3)  (zoom-out, 3)  (zoom-out, 3)  (zoom-out, 3)  \n",
       "166  (zoom-out, 4)  (zoom-out, 4)  (zoom-out, 4)  (zoom-out, 4)  \n",
       "167  (zoom-out, 5)  (zoom-out, 5)  (zoom-out, 5)  (zoom-out, 5)  \n",
       "168  (zoom-out, 8)  (zoom-out, 8)  (zoom-out, 8)  (zoom-out, 8)  \n",
       "169  (zoom-out, 9)  (zoom-out, 9)  (zoom-out, 9)  (zoom-out, 9)  \n",
       "\n",
       "[170 rows x 31 columns]"
      ]
     },
     "execution_count": 28,
     "metadata": {},
     "output_type": "execute_result"
    }
   ],
   "source": [
    "# Set display options to show all rows and columns\n",
    "#pd.set_option('display.max_rows', None)\n",
    "#pd.set_option('display.max_columns', None)\n",
    "\n",
    "# Display the DataFrame\n",
    "gesture_user_df.head(200)"
   ]
  },
  {
   "cell_type": "code",
   "execution_count": 29,
   "id": "a6a2a27d-d89f-4142-9206-ea53a7ef56c3",
   "metadata": {},
   "outputs": [],
   "source": [
    "# Reset display options to default values\n",
    "pd.reset_option('display.max_rows')\n",
    "pd.reset_option('display.max_columns')"
   ]
  },
  {
   "cell_type": "code",
   "execution_count": 30,
   "id": "f27d1a25-945a-4268-894c-7a47f9564f83",
   "metadata": {},
   "outputs": [],
   "source": [
    "# Iterate over each row in the DataFrame\n",
    "for index, row in gesture_user_df.iterrows():\n",
    "    # Iterate over each user column (except the first one)\n",
    "    for user_id, tuple_value in row.iloc[1:].items():\n",
    "        # Compare the tuple value with the tuple value in the first column\n",
    "        if tuple_value != row[gesture_user_df.columns[0]]:\n",
    "            # Print or store the information about the differing tuples\n",
    "            print(f\"Difference found at row {index}, user {user_id}: {tuple_value} (User {user_id}) vs {row[gesture_user_df.columns[0]]} (User {gesture_user_df.columns[0]})\")\n"
   ]
  },
  {
   "cell_type": "markdown",
   "id": "237d9bea-92e4-40f3-91b8-2f2bb629ec1e",
   "metadata": {},
   "source": [
    "So now it's saying that there are no discrepancies..."
   ]
  },
  {
   "cell_type": "markdown",
   "id": "e17695ac",
   "metadata": {},
   "source": [
    "## Hierarchy / Dendrogram\n",
    "Now, let's investigate a more informed choice, based on measured statistical heterogenity. Could look at Shannon or KL divergence (heatmap), but I'll just look at a dendogram for now."
   ]
  },
  {
   "cell_type": "code",
   "execution_count": 31,
   "id": "0758ba79-4bc1-4c17-8f9a-0d13bf0de44b",
   "metadata": {},
   "outputs": [],
   "source": [
    "# Example of accessing the consistent dataset for a specific user\n",
    "user_id = list(consistent_datasets.keys())[0]\n",
    "consistent_user_data = consistent_datasets[user_id]"
   ]
  },
  {
   "cell_type": "markdown",
   "id": "94eaa269-c482-40d1-8981-6d388ac61ddf",
   "metadata": {},
   "source": [
    "metric: The distance metric to use. The distance function can be ‘braycurtis’, ‘canberra’, ‘chebyshev’, ‘cityblock’, ‘correlation’, ‘cosine’, ‘dice’, ‘euclidean’, ‘hamming’, ‘jaccard’, ‘jensenshannon’, ‘kulczynski1’, ‘mahalanobis’, ‘matching’, ‘minkowski’, ‘rogerstanimoto’, ‘russellrao’, ‘seuclidean’, ‘sokalmichener’, ‘sokalsneath’, ‘sqeuclidean’, ‘yule’.\n",
    "- https://docs.scipy.org/doc/scipy/reference/generated/scipy.spatial.distance.pdist.html\n",
    "> How to choose one... equations are listed and briefely explained in the above docs. Implications/consequences are not covered tho"
   ]
  },
  {
   "cell_type": "code",
   "execution_count": 32,
   "id": "9290a092-4aaa-4fe5-b018-6a723a7ecca3",
   "metadata": {},
   "outputs": [],
   "source": [
    "def calculate_distance(df1, df2, distance_metric='euclidean'):\n",
    "    \"\"\"\n",
    "    Calculate the distance between two sets of gesture data.\n",
    "\n",
    "    Parameters:\n",
    "    - df1: DataFrame containing gesture data for the first user.\n",
    "    - df2: DataFrame containing gesture data for the second user.\n",
    "    - distance_metric: The distance metric to use. Default is 'euclidean'. Other options include 'cosine', 'correlation', etc.\n",
    "\n",
    "    Returns:\n",
    "    - distance: The distance between the two sets of gesture data.\n",
    "    \"\"\"\n",
    "\n",
    "    # Columns to drop\n",
    "    columns_to_drop = ['Participant', 'Gesture_Num', 'Gesture_ID']\n",
    "    gestures1 = df1.drop(columns=columns_to_drop, errors='ignore').values.flatten()\n",
    "    gestures2 = df2.drop(columns=columns_to_drop, errors='ignore').values.flatten()\n",
    "\n",
    "    # Calculate the distance based on the chosen metric\n",
    "    if distance_metric == 'euclidean':\n",
    "        distance = np.linalg.norm(gestures1 - gestures2)\n",
    "    elif distance_metric == 'cosine':\n",
    "        dot_product = np.dot(gestures1, gestures2)\n",
    "        norm1 = np.linalg.norm(gestures1)\n",
    "        norm2 = np.linalg.norm(gestures2)\n",
    "        cosine_similarity = dot_product / (norm1 * norm2)\n",
    "        distance = 1 - cosine_similarity  # Convert similarity to distance\n",
    "    elif distance_metric == 'correlation':\n",
    "        if gestures1.size == 0 or gestures2.size == 0:\n",
    "            raise ValueError(\"Input vectors must not be empty\")\n",
    "        correlation_coefficient = np.corrcoef(gestures1, gestures2)[0, 1]\n",
    "        distance = 1 - correlation_coefficient  # Convert correlation to distance\n",
    "    # Add more distance metrics as needed\n",
    "    else:\n",
    "        raise ValueError(f\"{distance_metric} not supported yet\")\n",
    "\n",
    "    return distance\n",
    "\n",
    "\n",
    "def calculate_inter_user_distances(dataframes, distance_metric='euclidean'):\n",
    "    \"\"\"\n",
    "    Calculate the inter-user distance matrix based on raw gesture data.\n",
    "\n",
    "    Parameters:\n",
    "    - dataframes: A dictionary where keys are user IDs and values are DataFrames containing gesture data.\n",
    "    - distance_metric: The distance metric to use. Default is 'euclidean'. Other options include 'cosine', 'correlation', etc.\n",
    "\n",
    "    Returns:\n",
    "    - inter_user_distances: A square matrix containing the inter-user distances.\n",
    "    \"\"\"\n",
    "\n",
    "    # Initialize an empty matrix to store inter-user distances\n",
    "    num_users = len(dataframes)\n",
    "    inter_user_distances = np.zeros((num_users, num_users))\n",
    "\n",
    "    ## Generate combinations of users\n",
    "    #user_combinations = combinations(dataframes.keys(), 2)\n",
    "    # Calculate distances between each pair of users\n",
    "    #for i, (user_id1, user_id2) in enumerate(user_combinations):\n",
    "    #    # Get the respective DataFrames for the pair of users\n",
    "    #    df1 = dataframes[user_id1]\n",
    "    #    df2 = dataframes[user_id2]\n",
    "    #    # Calculate the distance between two users' gesture data\n",
    "    #    distance = calculate_distance(df1, df2, distance_metric)\n",
    "    #    row_index = i // num_users\n",
    "    #    column_index = i % num_users\n",
    "    #    # Assign the distance to the corresponding positions in the matrix\n",
    "    #    inter_user_distances[row_index, column_index] = distance\n",
    "    #    inter_user_distances[column_index, row_index] = distance\n",
    "\n",
    "    for i, (user_id1, df1) in enumerate(dataframes.items()):\n",
    "        for j, (user_id2, df2) in enumerate(dataframes.items()):\n",
    "            # Calculate the distance between two users' gesture data\n",
    "            distance = calculate_distance(df1, df2, distance_metric)\n",
    "\n",
    "            # Assign the distance to the corresponding positions in the matrix\n",
    "            inter_user_distances[i, j] = distance\n",
    "            inter_user_distances[j, i] = distance  # Symmetric assignment\n",
    "\n",
    "    np.fill_diagonal(inter_user_distances, 0)\n",
    "    return inter_user_distances\n"
   ]
  },
  {
   "cell_type": "code",
   "execution_count": 33,
   "id": "26be744a-9683-4a50-ac15-7cd47409e2dc",
   "metadata": {},
   "outputs": [],
   "source": [
    "num_users = len(list(consistent_datasets.keys()))"
   ]
  },
  {
   "cell_type": "markdown",
   "id": "05fce706-2ef0-483c-9ae7-31265a835416",
   "metadata": {},
   "source": [
    "## Euclidean Distance"
   ]
  },
  {
   "cell_type": "code",
   "execution_count": 34,
   "id": "501f4f0a-1ef9-4f8c-9124-dfce3c5e8356",
   "metadata": {},
   "outputs": [],
   "source": [
    "# Create a dictionary with user IDs as keys and DataFrames as values\n",
    "dataframes = consistent_datasets\n",
    "\n",
    "# Calculate inter-user distances using Euclidean distance\n",
    "user_distances = calculate_inter_user_distances(dataframes, distance_metric='euclidean')\n"
   ]
  },
  {
   "cell_type": "markdown",
   "id": "a3372e4c-9f3f-4148-8477-0673cdd15015",
   "metadata": {},
   "source": [
    "Average"
   ]
  },
  {
   "cell_type": "code",
   "execution_count": 35,
   "id": "4d3569c1-8611-4037-bb06-144a60234c2d",
   "metadata": {},
   "outputs": [
    {
     "data": {
      "image/png": "[encoded data removed]",
      "text/plain": [
       "<Figure size 1000x600 with 1 Axes>"
      ]
     },
     "metadata": {},
     "output_type": "display_data"
    }
   ],
   "source": [
    "# Convert to a condensed distance matrix\n",
    "condensed_distances = squareform(user_distances)\n",
    "# Perform hierarchical clustering\n",
    "linkage_matrix = linkage(condensed_distances, method='average')\n",
    "\n",
    "# Plot dendrogram\n",
    "plt.figure(figsize=(10, 6))\n",
    "dendrogram(linkage_matrix, labels=list(dataframes.keys()))\n",
    "plt.title(\"Hierarchical Clustering Dendrogram: Users\")\n",
    "plt.xlabel(\"User ID\")\n",
    "plt.ylabel(\"Distance\")\n",
    "plt.show()"
   ]
  },
  {
   "cell_type": "markdown",
   "id": "03791877-f69e-4ccc-94b8-93fba9fe2c04",
   "metadata": {},
   "source": [
    "Single"
   ]
  },
  {
   "cell_type": "code",
   "execution_count": 36,
   "id": "9c4d22be-d1fa-47e7-826e-5349b08734d2",
   "metadata": {},
   "outputs": [
    {
     "data": {
      "image/png": "[encoded data removed]",
      "text/plain": [
       "<Figure size 1000x600 with 1 Axes>"
      ]
     },
     "metadata": {},
     "output_type": "display_data"
    }
   ],
   "source": [
    "# Convert to a condensed distance matrix\n",
    "condensed_distances = squareform(user_distances)\n",
    "# Perform hierarchical clustering\n",
    "linkage_matrix = linkage(condensed_distances, method='single')\n",
    "\n",
    "# Plot dendrogram\n",
    "plt.figure(figsize=(10, 6))\n",
    "dendrogram(linkage_matrix, labels=list(dataframes.keys()))\n",
    "plt.title(\"Hierarchical Clustering Dendrogram: Users\")\n",
    "plt.xlabel(\"User ID\")\n",
    "plt.ylabel(\"Distance\")\n",
    "plt.show()"
   ]
  },
  {
   "cell_type": "markdown",
   "id": "bcf008fc-cca0-4df4-a434-3fcd8706a5d2",
   "metadata": {},
   "source": [
    "Centroid"
   ]
  },
  {
   "cell_type": "code",
   "execution_count": 37,
   "id": "85c00c05-0385-4024-ba47-4ebe03864593",
   "metadata": {},
   "outputs": [
    {
     "data": {
      "image/png": "[encoded data removed]",
      "text/plain": [
       "<Figure size 1000x600 with 1 Axes>"
      ]
     },
     "metadata": {},
     "output_type": "display_data"
    }
   ],
   "source": [
    "# Convert to a condensed distance matrix\n",
    "condensed_distances = squareform(user_distances)\n",
    "# Perform hierarchical clustering\n",
    "linkage_matrix = linkage(condensed_distances, method='centroid')\n",
    "\n",
    "# Plot dendrogram\n",
    "plt.figure(figsize=(10, 6))\n",
    "dendrogram(linkage_matrix, labels=list(dataframes.keys()))\n",
    "plt.title(\"Hierarchical Clustering Dendrogram: Users\")\n",
    "plt.xlabel(\"User ID\")\n",
    "plt.ylabel(\"Distance\")\n",
    "plt.show()"
   ]
  },
  {
   "cell_type": "markdown",
   "id": "7335d138-6231-481b-ae3a-39b6025dcd74",
   "metadata": {},
   "source": [
    "## Cosine Similarity"
   ]
  },
  {
   "cell_type": "code",
   "execution_count": 38,
   "id": "cea09ab0-4788-4cf8-942f-affba194efa9",
   "metadata": {},
   "outputs": [],
   "source": [
    "# Calculate inter-user distances using Euclidean distance\n",
    "user_distances_cos = calculate_inter_user_distances(dataframes, distance_metric='cosine')\n",
    "# Convert to a condensed distance matrix\n",
    "condensed_distances_cos = squareform(user_distances_cos)"
   ]
  },
  {
   "cell_type": "code",
   "execution_count": 39,
   "id": "0454e361-287e-44c0-95dc-78bb96f68bf7",
   "metadata": {},
   "outputs": [
    {
     "data": {
      "image/png": "[encoded data removed]",
      "text/plain": [
       "<Figure size 1000x600 with 1 Axes>"
      ]
     },
     "metadata": {},
     "output_type": "display_data"
    }
   ],
   "source": [
    "linkage_matrix = linkage(condensed_distances_cos, method='average')\n",
    "\n",
    "# Plot dendrogram\n",
    "plt.figure(figsize=(10, 6))\n",
    "dendrogram(linkage_matrix, labels=list(dataframes.keys()))\n",
    "plt.title(\"Hierarchical Clustering Dendrogram: Users\")\n",
    "plt.xlabel(\"User ID\")\n",
    "plt.ylabel(\"Distance\")\n",
    "plt.show()"
   ]
  },
  {
   "cell_type": "code",
   "execution_count": 40,
   "id": "49ae5cae-f399-4ace-862f-266f19887ec9",
   "metadata": {},
   "outputs": [
    {
     "data": {
      "image/png": "[encoded data removed]",
      "text/plain": [
       "<Figure size 1000x600 with 1 Axes>"
      ]
     },
     "metadata": {},
     "output_type": "display_data"
    }
   ],
   "source": [
    "linkage_matrix = linkage(condensed_distances_cos, method='single')\n",
    "\n",
    "# Plot dendrogram\n",
    "plt.figure(figsize=(10, 6))\n",
    "dendrogram(linkage_matrix, labels=list(dataframes.keys()))\n",
    "plt.title(\"Hierarchical Clustering Dendrogram: Users\")\n",
    "plt.xlabel(\"User ID\")\n",
    "plt.ylabel(\"Distance\")\n",
    "plt.show()"
   ]
  },
  {
   "cell_type": "code",
   "execution_count": 41,
   "id": "ca62176b-7aa8-411e-8222-c2f84abf47a9",
   "metadata": {},
   "outputs": [
    {
     "data": {
      "image/png": "[encoded data removed]",
      "text/plain": [
       "<Figure size 1000x600 with 1 Axes>"
      ]
     },
     "metadata": {},
     "output_type": "display_data"
    }
   ],
   "source": [
    "linkage_matrix = linkage(condensed_distances_cos, method='centroid')\n",
    "\n",
    "# Plot dendrogram\n",
    "plt.figure(figsize=(10, 6))\n",
    "dendrogram(linkage_matrix, labels=list(dataframes.keys()))\n",
    "plt.title(\"Hierarchical Clustering Dendrogram: Users\")\n",
    "plt.xlabel(\"User ID\")\n",
    "plt.ylabel(\"Distance\")\n",
    "plt.show()"
   ]
  },
  {
   "cell_type": "markdown",
   "id": "6b123e44-091e-4d30-87ef-1be7d3f5da10",
   "metadata": {},
   "source": [
    "## Correlation Distance"
   ]
  },
  {
   "cell_type": "code",
   "execution_count": 42,
   "id": "1f1534a2-4d6c-489e-bcb5-c31c6a2d5805",
   "metadata": {},
   "outputs": [],
   "source": [
    "# Calculate inter-user distances using Euclidean distance\n",
    "user_distances_cor = calculate_inter_user_distances(dataframes, distance_metric='correlation')\n",
    "# Convert to a condensed distance matrix\n",
    "condensed_distances_cor = squareform(user_distances_cor)"
   ]
  },
  {
   "cell_type": "code",
   "execution_count": 43,
   "id": "6d5155b5-1014-4938-8110-94a579d71d86",
   "metadata": {},
   "outputs": [
    {
     "data": {
      "image/png": "[encoded data removed]",
      "text/plain": [
       "<Figure size 1000x600 with 1 Axes>"
      ]
     },
     "metadata": {},
     "output_type": "display_data"
    }
   ],
   "source": [
    "linkage_matrix = linkage(condensed_distances_cor, method='average')\n",
    "\n",
    "# Plot dendrogram\n",
    "plt.figure(figsize=(10, 6))\n",
    "dendrogram(linkage_matrix, labels=list(dataframes.keys()))\n",
    "plt.title(\"Hierarchical Clustering Dendrogram: Users\")\n",
    "plt.xlabel(\"User ID\")\n",
    "plt.ylabel(\"Distance\")\n",
    "plt.show()"
   ]
  },
  {
   "cell_type": "code",
   "execution_count": 44,
   "id": "a0b24a02-8c49-448e-8d29-b60a2341cfe1",
   "metadata": {},
   "outputs": [
    {
     "data": {
      "image/png": "[encoded data removed]",
      "text/plain": [
       "<Figure size 1000x600 with 1 Axes>"
      ]
     },
     "metadata": {},
     "output_type": "display_data"
    }
   ],
   "source": [
    "linkage_matrix = linkage(condensed_distances_cor, method='single')\n",
    "\n",
    "# Plot dendrogram\n",
    "plt.figure(figsize=(10, 6))\n",
    "dendrogram(linkage_matrix, labels=list(dataframes.keys()))\n",
    "plt.title(\"Hierarchical Clustering Dendrogram: Users\")\n",
    "plt.xlabel(\"User ID\")\n",
    "plt.ylabel(\"Distance\")\n",
    "plt.show()"
   ]
  },
  {
   "cell_type": "code",
   "execution_count": 45,
   "id": "1b1a78bb-075f-4e4e-b442-043ab249a37a",
   "metadata": {},
   "outputs": [
    {
     "data": {
      "image/png": "[encoded data removed]",
      "text/plain": [
       "<Figure size 1000x600 with 1 Axes>"
      ]
     },
     "metadata": {},
     "output_type": "display_data"
    }
   ],
   "source": [
    "linkage_matrix = linkage(condensed_distances_cor, method='centroid')\n",
    "\n",
    "# Plot dendrogram\n",
    "plt.figure(figsize=(10, 6))\n",
    "dendrogram(linkage_matrix, labels=list(dataframes.keys()))\n",
    "plt.title(\"Hierarchical Clustering Dendrogram: Users\")\n",
    "plt.xlabel(\"User ID\")\n",
    "plt.ylabel(\"Distance\")\n",
    "plt.show()"
   ]
  },
  {
   "cell_type": "code",
   "execution_count": 46,
   "id": "63b69d28-2550-455f-8d19-8c09567dda12",
   "metadata": {},
   "outputs": [
    {
     "ename": "AssertionError",
     "evalue": "",
     "output_type": "error",
     "traceback": [
      "\u001b[1;31m---------------------------------------------------------------------------\u001b[0m",
      "\u001b[1;31mAssertionError\u001b[0m                            Traceback (most recent call last)",
      "Cell \u001b[1;32mIn[46], line 1\u001b[0m\n\u001b[1;32m----> 1\u001b[0m \u001b[38;5;28;01massert\u001b[39;00m(\u001b[38;5;28;01mFalse\u001b[39;00m)\n",
      "\u001b[1;31mAssertionError\u001b[0m: "
     ]
    }
   ],
   "source": [
    "assert(False)"
   ]
  },
  {
   "cell_type": "markdown",
   "id": "89b5e293-577e-472f-980c-285b6b1b02b8",
   "metadata": {},
   "source": [
    "# Naive Approach: Full Dendrogram\n",
    "This takes forever to run and can't really be visualized since there's 6000+ individual gestures (dendrogram is enormous, still not even sure if it can register. Kernel dies trying to render..."
   ]
  },
  {
   "cell_type": "code",
   "execution_count": null,
   "id": "0a4eb5a2",
   "metadata": {},
   "outputs": [],
   "source": [
    "print(\"Starting\")\n",
    "\n",
    "blocksize = 64\n",
    "num_signal_features = 40\n",
    "n_gestures = PCA_df.shape[0]//blocksize\n",
    "\n",
    "# Reshape data to separate trials for each client\n",
    "reshaped_data = PCA_df.iloc[:, 3:].to_numpy().reshape(n_gestures, blocksize, num_signal_features)\n",
    "inter_subject_distances = np.zeros((n_gestures, n_gestures))\n",
    "# Calculate pairwise distances between clients' trial data\n",
    "start_time = time.time()\n",
    "for i in range(n_gestures):\n",
    "    if i%200==0:\n",
    "        print(f\"{i}/{n_gestures}\")\n",
    "    for j in range(i + 1, n_gestures): # Can skip i since it would just be 0 (eg the diagonal)\n",
    "        distance = np.mean(np.linalg.norm(reshaped_data[i] - reshaped_data[j], axis=1))\n",
    "        inter_subject_distances[i, j] = distance\n",
    "        inter_subject_distances[j, i] = distance\n",
    "print(f\"Completed in {time.time() - start_time}s\")"
   ]
  },
  {
   "cell_type": "code",
   "execution_count": null,
   "id": "26605aa2-60c5-40b5-9bba-3195b867da1c",
   "metadata": {},
   "outputs": [],
   "source": [
    "# Convert inter-subject distances to a condensed distance matrix\n",
    "condensed_distances = squareform(inter_subject_distances)"
   ]
  },
  {
   "cell_type": "markdown",
   "id": "46450270-89cc-40df-9241-1c778f0e6efa",
   "metadata": {},
   "source": [
    "Kernel dies here..."
   ]
  },
  {
   "cell_type": "code",
   "execution_count": null,
   "id": "42052b03-0dd6-47fc-91f2-0960da7605ea",
   "metadata": {},
   "outputs": [],
   "source": [
    "# Perform hierarchical clustering\n",
    "\n",
    "start_time = time.time()\n",
    "\n",
    "linkage_matrix_single = linkage(condensed_distances, method='single')\n",
    "# Plot dendrogram\n",
    "plt.figure(figsize=(10, 6))\n",
    "dendrogram(linkage_matrix_single, labels=np.arange(num_gestures))\n",
    "plt.title(\"Hierarchical Clustering Dendrogram: PCA 40D\")\n",
    "plt.xlabel(\"Gesture Index\")\n",
    "plt.ylabel(\"Distance\")\n",
    "plt.show()\n",
    "\n",
    "print(f\"Completed in {time.time() - start_time}s\")"
   ]
  },
  {
   "cell_type": "markdown",
   "id": "dcc19519-4189-49c3-9240-c973d7e480e7",
   "metadata": {},
   "source": [
    "Does not handle data assymetries (eg different dataset sizes between clients)\n",
    "- Should I calculate distances between clients, or between gestures? ... Ideally both...\n",
    "- Gestures should be easy, it will just be ugly to visualize\n",
    "- By client will be difficult because presumably clients have different numbers of trials/gestures present... not sure what to fill those missing ones with (presumably not just 0s since this is a distance matrix...)"
   ]
  },
  {
   "cell_type": "code",
   "execution_count": null,
   "id": "1c0d8f41-7799-443f-b0d8-f2950ed91f50",
   "metadata": {},
   "outputs": [],
   "source": [
    "# This code is not ready to run yet... [trying to do it on the basis of user...]\n",
    "\n",
    "n_clients = len(data_df['Participant'].unique())\n",
    "n_trials = 8\n",
    "# Flatten data for easy computation\n",
    "flattened_data = np.vstack(data_clients2)\n",
    "# Reshape data to separate trials for each client\n",
    "reshaped_data = flattened_data.reshape(n_clients, n_trials, -1)\n",
    "# Calculate pairwise distances between clients' trial data\n",
    "inter_subject_distances = np.zeros((n_clients, n_clients))\n",
    "for i in range(n_clients):\n",
    "    for j in range(i + 1, n_clients):\n",
    "        distance = np.mean(np.linalg.norm(reshaped_data[i] - reshaped_data[j], axis=1))\n",
    "        inter_subject_distances[i, j] = distance\n",
    "        inter_subject_distances[j, i] = distance\n",
    "# Convert inter-subject distances to a condensed distance matrix\n",
    "condensed_distances = squareform(inter_subject_distances)\n",
    "\n",
    "# Perform hierarchical clustering\n",
    "linkage_matrix_single = linkage(condensed_distances, method='single')\n",
    "# Plot dendrogram\n",
    "plt.figure(figsize=(10, 6))\n",
    "dendrogram(linkage_matrix_single, labels=np.arange(n_clients))\n",
    "plt.title(\"Hierarchical Clustering Dendrogram\")\n",
    "plt.xlabel(\"Client Index\")\n",
    "plt.ylabel(\"Distance\")\n",
    "plt.show()"
   ]
  },
  {
   "cell_type": "code",
   "execution_count": null,
   "id": "7dce2abb",
   "metadata": {},
   "outputs": [],
   "source": []
  }
 ],
 "metadata": {
  "kernelspec": {
   "display_name": "Python 3 (ipykernel)",
   "language": "python",
   "name": "python3"
  },
  "language_info": {
   "codemirror_mode": {
    "name": "ipython",
    "version": 3
   },
   "file_extension": ".py",
   "mimetype": "text/x-python",
   "name": "python",
   "nbconvert_exporter": "python",
   "pygments_lexer": "ipython3",
   "version": "3.10.12"
  }
 },
 "nbformat": 4,
 "nbformat_minor": 5
}
